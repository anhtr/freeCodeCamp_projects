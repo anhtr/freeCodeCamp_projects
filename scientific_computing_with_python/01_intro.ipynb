{
  "nbformat": 4,
  "nbformat_minor": 0,
  "metadata": {
    "colab": {
      "name": "Untitled0.ipynb",
      "provenance": [],
      "authorship_tag": "ABX9TyPrzcXxNdrBNx/9kvOhtJdI",
      "include_colab_link": true
    },
    "kernelspec": {
      "name": "python3",
      "display_name": "Python 3"
    },
    "language_info": {
      "name": "python"
    }
  },
  "cells": [
    {
      "cell_type": "markdown",
      "metadata": {
        "id": "view-in-github",
        "colab_type": "text"
      },
      "source": [
        "<a href=\"https://colab.research.google.com/github/anhtr/freeCodeCamp_projects/blob/master/scientific_computing_with_python/01_intro.ipynb\" target=\"_parent\"><img src=\"https://colab.research.google.com/assets/colab-badge.svg\" alt=\"Open In Colab\"/></a>"
      ]
    },
    {
      "cell_type": "markdown",
      "metadata": {
        "id": "wlgT12Suv9-h"
      },
      "source": [
        "Simple assigning and printing"
      ]
    },
    {
      "cell_type": "code",
      "metadata": {
        "id": "6kwUA4ZDuLOA",
        "colab": {
          "base_uri": "https://localhost:8080/"
        },
        "outputId": "b4afe33f-1bd4-4468-e824-549b6ab9829f"
      },
      "source": [
        "x = 6\n",
        "print(x)"
      ],
      "execution_count": 1,
      "outputs": [
        {
          "output_type": "stream",
          "text": [
            "6\n"
          ],
          "name": "stdout"
        }
      ]
    }
  ]
}