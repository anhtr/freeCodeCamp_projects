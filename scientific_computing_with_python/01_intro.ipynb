{
  "nbformat": 4,
  "nbformat_minor": 0,
  "metadata": {
    "colab": {
      "name": "01_intro.ipynb",
      "provenance": [],
      "collapsed_sections": [],
      "mount_file_id": "1baYqvabosm4cRIzI_0aurqC-jCXg-uLi",
      "authorship_tag": "ABX9TyO/WeS1uT9Ekz4QQ3Ycj8uS",
      "include_colab_link": true
    },
    "kernelspec": {
      "name": "python3",
      "display_name": "Python 3"
    },
    "language_info": {
      "name": "python"
    }
  },
  "cells": [
    {
      "cell_type": "markdown",
      "metadata": {
        "id": "view-in-github",
        "colab_type": "text"
      },
      "source": [
        "<a href=\"https://colab.research.google.com/github/anhtr/freeCodeCamp_projects/blob/master/scientific_computing_with_python/01_intro.ipynb\" target=\"_parent\"><img src=\"https://colab.research.google.com/assets/colab-badge.svg\" alt=\"Open In Colab\"/></a>"
      ]
    },
    {
      "cell_type": "markdown",
      "metadata": {
        "id": "wlgT12Suv9-h"
      },
      "source": [
        "**Simple assigning and printing**"
      ]
    },
    {
      "cell_type": "code",
      "metadata": {
        "id": "6kwUA4ZDuLOA",
        "colab": {
          "base_uri": "https://localhost:8080/"
        },
        "outputId": "b4afe33f-1bd4-4468-e824-549b6ab9829f"
      },
      "source": [
        "x = 6\n",
        "print(x)"
      ],
      "execution_count": null,
      "outputs": [
        {
          "output_type": "stream",
          "text": [
            "6\n"
          ],
          "name": "stdout"
        }
      ]
    },
    {
      "cell_type": "code",
      "metadata": {
        "colab": {
          "base_uri": "https://localhost:8080/"
        },
        "id": "CsjmZfniw5xx",
        "outputId": "75869a92-d5a7-4b92-d52b-734c7f49e75f"
      },
      "source": [
        "x = 43\n",
        "x = x + 1\n",
        "print(x)"
      ],
      "execution_count": null,
      "outputs": [
        {
          "output_type": "stream",
          "text": [
            "44\n"
          ],
          "name": "stdout"
        }
      ]
    },
    {
      "cell_type": "markdown",
      "metadata": {
        "id": "2HnHmzYux5tk"
      },
      "source": [
        "**Operator precidence rules**\n",
        "1. Parentheses ()\n",
        "2. Exponentiation **\n",
        "3. Multiplication *, division /, remainder %\n",
        "4. Addition +, substraction -\n",
        "5. Left to right"
      ]
    },
    {
      "cell_type": "code",
      "metadata": {
        "colab": {
          "base_uri": "https://localhost:8080/"
        },
        "id": "OwdeyotbxyP0",
        "outputId": "dfc51ff1-8ffa-4da7-b936-b98aa0a393e5"
      },
      "source": [
        "1 + 2 * 3**3 + 4 / 6 % 5"
      ],
      "execution_count": null,
      "outputs": [
        {
          "output_type": "execute_result",
          "data": {
            "text/plain": [
              "55.666666666666664"
            ]
          },
          "metadata": {
            "tags": []
          },
          "execution_count": 5
        }
      ]
    },
    {
      "cell_type": "markdown",
      "metadata": {
        "id": "8eLzQBVJzcuI"
      },
      "source": [
        "**Types**: int vs float"
      ]
    },
    {
      "cell_type": "code",
      "metadata": {
        "id": "8PXfHjTazf_p",
        "colab": {
          "base_uri": "https://localhost:8080/"
        },
        "outputId": "dd42ffe6-8c6a-4310-e215-30e2b8e9c77c"
      },
      "source": [
        "type(1) # int\n",
        "type(98.6) # float\n",
        "type(3/2) # float\n",
        "type(4/2) # float\n",
        "type(float(10) + int(1)) # float"
      ],
      "execution_count": null,
      "outputs": [
        {
          "output_type": "execute_result",
          "data": {
            "text/plain": [
              "float"
            ]
          },
          "metadata": {
            "tags": []
          },
          "execution_count": 3
        }
      ]
    },
    {
      "cell_type": "markdown",
      "metadata": {
        "id": "6YTvjGXi0of6"
      },
      "source": [
        "Types: numeric-string conversion"
      ]
    },
    {
      "cell_type": "code",
      "metadata": {
        "id": "JUmHgySW0nhF"
      },
      "source": [
        "float(\"1\") # 1.0\n",
        "int(\"1\") # 1\n",
        "float(\"1a\") # ValueError: could not convert string to float: '1a'"
      ],
      "execution_count": null,
      "outputs": []
    },
    {
      "cell_type": "markdown",
      "metadata": {
        "id": "n3d5XBbQ1Pt5"
      },
      "source": [
        "**User input**"
      ]
    },
    {
      "cell_type": "code",
      "metadata": {
        "id": "YRzlBskM0ePP"
      },
      "source": [
        "n = input(\"Hello, what's your name? \")\n",
        "print(\"Welcome,\", n)"
      ],
      "execution_count": null,
      "outputs": []
    },
    {
      "cell_type": "markdown",
      "metadata": {
        "id": "Vo4ndEhjE9Sy"
      },
      "source": [
        "**Conditional Execution:**\n",
        "- has a : after if and for\n",
        "- Indent = scope\n",
        "- blank lines and comments are ignored with regard to indentation\n",
        "- Turn off tabs"
      ]
    },
    {
      "cell_type": "markdown",
      "metadata": {
        "id": "0DAKI8wOK8sM"
      },
      "source": [
        "Operators: > < == similar to R\n",
        "`is` and `is not` is stronger than == and != because they also check for type (0 is 0.0 will be False)"
      ]
    },
    {
      "cell_type": "code",
      "metadata": {
        "colab": {
          "base_uri": "https://localhost:8080/"
        },
        "id": "K2B9VpUrFfqj",
        "outputId": "a3257cb6-8d41-441f-d2bb-f07bf0ff9492"
      },
      "source": [
        "x = 0\n",
        "if x == 0:\n",
        "  print('x is 0')\n",
        "elif x < 0:\n",
        "  print('x is less than 0')\n",
        "else:\n",
        "  print('x is more than 0')\n",
        "print('All done!')"
      ],
      "execution_count": null,
      "outputs": [
        {
          "output_type": "stream",
          "text": [
            "x is 0\n",
            "All done!\n"
          ],
          "name": "stdout"
        }
      ]
    },
    {
      "cell_type": "markdown",
      "metadata": {
        "id": "TYZ4j8OfHFVb"
      },
      "source": [
        "Try/except\n",
        "- If code in try work,  except is skipped\n",
        "- If code in try fails, jumps to except"
      ]
    },
    {
      "cell_type": "code",
      "metadata": {
        "colab": {
          "base_uri": "https://localhost:8080/"
        },
        "id": "hyBWV4MzGhjL",
        "outputId": "dbf117c3-dfce-4bb2-fc1d-79e59ddaf45c"
      },
      "source": [
        "rawstr = input('Enter a numner:')\n",
        "try:\n",
        "  ival = int(rawstr)\n",
        "except:\n",
        "  ival = -1\n",
        "\n",
        "if ival > 0:\n",
        "  print('Nice work')\n",
        "else:\n",
        "  print('Not a number')"
      ],
      "execution_count": null,
      "outputs": [
        {
          "output_type": "stream",
          "text": [
            "Enter a numner:n\n",
            "Not a number\n"
          ],
          "name": "stdout"
        }
      ]
    },
    {
      "cell_type": "markdown",
      "metadata": {
        "id": "ZP1a-2HhTQJq"
      },
      "source": [
        "**Functions**\n",
        "- Use `def` to define new function\n",
        "- Indent body of function"
      ]
    },
    {
      "cell_type": "code",
      "metadata": {
        "colab": {
          "base_uri": "https://localhost:8080/"
        },
        "id": "aid5yVE4WHEj",
        "outputId": "dad99808-8be6-4a54-e5d2-e337e6d0bc02"
      },
      "source": [
        "def add_one(x):\n",
        "  x = x + 1\n",
        "  return x\n",
        "\n",
        "y = add_one(2)\n",
        "print(y)"
      ],
      "execution_count": null,
      "outputs": [
        {
          "output_type": "stream",
          "text": [
            "3\n"
          ],
          "name": "stdout"
        }
      ]
    },
    {
      "cell_type": "markdown",
      "metadata": {
        "id": "0jcXhy0KChFs"
      },
      "source": [
        "**Loops and iterations**\n",
        "- Beware of loops that never escape (infinite)"
      ]
    },
    {
      "cell_type": "code",
      "metadata": {
        "colab": {
          "base_uri": "https://localhost:8080/"
        },
        "id": "KIC0wUimCgMU",
        "outputId": "77240613-1a1c-44f8-9546-50c9426a1126"
      },
      "source": [
        "n = 3\n",
        "while n> 0:\n",
        "  print(n)\n",
        "  n = n - 1\n",
        "print('Blast off!')"
      ],
      "execution_count": null,
      "outputs": [
        {
          "output_type": "stream",
          "text": [
            "3\n",
            "2\n",
            "1\n",
            "Blast off!\n"
          ],
          "name": "stdout"
        }
      ]
    },
    {
      "cell_type": "markdown",
      "metadata": {
        "id": "fWFhpoG3Ejtv"
      },
      "source": [
        "- `break` to break out of the loop and jumps to the next statement following loop"
      ]
    },
    {
      "cell_type": "code",
      "metadata": {
        "colab": {
          "base_uri": "https://localhost:8080/"
        },
        "id": "CTXEV4xoD7YC",
        "outputId": "a01e82e0-fd9f-4616-a06b-050f41bc727b"
      },
      "source": [
        "while True:\n",
        "  line = input('> ')\n",
        "  if line == 'done':\n",
        "    break\n",
        "  print(line)\n",
        "print('Done')"
      ],
      "execution_count": null,
      "outputs": [
        {
          "output_type": "stream",
          "text": [
            "> 1\n",
            "1\n",
            "> completed\n",
            "completed\n",
            "> done\n",
            "Done\n"
          ],
          "name": "stdout"
        }
      ]
    },
    {
      "cell_type": "markdown",
      "metadata": {
        "id": "CxpOPxsXEmKy"
      },
      "source": [
        "- `continue` ends the current iteration and junps back to the top of the loop and start the next iteration"
      ]
    },
    {
      "cell_type": "code",
      "metadata": {
        "colab": {
          "base_uri": "https://localhost:8080/"
        },
        "id": "nKgV3VxlEy_e",
        "outputId": "19e92226-90d7-41ab-9f0e-4a7cc37edec4"
      },
      "source": [
        "while True:\n",
        "  line = input('> ')\n",
        "  if line[0] == '#':\n",
        "    continue\n",
        "  if line == 'done':\n",
        "    break\n",
        "  print(line)\n",
        "print('Done!')"
      ],
      "execution_count": null,
      "outputs": [
        {
          "output_type": "stream",
          "text": [
            "> 1\n",
            "1\n",
            "> # 1\n",
            "> done\n",
            "Done!\n"
          ],
          "name": "stdout"
        }
      ]
    },
    {
      "cell_type": "markdown",
      "metadata": {
        "id": "250xFrtPF3Nk"
      },
      "source": [
        "- Definite loops loop over a defined number of times"
      ]
    },
    {
      "cell_type": "code",
      "metadata": {
        "colab": {
          "base_uri": "https://localhost:8080/"
        },
        "id": "aUnce0HJGCgt",
        "outputId": "a0b79286-4a0e-4cbf-e27e-9e9714167ce7"
      },
      "source": [
        "for i in [3, 2, 1]:\n",
        "  print(i)\n",
        "print('Blastoff!')"
      ],
      "execution_count": null,
      "outputs": [
        {
          "output_type": "stream",
          "text": [
            "3\n",
            "2\n",
            "1\n",
            "Blastoff!\n"
          ],
          "name": "stdout"
        }
      ]
    },
    {
      "cell_type": "code",
      "metadata": {
        "colab": {
          "base_uri": "https://localhost:8080/"
        },
        "id": "CJ74FmucGV5P",
        "outputId": "e914cae9-216c-4059-8a39-8b4ad50ef3e7"
      },
      "source": [
        "friends = ['A', 'B', 'C']\n",
        "for friend in friends:\n",
        "  print('Happy New Year:', friend)\n",
        "print('I\\'m done with all of you')"
      ],
      "execution_count": null,
      "outputs": [
        {
          "output_type": "stream",
          "text": [
            "Happy New Year: A\n",
            "Happy New Year: B\n",
            "Happy New Year: C\n",
            "I'm done with all of you\n"
          ],
          "name": "stdout"
        }
      ]
    },
    {
      "cell_type": "code",
      "metadata": {
        "colab": {
          "base_uri": "https://localhost:8080/"
        },
        "id": "LtktfJiyImlG",
        "outputId": "07060dc9-d849-4d83-cf3a-2d2859efa976"
      },
      "source": [
        "smallest = None\n",
        "print(\"Before:\", smallest)\n",
        "for itervar in [3, 41, 12, 9, 74, 15]:\n",
        "    if smallest is None or itervar < smallest:\n",
        "        smallest = itervar\n",
        "    print(\"Loop:\", itervar, smallest)\n",
        "print(\"Smallest:\", smallest)"
      ],
      "execution_count": null,
      "outputs": [
        {
          "output_type": "stream",
          "text": [
            "Before: None\n",
            "Loop: 3 3\n",
            "Loop: 41 3\n",
            "Loop: 12 3\n",
            "Loop: 9 3\n",
            "Loop: 74 3\n",
            "Loop: 15 3\n",
            "Smallest: 3\n"
          ],
          "name": "stdout"
        }
      ]
    },
    {
      "cell_type": "markdown",
      "metadata": {
        "id": "Mw2_JrcPXIez"
      },
      "source": [
        "**Strings**\n",
        "- Can be converted to number using int()\n",
        "- Can get single character using index in square bracket.\n",
        "- Index beyond the end of a string will give error.\n",
        "- `len` gives length of string. Can be use to loop through strings with `while`."
      ]
    },
    {
      "cell_type": "code",
      "metadata": {
        "colab": {
          "base_uri": "https://localhost:8080/",
          "height": 36
        },
        "id": "zUnXlMEvXmEw",
        "outputId": "b9821ef5-ed2a-48a5-aac9-c417d79dac6a"
      },
      "source": [
        "\"banana\"[0]"
      ],
      "execution_count": null,
      "outputs": [
        {
          "output_type": "execute_result",
          "data": {
            "application/vnd.google.colaboratory.intrinsic+json": {
              "type": "string"
            },
            "text/plain": [
              "'b'"
            ]
          },
          "metadata": {
            "tags": []
          },
          "execution_count": 2
        }
      ]
    },
    {
      "cell_type": "code",
      "metadata": {
        "colab": {
          "base_uri": "https://localhost:8080/"
        },
        "id": "cdo4vA66YMYt",
        "outputId": "db0239f1-68d4-4892-fdef-8e8f4b72d7d5"
      },
      "source": [
        "len('banana')"
      ],
      "execution_count": null,
      "outputs": [
        {
          "output_type": "execute_result",
          "data": {
            "text/plain": [
              "6"
            ]
          },
          "metadata": {
            "tags": []
          },
          "execution_count": 3
        }
      ]
    },
    {
      "cell_type": "code",
      "metadata": {
        "colab": {
          "base_uri": "https://localhost:8080/"
        },
        "id": "HKzPBtiyY987",
        "outputId": "2539c720-c180-442b-e04d-b95c4d6acdff"
      },
      "source": [
        "word = 'banana'\n",
        "count = 0\n",
        "for letter in word:\n",
        "  if letter == 'a':\n",
        "    count = count + 1\n",
        "print(count)"
      ],
      "execution_count": null,
      "outputs": [
        {
          "output_type": "stream",
          "text": [
            "3\n"
          ],
          "name": "stdout"
        }
      ]
    },
    {
      "cell_type": "markdown",
      "metadata": {
        "id": "dxvZYJmbdC8W"
      },
      "source": [
        "- Slice with colon operator. The second number is \"upto but not including\".\n",
        "- If the second number is beyond the end of the string, it stops at the end."
      ]
    },
    {
      "cell_type": "code",
      "metadata": {
        "colab": {
          "base_uri": "https://localhost:8080/",
          "height": 36
        },
        "id": "LKpzbn0wdbxw",
        "outputId": "e0236489-59a3-4d25-ba00-1d0aa0205e99"
      },
      "source": [
        "'Monty Python'[0:5]"
      ],
      "execution_count": null,
      "outputs": [
        {
          "output_type": "execute_result",
          "data": {
            "application/vnd.google.colaboratory.intrinsic+json": {
              "type": "string"
            },
            "text/plain": [
              "'Monty'"
            ]
          },
          "metadata": {
            "tags": []
          },
          "execution_count": 9
        }
      ]
    },
    {
      "cell_type": "code",
      "metadata": {
        "colab": {
          "base_uri": "https://localhost:8080/",
          "height": 36
        },
        "id": "n9X2joz4di2l",
        "outputId": "546798e9-5cf2-45b2-fd23-589e5e2d2089"
      },
      "source": [
        "'Monty Python'[6:20]"
      ],
      "execution_count": null,
      "outputs": [
        {
          "output_type": "execute_result",
          "data": {
            "application/vnd.google.colaboratory.intrinsic+json": {
              "type": "string"
            },
            "text/plain": [
              "'Python'"
            ]
          },
          "metadata": {
            "tags": []
          },
          "execution_count": 7
        }
      ]
    },
    {
      "cell_type": "code",
      "metadata": {
        "colab": {
          "base_uri": "https://localhost:8080/",
          "height": 36
        },
        "id": "GY7A28nwdt15",
        "outputId": "6f71c90f-4bd9-4b72-cce6-dceb1835d681"
      },
      "source": [
        "'Monty Python'[6:7]"
      ],
      "execution_count": null,
      "outputs": [
        {
          "output_type": "execute_result",
          "data": {
            "application/vnd.google.colaboratory.intrinsic+json": {
              "type": "string"
            },
            "text/plain": [
              "'P'"
            ]
          },
          "metadata": {
            "tags": []
          },
          "execution_count": 10
        }
      ]
    },
    {
      "cell_type": "markdown",
      "metadata": {
        "id": "QqoIbrwZeFng"
      },
      "source": [
        "- `+` means \"concatenate\""
      ]
    },
    {
      "cell_type": "code",
      "metadata": {
        "colab": {
          "base_uri": "https://localhost:8080/"
        },
        "id": "CQenp_YJeGXG",
        "outputId": "8f41b934-0809-4621-e671-15f7d438be7e"
      },
      "source": [
        "a = 'Hello'\n",
        "print(a + 'There')\n",
        "print(a + ' ' + 'There')"
      ],
      "execution_count": null,
      "outputs": [
        {
          "output_type": "stream",
          "text": [
            "HelloThere\n",
            "Hello There\n"
          ],
          "name": "stdout"
        }
      ]
    },
    {
      "cell_type": "markdown",
      "metadata": {
        "id": "3kaEROsKecuK"
      },
      "source": [
        "- `in` as logical operator.\n",
        "- string comparison with `>`, `<`, `==` is case sensitive and weird."
      ]
    },
    {
      "cell_type": "code",
      "metadata": {
        "colab": {
          "base_uri": "https://localhost:8080/"
        },
        "id": "ESAuEcjZerat",
        "outputId": "142240f3-0f69-4f03-9f01-9a34c4b6f3b2"
      },
      "source": [
        "'n' in 'banana'"
      ],
      "execution_count": null,
      "outputs": [
        {
          "output_type": "execute_result",
          "data": {
            "text/plain": [
              "True"
            ]
          },
          "metadata": {
            "tags": []
          },
          "execution_count": 12
        }
      ]
    },
    {
      "cell_type": "markdown",
      "metadata": {
        "id": "8sSZwOSae_EG"
      },
      "source": [
        "- functions built-in for string (string library)\n",
        "- appending the function to string variable.\n",
        "- do not modify original string. resturn a new string that has been altered."
      ]
    },
    {
      "cell_type": "code",
      "metadata": {
        "colab": {
          "base_uri": "https://localhost:8080/"
        },
        "id": "CTtKQxa-ff4s",
        "outputId": "70d387f1-fc7f-4698-b2db-9ced6995e02f"
      },
      "source": [
        "greet = 'Hello'\n",
        "zap = greet.lower()\n",
        "print(greet)\n",
        "print(zap)\n"
      ],
      "execution_count": null,
      "outputs": [
        {
          "output_type": "stream",
          "text": [
            "Hello\n",
            "hello\n"
          ],
          "name": "stdout"
        }
      ]
    },
    {
      "cell_type": "markdown",
      "metadata": {
        "id": "bP1anEDcgX0g"
      },
      "source": [
        "- Use `type` to check class of an object and `dir` to see method associated with that."
      ]
    },
    {
      "cell_type": "code",
      "metadata": {
        "colab": {
          "base_uri": "https://localhost:8080/"
        },
        "id": "o47FiX9ign1I",
        "outputId": "5609a79d-077c-4d24-d9b5-02b3fb90b6d8"
      },
      "source": [
        "stuff = 'Hello World'\n",
        "print(type(stuff))\n",
        "print(dir(stuff))"
      ],
      "execution_count": null,
      "outputs": [
        {
          "output_type": "stream",
          "text": [
            "<class 'str'>\n",
            "['__add__', '__class__', '__contains__', '__delattr__', '__dir__', '__doc__', '__eq__', '__format__', '__ge__', '__getattribute__', '__getitem__', '__getnewargs__', '__gt__', '__hash__', '__init__', '__init_subclass__', '__iter__', '__le__', '__len__', '__lt__', '__mod__', '__mul__', '__ne__', '__new__', '__reduce__', '__reduce_ex__', '__repr__', '__rmod__', '__rmul__', '__setattr__', '__sizeof__', '__str__', '__subclasshook__', 'capitalize', 'casefold', 'center', 'count', 'encode', 'endswith', 'expandtabs', 'find', 'format', 'format_map', 'index', 'isalnum', 'isalpha', 'isascii', 'isdecimal', 'isdigit', 'isidentifier', 'islower', 'isnumeric', 'isprintable', 'isspace', 'istitle', 'isupper', 'join', 'ljust', 'lower', 'lstrip', 'maketrans', 'partition', 'replace', 'rfind', 'rindex', 'rjust', 'rpartition', 'rsplit', 'rstrip', 'split', 'splitlines', 'startswith', 'strip', 'swapcase', 'title', 'translate', 'upper', 'zfill']\n"
          ],
          "name": "stdout"
        }
      ]
    },
    {
      "cell_type": "markdown",
      "metadata": {
        "id": "p_Ani-mThGBk"
      },
      "source": [
        "- Search a string with `find`, which rturn first occurence of the substring.\n",
        "- if substring not found, `find` return -1.\n",
        "- Can be used for parsing and extracting."
      ]
    },
    {
      "cell_type": "code",
      "metadata": {
        "colab": {
          "base_uri": "https://localhost:8080/"
        },
        "id": "wDK_-XzNheFE",
        "outputId": "62fdbeb1-e996-4ebf-8dd1-9ca705f77cc2"
      },
      "source": [
        "'banana'.find('na')"
      ],
      "execution_count": null,
      "outputs": [
        {
          "output_type": "execute_result",
          "data": {
            "text/plain": [
              "2"
            ]
          },
          "metadata": {
            "tags": []
          },
          "execution_count": 16
        }
      ]
    },
    {
      "cell_type": "code",
      "metadata": {
        "colab": {
          "base_uri": "https://localhost:8080/"
        },
        "id": "24SJFxzbjqmE",
        "outputId": "d404718c-e19f-44e3-9b98-1066bc605ea7"
      },
      "source": [
        "data = 'From asdfdsf@dfsd.com Sat Jan 09:09:09 2009'\n",
        "atpos = data.find('@')\n",
        "sppos = data.find(' ', atpos)\n",
        "host = data[atpos + 1 : sppos]\n",
        "print(host)"
      ],
      "execution_count": null,
      "outputs": [
        {
          "output_type": "stream",
          "text": [
            "dfsd.com\n"
          ],
          "name": "stdout"
        }
      ]
    },
    {
      "cell_type": "markdown",
      "metadata": {
        "id": "yk3sP46Rhw1L"
      },
      "source": [
        "- `replace` will search and replace all occurence of the search string with replacement string."
      ]
    },
    {
      "cell_type": "code",
      "metadata": {
        "colab": {
          "base_uri": "https://localhost:8080/",
          "height": 36
        },
        "id": "c4qmC-jwh9Ba",
        "outputId": "438a9698-04dc-4ecb-8a01-6c484e5e572f"
      },
      "source": [
        "greet = 'Hello Bob'\n",
        "greet.replace('o', 'a')"
      ],
      "execution_count": null,
      "outputs": [
        {
          "output_type": "execute_result",
          "data": {
            "application/vnd.google.colaboratory.intrinsic+json": {
              "type": "string"
            },
            "text/plain": [
              "'Hella Bab'"
            ]
          },
          "metadata": {
            "tags": []
          },
          "execution_count": 17
        }
      ]
    },
    {
      "cell_type": "markdown",
      "metadata": {
        "id": "Ms8L-rbLiWg9"
      },
      "source": [
        "- strip whitespace with `lstrip` (left), `rstrip` (right) and `strip` (both sides)"
      ]
    },
    {
      "cell_type": "code",
      "metadata": {
        "colab": {
          "base_uri": "https://localhost:8080/"
        },
        "id": "QzGHn6hgigw7",
        "outputId": "67cf3db5-014c-4e60-b0b9-0da5a3a19a09"
      },
      "source": [
        "greet = '  Hello   '\n",
        "print(greet.lstrip())\n",
        "print(greet.rstrip())\n",
        "print(greet.strip())"
      ],
      "execution_count": null,
      "outputs": [
        {
          "output_type": "stream",
          "text": [
            "Hello   \n",
            "  Hello\n",
            "Hello\n"
          ],
          "name": "stdout"
        }
      ]
    },
    {
      "cell_type": "markdown",
      "metadata": {
        "id": "uV8bR5umjC0t"
      },
      "source": [
        "- prefixes check with `startswith`"
      ]
    },
    {
      "cell_type": "code",
      "metadata": {
        "colab": {
          "base_uri": "https://localhost:8080/"
        },
        "id": "FmYESsXcjJw5",
        "outputId": "06df5e85-cbff-4c2f-d135-d6038b26c2ac"
      },
      "source": [
        "'Hello Bob'.startswith('Hell')"
      ],
      "execution_count": null,
      "outputs": [
        {
          "output_type": "execute_result",
          "data": {
            "text/plain": [
              "True"
            ]
          },
          "metadata": {
            "tags": []
          },
          "execution_count": 19
        }
      ]
    },
    {
      "cell_type": "markdown",
      "metadata": {
        "id": "r1d2WU03lc1Y"
      },
      "source": [
        "**Reading files**\n",
        "- First, tell python which file we are going to work with and what we will be doing with the file. Use `open()`. Open returns a file handle."
      ]
    },
    {
      "cell_type": "code",
      "metadata": {
        "id": "LvB3pDvilhSl"
      },
      "source": [
        "handle = open(filename, mode)\n",
        "# mode is optional, 'r' for read or 'w' for write."
      ],
      "execution_count": null,
      "outputs": []
    },
    {
      "cell_type": "markdown",
      "metadata": {
        "id": "W1O_fSxHqIPG"
      },
      "source": [
        "- Newline character `\\n`. Work in `print` but not when the variable is called. Count as one character."
      ]
    },
    {
      "cell_type": "code",
      "metadata": {
        "colab": {
          "base_uri": "https://localhost:8080/",
          "height": 36
        },
        "id": "GpeVjXSrqHj6",
        "outputId": "0e485f6a-228c-4412-fdf5-22621898a55e"
      },
      "source": [
        "stuff = 'Hello\\nWorld!'\n",
        "stuff"
      ],
      "execution_count": null,
      "outputs": [
        {
          "output_type": "execute_result",
          "data": {
            "application/vnd.google.colaboratory.intrinsic+json": {
              "type": "string"
            },
            "text/plain": [
              "'Hello\\nWorld!'"
            ]
          },
          "metadata": {
            "tags": []
          },
          "execution_count": 1
        }
      ]
    },
    {
      "cell_type": "code",
      "metadata": {
        "colab": {
          "base_uri": "https://localhost:8080/"
        },
        "id": "F_XMtpINqHXo",
        "outputId": "d7bbe176-2cde-4375-c8bc-2d1c1ff83432"
      },
      "source": [
        "print(stuff)"
      ],
      "execution_count": null,
      "outputs": [
        {
          "output_type": "stream",
          "text": [
            "Hello\n",
            "World!\n"
          ],
          "name": "stdout"
        }
      ]
    },
    {
      "cell_type": "markdown",
      "metadata": {
        "id": "NfCPa3Z60bUu"
      },
      "source": [
        "- File handle can be treated as sequence (ordered set) where each line is a string. Can use `for` statement to iterate through."
      ]
    },
    {
      "cell_type": "code",
      "metadata": {
        "id": "x2OJoKNr0sg9"
      },
      "source": [
        "xfile = open('mbox.txt')\n",
        "for cheese in xfile:\n",
        "  print(cheese)"
      ],
      "execution_count": null,
      "outputs": []
    },
    {
      "cell_type": "code",
      "metadata": {
        "id": "rIr4BLRX1Ciu"
      },
      "source": [
        "# counting lines in a file\n",
        "fhand = open('mbox.txt')\n",
        "count = 0\n",
        "for line in fhand:\n",
        "  count = count + 1\n",
        "print('Line Count: ', count)"
      ],
      "execution_count": null,
      "outputs": []
    },
    {
      "cell_type": "code",
      "metadata": {
        "id": "Ue7nF4Vl1-mO"
      },
      "source": [
        "# seaching through file\n",
        "fhand = open('mbox.txt')\n",
        "for line in fhand:\n",
        "  if line.startswith('From:'):\n",
        "    print(line.rstrip())\n",
        "\n",
        "# the print statement will add an addional \\n to each line"
      ],
      "execution_count": null,
      "outputs": []
    },
    {
      "cell_type": "code",
      "metadata": {
        "id": "1n1Tni_L27U-"
      },
      "source": [
        "# use in to select line\n",
        "fhand = open('mbox.txt')\n",
        "for line in fhand:\n",
        "  if not 'abc@.ac.ab' in line:\n",
        "    continue # skip line that doesn't have the needed text\n",
        "  print(line.rstrip())\n"
      ],
      "execution_count": null,
      "outputs": []
    },
    {
      "cell_type": "markdown",
      "metadata": {
        "id": "Ms7MswFS1cpZ"
      },
      "source": [
        "- Can read whole file into a single string"
      ]
    },
    {
      "cell_type": "code",
      "metadata": {
        "id": "Cr9YUTEh1iQo"
      },
      "source": [
        "fhand = open('mbox.txt')\n",
        "inp = fhand.read()"
      ],
      "execution_count": null,
      "outputs": []
    },
    {
      "cell_type": "markdown",
      "metadata": {
        "id": "qTCoM_4C3rp3"
      },
      "source": [
        "- Check for bad files\n"
      ]
    },
    {
      "cell_type": "code",
      "metadata": {
        "colab": {
          "base_uri": "https://localhost:8080/"
        },
        "id": "Xa9m7HZn3wJV",
        "outputId": "cc62aa40-0e2c-4768-97db-d0d8833c869b"
      },
      "source": [
        "fname = input('Enter the file name: ')\n",
        "try:\n",
        "  fhand = open(fname)\n",
        "except:\n",
        "  print('File cannot be opened:', fname)\n",
        "  quit()"
      ],
      "execution_count": null,
      "outputs": [
        {
          "output_type": "stream",
          "text": [
            "Enter the file name: as.txt\n",
            "File cannot be opened: as.txt\n"
          ],
          "name": "stdout"
        }
      ]
    },
    {
      "cell_type": "markdown",
      "metadata": {
        "id": "6-vlSofA6fDW"
      },
      "source": [
        "**Lists**\n",
        "- a kind of collection\n",
        "- allow us to put many values inside a single 'variable', which is nice as a convenient package.\n",
        "- list constant are surrounded by square brackets and the elements are separated by commas.\n",
        "- a list element can be any Python object, even another list.\n",
        "- list can be empty.\n",
        "- Lists are great for definite loops."
      ]
    },
    {
      "cell_type": "code",
      "metadata": {
        "id": "n9ehNVTb7FE-"
      },
      "source": [
        "friends = ['Monica', 'Rachel', 'Phoebe']"
      ],
      "execution_count": null,
      "outputs": []
    },
    {
      "cell_type": "markdown",
      "metadata": {
        "id": "3qiuNft78DHY"
      },
      "source": [
        "- get element using square bracket"
      ]
    },
    {
      "cell_type": "code",
      "metadata": {
        "colab": {
          "base_uri": "https://localhost:8080/"
        },
        "id": "OD2GpQVr8Ks_",
        "outputId": "c18e9ea9-e45c-45ac-817e-e6f550c7296d"
      },
      "source": [
        "x = [1, 2, \"a\"]\n",
        "print(x[1])"
      ],
      "execution_count": null,
      "outputs": [
        {
          "output_type": "stream",
          "text": [
            "2\n"
          ],
          "name": "stdout"
        }
      ]
    },
    {
      "cell_type": "markdown",
      "metadata": {
        "id": "Cz7Vrzg88anZ"
      },
      "source": [
        "- lists are 'mutable' and we can change an element of a list using the index operator.\n",
        "- (remember that strings are immutable)"
      ]
    },
    {
      "cell_type": "code",
      "metadata": {
        "colab": {
          "base_uri": "https://localhost:8080/"
        },
        "id": "GHMFz0TO8ova",
        "outputId": "1ac35f95-ed8f-4213-c72c-9486dbc88f32"
      },
      "source": [
        "y = [1, 2, 3, 4, 5]\n",
        "print(y)\n",
        "y[2] = 'three'\n",
        "print(y)"
      ],
      "execution_count": null,
      "outputs": [
        {
          "output_type": "stream",
          "text": [
            "[1, 2, 3, 4, 5]\n",
            "[1, 2, 'three', 4, 5]\n"
          ],
          "name": "stdout"
        }
      ]
    },
    {
      "cell_type": "markdown",
      "metadata": {
        "id": "nq5r1paP9Evl"
      },
      "source": [
        "- use `len` to count the number of elements in a list or a string or any set or sequence."
      ]
    },
    {
      "cell_type": "code",
      "metadata": {
        "colab": {
          "base_uri": "https://localhost:8080/"
        },
        "id": "-aU6rpBs9Oy3",
        "outputId": "2a38adce-05b5-4bee-9241-fd9c19a1046e"
      },
      "source": [
        "z = [1, 2, 3, 4, 'a', 'b']\n",
        "len(z)"
      ],
      "execution_count": null,
      "outputs": [
        {
          "output_type": "execute_result",
          "data": {
            "text/plain": [
              "6"
            ]
          },
          "metadata": {
            "tags": []
          },
          "execution_count": 5
        }
      ]
    },
    {
      "cell_type": "markdown",
      "metadata": {
        "id": "kKFkbIJ_9iep"
      },
      "source": [
        "- `range` returns a list of number that range from zero to one less than the parameter."
      ]
    },
    {
      "cell_type": "code",
      "metadata": {
        "colab": {
          "base_uri": "https://localhost:8080/"
        },
        "id": "rGu5SqwA9xt2",
        "outputId": "11ad2c4e-d0d1-4838-8949-554e896069d3"
      },
      "source": [
        "print(range(4))\n",
        "friends = ['Ross', 'Joey', 'Chandler']\n",
        "print(range(len(friends)))"
      ],
      "execution_count": null,
      "outputs": [
        {
          "output_type": "stream",
          "text": [
            "range(0, 4)\n",
            "range(0, 3)\n"
          ],
          "name": "stdout"
        }
      ]
    },
    {
      "cell_type": "markdown",
      "metadata": {
        "id": "d4n9kbfWACFn"
      },
      "source": [
        "- Use `+` to concatenate list\n",
        "- Slice using index"
      ]
    },
    {
      "cell_type": "code",
      "metadata": {
        "colab": {
          "base_uri": "https://localhost:8080/"
        },
        "id": "apVKDjgdAMXn",
        "outputId": "13dae60c-e4e3-47d1-a433-9a7e65ceabd4"
      },
      "source": [
        "x = [1, 2, 3, 4]\n",
        "y = ['a', 'b', 'c', 'd']\n",
        "z = x + y\n",
        "print(z)\n",
        "print(z[2:6])\n",
        "print(z[3:])\n"
      ],
      "execution_count": null,
      "outputs": [
        {
          "output_type": "stream",
          "text": [
            "[1, 2, 3, 4, 'a', 'b', 'c', 'd']\n",
            "[3, 4, 'a', 'b']\n",
            "[4, 'a', 'b', 'c', 'd']\n"
          ],
          "name": "stdout"
        }
      ]
    },
    {
      "cell_type": "markdown",
      "metadata": {
        "id": "CIsfVmX7AuqI"
      },
      "source": [
        "- list methods"
      ]
    },
    {
      "cell_type": "code",
      "metadata": {
        "colab": {
          "base_uri": "https://localhost:8080/"
        },
        "id": "jskCnl0nAwyx",
        "outputId": "bfdbbf75-dd8b-434c-c75c-61098a612a02"
      },
      "source": [
        "x = list()\n",
        "print(type(x))\n",
        "print(dir(x))"
      ],
      "execution_count": null,
      "outputs": [
        {
          "output_type": "stream",
          "text": [
            "<class 'list'>\n",
            "['__add__', '__class__', '__contains__', '__delattr__', '__delitem__', '__dir__', '__doc__', '__eq__', '__format__', '__ge__', '__getattribute__', '__getitem__', '__gt__', '__hash__', '__iadd__', '__imul__', '__init__', '__init_subclass__', '__iter__', '__le__', '__len__', '__lt__', '__mul__', '__ne__', '__new__', '__reduce__', '__reduce_ex__', '__repr__', '__reversed__', '__rmul__', '__setattr__', '__setitem__', '__sizeof__', '__str__', '__subclasshook__', 'append', 'clear', 'copy', 'count', 'extend', 'index', 'insert', 'pop', 'remove', 'reverse', 'sort']\n"
          ],
          "name": "stdout"
        }
      ]
    },
    {
      "cell_type": "code",
      "metadata": {
        "colab": {
          "base_uri": "https://localhost:8080/"
        },
        "id": "cdkO2wzNBEOw",
        "outputId": "0d756b9b-813b-40af-ffda-f133417ec79a"
      },
      "source": [
        "# append add element to the end of the list\n",
        "stuff = list()\n",
        "stuff.append('book')\n",
        "stuff.append(99)\n",
        "stuff.append('cookie')\n",
        "print(stuff)"
      ],
      "execution_count": null,
      "outputs": [
        {
          "output_type": "stream",
          "text": [
            "['book', 99, 'cookie']\n"
          ],
          "name": "stdout"
        }
      ]
    },
    {
      "cell_type": "markdown",
      "metadata": {
        "id": "GSYe2ThsBcqc"
      },
      "source": [
        "- `in` and `not in` operators"
      ]
    },
    {
      "cell_type": "code",
      "metadata": {
        "colab": {
          "base_uri": "https://localhost:8080/"
        },
        "id": "kT5xJmgPBh6w",
        "outputId": "f7d62a64-6416-4dcd-ec86-27ca9aeca16b"
      },
      "source": [
        "some = [1, 2, 3, 5, 8, 13]\n",
        "print(3 in some)\n",
        "print(15 in some)\n",
        "print(20 not in some)"
      ],
      "execution_count": null,
      "outputs": [
        {
          "output_type": "stream",
          "text": [
            "True\n",
            "False\n",
            "True\n"
          ],
          "name": "stdout"
        }
      ]
    },
    {
      "cell_type": "markdown",
      "metadata": {
        "id": "6LQsU2tLCB7E"
      },
      "source": [
        "- built-in functions for lists"
      ]
    },
    {
      "cell_type": "code",
      "metadata": {
        "colab": {
          "base_uri": "https://localhost:8080/"
        },
        "id": "uPNUONn7CGCq",
        "outputId": "ecb82a8f-088a-48d0-a649-71c54113a172"
      },
      "source": [
        "nums = (1, 3, 4, 7, 11, 18)\n",
        "print(len(nums))\n",
        "print(max(nums))\n",
        "print(min(nums))\n",
        "print(sum(nums))\n",
        "print(sum(nums)/len(nums))"
      ],
      "execution_count": null,
      "outputs": [
        {
          "output_type": "stream",
          "text": [
            "6\n",
            "18\n",
            "1\n",
            "44\n",
            "7.333333333333333\n"
          ],
          "name": "stdout"
        }
      ]
    },
    {
      "cell_type": "code",
      "metadata": {
        "colab": {
          "base_uri": "https://localhost:8080/"
        },
        "id": "aUalpJdhCmTE",
        "outputId": "34b30e87-1152-4090-d4ee-f8435b6ee901"
      },
      "source": [
        "numlist = list()\n",
        "while True:\n",
        "  inp = input('Enter a number: ')\n",
        "  if inp == 'done': break\n",
        "  value = float(inp)\n",
        "  numlist.append(value)\n",
        "2\n",
        "average = sum(numlist) / len(numlist)\n",
        "print('Entered:', numlist)\n",
        "print('Average:', average)"
      ],
      "execution_count": null,
      "outputs": [
        {
          "output_type": "stream",
          "text": [
            "Enter a number: 1\n",
            "Enter a number: 2\n",
            "Enter a number: 3\n",
            "Enter a number: 4\n",
            "Enter a number: 5\n",
            "Enter a number: done\n",
            "Entered: [1.0, 2.0, 3.0, 4.0, 5.0]\n",
            "Average: 3.0\n"
          ],
          "name": "stdout"
        }
      ]
    },
    {
      "cell_type": "markdown",
      "metadata": {
        "id": "8BdVShpcDvln"
      },
      "source": [
        "String and list\n",
        "- `split` break a string into parts and produce list of strings (words).\n",
        "- when delimiter not specified, multiple spaces are treated as one delimiter.\n",
        "- can specify other delimiter for splitting"
      ]
    },
    {
      "cell_type": "code",
      "metadata": {
        "colab": {
          "base_uri": "https://localhost:8080/"
        },
        "id": "5LdwluILEAYT",
        "outputId": "15e6e417-4313-43df-f936-a9a5851bdf22"
      },
      "source": [
        "abc = 'With three words'\n",
        "stuff = abc.split()\n",
        "print(stuff)\n",
        "print(stuff[1])\n",
        "for w in stuff:\n",
        "  print(w)\n"
      ],
      "execution_count": null,
      "outputs": [
        {
          "output_type": "stream",
          "text": [
            "['With', 'three', 'words']\n",
            "three\n",
            "With\n",
            "three\n",
            "words\n"
          ],
          "name": "stdout"
        }
      ]
    },
    {
      "cell_type": "code",
      "metadata": {
        "colab": {
          "base_uri": "https://localhost:8080/"
        },
        "id": "tYOkgcSXE1NF",
        "outputId": "4bb66588-db23-45e2-a607-a00ce8d313e2"
      },
      "source": [
        "line = 'A lot                   of space'\n",
        "print(line.split())"
      ],
      "execution_count": null,
      "outputs": [
        {
          "output_type": "stream",
          "text": [
            "['A', 'lot', 'of', 'space']\n"
          ],
          "name": "stdout"
        }
      ]
    },
    {
      "cell_type": "code",
      "metadata": {
        "colab": {
          "base_uri": "https://localhost:8080/"
        },
        "id": "b-fMHXoHFB-v",
        "outputId": "45b71546-514e-4dbc-a6f6-fa9d632778ab"
      },
      "source": [
        "line = 'first;second;third'\n",
        "print(line.split(';'))"
      ],
      "execution_count": null,
      "outputs": [
        {
          "output_type": "stream",
          "text": [
            "['first', 'second', 'third']\n"
          ],
          "name": "stdout"
        }
      ]
    },
    {
      "cell_type": "code",
      "metadata": {
        "colab": {
          "base_uri": "https://localhost:8080/"
        },
        "id": "xqnih_stFaLJ",
        "outputId": "796ea1ae-7d9e-42ec-89b3-26cc7326099b"
      },
      "source": [
        "line = 'first;;second;;;third'\n",
        "print(line.split(';'))"
      ],
      "execution_count": null,
      "outputs": [
        {
          "output_type": "stream",
          "text": [
            "['first', '', 'second', '', '', 'third']\n"
          ],
          "name": "stdout"
        }
      ]
    },
    {
      "cell_type": "markdown",
      "metadata": {
        "id": "3rQCdDDi56D5"
      },
      "source": [
        "**Dictionaries**\n",
        "- Collecttion: a way to put more than one value in and carry around as a convenient package.\n",
        "- List is a linear collection of values that stay in order. Dictionary is a bag of values, each with its own label.\n",
        "- Dictionaries are Python's most powerful data collection. (Named differently in other languages.)\n",
        "- Allow to do fast database-like operations in Python.\n",
        "- No order, so we index the things in dictionaries with a 'lookup tag'.\n",
        "\n"
      ]
    },
    {
      "cell_type": "code",
      "metadata": {
        "colab": {
          "base_uri": "https://localhost:8080/"
        },
        "id": "bE6ewwc67Q1W",
        "outputId": "56b7f015-b830-4c82-d89a-52c1d7ab1b16"
      },
      "source": [
        "purse = dict()\n",
        "purse['money'] = 12\n",
        "purse['candy'] = 3\n",
        "purse['tissue'] = 75\n",
        "print(purse)\n",
        "purse['candy'] = purse['candy'] + 2\n",
        "print(purse)"
      ],
      "execution_count": 1,
      "outputs": [
        {
          "output_type": "stream",
          "text": [
            "{'money': 12, 'candy': 3, 'tissue': 75}\n",
            "{'money': 12, 'candy': 5, 'tissue': 75}\n"
          ],
          "name": "stdout"
        }
      ]
    },
    {
      "cell_type": "code",
      "metadata": {
        "colab": {
          "base_uri": "https://localhost:8080/"
        },
        "id": "cL2EKw4A8STc",
        "outputId": "171ea452-082b-4836-c9d5-140483df100f"
      },
      "source": [
        "dictionary = {} #also works\n",
        "print(dictionary)"
      ],
      "execution_count": 4,
      "outputs": [
        {
          "output_type": "stream",
          "text": [
            "{}\n"
          ],
          "name": "stdout"
        }
      ]
    },
    {
      "cell_type": "markdown",
      "metadata": {
        "id": "E-Cjmm0O85o7"
      },
      "source": [
        "Common applications for dictionaries:\n",
        "- Counting\n",
        "  + Throw an error if reference to a key not in dictionary.\n",
        "  + Use `in` operator to see if a key is in the dictionary.\n",
        "  + The `get` method does this for us."
      ]
    },
    {
      "cell_type": "code",
      "metadata": {
        "colab": {
          "base_uri": "https://localhost:8080/"
        },
        "id": "J3imYki79BIO",
        "outputId": "dc4bcbf3-7003-4cb0-f136-e7bd0ac8ce3a"
      },
      "source": [
        "ccc = {}\n",
        "ccc['csev'] = 1\n",
        "ccc['cwen'] = 1\n",
        "print(ccc)\n",
        "ccc['cwen'] = ccc['cwen'] + 1\n",
        "print(ccc)\n",
        "\n",
        "print('csef' in ccc)"
      ],
      "execution_count": 7,
      "outputs": [
        {
          "output_type": "stream",
          "text": [
            "{'csev': 1, 'cwen': 1}\n",
            "{'csev': 1, 'cwen': 2}\n",
            "False\n"
          ],
          "name": "stdout"
        }
      ]
    },
    {
      "cell_type": "code",
      "metadata": {
        "colab": {
          "base_uri": "https://localhost:8080/"
        },
        "id": "3h9ypV1C-U-v",
        "outputId": "90c1c024-31b5-49ea-835e-d5a0e4a54441"
      },
      "source": [
        "counts = dict()\n",
        "names = ['csev', 'cwen', 'csev', 'zquian', 'cwen']\n",
        "for name in names:\n",
        "  if name not in counts:\n",
        "    counts[name] = 1\n",
        "  else:\n",
        "    counts[name] = counts[name] + 1\n",
        "print(counts)"
      ],
      "execution_count": 8,
      "outputs": [
        {
          "output_type": "stream",
          "text": [
            "{'csev': 2, 'cwen': 2, 'zquian': 1}\n"
          ],
          "name": "stdout"
        }
      ]
    },
    {
      "cell_type": "code",
      "metadata": {
        "colab": {
          "base_uri": "https://localhost:8080/"
        },
        "id": "nZXhRUqCB4Qr",
        "outputId": "24edddc5-3e12-4fb9-c509-9d2263bdecd8"
      },
      "source": [
        "counts = dict()\n",
        "names = ['csev', 'cwen', 'csev', 'zquian', 'cwen']\n",
        "for name in names:\n",
        "  counts[name] = counts.get(name, 0) + 1\n",
        "print(counts)"
      ],
      "execution_count": 10,
      "outputs": [
        {
          "output_type": "stream",
          "text": [
            "{'csev': 2, 'cwen': 2, 'zquian': 1}\n"
          ],
          "name": "stdout"
        }
      ]
    },
    {
      "cell_type": "markdown",
      "metadata": {
        "id": "jmpfbkFWFFTy"
      },
      "source": [
        "Dictionary and loops\n",
        "- We can write `for` loops for dictionaries even though they are not ordered.\n"
      ]
    },
    {
      "cell_type": "code",
      "metadata": {
        "colab": {
          "base_uri": "https://localhost:8080/"
        },
        "id": "D5SbmfJTFmdS",
        "outputId": "faf2ba47-eab1-4ce5-adfa-74d1032bf468"
      },
      "source": [
        "counts = { 'chuck' : 1 , 'annie' : 42, 'jan': 100}\n",
        "for key in counts:\n",
        "    if counts[key] > 10:\n",
        "        print(key, counts[key])"
      ],
      "execution_count": 11,
      "outputs": [
        {
          "output_type": "stream",
          "text": [
            "annie 42\n",
            "jan 100\n"
          ],
          "name": "stdout"
        }
      ]
    },
    {
      "cell_type": "markdown",
      "metadata": {
        "id": "puJFZV8hF6te"
      },
      "source": [
        "- We can loop through key-value pairs using two iteration variables\n",
        "- Methods `keys`, `values`, `items`. Note that `key` and `value` do not necessarily return the same orders of key and value. Should use `item` when pairing is desired; it will return tuples."
      ]
    },
    {
      "cell_type": "code",
      "metadata": {
        "colab": {
          "base_uri": "https://localhost:8080/"
        },
        "id": "rwpKoMoqGDeK",
        "outputId": "4d4e07cb-5b52-48e8-ca06-b2b67e0e310c"
      },
      "source": [
        "jjj = {'chuck': 1, 'fred': 42, 'jan': 100}\n",
        "for aaa, bbb in jjj.items():\n",
        "  print(aaa, bbb)"
      ],
      "execution_count": 13,
      "outputs": [
        {
          "output_type": "stream",
          "text": [
            "chuck 1\n",
            "fred 42\n",
            "jan 100\n"
          ],
          "name": "stdout"
        }
      ]
    },
    {
      "cell_type": "markdown",
      "metadata": {
        "id": "Cqvo1CCeHQeA"
      },
      "source": [
        "An use case example.\n",
        "\n",
        "![image.png](data:image/png;base64,iVBORw0KGgoAAAANSUhEUgAAAXYAAAEVCAYAAAD0Ps6RAAAgAElEQVR4nOy9558dxbX3u6qqw85pwp6cZ8/syXlGMxpJo1FEEiCByQiBkckmg8hJIBAImSAhENEmBxNs7GMf2+fc55x7n1f3c/+k733R3Xv3JAljODJ+9ovfZ6Tdqaq6+lerVq36LRERRNQq0D6C/8syKJRotCi0CEoEVbrO+ND+74IoH+F7KOXBf4bysXp5VitD6L4hKFmKVa87E5bcr9wWakldV3nGKmVYrd1WQJXbXPnPWXq99399tvqs1say9N7a/+s9t3z+mnUKyqdWec6y+np9QaPFoPz3v7QffY93saIuy/vld4M64/PP1s80ovTKdvi+ffUfbocKKjgrwh9LGWoJVvswysRuRLDE+7C9D9pCxEKJxohPSEoQLUsJU2lEBYOARwZKyv8Pl2NVcliDYMwy6FUqvoKMZdkAZHxor5xKDEa0X8+lKF2ny3XU/rPVkmeqZe3q10sFbW7QYvx2DNfLewdm+fOWI/T8oD7hZ2rRGP+vKO3VTa/ebqU2UxrR/rmrPUt779YSwRKNJQYtFlqsZeSuVpa3NLAtfQ9rI+gzy7BK/13el7Xfj1cfzFSp76mwMVJ6r34bGBXqw6t/N6W+GxoESvcKv58z4dyTQgU/faz9MYQtPLXCEvmexB7+MAJiV2Vi1yGCX0GAy8k9TDJLLMeAaKRExMsrfkZi1+KRuiU+oRmUWFhisEJW+wpiD8qgVhtU1iKCgJwMSmyfFFcSuxZVqo8J2nP5oKZCv0tAWGUr2vjQwXNXIfYVbaaUR2oqVFatQgNfUF/tt4+FKRG7hZTIPWT5L3n/etnvq3fUJTPCcL9RYUNg+SxhaV9eaxApD35m5WzJb3/RptxeWs5M7MqsrNOK/n8WnHtiqOCnjTNZOWbp1H0VYi+7YwKrvkzsEvpQlnZs/yPXPlR5uqyX4TsTe+ijUWoVi3oZ1iT2EgGp8kcdGqiUqBJ5BkQaEEH4mWXrOkQAq1mbgUWsDCIOSuwlVmNAaFoEWwRXBEcEvaz9lKw2S1D+YOkRrfEHJ+MPmmVSVSgVtPlqg1XwXm0PyoTaPZjRWGixMWJj+QOUCvWDMuEtI+TViH2NWZglCqvk6rH88jghWP77WoV0z+ZOCvfvFQQbLvcZZgnhfh2u0/J+f5b6Voi9gh8AaxF72IJWayBk0Zc6+2oW1BodeRVLO2w1euS43O8eKvyZrKHQeUoEpdTS/4fvEb6uRJZCmSB8Qlv28StdJna9otzBc4OPPkQOOkx2YXK3PIheMjgE1r8tHqlbIqhgRmEFA6M/oPnlCsqvxKCUQWmNLiE0KPiDilLGI3f/HlotaxNlEGX7MJQHQAuPVF1EHJ/cl1vtIZTuYZf7x5mIzm9rrQSjBK0VWmuUCaxoC1GOdz8TuEvCBKq832zxEMw0SrOGpf1ltbWGwFWzpF+rZYSu/edYEnLh+Ra+LeXZ33KXVoXYK/hxcHbfpJFg4TCwmJTvgtElC1AH5BBcq8rTYqU0SimPCMNYZvUGBPadiT2AEpT/wUuJwJX/3PLzRdZY8DSCOIK4gkT9v1r883WJHEUUlrZL9zJKYXxr2chKUjeiMSrkXlIWWtlobZXbWelyuUPWc/h+xnd3GSVoIyhbkIggsVBZg3pYUiawgJQt//xoCK5fZ61Q2kFpG60MllJYSrDCbp0SUYasfFFoMVjiYiSKSBSP2IM+s5Tcg1mDiEErG6Ws8kzsjCQXcvs4gsQFSfp/I4I4CjEGcbTXHhFZSuDG/y0jSE6QlP//Un3UEsMivDgevFvl96+SW8oYbxAJyN0orz1tv20jUiZ32y9rPNzmZ6qvVIi9gh8CaxF78PFqtNIlAraURunAgtJYSmOUd45nSXmWi7Z0afqptUYbhbYEZXnWpjJlUtehvwFM6PcVrpRVOr7WGmMMwSKvMsobbLRnrYost8BC027/40u0p8gOVhFpjHgfYHC+Ul69lGA7jm8tKozW3sevvPpov27B7MFojTFB+2m0MhhloY0pu420QjsaHVPotELFPeI2ujxIaN+CFyNISoh2xIn3JLEbHI9IjKAcwa4xZDpTqCrl/W4LOmkwDRam26CLGtWjsIoWdqdGagWJCMpxULaNtgxGayylMKJ8d4/4hKqQjPIIyvbKbkTjioMjLsp30ZTfqVdfb8D3jAOjDcqI1yZa+WR5BmL3215sQRKC022TnktRvTlHdjpDpD3iEXVUYdU75KfqsFutchmNYGKaZGeC/EKe7EIOu89GkoKyg1mUWtIPw33O0r6Ly++3YgSxFcrRiBUMcNobOGuEZEcC02CQtP98LVgZm3hvkkRfyvs9Lt75FWKv4MfF2hZ7yYUSTCddKVt+gYViSdlKDCzemI+oeKQQtjDjUrasgmMBAqvZCd3btzxXWNnB32Ch04SuCawks/weqmRRltYNtP/MuNByXhcDB8epnqlFElJaHBRLypZuUP5wHfzrJSnLrEkpW5BOqF7R0HHH+3+szyW9KYkz4HiWZdR7rrde4A9EtiAFTdc1fXRf10dqOO092wg6qcjMxJm7dRJ72HgWalxI9qWpu7iehtvrqLojR/rmNA2319J6czX2BoXU+WVO+AhmAWErOSY4AxHii0lMn4VUeeco7Vm1OrCqg7Zwg3ZX5TYMtbMkpDTwiDmDayJ0nepRNNxUS9+xAqOvDjH42AD5PXVInaDSmuhkko2PbCK+OYqqltLgE6l26NzTzqbnF1h3bD3Vl9YgOUHFLW+2Eu6/wfuwvOcGLi3t+AN20McdQWxvpqDEQixBDwnjNw+RWB9DasptEOtI0nlVkcGbx5Aug2Rl6SyrQuwV/Dg4A7Erbxqv4gqdN1jtFqbT4BQcrBYLlVMlklNphVVn4bS72J0Out0geUFyglVnYbUZTEFjejSmW2N1GKxm45FESpAqQTcb7A4Hq9VGV2uPBPypa+DuWBGSGBFUSmGqNKZWoxsUqkGh6pRnuaYlRJIKU4rc8CN9tHfcarKp2ddEw8E24nNJj1wjgooKOqexG2xMp8Yu2NgFG92qkGpBVSt0i0Z3a3SPwuq1cLoddL32yDUrWHmDaTCoGoWqVlhNBrvBQuXEI7m80HRVA4NHh6jeX4sZMlgtFjqjS+QuyiuPWUyy/pXtDD08SmI0XiIQnVXUnp/mml9fSmyj7ZFbWmjZ2srCrzay9dvNjH8xysA7A6z7eIJdX8+TvdlGdwu6U6M7DVaHhd3lYDXbSNp3LyQEldW0XNvB4K/GSV6WwYxamBYLlVElMlc1GrvNwe6yUY2hdo8JJmmwa210i0Y1KqwOC7fVRSU1ytJr+519F5Ku1cSvjTH6yTBtH7ZQc6KapieaqN5Xg7QJqkER2RRh6JEB7EXbm4n45OnmbOoXaph4YoIdH+6i91C/dzzmu7Si3jsyrQa7YGNajffuY4L2Z0NiCTqqsbL+O4kJ4miUZaOVjTiCNSdc/uY+8ufnUPVSGhyjHTEGbhvmvDcvxLko7Q2kMakQewU/Ns5A7Nr7cO1ml6o9dbTd007NPTX0PV2k+ZfNuBsiqAbP6otNRmm5tpn+x4fofKxA5qZq1Igg3ULrpY203FFPzaEMVQ+myB/K0XhvHQ031qNmlfdxzioyt9TQeaRIyyOdJH6WQvfp0rTWi5VWfjRHaFGqSoiNOlRfkKL6yjTJq2NE90eJXxkndn4UPaS9D9UR3yVglYhdi3j3iQlNF7TTdXs/VbfWYW12vEHJ8lwZqXVpuq7vouaWarqf6qRwuJPkgQRqSmHNOaSvzVJ9T47knTFaH2mm9+FeUj/LoAsGGREaL6uj4Ypa3Fmb6FSE5qvq6TjQgrvZIA2C2iEMPz/I9BfTNLzWSP7hOlqvbSE5HC9bz1qQjFB7YwsTb82TP9CAtEpp0JKUkFxI8LNXdmNNWJ5lGPfb/75m2t5uxDwqqGuF+P0Rpt/tJ3pQoTYJ2euqqL6jhob7G+h+uIeWm9tx1kW9ts8prA0ucy9tYvb3C9ScbKb24SbyVzcQnYgheUF3GBKXpuh+oofWw604VzuoUW/g062Kup21FG7qIveLLJGrI7Te28zoXSMkepJoV4f8+LKC2FVCkdueZuz0MBN/HaPq11VYz1iYAwbp90l9IU73rQWaHmjCOt9CGrx2UbZP3lkhtZBm8OgwXQ8WPYvanzWoeoXZrKm9s4aOI13U3p1Hb9NIo3+Ob8knO5K0LbaRncoiVb5fXhu08d1ho8KFx3aRXch497fL76zuvHo2v76Nrkf6kA7xZkhGKsRewY+JsxB7REgPZph6cpqL/u+9zP9lmoG3O9j+1Sb6jw0RX0wiPUL13hyDx/oY+KCPzg/aGP/dKLGHIqgNiukj45z3x61MfjvCxJ+Hmf3bJBPfjjD21RCZp1Oo8xX5V/MU/jBI7edtNH/ZzeCXozTd14wUBYl7vmirFOLmR2VYgt2m6N7fyqYTc0y/P8nARwMMfTHMui9n2Pj2LDWXpzHN2if2YMEvROxKMLWa0eunOP/1i9nx6fk03dTifYCuYKptGi9p58rfHWD3v+9h6KN+Jj4eYO7jCepurSFyIEb3awW2/q8FFv66nuF3+5l8a5w9X+6m6o4c+jLN5LFRNp1eR+N1eZLnxRg70s+Fv9lJy231HjFd7jD3zgwLf1nP6NcDTL05ysyDEzTO1y915bQJg8cG6Xy1k9jmmDfTcbw6iCvEizG23bgRU2/KbrO80HhTno736km/6RJ/2cF90GDO18icILuFudPT7PzTViY/HWHiwyEWP5ln9LEBpE/QeUPtJY3s/uAiFv9jJ2PfTLPh3c1MPzJL7dY81oRN/p46Rn87QcNnLeQ+rWXo30bIP1GDPWFhBjW9NxTY+f4ONv9tgbk/r2fhg81c8vpljO4ZJ5KKrk1ulqATmr79Bbb+dhMb/2uOsW9GGD09SseN7bidNm7OoXNvO3tf28vFf76U6rvqMW2ee8S2bSzb87nn1uWYOjJD4VCfR9opQbJC7JI4Xad7KPy2h6ZPGun+bRe9v+lBXSqlNQgxQutUO5c/cSXrDs4RaY2GFqYtVFRwui0Wb1ogNZAqE7e/PhEvJuh7YIiN7ywiE+INmBVir+DHxRmI3XjErjs0+Rtrmf/TLNHDUZzNNrmH4gy9M0T2ihwyKJjthugjEZJvxUh/Gqfrr21Uv5NFb9DU3Juj6/02qp7N0nC6lqaP64m84JJ8J07NRxn045r+/6ePxDcZzFs21m9sev+jyPCHw6QvTCEpbzHUlMIO/YgKS6FqBGfGJnZllMgdEdz7XdwHXKL3R4n9IoqZ0Sh/au4Ru4URewmxS1xw2yJU7a9j9K0pGm5r9og96rmYkuvSzL27QO+H/cQujxG51mXwzR7qHqlB7dPUPlxD/x8L5F/O4m53iSxEyD2aZej0AMnLktTdUcXQyQLNt9eh12mqLs0yeWqIhntzqG6FGlI039fEwK97yN9XTWSLS3QwgpW3yj5vV5BeYebNCeqP1mBm9NKFOCPolCLVHMUkPBeSxMRz89ycZ+z3Rab/9xDjfxkkf7jKGzC7BJkSii92MfhhL9V35Ihc5tJ9uJ2Jl4aQWUEygtVuU3hggMEPRsnenCO2ECMyFMX0WVRdXs3YxxO0f9uB9bqFed3Q8u9tzP5phpoD1agewZlzaDnSyuC/DxM/niS2K0ZyPkm0M46JWmd2xUQFp90h/0g1XR+0kbstS2RDBLvHRmUVKqawW2wyWzLMfLSBzIN5dMHyXEhRjXK8Bd/sbJaxo5O0P9ztzXRyXnt2PVeg+9simQ9zWCcssh9m6PtrkeKJXq99kl4Z7CabzGyW2FAclfVnjMFOWCOojCLdkcJkTXmwFe+92K0OLTe1senDrcg28WZTFWKv4MfFWYg9JkibkL0mw/RvJ5BrBOkQ9AGh780i2euyyB6h6uEqWj9sIfVpAvcLh6b/aiT3WRY9r3Hvtql5O0fsUJSqYxmq38oiDwvWK4b0R3H0cc3I/zdC7d8aiH6VIvZVkqbfN9P6WjOJfXHvQ1DKCzn0ofwZhVNnU9jbxcanNzJ3ap6pd2cZfmuC8dPTzB2fo35fHrvR8n2uGimF3/khkJZ4H29O0HsNXad7qb2jDukRz0deI0QmYxRPjpI+Xo2e1shOYfBkL/VP1CIXCNX35Oj6upXY4zYyIkivEL03yvqP58hdlSP98zjdL7bReHsdMiUkLo7Re6qDqrvjqHavfRt/0UTxlR5y12S9Z9cJUu2XIViE7hHmT6+j8ek8ZlKXoz+CCBvHjzqypLwQWCc03FpL628aSb+eJPVsEuduG7lUkMsEmRPaX2im7qVa3AscZFZoureR4ZcGkAVB8t46QvvNXfSe7CV+UQzpFs/qHRDqbskz9+cZ2v7aRPybKMlvEjT+sYHiJwXSB5JIQZBhoerBGjo/KCBXKe/6WvH8+NYZFk+DReuEEL8tQtObDSSujnuDUo2UF+hzgjViMfTxGJEnUqgR7R1P+e+2VohvTdD+UhdVT+W96/OCTAvj744z8p8j5L+pIfVJjOovM7R+00z78VbvvCCSJe25baRalQZU5Yd8lmYXtrdYHMwMlfLWSKxWi4Ybmtj48VbkPK+8FWKv4EfG2S12p9um4/YWFr9ZwLnFQfqEulvzzL+/nvwdtURvitL9eje9H/diH7OJvBGh73/30/vnXqz9Fg3P1dPzYTeZx9I0vlxPy3tNmMc1mRNJOj5rRT+tmfrvSeq/bMQ9EcU+7pA9kaHqsQzuVssjN6PQVrCt248SUYLJaOqm8/ReUaT9F900/7KTul+20nBLGx3XdZCcSKBz2idARSAPoJWFsS2P/BoNifkM9Xc1Mf7JNK3HOnD2RdFDFtIlJHam2PDBVrpf78dasJC9wuxbM/S8WMC51KH6rirG/n2Ioc/6qL+rnqabm1n31hxjL42TXExSdVmGsZeH6Xq6E7PfUPdYnvnPZ+l4pBHVo5B6ofmKduZeXU/TXU1YOyyqd9bQsrOdRG/KIzBbkFZh9vgMPUe7iM1GPR+wv3iqlGBMaHHZeMesPovi4wUGPuol9lwUdZci9lCM7uPdNB5uwJxvGDo1yMAbg6QvzSALQufDHWx4awOxC+PeGkBOUbiuwOZ3NlBzSxbnPE12d4LMxQlq78gx+ckwff/WjX3KwnnRJnEiRsvxBuL7YsigkNyZpnhskLHPJkjfnSa6PYLuUaVFRFUKfZSVxJ4UYoNxis/2MvH5OHUP1xHdF8MecZAqwdRbJNelqbkyz/y3m2g71Un6qhzWuIXUeQvy7nyUujsaGPlogq7TBZwrHGSdIGPC4PMDTP9+ksZf1+O8YBM55pB6KUH+wRqkU0pt7NQ75KdrSQ4mvAV/O9hxG0RZhTfZeW5Doz2XWKQQofPubja+vxVZL35/lgqxV/Bj4uw+9uxAmtkHp9jz0S4a729ATSjG759g99t7aL+7ndjVMbqfKDD33nr63xii580iU79bx4bfLdD8cAujL46w/u05mh9qouvpToZPDFH3aJ7Wp5uYfmsSdZ2i8el6+k730/9aH30nigyfGKTzvlZis25pEcuLH5dSlIyI97uds3GbI1idDqbXQRdtdMHC7rBLkRvehqiyJohWBmW8qXpmuJqZO+fY+KtFFj/Zzsy76xl8coTGfc3oYUP1pXXsfu8i5k9txtnjkrwiyeKJzUwfmyZ7RZaq27IM/76Pod8W6X2lh4njk0wcnqZ2dx6r1SI2G2XggQHWv7aBkVfHGD89yc4PtzP12AhmRCEpITWdZfLhaWZemGb86THWP7mesRsnSQxmyuGlOWHgvj6mX52k5sJqz+r0wwaVeLHvJTkAn9hz66qYOTzN4kebGD09RN+LRUZfHWXxnS10PNxJ/MoE86c2suXN7TRc14S926H/wQF2vbGHjmu7vHDCuCK3Pse25xeYe36CqaeGmX1inM4bm4ld6NJ8Sz0Tbw1RfL1A34ke+k/2MPxMP5mFFPHpOP03DbL99A62fLKZ6ZNjTDw0Qm5jGh0LFiFX2ZHpL47rnKbv8n62vb6VbZ9tYer1KYafHKFhbwOqWZHqTTN1yywLR7ew44vzmH1vPbMvzNNyWStuh0tuOMfgTUPMn1hg22c7WfhwkYkXxmi9ugm7YJPbk2Xo6UHGT43S90ovvS8VKB7vofW2Fm8RNiKIJVQXa9j48w307S3iNrneTMMEQnXemk9497QtGmN57zY7m2P6uXWMPT/tDRaVxdMKfnycJdzREVLtSYp7C/Qf6KP24lpUj6J9Ryf9lw9Qs60Ga8IiuzVHzw1F+u4aoP3mTlqvb6dwYy8NVzbStr+N7qu6qdpZRc2uGloua6H2olqqz6+i47IOZFTQM4qWK1vouamH4q299B4s0LCzDrfdKcc8iyxRLxSR0CKW8nYhBv7oIGbcBLHgAVRI6U+hLEWmJ8fg3mEGrx6i9/oihYO99FxdpG5jPbrTkJzL0HflIN2X9GCNWCTmknRf3E3H3g4SmxLkb66m+GE3mcMpag/U0nZZO5nZLLrGeGVvFHILVfRe38fAL4fovr5AzzU9dJzfiun0Qwazmvx8nt5rexi+bYjB6wZp3tKC1eyW4/wjQm5Pjs2vbqZ4Wy9u0fXD9hTaGG+DjYSI3RbSxTTtF7bTd7CX4s099N7QQ/H6IsUDfaQXs0RmY3RdVaB4oJ/MQhZ72qF+dwN9lw3QsKnRs04dQWqFjm2tDB0oMnLjAIP7i+QXalDdgtvn0HJRI723ddN7e4Gem7rpuKCVWGeMWCFO+44Ohg4MUjxYYOCmHkZ+USQzmURHVVlvZg1iV2lFx0In/df003uwh95f9NB7dS81c7WovCLekqB/zxCj147Te7BI93UFhq4dpmFzI26TS6YrQ2F3D0PXjdB/cID+g/0MXztIy6ZG7HoLyQvV66sp7O+ieHOBwo1ddB3opGahphxzboRMc4ahXUO0bWjDrXH9GH3jyRqEpDPC5K4tzzffeXkn20/spOaqvHfPqFTCHSv4sXGWDUpa0HGNVePH9zaJv9tPPEvajy6QnHgWZLP/t1o8UmgSVLMqb+dOi+enbFBlP2gqdJ9a8fzLNeJZNsFGKCN+qGMorluEkp5LSaBJrdCgWS7Qpf1dlSo4N+G7BYIyVPl/g407QbmDbeHBRqS0EBuJ0fdgD3OfT1P/WD2JDUmvjQI3iRHv3uG6BfdPCTomGOOXJ+af0+j/TQkSU6hgR60lSIcwfecsY7eOkxnJ+GF9GmPb/ozE26mqtLe4HPiHpcq/Z63/7+B9xPz/V4fqXhWqe0xK1r9E/fMal50T9e/V4NevVsqbtKL+eVnvWlUv2J3+u/clDdYkt2BTUEzKkgA1/t+klDeJxfzfgnqlQ2UP+qm/p0CyUo6xDzaxuaH+G7TP8k1Uln+PIBJJe+GznlZNoB1TVoZU4q11JApxhg4OsvGhjUiflN1qFWKv4MfFmYg9IEpV0mIJttOXRKCMby1rb9u9cjVae24O76//u/a3botPqL5Yk1IaZXkfjvYVBj1dGRWaovvyBsp4xLVc1128RdGSkuBqWthS/r9WCqNCCS1UuT4qhMByLMsW+/cJnh0X8hvyTD8xyeKvN7Pu1XU0XNXiTbeDiBV/B6fSoQ/el1mwlMZWQkRZ2Ep7OjC+hk5JtVFpLBPBiFVyjeVHGmha10KiOVkiHmX5x0VKSovK6HK7a/FkHYy/21KLb3UG7StlIjW+3zt4d8E7kaBsUpLrLbVl4OcvbfxS3rZ7y1urUaHzla0RW4cEu2R1Ugu9Q++9q/Lzg3BCvw94bRqUUy25rqT3osqSAeX3ErxvbzBUgfZ80K9FKIt8lZ/pCaaZkBDZUmIP2jPeFKNlUxOtG1rKhkpFK6aCHx8BMa6OQOHRiI0jEaxAHrU0/Qy01DVGWdg6gq2jWDqCa6IlETHLTyDhSQHbKLFQ4u3c02IQEWxlY4uFpSwsbWG0tURMLNDhVoE0a0DsJWndQL418Hku0zX39W8CrRhLWSXBqqA+upTsopxgxPIVC5c0nBEkKkS7olQt5qjeW01udzXR0YRn1TriR+EsnZ4H/ldXbOLaxRLBFVMS+rLE02lRvjStEgtbRbBK6pJSJraAoIPZiQqkjx2MOF7ZfTVHI4qIMrhiSlrrgfKkR2qqNMPRytO50dqT/LVKcr8KHQw84s18ImIRVQ5KPPXJqDglWWBlRVDaRfnXeuqUGqMclHY8S3c5sYfaOCDoQHDOLu0YXtaJtcYYC8dYWFIWrbN8kbZAedP2YWkpSQl4A6yFFcgN+wJlXp+TUpurgOxVsAs6iIgJ3DGrEHtYRiEsThbukxVSr+DHgbBWarxAk93bhm9jSQQjEYJY8rJYmHez5fKmSsrys2XxreDv0mtFvI+sTBoGIw66pLNto00UbWKIcn3SK5O9JwPr+vA2MXm6MAG5B5apDpXN8p/hLqvTUmtPRFZ+cGFtlMDlEOi/+ISrS4Oi9rXEA8VG7atklom0LFkcrAEs1bX3yFLK/udlUsPKKJ+4lK+saJfqrkJkZPmhniVXhw4NkuLLDweWrS/i5r1/L3uUUeU2WT5gLc9WZVkOxjilgTKIGNFi+eS59P2vhCr9LWv8rH1NWORt+TtcjjCJhqWoV09xF1juoXr7Vv5K4bxl5QprGS1fH6qggh8Pax0Id2wfSiMm2PkZ0lpfck2YkHTp41/pEll5/xUZjEp64aosxhXswgxrXi8h9ghewgqrlC2olBKt5NoJZiI2WiIoiVIeEMrEXiKqoEzLF/fCyT1ElYlUAqndIGtRmNhVqFxevcPEbnwSW97Glm/Rh9cMwu2llZeEI6pNefFUl9u1nLAjiHgKyq5LM6Cgzo54BB64a7RSpfKb0AJtybURekbpXa62yF0qb0CKZ+uc5dmkCr/HfwILV5WIPTzjPdtAVUEF/2M4w8HwAlawQJb2/eEhK6qc6chClcjVs+yDULDlLp/wbNMBXzYAACAASURBVKBEfr6Eqjji+SNTUp7GBlPajHiLd2kJ6aYHGXycEoJMPsZPFFKqiyW+lrbtlzXQEo+gxPFdDwZbFLZPZkum1j5ZluOVA036cmLv5VmUAheU8V0kxnfteM/y3E/2kuxGoWw9/j0dHyUZBFmWJk9CKQgdKW/gWRIV5M9efNdGgGCQVX6dXdHYQfIP3z9e1oUPu6ss/50H73iVWY4WTEJhsqrsjtDftXP+8xL7ynJWSL2Cfyqc4aAvkBXrTtB8Xie1e1q9XZFJKVvNS6xY5ZFmaNGslAA4sLZLcrz+gqwKNN/9Rb2YYBdtanblyW6rQzptpEpweyJ07e2l8ep27J1xpE2XVfKCaXQok41atpC2hNi1Llv4yvUWv4wvURBe6F0egRPk+BTxfb4aWwyWGH9BOFTHYCE0lOlIWRple4vF3qKk9gcg7fuvfd13y0fwPB26lz9jUSbQrfdlc5V3TCUUmckkuY1p7LxV3sAUJOjww0BLKf2WvR9l+ck8Qs8SV7xdrY4XWqms4L2GopFK9Sy3kxjxtvMX09RO5pB6Kcdwf6fO+VMh9goq+KfDGQ5qQZJC9UyeuSe2MvvqVm+bebWUw/mCjz/4qIPwtiAULrDSIlLW/A780b4lrmw/nMwVJC1Et0UZOjLC0FMTxDZmkLwiPpdi0yOLLL5/Hl1PFXEHI2XNdBHvAw/uEYS5BToqEorG8aUJtHLwUtFpxFXlcL5gdhDWFi9lI5KS2yXwk1t+EpGSzz2sax7OVBS0S0LKYZOWeGQfaH+Hz/HLooJsPEHbhvTMPQkBjdJ+4o64YDoMm56Yo+/WTqJdbvkdRfx7ByF7gbZ4gHiozFFZumaQDh2LhcoRE2/vQNAHwrOsoO5poW1LC3P3ztBxebsXDmkLErLy10aF2Cuo4HviDAd9sokWE/TcM8zGr3cgNytPyGhavJh1P75bV2vcokt8Po674CLj4sU1p8VzC/QZZFRjpmzc2TjOcMSL985JycXi9tvENkaI7HfpfbWX/leGiJ+fQuoEu9OlbU870++tZ+C1UaJjMY9IgkiDlGD1GBJzUdw5t6z14mtqhxNuKz89mxjf6m/RSK9CBqSMXkHaxBvEAvdBKOlH6X6WV36VV9gDFon5OPH1LqpLSnH/ul97MrYzCrPJwplzPL2UtJTJsFlwpxwimyJYY6bkbtJZwWlTqEFBRoXIBgdnxkK3Ke86N5glebs0MztSXPzxBTTdUI/V4SXFMF0aM6zRkxp7g4M1ZZffTUqQJoUeNUQ2RXA3RlCDuhxH3yHoKYWZ05h5g5pUmBmDHteemFbKq6fqU0QWbeytFmpEeQTu7wuoma9i5okppo9OI5PiZ6f6Lj7pCrFXUMH3xBkOBlP0Ok1ufx2b/n0HTb9upfmlFjoOd5L5WQ6rx0LqvW3T3bf20H2kh6bnW8g/Xo/sVEiD4E7HaLqzg9bDXbQe6aL7aB8dD3aTviCNdAiqRVGzs4r++4r0P1uk9cUWBj8aoOdUgei+qEcSCcE0GLqPFhk8OUpsLF62DuuF+GKclvsa6DjaSMtzjTTd24A9r72kBxE/XlmCcEBvbUBsQTdoWi/ppOP2blrub6PpgRaaD7XQfm8Hzdc2E5+Ie4ND4MoJXBiBBR8VTJshuztH8VCRoacGGXmqj55ftuFM21i7DPX31tHxTBvtz7fS9VInvc/30HRrE/Z6xxvcZoXaX1TR/nQrHS+20fRYE+nL0kivYLcaGn+WpfepbtqebqXnWAcDRwo07W8g0h+atTieCuLAoX52/GYr8a0xpFaI9kRpO9BK7+M9dDzVTvez3XQ90kXVJdUeMdcJ6cUsLfe00PZCK83HW6g5VEdkawzTbshcnKZwpEDbr9pofKmRxqMNtB5rpunxepJ7E8iA4Gy2qTtUQ/PxPPUvVdPwaB53p4tqU0hGsDssum/oZP6t9aSuTPllDsXPr4kKsVdQwffEGQ6WiF1RdXWebf+5i+6veul6scDYbyboeaGPxJYE0i1U7amh97l+uj4s0PLbNop/6if2TBLVq4guJhl9e5qxf5+m8H4fPSeLDLw1SNcznch6QW/TTL0yzvgr4/Q/10/nyU6m/zDB0Ht9xC5yvR2BCcFUGQqHiwy9MkZsJO5ZnHkhsTVJ19FOhr7ppfnjOto+aWLi2yFan6jHHvVFxEpp5oLIE/GIvVXTc0OR/iODFF4u0nWyQPeJAn2v9NP1cDepRZ+IlrhipJzoo1rIbMvS93Q/oyfGGXxikNFnhtjymxlq78oSudGh5+1u1v1tkrGvBul7rZehVwcZOD1Iw6PNqA2K9GMZ+j4r0PNFJ+2ftNH7VS9db3eTuCqBPWjRfEOe7X/bSv+XRYovdTH91hCTr46S35f3ZhT+2kRsNMbWN7YxfGwYd9BFUkK8P87oo6Ms/G6B0Q9HKB7vZfDUICMnR1BzCmkVqi6soft4J+0fttL2uw46f1ek5tEGzKSh9mAtW/6vbRS+7KX1960U/1ag9+suBr7oofHZOqxrLHJP5Sh800njp3nqP65h6N96aX+xleiGqDdryQgNF9Qz+9Ysbfe1e2UOshOdkZgrxF5BBd8TZzgYJDJuEHJXVbHh242Yhy1kVkg/kGb4zWFyl+SQYSGyJ0LuqRyZ91IkPo3S9l+t1H3cgJ7QyIDQ/UqB+g8asW62kQuF6kdzDL1ZRC4W7Lsc5r9YT2x/zEv+cLFQONVN39u9RC5yfIlXL+lD65EOul4tEBmLeFu/C0LbL9tY9/sp2v/cjPuOTeKdGAN/6mLjFzPEd3pZfrxEG+XIDqW0599v0mT2ZMndkiN9f4bkQymSDyVJH8qQvC6FNWl7swJ/M1QpTNMndqvLouuXXUyensa5zkUmBDWn6H6hmZ4324hdE6H2+Rpav2wmcziFbBPMDkPV4WomPptB36rp/8Mghb8VyL6fIXIqQv1nDfT/cYDWZ1qRCcHZ7TDz5xnswzayKMQO2gye6Kf1xhakRUq+/fi6OOe9u4vGB5uxCpZHqg1C6y1tFH/dR+bBDLJDiN8eZ/azadRFypMYviBC+nCC+Okoyc/TNP21g+bXOpA5wT3PZeavs1hPWqiTQtXnKaLPuTSerqPx7ToSR5O0f9NB058bcd52cF+36PpzEzO/G6f68pzn8kkK1VuqGXttjMLjhXJ6OD8v6dp9sELsFVTwPXGGg35khGpUVB2oYt1nM8gVgnQIiV9EGT09SNX+HGa3oe2xNiY+H6Pjqyby36Tp+X87aPq6HrNBIyNC78sF6l7Oo/doZFrI31nFxNuDqCsU0SMxiu8O4G52veQGM0Lbkx30vFEkdkXCc1fUCbqgqX+lieZ3WnAWHc8HPiS03dPKzL9N0vnfbeT+lKb+6yq6vmhh6r1RYjuipQW7ErEr4y04uoLpsBm9cZKZZ+cYfnWM4ql+el4vMnJqlL7H+kluSvmLfX68fBCj7y+Yxvpi9D3Qz8SrU9g7bc+1VBCy9yQZfq+f1NVJqh7PUfteHdH74qg5jb3epvruGia/mEU/oBn9jykG/nuEpj82U/vbWho+b6T9ww4aH2tEZgRnt8v6P2zAud6TTHb2WfS+6LlzpFPKxD4TZ/sb2z1i77O8tY06ofWGVtpeasVcaZAhIX4gxtRHY6grFLIoFI52MvBpgZZP66n9Ok/L37ppfrMT2SK4u12mv53ButXCelpRczpF7B6XxhfraHy7nsxrWfr/a4j2/9VB7vcZqr5K0Px1LT2/6SB5RcJbK4gL1VurGTk5RudjnUtUEyvEXkEFPwrOcNAXSHK7Xbpu72L7V9uwb7ORcaFwbyfbPthM4y8byN6UY+LUOGOnR3Dvckg+Gaf/P7uY+Msw7sUOZodh7NQw/W/2krw8jrVJ036okY3vzWBdZzA3GTZ+skD2tiyRfS7uQZfRd8dZ/8kmam6uR40q7Fmb2KVxOt/poufjAqlbUjhbHPSIpn5/nvFfj9D9WTfuUy7OIYfIYy5tjzXjTNme5WoHrhhv0VOU+EmYFTVzdbRe0k7DNY3U/LyW6uuryR/IU3V+FU6v64dRhjdmmVI+WGkWWg60MH96A+2PdhDZEyF+WYyt72xm4FiR2K4o+UPVjPx+lI7Pe4g+k6T1cCsb3txI79Eh1B5F79tDFL8YJnusCvdeF/eQS+KxBMnrk6gpRWp/iov+chGp+9OoCU391Q3Mn5qncKiA7tdeOeJCbDDK5l9tZOTFUdxRz4VlBjSDh/qZen2SquurUFOK3I1Zdn61BftGG/m5sPjpRtpPNBO52yH5bIqub4v0vz+CfZlN4roEW3+/heihKOlHowy9VaD24So6j7fT/UYnqedStH/YQcen7V7b3+/gPO5Q/XiWyA5/DaFayJ9fz/gbUzTc3ei5xoJoozN2zgqxV1DB98QZDvpx7PVTjVzw3EVc/cU1jD83gd6p2fr8Fq778ueMPjlO6qo0fQ8U2f3BdrZ9sYHNX8+y8M0cF/3lAlrubqLp1iYW397Gtg920XJzOzUX17Ll6Bau+PhSeu7sQI9qRh4c5Px3dnLhx3vY/fku9nx9Phd+cxETL0yRuDTB+L2TXPr+pZz3h53s+rcdXPCb89jy9AbqN9YiA0L99fVsfm+B7V9uY+NHc+z5dAdbjy2QmPR98VZ5N6nxCaIUYx6E64VD/fxwRE9VMkjLJ8t2UHrXRQouvTcVuOSDi7jis0u44uOLueCVnSQ3e4uLbfc2Mvb5CIPfjDL+xTSLv9nCwP2DyDobqRHs3VGmj8+y7YMdbPtoK7s+Po/tb26j58YCiakEm59c4JY/3cjiywskzoszcvsYl75zGQtHNlM1X1PKsOS02gzc1cWeT3cR3xZHmoSmzXl2PbuVKz+4lLGHRkmcn2D6kSn2f301/U8WsXdbjD01yq6Pt7P9y0XmfzvP4rfb2P7FbkYPTzP00BhXfXUF488N0vdoB3ve287IMwOMPjfC/KtztN3dQvZgmsVfz7Prm61s/Gqexc8X2Xpqkfx5tZ4brV1ovqWNqXfWYy5xymqeFYu9ggp+LKx+oLRd3RJM1hDpjxCdjmEP20iL4I64xGZj2IM2qlFjdVvENkWI73Zxdzi48w6RxQim22CKBnedizsXwRQNul3jDrtEJ6JeVE2Vp1sdmXdJXhgntjNKZHOEyKYI9qSN6lXYYzbR9VEiW10iW1wi8xHcIQdTr5GMYBo1kfEIsfNiRHc5RDa5uEUXVaVKO1Q9MSiFpfwNQWGSDm+wsQSxPRVCpbS/U7RM7Eu29BtBxRRWo0V8fYzsvhSJnVEinf6z24WOO5tpfLEO+6CDvdHBnXSxWu1SPk3JKpx+h9SWJKnzksS2RHGnXKx2C1WvcIddUpviuGMuqlVhd9tEp6K4oy66RpcGGJUVIhtcLv3wErpu78TpcjANmuiwS3wmit1no5q9Z8Vmo1gTnh65XbRJ7kgQvyiGe56Lu+jibopgjzrY/TbRDVHsaRtryCIy7WKPWtgjNs6Yg+k26AZNZMghsdMlujeKu8PFHXHRjV7YZP3WRjYc3cLMc/PIsCrHx591B2qF2Cuo4Hti5Y8rxJLCG4+CDTbLt/xHxcsLGdIaL21sCc4PiCwi5Y02MSnn58x4rpEgkmKJrravf17S1E6Frg02JiUElVOoQFs8LqUdsoFkcKA2qVU52cbqKnvK39JvUIE0gn8s0IUpbeEP2icr6Lz/fH8TT3ZTgvnj02z7agvdL/bi7ol6PuZAC1yXr1cZhapSqEBTPNgElBRUxm+DuJQ11lN+vQMNHEsw1YbZX84xedsMyfZkWa882DTkLGt/J/Ts6lDbB5r7kdAzwxuUgg1mQftHBJXy7iOp0LGM0Lm1i8mb1pFdqPUiYsLiY2fsnBVir6CC74mVP65ITKF8aH/be2ibu9aeNKpRGu1LvRptYWsLW1kYZTDKYCmDrTS2UljKF5PSwbZ442tbi7eZSAuWVti+ZrlR3u7KAMEzjPJyl2plUMr4etqqvE1el2UBwqqSqiT9G6hDLtf6KKtAhgXNysS+tH1U2OK3xZMP8CVbazfkGLt3iOnnp+h+qJfU9swSN4QRT03RUn5qu0A64LtCB+X1tvYro0h3ZcgO5bCylq97blDGbzdllaVptY0q/dt4G518KK3RytOu0b5sgVbae59ifClfeylUAAcjEU+aN6qJN8dJ92bRDY5H+MrT9qkQewUV/GhY/cDKrEPh3ZthoStP+c+Ti1UEyX0dH4GwlSUWdklcyxOwKsnWloSvVIk4jX8/EzxTacrJg40vTWv5Ylphid5lWWykTOolkvAHgrUlV71zlV8uXdKSL89ilsbEl+UKyhDEEqL1EbLDGbIzWZKjKdxmt2xl+/UL2iRoF1Nqm2DAWXbvFaJTPrGLg1JOyYIWRyOWhVg2yrLQJhgQbW8WopwSsSuxSu0SDHxK6RCpq2UEr0uDdhmekJnlC5wp5UcPOYJENBK1EEv7GkEVi72CCn5ErH5ghVUqgqxCnOEkBoHyoAr9FsjQLtclX6rdHcrWFFjFKiTAteJDDhJ2lAk9XM41NbgDwv4OxB5224TLrUVKswGtAhlej3iWzABU+TwVaLUEwmkmcPNoXwisrNVe1mwPdNmD+/qKjyvKrEJt6KJVFBNonQda9dp4ro9QtqDlSpsrNMnXdFFJmUxD/w9fv1S+189KpIwXWaSs0gzw7J1zFWKXVcpRQQUVLMfqB9Yi9hV5HWVZkgVV/i0gKFX6MMuJN5ZqtC8jxLOhNDMoJ3D4bsTuX3vWBAlLpQe0T76lOoZTw0lI47w0OKklxLNEZz7w3y8jrOUJK1YSuy4NBquXXSFio8XFaJtyIpO1rOLVrP4znf/dsWTgV55LJ3BreTo935XYg3IFbRUqW4XUK6jgTFj9wPKEDmFiX+vc8P/LZB8mdrXKPde+79oILMO1rfWzXX92Ils6IIVnKitIe4XLRFYnnmWD01oDZdh9tHpWn7XKHmReWuWcFeVZbvWH/r98gD1TWy47J2wQrFaXJe34d7zvit55BRX8XVj9wNqujLN/YEs/7iANXtm6/Ps/7NWesbY//YdrnGWEd+5f1g9ct7C1v/aM4+97L0uNgrXww76nCiqoYBl+nBv/Yxb5PxN+ymX/e+q4isX+D777CrFXUME5wzkvQAXnHMtnJj+Mn71C7BVUcM5wzgtQwTlHeT2hQuwVVPAvgXNegAr+x7GSvNdeqP1+z6gQewUVnFOc8wJU8A/i71k8Xm0xu4wwof9ji8YVYq+ggnOKc16ACv4BnDlmf/m5YZfLWjtuw6T+/cn9TPsJfvjopQoqqGAZznkBfvo40+7M74jvQoRnI8mznxe21teWUvghiL2CCio4pzjnBfhp42zb7r8DfghS/273Ops1XiH2Cir4F8E5L8BPF2eVPvhuOJs/+kx+6tVcGmsPABVir6CC/0Nwzgvw08UPpDT4QxP72viexK4qxF5BBT8xnPMC/HSxBqn/PQuEP6Qb5uxlqxB7BRX8H4JzXoCfLlYh9bWs6n+OCJGKK6aCCv4PwTkvwL8MlJTlisOa82dyo/zPhv2tReyrxa9XiL2CCn7COOcF+JfBcmI/E7mfkdS/iyb9GXz73zUqRinDUmni1Ui9QuwVVPATxN93wVJd7bJ0bpAmLsg4FCSoKCeSWPpbQBZBuj0P5axIZUneIJORhS0OrkRxJIIRm7JOug5dszwj0Jmt4tXrs8p2+jMsjgb1t0QRFUNSXDKSIC1xYmLjisEVi4g4uOLgiI3lp9sr3VvCseZlvXkRgxYLW1xccf3rLT9rU1Auj7C1GGyxiUmUuMRwxcUWm4i4xCRKTKK4pbbz09+teC8VUq+ggn8BfIeTlEJp7wM3YnB8ojJisLTtJasWRVQcEhIjKi6u2EQkgvaTHjvi4IiLLW6JWLzcqAZHtE98ERyJ+udYpcxFrlgkJEFeGmiUTtKSJyopjNg+6TnY4vhJlR1siaDFJpxdafWwwHLaPu0TqHedV74lSSr8rElrJZYwIriiyasEM9Eh9lWfz4IzT6vKkxSbGskwlB5kqm6aJruJmMS8nK2Wn8Tbv48rFlFxSu2rxMKRBHmpp1u6aJY6cpIgJgZLxEsfKBolNo5EyEiWcWeSdbE56k0zScnQYXUwHZlgyOmnVmpJSBJLjJcqb8mgu5pezDnvoBVUUMHfj7Od4CUetpSNIy4JiZOVBFWSJi4xEipBQsWIi0tG4tRIjirJkpYUOcmRkjRxSZCQJGnJkJIMcUkSkxhxiZKWOBn/njVSS1ZqSEmGhCSISYSYOCQlSl7n2Rhf5OKq/fToUaqkgZgkcSVKzL9/XJKkJUdWakhImqhEccT20/OtrFtgFdviEJEYMUkSlzQxSRGRGLbYHtkFxG6kTO7+PbyBxxAXh6xE6VUNXOKex4vdR7k7ezujppdaidMujWyr2sbFzZcwZA2TlRy2OGijsZQmKg5JiZCTJFlJkpI4cYnjSpyUVDMiY1yTv5qN9jo6pZEqiRPxrX4lBiMuMUnSpXu5pfWXXFtzkG67n6zUMuFMcLDhANc27mdQBqmRGlyxvfpIMMApwsnA/wk6ZgUVVPD9caaDCiMG17cEW6WdST3JBmuWjWqWURmmSzpplHqapI6i6mG9Wc+iu8iEmqBbummVFnpUDyNmlCE9TLd0UzBdjDiDDJs+uqWVonQyqUaYl3kWZDObzCbG9Cgt0kiVpKmTGkbtEe5ovItX2l/ncusAc2YTBVWkRvJUSTXN0sKgGmaDtZFNZpEpNUObdJCWDLbYqHDyiFAC5ojEabbbKOpBhmWCMZliVCYZlGE6pZMqyWL7eTqXWO3+oOCIQ04ydKk25vQ4e80WblRX8V7L2zyXO8J6a4IOqWNcDXNhbC+XJC9nRs1SJ/VEJY4Ri6xkaZdWJswoG6055vQM4zJKj/RQI3k6VYEro1dxsv8Et0VvYZfsYFwP06TqifqzIkdiVKs6tid28eL4y1ybO0iH6SUtVQyZQW5rv5EnBx5lT3QXrdJMTCJLBqmlbqhz3ikrqKCCfwxrH9S+NZuWND1WkYszl3Ko9hCPVj3EYzUPck/NHZzv7mZMRphz1rE/s5+Hax/lybrD3F11DxfELmBCjbIveiF35O/g2vh1bJMt7E3u4o7mm7i55udskQ3sUTu4K3s7j2cf5dnkMzyXO8KdudvZHNlEszRR0N1ckvwZp/pO8W3nH3gleYL7ax5gb2ofRatIm7Sx0d3ILdlbeLLqKQ5nnuGh3COcH7+AFt1KRKJlYtdlGLGo103sqr2Ag9U3cWfmXu5LPcC9qUPckbmTK5JXMGqNkJSY7w8PZxfSaLFJSJpeq4+LUxfzUNV9PJN+mKPpx/m88RNeTL7ARjPDiO5lb/ICbqu9nZuzt7HL2U2btJGUNDFJ0KcG2Ze+mDvzd/Jo7cM8Uv0Id1ffy77kRXRLF/NmPc81PMs3w9/wRs2bHM48w8HcDayLzJKTHEYsEpKi2ypya+td/Gr0BNvd3dRJM3FJ0SgNXFx7IYf7H+fW+pvolyIJiXrvueRaqvjVK6jgXwhrH/SsdZc6XcfOzHk8P/Aivyq8xOPNj3Cs51lenzzJbblbuEDt4RfV1/Ns7zMc7X6Op5qf4lc9x3mu4wgXWnu4Pn0trw2f5Jm6p7lSXcbPc/v51cjzvNz/IpfLpezXV/JG/yk+7fuY081v8FrLSV4rnuDm+hsYlD4GrD4OVF/D6aE3+WPXH3m77m2e6HqCyxovYzg6yLAa4OfV1/JW32k+bvuI9/Mf8EHnh9xZeyd9VpGExNFKl0ndeHDEoct0c6Dt5zzd/Syvtp3idNNbnG5+kxPtJ3mg8QEWI5upliqMGEQMooINOwZLIuR1I7tyF/BM9xF+1XGMw/mHOd36Cn8Z+DMvZY6zwcwwbg9wZd1lPDv8LC8Nvsz12espSDdZyZCTHBfG9nKk51mO9h7lifYnOdpzjJdHTnJr5+30Sg9zZh3Ptz7HNyNf827rrzne8TK3td3OXGo9Oclhi01Oqhlzp3lq+CiPdRxhyp4nK3lciZGRDPPx9TzYcYgnux9nnUyRlLj3nkuzEG+htkLsFVTwL4G1D1r+omV/dICb227h+MBx9sk+xmSYjbKeG5pu4KrE1dzo3sCzTYd5oPEeFmWeOZnkCvtSXh9/jTtiv2Sn2sHh1id5pvowPzMXsUW2cEf2Ll7qPcGlciU71E6Odxzn+fzzXGFfyT7Zx2Mdj3Jf+13MyBgd0sKENckd+bt4o/00l1mXMSmTtEkb9ZJnRA9wc9VB3ul8nXczb3HSnORX7ktcq66mKF2kJY5R2rNMfVJXRhEVlxZpYoe7gxsiN3Gfe4hH3Ed5xHmU+91DXOMcYEpPUS3VOOIgYlFOyG2ISZzh2Ai3d9zB0cLzXCI/Y1amuETt48PO9zmWe545a4oWqWNAerm2aj/PdzzLLekbGJBeaqWaRmngoc5DPNv0NBdF9jEmEyw4W9mfv469TT+jQZpokWYuURfx1vDr3Ba7lUVZpE+K1EkdCYkTlQg1kmcmsoHnJ1/ltpoHGDAzJKQKLRYRiTHqTnBvy3280HuULbJASpLee15isVeIvYIK/kWw9sGA2IeTw9zRfSdPtD3JJtnIsAxSlB7WqXVskA3cmruJYy1HuCX7cyZkkDEZYqu1yLOdz/FQ48NstbfxeOujPJl9jH1qL9tlB/dmHuBk11tcLT9np9rNsw1HeTT1CNvNVjbLJu5puYv7mu9io8zSLi30OkVuaruFF9pfZKe1k37po1N10CntjMkQV1iX8Hz8CO+l3uHzqi/4uutr7nJvY0j1kJU4liwldtGCLRaduo1f9F/PkZFneLX/BG/0nOaNntO82neSh7oeYXtqOznJen76UKSMEkNEooynJrir824ebXuERdnMhIyyTk1xqvYkz8efY6NeT6e0Mih9XJe5hpeajnFP/HbGZIhmaWJQcGvUoAAAIABJREFUBni65wkeST/ANr2FfulnQAYZV5MMqRH+f/be+zuOa7vz3adydY5ANxqNbuQMEgBzjmKQmHMQgyjmTIqkSEmkmMWcgwIpKt8rXVv3jsdj3zcz9rzxemu9N//U5/1Q1Y0GSEqyLV/Kdv/wXcBCFarOOVX1Pfvss/d310qWeskxV83k8YT7vBXcwhSZRKd0UK/qias4rgRJSJopzgxujL/L/tQxuvQBXImhxMSVMKONQY7UHeFaxxVmyfQhYh9msRtUib2KKv5D4OUHNX/jtMltYWvjNu503+GAHGCtrGWFrGBXeAebzHW8Za7nYsN73Gy6yD59J1vUFk4Gz/DJ2C9Z425irJrIycZ3udNwk/cC73LKPMmT2s/5tvkP7JOjrNU283HbZ9zJX2etvYxVsoRzTac52/Yh8+0FFKWRotnIxoaNPOp5yG5zBxtlPW+5m1llLmOtuZJ3Y8e5Er/KMXWcs8Y5fij8wJ2Om0yyx5OUmBfe5/dLiRdzHhCDhIowGBnNvMRclkaWsDK4gpXBVSyJLmd6aDZNqoWAuDhioleMjRINQ1yarQ62F3dyp/sWx+zDbJQ1HFL7+G8t/5WvUl+y2djCIlnEJtnEpdhFvqp/xs3gFd6U9UyQiXRLD4fzR7jRfo3D4b1slFVsknXsCm5nQ2otHdJKVmqYpaZxe8wNTgZOsFk2sdnYxPrIBsaFJhGVFFFJMmgPcqb3fc41nGaiMY64pLxNVUkz25nJe/Xvcrp4ijEyQEiCIyJ8qhZ7FVX8B8LLD3rkZRJRMfoDAxxpPMK9/nvc7r/N9f7rXB68yKb4OqapsSwOzeFUyxHujb3Nnf573Bh1j725o/TpYyhIM4tDi7jYdY4nYx/zpPcTnnV/ztOuZxwLnGSntYfHEx5zf8wNtoTXsNFZzeme9zk78TzL6lZRkEZSKsW4wBg+GrjE/dF3uDf6Flf7LvN2aiur3VUcbzjB49Gf8mnX5zxtf8bHXR+zOfwmHVorEQmhi1buVymZyAtTtAlpLgktRo2WJqsyZFSWtFZLRMVxJYAjNrootGHjo9DEIq5qmBKeypHmQ9zuv8bt3us86rrPN+1f8k3XV+wP7WdnfBfnWs/x6eiP+ab/Cz7v+ZTLbRdYlVpFUTUxxZjOweZDXB/4iHsD17jTf5WLo8+wIb+GgtSRlAgtUmBv6w7u9d/hQfd9bo66xcG2w4yPTCYocQISpskssrvxbe6MvsJcewY5yRGQMHWSY3liCR+2f8Du+p00SxOuuCi9MgP2RcT+z4hlV0PnVsMlq6jileOnDqoyuce0GB12O7PC05kfmcus8AzGh8fSajSSkST1Wi19bhfTYlOYFpvOmNB42swOEpIiJjHqtSxjA6OYG5nG7NBUpgUnMCUwgUF9NH1aNxMiY5gQ7qdbb6VDa6MnOIruyCjydiNhieCISUqLMjrUy5zwTOaFZzM5NJ52s41GrZlR9iCzQnNZEFzEG4HFzAjMoEkrEJaAF644QuzKS/9XmKJjiIYpBrZYOOLgiONnbVoYYmCK8ZJYeIUpFiktSbfTzszwVOaGZvNacA5z3dnMCc5kUO9ntNHLhMAYpocmMSs0hZnByUwKjKHTbCUrGWokS5vTxaTwZOZGZjMzMp0xoQGa7AJhsf1sVot2J8+s8FReDy5kRmgWve5oavQslt/etEowNTCRm1OvsiW7iUaj6O2RmN3satnFsd7jTLImUyu12GKhqZ8i9gr5gV8kTezLFPgTYJXcq6jileLnT1LleHaLmIRJSIyERAlLENdPcbfEwBGboAoSUiEccf0UeAPHPx4Uh5gEiUmAiDhExPV/OoTFJiwOYXEJSBBbwlgSxBQHXXlx5F4ij0NCYtRInISECUoAR4IEJEJUEiSlhhrJEJc4dinBaFh/hluWlfHb2gjpg1I25vPW+vNj44hFTCKkJU2N1JKSFEmJE5cwUQkQlYDf9yBxCRKVAGFxCIqLKQ6WBAlLjIQkiUqMgATLyVW6Jui64IhOUqLUSC0xSeJKGFNsNNExRCckLgUtz9tdb7OuuJ68XU9QAowOj2Jj6yaWNa6kTvJEJOpJGjxH7C8TBpNfoFfjTQS/RMahiiqq+DfHLz9ZKUHTBE152agvylT0UuxLJOm5PAxR6EpDV6oskmWKwhSFpRSW0jA1DUPTMTQDXVnoykZTJkoNWYxKEzTd06OxRcMVDVM0X57ARBcHQ1wMsb10/H9h4QsZ0Z9fSlSaKF/SwMbwrX3Dl0V4GbSyZayji4kpVlkHpxx3X4rkES8E1RAbTVko5VnYJSvZFJ2QCtER7qQr0kVMj+GITdbO0hXtoSnYSkDCWGJ7z20Ysb+czMvnlEh8pLxCidhH6rb/CuNfRRVV/Ivw8oPPEVplVIkuFRmYQ+cOiYGpYb/rmoamVMV5Hqnpyid9TUMrQRnoykBT+lBCkE8oSleoiglCK7dVRxPHgzLQNFUmHzWSsP6Z+EXW53Nhg3qFqNZI0hzRFp8YVVm3Rhvqd0VClXeuhigd0bTn5A2UEnSle7o8yncjaSaW5un0WBUaPJVulaH+vZjYNf95DSVoKV5quT83HlVUUcUrwMsPlgi4/OErQTRVxstKug2zSJVHxOrnqvBUkINWvq8aQVzKE/1SHkGpSqIRDRETERNNmRiGgeiqTOxK/i2iPUaSoJe4JMpElO6vNl4EP9Gp1L/KiXIEVAkjibX0HNTzRCwiZdLXdG+yHGZtv9RfPlwpU9TQJOqpdlq+SJoxtKJ40TV/1h9fRRVV/Bvjp08ouV1Kcria8hQUPbVGT5nRFDVMd3wYqf/U9Z8jAeX7rD21xJJ+uPJley2xCUqEkMSxJIgSE6UZKM3PChUD5btkLM0dIs9hUr6/9gCqinYbGL47SBOTl1rrw0heeaRuyJDIWMVKQxflq2l6m7mqHGte6vPQqmDYCmsk2Woj8EIdd4XhS/+aYnrqk2Jg+n8LShhXQtjiYvj7F88Re7mPz1+/iiqq+Ivhpw4qNM2X5hUDSxxCEiEneRpVkbzKUCtxwuJgVkjk/ouIXZTvTtHL/69ER4mFJQESKkpRz9OmdVAvjYQliS5u2TrWxMJWEcJGmrCWxJGIT65DbhGtYgL6dQdRYYhNRCVI67UkJIUtLrqyvKQm9TPumAo/eol4lVLoSsdVNjVGknq9npTUYEvAJ/dKYlf+5FcaNxki1Z/0i8swAjZEJyphslottVoNUV+JMywRavQailozDapIUtIEJIBR2scYNmFo3krlV18dVVFFFf8M/NRB3xpVOqav8NipdbJOX8deezfbAm8yx5hKQdX5CTwKQzQMP4TQ8Mn0eVRuvJbgkbgmtq+HbiBioYtLXGL0G21sTq3gUGQfK4yVFFWLp8muPN31kIRpd7uYkXmNUYFxxKQWS8JoYqPE8ItQaOUVxvP3f1nBjZ8eQG+y0AmqKO12N3NSc+iWLoISxlaBsttiyH/uYahike9GUqqCeBWa8pLDcmaOOZnZrE2tZYI2gbTUYIozLAtW/DG1xcQWA2PEeKsKd9jIfpfdakoREIcu1caS4BusjC6nXw2QlgxNqpkF6QW8Hd/OWmsdvaqPmMSxxS7vBwx/jkMrpJHvU1UWuIoq/iL4qYMlN4OOKyHa9Q72pPbwXce3fNf0LZ903udQbjeDTh9xiRCREAmJk5IESYkRkzBBcQiIQ1iCRCVCXGIkfc32uB8yaYvlb+rZKHFQYiNiI+KgxCGmRZkZHc/1yWf409Q/cLPxBmOtcYQliuFHkMQkzvTITHZ3HOD15DIyUiQoSRwVxZUwYYmSlDg1kiBVbptXFMQVm7AEifnti0mMsIRwxcYs+fKfGxfP8rdEwxWbGskwPTiTd7qPMFvNJCwRXAlii4MrLlGJkJQkSUmTkBQRieFKwHev+MlTFREmSmk4yqE72sPhSUd4NvsZW60ttEubXywjium7fAwxCUmQGkmSkRRJiRKVICFxCIhNSGwi4hKXMEmJEZeoN/FIAF1sTH8llpUs8+y5XGo6z73+OywPLacgRUbrozky/ghPJj/hStMVZrozSUnKb7+DKQ6uhAlJjJgkiUqcoASxxPKIX5QvLWxji4Ml1gtyC6qooopfET910CN2RxyapZn11ga+bfqWbwPfcNE4x35zJ/P1GXSpJgpSR5/0sEAtZIW2glkyjVYpUi+11Ekt/dLHDJnODJnOTJnOQpnHazKbLmknKgECpRBF33IXn9yVX3kppcUYcHq5lL/EtcJ1xtvjSEgc2yelVulkvraYNcabzNEW0ihtxKWWiKRplnYmyhTmyFwWy2KWq6VMkYkUpZ68ZKiTFL3SwWsyi6WyhNdkPqNlNHmpJykJDLGQiszV0rhoonDEpFbSDEg/S9UStplbmSUe8QUkQFLitEkLk2Uir8tCVspqlshKxspEMpIh5ssdqOfcIxqaWCS0GuYEF/DlwFecNT5kp7zNEllEv/STlTriEicnGQalj6WykDdlDQtkHj3STZ1kaZQiA9LPVJnCfFnAClnNPFlIs3SQk0aSkqNempkg01giK9iitvFh9Dx36u+xMbiRohTISoZmq5nDucNcaL7A3PBcUlLj73fESEmO0TKRBbKMpbKaqTKTRmkmKjEMf8M1qCLUqzzNRgspiROVEJYY5c35fw1+8cte3eCt4j8PXn6w9OFEVYSZwRncabnNn9v/nj9n/47f57/lfOE0cwPT6ZE2ZjnT2J/bx43OW9zvesDVtstsj29hlNZNt3SwJbOJK52XuVW8zo3aa9xtvs2l7vOsqltBUmJlV463VDfwiN1TVNTEwBWXRq2RD3JnuFK8zgR7HClJ4IpLyqxlTs0CznRf5HrnHXYnD9Au3UQkSVgSLM4s58OOc9ztuMfD1kc8bLvP+cIHrDAX0SttTJGxHI3u51HDXZ4Wn/Cw+Ih34u8wS2ZSL/W4EvRdH6WxKUXhKGwxabWb2JBby0e9l7nTfIs3tY2kJU1QAjRInnX5NVzpucynLZ/wtPCMT1qf8m79e4yTceQkgyvGC4hdoYlJVFLMNOfwde+3fJ//gS8bnvG49QEH0geYaE6kSRqZHp7CidbDPCre4bPaxzwuPGab+TZ90stEYwL7c/u503GHRy0f86j1U6613GZnzT7GyiR6ZIBl4bWcajrDrfb7fFx8yrfN3/O0+Rmb7c0UpUhc4qQkze76vVzouMic6FwykiUpNRSkhbnOIs40XOFh/imfN3zNvcYHrHc30KraCEoEXSyyoRxvtC1iw+iNtJpNhCXg125VL4ys+qX4xcT+cwlWr/5DrKKKXxM/fYISISguo4xejiYO8YfO3/M4fJ+ToROsCC2l1+himjmZQ7kDnGs+z57EQbbGd/BB7RnujL7NMmsJY6Sfle5Srrdd5uueL3iQvcexyDusT65nRmIGYQkPFWcWqbDavc1Pj9gDFLRGTuZPc6npKuN8YnfEJqJF6XP7eSvzNtc6b/Fe4Qy90k9assQkyTx3IR+1X+Nh6yM+SHzAyfRx7hSvcrrmGK+paRwPHuT7+q/5Ov6Mh6F7fBr/hM/qPuVo8iijZTRhiVT4wytS7f09hayeZnpgCvsye3jU+Yi97l5yKkdUouSlno25DTwc9ZDPGp9wMXSRS7UXuddxhw2htdRLhpBYaCNiw5VSmGKSkiSzzTl8NfAdj1Of8l74Pc6lz3KpcJn18Y30Sz+zzBkcjRzifugOn7qf8GP2T9wK32auPpvJ2kSO1x3jWeeX3Kq/y9Hocc7XXOJB92OWqxWskVVcarzI6boP2RXbx5HQcR43fMLTrqdsNDdSkCIxiROTJDvyuznddo6ZkVlkpY4GKTAjMIczxUt81/QjD4Of8Tj0mD/Uf8/twm1eC8wjJTWYYlNrZ5mRm8UbbYvJalkccTB9i71K7FVU8avjp09QorDFIi85ltuL+aLzCaf193hdFtAhHdRLPUsTS7nYdol36k8wVc1mkkxnmbWKW5232R3fw2R9IrNlOmfqT/K4cJ/jwWPMlbl0qi7qzTyWuAwP1/PjwX1r3RKHqMRo09r5oO4cV4o3mGxPJiu1BCVAUILkJMdcdy7n8xc5n7/EWJlIneTJSB3TZQZnC+f4MHuW1dpq1hgruZQ4w63CZdapFXxce59/LP6ZPwX/it8HvuUPiR/4U+MfuV1/mzkyh6hEh5KNKgtSKEFXQkRcmqTAG+7r3G9+yCH7CI3SRFpqaJACq+NruNp0nQ9rzrFe1rE9sIU7LdfYH99NsxSIiouuhocOauLVQc1IkrnmLJ4OPuOEc4rFagnbje1czd9gX/ogc2Qe66x1XExc5Mvol/zO+T3/K/NPfB3+muX6EqbIBI4mD3E/e59D7mHmywJ2urv4vONztqrNnFCH+bj5Adsj25muZvKazOdY8hj3m+6z1dpKi7SRlgwpybAru5+zjRd5LTSPgjTQIR2sT27iq4Hv+Pvi/+Sv3B/5wfmOv8v+Dd91fMeGyEbqJY8jLlEtRt4u0BRsIyZJHAn6IZVVYq+iin8DvPxgqYK9KzaN0sBqeznfdH7Jef0si+R1eqSHghRZmlzGhY6LHMufZLYsYJbMY42xjgddD9mT2sdEfQJzZTofZk9yO3WdPWo302S674eN+z7sio+1lOyjNHQ/frogjUzSpnA9fYtH2ccsN5cySnqokyy1UkurtLPIWszV9HXuZO/zhiyhV3ppkibmyzwuN17i/cwHLJTXeUN/nQ9j73G78Sob1Boe1t3jz81/yw+h3/GV+yVfhL7gafJzzkbPMktmEi1b7BVRLOKl5NtKJy0xOqSNZc5ynuS/4LR2jvEyiQ7pplO6WR/fyMXiFY6kjrFA5rM+sJKbzR/xTvIw3aqThISHCoH4fdeVTkBscpJioT2bp2M+Zb+5j7kym7f0rdzK3eF46hQb9C28Fz/Dx41PeBh+zMfWJ/z32D/w17EfedNYxxyZyvHUIe7U3GCnuZ2ZMoO3nK180f6MnbKdk3Kcx80P2BHewRyZw+vyBiciJ3ice8Qh+xBjZRzd0kefDHAqfYY7uQdsCmxijAzSLwNsSG3my8Fv+GP9f+Fb+2u+tj/ni8gT7tTeYaWzmrw04IpDRCJkpI56KZKQDAGJ+vIJVWKvoop/A7z8oJcgoxHVQoxzBzmWO8ofBr7n07qPOZE5zvLEMnrNHqY4k9lT2MvZ9gscrX2Xg8mjXMxd5H7ffZYElzJeH8emxFrudF7hk5aHnKs9z5bUNsaHJhIvl52TocSksuWqMMSkxsgwKz6XvfX7+KLwBb8rfMuZ7HtsSKxh0Bqg1xrF67ElHK07zieNT/iy+RtOJk+xOraKAX0Ub4bWc2/0HS60XWSZs5JlweVcbrnI7b4bLNeWcyBygKetn/Gk7lPuxu9xK3aX66mbHIgcZJyMISRuObqjnP0pHqmElUNXoI2lNUs5Vn+S37X+NY/ST9hVs5/59htMVtPZ1bCX6/23OV7/Lku0xWyNv8ndMTc5WTxFv+onKRGMSk2cUgy72DQYGTZkV/DVtM/4IHWC5fpiDiUO8KjjY87XXWaPdYizNR/xSdfnXEtc50b0Jj8m/oa/afivHArtY421lHPFk3zcdZcjqf28oS/kQGo/3477hncix9istnCh+RKnG85wuPYwJ1OneFD/kK9av+Fc+jwL1essCi5lS+02HjY95pvmb7lUd4Gt8c3MsmcxL/g6Z5rO8bTpCffit7mbuMmN1DU+qPmAefYCslKHKzYZq4aJyYnMyr5GnWokIDHMCjnkKrFXUcWvipcfLBF7XI8yOTaRdzqPcrXnCtc7r3Gu60M2N26gL9BFo+SZFJrItsa3OdN9nrPtFznXeZY30xto19ro03rY1riRs6NOcbnnPB92nmNP636mpmcQkTiG6OiahiGe/ssQsXtVnOrsOpYVlvH+6Pe41nKFG43XuNRxjt2FHUwITmQgMJa1DRs41fU+l9ouc63lOmebzrKtYTNjzX7W1qzg5KgT7Os4wPzIIuaFX+dw5xHe6T3GDDWLsTKeHdntnG07y6XmK5wrXuJU0/tsqN1Au7TiiuXruVdouPhjFFQuo5J9bOraysnu01xtvs21ljucaP2ARcHlTNFmsKlpK8f7T7Ct7i0W6PNYlVzOsbHv8FbLdnpUn1+6b7iPXRMNRxzq7RxrWlZyftwHHGnYxyJzIW/XbeNM94ccqTvGanMD6yNbeL/9LB+1XuVa/Q1u1z/kZuE+u6O7WRNYzsHiTj7sPcG23EZmWTPYVLeJc/0X2J3ZywR9EsvTKzjcdoTzPRe42HaFi01Xudh6hcP17zBXm8fS5AoOdR/mcvslbrRc4VLrWQ7m9zEnNJsu1cVrwXkcaz7OuaZzXGg+x5nW0+xu2su44ESSksIRm3wwy4LWuaweWEVOa8D2XTElH/uLol3+YsT+6j/CKqr4tfHyg6UU86ByqdVq6TK6GNAGGKeNYYwxig6jkYyKERGbiASo1/IMuOOYFJ5Gr9ZLjaQIS5CIBGk1GujV2unX+ug3BmjXu8loeQISwRQTxzAxfV2SyggRpQRX2TToObr1dvqljzEywFh9kHbVNhSdYTQyyh7FoNbPODWWQb2fVrORtIpTVDk6jXZajXZyqpGsFGhWbbQZnWQlT0QS1EueUfZopkVmMikwnV59NHnJEZaAn/Tz4mxKQwziRpJGp4MuY4BBmcigTKBbBihIC1nJ0WQ30W620CJFilJPg5anxWmhYDeRlDS2GIzMhvV08G3CKk5Bb6LX7KFD2slLAy1aG33GKLr0LuqlgXpVZLQ1yMzIHKaZsxgn0xkr0+mUUTRJM+3SRLdqpknVkZYEBa1Ih95Ls7SRlBQpSdGudzI5NJ3Jziz6ZSI9MkirdFEneeqkni6nm7H6KMZID2NUL33SSV6yRCRAXGI0am0MBCYw3p3IWHccRa2ZmKRwxMUUnbDmUAxkaI8XCUkAXXT0imzlkRLKv4TYh4U7/hxZ/yyh/+uE4qqo4jeGlx8s+dh10bDExBWXgLgExcUVA0sUrmgERMcWT1XQlgCmuJhi4YhVTu5xxSQgJq6fpGKK4+uqOBh+2Fsp3X/kx+qVsvOkfoPiEpQAIQkQEBdLHDRfsdASHUcMAr7Oue5nP3pZsAaegJWLIQGUWJjioovjx8o7WGLjSBBXQr70ro4pRsWYjFBkFPEzSk2UOJgSJihxbAlhSxhTAtjiYvrZoI7ovvU/FDrpxe6/KCbbS+oxxMH0E6UcsbF9lUZP697y/dQWpjg4EiAoESJSgy0JXIkTljhBcXFEwxLxx1jHlACmBDGlpPzo4kqEoMRxJYotISxxfXeJpxnjja1JQCxcsXDE8LN4NTRxURLAlACG2CixMcTFVDaG0jBFsEVwRLBkSP2zktBH6t6UxOCGNPGHE/9LSV1VkvTw6/48qb+E3F9o2f/M/1RRxavDz59U0n8xfPIsiX9ZIpgiDAmAKd8SM8qEVfogNP//PZXAUlp9SdrWO2dkGrryo04MESwfJUmCYboofhvMcntKao5DwmAiJqIMhpQVfa0V5emuKNFf0K5KYqhM4a9EpbKkhfJJrTJcU72UnIba/2KXQqUGzNAexNDkN9Q25VvAhni6OUN5AJ48w5CMQ+n/TEp5ApViYiV1x+cLlIh/vHT+C1Qty9csZQ6b/vWGnqE97BkNEfuLBM28d6r0vpQkGCqfiwwn9LIkQ2U1KN3vv4VWmqTVyOf3MkkJGTr/OVXMygmjsl2v/IOuogrkl5z0c8vi5zTb/6UQDSmrFw6/r166z0jBrAqXTTmipixIpXwi98lcU8P15EfK5b60/cMtsheSsBL/+j5KevAvUVL81fAyS7JSN/1FFqUfdTTMkh2h7y6VY/lTAmLl80pSwsOJbkinf7gRUGmxjyTI4RZ7abIdLnw2zAIf1s7K65WKsLyI2J+3uEvtKbXv+XdCjRi7KrlX8ZvEz5/0U8T+HMn9q4n9+Y/3uWV3idzLMd8VluwwYi+1awQB6DJ8gvDJvbIAiBphGZb6WxqPl/b7J6Rxh1//l4th/dIU+tK1n2vTi9wFmngT0K/9Qo3o73N9GUaqLynmoobeuaFzPcvbQ8X7URJPe8G4l1yJWnlSGOqv9+6+WGK4shjMsCItVWKv4t8Pfv6kX0zs/ypSF4a7PSqgKj7iEeSs1AgXhZIhspYXEGKlZTrC+lfiZXu64hCQIK4E/apDw6+hKvr+nJ93JMGMGMfK+qpKXtLGEf9jiEZALEL+3kFJnEwbRlSaX4zb9gW2Kto18rqlthpDxyv79M97gV7uY375pF9SDS2VOTQJiIMrARxxscTylUFL1/E2ki1xy37/YZLMyvCrbployqBEwsPVLD2Ct/2i5ba/t+DtpXha917xcp0h/ZrSBF+5simFu1aJvYrfNH7+pL8csQuVhTHKvysdTfPL5BnaUGEKn9hLtTvL7fHdApVL6iEC1hDNRMT3t/vXEV1QSiPgZ7F2SBdt0klaajHFpFwYY4QFX2nJP+eaKJHmCypIKaW8ykZSGQ3yvHWuiyIsAXpUK+NkFGNVP01SJCoRDL+YhxINRwVo0PO0OS3EJIIrNobSh+5bOZGVfjelYlIb0ZeKZ//iSWfkxmTlMxsxHuU+ayg1XEveFocGydMnffTLAK3SXg6RLFnchpikpZYWu516vUBEEhjiImKiiYUlLiGJEpIEQUmgi+M9W6XKKwQvfNSlVtK0Ga3USi0RiZGQNHVanqzKkZAkYQlhi/FSF9GL+l0l9ip+g/j5k/6SxF65eaX5m4GWsrE1F0vZ6LqNrpnomu5FWyjDq+0pBraYOGLjiFu2/DyNchNTDCyxcFQQV0VxJIYlQXRNx1QGpjKxxCUrOWZH5rA9t4O1iQ10Sg8BCfnFtV1MX4rXERNLdF/7/GURGv5Gr9K9Gq6+RIIhFqayMLTSpuZQObqR42uKRq2WYENmOSeKBzjRcJhwZrIUAAAgAElEQVTXnNnkpA5LHEoVo1JmlnnpeawurqReyxGWMKay0Pwi2ZbY2JqNpVnemGkGuqajNK99dkW0i2fNGt4mudJe4Aqq3LQ10MXGlgCOBP2oKMuPQlLlaB5HHL9oRxxbgjgSRheLqMSZnZjLnsI+DuePsiyygiZpJigh31I3MMWkT+tjVW4108IzqVNFbF9r35YAWS3LuNAEBo0J5KSZkCQ8zfpy0pdXZDyl0kxxJrO1cQt9Rj9pydAoLcytmc/89EJ6zB5SkiQgdgWxvwxVYq/iN42fP+kvRezDCU5h+TrjSUmQlSwZyZKQNBFf0z0jKdKSIC5RUhIjJ7U0S5E2aaMoRdKSJi4xEhIjJUmykqVBijRJO63STVFaiEmMmERIS5IGaWBQxrAlupWb7Tc5WzzLFJni66cnSEuBgrTTIu0UpIGERHHEeM5VM+Tj1T2dFImQlBRpyVArdWQkR43UEpMoAXF9EiwVJXme2Gv0OGuzS7jY9R6Px9xlfXQtBWnwQx8DhCVFi9nB+vR6tte/RZNqJioJbAliS5C4pMhJniZpokWaaZAcNZIgKiECEiAiUfKSo12aaZUm8lJHUmJExSWk7AqXiOeaKLknNDGxJEBI4tRKHQVppknayEuRtNQSkxgZqaEoDTRLE53SQY/0UpQWMpInKBESkmZO6jWOtr7DzVG3OJg/SLc/mXrEbhGWMNO0KezIbOf10GKaVSdBiWP4GkKD5gBH8ofZFzzIJDWVVmmnRmq9Kk/KQFcWAYnQanawt24fHw1+xDhrImnJ0iLtbGzexNGuYyyJLaUgDQTEeQmxC1Vir+LfCX7+pL8EsXv38JQcSwRii01Gr2Ew0M/C6HwWBOfTJ710SDsz7eksjrzODHcqvVoXo/Ue5gVmsTG+lq3RzSwPLKVfjaIgeVpVM1NCk3gj8jpL7aWsslezKbqFFZHVdEsvjVJkij2e1eFl7Ihs593gSR7nHnErf535MpcGqadT62JRaBlvht9ia3g7q8Jr6LdGEVfhl1rthljUahkGg4PMic7ljfBilgSXsyS0jPmRBUwOT6JB5XDF8UP61HPkbohGVIJ0SRNvhldxu/c6GyLrKUoDjliEJEzRbGVOdB47I9vZFthKp/SQkAyORKk184wLTmZJaBkbgxvZFtnCusgKphnjaJMCOamjR/WwxF3M9tA23g5tZYmziAHVR53UEJewR+yqFI7qRS0p0TDFJixR8lqRaYFZLA+tYXNkG2sjbzLdms1oNcgcZzZrQyt5M7iObcHN7AhvZ21oAxO0KWQkR0pqaZRm5tvzOd34PscajtAnvTgSQCkdSxza3DbWRlayJ7yLxeZyOmU0EUlhiUNOz7E6toqnXZ/xpOYzjgQPsSG2honuODJaLY5ysVWAhNQyNTiTm923+aD+DJ1aN0lJk5M8b6QXcabrLIfqj9Av/YQliF4ZTvnc+13dPK3iN4+fP+llBQ5+MjrkX2Cxl0Pa/ApChpg02HnW59Zwp+861+svs1atYo2s4mz8NJ+0P+L9zElWWyvYGF7Hmcb3udl5nTutN7na9BGbQhsZpfUySRvP3uIu7vTc4mH+ITczN7nWdpX3Wt9jvrzOVGMqx+qPcK3pMg8a7/FZ4TN+1/Ydt/M3WChz6dHaWR1dwb2OO3xS+JTPG77gXvN91sbWUFD1OH7m6MhJzhKHDqOLTfktfNh2nqsNN7hRd5tb+dtcbb7CscbDjNMGiEoEvTyhqQrL2NtcDEmArKRZaM/j+qjrbIxtokWaCYpDWML0hvrZ1bqHex23uN58hUnaNNJSjyNROoKj2N20n3sd93lUfMSDprvcbb3B8fQBZslkJsh43g5s507mLl/nv+Lr/Ffcq73LzsAOBmQUaUlgiqA0Qakh37gSj3STKs3E0GROt5zlduEeTxo/59PWzzmSOMEyYyXvpN/hs7bHfNH8GZ/kH/Go+JB7jQ85nDjGgDaWBilSJ3VMtiZxrOEIh+sP0Ce9nga+0rGUw5TUFN5vOcn9rrvsTRykX5tAUOJY4tBud3A0f5Q/DP7AH5t/5LPsJ3zUfp6VtUvIm1nP/SYB6rUCq+PreNT3MZtlM3mp91dzSQaNsZxoPMn54kXmqrkkJIpVGRr5wve1GsdexW8ar7wBwz+Wcu1PzzpMSJLXwwt40vWIp5FHfG5/yjPjKZ/rT/hT7kcuRS9wxDnKlfprnC9e5k19M5uNTVxsvcDd7jssd5YxScaxPrqGB50P+EPfj1zJXePN0AZWhJexUC3gYO0h7oy6y77QfjbJJk6lTvGk5wnXG6+yUF5jkj2Gs+2n+EP3N9y1r/HIvMeDmvtsDm6iTVoJiutFqKgKH7QSbAnQJt2sDKzncOAEH+oX+Uhd44p2hbPmGfa7OxmQXuISQy/H7/tJQkr3IDpBCROTJDOduVwdc5uN8a20SRtRCROSIFktx5zAbM7nT/PlmCfM1GeTlybCkqCgmtib38ezrmdcS19jt7Gbs6kzfNn7OevUGnbITr5p+o6/Tv7IF8YznmhP+D79A0+anrDSWEFOagmIhqYJum765G6g+4TZYBZYl13Ps8EveBh+yC39Jh9HH3Mq9B5v6EvY4+7mm+Yv+b7jO94PvM9OfTfnkh/xbNw3vBnYQrfqoUHyTHLGc6T5IAcK++iWbs9i9zNei9LIqsBK7vXf5Xj+FGPNyYQkjikuWcmzzFnJx32f8nHxM/YYe1juLmaM1UdKi2GJTlBcOqwOdtbv5GH/A+bLa2QkTUBsghKiSVrYldvL5eIVllnLSEmivIH6fGJSJaqZp1X8ZvHKG+DhuYgShS4mIYkwxh7kevYSP9b+nv+n7n/zfzL/H38O/5kfQj/wrvkup1LvcyVzg/VqC6NlDGNlHCvUSp70P2Wfu49xMoY5MosL6cvcrnnAKllDp7TTJk3M0Kdxqecy70RO8Jq2gEEZyxvyOhez57nZeI3FspCJagwHnd183/Alf1/3J/6Y+IH7gTus1dfQJq2EJfhCYrfEpU26WBFZx9HESc6HL3PNvc71wDUuhj7kYGgn42UUiRHEXo7xVgpdM3EkSErqWGgs50bXQzZHdtAro0hLkphESEmKLulgh72F73u/YrG2mHbpJCt1NEkzb8ff5lrsGttlB1NlGtusbXxefMJbspUz8iF/2/R3/N91/5t/jP4j/zP6D/yP/D/wbcvv2RnfRVEKhMXCFG8D0pCADxdHguRVniXuEu7V3+Wv6/7A39b8yLeJLzhg7mO6zGCdrOde8i43MzdYKkuZKbNZaa7l456nnCqcZoo51asCZU/lZP447+SOMkYGSUqaoISJS5K4JBgn47jccpn3k6eZpb1GvRSJSoqYpBm0J3Kh9QrnEpeYrs2gTZqokxRRCRASh5iE6Xba2d+wi/t9t5kns6mVJI6YBCVIXgq8ld3OtabrrAutJS1JbDG99/IloatVVPEbxytvwAtRqnhviUOb3sax1GH+x5i/53/l/pF/Sv0T/2/b/+GzyOdsli3sqNnF5earHIgdZbbMZ4EsYrfay2e9T9nqvMVUmcpyWcFH0Rtci91htaxjrAzSKa1M0Ac523uas9mzrDRXMVNmsVE28KDuLh83PWCNrGCemsNR6zBntdNc0s7xSN3ju7qvOFFzjNHWKALiYIr+HLEbYtJgFFhWXM7RUcc4032OC20Xudh2ng87TnGkYwdj9W4iEkSrTOtXOppmoJSOIQYpyTBKxrJN9vJV8QdOBD9gjsyhQ1polAbapY1pMpkPzOP8bfFH9mo7mSnT6ZQ2RksfB5OHuB2/y07ZzQyZyXb7bb5sfsYu2clROcofO//EX8X+iqfqCQ/UA25qt/nAOMsyYzU5aSAsIYISoEbqyEiBmGQISpyQxGg2W1kTWs1J6wTvace5oS7ybeopdzI3WOYsZaO8yYPsY54UnnJQ9rNFNvOOdYRn475gR3QPY7SJjJGxrJKVXE9c4WryMm/IQrqlm4LkyUkNXdLGYlnEw9xDboZuskHWMyAD5KVAnTQw1pnC6a6LXKu5wRLtDabLRCbLGFqkiYhECIlDu1ng7doNfDLqHqtkKXnJEJGgV8BFOtlfd5DrDddZYS4nITEMMbzVY2WG82/gu6iiil+IV94ARF68Qat8KzGr6lgVWc5fz/mej5OPuGXe5K96f+S9xGlmymxmODPZW9jH1VHXOdt4gQuFj3g0+lNO1r/PDHMWi8zFnCq+z7OBb/iq5/dca7nBvuJuppsTaVUFViWWcb3/Glfar/Bhw4fcbL/Bd+O+4svRT3gnfpC17kpu993gk8aPuR+7x9Pkp3zR9pQ9tbvoMNpwxEKviJkWEUR5mYtB5ZIxa2hz2hhl99NvDdBv9TFg99Bu15NSARwxK7IpS+TuEbyruwwkx3Kk/SQPOp7wXwb+zNPWrzjTdIbl8SWMU4PMi7zG8dZjfNnxOf994O/4tPUR51vOsMCdw0L3NS52XeDZ4JecyJxksbmEI7nD/H7qd7wfOcVKtZLLhct80/Y1X2af8Sj2iIe5R1xqvsKS2AoykiMkQcISZn7rG2wat52+9DgikiIgYdrC7ezv2ssng4+4m73Bo8RNftfxOZfyH7LQmc9qWcPd7AP+2Psnvmv5ii+6nnCv5zbvNr/LeHMyU7VZ7Mzu4WrLFb7r+Zrvu7/lWssVtjVspU+66VCNbG3cwOW2i/ww8APf9/yee6132F63nVGBAZJSS6vdze72g3w69jMu5s5xof0M7w++y7zca9SYNQTEpqBqWBFZyCdj7rNJNtAoDaR9Zctx5nhONZ3iQvE8s9QMwhL0ImIqs1pf6IqpoorfLF55A8qkXsogLemyl0SgghKiy+pgY3EtC805zJc5bExvYKozlXqpp0bV0Of2sqJ2BTuLu9nfdJgtmW2Ms8fToBoYa41jRXoVO+r3sLfuINvrdrC8dil9ehdJCdOiF1iSWMyuhj3sLx5kV243u+p28HbtFhYFX2Oc0ce69HL21e7iaOYwB9MH2Bx/k4n2eNIqiSU6emWfKtxKuigs0QmIS1giRCVKVCLEJEhYDBzxxNHUCyIslNKxNJvmcDtrmjaxo/4Ah+veZX/mMG9mNjElNJlWaaE/MMjK+rXsyR3gSO44e7P7eav+Lcbbg4yz+llZs5TtDW+zOL6EAXOQhakFvF14ixWBZfSoLqbb09ia2sQ7dYc4mjvM7rrdLE8tp9vsIiphgmISEofx2Yks6FhMS6yLoEQJSph6s54ZiensatzOscJh3q0/wuHsbuYHZjJa62alLOda9Bq3a29yMLiHveGdLA4vptcZTVJl6bB7WZxZzFt1mzmQ3cORugPsqHubN9Kv0yyNNKocC+vmsCW/mT25vRzIHmBXbheL0ktodTsJSYyYlmAwOIZt+bc52HCQXQ07WFm3nO5gF2HlJRwlJcKkwBgujrrAycaTdOld1EgNecmxpHYRH/S8x+76XXRLJ0HloOsj9HNe6mevoorfJF55Ayq0OZ4ndhFP2jaqgjTYddRIlFqJkzVqSWgxAsrGUgZB5VJnZugIttMbGkWz2Upc4oQkREpLUzCLtFptdFidtNsdFK0CKZXAFYOAWNRpWbrdXvqC/XTYXbSYLTSbBRr0WjIqSqOepcfqpN/tp8fupagXSaoEAbF96Vq/PyPDOH1oSqEp3U9W0tGVhq4ETb0ow3GI2HVlErNS5AMttNhddFp9dFm9tNitZPQMUYkR19PUO0002920W6Not3toddrIaDWktRj1Zi1NdgP1Zh1xFSdrZWi0G8jrWRISpUaSNBsN9Lrt9AY6aXNayBs5EhL1k5YUrugk7STZYD0RI+Gn9zsEJUSNnqbNbWV0sI/BYD89did1Kk1R6lkfXMO9/F2uZ66yVlYyRSbSIA0EJYwlAWJ6kqJToM1uocNqo8PuoNVuJW81kJQ4cQlR59TQ6HjPr93qoNVuJ2c1ENETvvyzQVSFabFb6A320eV2UTAbiKkIluiYohEShxaziU35LZydcpGxgQmkVQ2t0sybbevY372HubE5ZKQWV2wvY/cXJNRVUcVvFK+8AWUoGa79UpL9LaXWe5mevja70jCU5hOmJ+9r+rojjjjYYvs677qvq276oW8OARXAVS6u7qBrXmalJRYBCRGQELa4vt65ie1rzduiE5AQrkRxJYytXCxl+puKFTH9L7PyhoV1VkZQ/FSyixdWaGoOujiYfnanKwFccbDEQvezWXVf/9ySEI6EsSWIq1xMpZfHzhLDHxMNR+m4Wkk7xSAgBkExcMXA9nXoTWVi+GNuqlICmYEuJrqYwzJpbQl495QQAQnjikvBaODNuje5PeoOt3pusS31FqOlj6iEsfz/18XAFoeACmKrAJYKYmthTOXiag6maBi6wlK6nxHrafmX1BqHZIEVjlgEJIArAewKvRkv2c0grmL0BPpY3LKcVqeLkIpRJ3VMy0xhWs0UGs1GQhIaocH//POroop/B3jlDRjCsGSlCqKstH79vxtK8zVYvBhrrWT9ar42i/a8ap9IKdLES/E3dBPlL7k1TcMwTHTdQGkamqahKa1czcnTdrEQzUZplidroLRhLqQhnRoZQeQjUakaOFL07MXkXlI11JTXLt2f1Mrjpik//t/TY9fEQleml1YvJa38oT4ZSrC0oQpGhv83XRM0Tbzx03ypY3/sS8k5pexTVdFuJYanwaN59zbEIW3UMj05k00NW9hceIsF6Td8uQALW7TyGGh+dqimTJRmo+mOt1rRdUQTNMNvk/8chjR7RlRa8mvFav7YDBdt8zKZgypE0qglqKIYKoArQZJmkoSRIFAu1/eSd/NVfx9VVPHL8cobUIYaQd4v0l9RI4la81CylJUunhytIc8T+zD3iC/MVSJETdBNHWWoCjnfEZKwuoYYuvfTv26piETZdTRC3XHkpvBI1UBPFMvEKwZioJSBUkPKhVImUFUeH1EyFK3h90uV2qpXThYeCaoRJPfCCa/cxwqU9NUr1TDLESKqgtz9CcD0x0cpRHnVnxKSol7y5CRPWjKEJFSu5uSt0DQ8wS6v35pmojR96H4jtfdfEH5Yfk9epBtf2Ud/xVHS/NeUNTRh+qsHr2j50HX/+WqXVVTxm8ArbwAiwwnwZdatJp7ol14hnFXSlilb6ZrmEa8+pPc98qdnZXsCYyXrs6wCWWGZlhUdKwllBLGUiN2UCmKvIKLnib2yDNxQhSelbJSYGMpBV165vlLJP60sN1CpYOmTrniWqqn8KkO67lv2Q5a0l+w0ZN0+R+6VE8ZI4nxR38t98yco5Y93eVJUiOaRtaYMDKVjlBKu/DJ5w4hddJSYmJqDpTkYyig/059O/Bmhpz6iT88T/E/rvKifvFcVVfy7witvACK+e0WGdNXL5OqTnyYmtjjEJUZMokQlRkSiBCTo+5p9iVpNQzTDI5YKKdzK+5TcEnpFpqdX+m9Iv7tk7Q6rRDSS5Mr+/+F7AsOJv6T/MjQJDSeXkmVuoomDIQEcCROUGEGJ4IhTLgM43OWjlYndEJ2gOATE8fcXXGw96FukJpoy0dQLaqtW9kuEF5LkSMt5xKRVDgssSSmXjldWkCodMwVllPZDSsTuyUeUfO1BCRGSMAEJYImNNtLfXfEcnyuU8YuJ/afEvV79t1BFFb8CXnkDEHkRQVaQtLLQJUBUEjSrImO1fqbokxmjjaVRNRKTGJZYvtWuoZSFJnbZhVFJyGU3TGWZPG3I8tbLRKyGE3WlS6KS4EQouzx8y18v+bP9Gqqan4Lv+b69OqDKd/8oTRDdQmkBlHIJSoKC1kqPPopm1URUggTFLK8IhlnsypuEbDFJSpSClqVLb/FDFMNoYiGaiabZnv96WD3XUgETzW97xYql0mofSc4l8h454emeG0ypEdryJfeX5rmLNE1hKIUhenmfQNMEUxmEJUJOFejSe+nWeqiXehxfrkHzn01l0fPK+rEipfdF46VkXyX2Kv7z4JU3AJEhYvfIpdINYqCJS0BiFFUTOyLbuNZwmY97HnKl6zLL4stolhZiEi9HZEQkSUSSOBLGEBvNL/TsiElIXMISIORHluh+cpDhW+xDbh7lu1g0rHL1HgdTzHK1HdvXfvciQkIEJEJMosQlQtiXxHXEwZEAIYkS89PjoxImLAECYuP60S5BSRCRNF3maN5u2M3ZnousSa+hVpJExB2ycEtj5hOrJhoBsWm1CmxoWMHenu20as1EfVlbXRx/TGJEJU5UkgQlhiUhNHHwCo5ow4m4wiI3ReH6OveGmGhiYopT1rz3+mfjiE1AbML++AbFxhUTWwwcMQiKTUyCJCRCQqL+5BPwq1U5xCRCUZpYlFzGBz3nONp0nHEynpjEccQiKDYRcYlIgLC4BHzNeMOPetL9yCCvkLf2EmIXqsRexX8SvPIGlFFZyKGUVm8qi6AEqZUaXtcX8HXbl3wSeMhF+wzHQgdZaC2kUVpJSIaMNNAinXRLHy3STlqyZTL1dMHraZNGuqSVLmmjSYqkJEVIIn54nB/d4fu2bdGJSoiMZMhKnrRkqZEMdVJLTjLUSZY6qScjeTLSQKt0MkbG0ie91EmGtKSISZykJClIA93SQa+00SMtjJYOilJPRjKkpZacNNAlvUxTM9kfPMLduscczbxLq7T51ZK0F0TbaJhiEpUgrarIYnMBGwJraZNOEpImIGGCEiInGTqllT7pYbQM0i2jSUmekKQ8V4f2vIWr+YQelzA5yZKXejKSJS015CRPXorUS4Gc5KmTOnKSpUUa6ZVuGqVAnWRJS4qoREhJnCYp0COd9Eono6WLbmkjJxlSkqJO6mmVDibKFNbpm7iQvMLtxge8JgvJSo6YRMlLPV3SQae0UZQG0pIkIiF/AnVxxPInjCCumGUp5Re/a1Vir+I/PF55A16A0oaa5wdPajGmhSbxYfP7/F/df88f4r/nTvQq++wdTFNTaZR2uo0xLImv42Dzcd5tfo/Nsa30qX4K0shofTQra5exq/Ztdrnb2BPczqGG/WzKb2TQGUNIIjjioouJKA9ekQyLJqvIiswqdhf3szKwlgE1htkynS2Jjeyo28ai/5+99/qu68rOfOfa4eScARzknAECBAlmgjmTYs4555xBMIE5iEkiRVESJZVUUkkuVWi52qO73XbbfWv0w7XHuD3un/O7D3ufSJCS21Ul3TIf5iBx0l7xW3PN8E3/QsbIOAacM9lVsofBukFOV59iiWcxzaqJlKQY5R7FxsQ6joT3sc+xlUPhHZyqPcy60jW0qnY6pYul/mUcTx/ncuoS7wYf8WHsM87FL9EkbQQljC76CKntlhmmyl3GorI5nKo4xtH4EbpVL0kpwyNeqp2VLAzNZl9oGyfDR7iQHuRQ6VGmOeaSlHKc4io0S9kmJkN0IlqIsf7R7Kzayc74Libpk+mSUSxyLWFXYi8bIpuZrA3Qq41mWeAdjtQf5HT9KXaU7GCSOYlaqaVBq2dGeIDNyY3sdu1gn7mTUyWHOFa7n6nGZBqkicnmdHam9nGx4irXw7d5GHiP98tesESWk5ZymqWJteG1nCk/y7n0IPuTB5jtnW0TlNk8NnqUGdVT6It2ETMCOEXL+WtekbfA/lb+6uUnb8AIkrEBW1p7VIsy3T+d683X+Nu27/k0+gmXk0Os9aykR/XQY4xldXwrp+qucrr8CufKh7jWdJ0d8V306+OZoMazu3Q7T1of8lnTS55UP+Zi/UX2Nu2jPzABjwriEI99jXfY4K5jKpN6ZwP7Kw7zYtRLBs0hjskxTskJnpY84YP6pxyNHGKjcz2nUye4XneN86XnuFx1idvNt1njXkObamOKOYnTqRN8XP+cl/Uf8qjuDpdqB9lbuZdxaiKbAlsZrr3GtYor3Ehe4aP0C35Z+Q2nI4M0SCsBCVukVCNwljjFoM5TztqKZdxqusa95rtM0KZQKpX4xU+bo5HD6d183PiEjyve40Hpbe5X32GwfIg+GUtYwuhKL7Sj61bUUFQPMysyg+djn/Mw/piT+hkOy3GuuW7yovwlN0vusUXfwTb/Di7VD3Gx5gIXKy9zt/1dTlaeYsA1wCjVzfLYUq43XeWzhk/4qOoDrldeYqjpLEvNpcwzFnK88gzDtbe4XnaLd9MP+az+c17UfMIyWUGTamRNchUPGx/zNP6cZ6EPeb/sAw5FD9MtXYQkgF88lJtlrBu9lnn1c0g5YzhFK0wcK5C3wP5W/urlJ2/ACGLHNms6uu4gqCJ0maPYHz3Ady2/YdA7yELvQkabvbSrdhZHlnKq5iKHSwZZ4l7HUvcKDieOcKfxLiucKxgvY1jjXcaTqgd8XfsVl6NXWBZaztTINOqdzXgkhCEeO5bcRJRlnjA0gwq9kk3h7Xze+kvek/f5Q+Rv+dr8it/FfstH8Q857jrMyeBh7lfc4lBoH4udC1nuXc7t8jtcTl1hmmMavdLDHs8uPq14yad1n3AscoilviXM8M9kuszmavUNLpdcZatvA2tdy7gSGeKz9OeciZ6nXpoJScwuqC1FphiFUwySRpgJvj5OxA/zvO0DZmpzqJY6ohKhWavjWGofn1c9407oErvcGzkfOcmLpmcsVosoldLcb+eFamqi8CsvfZ4e3mt+jxeej/jS+Su+cX7H1+a3fBP5NXfC73LAfYThsutcKD3Pat9KlnlWcjRxkgfND9ka3EK/9DPLNYvL5Zf4rvlbHkTvssa/nEWh+Qxo09ibOMBw9U0Oxo6y2r2WPYE9PCp/yIu6FyyXFXSoNvaV7OXL5q/5IvA1L41f8NT7Afvd+xkl3cQlSlj8JPQ440om0BXtIWqEcdoZsyMD+1t5K3/18pM3ICtZG3vGearp6JrFyV4r9azT1/Or+m/ZbexjlPRQIzW0Sxuby7ZwueE629z7GS8DTJLJrFareNb5PjvcWxknPSyQmdwKD/Ne5DGbZBOjpJsqqSYqcZziQxMnYsXHKlcAACAASURBVCcJZRJudE0nLjFmOGfxpPopv43/jn9N/yt/jP6R/5r8L9zz3Ga3bGcwcoYHFXdZLSsZK2OYIBM557rAw9onLPAsokM62Whs4mn4KbcjN1ggsxglHdRLHTPUTN7teMRh7xFmyTQmyhj2Gjt4HnrOxfhlWqSdpJTgsqN+8oFdEw2XOAlLiBZpYpdjO581fsJSbSkd0k6lpGmVeg5GdvIkcpuD2g5myGR2ODfzccMHrJYVVEql7URWuVh2ydjYHdRpVZyJnuLrsq/4h8Q/8n9F/hd/H/1Hvgp8wxnHefaE9nK//j6HPQeYLBPpl/GslfU8anjEkdBhJslkJsoUToZO8bL8I/bJbnqki2ZppFu6OV53gsulw6x1bmCSTGahLOBi4CIfVn/IKlnFaBnNdvd2Hkaf8Nz1MZ+olzz3fMAhzyFGSY9d19YiViuVCpKSJiD+t8D+Vv6jy0/eAEQKE3lyCUJWunlICzHa3cuB2AG+afs1Z4MXWORbwhhzDJ2qk+XxFQzWDXEifprVrrWscq3kSOwAD9vusta1nAHVzwbPch6W3eH90kfs9u5gumcqDXotXvGi23Z1C9R1OzlG0DVFQDx0OTq5WH2Rf+z5J34f/p5/KP8H/q7hP3MudIZlsoSD4f3crb7LwcBBljqXsda3npultxmuvMEM1xzGO6ZwOHqMF+UfcSd1kzW+pUzzTKBOqhitRnO54yonS0+zyruSd1yLOBM4yedlL7mTvstEYwppqcCTT0xlj5kuGn4VoNbZwOzgHM6GT/Pr9l9xyLufRc559Gpd9KseTpUd4r2qe+zz7GSGNo2dwe287HrOVu9GalQ1PvFi2rwqmcNVt52nFaqE9e5V/Kb/W/5Q+T3fR77n7+v/Ox8lP2Gz2sqKwAou111ksOQcqz2reMe5lMOhI9xrvMe24DamyDQWe5ZzpWKYD+ues9+7h2meATq1Dlqkia0VW7lSc5UD4UOsdK5im3cbd9N3ednwKdvNHUxVAxyKHOZK4DrX9Vs8MR7xi/QnXCwbZKzRT0SiloNWi9IdG02zr42IFsYpxmtr0eZCNYtCNv+98jPYR2/lrdjykzcAkREyT+1Np4tOykywIDWXoa4hPup9ye3q+xyvOcWi4BJa9XZ6nL1sKt3M5cbLXCwf4nz6NDc6LrMvvZ1+cxRzHQMcrtjDo/a7PG18zJXKIbamN9LlasMQHc3OkrSiYSzSrAyxmEsMKs1yNpRv5NP+X3DKcZ7b8Xs8aXmPDdF1dEsHMz3TOFFxnGv11xksHeJK7TC3u26zOriGDm0Us8PzOdd0iWfdH/G49RHna0+xMb2GRq2JUqlgeelqTrWd5XjNCU6lT3C/7jYvO15ws+EG832LKZFyPOLKVmnKjJllB48wLjqB/c0HuNlwnS/6PuV6xVWOpQ4zzTGJacZETjcc4WHvbQ6U7ma2OYOdpTt4b8Ij9pTtokKvwCPuLGFWjmnTIs6KSYjxWh/3+m8xnLjCOfMcD2sfcab0HFPVAN1mF6sTq7jYdokLVUOcLjnL1aZhjlYfZbJnCuONKWwr38ud0fd5v+MJlyovsKtiO5NdE0irJOP9YzjSeIih2iHOlZ7nSvVVnnS+z3vtzzgUOsJUbYDzLYPcrL/L1egwNyPDvFtzgwMVu+l0dRGQEAGbPnhd30Zm1cwl6Uz8ALD/GeVnsJfeyluRn0ED8tL8C8V6XSNqhhiXGMvq2lVsLN3M5rJtrK3ZyITwVMqNKiISo8lsZnF8Cfsa97CvYTvLEvNp1qopkxhjAt0srVjExvJ1bC3ZxOaKDSxMz6POWWNnTlrOWi3LBKnlPV/h07w0+1pZVrmKLn0MExzTmBNfQLe3i1JJkJYUfa5e1lWs42DzYXbV72ZmaAYVWhkJSdIX6Wdp+WrWl21nU/lWNtSuY075HNJmHaaEKJEappbMZH3DBnbWbWN72Sa2lKxnZXoFo4PjCEgMh7jRRC8wK+gihHQ/XZEOlje8w5bK9eyq2MbWii2sq1pLj6uTLkcL81IzWFO1nDnR6Yw2OpkencLKqpVMT8wiokUx7ULahQCl0ETHJS4SKsGcyllMdk2mT41lRmQ24/yTSEuFFX9uVDI9OpstDbvYWbef1WXr6XL0kJBS6tytzEjPZ23NBjanNrC5dB3LqxYzytuGX5mExEWPt4MV6WXsbtjNjprdrC/dzNrSjcyPLKZZtTAzOpO15evZX7+P/VU7WRNbQq+zk4hEcIkbt7hJGknmdyxkfPlEoo4IDjEs81JmvP4SoP4W2N/Kz0d+8gYUaOv5wJ5lHhQNj7iISpQSKSUuKSKSwCMhnOLDKR5c4sEvfkolSanEiIkXr+h4RMcnLoLiJyYRkhInITHCEsArLov0yQYyJZqdqJSXASuWk9IQE68E8UsUt/1cl7jwiZugeAlJgLjESEsFCUkSlmA2EccqrhEjJEnCErdpEcK4JIImAUybmzwiMUolRYkkiEoIn5305BQ/hrjs9PocB44uglM0POLALy6iEiAhEWISIyJhguLBb78XEh9R8RMTH2HxEbRL2znFnRuDV0AqU57QiSkO3OIlIGHcEsApXkxxWvw94sAnEWKSplxqiUkJXgljihdDfDgkQEDCpCRGSsKExINHTJx2H9xiEpUwpVJKSkqJSJyARPBJgLBE8ImPsEQokRRpSZKUIEFx20lTBg4xcIsLv/jxiw9XHmXvW2B/K/9B5SdvACL5HC5WRSHD/n/G3muKgVMc2UxPQ9wocSHKgdgMfYYYNh+7A5cYmJIh6LL4yJ3ZbFGnfVW3AU2XvEiTwoMlywmviUViJQ50cWGIC9MGPIc47La5cNsapCVOXKLjyj7bhVucNqhZrI4Zh22G19z6TZddQMJp857rWe7xDIAUFyZxiOAUhVM0HGLiECPHFa+sjFJDBLcoe2xc6HbsvsVhIzlwKmBJzLNFa2LfbjJtz/DxmOjixSF+PBLALX4rq1U5EHGixGlztus4ReGQwoNTROwDwrTnJ8N547T7YuaNcWZuNZv+IbM+rLwDp5iFmnpG3gL7W/mPJT95A7KSYQvMpPSrPO00n+kxS7ebTytrh+kpTeV42vPAOvt9m663kAdGioitinhZMuBviM1gaEXsKGWJlsdcqHSF0hW6XdTCEIWhLAZGpRSaUuSyIotjp1VhHzMEWyLZscjnvCk+eJSeoTHO678mWY4XpeUOA8uHods+BT3H0pgP4iPxxJiS44rJtlvDoh52ZAtwiNJzLJu2qAyfzEg0vHZyVG7+ikTLk0zfiuZLz1MGCkD2LwXqb4H9rfx85CdvQJHkaYh5r7+Onz2nVcqrmysL7CrvsMhxouRzvxc8v8jerOwydVlGxWwRigyBlq1RKz0ve9MuSJ09THLUsLq8Kd19ZCk+iJTNE5O1jY/AAV8wXkUHV65vKudnyEh+/4sBXssdmPlja/kmrFuTRTKmCgA7+/w8UC6Q11ADv/L3D31npOLTI4HuDwH0CDQLb4H9rbxeckpacWGdH/P9fxP3/49baz/1gLym0UWNf6Xj+aCeAZLibEJlDbhFTaBnATV/0As08+x3tZzWqhQZznSrIITKbXzdBnllF8xQeq7Ih66ywJ8DTK2A+TDXxjdPXEYb1TJgqeVuN9l2ZgpjqDytPCuWIzRDXOYUM+sgzjE6Zvry6kExMl1vbl500WyytAzHfV5MvN02ZSc9WSY1p1260LotOGwzlUPcGMqJpoyR2/EmQNflFVqENy7+fyuwv+mA+bFgn3fAiuQUi2x1q7z18X+yR36wbwXrrei2WLCfFPmU1znqaTUiYGUOd90+2DMlKVX+Psx7/ogH+4/FhqLnZvpi+cdMm7DPgSGmRcORjSTLU9jy1q3DLqVplVR0561LLVuzwbRFz5gsR2xX4bhpeeOW5b96BZtybSlQuCTj19NwioFbHLjEtEuDjnAjHRlHfuSg/qXklQl/TZp3AaiPVDAh972ciacw/G3kk7UY3BSiDDI0AwUTk19pyNARw8gDmRzoW0Uncppw1hRhFIYvFhwWmth0tprtHHTjEg+GctqHSJ7JJN9UYptcsn1UlnZvipOgRCmVNCWSIix+q0SdZtoFSqSQTz0fIDO/XQTs+c5lXRSmZmRj7Qs2r01P7BANv7iJSZS4xAmKD794CEnQJlpLE5MUPgnam/JVUCguZFIAuq8F9vx18mMOjJzJR9cVypBXD46MKIXYJfzE0KzXTJUbr/ybR/482a8bmoZDmbYPxoFp97vgVpR/4I7U9pH2zw8eRPmmt6LXRUPTdLvQumSZTx324Z3vf8r5wEy84sMvwSz3kqF0NF0V9PeVNuX/bfdBU5pFZy1i3XrtKmDZMcweOJn5tGix/RKwAwci+CWAU9yoLMeSTr5ipttZ20HxkZYy6qWeaqkmJSn84sElJh5xEhAPQfESEA9ecaDn40T+zTa7xgrLNebqBgjZamNFh6jKB2u734YYdsBIgLTEKZcEMQngFafVBu3V23fRWihaGD8rUM8bwNd9tmDT5gpnvPqdV4tu5IP7azdHxhatHDiU0yrybDvzTGWgZTadrqN0E0OseqiaZthUslahC0PZFLNKQ8+UsTMyHO42X3tePVVDaZhKcCoNr7hISgnVej0xVYJHAlYRigzHi21X1zUdTbfqtRr2AadpVh1Qj/hpdLQxL7KEeZGFdLraCYsfv/JhKgeaMlCabn1eE4zM72m6fdDoaJqJrkzbf6Bj2FqNnikWrjkxlcOumKRsQNAwlI6pdALiolGvZnZ4BnMjs6nTKimTBO2OFmZGZjI/soh+1wTKJG3RHIw0L0UmIavOqVUD1tBUrt0qUx0rU4bQSj7LHcrWBtOVgaHsfimrgpVDc+NQLkzRcWg6hq7QtZxo2QM4Q31hWiUNdROl6+iGjm4aKN2qMWsqE4fScegKQxfr95QlLmWSUDEqVDlJieMVl33zybtt2TV6rbZq6HYB9x+nrSs0pdlzYthtceBQbgzlsouwmBjKiaHc6MqFJg4Mew1mchlKJUFcwgTEjdt2XmfAy7TDYsv1SnqCfbR4OohLAo9yW4e9njuYLD5+zdKAlbW+TM1uk5gYdhH17KGiLIZXhzgwNRNd17IatJHdX078EqbT2cXs8Cwm+iZSKdX4JIAmZh6w55hMdVH4xU2DXst831y2JbayJryafhlDicQIiJukROgKttLtbaNKSgmLF4dovIJLSgoUh0K/j4ZTnHjEh0u8dthynmImmfrB+cCu4RAXKZWi1+xioX8mCwMz6NAbCIsXs+jm8f8fYC8C5B/+biG454ov/PvaYjkorVBHj3gIS5CERElJkpQkiUgIr7hxigunePFKkLDEiEqMgPjxi9cOwQsQsMUvXrx2dIzT5jn3ip+ARAhKnKDECUnYLrDhwC0GYfHTLV2si69ngjGRGqklJnG84rO54a3rZNjmOg/Zz3HZz3CKk6jEmRaazVDzMKdrzzPDP5OkJIhKlKAE8YoPt7jxiBOfOPCJy+ZL9+IQDw7x4ZcIYZuKOCABfOLFI2584iUoQSJ5oZZh8RMSD37xEpAAUQlTLWlmmlMZLD3LreZrTDLG0iBVTHVPZnf1XgZbL7EluZ0macYpzlcc6CJS4Dw2RNkc+x6C4icsXsLiISB+POLDYYeI5opu59Uz1S3Ht1N58EgAn4QJSZK4pIlJGSGJ4RMfXptfPig+whIgJAG7bmuOh98lftwSxCNBXOLFI148mgen5rTXTYiYhIiLn6it/Vl1AdxWApizn6WupUxU4ymXJHHx4xUDh2g4xcQjboISIiJRO4TWg0ccdgUwKRyfLNBYoaqGOPGIl4iESEiUpMSJS5yQRPFLOK/vKcJSil/iuCWIS9x4xE1UQkxyjWehYz5j1GgqpIy4hPGJC9OOXnOJk6jEmBKcwc7GfSxKLqVOGolKDL8E8swcDlsL9hKyKZe94iMkIeJ2u4ISwis+HGLiFBOveAnZa8uSEFEJEhY/PvHiEx8BiVAltaxwL+dq1SWOlh5mjDaGiEQxxWGPh70GbN+UU0yqjDSLwwsYqjzH3epb3Kq+zp7ITlpUPQmJUCNVLKt+h81V65niGk+5pPBlEgWLFEOVB+yZ9zRRuMRFpaqiL9RPhV5DWOI4xGPX+s2w2OpFwK7jEC/tvlFsTm3iWv0lhqrPMMs5lagEcYhRgJWZhM4izPsZAPqfREawsf87RZOc+aBEYnQYTUx2jWOGaxoTjPG0qRbKpYykJChXlbSZnfS7xzPBNY42VU+5JKiVClqNFtrMNuq1Bmq0GprMBlocDVRKklKJ0mw00GV0M9Ycz0THZPqMXppULSUSJSg+qlQ5a1wreNH2lJP+oyzWFzDa7KVKryEicSISoVpVMs7Rw4BzPOPNMTRrzSQliV/8+MRPWspZHl3J/baHHEmeYLTZT1oqadKb6HC00aTVUyllVEgp9VoNLWYTjUYDaSknIaVUafX0uscwwTORUUYPtaqeEiklKUmqtUpGOTsZq/cySroY7+qnz9NDg15HmZRSLdX0aj3MNWaxVd/EXc9tvmz/jEXGbJqljh6th5XRtVxpu87x6pN0STde8WWLS6uMfyHPsW5tGp2YFqLZ0UCX3sForZPRWgddegd1WgMxlcIhHiTP1ppznuuY4sYnYUqkglZzFOPc05jknMUYYzKNqoOklBGVKNVSQZfRRr9rDH2OPpq1FsokTalKU2+20GC2UyrVVEgtDY4mmpxNlGtpSiRJraqhW+9krNHLRMcYxjv7aJD6LId9u9bCnthu7ifucdRxkBnaZHqNNkokjE9MohKgRlUx2uxjsnMy481+OrVWyqUEtzgKzIqFSomOKR4iKkmD0cx4Tz/TXFOYoiYyXhtHq2qlQiqplhra9S76nZMZ75xOuzaaMqkiInFSkqJVa+Vw8gjXojfY7tjBgD5Ap9lBQmK4xYkpGj7x0ixt7K89wlDbVVZE19IhPTRrHbQ5OmnRmqmUNGWSokGvpctsp1VrokoqqZIq2vVOxrsnMd45kWbVSpmUEZYgcYlSb9bRaXbQrXXSq/UwzjmWXsco6qWaEolTKeX0OHqZ5ZjNQW0fL0rf53bZdWbq00lKEqc47fHJ1bQ1xSAsISYFJ3Cy7ijXai5xxLOPK6lBHnfdZ6oxkSqpokbqWZpewbm28+wq2U6XtBOREKboWd9ULjS60FJgmbB0whJihprFieYzTHRPpVxq8EsYQxxkyn5maEyyiovomOKjK9rP9so93Gu+z92GO7zjXUJSEjjFVWDOygWHFNTt/akB+Wcq9hXWIw7KVII+Vze741s5lz7JUPo8JxLHWO9dzTi9jw7VxnT3DHakdnGy8gynK06z3reKsVo3AzLB4m6Pb2e+awHTHDPYnNjMjoqtzDam0iOtbIls4FjyCIPJQS6mLnIidpQV7iW0qkbiEmW03sv1imF+0/4tn5Z+xI3wMLvju5jsnUqV1NCoN/BOYCEXS05xO3GZi7FBdgR20KF3ErO1oCqpZk1kDTdqb7BElhGXNCVSxeLQEg6k97LNt5E52gxmyFTWuFezP7mfTbHN9Mt4OqWHFaHVnKg+wfnac+yL72Oeaz7tWjst0swc10xOlB/idPQoez27GCw/y/GGI8zxz6JLOpluDrA7tJNLsQvc9t3kme8Zv2r6isXGPJqklrSU06eN42DZUQ6nj9Ito/BLME/b1nIakW0D1kUjqLnp9DazuWQD+0N7OeY9xHHPYQ4HD7EusJ5uczR+CZPR1AqjhnS84qdcqpjqmsn25D5OVg5xJn2ZI/GzrPFsokXaqJFqZrimszO+nePpExwtOcaG4DomGRMYZ4xlU3gTW0t3MFZNZKxMYEPJJraXb2PAO5k+GcVS9yKOxA5xNnqKwfhpzpedYbl7OW2qnTqpY45nFjfKr/FN1Vd8GH6Pc77jbI2upUNrICgu6lQli30LOBE/wbXkNS7Gh9jp38YEfSxB8eXCO7XCtWsoJxGVoMcxhs3xbZyvGeRK+jKXfINcCQ2x1dzEgExlgbGA/cGDXEoNcyV+k/2+Y0wzZlEj9TRJC0vcS3lU9YQvK77ifuhdToRPsCq+glq9Go+4MMUgKEEGtJkMt97hUMkJJunT6FPjWOZbxb7Sg2x1b2GaTGWKTGSzbxPHE8fZ7NrMgExjpjGHnZF9nKu8xKmys2z2bWaiMY60pGiSOpZG32F/ah8HQwc4FjrCmdJT7CjZxoAxmXZpYZ57LvtKDzCUusT9wF2+KP2U24nrzJTplEqJBYK2NqvZkXYOcZCUJEtKlzDYdI4dwa1MkQmsc6zi2dj3WOFcTqM0UyoV9DrGcrz2BEM1gwyoKSQkjktMO2Q4k0dS7Py26iREJEiTNLBddvFB48escq2nV/oplxq8ErKJB42c/80+lEU0NPEQklI6pY+dkd1crrrCMv9yyqQMl7iLouAyZTi1fAz7GYDoz02UoAwdZZp4xM8oxyhO15zivY7HDKevcLXqIk/7HnOraZgN/tWsdq/gUuVl7nU+5Ez1Ra403+T9UR+wx7uLVWoZl6svcK/xNjtDu1jhWsVQ7SWeTfyAfZE9TFUTuVl7jV/1f8XnnZ/xuOoRzxre41btdeY551AiKfqNcdxpvMc3HX/DZ3Wf8aD2AYdqDzM1PECDNDAjPJ07XTf4pulzXvqe8suyL3i/7n0G3NMokTLCEqFaalgTXc1w/VXmy0ICEicgcbZVbOOTcR/yXtkjrjovc0Eb5H74Pr9o+5KbjXeZqeax07GHB90PGW66wsXaQe633OFa1RWWe5fSp3rZ5FvHR23v833fr/m6/Rfcr7vD5Y4h1oRWskJ7h8GyMzzueMDN2us8rn7Md82/49vO71hkzKdBaqxiJK7R7Ks5yIGKQ3RIF27xkWX5VPk+FEtz10VIuxMsrVjIcPMVHlc+5sPSD3lR8oIPqp4zXH2dOf4FxKUMTTktm3gmBl+skodhCTLNHGCwbojb7Q8Yqr3BtcZ7PB39EVearjFR+pmlpjHceI37bQ+5XHGFOw23ea/lAecSx9horORi4izP+5+xxrGemWouZ2sGedT7iM2JDcyQyRxLHeTbsV/xy47PuZ++xcO6+9xrusdcx3yapYWFsQXca7zNd41f87L8A66Wn+dA3Q56PK2ExctUbQL3u+7wae1LPg59zC/Sn/Gk7iErQkuJSAiHGBawG5IzYyodh3hoNzo5lDrMe91PuVJ3k5sVt/lD5+/4r13fcyN4lQP6fu7H7/Nt+Td8EfqSTwOf81XlN9xK3WOSDNAh3ayLbuBF80f8tvE3PK98ylDdOTbXr6c10GQnhFlmmDWe9dxpecDa6GZapZPRxhj2p/fxsu8TnkWfcVFdYlC7wNPYB3zb+huuhG5wQDvG5cQNHjQ/43r9fW7V3+VF51POpY7QoTXQKS3srdjD894P+bb313zR8gX36+9xvPYoG6PrWW4s592Oh9xsv8/lqhu8qPuE33X/J+5V3mO6TCcpKZzKg2aaaEpD162C9w5xUSppVqVXc6bhLO+4ltIl3cx2zOFO3102BbfQpnWQkBIqpIptFdu4VneVJc7FpCSJO+PAzIKqURAxpItOTMWYaPaz0bGWu8Z9/lD137jhuccu8wCT9RmUqUqc4kOUWRCBlY3OUzq6clEqFaxMrORc41mWBJeQlKRVEEgkzxST54B9C+xvAnbLMaY0BxFJMdszl3c77nNQDjBLZjBNJrHdt5H9zp1sl00Mxs7xsPoRG2Ur42SA8WoaQ6HLPCl/zCrXcg4F9nIndYMDgf3MlNms92zmQfVjjriOMVpGc8o4zsc1H3LEf4gFsoC93r1ciw2zzruGCklTJ3WsUmt43vgRh1xHmS1z6JQO6qSGZmlicWARj5re5ZvSL/hUXvCRfMSgXGCqDFAplYQlSqVUsTK6gqsNl5grc/FIEI+EmCgTuFdzm2f+Z3wf+1u+D/2BL1xf8iL0MUcdJ5hvLuJ5y0dcil5mrj6HCTKOLWoTt1O3OJE6zmSZxAyZymXHWX5X+zU3tMsslDn0Sx990suu2Haul15ht2cHU2UyS9Q73HU+4Nv237DMWEqT1JOQOJ2eLvbU7md/xWE6pBu3eG2bY1GMvZ034BSdpATpky7Wyzr2y0GOySmOy2mOyXE2yEZGy1jiksIUt+XoNC0AVCKYIpRJin2Ve7hde4ftgd2Mk6lMlVlsM3dxKHKIyWocR/0HeFj7kC3urcySWSyRRVyInuVR6i77ZSeb3et4v+UJm2QLPTKW1bKBB7WPOBjbz0yZyp7Adj5Of8Cw9yILZS6btPV80vkJ2107aJVWmqWJfdFdPIrc5pDsZrL00yHNpCVJuaSYIzN42vqEX6W/5qXzJe/r73FeP8NMmUaJpCxziJ65/mtoYqKJ5UycG5vH7fpbnPCdYKIMMEPN4QPPe3wb+4J95m6GvBf5ruw7/i76B76WL/lS/4zvIn/D9+3fs1vtpUO66JQuhlIXeBi4zw61mfEymiapIyFRvOLBKz6iEmdnbA93mx+wOLycWmmkXhpYEljEo4oHfKq95J/9/8w/R/8nX+pf8XnwS044znA1fIsnyecccJ9gmsxjoVrCVc8Fvhj9IbPNqTRIDZNlMpdSV/mo5CXnnYPMkzn0SS+T9UkMJS7yfsNz1jg2MFmms1628KTiKbfL7zJHZlMhlXgkgLJ9ZC5xoouBKU7KpJzV6TWcbTzPCvcqeqWP6Y6Z3Ot7l83BLTRojcQkRomkWFuymusNw6yPrCMlKdziyrHQ2uU084HdFJMabw3bmjfytO8xf9v4B/6p4Y/8vvYPfNrxC3aU7abObMSpPOiaw3bES4GpUJRCVw7KJM3qxCqG6gZZ7llOuVQQkCAyop3/LbD/MLArhRKDqKRY7F3EkzEPWCaLmSzjGS0djFejmaomsEyWcDF6gXcrHrBK1tAn4xkrEziujvJ+1WNW9TkO/gAAIABJREFUepazxbWF4fgwR4JHWSCL2OnYzbPEcy64hpggEzgkB3m//AmbfJuYIJPY7t/FrdRttgQ2Uy3l1Eklc9VMnvU8ZadnN9NlJj3STas00C4tzNRmcsw8xiPzIZ+oT/jb8B/4MPSCRcZC6qSaqEQol3JWRJdzreEK82WuzUPjoVkaOJc+w3fVv+N/lf8L/1r6v/lj2R/5PP6STWo9ixyLeDnqF+wzDzFRJjFaRrNCVnGr4i6XKq8yS+YwQ6Zx3RzktxVfsEWtYpKMpUEaqJdGtpVt53LJRVarlfRID7NkLkPGVX7d/DsWG4tolgZKJcUoVzf7qg9wsPwY3TIavwTsq2VhHoAF7BqmKCrccZZXL+DmmBs87nzKs7ZPeN76kg/aX3Cr4xbzo/NJSBJDHJZJx9aKdLFoJkolyeGawwynrrPGXM9YmUC/TGCSTGa6No1+NYZzydO8W3aPtc5VzJCpTJcBDkUP8bD8MYfcR1nhWsPdhgfskv2Mk6lsll08LvuA48GTLJA57Pft4oPYEw6pvYyVHhap+XzY/Jxdzl10Sie1Usvm2HquJy6zXdtMr/TQJm00SAM1Us0smclR4wgPzHf5zPUpv47/Dc9jH7BOX0tayghKELddXNybdeAG8EuU2Yl5XK+7xn5zHxNlIgMywLv6LX5V8iU7nLu4ELnEb6q+47/F/sDvtW/4zvglX3k/40XyOetlHfVST41UcSS9n5uxy6zTl9Mj7TRJPeWSJmyHFUYlzvb4Lu603GdJeBn10ki11DDFOYmbiWH+R+nf87+D/8L/G/1/+Jfy/5sPXc/ZoXZwMXWRm4lbrFUbGSdTGZCZ7Hbs5IuxL1lgzqVe6pkoA1xMXeNm9A7r1Tr6pJdaqaXdaOda5TXulb3LXGMBk2QKy2UFd5J3uJO4zQKZR4WU45UAXvGTljSVUkFYQgQkQLmUszS1lKGGIfYG9zAgA2x0bOBZ91PWeddRq2pJSJRyKWF9ai3X6q+zNrLO1thdFk5oryY/ilj29qDmp8VZzzRzCieNE3zZ8CVHvUd5x1hCt9ZJXCI4xbpJFORMSIZZVSckflqlmZ3BHdyO32ar2kabtBOXuPXdvNDKAgqUt8D+OmDPDLIiICGmeCYz3HuJ42VH2KCvYblaxObwWnaWbmWtfxX7Qru5X3ePi6mLbFCb2OHcyaP6d7lReZUZrmm8413K5arLXE1d5ah2lDuBu3zR8Esuha8wV+ZxIXSeZy3vsTO4i6kynR3x3bzb+pCDFQdokFqqJc2AmsiD8Xc5W3KGzcYmNoU2sD65mnf8i9gU3si16msMygWuyDAfez7h66avWepdTI1UEJEQ5ZJmRXQ51+uHWSwLCEsQn7iplDTbS7fxRcfX/Dr1e34b/k/855o/8Kj8PjNkCmOMPi7WXeVa0102u7ayWtZyMn6GW4332Z06yFSZyXrHOp6VPuD3LV9xwtzPOsdKRqs+qqSWRbElDNYPcqL0BGv0texx7Ofj6s/5bd/3bPftoFvrIi2ljHOP5VjVCY6mT9IjYwhIEC0b91tojjE0A5dmEtf8dLtbWBiaz3LvKla5N7LavZHV7nUs9Cyk1WghKH5MMW1bff5GUEQlzPqydVxvvMbp+CnW6+tZba5me3QHu8p3M17GsdZcw6PW+5yNnGCzvo5dvh0M11/jYs01FmurmOGZz43ue1xKXWOLtosb8bt81fktVxPDrJHVnIge5dPGjzgTOckE1c9a5xo+HvMRR6JHGKX3UCmVrEgt5WqD5VtZqa9idWgta2s30K662BTdzNWKq1zyXuKKdoVnkae8qHnBnuQeyqQMnx111Z7oYkrVdOrdLfglilfCjAtM5FzdOW5WX2e3vpMTxlF+XfkrflX+S9Y5N7DVsYP3y97n69QveKY/5L66wbvmLW7Fb/COvENKSkhKgm01m7jedJHDkb2sdi5jdXwlC9MLqTUb8EsIj/hZHljFzfbbrI2tp1XaKZcKuvQujsYP8d+7/o7vfd/xe9ev+WPbP3HFO8QCmcO28Cau1V5hsHyQLc4dbHPu5FbtTe6232K8MY4O6WKFZy13Gx7ysPwxxxxHWKa9Q6fqoF6rY0doJ487H7M/cICN2mZOe87wSeNLnja9xzr/KuqkhoCESGqlrEqvYmVqJfVmHWEJEZUo44PjOdFwnBu1wxw09nIteZkHHfeYaE4gLWUkJUqdVLGjfAdX6odZ5F5MQhI4xGmtRS0Xx6/lmQkzyUU+5aJUJVnlWMm7o+6z2LuQFmkiJTF84rK5qvITAzOhmBoeMWkwq1nonMvl1EU+rv+IofBFlqglNEo9XnFZ1CQqH9jVW2D/McCuRMMlXiqNShYmFnCq4yRDbYNcbB3kXOsptlVtYopvPOOMPjYm1nOp7SLDzde41nKdk9XHWOCbS71WR4feyaayTVxpuczt+ls8qH/Ag+aHnK48z2LjHc7VnOJ23w22l29nqmMGa0s3cKF3iG3122lQzcQlSYM0sq1hCxfaznKp5QJn206zpXILszwzWRRZyPmuc1xvvMn9+nd5UveY86VnGOvoJSlRAuKjTMpYGV3B7fobLJXFlEqSqESISZQpiSmcbDvNvthB9nj3cr78HFvTm6mTGtIqzQTPFPY0HOBs6yAXWi5xpmmQTSXbGe+cwmhXP1vT27jfdptnHU+40nCZE60nmRaZRpmeptFsYmnJUo63HmOodYjrjdd50vY+j0e9z+6qvYx29FEndUzRpnCm5CynSs7SJ2MJSCgvoaMw4smKy9ZwiUFQ+UhpKcqknLRUUS5VlEsFJVKCX/wYdmRN/qLPXFtd4qDd2cCG9DLONB7lUvMFLrVe5mzrBTZXWmGXTdLIuthqzjWe4mLrIEPtFzhUf4R54UU0Sjstjk42VG1luPsGV5uucavxFo+6HnEqfZp17nXsT+3nTudtjlYfY6I+ldWJ9dwcf4u9tXvpcfWQkCS9vl521GxjqOMCl1ovcbr1DBsbt1CrGpgbmsfp9tNcb7nOnfq73G28z+nKs8zwzCIiMTx2UtBA/XQ2jt3MqFAPAQnjFB9po5p5oYWcqzrPvYp7fJB4xu8rfstXFV+y1PkOE9QEtoQ3MVx9lXfr7nGv9h636u5wuu4cE2QyEYnjlyD9/rHsbdzNUNd5BjvOcaz9GEsrV1Cp1WGIB4d46TcmMNR+kYPpg0wwJ5KWSspVFbOCsxluv8Q+fQe7te3cbbvJCu8S2qSJHqOTNamVnGs9w5W2q1xqusi5plMs9M2hQpXT7eliR+NObvTe5G7nPYabrrK/Zi/jg+MolRTdRhc7a3Yx2HyB4ebr3G1+lwcdjxnuHGZDei2N0kBE4nSaPQz2DLGlZCv1Rp3NAOqi1ChldnwWp5pPMNx6iYuNg6wKrqBUlRC0QzD7nf2cbDjDmbpBxmmTiEjMjmjJZ4XN5Erkg7uGIQZ+8dFr9rK5ZTPd7i6SksAnHsz8EMd8X5JmafwecTIm3svuhh3caL/Go84H3Gq9zr7q3XSZbfjEiSmqIHu5KH/nZwCkP0dRVtaboRx4xEu5UcHE2EQWJRexPLmMubHZ9Pi6SBslJCVKk6OegehUlidWsDS+jLGePiq1ckISJCYx2t3tzIrOYElsMYvDi5kbms/kwDQ6tC6mhCYyKzGN0f4+6vQm2j1dTIhPoDvYQ0Kl8UuUiMRp9bYyMzbA4sR8ZsVn0ePro1avp8FRx4TYeBbFF7MytpLlkWX0O/soU0n84sYtLlKSYll8KQ+77nMgvo9R5igiEsErPlKuErpC3bQ4W2gxmun1jKLJ00RAArjFS0iidPq7mZ2Yx6LkO0yJTKfF2UGJpEkbFfQGRjMnOpsFkQXMis1nSmIGjZ4mIlqYkASpclbRH+1nQXIBS2JLWBxezJzIPMYGx1GvN9JrjGF9dCPXG25wIn2SbhmFT/wUxwXnS44qQeWlspu2WCntmSiBEXmGxNK0AuKkwV3G1PBY3kksZFliOXNji+jyjiEiCXzip06vY0pkMguTC5iTmEtvoI8yowK/hAmrGA3uZmYmZvNOfAnzwrOYF5nFJN9Eesxexnr6mRadzvjgJOpUKx2e0QwkBxgd6qXMSOOTAAk9Saevi9nx2SxLLmNubC7dwR5ikqTGrGFcZBzz4wtYFlvBgsgS+r0TqVQ12QxPj/hoDDUxJtVHhbMct3gwxIFPgtTp9cz1zuVg6CBDvkE+jb7kw4oPmOuaTYPU0m62MiUwhUXRJSyNrmRudBHjQlYxdLf4cYqHmJagOzCKOcnZLEwuYCA+QKu3nbAkUMqJIR6qpJbttds513mOJfEllEslfglTZpbTFxpNizTQIg2MC/dRZ1QSkxAJidDkrGdqZBKLE4tYEl/E5OA4KqXEUkYcpYyJjmZmYjrzYnOZF5/LpMgE6lzVhCRARMI0e1qYHZvN8sQKlsVXMS+ykIHIAKP8XZRIioSWYmp4BmdHn2e6bzoplcQpDjTRcIiDUrOE/tAY5iVmMyU8iXpVh1vcmOIgLkmWpJdyqv0c60o2Uy/N+CSUZVrN5cu8mv1uRXJZdBkRLUp9sJ6oHsUjbkzbJl+4HnOZ5MrODajyVDAu2s/c2BwWRuczLzabyZHxVOqlOWDP7omi7OqfHEB/xqIy2qHN9+0TPwlJUCKlxCSGT7w4bYpclzgJiJ8SKaFUSm2twGlT0TrwipewhIlLgrgkiEqcgITxSYCgBAhJkIAE8djJNZYN3EoOMsWDQ1lUwFEJkZI4EYnilSBuO7HIJz7idttSUkJYQpZjTekYYhKUCFNj07gw6gLHmo4xKTgFv4QxxY0hDtzisWmHXXiyXOemHUtu4BYvUYmTkBKiKp4FFbe48YqXiISJSpywJPFLzOaRd9pZula6eUziJCRBXGJEJWInLsUY55/AjvrdnOs8z/qyDdRKnRWm9mPnaSQ2yHwpBvW8xA5dBJdohMVHSpKUSJqEpPFLHKcKoCsXLvESkBAxiROWKB7xYYoTQzkxxYlT3IQkQlKSxCVCXCJEJUxQQgQkaP8bxishvBLEJ3689hibNk+OV/xEJU6plBGTBH4J4lFePMpKAItJjKSUEJMkAYngFp/NiWIdaH7xE5IAHpvrxErCcVBmppgRmcrRioNcLBvkvZonnIydoMfoJiExQvbai0mclJQSkyReCWCK28o01qzMT5/47DYkiEgYr83Hr2wq65BEGRscx8amDcxOzaBESnCIG1OsJC2PuPGKG5+48YiJWww84sQvXsISIiEJUpIgLH48YuLSnDjFgV+8RCRIzB7TkPjxiguXODDFwCUuYhKlVEpISQkxiROSoJ0I6CFqxBifmsjC6kVUGpV47PoDGTI6Q0x84ickYfx28pmhLIbSmCSYW7uAFTWrGOUeTUQSmOKxE4oyFCV5jKx5kgFai6fKxMwqHAWx5oVJmXn/N+xsXr/4iUg0r8aC306KNLO/VXhjyMjPAEB/rpLPhWFkstaUld6tKR2laQWcKFadVA1TM1GGsvgulOTRzmpoupVGnWGLVMpKO9eUlZqf4cXIUhNnrnbKuvppSlkcHJkIEduZqOxwLovGwKI9yJKGKQ2neKn2NDC9bCbTS2fS4GvBI0E0caE0i05AqcIFl3EMZU0gmoFmp3gbykCzaYit1H7Nel9zoDQHmjJtRssc+Gp2Crmmqex3XeKizlfPpJIpTC+bSbe/m5hEMcT4kwH7K5tIFX/far+uGeiaA105rdR63Y1oDpueOZP6neEu0ew1kFkXGrrSMTQdUzdwKIuEKvN6pu+ZMcnQIWi28mBx/VsgrcRaY4ZmoCsNTbPWlUUNbc2B1Z7cGjWUbgN6LjrDEEWJM8LMkskcatzDyeqjHKjYxxTH5Gx0hymG/XyFoVnPzNxWxVCIYa1dTdPQtQw1gZ4FtIzJ0ikewhKlKdBAvaeKsASsvqiiNa40DCWYSjCVta90ZdjcNJplM9YE3V6P1nrXslQKusqwo6rs3jKUhqlpGHYbM+vLVDoezUNFoJwyTxlu5X5VU1bK2ovKoofQNQOlWXvRLwHqwvXU+usISRiHuFDKzDrw9TcAew7cLdDNpxN/43rMA/ksZmTXj40B2Zj5V+Wtxv4jgT3Dh6HlT0I+Z0mGcKqYV9yhCgm1MlzmdsjdiGRWkvfbmffz33sdeZL9tyomFVO5z2hi4hSvrS36MOyCHkoMlG5YIVcjaA4FZgw9Y+8eYWHmk5/p2sjkU8Vjpgu60nCI0yaQCuATPy5xoecdCn8yybZDvTqu+Xz7yuLGEc2wwiRHIq7KkGdlQtUyYiiUqWzirhHGJnPt1uzDTsTmfimKQ86buwIe/NeQe2WUiHxw0ETwaU6qnCX0uNrpM7tplDpiEsEjbouSoHi9GUV/Z/tVtF7zDkVrn1jJZKbouG06AF3ylRRr3HNgrdCVXQRGU7m1m2lD8V4Ysd9F38nfYzajqMXQmAG+YsKzEdaknQ+QqZpmZGsMZGoWZCLmChOSXgX1wrWn9KLol2IZaZ2+lnhOsusoo62PQGnwJ948f0WSseFqI5zChZt8hO8XL55i9sERn/lDtAjF7xd9bqRFkvddlSXtepVP53VUsYXc7q+3eY+4ON80Jnljp5SyaZUN2/Sj/3nm9EfNl22rzGhxxd/LAkp+bH1eVEMmwuGV31fkbjC57FmLGVHLkmqN2N430CZn5kgVgUQ+EZVpO+O84sKZIRLLNwnkAcWP5qGX4udk/B25fuW/lmNYtSlxM2RmYh9smj02eQyOBUycef3O9T+P998oEnvPafb6epXFsmgdZua3oJqajsqrFFY4pxo5/qGRZIR9+QPA/gqV95vaWaAQjogZf4YN9FcixVzUGc9z1vucrzHlffYV3uWCicmYWIonpNj5kT9Jr3fQvJkbZ4RFVrzYsn0dQcuQ4lCq4t960yGU+918no58MHgttawUaa9/KikC9lc05PyNkk9pK5L3b2Yu9DzJm48s737x9VjLRfnYxE+aDYJmtoB6Yb2AgjYX0CFI0ecK19pI/cpmJuZrfQVr2LYJq9eA0msUhpGpr/Md2zllQrOB3TLbZUwm1q1N13J0xRnK3lxEVCEfSk7Rsscz//AzVAH1tRpJ23/TXih43+ZyUVrh2smC6ev2ZP6+zCiCI0nhnL3OFzTiXBT0Z8Q9+GfYQH8lUmCKyW6movTdggkYIfRpxBP6deD4JpB8nbb+JlA3bNFG+J0fPwavyWwr+s03vVcIFrmqTTKiFpqpfZsZ7z8VqVvBfKmi1153yLxyCOQDe2Z8X9XcXrG1qvx+ZOiaLcnYrUe8QRWtr2JaWOtzeVzjxfNUrNW9URMv/P3CPo/03OL5yR+b3BhYJQvzTJpFtxCLKjoXwaRl+5sjgCsu9pF9XjHYFQC7sktFjjTvxQqVnvf/or4Ua/uvGZ+RZQTQz7/lvWGfZSK/RjTvvOGwteVPtGH+CqV4sN8IctkJL45pfd0GevU5f8p254A9/xqZv9D+UuM4ErAXHnr5YJGfQKQX337+FPJ/AOyFYPZmYM+Fwb1GC8v7jYxGryuLmzx/3bz6vcKbT0GbMkUk8t57pb/FN8I3mASK1/5IwP5q1bHim0yuHwU3jHxb/o8Cdq0A0F9/y7Lnyq45nAX2fAf6iMA+0u2rCJQLgF0V9OvN+/bH37RfjzOvt9v/gPylNvh/JBkBjN4A7H/eNvwlnvVD7RjJhCMFG+1VTeVPe9hln/dj5+0V05DKbrQ3mmJ+9Hjn5icT9fBG++wIc/mqxviaPhcA+2vMLD9gcsl/5us0+teNQ8Hc2qaWLAAru1jKiMCeAdEfaZpTkjN1/oi+vPkGXHQQjrCGftz6/LfetP9k8mf98beSL39RYP+5yBsW8o8Ek5+snUWgmq9F/X/svfebVFW6932vHSp1Veecc6ZzpiMN3TQ00OQmZ0REQRQUUZEoSM45I5IUQVEQRcSZcdKZcOaE53mu573e9z/5vD/sXV3VTdCZM3P0jPXD92q6V1G19q61v+ted/je3xsw+ytgpQQ+g9j/rtf3jO/gr/isxzfeH0ZYfgta09RAyz8VFDwdTOx/AwYC2P+gNfE/Bz/6BH5e+NkR+w+5Hz+BefzV+PtZYP5c7//BJPJXXGuAyINrDQayYuzX/M2fMcR3/TPGjz6Bnx3+Sws3hH86qEGpkP/c+EcT+2NFaT9f/OgT+NkhtPBCCMbPiYxCxP7fhh99Aj87hBZeCMH4OZFRiNj/2/CjT+Bnh9DCCyEYPycyChH7fxt+9An8j8X35bk/OR0qtPBCGIyfExmFiP2/Dc+4STK46jIwNiQT4BkFDvLU//ePzun8nvcPKjYIxhOLS55yb55UmTq4SvXJcwktvBCC8XMioycpbw69/hCx/13wjJskgiGCQ6zmv49X3tlVWUN0GJ6uZ/F92gp/r4t60mcFFS1oElAhDOqlObjSbfD8n4bvJ/Yhc1FPEhSy8T829S+E/wp+jmQ09Hp/btf/34Bn3HyxiN0pFrkHrPagKrYhxK7EEo0y7J9+cnuSdvDjUN9LpN+PZ20gKojYZbAEpk2oftGrAW2L/wIem4v6AcQedO+//8Tzoy+eEP4OCBF7CP8APOPmi0VQhlgWu5+sRWRwObgKNFX1v9b/ekvLYrBk7NOhBkj1b4VlbWtPQZD41BP0QL7PAn8aHp/D30jsQ+65IUM3mKG6zz/64gkhhBB+mnjWoE0gyvo5oKw2lAyV1QUmINWpMO2fwcL0fgI3ngo1QGh/K/TvIXZtKCHa1+LfmIaKUf3t1vrfRuzBpB7YTG3datEeI/YQuYcQQghPwNMGbFLSdEQ3LCiF6HpQVx4ZIBx/42BRGkq3egaqIQJJfg3qZxPvf9UF8n1un8HEPshfrmSgI8wP9aE/OyPmCW4hFeQWegLB+z9TVwpdU0HX9IRmHz/+4gkhhBB+mnjSH21CUgZiOBGPF4mIQLwexO1EDCto6icdqzmsjpgmEuZBvF5EcyBiEpA29cub6v9QH/vj3W2GQAYTa0AbXA0ozim7U7h6xkbzw9Icf0DA2N90w69K55cbNTSUqdsbqb+bT8jHHkIIIfwgPG1AIcpAC48msqySzN5eolubkLhIxO1ADItsrPZRBmI4cCYlkNhYQ1pTHWI6bXJ3YLWXMq2NQrOJStOegKBA7N8MO9vFDy343/4+ljaUYc1NmYjbhTMlAT3Kh5iBa/P3NXxyGqMEgrFP7M2onrKp2CcYTccVF4s7NwstNwuJiUaiojAy0nEXFeDMyUFi4hHDhRgmz+rAEsqmCSGEEILwjEHNwEhKI3/mXCafP0/Ne5uRokwk0ou4XJY1r9kE7nQRMayI6hcX0756OeKxxpVYEM2BGA7EYdowAjBtOPTHYWrWCcERBOeQ3wdBH/Le/t9NxOlAHE7E4UJMN6K7EeVGjDAkO4OMmZPxNVRa12cYKN2BpkxE/N1bgjKDhnZtMZU1V4dm/fTP27+5PIHcNYeDtNZmit9cS+Ibr+Joa0Nq6omdv4DSLZvIfWkVenkDYoYjLk/geoJhaEHQLQxskv6sJRXYPPUhcxpygvkJLMgQQgjhv45nDOo6EhFFXGc3rceO03z1EvroDlzlxbjyctASkpGwSMTtw4iOwVVTRvi8KcTN7EOivIjTiWguRHOjRcTgTE/Hk5+LqyAHMz8bMy8LIzMNCY9AIiJxpKXgycsiLD8Hd3YWZkoKKioKcbtRET6M5HjC8rMIK8zBzExFxUUj0ZGYSYl40lMxk+JQUT7M5AR82ZmYKUmocC96YgKOzAwcuTk4C/Jx5RdipGchkfGIIxyJjMPZ10vHxRNkvvoC7sYq3FnpmDEx1uYlGrroA+Q+EEDWBOUyMWMjcKYn4shMxsxKxZGRgiMjCWdKPFqETchBRKps15XuclEyaQKTH3zO2D/9jqR3NqDNmE3+rl1M/+UvGHv5Kp62bsQTg8Qm4M7OJCwvG1dOBnpSAhIZgYqMxEhKwpWejjMrC09eLp7sTFRsNBLmQpwG4gvDSIrHlZ2JKzcLIz0FiYlCnK4gl5k/HvKjL8gQQgjhv45nDGo6ops4cgrIWPcmrV8/JPbcKcoun6by8B6i5i9Azy1ComKIb22hfMM6yo/uIfOt1UheChJmIk43yhNB5MguyrZsYvjFs1RcPE3OySNkHz9E8vo3kNxijPJa8ta9TuvZk7SdP0f9gcNkrVqLq7EDiUnGHFZGyopltJ49QcfVS6Rv3ohzVBeqpoGsBUsYvnUbWQvnY1QOI2XpYsYdO0rGSy9i5uUROa2f/K3bKDh4kOKzp6k4f5609W+hNbYgkbFIVTWlx47Q8+ff0fDgLtWXz1G3cytZ43sQr5vBgV81iNidaYmkTe1l2DuvkbPlLbK2vkP25g0UbHqD4jUrCKsbhkR5LAteswhdKdt37jCQmAiyD++n+//9v5Q+ekjYkkXos2eQceQgFVu2IGnZqPhUnGPG0bBvH+3nz1B1aD8xCxeilVdi1tST/PyL1OzcR8nBYzRdukLzmdP4+qeh8rKR2Gj0mmoSX3qJylPHqbh4ipRtGzD6xiExsYjLiygnIiYqROwhhPDPgmcM2j5pZ3YeuRs2M+Hf/oPybx6QeGg3DZfPMP7WLVKWPo/kFRLV3EzFts2MufcpY25cQoozkAgH4nYRVl1L9+HDjLz5IXnnzlB44xoj//QHOv70e7zbt6G1dFD53h4m3rtL1bkzDDt2nOlfPKT/43tkzVqKo7ia7Dc3MOPrLyk4up/ck4cZ9eA+ecdO4Jwxl7zVrzPh5m2aD+xFWpvwPv8cCx9+TdPZ03hqaohc9jxjHzxk4h//RMFHH5J56RJNtz8l9dXXkNg4pKaGvOPHGPmXP1P78GvKP3if2r07yZnah0R4Ce4fqtn59v4Ci7DcLApXLKb50gnKr56n5PplSq6+T9WVszSc2EvEiHokxmO5aIYSu9NAYiLJOniQjHv3KP0i15c0AAAgAElEQVTtr4k7egh5Yw2JR/dRvG0TkpOLe9xEptz9glG3blN09Cgt16/T/uGHpL20Ehk7ntztu1n0r/+L7l/+juSTZ2m4/QkdN24Q2dyMVFaSv2UbdZ9/QdL1a3gvnqb4/h0aP/kI1dFubWy6mxCxhxDCPxWeMajpiNODs6SMrLffof3eXRzzZqFnp+FsrKXh8AGKd+3E29KGFhOPo6KazNdeZ/SFc8iwfMtiD/NQMnceo0+fInvxYsyyKsyePjIOn6DlzqdokyegT5nAxHufEv/SChxlZTgKikmb3E/2cy/h7R5P7NhJdF65TuL6dZjFORiFmbifX0Tt1SukrXwFs28aeTt2Urd/F1KajyMvh6pDByk/dRxXXTXa2DE0njnHsL0HMEd04+7sInvfAZoOHERS05HIaMz+WQz/8Dapr6zDUd2IMzUTIzoWcYdZgWCHCxHdzsNXdnqnjoqJw2xvxfXCEhxrV2GuXY255mUca17EuXQOWk0JEh2GODSUrtuNi+0gstNAoiMpO3CEuFMXcB08StrVK6TevELCtbOk7diEu7GR8l17ab96Fd/osZi5JbiaO6nbf5D8/XuR6dNIXb6cztufEvnaOvTCEpzLV9Dz6efETp6KY/YCyj+6Q8Vv/kzYjVs4379E3oN7TPjffyH5nbfQk9IQw2MFkEPEHkII/yx4xqCmI6YLV1EpOe+8Q/NH15GOViQqEklPo3rXdqqOHSK6YwTi8iFZhaS89Co9Fy8jFWVW9kxEOFXLl9N96gRpM/qR9FyksZOk9/Yz/KMPkd5RGHMmM+Ph54T3T0PSM5CIaIz0LByl5WillSRN6Wfcx5/gWLrEysqJ8yEzJtF84wo5r65Bxk0kY8sWag/sQiqKMPNyGHb4ABXnT+GqLkdGdlJ36DCF695Eiitw1jWRtf09Wg4cRLJyrEDq6PF0XrxO2tKXkKwixBeNhEciYV7EtAO/NrGbfmJXJlG5hdQsf4He82cYcfV9Wq5/wPDrl2m7dokRJw8R1d6IRIYhpo6m6RjKwNBM22I3kchw6vcfIu3ISRzzFpL23g7qf/kVdb++T8buLXg7Omg+dpLh589jllUisSlIUQVV27ZTdPQwxpyZJC1aQOPFC2j9/UhULDJ1OmNu3SFu8nQ8S56n8pP7VP76z0Te/BTvlQ+IvX6ZvI+u4Fz5AioxOYjYQ8HTEEL4J8EzBjUreJowqpue8+eZ/NvvSNuxDdeMGWS88AJjr75P/sa3cLS0EN3USt7zK2k4dZEpX/+CzDVrSZ85Az0vh5gxoxl3+gRNe3cTvWw58W9tov7O59R9dA3pbsVormT6jYu07t9H0uLn8E6eQubSJZSvWkVa30SiRoyk7fAxOs6cJWbuXCLnz6Xq+AFGfniZtFn9SH09eevfYNTVS8S8vJyUtS8z/sF9eu7dwTehl+glixl//Trthw4TPnos0eMm0HbxAn2XL+Oob0IcYUjLSHrPX6F610GiFiwmdcFcypYtIK2zFfGGWemRwa4YUYim44yNI76hnqxpU0ibO4uk+XNInD+H5AWzSJ85BVdeFuJxonQDXTMwlGkRu6YhLgdmfja9F84y4uMPiVm9EvfSBdS8f4q+f/mGYTs2YZQMI+35l5j1+T1K1r1B7LwFFK57k9Hvf0Dx1q0YM2eQs2kDfZ9/Rvbr61AFxcStXM3CR78kc9XLOPpnUnX8DK33H5J0/gLm/t14j+4j9/RRfMsWo+ISrADxz6Q1Wwgh/EzwjEFNw4iLJ3dCH5NPnWLsJ7ep/eAylceOM+LMGerfe5eo7k608jJyZ82ha/8RRl/9iHGf3KXt1Blad76Hq6YSLSudwmWLqTmwj8ITJ8m/cpX6rx9QfeMDpHM4KjmS3LnTGbV/H62HjtB4+CCdJ4/SuHkj8V1dmFk5pE6awqgDh2g5dpLhp07Revoo+auWEVZaiKQkkzxlMu3HDjP8zElqTh1j7K2b9HzwAb6ZM8levZqJ58/Rc/AgKTNmkjB9Oj2nTzHx1El8bR0oRxiSU0zVK28w4thphh8/QevxgzRsfYP47jar6EpZxVXB0gSiaVYANMyDiopCxcUi8XEWEmNRCTHW/zVMlDLQlYGhLIIXTUO5HERUlTH24C4m3XifgrdfxzVmJGnL5tN8Yj8lK19AElJwFpZR/85mRp44Qdvpk3SeO0Pl1m1E903CPWYspVs3M/naVWo3bkKrqCZn9Vrmf3SL8rVrcQ9vJHH6dGp376Xp3FlKTx+l9NRhqvbtJHLqJLTIqEBV8Y+/GEMIIYS/D54xqBRGWBixhUUUjuklc9JkMmbOpGDRIormziGqqQE9LgYtIYH4ugaKJ0wif9p0cmbMIH/aFAr6ejGz0hCPA0dRPrEz+kle9wbxe/eRe/UaNRcvII01iEdHkmJJ7+ygaMYMShfOp3jWDJJaWzFS0hFfJEZiEimtbZTOX0jJwgWkjO3CmZthV8O6cadnkNo1muIFC8mcMYvMKdPIGj8JR3Udsa1tFPRNIK9nNJGVFXgryskbN5aC3jG4srMtN4sviojSSnIn91OyeBmFc2aTNKIFIz3Z8rFLgNh1WwdHUwpNs/DEoiVdUJqOpgx0MTDEInel7AIo0yAsJYmcrnZKpk8kqbMNZ04mroIc4tqaiKmpQsIiUE4vnpIy8idPYdjCBeTNmoGvrgFJSceZW0Bi50gK+/pIa29HJaUQ29hM6eRppDQPx5kYh56cSHxzM0Uz+ylYMJucmVNJG92NMy8X5XLZqZg/+kIMIYQQ/n74IS9SlivCdFi56T4v4nGjnA7bD+9ETJdl+RmaFRQ0xCokMq1iGUdyEinjx5O3Zg15e/ZSfPY8eW9vQHKyraIiv0a6x2W5PlxuK8dad6FcYXZpvULCwhCP284yEZRu+a6V6IjhRrxRSFgUYnoRzY04vNb8nA6UaaIMuxgquLBHU1Zlp+5EPBFIRJyVn284rGpZO7CogojdsGEqDVNTASVGv6CYZv20gq36AHTRrY70SgsQqq7sYqPgAiPNnpPDcpUYTivv3ONBPGGB4jDDbb1G0+1iJN363eFCaRqabm8+uuX6kTCn5dvXDeu79Vew/vgLMYQQQvj74dkvGKp/Yik92mJVhonSjIEUPk1plvXqV39UYqfQ6Xhz86h5bimjD+xj5PEjVLy5HldzM+LzIYb+FO1xHaWZaLrjsfkEhMiUrXqoWwSsHHZetj8328DfEETTdasl15M+S2kWISoHSmwoy4WiBvRtAqqK2gC5WyqM/mYkfoIPKE4OJnbDVrhUEiSjECyBPEgLxtbrUQbKcA7+uxiIOGxY12gpcVoKkkppaCowP8P+PgINUUKVpiGE8E+MZ79gaDckXfwEpgZ8zQFyC8j1KjtzxBQHmjiRMB/OjFTcJfnoOelIbIRVGenQUeoJGiwiiE1USukDc/ET5tPlaq0NwRIb0+2NZTCJPf5/Nfv/GGhiYoiJKfqArrzuJ8UhuixKKdt6DxD7YIEwS2lSG2LpD5I01rVB89IHpIX9So5PU4c0Ef8GZG9gwQVUfp34YE33YMnlgXsV0pkJIYR/RjxlYGgjChu6WB2VnBLokOQne4coDDFsyV4NTQwMcWOI27ao5XFylCFkPUhTxW+1Wv/WRD322U+2PL+ni9IQKHsjENuqdoqGSxQusQjbEMut8li3pQFiV4Mt8aFiX0HKlX6y1eTx++DXsffDCCL5oTrvllvItGGg26mYT24+8rgi5U9g4YUQQgj/ODxlYKhqob+VnBZExP6/+y0+pVl+cc32+YqBLm4McQ7otQeT24CbQBN0LeBGENGtn0q3XBG25a2LjlMUzgH3y9PI2/rswE9j8O/KRHS/nzlYMz7QEMTf/MMUfwMQNYgorc0sQMBPn8v39DcNIvfABmltXkNPAENPA9ZJIJCpEzy3J5+AQgghhJ8JnjIQrFzo1BC3gXgMxKUH/MJBZC+asvTYnR7EGWb5q8VAFxeGODCUPshq9VvephI0XaF0DV0z0DTTzhrRB/zLfreKLsZAF6ZgK/txGASErcwgGNam43DbQViPHSDVB9L9lPJ3hFIDnaE05W8EEiBMq9NRsOtJQ1M6mrI2CiX2JmUYAUVLZzAMCw4jSHN9cAcqQ9Tj5DzQvSpwWvB3WBqIg/ihHj+d/AQWXAghhPCPxzMGdYUeH0XyyBYaVi4ls38iEhNpkbfuQpSVdaFsDXRPWjo54/oonzTN0hDXHGjiwFBONN1ADB3NNNB13SIlmzStIKJVaq/5A57Kzu7QrYrPgM/c72bxW98Gopk2DMsSNxxWBo/tizYcYWiG23qNLwJfUyN5q14kbeF8JDUVcTisa1WWP92f2aIGTisqkEETJHurNDtIKU9u+ac0E0lJwVlfg1lVjqQkIAkxqNJCzOZ6pK7C+pvba2W32PdMiYmmHOia097AgkjZnouuaThFw2n7+DWl0Ew98N35NyoJuV9CCOFniGcM6gqVFEvmjIlMuniClsO7kLxsxBNlaYRrLpRuWml5pokzN4+0eQsYtuR5qyRfd1mBPWWTrcOBMh0ow3KFKN1EmdbfxXSgNCdKs3XeTaeVWulw2ul8TkQMi1RdNnE73FaKorJJ3W8du+y0TMOJmGEoVwTK9FjvFR+Lb/wYSs6eoO7cKaR8mN0VSmEoyy2k6YLSxUrZNJT106FsLXjDnq9dPTrgvtEHuW0colC6g6SRXbTv3kXzkQMkzu3HObKNnDfWMubiWVoO78PsHoWERyPOcMTptTRpDEvuWGluRFyIOOzURw3xOBG3A6UblhtG6VZmkq6jDN26fl2zTwFWNtCTuzuFEEII/8R4xqCuIRFhRLU1Un/gPVo/voKaP5voaXOI7OrDyCpEwqOQMC+OtHSiukeTvOplkhcuQaISLA0S0S33R2Iq4c3tJEyYRNSYcbhHdeMZ3YO0taHa24noGYtZ1YCKTUZS0nHX1xPZNQpPfR2SnIrEJKCVlpM6qY+U6ZNxNDYg6ZmIJwoVlYyrvBpv5wikpR6ttpzYSX0kdI3ByMhHopKQzHzcbW14+6fgfuVFks+dpOHWR0h1lUWGhm2t64IyJOBicjvQM5IJqy1Db6pCmuuQ4Y1ojfXo5SWo5DjE7URpxqBmHIYIynASXt9Cy6FjTPz1d5R8cB7zhaUkr15F5yef0nb1KnpbBxKbhOQXE9U1irRpk4gcPQqVn4+ERaL5EvEOq8U3chRaZzvhUyYQ0deLWTrM0oUJC0di4tCLiwnvHUN8/3S8I0eiZWYiYT47hXOI5HAIIYTwz45nDGoa4jBxFuWT/c56un/zDdlX36f05Dmajp4l/8XVeKrrkLgE4hoaqVq/nuGnTzNs0xYkJRvRPZb7IzaBjOmzqd11gLoTZ6k8fprKcxcoPX+O2B3bSdixnYaLl4h95XX0tpFIdw/p69dTe/woWa+sRuobcXX1ULFlK22nT9By9gRV+3YTN2cuRk4JZmEVactepObkUQqOH6Bw73Yazp+m88BhwkdPQFUPJ33Jcir27aHozDEyr1wg/95nVH9yyyJ2p4mYVlHRgKWuW9fviIslZXwP9ZvXU7hrC1l7t5O1dycFu94lf90qokY2IdG+QF9Sf8aMiGV5p+RS8MZmRvzyOyp/9ysiDuzGXLSIxBOnKTx1DlVSjmppJX/NK9Qf3EPzmaPUHd9P+ssr0CurcKTnk7XkRTouX2bYhTMUnz9F1dnTZL6yBnf9cCQjm7COEWStX0/uqZPknj9H4dEjpL/wAs7cfEtvXXPamTOa7cr60RddCCGE8I/FMwbt6kdnXj6572xg3B9/S8Glc2S/soaa7TvpuHCJtOUvYBQWEVNeSekLL9J+7gI9l64gBRWI4UNMF1EtLYw4fJSWE6cpfGszJe/tpe3uPUY8ekjCjm2k7NjBuF9+R8Lh48S+txvX1q1kXDxP3e1bZL31Ns4xvWRt30775YuUr1/LsHWvMvzCGWpOniRm3GTM0mpSliyj5c5txv7hOyquXKBsw3oa1r2Bd3QvSctepOnEaeoP7CXvzbXkHNlP+aNvqP3kNlJVYbk3TIWuWeRuBYWtuIEzIY60yROo3bODkuMHyD99hPxTRyg5tp+iTa8RM6YVifXZpB5I6bSI3URikilYvZ6yG7fI+uIeCTeu4XxvB65jx0g7eRJVW03CO+tpvnyOmu1bKHntFar2vUfluWMkv7gcs7iCjKUrmPeXf6Xm1k1yt26j4tgpas9eIGnBIrTOTpI2vk3j/Xuk3fyIuIsXKPz8UzrufUbs1Mmo9HTE5bX89iFiDyGEnwueMWiXp7tyC8l5cwOt9z5HZk5DEuKQ8jLqjx2h5NABvG1tSEQkUlxK8itrGf3+daSkHnFGI2E+hj23hK5LF0hb+hxSNAyjo4vMfQdo+vQmMrEXfewYWj+9Q8LVa5T8+U+kfPOAlM8/IenkScxZc4mePIXmm9eJWfcKkpmMpMTjXTCXETeukbtyFZKdg2poIOXwQTq+vo85ZwaSlmwFRrOyaN29m4qjR/CN60HSk9C7R5Jw8hRNH9+y5YUNxGFVZw4UI4kgSjCiI4kZNYKsN14jZdMGkrZtJHnr26RuXEfKigV4W6qQaO9jxK6LoAwNiY6n/JX15B4+iWvHbqLOnCX9q/ukfnKT5NNHUGNG0HDrMhn7t+NsbkKSUzBGjSDvwHs0HD+EVNfhGtHNuEff4HzlVaS4Elf/AipOXyDr9XU4ly4k+6Or1P3+1zgvXcJ54gRRtz5k1B9/S8Jbr6PVVSMRUXYFbYjYQwjhZ4JnDNo6MO7CUvLe2Uzj7dtoE8cjaUloJQWU799F8dEDhHePQiXEo1dVkbJuHSOu30RvG40kZSMJSZS9uIL2c2dJWbQYNawac9RYMvbup+HTm0jPCLTSYhovXWT4H39P6b//kZL/+APD//NP5B07iowYSdzkSYz46DKRLz+H5KQhaUl4pk2m9dJ5sleuQArz0dtbSTpwgKpr15D6BvSsLEuuICGe9ve2U7xzB87ukUhGKkZ7OykHj9B+53O01mYr2OrQ0LVAQZC/KjMsKZGKRYuYev48XVeu0H7tCiOvXqT38hm6928ns280EhVOoJgqUHSlDIXExVO3bgNlR07jWraKyFfWUfPdbxj1lz+TceoIauwImm9eJnXzm5iN9UhqGs72Fgp3bqXx6CGkph7P2D4mf/Mt7sXLkJQ8nONnUHHiPFlvvY3rhefJ+/gGw//0B2I++ZTIj28Sd+sGxZ9+SNiq5UjFMMQXjlJGyGIPIYSfD54xqOuoyAgSR41i1PkL9Pz2d8ScOI538QLi3nyN1uvvk/jmWtSIFtw9o4h/7RWGXTpP97ePiNv6LmFLl6PKKwnv6aXr9HmGHT+N9/UNpOw5RNPDb6m/cwsZPQItKZbSrRuY8qdfk3D+CHl3rjLyd19TvPktpCCfiIY6Wg7sYMy1c/heeh7vC89Tc/Y0zRfPkTBjCnpLA3GvrKbmk89p+vIR3jc2EL96LXpRMRIZSfmy5+k6eZqi7dvxrniBpM1baXvwLZN+9VuilzyHiotDXC4rs2ZAb8ZARKF5wnAXlRLX2Y23uwdPz2h83SOJ7uoguqUBV262JcrlL3SyLXY/sWv5+bRv3834jz4n542t6P0LST14ghl/+gtlx46iqisp2vA2XZcukrl5A2HLl5C3cwttVy9S9Prr6GU1xD+/kqW//j0J699BrxxOypKVdF25Scn23ai5C0ja/h4tX3xJxLHjeN7diufdTWQf249n3kwkIw0xHJZkcIjYQwjh54InDyilEEPHlZpM5bzZLP7oBlPvf0Xf198w75uHzLn7KZXbN+FtqsZsqKJ6/Vpm37rBlC8+ZfJX95j14D6zb9zA3daBxCWR1j+PznNXGPfwO0b88rc0/+KXVH5wCekYjor0kDF3Or0XTxI3o4/E1c9Rc2gH2XOmI9ERSKQXX3M1vUd2s/TL+yx5+IgJV66QMGMakpdByrguuk+eYNbDXzL9wXfMvveIhTduE9PWjuZxI1nZVK54idlXrjL/i/tM+uwufXe/pP/OXdo2b0VPS0dcngERMFH+FEqr5+tANa3htNIcDWX54Q0ruCymv/uQFiROJoiuiKqtZcKuvaz47Es6D57E2zeT6O4JdB4+QePmzWjp6UhZOS1vvUX/jQ+Yee8WfTfep+TVVUhJKRGllfRu38OrX31D94EjeHv6qFnzFvOu3qRl1z7CunsJbx9F1c499H3xBRO//orJX3zOtOtXSJ0xDT0hAbGLviwZhhCxhxDCzwDPGNQUymVgxPhwpafgzM7HkVuEq7oWZ0kRRnIsyutAItwYyTE4s1Jw5mbgzMvCmZ2JMzUV5Q1HnD60yCTMsgYc4yZjvvgi6SeO0XrxHFI1DHFoaJFeHInxaLFRaHHRGAkx6JE+xGUiLgPlc+FIjMfX0Iq7sglHdh5aTBQS4UaL9eFITsKZmosztQBnSh6uxHSU12Plnxs6RkQkztx8XHUNOOsacBSV4MzIxIyKslwxhl1RaxdLDWjWaLqV2aPbuesO3ZIiNpVN8Gpwk4pgmQBDQ/l8OJKScadlYiano2KTUNHxmHGJmFHRiNuNeL2YSQk4i3Nx1g7DUVaAnpqI+HwopxtHZDTuhEQccXGo8EiM6Fhc8YmYsfGo8CiULxojMRXHsGE4mhpx1tbgzM5Bi4gcKPAK6NU8Q+YghBBC+GfBMwb9sgGmskvgw6w2cs4w23K1LVRTWVIDbtNSbPS4EZfTLjqypGejc4oYvnQFYw4dpuvKJTqvXKRozctIaiKia2imGegtaphWsZGu21WeNoEaDlRkMuKNt3TWdcPWMleWxrruQTQfotmVnLqy5idiEbZpWi4Xtz0/lyOootS2wjVlbWjKD0sqQCl7Lv7X+fPcg9URh+q/aJo1L4djENSA3LG9KWiatWF4HUiUBwl3Wfdb12y9dPs1um7DGAzNLgDzuJHoKOv6jIAcw1+lYRPCTxxPkokISUaE8BiePuhXdBwoq9eNID+0v9RdBpOPYZGPptn67CKIKNyJyZROmEDjyysoXbmMlGkT8BTnIeFWEw2ldHRlovn1YTTrbypY7Ev5yduFsn3g1ueLXWGp2fnahqVN8yxJWn+DiwGhM/UEUg/IBivlt+jlyRgg86G/B8kQ6MGfMaQKdKDhhv8UII9VjAbmo9mCaSoAXdknCR2lKxyGiWEXJg0VKPufYLX/46tk/zYifLyK928n1L/+Gp+lWvrDNmz1zBaIoc3hnwjPXgRKBZGZn7xtV4VSmq0y6BeisoSzdOWXnrV9zSJoHhe+lESi8jPx5KSiJ0Rb+eMOB6IZaMpuHSd26zib2AcTk18MTLPFrzSrcYZN0P6KT9Mu6f9ehcPgxhPBpC4y0LTCT+oD7eyUCmx2A64bLeh9hkIN3hBsa19pQxQYnyBnrAXBUpZUAyJog6pIh2wohq5w6hqmClLBVMHEPqS5xxCxsKf74X+IZfg9FuTQU81TNt6/mvS+5/0Gv28wQf5wIgtW2bQQpOrpJ8wnfP7Q61BD3ksNufd+sbzBULaRM1Twbqg8dHBDmCdADZGuHiB6/z35YeQekqf4yeMZX56f2IMJ0LaOgxdhgHgCUrzBjSdEZLALw18ApBkozWrEoYvDVm/UA0SktEGLXoLUIf1Ep/lJUwUeFGseKqiM/hkEM+S6dN3qAjXQsCOI2LUgzXNLn90+RfjVIYM2iACRq4DbRhNbf8b6t/86Bs0n+P7LUDLxX1PgAR54OJV/vpq9uUogWKoCm/HAwxu0EViNTAIqmgNia/5rGphXsGpmMCEEW69+gbYhxKmG3PMhp52hRDHo9ydtBsH3auhJ6UnfddD7DiLkoLXx1M987HsQW1nT0giyZDO0wHf/PZtV8Dq1NmkdJVanrkCz9OBnyvqswPceeL0aROjawPoIhm7PU7MbyYgKjiHZgnZKtzuV6YH1NOg+qyH38Aknyh+fzEII4OmDA66YIQtcRGwXg2EvEGV3EwrSWJeghhIi+Jt1DF7Qpk3qLnRx2g06/GmDQdbEkAc5eGENnrOf/P2LPNjiH0LuTyQDqzeo0lSAtDW/W0jDEMNub2erP4pGQOfd744aQux+ETH/hjaE2I3g+TzD2hxstQWTUtBc/dk8ShtMMAPErjOI2P1a+pqJKBciTpRyoZQjaHP1z0thkbotxvaEDVf5N0MJ9u0HEcRQYg+KUygJWmvyA4n9Se859B4OfCfawPVrj93D7/lMeZyQLclmHUPs9Fh/zMkfd3qK5e53wfllnw2bcANdsPSBZun+Z8k6/Wr2a/0br/EYuQfI3G+E+A0R+1lTDpTutO6D30VoWrEspelohtNeC8FuPiHYih+6wYWI/SeLpw8Oetj8/uIwH0Z6Jp7iUjyFxejxCYjLbS0Me0H69cGHugv8HZgCC9oRBDNA6o+RQWCR+R+MQDOJYCvR0l33PyTWog4UHA1afEP942IvYNPElRBLRE4W7rRUq7G23WBaUwa60i2JXM3vwvA/VPbn+C23QaeToM/S1QCx+x+QQUTyjO8iQOJDiF3TLDXMsEhLG8avBKkF3T8tcAKyjuTBYyaGL5bwlGw88WmI0xd4+IPnpey+sv4+skPIcbC7IMhF8RQStgwHNfD/Bq5NBdwRg04kT0XQGhk4bQVteqbDqjXwhCOmh8GNV4a4JoaeguxrH+wS85Otga6cKDOMsJQ0orMzMbwuazMPPgn6FUkdhj3mP3kGW+IBHf/gU7AhwS44i8yHNpBRgwg/AE3sWIxuWCqobh+O1FTMhDiU2yrKc8RF4UxJRIsItwLupkX8g2I4QS68YPfgUISI/SeFZ79ggAyVQnm8eOpbSH75VfK2vkvhuvVEjx2Hnpxm5XjbbgnlD6yq4Ad8CDQ7m0M5BiyPx32efiKzG1FoOsrfAEPT0DTdkgRWTkR5EC0M0bxomsfSM/f7wzZlZz4AACAASURBVAcdO5VNriqQrqgFnQ6iIkgdPYq6NSvJmz8DyUoN6LDb1vsg94p/o1EKTbMba5h2SuRAto2f8O0sFtMIZPtoQ+YQTFADv1uxBPG/vxE4RYiyAtZGbDQR9VblqjhdQZ/hJ2a/20wNeRAta99bUEz5jNlkjepGomPtz7BPL7ZujmWR6kGNQfxH+mACVIENfVAsQgWsRENDDH88Rkcph3Vi0F2WJr2tSGm5Af3B+qfBv8kEdd0aMA4UohsYsfF4Sitwl1Yg4THWutOC5J41f0ctG5r/fQPNYYYSuxXjseaueyLI7BnD8OeW4E1NtFJs/Ru5qWHGRRNeUYqWkWKl7zqsGglNada6UX5DILAWBgLlAy4eu6bCn1zgv3a7oE4NdC7z3xf7uzFMlNOFuDxomRnkL5hJwsTRmElRiEuR1FRNzqwpRA2vQ3weK+al/P1ztUHPb6DpzOAYQIjYf5L4/hcpJYjTibOgiGE799D24Gsqb96k9dJlCle9QlhJOeL2IR4fKiISLTLKkox1eizS1dzWeHhUAFExqKhYxOOzrcDggJDfBaMs69MThkRGWXo0LrdFXOHh1t980YgrytKl8SWgYlJRsSmWxrnfQnI6kfAIJCoCiQpDYrxIfJRV/OR22B2NXIjXi2RlkrlkIeOvv0/b4T1IRbFNvrodE9ACLQEHXBma9UD4wlHx8aiERCQmxpqj0w4Qu72oyBhUXCISF2eNuZ1WemikF4kIQ9xWKqYK96IifFaHJ4fbsjQjY5DoGCQhAYmLR3yRdvqpB+ULJ7ahgbb9B1CjupG4ROu1Ho9FxCrIPWX74AdOCmIghomrtpbq19aQP2cWkpyEOB3WBuU0LcmE2CgkPgaVGIeKibK+E8Nugeg/TQ0Qu/2Q+11RDgMJ86KiY1HxcUhclPWeLo+VluoMR4XHo8WloOKTkYhoxOm2rEdvBHpkLOKNtNaQNxIVEYPyRVm/u3xIWIQlXxwZhYqKQtwe6/8aDsQdRmTjcIrfeof8NWuRtHTr3vgirPVpuq11Gx2Lik9EYuORiCjr3ipzUOcs/2k00HDckqTWI6JJnz+PUTu2EZ6fY90zu/mMRPhI7Oxg+I4duKdOtb672Djr+TBc1hzD3KhYH1pChKUU6vVY6zHMh0REINGR1nqKjkaiYqy14D99OL2WdHVMEhKXgsQkWM+Ew+5iphtW2nFEBN7ukSz89Bolry7DlRmPuBS547oYe3A3DetWo7JT7bmbdvzAfwrVUU6nlSrs8Le9fFKA90cnsxB+ELH7j5JOHZWbRvhLy+j8zS+Juv0hxsYN6EuWouqakLgUVFwyemUlrml9hC+ZgzFmFFpODuKORMJi0SrrMcdPwugeg94xCnPKNFzTp6GVl1nkLQYiDix3iu0C0BQqPBy9rBTHuDFonR2WBntsAlpbC8a4sWjD25D0PFRKFmZrO55Fi/AtXYwxshMVa5NbcgpmayvmhF707g70MSMx58/GMa4XlZiMhEehl1dgTJ+KsXQR+gvLKDxxmMqj+5GKUmthayaa6LYbyRIL0w2xtNtdJlpKImZLC675C/AseR6zbxp6XYulL+/2oeXk4hrfi3fJQhz9U9HrqpH4WKQgD7OnG72zE5VbhCqqwD2yh7DRY1ElFUhcOlpdO0bfFIyJk9AXLsKYMw+trgUVn4FEp+CubqTgzc10PfotYbsPYcxfimPCJFR+EeLxIirgwx3wvw9Y0g601Ez03jEYi+aije1CstIQj8vSmU+Mxxw7BmPKZPSZM/Asew7nxD60/HwkzGvVFtgBZashub/Llb3xOUxUdAyOqjq8M+cSvmQZxvTpGKNGIpk5SEQsKjkD54huIhYvxbdgPnpLCyohCYmOQ6uoIX7qDMzqOiQ1E6OuCW/vRNzD25DMXFTJMPQJE9CnTkKf3U/Yc4swhzehklMRXyQqLYP4RYup/vQ2eR9eRn9+HsbsyWgN1RbJhkWg5RTiGjcBz5LFOGbPRO9oR6WlI4bbdmkEBev9WSdKLN90RBRGUxOuFUsxnluAKimyDAQ79VcVFJD2+nq6Hjwibt9RjHlLMMb1oQpLEV88KiIJvboWz+zp+JbORx/bhVZUhEQmoMrrMEaPRp8+BW3RPLQ5/ejz5qD3z0SrbkDi05CYVPTyBlyzF+NY+gJG/xz0pg5UQiZi2ORuOHClZ1C/dRP9n3+Mb3SbZeCYGlJcQOWmt+m6cArPhNGIz40YTtunb2VviceJMycDZ2kBWlKctVFrgdPMT4DEQviriN2GivASN34kY7+4Se//8xdq/+MPNP72V7RcvEBs9xgkNZP4Mb20HT1M/4O7TPrqM6Z+9Rll27ZiZBUhKXnUvrmJqfe+pOeLr2i9fYdx979i6u1bVK5aiYR7bVeIw0ZAJTE8M4PaV19m5oN71F48hxrTi3T1UHjkMON/8S3F+w9hTuoncelyOm9cZ+I3Dxh77zOm3vuMyDmz0VKSMRobGb5zJxPv36Pl3l2Gf3KbaQ++ZMr168TMmIOqbaT58BHG3v2c0Q+/ZtS3j+j+zXeUHT+KVFXaPkoTXbTBaZxKEENw5GWQ9+LzTPn4Jv1fPaL/61+x7Fe/p/3wCSKq6pG6Rgrf2UDvndv0ff0FE+59Rse5M8jYHqS7i3E3rtN5/gIxYyeSMWMhE85dZsKVGyTPWYQrr5Lyt3cw51/+xPjf/54xv/o1Ex/+ktrdh4lq7UYyCkmbsZBpn33FhP/z/9H8h78w8dvv6L/6IfEdI5GYOMT0oJQDbSix6zpieigaP5nes2eZ+vBLinduQ9VVWScZlwNXUSEjzpxm8q9/zehHjxj76BvGfnaHnNdfQw0bFhRf8QfLbZ+v3w0WFUH6+PH0HDtJ/92vmHT/AdMePGDqZ5/hGjseyS8m/fkXGPnBFSZ9eZ9pD7+m9/p10hYsRsvIJn7ZCp7/+hFFb2/E2T6SmjffYe6nd2l8by/SNYboufMZef8eY371Ld0Pv6Lvmwf0XL9K/ORJSEo6iSO6aD17lnH/599p/rff0fGLu8x49DlFq1bgSEpGyqup3riVUR/dpOXuHUY//JKeD6+R1N9vWb12oNiySIOykZS1afly8unavJWZv/uOKd99S+SECZbFLwoJ85A6YTw9tz5hyn/+X7r+5d8Y/4vfseiTO8RPmoKWlk/ypNk0nTpP54OvaHl4n4Y7N8l6dxuqtonoFasZ9+V9Oh99Rd2396n79Tc0/+47Wr7+msKde5CmdhwdPdSfvcLIL39J/ZcP6Xr0K4afuEBCxxirK5fuQFwevLV1TLlxjZK9O3AU51mnQ01HIqPJnjuXjotnyV/zEhIXiZguu72jTezxsXS/uJz+rRvJHdFqW/XGk5MSQvip4Ae8yNTQs+KJWzqDtq8+JvrgTjyzpuFpb0HPSMM9oo2yXTuoO3GMiPnz8Y3pIWHDeuY8+Iq42YvQU3JwjxhF/cmTjPnVryi9dBnfi6uJmjKD2JZ2xOOwidxExGE/PIKIQouJI3n6NEbe/ojIk0eJOXeByAuX8Vx8n5KvH5K45V1iX3md8tNnGXbwIL7p04maOJm6g4cY99F1wsd0obIziJ00kY6rNxj73e/JP3SM8NlzCZ80BUd7J6Vvb6Tj/cskL1+Bd1o/2W9vpOP2HSqPHkeqawb0YJTyW+vK8n2aOhIbSerUCbSeOUbJ9u1EdPUROXoynYcO07R/L+EdHRSsXUPDuTPkvPkavonjSF32HJ0XL1K5by+qvo7UbZtou/YBCRMmYQ6rpvTVtXRcukT6c8tRKflEzF7C9D/9mawLF4iYtZCsdZvoOHWRvEXLkPRcHKXVZL2+nu5ff4tn69v4JowjoqMDIyPDsh51x6BGG4E0SSsbxpmQiW/sBFrOnKFy317MxgbLR68pjJgY8jdvZMYf/4WkbVvxzuynfP8eqk8eI65vnOWXNfWBjCerFsG0/P8Oncjmepp3baft+AnCZ88nomcsGa++wuzbH+OePA33gsUMv3SRgu3b8E2bSuzsuVTsPUDnuYtIzzgcjc2MuXyV4u07cdc24O7qofnQUWoPHkGN7sU7egxVH9+m65tf4Fv0PL55i+i6cZW019egSsowUnNJmrOA6muXKTp/nLBZk4gY141zWBnK5SW6u5feqzdou3ePmBPHiD1ygPS9uzDG9lpBZDGDArQBV6HlajLQwuPw1jQT8fp6Jjz6lqip/UhcguUCc+mYxXnkvL6Gnnv3SNq8HV/fZCK7uzCys5HWEdQeP0fl518SdeoMngN7SblxmZZvv8JcvQp9bA+jHtwj6fwJvGeOkn33NumXzpN16iQVly4hk6fgnjWPyb//C5nXbuLdu4+Yk6eI3LgZR2NLIJDu8RDe2sKc+3eJWv0SWlyMlcWjDMQdQdr4KXSePUv9js1IegLiDJxURBPEF07hiFGU900iqrDQbgvpj22EiP0nih/wIk2QSDeeUY00fXQB49UXkOxUJMqHRIWTOns6daeOkrdmNZKRiSQk4GpupPeTjyl9Zwuu3GKkoIiCrZspvHgez+JFSHYeKjYF3RdtldPbbgFRTjvtS1nVpc4wfDU1lJ86StH9Tyn64+8p/V//SeZ33xF/6xauF1eS+/ZmKs9dwDN3DpKWikpNxzdxEjO+uk/Uc4uQ1CT0+lqGHTxM1ekLuMZMQJJSkcQkjPIqei9cInf7dpy1tUhyKs72TobtO0zVkZNIdZ3lb3Y5ENNAmYbdp9WJOAyMjFSKVj5P27njuCdNRGLTkYgkIlpbCO/uwOhso/7wAYbt34Wzqx1JicesLCP17bcYd/Mm2vBGPK+upOXa+yRO7ENSU0mc1U/psUMkPvccEp+Oa1Qvo795iOfllajcEsImzaT+8DHyX3oJycxFEjKImTGLjs9uIHMnIUkxlg/b7bR97FZKnd9vGsjjdlhBZ92L5ORTvX07pfv3ojc32el7JprPR8yql+j58h6+SX1IbjYpq1+i+ORhEmZMRsI9iMuwiq5EMEVHFxPNdCGGQfbk8bQcP0DBKyuRjAxUQgJmaSEJUyeiNTZR+N5Oqi+dJ3b6JCQ1GS07h5S5C2i5dAXv0uXoGTm0Hz1F4Y5duMvKkeJihm3cSOn+/cioLlzDm8k8c46CE2dRWSVIZSPNZ0+Rtult9LIqxBVDdFsX5QcPULTtHSQ13johulyI04tZ00DmhncovH6NnDu3ybt9k/RD1nuLK9wOSPqD7Xaz9IG4gm7Fj8JjkL5pjLr7JRH9s5D4BDtIrJDYCNKmTqT7/Yu45i2w3D/xsYjPi3PyFFo/+4KWP/876V8/IunuXQofPaT5t7/Cs20T0tJI82cfE/HmWtSba0k4f5qYLRtJ3vA2ZZcvI/396CNHkX7mPAV37pJ551Mybt3Et3ETqmG41SRd6Ui4j4gx3Sz+9iGu5xajEhOtGIZmIk4f8Z1jGH7kCMP3bkeyU6wx0e3NSyG6iSs8Gk90HLov3PL/h4j9p45nDPqzMkwTSUshbOYk2u/cIHzTG2itDUhRLpIYS0rfONqOHKTy3c1IayNSWYxrzhQm3r9DxupXMQtKkaZmivftIf/CGRzPL7Fa0iWnI+4IO0PBJhnxIOJEiWW9i+bESM8g5a01TPxfv6P8Xx6S/9uvaf/f/0ri+TOoCZPIX/EybZcuk77+daS+Gr2mgqRXX2bGF18QNWMGkpeHq2c0pccOUXDsENLXixQXWk0t8ovoPXqcusOH8fZ0IeWlhM3op+b9K9RdvoF0diM+r5XN4HERU1NDWuco3Dm5SJgbLSmOwqXz6H7/DPErliPDqpCiMmRkO86JvWgjO2jct4e6U0cJnzcNqRuGe3w3pQf2MP7aNbTSYYQ/9xzdVz8gZelCpL2J1Ddepub6BTLWvoxk5+OeMJm+b7/G+dJypLCYsCnTaThxnPy1ryK5xUh0OnET++m58zFqxQJkWD6O5gYiGutxJCUhhgtdOTGVGagQFs26565IJCMHGdFO+fEDlL1/Gvf8mUhhIRKdiB6TSMr6dfR+dRdf33ikqID0116h4sIJUhbMtALRbkuzx0rh063UVcM66qd2j6D90C4qt7yJNFQhJfmohio8s/tRnSNJe+tt6i9fJPHlF5Dh9RjtreSse4Ouq9cxp89Gj0qm5d191B46gm9MN9LXQ/GxfRSePIJMHE9Y1yiGXbxAzelzqJwSpLKetvNnyN+9A1ddM+KKJ7axk4Z9B2k8sBepKEHKSvENb0EvqcA7cQoJb79F7LtbiNi2iYwzJ6j96Bo5q1YinkhrbeoKifYSVVKEJysLCbNkMMRwIBExSHEZ+pLljHjwiPCXVyPDhyOpKUiYBwn3kTmmh0kXLpCwahVSVIg01aO3tuBauJDhH39C5YOHRJy7gHf/YaIPnyDp5FmM1S8jo0bQ+fknRL25Dv31NWScOUXSxndIe/NNqq9eRZYuRZ8zh9Qjx4javJmIHdvIu/YB5ecvED95OhIZa21EXi/hbS3Mu3+XuNUvoaWnWnpCmoF4fKSMm0DbqePUbd+ApMZaxB1M7G4P7owsnLm5SFzsgMR1oMp1MG88Kaga8sX/BIndCI8goWME7Yf3M+MXX9P+0VWa9u2kcMkCwory8ZSWULHiBUYfP0zD/u1U73iburMHGXHhJN72ETiqGylavYYJtz5m7P3PGH7hFDXvvEl6zxgre0V5UBKGJmEo8SDiRsSJKLeVBhcTQ+zcaSz90yNST+8k/NAWen/1JWlbNyKVtUQ1d1K75V163r9A7Z53qdy2gRGXL1C/YyeeqnqiO0ZRv+Ed+j77mO67N6g9vJOKV1cS3tSIFptI/twFTDh3huY971G9dQONJ48x4eEjeu9+TcbzL1odoxwGkpxI69rXaFz7OpFl5dYC9zhJbGuidfd2us6fo3rLNirf2UjTnvcY9vYbhLW2kjx7Dg2H9tNy6hDVuzfTeHQPnRdOk//yK6jENFyjxzH+zFlGHD9E5f7tdNy8yISHd6jauQ1Xewdlr61jxR9+Q9meHThHjCB/5Sqmf/wRw3ftxF3dhPjSiG7pofvCRRounKZq01u07ttFw2triK6oRJxhaGJpsvtdMbpN7HpCGqXzFlK/ezu9X96m99u7NF84QfHKlYRVNOEqqGDkqZMs/s0vyFm1EkdnJxXbtzLhk48Y9trL1snNY1rkJ34/tGEVOSkNT14WlaueY/Tpg9Tt2UrV5jepfXcT7ceP4pk2HVfvOKp3vUfrmRPU7XmPpn27GXXuLHWbtyJFFWjuOMqXvsyk9z+g+eAeKk8doPur27R9dJnkV1aR8cJyJn/2KdM+voVvRA/e7nFM+vA6Pe9fJLFnIuJLxVdST82bG+m/fp36rZsYvuNdOrbvJLJvMinLV9B8+hRNF85SfPQgtVcuMurjG2Que84SmlOWxR5bVsDoVSsonzYVZ1ISomkYXh/xtfW0rH+bhnOXmP4vf6bl6jVqtu8gfswYVFw84vaQXN/IxP0H6Dl/jtI3Xqdu53aGvfM24bNmUbB5K7VXrjHs8lWKT56n/NQH1Jy7iu/FVUQuWsScb76h8vBh0jZvpvXyZar2H6Bk+3Z6Pv6YjC1bSFz/BmM//ZTqw4coOrCHto9v0HzmLEnjpyARNrE7XXjLypj0/kVq9r6HsyTfysYyNCQhjoKlCxl96TQFq5YikW7E4bSD4GKlvMbGUjV9Oi3LniOx1m7+rvlTIp+cHTM0vz1E7D9FYvf6SGpspuOtt2nZvoOGbe/SvHkjhXNmEJabgUSEE11WQcXihbRv30jL7i1UblhL8v/P3nu+R3Wla95r7VC5VKoq5ZyzBEoIJJRJIudsQASRTTI52QSTnMCJnIxtbMAGG+ccuvu0u89xn55z5szMNf/L7/2w9q7aJQS2u+ftds/0h3UJKuzae61n3euJ9zNrKlpaJmbFcOpWrafz6DHajh9j1JFDjHhiK/ljxiC8foThQ5Neq/rUZWnrdn66C+H1Emioo33fNtxTe5HjO6je+jjh8X0qMyCSRUp7Dy3bd9D17AlGHT9C/a4dhFrb0SIZREd10rj+cdqfPsSIU0/S8vQ+GjevJ6mpCeH2YxaUMGxZP6MP7qft2BGajxym6ehxGp88SsH8RYjUCNJlYjYN57GLF6lbsx5vXr6Vpy5wpaeQO3E8rQcO0HbyFG0nT9F56EkqFi3CW1SOKCgld/ZcWg4doO2544w6doiKVaswKusQ/igiv5y6ZatoP/wUI04cpuH4UzQeOUDRyuV4RrRSvWQFk06cpG7j43hGtlE8byFd+w9Qs3odvqomhCsNT3YFpYv66Tp5ks4Tx+l46iB1ixaQVFKMcHmIFxWpjWgIDSFN9LRcGhYuZfTevbSeepqRzx5n5LEj1K3dgL9mBO6SGlp27KT35HFyFyzANWIkRf0rGHngSQrmz0fk5ShWT91RKGQV02hSR/o8RBtrGb5uBe2njtD+/Enanj7CyF278Y5qR2blkjFuPE07dtBz4jg9x47RtGkL0ZHtCF8UqYdJqRvF6G076TpxnObjh2k+eYS6PTvJWriIrHkL6HjyKTr27ic4qgt/axfNu3YxYtduUlq6EN50jHAumT0T6DrwJL0nT9D99DFGbtpKUmsn0fETGbZtGy0nj1N/6jjDnz5M+bo1uGtqEYYP5VMXpFSVMm7dAHUzpuJOT0VIgeH3kd7UxNgduxlx+ASjnn2RllPP0bx3P2m9Y1Q6r24SyMiievpMuo8cpeXIYdoO76d69Qp8TU0E2zopGljH8KMnaDzxAs1Pv0DDvqMEJ00jefpM2g8foXL9BrIXP0btlq2UDKwmd+ky6nfuIn/lKtJmz6HtqUO0HT1K49OHaDryFAULH8NbUqWCv5pKZ3Vn59K0ayfz3r1JdPo4tNQkhEsSaKim7ekD9F14keTxXVb9hSuW/SN0DRmJ0DR7Ft0Dq8hqqI8xhz4M2P9ZvPSrGD8N7MLQ0UNhvEWlGMVlaMXlmCVlyOwMRMCtAm1uL0ZaOoGaKpIahyGK8hDJSUq4vGHcOcW4SyoxSsrRS0ox8vLRIhH1XcNEygcrRZ2c6NLnw8hIRySHEIEgWnomMhBW/mHpVf7S7FyShw8nVF+PyM1VOcouPzKSgZGTj1ZciCgvRK8owizMUznChlv5UZMj+MoqCNQNwyyvQBSWIAtLkNlZCL+J5nGTOnEss597lkjLSGWO2w03dIkMBjGKSvA3NBEa0YKnrAwZSbHohX2IcCqu8nKCDfV4q6tUvrTmQ7qSEWYAPS2LQFUN7ppqRFkpoqgQkZmNCEbRUnPw5JVg5hYik1Mx0nNw5RWhZxUggukIGUToAbRwOoGqWqKNzbhKSpDhkIoN6E4+duWKMeyiHlcQb3oenoISzNJytNJyjNIKXHnFiEAU4Q9jFBRhFJeoFMSkKFpWEVpBJTItR6VTul2JTJk2j4rUVZDZbaJnpuEbVke4pQV/3TBEVq5yw+kehD8ZV14R4bp6kmuGoWfkIswAwkhCyABCT8KdU0iodhiu8nJkcTEyrxCRpvLezYIiXPlFiFA6IjkNLb8QmV+ACKao7wsf0peMp7ScSHMz/upaZHo2IhBGhFMRuXmY1VX4G+rxVFepOgPNRBgepGaoPRDwEirKx5uZqiiVNaHopgMBAoXFyOIKRHE1srwGWVSCjESRprJahKajBUP4K6tIbm7CXVOKzEqxXHx+REomrvIakhpG4KttQi8qR0TTEKnpaPkFiKxsREYmIlv9lRkZyLx89Xo4gszNJ6mmhqSG4bgrK5DRNFUfYDeLkTqaL4lIewdLb79G6bYBXAVpCK8kb2I34184xqjdWxH5ObHiQd2uGtZ1hNtNIDubQEEBenLYKpTS/wnsv+7xE8Bul8EnVEJaVW1O1kdnKbZdqemyquGE3ZnI0hqlDdrWZ63fe0AIhiTq0pV5aZNeOTgzHnwGDWF6LPB2Fj45r2vxrOjxasN4paz1/C6B7naR0zWa6hnT8aakWJwg0nEtmVCsI4RQPlhplX5LI16iL4R1Ly50h1YYn3MtVhDlLBuXCQVc9vNb1s0D5fHxOUzk6IkX2agD1P4Nu8rQiF9TmqoUXbPTJB1VvjKA0KxCIJcZr8J9gPJBxAHCsK+jxZ/NrjaNcZTYvDdWNaowVYByMCthbO0dr8e4cuy1MBOfRYtX7Qqhq981PYpyQI/TJ6iqT3UY6naw1F7rQRw38aEpWTfUQSpkvGI1QZ51gTCtYVckOyt4Y4BqxtdQs9972F613osxjFrNYeyKbam6gOnRVEau7qdswXQ8WRGEVyO3vZlh/fPJ6mpVhVG6VT1u7wFn4xlh36vNuSMTXC1/KbA7abJ/BYD4f8t4xJtDkSzFqGodGtpgpr0EAiUH4A9i8ntYcCVBCJxVnprjtSGIwR44EAYL0KOumcA58xCOE9NQgWRde/D6P0VGJRzvP4wXZsiDTFiuE0UINfQ8yaGvYw1d2GRSg4jZhCDxcLS5SOwDzmYu1GNgqA4YFzEyMMc82fdpOAJq8fWVMe011jAkBhZOEBlEPSFE/LUY382DTIZx+lzndWR8fpyvD/4Ni9tHanE+o4SDabCMOdfZJnUzdZWBZFtx2iDZtkHd/ryTP8hxWNjEew/bI0MO54FjOOXHVqDsdXSpQ8xlVcYamspo8hnqr2k4QNyxb+1rxJhME3ljfsrH/nM09oeBe2JvhH+C/y8Yj3jzIUx6DxMwJ5fGA5vD+q5dyGIDjP1//WGLn3CoDLovB4A6tcShAP2B35GO68WewQkUQwjQELSsf01g6Od+VxMCtxB4HPfvnN9HXT/OUR9//lhxlRDYHDKGUBz2cbpjB+e7gwhLcaTYh4AWWw/pOEDsfHlba41zqyg3UCIFwc+YA4fcOcmxzCGe6+euhXPunfPksubaNUhG7d+MHYxOMB1KgxcP7o/Beyjh/3LoZ/s5I+GehlSsFFDbrI8xK0fKOG9SrMXjET70GQAAIABJREFUUMBpX0MjHqdJdMEMnte/JCvmn8D+f3T8jA8NBteHaatDClbi/23htQVRyjh/+wNMh4M126Esg0HgnvCeQ9gGHyiDn1GzSJ0MYWIIE91inZS2m2IIjfwBoX2EpfDTJuqjBVYXDwLNA4fhQ6wY55zbw/mZRNCyN3ciuVd8PSRxIqq4Oy6xI5TNPmizbCq6Y90CFmdjiFiJvvgJEJAPPlPCWj7gGvn5w7Y0XCIO6LpwHhjygXkcPN/a4NfFEMBmvW6KBw+OxGE1kRli6LGhDkpTaFb5v8NycdJHO9ZQF/E+CYMtqkTmSqtPgHPth2LA/Itz2If+3j8SaP8D3OvP+NBPuRkGb5bB7eEGbQCn1ixlfFMNCexOIYgVisihf8MmnXKrqj/VcFrENu9gS0IIYTHq2T5JlZWjwF01AJG2/1pqiayQmnIvxP3VDxEA8XBglwla1ODmFA43giPoaQ+bGvmRvsuENXLGSB5cD9v/LgeDuj10q9LWZcSKl2LskYMpiIWBctV4kLEmKqbKlIkdlFYMQbOuZQ/dsP7tsoqBtPj9O54nTgtt+5dl/DMPUzAGA5LjPZuK13C4GOJzEs8mGsoycFqeQ62H0zLRRLzDlzFoxCwaoaxHJ/e+zcGuWZztTs51Vf6v3pO2rCbQ7saf0S3iwC0TNPp4NzTbCnhwLzrn0Y5NWcMZZ3uo1h+3HpS1oMUZUGPX1xI/E2M7tV2CjtiWJhPm2DnPv9yKfvRBNfiamnTSgDufzVndbcUj7N7NUsaupQmhmvU4fv8vtfz/cmAfvMg/5zMP+dxQ5rdTE0p8OHuRBULTkUlJJDcOx6wqQwa9CEOz2BatgKrHqzIFmpswejoRTcMQ6aqyNdHUVdq5MNyItBQ8zQ24htUj03MQpteRnaM42E2LSlbLzCZl+HCMjDSESzWjNoWGR+i4rAYcLsdzGJrAkImataZJDN2mNVbkXKZw4RJuDKkOkljzBKmhG4oUTbfyil3SxCUMq8mDhiE1TKljSA1jsBkrhOKN13UryGkxJtr0uQkWlJV/HmvcIBItIp+PUG01rspyZDiqrqPrCdZLXNt3oRlJSBlACg+aBeyaTUQmrOCwy1Qsl+Gw+usPKBbOlDREerZib9TNITacWhtdGhi6RfVgutCkCkLrUrUH1HUZ85vLBBdTnLHRqbU7fdZxoLADylripnR8zr4v0w6YSusg1iW6kcitHrcGZEw79giJV0hc9lpIEeuCZWv1sfoARyDdWSBkc7pLacQ6fulSx9BUDwH73m3QdmsCzRBWRptPBZHteRV2r+IH97PtslSgbjFout3xwHjsEHJYuQmAb8VJImE8dVW4G2tVNbDL4qPXrIC5fWiYJq70DIKV1fgKilV6tK7HYwRaHENsF9aj3LpDuXo0TcfQTQzdVPTYjr1qt8p8FGaJWBKC25J1S4GRboTpVxl0bpe6X4tZ1ZQKG4bCx789sP8fGA8ztwdrtEpgdXTNhW54EIaJmZdP+55d5C6ej5meooRBt4I6bh/eyhpKNmxg1PlzjLjwKu3PHSfS24EWDiZs3tj1vT4Co1uZcPpZRh87QVJDM8LjU4tp90DVdDTNhTTdBFvbmXzwKVLb29BCQYRUXW1MYVoaVPwkF9a/Nas7jR3Mk1JaPVqldZp70TQ/mhFE07wWv7weCzRK3Sahkiq/OEYla7Uz04w4Fa+tGQgR04KkFAjTTUrVcLK6JyByC4nxwuvxAy8ROAYDu0REo7Ru3EB5/zJ8peUKCGK9XhX4KW1RdVmSmhch/QjhRVqgngDsho63uJBhjy2k9vH1JE8Yj6itIXX8eOq3bKP28a1kjJ+ECIQSwd3iWBe6C6m50TQXQljc/MJ6Zs060GLAolkHpit+cCY0kxhaOZFCqLUz3Oo37V6/moY0JNJqmmHPuX0ISGEgNR1pWp8TcavUFAK3YaJL7QEXiCYlUteQhqYODUNH0y0yNZsCQveqbJ4YF73FXeOyKICtrBVpuJGGW9US2E1ThEAz1Jrr1jyJ5DDRljYyuyzCOKGpw8Ge8wdA3TpYDRfuzFwyOzrRyssQoWAsvz12b7F4lAJ0JcsK2DObGuncv5uRxw8R7utVrJK6oeRG9yI0t0W9rJPR3ETTwGpKp89SaaC2q8lOO5XxGMUDmVh2sN5QQxp6bB1j7TeljHHNS7srnKOXckx5jGW1KVyQFo4o69ODkErWpeZC6l6k6cdVVEnFwoUYBblKkdGV/BhSKXiaYWWD2df5KcX51wrsDwP7wb5jBV4GmuZBc/sRycno9cMp3r6d8NzZ6FnpioHQNBRvS14+0aVLGXX7LUpuXKTwhWOUH9yFv30kMjkwxOaVSI8H7/Aaul8+zaR77xGZOQdROwxRXKI4yZOTLLeDBxmO4hkzlpqdOwi0j0ZGIghdAZU0PKqCNicXUVqCKCxE5BUh8koQKRlKy/AHlDVRXoYoK0Hk5yp+bU8A4UpSOdj5Req9vGzFwR2wvpeSisjKUtpsMIRIz1TXikYRycmKfyQrW/H0VJQh8vMQGelxPvzUfIoXr6Hx6PO4p85G5BUjcgoVaBo2uMf9uvGUO6kKVjweREEBxevWkrF4Ea7ScnXfuksJpeFGhNMRxRWIilr13MnpCDMJIT1IaQO7y/qrIQwDV1kJow8fYOanH1J1/hXcjy0kZeUK2q+/Rt/tO2SsWKVyzYMRRFoqorQQUVaIyEpHJCWrjlHJKWqtcjMRJXmIyiJlpQW88aYgviRERgGitAZRVKbYFwNBJTeDUhNtTTzuX9YQSX5EdoZau6IiRGYGIpKkmrEHA4jMTDX3aVmI7CJEYSUiLUdxtehx8jh7uHQDXdo0yoqrXuTkKBqH0lK11slhlS7s0tSz5OYjSqsQucUK3ILJSubSspU8JEeUnGRmIdIz1P+Tw4iMDCVrhTmIqhI1R8l+BYpuN7KyluItO6k9cgLRPQaRX4hIz1J9ErS4UpEYR5LoXi/pjSOYcvwYbYcOEJ0xFb2sVK2L22tlj8mEDB1puyOkJLmkhNaD+2l//Tppj69H1NWo+c3MQURSlWy5PIikIEmjR5G3Yjmpk6cqgjU7Jdg0VIpmQR6itBhRVKzuPydX1SL4fQifF5GRhqgpR1SVIXJzlEXoC6ieAhFr35aVqzUMJatDPOBHZKYistNVL4LkZHWdnExEKMmqP0hV1yvMV98vKFF1ES61p7VoJpHpc5h4623cM6cgyksR2VmIpGSk6UUzPEiX6gcgwmG1z2yCwb8e4H89wO709dqcI0K60XxJhIbXUb9lE5WnniG8agC9KB/hdyNMHXd6GpnTp9N45RKdP3xPxluXyHvlJNHV/ehFBapIZ9BESSkRbjdaSjK5Wzcx5vMvKHruNMVPHaF2zz4KljyGd3gdwufHDCST1dlLzZ7dlB05hG/yZGRmliqA0t24MnJIG9dH5eObqD64n5Ldu8l7Yg+F2/bgHd2NKCgm3NZOyZo11BzYR83+PZRt2kDKpAmq7Dwrn6wJU6h8/HFq9u6kdMMAkfHdiKJ83EVFlMydR9369Rh1tXibW6juX0HlwACh9tGYdXWkz5hJ5eObKNi6jfKnnqJy5w4ik6eiRzIRvjQiPTMY/fLrTPzst1S9epnSrbupWr4Of1kN0uNGaHG3gGZrO1Y8Q3rcuPPyqe9fTu3hQ6SuHsCsqlGgpbnQ3D4CBcXkz55P5d4DFB88ROXOPWROmo47Pdcq8jEt37ByyZhCU771cDJ56waY/Ltvaf/xB1JOHsPdv4zSZ0/Rff8entmzEb5kzOp6Ch9bRPW+7dQc3EHu8kX4mpsQeUX4W0dTsWEtJVvXUbZvC5VP7SRv6Tw8tRWIpAAyNY3g6G4K1myi+OBRcnfvJjJnNrKiHBEJx5piPBBct324bhN/yzCK1yyj5uBeqnfvImvxIszhdYiUCJ6aamqWr6DsiSdI7V9J8eZdNOx7mpJ5/QTyyxGaW7lFEpQWiSZdCM2LlppF2pixVGzZTNWhJ6nat5ey1WsJdXQr12JalIwx3dRs2kz9gUNUPr6VlL5JiPJKPMMbqVyxitL+FegVlST19FK5aoDipcsINjTirasjd8liqndspWjH45Qf20/hro2YPaNUs5OsLFIXLmX0zXfp+fRrip8/Q8WOXZQvWoLIyFbg6oznxGJZGrrbS7i8ipFbtjDp0gVGXjxPye6dBPomIAsKlfvBdGjttvVnN6fx+shd1k/9m29SceUyBU8epOrJA5SsXI67uUl1fXJ5SB/ZQu36tdQc2EfKvHlKgbE6icnkIKk9nVQ/sZWqA/sp3rOPwu27KFy/kZQJ4xF5ObgbhlG6ZgUVh/ZS+dReKrdsJmXadIySErSCfMJjxlC54XHqnzpMzfadpEyYiJaahigpJn/RXErXLCfU0YZ32DByF8yjcuNawmN70DJzyJ89j5LNGyjatZXyp/ZRvmM7qZOnoeUUIZJS8bWMpvXMS8z6zz+Tf+5lyg7spWr1asL1zTEeIldSmKymEdTNnoWnuACp61bP5f/rgN0OSCrzWQgXuj+Z1NZWJjxzkmmffkrFmTO46yqVxq5JfNm5lCxfSffde3T9/rcU3LpB+aVXyFq6FCOaHtPKEkxsKRVbo99H2sBKJv/mNzR8+DH1l6/Sdf4i3a+8TOna1WiFRbhCqRTPWkDnufNM//BD0jduQi+uQHiS0MLpZI6fxKhTz9B+6SKt58/S/s5t+n7zO5rv3CU4Zx6ByVMY9tRBuq6cp/XcS/RcuciMt2/ScvwYWmUlydNn0XH6JTrPnmPUi2doP/8KDScPE545BW9zM40Hn2TpRx/imTWLQN9Uxj9zhlk33qRk1QDu7l6q9x1kwWdf0n7nXRovXabn1m1GPvs8wap6REo+mXNWMOatD5n22z/RcPs96l+5QPu+wyQNa0Z63Qhd+XUfSOXTFLB7yyrpe/IwM2/dovnMGUJt7apLka7jiqZQMHUKU964Qcf7d6l78w26379P9Z79+MurEC4PUjesg9rAEAZuoSOkC6G7CMyYScvduzT/4ffkvn0T387tpOzZyfCbNxBjetGy8qlYv5nes2fpOPcS7VfPM/rKOYq3bsHV2U3KvHlMvHeHaV99TMP1C4y4dp7e16+Q9tg8RGkhod5eKk+covnWu9TdfpfKd+5Qd+tNQssWoVWXIUI+dYDJeEaIYc2BNHV8VSUMP7id1ssv0XbpLN3XrzHq3DmyVq1CVFcRaG2j+9Qppn/9BW0fvE/X7btMvHqTth0HSa8bEQN2TcR7nKqqThMRDJPeN5ERJ47Tde0yLefP0nX1KnNu36Fy81ZkKEx44kQ6nnuOsRcu03X2El0XrzH85HOE5i8iOHka3efOM/XWLdwdnUTnL6DvwiXGX71Gzpw5BHp6aHrheRZ/8xWjb71B09WzjLr3BrlH9+GqqUSUlpG7YQtjP/ycCb/5geE3b9Fy9iIjt+9G5uQp14pjb8ZTNC3XgzcZmV9Mzow5ND7zPE1vvEnFubNkr19HoHkEIpxitcy0gobSAnZNIlxuMhYuZOS9u4z+6kvqXrtO65VLjLl+mbo9OzAKChG+IHkTJzPmxElm3rpF3YEDiNIy5Ybz+fC3j6DthRN0XblMy/mLjLz9LmO//ob2mzfJWtmPu6OVol3b6H3jCs1nTzPq0lnmffA+DSdOEOjtIdw3gfrDhxlz+SpdFy7TcekK7S+fJdQ3EW1kC41PH2bSW29QsmoV/s4ehu/bz7Q7b1O+dw96aSV1Bw4x+fNPaP3gLiPeuE7Pm2/QcOoZQmPGI9KzSRrXR9/Nm0z7rz9T9u7bNF28QMfho2S2d6uuX0LDl5rCsJnTmXvkAIERdZarSMQPwyGTAP5Bgd1mH5R2FaTpQ8vMItTbw6i3b1J9+SLe+mpFS6ubSF8IT1MrRYePMere+8jVqxHj+zAq65HukOX3SwR2XahIuwwESF+2lKnffUvJSy/hnjET/8RJNB17ms5LF0iaPBXhDSOLKvHOmsuU+x+S/sRutIrhiGAq/tpGmvYeYPz16yT3L0Xv7SRnz06m//mPpD1/Cn38WMp3baft2nkK9mxCjm0nPHMabYcP03LsONqoVhpfeZW2K9eILl6OaO8hc+0aRl+7SMMzxxAjR+Jb/BiLvvsOz/KViNomcpevZ+yVN6jcvB0xcjSFj29l9pffUvLs88gJfaTvP8Cc9z4gfcJUREouWn0rlYdOMerNO3g2b0Xrm4x/xGjVRs1tIIxBPkrpCAzqOiKUQri5ldbnTtN16QrpY8cpF4TLwJWVSvHyhUz75mNy3rqG78yzFL3+Gqmbt2KWlilz39Bja2oKHY/QEcKDMAKkzVpAw9XXyblyjaxbb5P71htkn3uF2jdeQ4wbi9HZw+K7H9Bw+Ci+iRNxT5tC7YljtFy+SPrqAfyT+hh+8wYTvvgMbeFCxNy5jL3zNtkH9yDGdVG5bxe933xF4b27uM++QuDGa7T9+Acqr5/HPbYdkRJU2VNaPEPLtABM87gpX/kYU995newdj6NPGk/y/Pk0nT5Dw/kLGFOmohUWEVq4gL4fvqP9608o2r2T6JRppI/uJphTaGVb2Rk19vNbNQCFBYw4uJ+2sy+TunoVoqeb6Ly59D77HFWPb0LmFzLihRfpfu0mGf2r0TrGkrp8LQ3nr1HzwssYU6aReeAAkz//FPeYMYjGZqqfOsLoG6+Ts3QJoqWF4oNPMu+LL8nZvQc5tpfMF07Seud1QmO6ETm5uMaOp/bMy4y48Sbm8gHM8ZPwNbYol4ShOQLjzqwnTbn4ND9CuBG+VETnBHKePUPP99/T+8nH5G3YhCgoszjtNeyMIimF1SrRR9aSx2h7710aXruGe8F83FMmUXXiMEu/+pTgpEnIaDqysJyUaXPoeOU8jSefQVTVIlw+jIw0CvdvZcIHbxNesRxt7Hii+/bT+tXn1Fw8h5jSR3TpQnpu3aBo7xPIrtG4xo+h4+QJ6g7sJzhnFpX79tB75Sq5GzYhesbhm7eQSbffpebZ53CPGkV07Rp63nyDqs3bELUNpMyax6irV6g5fhxZWIp/+QATvvuOvJdexFwwn4Kduxh5/gJFa9ciMrMwy8rJ27qFib/7Fs8TmzD6JhBsbsGVma0KxaTETAqQ2VhL/YwJ6EXp8Uw+bYjxjwjsceGxO7LrVmqcqSrmfB603AxyXn2J/KsXcY8YjkiNqF6YZgCRX0rKxm00vn4T0dWttAV/BGEEiJWZW4EPTWiY0vKdJ0cILVtK20cfEurvRxSVIDKyyFm6lBEXL1E4sA7hDiG8SYiqGjpu3SFp135E3QhENJtoxxjaTj3P6BfOIIbVITJS0Sb00v7tJ/ie2IgY1ULLsaNUvvQs+sQuRGpQ+epGjERMmITo6qHvvfdJ27MXrWqYahXX3ETp00/SeekcomUU3u6xzPrmW9wrVyGKy9GmzaH6lQsUbHkC0dRC9ooBRt9+B/HYEmWqzlvI9Hsfkj5zvuqDmZFH2ZqNNL16ATl1pvL7J6ehJYVVowy39oAASTuDQDcQriDCFyZ/1z7qzl0gPHkKIjWK8HuQWSn4pk+g+MqrFN17i6z33qHi/ntEt27DKC1DeNxIXYsFrA2h4REGQngRRoDo9Hk0XX+DzH37CT11kNL7dxn5/Tc037mFmDgJY/FSVn7xLcmz5igq3Mx0wosXUHvxHBUH92FOGEPq2Zcou3QRmVeMKK2k5fw50o4eRMydzvDTzzDh3/9IwdefkvLpB6R+8iF1//I9w965iae7VfHJOwrVNKECi0KXGKEAY48cpO3KOYK9HYjsTERhMfkbNjP82uskLVuBSEnDbB/NyK8/xXXsKURdlXLx+JOUq05aGRyW3BlCw2X7rOtqGP38s1QdPoQYNUrxuOcVINo6EKM7EfVNTLrzPtlHn0FvGKniFg2jyDt0gqYrbyAmTse9fICxX3yGa/JERHExqZu2UHPtGpnLliKGDyNv2xP0vv4Won0MIiUdsXEtI+68QahvnKLgraqiav8BRr78KqK1XfVTjaZbPl8t5jpJTHiQak8ZPrRghEBNI+Elq6g9d5nO9+/T+MorpMycjUjPUZw1jv0tpFSxA7+f7OX9DLv5Jrl79yrfeF4e3lnTWPDd16T0L0fLzEN4QojqeiqfPkntqecQw+oRoTDusmLqzz3L8NcvqD4K2fmIOfMoeeN1ik6dQPR2kbZxDb1vv6aoxCPJyk/ePALR2YmYNZO606dpef40olm19zQq6ig+8SwT7twl2DISOW0GI85dpHzLdkRpJd7OLvJfeZHS555R8bBps2j54CNCqwYQpeWEZsyi+syLik47OwsRjeKdMpmp33yGZ3ofIitF9TcOWE3DTQPhcVuxGhcioDnoJv4qUP91AHsiyMfT0uzcbs3nwVVRiH9sGwU3r1H03h2CSxZgNjagpeciw7mYI3vIPHKCpvv3ca9ajrttJEZhCdLKqogRiwkNTZqYmg/hCiDz8sjYvYvW774j5chRXH2TcXf2Urn3IG2XXyNt0TJkai6eYU14Zs5g9Kcfkfriy3hmzEMvr8XT0kHtvsN0XLyKe8FCzI5WPDu3MOHPfySwdyeiqZnGPfsYdfkiGRtW425twTOiBe+YCXimz0F0jaHt0iWqX3qJ8IyZeBobCS2aR92Fl2h94RlE9TA8bd1M++RTkrZvwzWul/C+3dS88zbZB/Yge7vJffxxOt67h2v1SkRuDsbyAWZ9+CVZi1ciswoR6dlUDayh89obhDZux93ShW/MRKKTp6Pl5irB0mV8xARKQ3r8uAor8bZ0UPjci5S/+RbRDRtxtbaiFRdi1FWTtGYl4acP49q4AWPfPuo/+oSeN94irb1LNefWHJlCQmIKAyG9CE8S6Y/103r7FrkH96AtnkvJS88z97/+G933P0CM7cOYOouVH31GxvbtuDvbcPeOpvDJ3TTduELBjm14p0+m+K3XqLpxHVlchWxspfO16+SdPoU+fTLV+/fQ8cVHRG9cwHj2CMapp3G/eJrAwf1ojY2IpJAjw8GSQ6seQvd5adqwjilvvUnmwCrcbe14Jk6j5tRLjLz6Fp7ZC9GKS0havIiO3/yG4DOn8E7uw1VbhRZNUemlsYbfGprQrVx567dKiug5eYrmV8/jW9KPe2Q77uY2vL19uCbPQgxrpu3cZRouXCW6aCnu9m7cS1ZQeO4KDS9eRIwci2dePxO/+orA2gFcEydQ/PyzNN19h6z1a9E62inYf4Det97BnDhTddvat5sRd94kefpkZEYqorKC6j17aL94Efe8ebhGjsQzdiyuri5kyKc0SN3OeXcMTccIh4lMm0LvK2eY+8F92s+dJbJosUo+CAQUaNkZNfb3dQOhGWip6eQ9vpmm+x9Q+spZ3H2TcXd0kbxtK3M+/xzPlJnIrAJcFXV4Zs2l4vwFqi9fxjN7Nq7qKoyqcoqO7Gf8R/cIL+nH1TMB9+4DVH/8OWXPvYDo6iJz5XKm3LuDd/kS3E2NuBua8PaMw903BW3yNIYfOUb7hat4FvbjHtFBYPo8Wq+9Sef5y/gra9AnTGH0+asMO3QU9+RJpG5ex7CP3qHs8lnE8OGY/asY/ckXRDdvR9Y1kDp/IY3nzlG5fy+isAAtOUx46mTmffsZoVULcY2uxdPXhmdcO3ppIcIXQAbCmHkF+Bpr0TLDCJd8oJr5l1bw/vqAPVY0E28aLHSdcEkR43dvYeCj2yz48XfM+88fmfvN57Q9/yzR9h7CLV2MfOoEj33/W/r/+38w6/svmXv/DnVrVuFOT7cKKOyceKsqUroQvjDm6NHMe+cd+v/X/2LKv/4bve/dZ/Z7H/LYB58y4sARRHU94fpRLHr1PI999TkD/+u/s/jHH5nz2RdU7NiNa0Qr2dPn0nfjJrO//IrR9+8y5ndfM+W//4nA1s2IkjKCXWPoPv0iiz/5iFnv3GHB7XdY+/7HLLhwFb2ugcC8+cx56yb9H95n/r3bLP3iAybevExkxhSEP4SnrIbJN15n/tdf0vfxfeb+8FsW//sfqbt2ieT9exj92jU2//lHei+dRRvZTMOzpzn43/4n406+QPKwRkQkSt6kiUy+dIUFH3/FpJt3GXj/Y1Zcuoq/ukZlZWi6o9jE5lAx8ERSGb9lByvffof+H/7Aiv/xXzz2m+8Ze+E8ObNnEe4YTdfpF1j1x3+l+8OPqH37FrO//y1dp18kOrwRYbpiucBxrVhXOdCFJXQfOcLa3/+GKZ++T+aGVYQXz6XrxjXmvH8f0dqJll3AiO27WfHhfaa/+xaT33ub2Z+9T/3JpxHTppK5dROL//hbFv32G/SZ8wnNX8LyTz9h0Sf3yX9sMcnTp9H46hnGfPsRtR/coububSZ99RXd5y7grx2G8ARVep998MeCfFbKW2ER006/yNL7HzLznXvMvf8Jc+5+TN3W/ej1o8hZ0s/K+/dZ9V//k/l/+CMrPv2EsU8eIK1umJWWaPGrCB0pTAyhxSs/k5IomT2HaVeuseDjz5j6zj3m3n6Xle+8x7injqGlZCInTGHKa2+w6L37zHr3HnM+/Ywxb98mfckAIq0Yb89k5ty/z8SP32fSZx+w7E8/sPo/fmT4i8+T+sRWJr9zh61//DdaDp9A7+ih67VrrP7he6r37sBdXoLIzqJq+XLm3XqLyffuMPbtN1n20X3GH38aT2aactUN5kaSAtPvo6irg023XmfxG1fIXLkUo7baakJiFZo597WzSEzq5HZ2M+PqNdb+53+y5Mc/MfOTT5n+3j2WfPk5HWfO4Movxj2yg95jJ1n6/gcM/PGPrPrzv7Pki8+Z8MwpRGMDRncnM+6+y6yvv6Xrs6/o+OFf6f63P1Fy7Biitpqk5gY6XniGDd98wfQ3rjP75usMvH+faS+fJXvyNHJnzqHvlXMs/PATpt59n+n37tP/yecEZ89DRtIQtfWMefbbbrpYAAAgAElEQVQFFr7/HpPfu8O8f/maVf/73+n7/H2MgRW0nTvPqn/9kZZLVwnOnU/LwYOs++oLJl29iDG6FeF2462rYen928z46C3GvX2OpR+/yaxXn6FwXDfC5yUpI5OO/hVsvX6JtO5WpGnElQs52JvxDw7sdn6oDez+1FSqujoZuWwxVetWUrxuBdUbBsibPQNvWSlmUTEp48dTsqKf4rUrKVm3nKo1ywiOakYL+h1VX3Z1mIEQLoThR8sroGL+AvJXriB37Rrqdm6ncds28mbMwlVcgfBH8OaWUDdjNpWrVlC8fjVF61ZTNrCSlN5e9Owc9NQ0fK1tJG3aiO/ofnzPH2Xsb78ksHUTIjcf6U8mqb6Riv6ljN69g/Zd26kfWEVyaxsimoIMJpHc0kzzulV07X+C0oFFeEYNQ4uqNmQymIy/o4P6TY/T8MQ2ytauoWT1aiKzZ6H3dBOdOpXqlSvInTkNWZhH6sQJNK5aQeaYHszcLITfg56dTsaEcYzYto1Ru3ZRvXwF0fZOtEgawvQhpKkaXku7QErl+xoBP4XdXTSvWk7JQD8l6weoXr+WvLlz8FbXoGVnE2zvoHTFSpr37KVh9y6K+/tJbmlFT46oPGFbIGNBIMvFk5JCdncnw5cvoaJ/EaGWerSiHEIdreRMmYzIzUN4AriycsmdPoWWXVtp3rON7AWzMWuqEFnZ+EeNomLNSsoH+pG1w3EPb6Rs3jxK588hWFmFlhzBP6yO7P7F1Ozayoj9+6hbv55wexd6eo6ilZYm8WpH6x41XWWFGCbewlIaFy2hc+dOGrZsJnPKdMyCCmRyBoGGFmqXLKNw7RpK1q9j+MpVlIydgD8r12IM1WJaquo6pMcDkbqBEQqR2d5G/frVdO7fRefendQuW4K3ukalq4YjBEeMoHFgJT17dlK1ZiWBjjb09AyELxktnEpK3ziadmym9okN5A0sIbd/IaEJPXjaR5EzdybV/UtJGzsGmZ9H3vxZlPUvItg5Gi0tFeEP4CkupmD6VFp2baFx92bKVi7G01iHdFusl44KT3t+NNMklJ1NdW8XgZIC9OSkGEV0Asup40CIgZJhoKenkTdxHOUDyyhYtYTqTatp2bGJ0oVzcFeWIT0etPwCyqZOpaG/n2EDq6hdvZra/hUU9k1BZBcgklPxtnWRtHUr3qcP4T33MpUf3qP40F5EYTaa302gNJ+apfNo27eZnkM7qV2xmHBLI3o0gh4KkVw/jPLlj9G6fwc1j6/BP6YTmRxSyk4oRLBxODX9i2nZup6K1UvJWzaPnIWz0EbUkzltEtUrl5E9azruYdWkdbZStWguudP6kMX5Kigf9OJvb6Zl8wCduzYybOVCUjqbMTIjqiduSojsthF0rlyMp6JApYSa8TkfXFH7C/D0VwDoQ57s1umuaWimC08ggD8SxhON4IpG8KREMcMhNJ8H6feih0O4ohFcKRFc6RE8KRE0v2+QtmEDu0V3K02E6cKdHMGMRDBTonjz8/BlZ2MmJVs+Uheay4cnlIzbvn5KFHc0ghEMIN0mIuDDqK4ksGQhyQd2UH75FaZ//gHBmdOUz1KaaL4A7rRUArlZBHIy8KalIP1+K5faQPN68aVGCWam40oLI5LcKofZpWhjpc+HNy0NX3o67mgUVzSKHkpGBALoSUm4IxHMUBLC7cJICuKNRDCSAkifWzH3uQ2MpAC+jDT8WRm4U6NogUCcj16aViGREac40DSkYeAKBPBFI7ii4fjcJ4eR/gDC60cGgrgiEfwZmfgyM3BFImjegJUHLR4EdrvoyTAwA348kTDuSBg94EN4TDS/FyMpyZobRS1ghJLwZ2fgy83ESI2oHGSXF82fhNtaD+HxIr1eXMkhXMkhNI9PZVB4fJjRKN7MdPyZmXhT0tB8IXWgaW7itMfOMnYdzbAalBhuvMlRgpkZeLPSMSIRhDugfMzeAJ5wBDMaxZUSxRuJ4g4mq9qLGC2CES8KsylxbQtBkxgBH970KMHsdAJZ6XhSIohgEOm2inY8HnwpUYIZ6XhSo8gkv3JzuL0Iw40WCOBLT8WTkYKRFsaIJqMlB5EhP2Y4hDsSxkgKIgJezHAIVzgZLWDJnsuN9PowwyH8WWn4stJwpYQtN4okTifsPJjV+ummidvvV5kcjhjWUKX5CeAkJcLQMYMBXJEwZjSMJy2KPysVVzikZN7yxbtDIbyRCJ5IBE80iieSgispRdV+mEFEeS3m4oV49+6g6PpFRrx7k4KNKxHpIZUU4DFwR0IE8tMIFqbjSQuj+TzWYauhed24U8P4c9PxZKaomJNNwW3qSL8HT2oYf3oq7mgYIxzCTA4h/F6MUBB3JIwZSkL6PRhBH+7kEGYoqNybbiPWUtOfHiWYmYo3GkYPeBXliVdDBlyYyX4CKWGk10Wsv4P8izX1XzGwJ5h9g4TLfk0IDI8Hze2xOEZsHgmrXD5GPxrX/mUCsDt50i2+eM1l5aarxh+adFn8G/ZGHCSsVvWeHkoiq2s0Yw8dZOK5l+m7dI6yxzfgKi5RQdcYT7hdJm3xrZiuOAeG8/l0DekykC4zXqodAxzNoRE550bGnzdhPuwq18EbU8S/5+DbdvKTxMq/Y/eoNq40TFWhZ7tv7M1su3Jih+gj1jnhNWkdIibSUBtOmi50lwe7qlVoNkDanCFWUD32mlW0YscJpEBqhmqILpzyY5d/Wz11hcv6t13FGXfZSc1Eag7QtysYrWpnKU006/CKFc3Y/Oc2543uvGcHVXHM9WNXm+pxJURKpd1bPQSkVWUcK4fXNJyVsEJYv2vLvr32CXtGQ3e5HXNgy5JNxeu0VuL7x+allwlyL9HtaltdUSdoTt6Wh7AxPtJHnCCT1h61eN/jlMG2VelBSDfSk0S0eSTtT+6n5+yLdJ0/S9mWLfga61UqtBNLTIFwiXgevSX7MrZujmIqx9okEqnZ+01LuHeZ8F2LpsA00G2LJ3YdEd+Pdp8Lw9LQHXPwSFD/+UHUXwGgDwXsgwAoLigaMapZw4VumGiajqbp6JriyYiVCjuIjTQhEwEr5ms3EdJlCYwairDKxJAmpmb7X+MCazcY0Cxg13wukorzKR03hoqpUygaMwZ3cTHSF0DoHnVoCMPi8Yib5bFO7xY4SysbyJAGumagWVqFkzzIngNp8ZGocmiLm0SqsnpNMyyqAZ0ECmK7+s+50WxhSzhU1eaKcY5oBoZmUxlIdE1XJdhC/badzaRpVrn9T21iC1y02AaxqBt0tZZSakjdhWa44+tlc4rbZFjSpUDXnjvp2Ig2f4hVJh7n/lHUCVoMzC1wlzawPwjucW5yEbu+LQO6kBhSi20+3TDQ7ENPdygYTv73BKI3pXToUkPXtPh1LTC12Ro1oXhf4qyOmkUVoLiEDN1Es7hh1IivvXOoNYzHr+xr2/tEl1rs+9KSpaEaVktp86goUJNaHMAV94oWG06AdxJnOeXDll3dqnTVhIGuuRS9ht0TwKZKsPeQZUn5M7MoGjeGkqmTyesdS6CsSlVUWxQTsfVxgG+cvE+zCNR0K/ahxebH1EyLe8ipoEjrsNPQpWbVJEj02B6wyb0kuqah6yoor0lH8HgwhYW1/wYDufPffyF/zK8A0H8S2G2BcgC8iG8ue5F0aZfExzV0+3O2kIoHhhMwrE1kD2sB4wIYL6CyQT0WwTZ1hN+rsgHsVCa7cYHj96R0asUOzcnKmjCEgWkV8mj2ITVosZ0jVtEohSXEVlqdNNQBIfQYQCjA1OMgL2W8mvABaymuKer2tWLXH1wp/CAt8E+bj6pLUQzgHNph4ro4TXsZuy/NAh9bbjRHByTnwWUXBsWBXaLFaIedw/69weCb6FoYHMxyPquua+o+dMtySKDOlXELyXFNmzTMBj1F/qUnyK8NRIaQVlaNzWuioZsGum7EUintAqihKH+dvQbie8NeUwvopI4RUwgeko0hB/11jKH40xP37aC9Lh4C7NKmzB68LoPmUEpFHRDwIzw+FZS3rDTNAewJ62TNoQ3mzmFjiUszrL1vW/rxocUOA91i5oyTuz1qPzxsLzxMnpzA/hcA/K8A0Acv9k9UXCWy7z1IHiaEIK6p2qbdYDBPNIfjk+yggrXNtIQFsDQeq+tOQt53zIS1WAVdmqOjTXwjx4Ampm1qloYVp2LVpR7TypwMc3GtQIF54rCZBO0NGudB12OMe3GTUCZweQye5/i82Zq7dARChwL3obSNRwF74hoMdeg+CITOddJsi0XX0ExdgelDNk6i/Ghxt12CS2uo37cVhQc32QObzhlDeIBWejC4O+7H0nqH/Kw1nOCu2zJrSKu4Kv5+Ys9gx/cHHSpxDvz4v22AtxWEvwRQHgXqD9/rg9ff4Sp1dvJK2LcOC9ayFO3+rrbryCmriaDr1NbjHPcxi3TQa4MVMWdDHnWtOB2FE+C1QffwU8A+OFA6lCL3j5sV8zOAPbaoQ4745McFWBtyDBaSxMmzfKqmxSCn2cKnWCc1qcXMO5tNUIuBpkDqAs0QSLsVmmaDurOjkS0U0mESJg5liTzYW1JRu1qAniCwdvMF3TGUBSDtHpiGbgVmtbibwDEXg4Fd2AyBDrN8KIAfbD7+ImB/CKg/THOJ/aaU6IYR15Kl4MG2hz9Hzh52uDwI7D8pq79Ajn/u95yyE6N9cLbCc87Pz7iHoV0i1u9oiVbqL93HP7vT0eC5jw0nsA8GeNtt+SDgDSV3Q8vNg+DttGY08SCwD5ZVG9xtYB9qDNa8HzlnDxnaoOv9AnD/5Qv3awD2nwKMofpiDnUS25t2cBchKTWVlpXkx5eTij8/08rRdSGtZhxKc1cgLnUdV1KAYHYqWtirUp10Gd98ugJ/XRMYUuJyjDgQG4MAWSfeecii5tUcwzLhlZ9P+UcNqWNKQw3LreMSJoZ0IQ0PWjAJb2423tJcREZEZUZYZq/NU64EZ7CbyhqWjzEWfBIP32QJFpEcdGg4N/EDQxviuvHnVc/sPMwM5W83TPRQEF9eOmZWBOl3JaTq/byDZtB4GLXvo+T3/4TMD9r0Q2pttnXwsAPjEb/7qMPXyUn+t9nzg4BdPAzYHS5NkejXTpiPRzQDclomP+WySgR1bdDv/zxg/7lg/LC1GKxw/mNq7I4F+MtA3R5Dg/vgEzoWFHUshjKlLF+g20VSTQWNW9cy+qldiGE1ii7VCCCkVwmblYlgJieR3d1Kx9YBvC1Vih/FZVguG6ki3y5ddXdyWcPQrcwJD0KqbkOasIJGmjWklbmhKdIsYVrDcKTR2al0hpVpY7gtX6ObWHBQdyF8fvwV5VSuHWD4ob3ok8aq59E8SGEHR20hGhRg1tzqPnWPKryJpUnamRuDBdkCbc3qhmQ4AorOjBHDei7drTjeTbeVIujwr9tZMLrLolG2g8pWtoQw1P1FUgl2tNO4dxs5KxZglhZYWTraz9wUQ4C7M1vkF8jiL3ZjPEKjHvrQ/OvGo67zN2/7Joea+8HumERQHbLn6lBusMHzKxLB3QngcgjMeDSwx5uoPAzUf64cDGkNigeB/RfM699wAf+mY7A/8cEx1MQmLITLJLm+hp6XTjDwwzfIBXMU13UkTaUx6l6VHul2I1KTCfV1Mur4bkTHcIRbR7pc8eCpy6V4tYMeRNCNCLhVSlZSEsIbRmhBhPAhdJ8CN9POpnAhdL96z/AjvX6LWdHKw9fMeOaFx1R5uB63uif7cHCZCK+JCPlxN9VTeuo483/4HdFtW9BSMxSfhzRxBkbjqaFS3YM7iPAmK94cV5IaRsA6PPQEq0cV4Fjf1VyqCMjrU8/rdan864AqvhI+v5pDT5Li/XF740AuNAXc3iSEOxnhjSJCKQh/MH54mV7r8PAg/Mm4Z85mwgfv0HrjPJG2UcQbUvxyuXlkyubfcAx2R/3//nt/a2Afcu6dFuOjXWMPdY/9xHzalqAcAivimXSD5cH52aH94H9F7vmQ9/oXrvvfX3B/rUNqGjI9heiiWUz68kM8B/ch168nde163D1jVZMD04dIz8DVMYpI/3y8qxciWmpVpN60Gl14g3iHDydz8Xwy1q1AXzQLOXMynjkzEX0TSZ77GL6+WWhFNYhwBlplFf5J40nuG48oqUD4IojsUgpnLqRu3eOkz56DWV2LCCqyKX9lNXkzppM0fQpy9Eh8c2dTuGoV3lHtqilDWgq+1mZS+xcT2ryB4P69tH3xGdrmzapJg8uH0MyYeRtzo2gGmj+JUPMofB09GN3jkZ3j0HsnY3b1oVc1IIIp2BlFicCuI4JRgiM6SJu9iGDvWERGKjKSjLd3LLkLF+MfOwYtJweRV0yoazyFywfIW74SX1s7IhRBmB5kIJmcjjGkzX4Ms3cyonscaQsXkTlrDmZlDSKcilZUQnD6LAo3bcdct5H8axfJu/ASvp5u1RBEM//usvRXy6L4fwHYneMhrjHHYfvXzMej5vNh/vqfus4v+d7fYN3/3gv46xyaZqiWfOEoob4+pnz1Bb3ffUfDvXt0v/su465fI3vVKkRZGb6qSmo3rmPe268z4b3bBPqXID1ehPQg/BFyxvXRc+oEk2/doPPdN+j49D3Gf/clre/cJevZF+j88GMa37pF0uqNiPFTiGzYTNtbN+m5cQP3lBmYNfXUHzrO9JvvMO/2PRbduUfPC6fJmDwFUVxG9pSZTLt4jb77HzDqrbeZePcec9+5S92uvfhb28lZsJDOs68w/vbbtL59k85PP2LsH3+P3LoFkZGlOjwZFr2sVGl7ummge32ktoxk7tlXmfzaa/TevEnbG2/SfuMtei/doGbjdjxldUqjt5pJ2DEKIQxceSU0PLGPSXc/ovrMK4jp0zEnT6bwhTPM+/43VD7/DO6xPRRs3MSYC9eZevNdpt58h/HnL1PcvwKRmomWkknb408w7e4HdN7/kI67d5n03j0mXL1C2Zo1eHrHUPbUIfru3mP87bv0vP8hE//875S+cQNPd7eyCAzzL3Tp/XP8fcdQmvLf+57+Ycbf/QZ+hUOqQgjdgwinkTxxCtO+/paad+8RXb2G1CVLaD7zAvUvnSE6czp6cRGhkSOpeGIrYz/+EP+WLchgBKF5EYVltD35FO3nXiF3yzpSVi6m6Nxpen/8gcyz5/HOW8iwD++Tcfttkq9dJ3L5OsmXr1P67ns0Xb6Gq3ccWes30XP7LnlbdpA9cz55j2+j89p1yp88gBg5Cm99C6U79zHhh3+l+Ysvydqxi+wFiwj1TSJp5mwann2O5ldfJX3NGqL9/eS/8hLj/+0PyCe2qjZs/oDyXWtWmqZuVUN63LhLS8jbuJas3U+QfmA3KXt3k7pnD+nbdxOaMRc9u1C5RDQ95m9UwG6iBVMoXLGe5lvvUfjWHQIvvUz29dcIXbhIz48/Et71BL7NG2i4eo2qE8+RuWQ1mf3rqH3mDO3nLyA6u5D+MJH2Hppef5Puf/0jZdevkrFxA+nz5hGcNYvI+vW03rlDxtFjpM1dRNqWHXR8+xtKb97EO7ZX1RZYvOJ/f7n65/jn+JuNv/sN/AqHREpTdUxPTiU0fQaTvvyKwJ4DyKpaREERyf39NF+6QPHG9Va/y0xCk6cw8oP3MXZsR4Sjira1eQRjz5+j4fhRtNYRiMpiIquXMuqLj/Ed2IeoKCftpdMUfHSfoh9+T/Gf/4PCf/kDhfc/IevgEfwto2l+/kVarr6OOaoDkZGPGNbM8FMnqXzpBVwTxiPyC0le+BitX39D+PAhZF2t6tGZlUHeY4toefVlCrduQVRVI6pqCA4M0P0vv0Fu26R6Yvr8Fr2BBex2br7XQ7C+jvYTh2k8c4qaV56n6pUXqH35DE2nz1CyZh2e8korEKrFsg5iZfu6D293H6WvXmb4t7+l6He/o+I//hvpn31G9fffYcyYStGp49TceI3wkmWIoipE2XCyBjbQdfNNAksfU0UnGdkUvfgSBbdu4VuyFFFRhcgtwBwxity9+2h7623EmPGqr2lNM8WXrpN15Srucb2IJK8KWP8T2P85/t8af/cb+BUOS2PXPMj0bKLLljHzu+/IefoUensvomkkeZu20HHlKqXr1iMrazGGN5O6eBltH39E9JkTyOYm1US4pZnuF0/Tdvo0STNmIHu6SNvzBD1ffkzSjq2I9Ciux9fT8f03NPzp3yj6wx9o/o//ov7jL/EsXYW/opZRR08w8eYdAlNnIWsa8Y2ZwMgXT1P93EmMcb3otbWkb9jI6C8/J7B3F9roFkRFESISIHfaRNpffJ6K/XvQRrejj2onY8sTTPrDD4QO7kMrLFRpnIZhFXsINF2lakq3m2BtNWMO7mHE0wepPXGI6pNHGHbiKC1HD1O2ZAmuokKlERvOlECJKgN3I8prqTx6kr4f/0zdn36k4Iff0/I//wdF776L3tRE/o7tNF2/RtqmTYiWNlwjuyjftpNxb97AO2cGIimIXjeMYRcuUHDlKt4FixH1IxD5JZhVwyjctoOxt+/gm7MAUdGA2TWR2htvU3XrFkkzpyKiQStf/+8tU/8c/xx/0/F3v4Ff6ZAI3YW/rIL6J59kxe9/T+8796k6+gyVBw4x6dIVWo+dJDphMuHRvdRu3E7n6VeY8uUXdNy9zbAn95M2ZSJGVQU1qwcY+/+1955/UlxZnve5EZGustJVZmWZLJdZ3kF5ylCGogpTeO89COGEkxAIECAhgYSQMAIJJCGL1PKuWy1Na2a6p6e3Z2Zn99l9Zt/tH/N9XkREmqJKomfUXUhPvvh9ykRkxLk3Mn733HPv+Z1Xb9N1/RUqXrxCw+efMvfPfyTvsSOocAiZN5clX3xO+68+JHz1ZWZ89jUz334fGZiNIy9K+dKVrHzzPbpfvEbziZPMuHSJkVuvkNi1HUdXO8UrljH46iss+ePv6fzVe7RcPEds/QqcxRG8dVV0HjvM0O1XaHz2WZrOnmfm2x+w4d//F12338DX24fm95vCWzaxOzQMp4FmGOihIAXtrYS62vF1d5Db04mvu4tQZwfeqkqzGkx6kWK770QzFy2jhTTv28eSb76h4e57RK5eYcm//0/KnnsBvSxOzsAgXRcvMOPmDZqefpr2p59m+OYN+s6fRZrr0StKmLZ/H0u/+JI5X/2ajhs3qX70GKHhUbR4FdGFi5n9+mt03rhJ8+NnaH7uGmPf/4FF//h7qg7uxxEvTZa+m/rvVBZZ/M0w5QY8kFBKoRwGgepqeo4eZez6DXouXqb/2k1mvXiVkafOE5szhpRUUtg9i6EjJxl77gpDV68ydP0K8154jsTypbiKCvHVNTBt1z76r92i9e27TP/6a4b++AciR46gwmGkupauvQeo2LgN58gY8a27qNu2yyy/ZbgwokU0rlnP3OefZ/Tai8y5commndvw1dXiKi+lauVS5l44z6xrLzH48kvMf/ECjZtW4ymIIC4HBT1ddD56mOGrVxi8fpPBKzeZde01+p9+gVDfAJrPb8bILfkCTdcwDAOHpt2zF3fCrL5xiTLJzF7dQHxeSoZm0rJ/DwVrVpM7MkrPufNEFi1HC4SRQB7Fw8P0njjG3OuXmXP9BXqOH6FgZjfi82DUxBk5eoj5ly8zfOUqo9eu0vvkKYrnjCKhPFxFRcTXrGDkuYuM3bjN0Is36HvpOsMv36TmoYdw11SZ+QL/hZ0ef60dD1lk8VfElBvwQELTNHRDR3I8SEkJUpFAShPItHakaToSKzX3U7tykEA+UhxHyquReCWSSCDVVUg4z9yr7crBXdtEYMkKQvv2EX/pBYa++pzQpo2oYAjxB81tiaF8xJdn1pyMRM34suEwE3FyclHVVajWJqShCokEzf3pbhcSDiJlxUi8FKlJIIkSJBoy97Ubmln0u6gAaW5EWtuQ6gYk3oCU1yH+sLl3XDfM7Z1WQo4mglMUTplc/yJ9H29q77BCS0ou6IjLgQRyzRqpwRDiCyBFJYg/z1yDUNY5JYWo6bWo1lqkvMDUq3bqSK4bFStAKsqQigqkKoEkypBwyJR7MHTE60IqynB2dKGaW5CqGrOafazEFGVLFlpJPd/7JegsqWfxM8WUG/DgwhLLEl1H6QZKd6B0J8ou/ZWUDNBMAjZcZoFs3WnW0bS1R3xB4gsWMnjhPKNv32bs43fpf/Ei0lhn7ka5R5Y3pYSXkZiSriY5Pqsu/dhkKdWWZrnSzBR8pZwocaCSuvRaMjtUKVNJ0CG2mmUKKUmBcddXYsnkmmJmSQnlZNk9u99s1Uvrs5qYsgu2ZrYjrQ0ZbVMTtzF5XE9pphsT6NxbUJK+3/7eNqSnn2fJPIufKabcgAcXKuWVOkRwW3CIRQoZ2hTmgqEmpqKiUwSnWKTgzqGgo5PmrZuof3g7kWVjSG3czC617pUUB1OCMw0uZV7HIabgl00y93iRamLvcnx2XLoImWmjbgmE2aSrJ4k9pUJpKgiaxK5laN5naKlYxG6rVNpa3xMll4iMy9CbJGtwojb8JZiov9LTwCdNqx/3+Syy+Jlhyg14cGF7bsokAZusk6GHDF0KjVRlnvGFfBVK19GdLnSX26wl6XYlj2vKViq0oAm6rtA1haFSes8OSXma42U+J5LQ/aH/2387kmJIpgdvapPbKpXKmrGYP20d63uJPSUKZpO4lqYIORmxZ/TRZGJW/wXcT1bgZANfZj9nk2Oy+Nlhyg14cJGURlWWF6tlKsklwwLKKjHmNMWobHEsOwyQFDlK05VOL6CRFuJQytSWTlaFUrZwmS3tm9Lkziw0YhdiMAsGJKu7pB2zZYJ1JRiaSVopAnOgxIU5KKXZrWQSYk8v92ZL+qaLKE3ksY8j+PRQy2SqfP8ppIvApRQoJzo3k/AtPXJJzcpSgmg/MDBlkcWDhyk34IGEpmvoDj1Vm9BpWIt9DkRMT1rX7HCMtbVPWWJUluKg0tJIUgSxPGNdnKaWipift6sHpQptGOjKghjJQhnjke0YaesAACAASURBVNJsv1fH3RAdp3JiWJK/ZnhIS3r9hpbScjdj+wYipnyvknSdeKsIhBWK0e1QTFoNT7ukny73Fi5Ikv09Hnxamrg9K0irVyoimAWTx/ehjXQtkYlkXieTfLU/Z11jnHywprSM+LsJzXpef0M52yyy+K9hyg14IKGUhjIM9LwQ3rYWQv0zkcISU+VQd5ixZvt8TUfz+sktjxOb0Y1E8jEL79qFAWziN7XczbCHFfJIevsOM9tVOZJ1He2/zfMdKNHNhU/Dhaa70JTDImJ9HMzP2uXFlOhomsOsKapSZf2UnrZO4PYgOT6zar2uoWmm9++0PH+VNqO4pzizShG3HYK5H9nT5DFdN3f4uAxLzjglAaDS7pFR9chWftScKN2qjaqcmFLKlmSxPYPSLWlgV05KCdKueao5TE36nNykZo7SMksG2n2aKtU39d/PLLL4EUy5AQ8gzCpJyuEht76JluPHGHr5GtLXbyoqutyWJrhdsUdHC4fJHxpk1vFH0VubTeldq8q9sgjI1DJ3WfrkjlRFed2ZFNLKqDSvOyyCssI7YhGb02ld34qJa9ZuEE0nVXU+7W8bDgficpqLtskwiyBeF+GeGQSGB9HjJYhLmRWgLA9dSxbXsMk1jdhtsrW9bsMarJKSp7ZHne4tmx6wZq9J6IZJ6h4d8WiIW1lJRZql125ta3QZJunrympveuhLM/tWWf1p2LrxHvP/Dqf53HSH+T89F9G8iOEip7qavNnD5La2Ibk+69noadskDZTYhZWzxJ7FzwJTbsADBzPWaqDpOeTUNDL97BlW/eEfkfUbkMZmc490YYG5P9zQEW8OWkUZwUXzaXniUfSuNtMD1l2mLIFyI/489IoERm2tuSe7vBQpKjL3sBtuxJ2LFo3iiJdhlBWb+7S9uabmu5GDeP0YsRjOqgq08hgSCJgeZiCIFOYjRVHEl2v+PxJBCqKIz2f+nZ9v7mOvKEPqapAya3+3w2Hqo1eU0vj4USrPP4ln0TBSEUEiueY++AxPPZ3UrW2LDsPsh5DPTN/P9yN5fnP/vzW42cWFM0uL6Ri6x1yw9biRaBCtshitphQpK0AigVSBYocLieThqK5AS5Qh+SHzMy4Pyh9CLyxC8sKm5nswhESj5t+BEBLOR4qKkZISVEUFWqIKiRQhjiDiDCLBPAqXLqL5wnlK9u1DmpqRklLzOk4jjdizHnsWPytMuQEPHMwYsxnrllCEwOpVjP3h9xReukzxyScpe+wYJZs2kjN9OpKXh1FaSmTeXOqPHqH8+DHUzD7EY5GyysEdraBozgKqDx0i8cQxig/upfjAXmLbt6OmtyHRYiI9M0ls3kz94UeoO7CH+Po1RGb0IN48VKgAf99MqvfupuaxQ8T37SIwMgu9php3VzsFG1ZTtH410tSIam2hbP1ayjZtxNXQiN40jciypZTu3k7RI3uJHXuM0of3EByahYRCSH4+4UWLGPjgXWb85nMqLz9NfO8mShYO44hFsQt6J0MwafvQNa8Hf1UFFSODlK9dRvHGVRRtXkNswxrKFy/GP63VzC7VHMnFYhMmWeqOXJTbi6epnqLVS6k+vJfaxw5SuWcnxUsWIok4kuPDGa+iZPkKag4+QuWRQxSuXUXO9Ga0sjL8g4NU7dxO7uhspKiA4gXzSWzdgndoEKmpITA4SNmO7ZQe2EfJ0cOUHztG0er1aMWViD+Ku62N5idPMPLNl7T/6i4lT5ygYsd2wj09iNtpDWw2sWdj7Fn8bDDlBjxwsKsB6SJIwId/0Rhj/+2/MfDn/073r79j6LMvmP/Jp1QfO46zrRNPQzP1u/ew8oOPWPbdP+DYussM2egexB0msWQ9ozdfY+yTj5n56a+Y+Q/fMu/f/sTAZ5+jLVqCa8Eieq9cZey9u8x/+22WfvoJa379a3rPPI0qrcYzo5/Wa1cZ/exDht57k9kff8C0V64T2LKB0KZ19Lx1mzkffYAsX4E+fwHD777Nyq+/Jn/eQpyzRum8dpWFf/ye/t9+Se/HHzP8xVd0XHsZVVuPlMdpOPAII3/3Hf3//V/p+/Yr5r37OjNPPoa3oRa7NJ2mtFRIxwpVGJEQ5YtGmXv9EsMfvkPPZx/S+cUn9Hz6CbPf+4DyHQ/jKK8yQyNaSv1RiTIXmnU3jooE1Yf3M/Du64x99AFLPvyQNb/+DWPvvI0M9KOKSkjsPcjct99nzjsfMPLhpwx+9DGJJ07gWjRG+aOHWfbbr6l++gyquYmep86y9rvfUnrmNDLYT9Weh1n43W9Z8Oc/0fv1Vwx8+inzPv8S/7I1qJI4eQvGmHn7ZRb+6x8Z+vMf6f/yM0ZvvULd+rVIjtsa1Iy0hd+p/35mkcV9YMoNeOCQ3NusBMkLEFi2mLE//YnKX32KsXYTsnQ5zZcv03PnDsUbNiIVcaSxmdDO3Yx8+z3eI8dQwTyTBKvqGXn+JfpfuYV/80Zk6QLCL15k6N//TOj5S0hLGxUvXKL7g7uEdz+EDA4SWr+ethcu03HqLEbrDGLHTzP/d9/h3LsbmTcX1/YddNx9l5orl1HrV1Ny4lEGv/gUWb0Wqa7FOPQI8779LZGlq5HGVqrPPEnHd19T+PwzyLIV+E+cYs4336LmzTfDFB1d1N+8Rcl772McfAQZHUZapyPRSDL8ootmrRU4UiGYoBdnewPBnRtwP34Q56nHcZw+ifPkSTyPHseYvxiJVSBOmyBT5cjMsn1OChcsZPit1yh/9iyyaBGOuQuoOnaSoVdeRebMxTFrlPVffUfN+RdwLVyBLF1FzdWXafvVrwg/sg//8iV0fPQBDS9fQ1VVISMjzHj3XfKffRbp7cW3ZClN775H68efIFu34163kfnffU/N6adw1jYgiTgl+x+m9cP3KL16GVmxFBnoRyoTSE6OlRmsoSuDZLm/B+A7mkUWP4IpN+CBQ2q3i4ZE8wmuXc3CP/we7cBBpDyOBPy4l4zR+uoVKo8dRKoTSCgP3+gcWr/4FHXkgKkD7lCovi7mvvEqrSceQ9VVIRUxQhtW0v3NlziPPYo0N9L57h3C58+gNzcgAT9SVIg0NqBa2/B2dDHjtTdovvM6Rm0dEowiZdU0nXmKqldfRd+8icLt2+h6/y6yfj2SH0GtWs68b35DZNUGJNFA/PAR4q/fwlizEiktw79hI6PffINauQwJBZFwhM5nn6P8xeuowREzjORyobw5Zok/3cAQDU0Ma1ukRW55AQrmz2Lg0lN03L5O3Zu3qHr7DvVv3KHn1usUbdmJXl5pLoBqWqa2jOZAXLk0b99F/+2bFK5aikQLTN2dRB2quw9VXYt320Ns/f6PBMeWIwVlSF4BuStXU/vqLWpOncQzMpvKmzeZ9vJNVHEpUttI241bRM49g7T34Jm9gMoXb1B/7gJSUYOrsZ2+O3dpfPoiroZpSDCPghUrabn5MhVHDyKlMcTtRjldKKcbUTpKs3bbZKwTTP33NIssfgBTbsADCOvF1Q2ksIjQhrWs/ud/Inb5JfSRUaSzjZpjhxh573Vq9u9C6muRllb827fS8+1X+C6eQXU2m4uArQ3MfukiAzeuEli1AhkdInL+FMP/9Dtcjx5Cqivpvf0KfW++Rt7KpUhzAzK9GffoKL5Fi3F39zLtuUus+vvvca1ejbTPwLlsNTNvvUHzlWtoS5ZRunELs3/1Ia69e1AzewmeO82y3/890c3bkNYu6k6cpOudt4hu34rUVBPYspmxX3+BWrvSFBDLD9P75Bm6b94mb81mpLkTV/9s8mbNNslWd+JIJhxZC4hKkEAu0Zkz6H/sEL3PnKPt4jO0PHeR9gsXmfn0sxQvWYFRXGYSu6V9kwxxKR1xeKhctpKx124Rf+ww0t2L1E3D2T1IYN4ipGMGjrEl7PndH4gdOY7eO4jMHKL69BkG3n2XqgMHyO0foO3GTYbeegfV3YusWMXoZ59TffU6ztExQkvX0H7tFp0XLiPTO/D0DbP47sd0PX8ZT2MzEi6gfNkqZt18leazZ5DeXozOGQRnjZBT22BtlXSZkgvJxdMssWfxwGPKDXgAoUwRL4+HvNYW5t+4xiP/7/9i/Z//hflffMWc9++y+svPaT13jpyBIcoXLGLpzZts+btv2PIf/86yP37Pps8+onnvHjxV1SSWrWTha2+w5Ouv6fzyE9r+9D0D/+NPOI8dQQoLCa5czao7b7H+o48Ye/tNxt55m6Xv3WXGqTOoae34evtZ8M7bLPviExZ88gGrfvMli955h/i6zUhFLYWz57PwtTus/vWXzHr3DVb9w7fs/9//TvuFCxTv3sPc11/nod//AzOffwbv2Agzzp/m4L/+ge5nzuCMRRF/DrWbN7D4nXdY9qvPWfDGR6x88xOGT55HyqrNWLiYyVIpYje3HOreHDyRCO7CQlxFxbiKSnAVleApjGEEwyinx0pisiUMTJiyDApnVTW9xx5j5XvvsPT991nw1nusfP8jFt64Te7IfLRIITOOHGXNrz5i4Xvvs+DDj1j++ee0PfUUjq4uXDXV1Bw6xNbf/Ia5H7zD2K8/Y/f/8y8s/uIjivbvo+nkKXb+9jtWf/gRwU2bCW/azIk//Yltn35MaN4cJBIl2NHL8IXLrP/iNyy8+yHL737AqltvEJs91xR8yyD0LKln8bPAlBvwYEIpxDBwlcQoXrmcykcOUPjwHsofP0750SMUb9mMt60TFY3hbZxOyZrVVOx9iMLD+4geeJjKPXvwDw6jB6O4CssJz11I/iMHCZw9TeGdm7T/42/JPXII8YfQSuLkD41Qtesh6p84Ts2JxynZto3AjB4kEEHLyyevr4+yh3dReepRSg7tJTy2AFe8FsnNx1mcoHBkPk1HDxM/tJ/CbRuJPbQD34IFuGb2U7BsBRVbt5I3bxS9pYHQvEFqH9pMcHQQLeRD3AbuRCnFK5ZSe/hxao+cpWzjPkKdg0huGNFcVpLO+OxNWwDMytzUrBh8OtKkE9IFyHS7nz0efE1NlK1aRe2hw9SdOEnVoaNEl682wzgOF95EnNjq1dQdOUrtsWOUbN6Et7UF8ftQfh/ehjoqd2yh8sQhogd3UfzwJvK3rMQ11Etozmyqtm+lbP1ajN4ZuDpaad61g8TG1Tib6xBvLnq4kNDMERI791P32CkqDz5KwbJVuErjpsduZ8dmi3Vk8fPBlBvw4EGppJSAcrvQIxH04hhSGMMRT+CoKEdFo+a+aYcLletDz4+gx4qQeAlSWoxRHEMFwojhRbwhfH2DFOzbT9H5p2l8+w6Dn3+CY8kSMxvS5UVyAziKi/FUJXBXxtELC81kGafbDGXk5KIXF+OsqUKLVyChiJkFa/gQhw/Nn4enrBxXeTkSLUQKCpG8fCQQRotE0fOjqFAQ8XlRIT+Ownwk6DcXQXUdcTvQI3m4yytxV9SjRyuQnKAVirASkJRKE/tSaYuJ4zGx8Nd4wa1kX7vd6OEIroo4nqoanGXlqEg+4vGY93Y50SL5uOMJ3PEEekGBeUxTiGEW3XYUFuBKlKPKi5DCMFIURsJ+tHAQR0EUPZqP5AVRAR+ugihGNILyeS25ZTfKH8FRnMBdUYezvBqJxhCP39qzLymp4Kn+bmaRxf1hyg148JAhx5uu7mcSm+15moJapoaKiJhE49StzEtL7VE5Ub4gFfPG6Dv3FP3XX6bryhUSBw4giSqT2A2X5fVKpmytpkzi1TQ0a9FSN1xoDg9Ks1LmlQslLjRxkCJce9+1gaacaMqwUvx163hK4CqZmq9bg5nSUZrLur5F6IaYSOrA28JamtU3/7X+1jQtTeddT2m0aAplWHox1s4ULU3YK72/NC1NHkFSz0/ZWyyVmDIJelpVKDv5SnQzhq6ciDgR5UY0tylVoLSJNfCzyOLBxpQb8GAijWDHk5cdK06Xdk1+Rk/3WnVEGSi3h2hDIw0LF9KwYgWx0Tno1dWmx+90mYu0KpOoUgUmbAEuk5R1zYGmOSwiMrMhU+n5dsEOW7RKt0g9JTBmE7tte9JWe5aS3LdtSg8r21vNIHYhRe7/9b5OEntyYEoT4NIVum4KpqWT+vhnkiT2cddOl+nVRDCUytBq10RZ17WVN1PSy0qlLRSP04nPIosHHFNuwIOLjIIPqYWzeyobpZ+flOhNefimjopm6ss4HBasEEhS1EomIHaVwoQhj/TFvEyyU+POGa8pnrI9zc6MYtTWeUnCt+z5Cfv3xwaFe49P1vb//L3talU/3LdZZPGzw5Qb8MvGeLKeDBOdm0HsU9eG9HJ9U9ufPz3x3le7st56Fj8/TLkBv2xkif0nxBQRexZZ/Pww5Qb8snG/xD4RssQ+DllizyKL+8SUG/DLRpbYf0JkiT2LLO4TU27ALxtZYv8JkSX2LLK4T0y5Ab9sZIn9J0SW2LPI4j4x5Qb88pEl9gcWv9R2ZfH/e0y5AVlMBPXgEGq6HVNty0+9x/zBalsWWfxkmHIDspgEDwrhPFjk99cl9qlvXxZZ/CSYcgOymAQPCtn8kokvS+xZ/EIx5QZkMQkeFLL5JRNfltiz+IViyg3IYhI8KGTzSya+LLFn8QvFlBuQxSR4UMjml0x8WWLP4heKKTfgJ8CDosb319lj/WNkc4/K5E+Me8jvb3DPvxXun9gfhO9XFlncN378pL/WS6zGYeLzVErWdrLjGVV7foQEf0KPLNP2dBvuz5Yfvf59EHt6VaK/7BndP1Gl26GpTD3zB5Hc/xK7JiL28Z+3i4r8FM80iyz+Rvjxk374i2592SdULLz3JbCvpY3DPfrgGXrmdm3NcbYoIVWqzbTF1iRPv4cuqWpHSt1LaJPZk7qHdR+lmRAtoy1K0o5PSO7pmKDPJulzTSk0paFZxaDTkdGu8TZPivF2qAnarLjnWSlBt2BMek9FJvGl+nlSuyaVwv3LZj73fj/HQ90D+1xNZVbCSv9M6juljSP2LLln8cDjh08YX1TC/FtDEwNlVZoxKwWptIIMYtXIvLfmpX09QyYidpX2QqURu65bdTctghGbTCVJDkqUVQ0n9ZIbIjhFcFk/naLQxxWWUGKWunOrVFUkpxIMJePaoyOay4QyizTbFYSSJdnS64JmDAI2QeiY1Xlc5k/72mk2p9pjko2udDRrIElvm57Wh+O99okxfkZh2m73j0nYdvk8LWPwcGoKh5j9o427d2rQs6sPZRa7VunPJGOQlGTpwUyC/8tmPultt6+lbCSPK3TRkrD7UyQ1UBnWM9cy7LCrKo0n9il/abPI4scw+cHx3mHqpVYYoqOJwyL3NGK360NqglgekP3iOTXB6xByHYJbS10z07M2CTpZ01JTZnk43fxbE5OIHNbLm0GEonCKSdIhtxAyhIAS8nUhooSACK5xHpddJi5HCSFdyDMEn2ZeP6OIsaYhmsMidbO9yX4ZPwhYs5V0D9GuOaolid1I9lVy8EwjpvR+NmG2zauZ9kUcQlgXvHLvIHkvUjVKbaISMck6KEJUCSEleERhJM9NDcCGEjwi5DmFgCF4VIrkRaz2qkwitwfm9O/OPaG3dHKXFAknqz1NMrtKhz3IJAc5ZT4PTY2f1SicFvS0a7rFbFNAF3LEbFdq5mI6L0p0fqr6rllk8TfC5AfHvzwOMUk1R2wSsDyZcd660jJfLPtz5fk+BlvjdNcXEXanXkb7+unetSFWHUtdoZTgNhQleQa1hW7CuiLXCguoNFudIvg1odLnYG1/PV0xD9PydNZ0xlnVXsH0iJdA2vXt9tkEN1hbzMKOOPUFfjz2wGEXtFamB20oZRGu+Tmn9dOwQhXp7TYyoHBYfaZbRGH3V7oHnN5n9vkO0ZP9XuIURusK2NQXZ7QqSMwpuK3zfojcVdIDteukanhEGGss5aH+JoZKAxQ6FB6rTTYZ2+0Ma8KCjiqGG4sp8bmSXr6WNlNK2Z1G5Cp1Hfv5uq2f6V52+jlG2v/Tv4fjQ2bp3y37mvbn9bTjIaeQCGlUhRzkprVPRIh6hNnTipjdmE/cp5OrzBmKUmZBcBMpYn8Q1xSyyGICTH7QJnWnmKTiEyEkQsT6aXs4dvzVoUxv2WNDzBcuR4RcEVrKA2ye28Cy3gRFntQLaJOWX0yCDVr3civB0Mz7F3h0lrRHODg/QZ3bIGJ9xg7LaNa9Yi6dFU35vHNsNQtr/Mws0Hl6bSdXt/ewvKGAUst+n3W+ocz7R5WwprucPWN19MRD+O2Qj0rZmGvZOBlyrWu6rd99YnrUOdbPXAs5Vp/a/Wb3Uc64c3PEnGG4RcMnQp4IdQ5hf38Jd/Z28/jcchoDJrE7RL8PYtdIEbvCJ8IjI7V8+thSDvaW0OhVGc/WmfbsY7qwb8F0Ng2UUxN2W8dND9gm1py0NnokNbNyWH8HrDZErGfsltRAYPeZ336uad8pe0BIh9u6pjftexOy7uFNu7ZbhIaIkw0z8ljXmU++/Zys51rqE/Ytaeb0+hbm1wYp0AS3ptCUTeg2qaeF3n7gnckiiwcEkx/URMjVFRV+F12xIP0xL8MlOYxVhhmuyKM+aBA2hKAhVITdtJX56Cx00hbW6C330lcVJhF0EtYVcb+DkUYfW4YiLGz2E7M8dqcmlPoNOkr99BV7GC71MlLuozPqpNRtkmO+Q9FbmsuF9dP59Ggfm+r8DJf5aYp6CbmNpPfmVcL0SA4XV7Xx/qExuiJO4oZwYLCU13a0cHxWKUvLc5hfnkt3gZtyl0kKEV1oj3rY0BlkS4+PrkKDoEp527maUJGr0V8RYk51HsPluQzE3AzE3MwscjKzyEVfsZumoE6+EkocQncsl95SPzU+gyJdqPY66I4FGExE6CkLUBMy8ItJQomAg87SAF1Fbjoiir6Yh8F4HtOjueTrQp4mNAYMZpeFWFER5PEeH5/sbebi4jLaQibx2V7z5MQuZMa+zbYvq/LwyaFhnptfzoaaHBZU+BiI5VDjVeSJGcqKOTR6YxEeHoixdrqHGr9KDjx+JRS7dVqKchmoCjNUGaQn5qa71Edj2EGhUyh0Co1hB4MVfuZUBhguzaEr36DEYYaAYi6hpdDDYGWIwUSQaQVuok4z5JQI6HRWhKnNcxBzCvWRHNrLQjREPJS7hNpcjb6Ym/5iJ8OlOYxW5dEadVHkVHhFKPAYLG3N5+bOZq5tbmC0PIe+eIh4yI1XV0QcwvqBMq7t7uLoSIJ6tzlwpIqA30vqWWLP4meAyQ8aIhR5NBY3FXB5Yxd3tjXwxsYK7u5u4/WdMzg0q4iuqIN6v7C6u4DntzRwbV0J58eCXN8W5+X9PazsjFLm0ZnbFODxNbU8t7OBh0ci1OdZpOlUzGnK4fltbbyyuZo3Npbz1rYanl1czKKEm3JNaPQb7B8s5OvjI/z5VCcfb49xc3M9e0cT1BfkmrMGEfIcink1eXx8ZD6P9UcpdGjkiLC62cO7Oxv4cl8D720u481NCZ5fUs7qulwShlDjEvYNF3NpcxPPrK1hrNpPRLNi75qQ8Ols6Mrj5Z2tvL23hbd21XBnW5zb60t4cUmIqysLeHlDGQ93uejwCXOLFJfXVfHKjmmsacylL2ywtbWQF9ZM5/bOLq5snsaB2cVMCziIiLC02cfFjS1cXZ/g+cUhrq0t4+aODg7PqaHFp2gOOjg0VMIrm1p5d3MTdzfG+f7wdC4tiNEWND1be8eQueA6McmnE5ImpufaHRTu7Ojgsz3NfLC5jLvbKrm+rpKdHUGac3QKNaEjz8GJ5X28vK2Dk2OFdBQ4krOUco/BWF2Yc2ubeHVPG6/vbeb61ipu7pjGgf4gfRFhpNTFsblF3NhezxsP1XNrWyXPLosxHNVpcAtLanI4uzzBrT0tvLJ7GqeWxZlT5SXhVqya5uLGviF2D4QZyNfZPVDGC9u7ODwnzmiRsLraw81N5dzeVMKrG8t5Z18bZ5eVMRhzk68L00s8nFxRyfdP9vL3T7Rwe2sZV3e1s6ijgHy3gVeEzjInz21s4tq6BgYLlUXsNlILzVliz+JnhMkPGiJEDWFRXYT39g3yP5+dwyfb4jw1O8DV1bW8f2iQRwaKGMhXrGj0cWtHPf/2TB/fH5/Gi2vLOLOqjo0DCeJeJ/2VORxYVMEbR7u5vK2WmWXmNDnPIcyrM/joxGz+4cl+XltdwM1l+Xy4t5XTY1W0eIX6HMW29gAfH5zJPz3ezO0VQc4vrWBDTzHVYY855RehKFdnY3cRHx+ezdqEELQWxFY3uvhsfwvfHWrjxqIwl+cFeX/HNF7f2cmsAo0qJaxv9XN58zTeOzrMlvYyCq0QQNitWNwc4K3Ds3hhVRWnR3K5u7OKf3l6gM8eruTFeU7ubi7id8cauLLQwbkBB08Nany2N87vTnaxpzXAwb4oNze1cGNdE2fnFPHCymref3SIR8dKqTYUC6s0XtrUxB/ODvGHJ7q4vTHOkwvL2T9UwUixwZ6+Qj4/PsalRWWcHw7x8c56/vmJTl5YUEx7MLXgp4lg6DqG/mNhGRM5InSFhDsPdfG74z28ua6YF+b7ubO1nnce7mFra5gyTejM03l4VgMfHJrFG7vbmZ0ImmEVJQzEw1zc0sOdA72cnBPkxZUxfndmFr85PsBjvWFWxTTOzk3w/oFuXlhRxuk5fu7sauS35+azqdHF6mqD65ubuPPQNJ5ZUsAzy4p5Y18Xlze1MRQUVlbqfHF6Ps+trmCsyMlDHXm8tb+Xa1uaWBUXNtV4+eb4NP58oZ8rKwq5sDDKZ8cGeGSggGqfoiaicWA0n68ebebrg9U8vyyf08srGW4MEnZpuEUo9wjH5sZ5bUsNK+qdeGT8Nk7z9yypZ/EzwuQHDTHjmI1hB6fnlfDbQzPYVixUK6FFCRdWNHBpXSXz4l6mu4TDPVE+P9DAiX43tSKUiBm7tqftNX7h2IJSLq2pYDiWik3XGRpXtrZwaXkBwxGDwRzhmSVNPL2qge58oVCEep+TJxbGeWtXNbO8BqVi7iVYdgAAERZJREFUxlM9SnBpJsqCDnbNLuP9I8OMRISQZtq/ttnN+7uaeGqojB6X0KILW6tDvH94kJ19YRKaokiEJTVubmzrYk93BWUOs/1lYSePLSzlvcNDdDuEuAiry4QPdrdwfjTGooBwqDmXz3bk8+UWL//3qTr+fpeXbx+OcHu5mw0lGi+saOG5ZQnmFyuqRJgRcnJ6YRnvHhtmKKoR04SNbV4+2D+dZ+cW0x8UisREd8THlR2DXF5bS7dbp16ETdXC3V0JLi4qpiNottGetaSTzw957Uop3CJ0hoXX9vRwaXkh84s06kVYWOrluRW1XFrTxjRNKLBsOT67mNvbpjO/OkyeCBVeYWt/GbceGWLjNJ2ECK0iXF3XwO1N9Swu9bGzyc9rG+o5OauSZhEqNWGmX+fAUBGzoxpnl5Zye2cdW2qD1IlQZwjbWgp4c38XGxrM78bVzfVcXFlKb8RJqyGcGK3kuVUJFpYKI0VOXt4c48a2aqZrig5NuL6+hTNjxbQXmOGugQo3l1YV8NTCQqrEbI+5fmGGwsp04fBQnDs7p7GpIw93xnuQ3QmTxc8Skx80xFr0jLg4u7CC7w7PYG9CqFdCf0h4aVsnF9fVMFKewzSnsL8zn9sba1heooiJSQY+SS0i1uQKx+eX8dJqcxqdJ0JYCS1ujavbOzi3qJAZeQZtLuH4WAOnVtQzIypERaj0uXh0cT1v7m9n0OekQszP5yrBo5kEX+LT2dAX5d0jA4wWmDs5ckVY35rDWzvqOTkQo8tl2r+iNMCtvT3sHIxSrJv2rqrzcWtbJ4/MKCPhMF/8qrCDowtivLG/l5leIaGEVSXCB7tbeXZBjDlhYVNtDp/uifO/z7Xwf54o4z9OlPAf59s42+dhSb5weW0n55dVM6tAqBChM+jg8fklvPnYCL0RjRJN2N6Tx+3tteyaHqZemeQTEaEzGuTa3vmcml/MdKdJvCvLhTvbq3h2cYyOUKp//ZoiFnBQGHTj0lL7x++Js1uJWh4ROvKEWw/3cXZ+lJGIUC/CnCI3zyyr5trWHpo0s59LRDg1p4xbm5tYUhkiJkLCLWzoKeHmI/1s7XBRKUKvJlxdWcWtjbUsKs1lV0uYm+sbOTgzTrUI5SLENaE3oNHuFp5cWsZru+rZUBukXoQmQ9gyvYDX9nayabpQa2i8tL2Np5aV0Bd20u0WTs+Nc2lVBQvKhP5CF5fXxXh2TZwKTdHqFK6sa+XJ+THaCxyERBhK+Lm4rppzSxLUi+ko5BuCT5l9V+0WHp9Txe3t01g53Ycz4z3Q/hovXRZZ/LUx+cEksYddnBsr59/ODfLb/Q28sqWBVx/u5dYjw2zqKGKoSGNLez6v7erm21PD3NhYz/GFdcyt9eMzFMU5DpZ21XNqRTcfHZ3N18dn8tzaajb0FdORLyyv1fn4icXc2T/AkrifpZUOLu/s5uqBERa1FFCkCSVeJ7vnVPPV6fmcm1/EoeFiTq3vZc2sBsryveZioEuYNz3ER6dG2TRNiBlCQ1A4u7KGb8/O4pNDHZydF+HogJ8XNzbx6oFBZlcadESF3UMVvLSxjW+Oj/LurnaOzS1ntD6P6lzFkmkh3j4xxuWNTTw64OLNjcX84fQMnllYRE+eMLvMzc3t9fzzhTncWurmN3vL+JcLo2xr8tKWIzw0XMO1h/u4sKaew7OiPLWiljtHR3l8dTMNuYplLQGu7Ozgy5ND3N7WyBPz4qyaVkBVjlDu97BvQRsfnVjG2XmlnBjwcXtjgr97coB3DnSwtjVMsSFEDKE3lsOZbcMs6U2Q53Yktx2mEoQ0RDMQTU/G2Df3lvLVmWV89+Q8rq6Mc2LAzwsrqrizp4+DIwkqnRpLmvM5PL+Ju48M8O3peby8uZtdvWX0x3KYXRPi/PZ2Xj3QyeOzvTw/N4d/Pt3HW1sqmRdzM1ykc3ppAzcfnsWJeXEO9IZ4fDTG9e3dbGj1sqHFySs7W3l163SeGCng5LxSXnloJpe395mzNV3jyNImXt0/wKmxUp5bWsFXx4b48HAPh/rzeKg9wKeP9vL+kX6GihQjpcK7R+fz2v5ZzK3NJ6KEzpJcnlrTxDuPDHKoL8j+/ihnNw+ypL2IUq/B9KDw1PJ6rm9rZlZcy9hGa+4imvKXNIss/lJMftAQ0xNsChkcnxXlm4MtvDjXz6Xl+ZxaUsaqtnwagk7a8x3sGkxwddcAr++byY1dXTy3tYflHYWEHBqluS62DHdxYcs8Xt09xGu7u3hxRzuPLG2gr1yxtMHNlV2zeWHHEMsagixt8vLEhk7O7BpmQWcZEUPwGxozynK5uKmdG7u6uLxtBqc3dLO4q4RYwDCzRzWhtczHjQO9PLu+hgqXTku+cGJVPTf2tPHK7mm8vKOJK9uncX5jM6s6Q8Q8ir4qL8dWtnNlx0xe29XN7e3tPLexjfV95cS9QiJosHmokMtbG3hlYzF3t0b4++PNnJsfpS1PaMzT2DFUwFNrW1hTqTjY6+HihiZmRFxENaEu4mHTQJwLWzq4vruHF3fO4PCSejrLvRQawqahOBe29/DKvh5u7u7g0uYudvRXUevXCOga0wr8PLZ4Oi/v6OHV7dN5dXsDt3a3cmlLK6s7iil2CkUexdr2AHdOLGeo1kfIoTL3k4tYxO5IErtXhO0jjVx9aBa3d/dxe2c7t3a08NLGJvYPltIedFPuMtg4s5LzW2bx8q5ebu/u5caOAU4t7WC0Okoi12Buc5Cn1sW5vb2Mt9f5+cdHm7izpZKRkhwqHMKs2jyOLG3ihW0zuL6zkyvbWnlm/XRmlTtp8AlrWwJcWNPEyzu6uLJ9BqdXTWdefZCoIXiVoqfKx+kNvby0s4/r29p5dWcHL2ycxr7BKDu7/NzY0cHlLe2MJBzMSjh4Zms/T2/uY6gmnzxdiHl0lkwr5NK2Xq5s7eDylk6eWDODWQk/5U7FwoYIL27v4uSSehr81j56EVLZp1P+kmaRxV+KyQ8aYsbAO6Iezi2K88n+VnbVCnNjBm0FTkpzFAFNKHDpNBf46auMMrMqQm9VhK6qKImIB4+mCBo6NYURZiRiDCaiDCby6K0KM60iRHlQiAd0uuJRuhIFVAadVAUdTC/PY1plAaVhLzmamebvdyqmlwYYbSpgqK6AlvI8SoMuvIaVjKKEYr+DXXPjvPXkSvpr8yjxaUwrC9CVCNBbGWC4Nszs+gjtFUEKcwWXEoqDDtoqIsysitKfyGMgkUdPZYTqAh9+Q/DqQm2exurpfg715nJpzMkXBxs5NruAxoCQ7xAqw06ai/2UuYXagNASyyViaOa+a00oCbnpSoQZqS9isCaf+oIcAla4p7bQT3siQk9VmMHqCDMr82ks8JPvUuTogldXVOV7GagpZE5tPrMqg8xMBOmsCFEVziGgCRV5Oexd2MgTG2dS5tPJUZkx96SejaYjmoayFodri0J0xvOZGc9jpDrC/LooQ/Eg9SEnYRHyDY2aAj8zqororYwwkMhjqLKA3rJ8Kv3mvctyNRbWujnc5+NMt4Nf72/mxVUJeoo8hETI9xjUF/nor4ky2lDIYE2EaaV+Ct2KgBJKvYqu0gAjdQUM1xYwPRYg4jbDa7oIYY+iuSzCYG0Rs6sj9MeDdJYFaIq6aQw7mBkP0V0eotynUZqr0VIRob0iQsznIkeZ22BLvE5mJCKM1BfQV11AY0mIAo9O3CscWNTOpV1DrOwsIV+3kqeSMgdpMfYf0PbJIosHDJMfNESIujQWNhdz+8AIv35yAU8tbWBG1EmBQ1mp5TouK4vRzEg1kz+cVnKJIVaiimi4RMdjnWsnr7h1hVMZVmam4NJUUrdl/MKfiPmi5xhCjm5+Pj1dXVdCrkPRUuLl8IYhuuuD+F1acj+6Q8yXPNdKejKUoFv6M3YSjW2bW1M4NYWuBKeuiOd7eXj+dM6saObV7Q3c3FbPquYgxU5J7spJv4+ZuJUpSua076FSi526piV/d0oqg9Jh9Y9DM23UJJUslCOpRCg72zIW9LJiqIFZzUV4tZS3bt47XaYhpZaZnlXssmzzKXNvur246FFmX7jFlF3IFXPROiCpJKZiv5t1fXGeWdPC9TWN3N3TyY6uKFW5BjmS0mFxK3P7qFtM4jTScgVc1vVz0p69YWkN2fpAboukPUpwKYXbWiewv3fpmafJZ6IULl3HpWk4rfunZzyXeIV1Qw1sGKyjMZqD17qGpsbtgFHj8Ld9SbPI4i/F5Ad1EcJujYHaKEeWd3JuwwwOLW6mpchJxKlwKg1NHGhiJNPsDbEIyXpxU1odhqUto1vyqLZYk0JTTswpr0LXFJr24xrkE52jlJnwlGto1JbmURg0cFmSBOkaLEkStjJbkwODle6viY6u6RiajlIahq4Ty/exc2kvR1Z1cnRZMyvao9QEHXjkB5QVJxBBu7cdWtouljSdlLTP6Gk2pv9MT53PdRlUFgXJ9+o4VHq2qcok9h+BrjQcSmVc26mppDianc3pse6vKaEg6GblYCUn1nVwankTO3rLac5zEbBIdLymj8ogyXtVMZUolNJQKrWH3OzP1P81zXxGuiXiZqT1R7pGjKEUTt16lslEo1S/+B1CVdRHPM9DwPLWbWmIexU+JUvqWfxcMPlBJWaoIs+pKAvoVEccVPgVAcPW+rDUClWKrNN1UvSksl+aTonSLUEtlSbta1iwxZ/SlREnInjzBb9Hp10plK6l2aFSeiSW5kvGSy8prRdT9c+BEpcFcxAy7XKgaxqlUR+Jghxifg2/MU6ILKnqKBnI3Pv8Y1K0dsp/5k4M27OeSMHRPq5Z4lZ6krhS90sXIlNJ8kwnU7udBko5LJ2UTAG3dPXN1PM12+gyhOKgRnXUIBEQIlqm3INIWn8oU0tIZaiA6pa4mgNRluSB0pIDt2aLgSndWvxNg3VeUn5XMiWGbZ0eU4DNSFN31FBKR1cahmiWJo9mnmtd755BaOpf1iyyuF/88Al2aCGp0Gi92OY0P1NbPFMN0pRKVRlkraeIPUnMWlKPQ0TSNNYnkG1Nf7nSQgoZ/9P1pHyuStc9t8W80tqSKVploMSFJi50caJb4k82sY9fRNN0hdJtRUtlygrrWkrdUk8TQ7NmJmb7rcHtHnJXk9wrpZJ478xgMq33lOxxpoCW7blPTuzm/R2M15yX5PPWSUrxppH1eI/5ntlJ2rmaTezpHrvdN7ZMrkoblOzvg9KtNYI0KC3jmWqS6vOUbrxN7HrG4GY+C3NAUZZSqSb6OF12yZJ6Fj9H/PAJmVN+haGMezLwxr9YGdrq93i09v9skkhNpzNfonSiSiP2H5oWWx57ZqGPezMH0z1du10iTkTc6OLAKVrajpJ0XW5J2WFYGvHjvHQ1zr5MLfSUuuK9sxEt7dgE7b3n2fx44sz4NPh0QbDMkE9qYBivjZJ5zUkKq1jXz9wmOP7ZTJaSryb8/kh6n1kD4UTnZc4QJ57RjO+TzD5MaeVPpgmTeoZT/rJmkcX9YvKD6VN8m+B05eTHKhBlkEaat5xBgtb1lOhJb++nJ3ZhQmIfH/MVDZPYneiiJ2PwmaqIWsZ9RDfM2UFaZafMPeP29dN10McTe3r77HMm2IVxT1t/LKQzrr0TYPLPKSbXHrdnX+l2mR61Hf64ny/d/TgG5jHbq9aT56VXb7KRoceecf376af0AW1ioa/xVZeyyOJngMkPpk/fzf8pNO0/mbDxAwQ1MemkhxfUxER+zz0USrvfTMHxHmtmoYjJsjVT97K9dTVukLi3DzM99nQiHx9CGefJT0js4we8zIFrfBz+L39W44hw0kE0BaWpZPjjP/tFnMybT7fnhwaqv2zwmqzNWfLO4peB/w8OSVTtAsNTqAAAAABJRU5ErkJggg==)"
      ]
    }
  ]
}