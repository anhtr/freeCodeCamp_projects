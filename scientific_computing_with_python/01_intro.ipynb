{
  "nbformat": 4,
  "nbformat_minor": 0,
  "metadata": {
    "colab": {
      "name": "01_intro.ipynb",
      "provenance": [],
      "collapsed_sections": [],
      "mount_file_id": "1baYqvabosm4cRIzI_0aurqC-jCXg-uLi",
      "authorship_tag": "ABX9TyNcmXK3hk+AdOYTYRjuGcnm",
      "include_colab_link": true
    },
    "kernelspec": {
      "name": "python3",
      "display_name": "Python 3"
    },
    "language_info": {
      "name": "python"
    }
  },
  "cells": [
    {
      "cell_type": "markdown",
      "metadata": {
        "id": "view-in-github",
        "colab_type": "text"
      },
      "source": [
        "<a href=\"https://colab.research.google.com/github/anhtr/freeCodeCamp_projects/blob/master/scientific_computing_with_python/01_intro.ipynb\" target=\"_parent\"><img src=\"https://colab.research.google.com/assets/colab-badge.svg\" alt=\"Open In Colab\"/></a>"
      ]
    },
    {
      "cell_type": "markdown",
      "metadata": {
        "id": "wlgT12Suv9-h"
      },
      "source": [
        "**Simple assigning and printing**"
      ]
    },
    {
      "cell_type": "code",
      "metadata": {
        "id": "6kwUA4ZDuLOA",
        "colab": {
          "base_uri": "https://localhost:8080/"
        },
        "outputId": "b4afe33f-1bd4-4468-e824-549b6ab9829f"
      },
      "source": [
        "x = 6\n",
        "print(x)"
      ],
      "execution_count": null,
      "outputs": [
        {
          "output_type": "stream",
          "text": [
            "6\n"
          ],
          "name": "stdout"
        }
      ]
    },
    {
      "cell_type": "code",
      "metadata": {
        "colab": {
          "base_uri": "https://localhost:8080/"
        },
        "id": "CsjmZfniw5xx",
        "outputId": "75869a92-d5a7-4b92-d52b-734c7f49e75f"
      },
      "source": [
        "x = 43\n",
        "x = x + 1\n",
        "print(x)"
      ],
      "execution_count": null,
      "outputs": [
        {
          "output_type": "stream",
          "text": [
            "44\n"
          ],
          "name": "stdout"
        }
      ]
    },
    {
      "cell_type": "markdown",
      "metadata": {
        "id": "2HnHmzYux5tk"
      },
      "source": [
        "**Operator precidence rules**\n",
        "1. Parentheses ()\n",
        "2. Exponentiation **\n",
        "3. Multiplication *, division /, remainder %\n",
        "4. Addition +, substraction -\n",
        "5. Left to right"
      ]
    },
    {
      "cell_type": "code",
      "metadata": {
        "colab": {
          "base_uri": "https://localhost:8080/"
        },
        "id": "OwdeyotbxyP0",
        "outputId": "dfc51ff1-8ffa-4da7-b936-b98aa0a393e5"
      },
      "source": [
        "1 + 2 * 3**3 + 4 / 6 % 5"
      ],
      "execution_count": null,
      "outputs": [
        {
          "output_type": "execute_result",
          "data": {
            "text/plain": [
              "55.666666666666664"
            ]
          },
          "metadata": {
            "tags": []
          },
          "execution_count": 5
        }
      ]
    },
    {
      "cell_type": "markdown",
      "metadata": {
        "id": "8eLzQBVJzcuI"
      },
      "source": [
        "**Types**: int vs float"
      ]
    },
    {
      "cell_type": "code",
      "metadata": {
        "id": "8PXfHjTazf_p",
        "colab": {
          "base_uri": "https://localhost:8080/"
        },
        "outputId": "dd42ffe6-8c6a-4310-e215-30e2b8e9c77c"
      },
      "source": [
        "type(1) # int\n",
        "type(98.6) # float\n",
        "type(3/2) # float\n",
        "type(4/2) # float\n",
        "type(float(10) + int(1)) # float"
      ],
      "execution_count": 3,
      "outputs": [
        {
          "output_type": "execute_result",
          "data": {
            "text/plain": [
              "float"
            ]
          },
          "metadata": {
            "tags": []
          },
          "execution_count": 3
        }
      ]
    },
    {
      "cell_type": "markdown",
      "metadata": {
        "id": "6YTvjGXi0of6"
      },
      "source": [
        "Types: numeric-string conversion"
      ]
    },
    {
      "cell_type": "code",
      "metadata": {
        "id": "JUmHgySW0nhF"
      },
      "source": [
        "float(\"1\") # 1.0\n",
        "int(\"1\") # 1\n",
        "float(\"1a\") # ValueError: could not convert string to float: '1a'"
      ],
      "execution_count": null,
      "outputs": []
    },
    {
      "cell_type": "markdown",
      "metadata": {
        "id": "n3d5XBbQ1Pt5"
      },
      "source": [
        "**User input**"
      ]
    },
    {
      "cell_type": "code",
      "metadata": {
        "id": "YRzlBskM0ePP"
      },
      "source": [
        "n = input(\"Hello, what's your name? \")\n",
        "print(\"Welcome,\", n)"
      ],
      "execution_count": null,
      "outputs": []
    },
    {
      "cell_type": "markdown",
      "metadata": {
        "id": "Vo4ndEhjE9Sy"
      },
      "source": [
        "**Conditional Execution:**\n",
        "- has a : after if and for\n",
        "- Indent = scope\n",
        "- blank lines and comments are ignored with regard to indentation\n",
        "- Turn off tabs"
      ]
    },
    {
      "cell_type": "markdown",
      "metadata": {
        "id": "0DAKI8wOK8sM"
      },
      "source": [
        "Operators: > < == similar to R\n",
        "`is` and `is not` is stronger than == and != because they also check for type (0 is 0.0 will be False)"
      ]
    },
    {
      "cell_type": "code",
      "metadata": {
        "colab": {
          "base_uri": "https://localhost:8080/"
        },
        "id": "K2B9VpUrFfqj",
        "outputId": "a3257cb6-8d41-441f-d2bb-f07bf0ff9492"
      },
      "source": [
        "x = 0\n",
        "if x == 0:\n",
        "  print('x is 0')\n",
        "elif x < 0:\n",
        "  print('x is less than 0')\n",
        "else:\n",
        "  print('x is more than 0')\n",
        "print('All done!')"
      ],
      "execution_count": null,
      "outputs": [
        {
          "output_type": "stream",
          "text": [
            "x is 0\n",
            "All done!\n"
          ],
          "name": "stdout"
        }
      ]
    },
    {
      "cell_type": "markdown",
      "metadata": {
        "id": "TYZ4j8OfHFVb"
      },
      "source": [
        "Try/except\n",
        "- If code in try work,  except is skipped\n",
        "- If code in try fails, jumps to except"
      ]
    },
    {
      "cell_type": "code",
      "metadata": {
        "colab": {
          "base_uri": "https://localhost:8080/"
        },
        "id": "hyBWV4MzGhjL",
        "outputId": "dbf117c3-dfce-4bb2-fc1d-79e59ddaf45c"
      },
      "source": [
        "rawstr = input('Enter a numner:')\n",
        "try:\n",
        "  ival = int(rawstr)\n",
        "except:\n",
        "  ival = -1\n",
        "\n",
        "if ival > 0:\n",
        "  print('Nice work')\n",
        "else:\n",
        "  print('Not a number')"
      ],
      "execution_count": null,
      "outputs": [
        {
          "output_type": "stream",
          "text": [
            "Enter a numner:n\n",
            "Not a number\n"
          ],
          "name": "stdout"
        }
      ]
    },
    {
      "cell_type": "markdown",
      "metadata": {
        "id": "ZP1a-2HhTQJq"
      },
      "source": [
        "**Functions**\n",
        "- Use `def` to define new function\n",
        "- Indent body of function"
      ]
    },
    {
      "cell_type": "code",
      "metadata": {
        "colab": {
          "base_uri": "https://localhost:8080/"
        },
        "id": "aid5yVE4WHEj",
        "outputId": "dad99808-8be6-4a54-e5d2-e337e6d0bc02"
      },
      "source": [
        "def add_one(x):\n",
        "  x = x + 1\n",
        "  return x\n",
        "\n",
        "y = add_one(2)\n",
        "print(y)"
      ],
      "execution_count": null,
      "outputs": [
        {
          "output_type": "stream",
          "text": [
            "3\n"
          ],
          "name": "stdout"
        }
      ]
    },
    {
      "cell_type": "markdown",
      "metadata": {
        "id": "0jcXhy0KChFs"
      },
      "source": [
        "**Loops and iterations**\n",
        "- Beware of loops that never escape (infinite)"
      ]
    },
    {
      "cell_type": "code",
      "metadata": {
        "colab": {
          "base_uri": "https://localhost:8080/"
        },
        "id": "KIC0wUimCgMU",
        "outputId": "77240613-1a1c-44f8-9546-50c9426a1126"
      },
      "source": [
        "n = 3\n",
        "while n> 0:\n",
        "  print(n)\n",
        "  n = n - 1\n",
        "print('Blast off!')"
      ],
      "execution_count": null,
      "outputs": [
        {
          "output_type": "stream",
          "text": [
            "3\n",
            "2\n",
            "1\n",
            "Blast off!\n"
          ],
          "name": "stdout"
        }
      ]
    },
    {
      "cell_type": "markdown",
      "metadata": {
        "id": "fWFhpoG3Ejtv"
      },
      "source": [
        "- `break` to break out of the loop and jumps to the next statement following loop"
      ]
    },
    {
      "cell_type": "code",
      "metadata": {
        "colab": {
          "base_uri": "https://localhost:8080/"
        },
        "id": "CTXEV4xoD7YC",
        "outputId": "a01e82e0-fd9f-4616-a06b-050f41bc727b"
      },
      "source": [
        "while True:\n",
        "  line = input('> ')\n",
        "  if line == 'done':\n",
        "    break\n",
        "  print(line)\n",
        "print('Done')"
      ],
      "execution_count": null,
      "outputs": [
        {
          "output_type": "stream",
          "text": [
            "> 1\n",
            "1\n",
            "> completed\n",
            "completed\n",
            "> done\n",
            "Done\n"
          ],
          "name": "stdout"
        }
      ]
    },
    {
      "cell_type": "markdown",
      "metadata": {
        "id": "CxpOPxsXEmKy"
      },
      "source": [
        "- `continue` ends the current iteration and junps back to the top of the loop and start the next iteration"
      ]
    },
    {
      "cell_type": "code",
      "metadata": {
        "colab": {
          "base_uri": "https://localhost:8080/"
        },
        "id": "nKgV3VxlEy_e",
        "outputId": "19e92226-90d7-41ab-9f0e-4a7cc37edec4"
      },
      "source": [
        "while True:\n",
        "  line = input('> ')\n",
        "  if line[0] == '#':\n",
        "    continue\n",
        "  if line == 'done':\n",
        "    break\n",
        "  print(line)\n",
        "print('Done!')"
      ],
      "execution_count": null,
      "outputs": [
        {
          "output_type": "stream",
          "text": [
            "> 1\n",
            "1\n",
            "> # 1\n",
            "> done\n",
            "Done!\n"
          ],
          "name": "stdout"
        }
      ]
    },
    {
      "cell_type": "markdown",
      "metadata": {
        "id": "250xFrtPF3Nk"
      },
      "source": [
        "- Definite loops loop over a defined number of times"
      ]
    },
    {
      "cell_type": "code",
      "metadata": {
        "colab": {
          "base_uri": "https://localhost:8080/"
        },
        "id": "aUnce0HJGCgt",
        "outputId": "a0b79286-4a0e-4cbf-e27e-9e9714167ce7"
      },
      "source": [
        "for i in [3, 2, 1]:\n",
        "  print(i)\n",
        "print('Blastoff!')"
      ],
      "execution_count": null,
      "outputs": [
        {
          "output_type": "stream",
          "text": [
            "3\n",
            "2\n",
            "1\n",
            "Blastoff!\n"
          ],
          "name": "stdout"
        }
      ]
    },
    {
      "cell_type": "code",
      "metadata": {
        "colab": {
          "base_uri": "https://localhost:8080/"
        },
        "id": "CJ74FmucGV5P",
        "outputId": "e914cae9-216c-4059-8a39-8b4ad50ef3e7"
      },
      "source": [
        "friends = ['A', 'B', 'C']\n",
        "for friend in friends:\n",
        "  print('Happy New Year:', friend)\n",
        "print('I\\'m done with all of you')"
      ],
      "execution_count": null,
      "outputs": [
        {
          "output_type": "stream",
          "text": [
            "Happy New Year: A\n",
            "Happy New Year: B\n",
            "Happy New Year: C\n",
            "I'm done with all of you\n"
          ],
          "name": "stdout"
        }
      ]
    },
    {
      "cell_type": "code",
      "metadata": {
        "colab": {
          "base_uri": "https://localhost:8080/"
        },
        "id": "LtktfJiyImlG",
        "outputId": "07060dc9-d849-4d83-cf3a-2d2859efa976"
      },
      "source": [
        "smallest = None\n",
        "print(\"Before:\", smallest)\n",
        "for itervar in [3, 41, 12, 9, 74, 15]:\n",
        "    if smallest is None or itervar < smallest:\n",
        "        smallest = itervar\n",
        "    print(\"Loop:\", itervar, smallest)\n",
        "print(\"Smallest:\", smallest)"
      ],
      "execution_count": null,
      "outputs": [
        {
          "output_type": "stream",
          "text": [
            "Before: None\n",
            "Loop: 3 3\n",
            "Loop: 41 3\n",
            "Loop: 12 3\n",
            "Loop: 9 3\n",
            "Loop: 74 3\n",
            "Loop: 15 3\n",
            "Smallest: 3\n"
          ],
          "name": "stdout"
        }
      ]
    },
    {
      "cell_type": "markdown",
      "metadata": {
        "id": "Mw2_JrcPXIez"
      },
      "source": [
        "**Strings**\n",
        "- Can be converted to number using int()\n",
        "- Can get single character using index in square bracket.\n",
        "- Index beyond the end of a string will give error.\n",
        "- `len` gives length of string. Can be use to loop through strings with `while`."
      ]
    },
    {
      "cell_type": "code",
      "metadata": {
        "colab": {
          "base_uri": "https://localhost:8080/",
          "height": 36
        },
        "id": "zUnXlMEvXmEw",
        "outputId": "b9821ef5-ed2a-48a5-aac9-c417d79dac6a"
      },
      "source": [
        "\"banana\"[0]"
      ],
      "execution_count": null,
      "outputs": [
        {
          "output_type": "execute_result",
          "data": {
            "application/vnd.google.colaboratory.intrinsic+json": {
              "type": "string"
            },
            "text/plain": [
              "'b'"
            ]
          },
          "metadata": {
            "tags": []
          },
          "execution_count": 2
        }
      ]
    },
    {
      "cell_type": "code",
      "metadata": {
        "colab": {
          "base_uri": "https://localhost:8080/"
        },
        "id": "cdo4vA66YMYt",
        "outputId": "db0239f1-68d4-4892-fdef-8e8f4b72d7d5"
      },
      "source": [
        "len('banana')"
      ],
      "execution_count": null,
      "outputs": [
        {
          "output_type": "execute_result",
          "data": {
            "text/plain": [
              "6"
            ]
          },
          "metadata": {
            "tags": []
          },
          "execution_count": 3
        }
      ]
    },
    {
      "cell_type": "code",
      "metadata": {
        "colab": {
          "base_uri": "https://localhost:8080/"
        },
        "id": "HKzPBtiyY987",
        "outputId": "2539c720-c180-442b-e04d-b95c4d6acdff"
      },
      "source": [
        "word = 'banana'\n",
        "count = 0\n",
        "for letter in word:\n",
        "  if letter == 'a':\n",
        "    count = count + 1\n",
        "print(count)"
      ],
      "execution_count": null,
      "outputs": [
        {
          "output_type": "stream",
          "text": [
            "3\n"
          ],
          "name": "stdout"
        }
      ]
    },
    {
      "cell_type": "markdown",
      "metadata": {
        "id": "dxvZYJmbdC8W"
      },
      "source": [
        "- Slice with colon operator. The second number is \"upto but not including\".\n",
        "- If the second number is beyond the end of the string, it stops at the end."
      ]
    },
    {
      "cell_type": "code",
      "metadata": {
        "colab": {
          "base_uri": "https://localhost:8080/",
          "height": 36
        },
        "id": "LKpzbn0wdbxw",
        "outputId": "e0236489-59a3-4d25-ba00-1d0aa0205e99"
      },
      "source": [
        "'Monty Python'[0:5]"
      ],
      "execution_count": null,
      "outputs": [
        {
          "output_type": "execute_result",
          "data": {
            "application/vnd.google.colaboratory.intrinsic+json": {
              "type": "string"
            },
            "text/plain": [
              "'Monty'"
            ]
          },
          "metadata": {
            "tags": []
          },
          "execution_count": 9
        }
      ]
    },
    {
      "cell_type": "code",
      "metadata": {
        "colab": {
          "base_uri": "https://localhost:8080/",
          "height": 36
        },
        "id": "n9X2joz4di2l",
        "outputId": "546798e9-5cf2-45b2-fd23-589e5e2d2089"
      },
      "source": [
        "'Monty Python'[6:20]"
      ],
      "execution_count": null,
      "outputs": [
        {
          "output_type": "execute_result",
          "data": {
            "application/vnd.google.colaboratory.intrinsic+json": {
              "type": "string"
            },
            "text/plain": [
              "'Python'"
            ]
          },
          "metadata": {
            "tags": []
          },
          "execution_count": 7
        }
      ]
    },
    {
      "cell_type": "code",
      "metadata": {
        "colab": {
          "base_uri": "https://localhost:8080/",
          "height": 36
        },
        "id": "GY7A28nwdt15",
        "outputId": "6f71c90f-4bd9-4b72-cce6-dceb1835d681"
      },
      "source": [
        "'Monty Python'[6:7]"
      ],
      "execution_count": null,
      "outputs": [
        {
          "output_type": "execute_result",
          "data": {
            "application/vnd.google.colaboratory.intrinsic+json": {
              "type": "string"
            },
            "text/plain": [
              "'P'"
            ]
          },
          "metadata": {
            "tags": []
          },
          "execution_count": 10
        }
      ]
    },
    {
      "cell_type": "markdown",
      "metadata": {
        "id": "QqoIbrwZeFng"
      },
      "source": [
        "- `+` means \"concatenate\""
      ]
    },
    {
      "cell_type": "code",
      "metadata": {
        "colab": {
          "base_uri": "https://localhost:8080/"
        },
        "id": "CQenp_YJeGXG",
        "outputId": "8f41b934-0809-4621-e671-15f7d438be7e"
      },
      "source": [
        "a = 'Hello'\n",
        "print(a + 'There')\n",
        "print(a + ' ' + 'There')"
      ],
      "execution_count": null,
      "outputs": [
        {
          "output_type": "stream",
          "text": [
            "HelloThere\n",
            "Hello There\n"
          ],
          "name": "stdout"
        }
      ]
    },
    {
      "cell_type": "markdown",
      "metadata": {
        "id": "3kaEROsKecuK"
      },
      "source": [
        "- `in` as logical operator.\n",
        "- string comparison with `>`, `<`, `==` is case sensitive and weird."
      ]
    },
    {
      "cell_type": "code",
      "metadata": {
        "colab": {
          "base_uri": "https://localhost:8080/"
        },
        "id": "ESAuEcjZerat",
        "outputId": "142240f3-0f69-4f03-9f01-9a34c4b6f3b2"
      },
      "source": [
        "'n' in 'banana'"
      ],
      "execution_count": null,
      "outputs": [
        {
          "output_type": "execute_result",
          "data": {
            "text/plain": [
              "True"
            ]
          },
          "metadata": {
            "tags": []
          },
          "execution_count": 12
        }
      ]
    },
    {
      "cell_type": "markdown",
      "metadata": {
        "id": "8sSZwOSae_EG"
      },
      "source": [
        "- functions built-in for string (string library)\n",
        "- appending the function to string variable.\n",
        "- do not modify original string. resturn a new string that has been altered."
      ]
    },
    {
      "cell_type": "code",
      "metadata": {
        "colab": {
          "base_uri": "https://localhost:8080/"
        },
        "id": "CTtKQxa-ff4s",
        "outputId": "70d387f1-fc7f-4698-b2db-9ced6995e02f"
      },
      "source": [
        "greet = 'Hello'\n",
        "zap = greet.lower()\n",
        "print(greet)\n",
        "print(zap)\n"
      ],
      "execution_count": null,
      "outputs": [
        {
          "output_type": "stream",
          "text": [
            "Hello\n",
            "hello\n"
          ],
          "name": "stdout"
        }
      ]
    },
    {
      "cell_type": "markdown",
      "metadata": {
        "id": "bP1anEDcgX0g"
      },
      "source": [
        "- Use `type` to check class of an object and `dir` to see method associated with that."
      ]
    },
    {
      "cell_type": "code",
      "metadata": {
        "colab": {
          "base_uri": "https://localhost:8080/"
        },
        "id": "o47FiX9ign1I",
        "outputId": "5609a79d-077c-4d24-d9b5-02b3fb90b6d8"
      },
      "source": [
        "stuff = 'Hello World'\n",
        "print(type(stuff))\n",
        "print(dir(stuff))"
      ],
      "execution_count": null,
      "outputs": [
        {
          "output_type": "stream",
          "text": [
            "<class 'str'>\n",
            "['__add__', '__class__', '__contains__', '__delattr__', '__dir__', '__doc__', '__eq__', '__format__', '__ge__', '__getattribute__', '__getitem__', '__getnewargs__', '__gt__', '__hash__', '__init__', '__init_subclass__', '__iter__', '__le__', '__len__', '__lt__', '__mod__', '__mul__', '__ne__', '__new__', '__reduce__', '__reduce_ex__', '__repr__', '__rmod__', '__rmul__', '__setattr__', '__sizeof__', '__str__', '__subclasshook__', 'capitalize', 'casefold', 'center', 'count', 'encode', 'endswith', 'expandtabs', 'find', 'format', 'format_map', 'index', 'isalnum', 'isalpha', 'isascii', 'isdecimal', 'isdigit', 'isidentifier', 'islower', 'isnumeric', 'isprintable', 'isspace', 'istitle', 'isupper', 'join', 'ljust', 'lower', 'lstrip', 'maketrans', 'partition', 'replace', 'rfind', 'rindex', 'rjust', 'rpartition', 'rsplit', 'rstrip', 'split', 'splitlines', 'startswith', 'strip', 'swapcase', 'title', 'translate', 'upper', 'zfill']\n"
          ],
          "name": "stdout"
        }
      ]
    },
    {
      "cell_type": "markdown",
      "metadata": {
        "id": "p_Ani-mThGBk"
      },
      "source": [
        "- Search a string with `find`, which rturn first occurence of the substring.\n",
        "- if substring not found, `find` return -1.\n",
        "- Can be used for parsing and extracting."
      ]
    },
    {
      "cell_type": "code",
      "metadata": {
        "colab": {
          "base_uri": "https://localhost:8080/"
        },
        "id": "wDK_-XzNheFE",
        "outputId": "62fdbeb1-e996-4ebf-8dd1-9ca705f77cc2"
      },
      "source": [
        "'banana'.find('na')"
      ],
      "execution_count": null,
      "outputs": [
        {
          "output_type": "execute_result",
          "data": {
            "text/plain": [
              "2"
            ]
          },
          "metadata": {
            "tags": []
          },
          "execution_count": 16
        }
      ]
    },
    {
      "cell_type": "code",
      "metadata": {
        "colab": {
          "base_uri": "https://localhost:8080/"
        },
        "id": "24SJFxzbjqmE",
        "outputId": "d404718c-e19f-44e3-9b98-1066bc605ea7"
      },
      "source": [
        "data = 'From asdfdsf@dfsd.com Sat Jan 09:09:09 2009'\n",
        "atpos = data.find('@')\n",
        "sppos = data.find(' ', atpos)\n",
        "host = data[atpos + 1 : sppos]\n",
        "print(host)"
      ],
      "execution_count": null,
      "outputs": [
        {
          "output_type": "stream",
          "text": [
            "dfsd.com\n"
          ],
          "name": "stdout"
        }
      ]
    },
    {
      "cell_type": "markdown",
      "metadata": {
        "id": "yk3sP46Rhw1L"
      },
      "source": [
        "- `replace` will search and replace all occurence of the search string with replacement string."
      ]
    },
    {
      "cell_type": "code",
      "metadata": {
        "colab": {
          "base_uri": "https://localhost:8080/",
          "height": 36
        },
        "id": "c4qmC-jwh9Ba",
        "outputId": "438a9698-04dc-4ecb-8a01-6c484e5e572f"
      },
      "source": [
        "greet = 'Hello Bob'\n",
        "greet.replace('o', 'a')"
      ],
      "execution_count": null,
      "outputs": [
        {
          "output_type": "execute_result",
          "data": {
            "application/vnd.google.colaboratory.intrinsic+json": {
              "type": "string"
            },
            "text/plain": [
              "'Hella Bab'"
            ]
          },
          "metadata": {
            "tags": []
          },
          "execution_count": 17
        }
      ]
    },
    {
      "cell_type": "markdown",
      "metadata": {
        "id": "Ms8L-rbLiWg9"
      },
      "source": [
        "- strip whitespace with `lstrip` (left), `rstrip` (right) and `strip` (both sides)"
      ]
    },
    {
      "cell_type": "code",
      "metadata": {
        "colab": {
          "base_uri": "https://localhost:8080/"
        },
        "id": "QzGHn6hgigw7",
        "outputId": "67cf3db5-014c-4e60-b0b9-0da5a3a19a09"
      },
      "source": [
        "greet = '  Hello   '\n",
        "print(greet.lstrip())\n",
        "print(greet.rstrip())\n",
        "print(greet.strip())"
      ],
      "execution_count": null,
      "outputs": [
        {
          "output_type": "stream",
          "text": [
            "Hello   \n",
            "  Hello\n",
            "Hello\n"
          ],
          "name": "stdout"
        }
      ]
    },
    {
      "cell_type": "markdown",
      "metadata": {
        "id": "uV8bR5umjC0t"
      },
      "source": [
        "- prefixes check with `startswith`"
      ]
    },
    {
      "cell_type": "code",
      "metadata": {
        "colab": {
          "base_uri": "https://localhost:8080/"
        },
        "id": "FmYESsXcjJw5",
        "outputId": "06df5e85-cbff-4c2f-d135-d6038b26c2ac"
      },
      "source": [
        "'Hello Bob'.startswith('Hell')"
      ],
      "execution_count": null,
      "outputs": [
        {
          "output_type": "execute_result",
          "data": {
            "text/plain": [
              "True"
            ]
          },
          "metadata": {
            "tags": []
          },
          "execution_count": 19
        }
      ]
    },
    {
      "cell_type": "markdown",
      "metadata": {
        "id": "r1d2WU03lc1Y"
      },
      "source": [
        "**Reading files**\n",
        "- First, tell python which file we are going to work with and what we will be doing with the file. Use `open()`. Open returns a file handle."
      ]
    },
    {
      "cell_type": "code",
      "metadata": {
        "id": "LvB3pDvilhSl"
      },
      "source": [
        "handle = open(filename, mode)\n",
        "# mode is optional, 'r' for read or 'w' for write."
      ],
      "execution_count": null,
      "outputs": []
    },
    {
      "cell_type": "markdown",
      "metadata": {
        "id": "W1O_fSxHqIPG"
      },
      "source": [
        "- Newline character `\\n`. Work in `print` but not when the variable is called. Count as one character."
      ]
    },
    {
      "cell_type": "code",
      "metadata": {
        "colab": {
          "base_uri": "https://localhost:8080/",
          "height": 36
        },
        "id": "GpeVjXSrqHj6",
        "outputId": "0e485f6a-228c-4412-fdf5-22621898a55e"
      },
      "source": [
        "stuff = 'Hello\\nWorld!'\n",
        "stuff"
      ],
      "execution_count": 1,
      "outputs": [
        {
          "output_type": "execute_result",
          "data": {
            "application/vnd.google.colaboratory.intrinsic+json": {
              "type": "string"
            },
            "text/plain": [
              "'Hello\\nWorld!'"
            ]
          },
          "metadata": {
            "tags": []
          },
          "execution_count": 1
        }
      ]
    },
    {
      "cell_type": "code",
      "metadata": {
        "colab": {
          "base_uri": "https://localhost:8080/"
        },
        "id": "F_XMtpINqHXo",
        "outputId": "d7bbe176-2cde-4375-c8bc-2d1c1ff83432"
      },
      "source": [
        "print(stuff)"
      ],
      "execution_count": 2,
      "outputs": [
        {
          "output_type": "stream",
          "text": [
            "Hello\n",
            "World!\n"
          ],
          "name": "stdout"
        }
      ]
    },
    {
      "cell_type": "markdown",
      "metadata": {
        "id": "NfCPa3Z60bUu"
      },
      "source": [
        "- File handle can be treated as sequence (ordered set) where each line is a string. Can use `for` statement to iterate through."
      ]
    },
    {
      "cell_type": "code",
      "metadata": {
        "id": "x2OJoKNr0sg9"
      },
      "source": [
        "xfile = open('mbox.txt')\n",
        "for cheese in xfile:\n",
        "  print(cheese)"
      ],
      "execution_count": null,
      "outputs": []
    },
    {
      "cell_type": "code",
      "metadata": {
        "id": "rIr4BLRX1Ciu"
      },
      "source": [
        "# counting lines in a file\n",
        "fhand = open('mbox.txt')\n",
        "count = 0\n",
        "for line in fhand:\n",
        "  count = count + 1\n",
        "print('Line Count: ', count)"
      ],
      "execution_count": null,
      "outputs": []
    },
    {
      "cell_type": "code",
      "metadata": {
        "id": "Ue7nF4Vl1-mO"
      },
      "source": [
        "# seaching through file\n",
        "fhand = open('mbox.txt')\n",
        "for line in fhand:\n",
        "  if line.startswith('From:'):\n",
        "    print(line.rstrip())\n",
        "\n",
        "# the print statement will add an addional \\n to each line"
      ],
      "execution_count": null,
      "outputs": []
    },
    {
      "cell_type": "code",
      "metadata": {
        "id": "1n1Tni_L27U-"
      },
      "source": [
        "# use in to select line\n",
        "fhand = open('mbox.txt')\n",
        "for line in fhand:\n",
        "  if not 'abc@.ac.ab' in line:\n",
        "    continue # skip line that doesn't have the needed text\n",
        "  print(line.rstrip())\n"
      ],
      "execution_count": null,
      "outputs": []
    },
    {
      "cell_type": "markdown",
      "metadata": {
        "id": "Ms7MswFS1cpZ"
      },
      "source": [
        "- Can read whole file into a single string"
      ]
    },
    {
      "cell_type": "code",
      "metadata": {
        "id": "Cr9YUTEh1iQo"
      },
      "source": [
        "fhand = open('mbox.txt')\n",
        "inp = fhand.read()"
      ],
      "execution_count": null,
      "outputs": []
    },
    {
      "cell_type": "markdown",
      "metadata": {
        "id": "qTCoM_4C3rp3"
      },
      "source": [
        "- Check for bad files\n"
      ]
    },
    {
      "cell_type": "code",
      "metadata": {
        "colab": {
          "base_uri": "https://localhost:8080/"
        },
        "id": "Xa9m7HZn3wJV",
        "outputId": "cc62aa40-0e2c-4768-97db-d0d8833c869b"
      },
      "source": [
        "fname = input('Enter the file name: ')\n",
        "try:\n",
        "  fhand = open(fname)\n",
        "except:\n",
        "  print('File cannot be opened:', fname)\n",
        "  quit()"
      ],
      "execution_count": 1,
      "outputs": [
        {
          "output_type": "stream",
          "text": [
            "Enter the file name: as.txt\n",
            "File cannot be opened: as.txt\n"
          ],
          "name": "stdout"
        }
      ]
    },
    {
      "cell_type": "markdown",
      "metadata": {
        "id": "6-vlSofA6fDW"
      },
      "source": [
        "**Lists**\n",
        "- a kind of collection\n",
        "- allow us to put many values inside a single 'variable', which is nice as a convenient package.\n",
        "- list constant are surrounded by square brackets and the elements are separated by commas.\n",
        "- a list element can be any Python object, even another list.\n",
        "- list can be empty.\n",
        "- Lists are great for definite loops."
      ]
    },
    {
      "cell_type": "code",
      "metadata": {
        "id": "n9ehNVTb7FE-"
      },
      "source": [
        "friends = ['Monica', 'Rachel', 'Phoebe']"
      ],
      "execution_count": 1,
      "outputs": []
    },
    {
      "cell_type": "markdown",
      "metadata": {
        "id": "3qiuNft78DHY"
      },
      "source": [
        "- get element using square bracket"
      ]
    },
    {
      "cell_type": "code",
      "metadata": {
        "colab": {
          "base_uri": "https://localhost:8080/"
        },
        "id": "OD2GpQVr8Ks_",
        "outputId": "c18e9ea9-e45c-45ac-817e-e6f550c7296d"
      },
      "source": [
        "x = [1, 2, \"a\"]\n",
        "print(x[1])"
      ],
      "execution_count": 2,
      "outputs": [
        {
          "output_type": "stream",
          "text": [
            "2\n"
          ],
          "name": "stdout"
        }
      ]
    },
    {
      "cell_type": "markdown",
      "metadata": {
        "id": "Cz7Vrzg88anZ"
      },
      "source": [
        "- lists are 'mutable' and we can change an element of a list using the index operator.\n",
        "- (remember that strings are immutable)"
      ]
    },
    {
      "cell_type": "code",
      "metadata": {
        "colab": {
          "base_uri": "https://localhost:8080/"
        },
        "id": "GHMFz0TO8ova",
        "outputId": "1ac35f95-ed8f-4213-c72c-9486dbc88f32"
      },
      "source": [
        "y = [1, 2, 3, 4, 5]\n",
        "print(y)\n",
        "y[2] = 'three'\n",
        "print(y)"
      ],
      "execution_count": 4,
      "outputs": [
        {
          "output_type": "stream",
          "text": [
            "[1, 2, 3, 4, 5]\n",
            "[1, 2, 'three', 4, 5]\n"
          ],
          "name": "stdout"
        }
      ]
    },
    {
      "cell_type": "markdown",
      "metadata": {
        "id": "nq5r1paP9Evl"
      },
      "source": [
        "- use `len` to count the number of elements in a list or a string or any set or sequence."
      ]
    },
    {
      "cell_type": "code",
      "metadata": {
        "colab": {
          "base_uri": "https://localhost:8080/"
        },
        "id": "-aU6rpBs9Oy3",
        "outputId": "2a38adce-05b5-4bee-9241-fd9c19a1046e"
      },
      "source": [
        "z = [1, 2, 3, 4, 'a', 'b']\n",
        "len(z)"
      ],
      "execution_count": 5,
      "outputs": [
        {
          "output_type": "execute_result",
          "data": {
            "text/plain": [
              "6"
            ]
          },
          "metadata": {
            "tags": []
          },
          "execution_count": 5
        }
      ]
    },
    {
      "cell_type": "markdown",
      "metadata": {
        "id": "kKFkbIJ_9iep"
      },
      "source": [
        "- `range` returns a list of number that range from zero to one less than the parameter."
      ]
    },
    {
      "cell_type": "code",
      "metadata": {
        "colab": {
          "base_uri": "https://localhost:8080/"
        },
        "id": "rGu5SqwA9xt2",
        "outputId": "11ad2c4e-d0d1-4838-8949-554e896069d3"
      },
      "source": [
        "print(range(4))\n",
        "friends = ['Ross', 'Joey', 'Chandler']\n",
        "print(range(len(friends)))"
      ],
      "execution_count": 6,
      "outputs": [
        {
          "output_type": "stream",
          "text": [
            "range(0, 4)\n",
            "range(0, 3)\n"
          ],
          "name": "stdout"
        }
      ]
    },
    {
      "cell_type": "markdown",
      "metadata": {
        "id": "d4n9kbfWACFn"
      },
      "source": [
        "- Use `+` to concatenate list\n",
        "- Slice using index"
      ]
    },
    {
      "cell_type": "code",
      "metadata": {
        "colab": {
          "base_uri": "https://localhost:8080/"
        },
        "id": "apVKDjgdAMXn",
        "outputId": "13dae60c-e4e3-47d1-a433-9a7e65ceabd4"
      },
      "source": [
        "x = [1, 2, 3, 4]\n",
        "y = ['a', 'b', 'c', 'd']\n",
        "z = x + y\n",
        "print(z)\n",
        "print(z[2:6])\n",
        "print(z[3:])\n"
      ],
      "execution_count": 9,
      "outputs": [
        {
          "output_type": "stream",
          "text": [
            "[1, 2, 3, 4, 'a', 'b', 'c', 'd']\n",
            "[3, 4, 'a', 'b']\n",
            "[4, 'a', 'b', 'c', 'd']\n"
          ],
          "name": "stdout"
        }
      ]
    },
    {
      "cell_type": "markdown",
      "metadata": {
        "id": "CIsfVmX7AuqI"
      },
      "source": [
        "- list methods"
      ]
    },
    {
      "cell_type": "code",
      "metadata": {
        "colab": {
          "base_uri": "https://localhost:8080/"
        },
        "id": "jskCnl0nAwyx",
        "outputId": "bfdbbf75-dd8b-434c-c75c-61098a612a02"
      },
      "source": [
        "x = list()\n",
        "print(type(x))\n",
        "print(dir(x))"
      ],
      "execution_count": 12,
      "outputs": [
        {
          "output_type": "stream",
          "text": [
            "<class 'list'>\n",
            "['__add__', '__class__', '__contains__', '__delattr__', '__delitem__', '__dir__', '__doc__', '__eq__', '__format__', '__ge__', '__getattribute__', '__getitem__', '__gt__', '__hash__', '__iadd__', '__imul__', '__init__', '__init_subclass__', '__iter__', '__le__', '__len__', '__lt__', '__mul__', '__ne__', '__new__', '__reduce__', '__reduce_ex__', '__repr__', '__reversed__', '__rmul__', '__setattr__', '__setitem__', '__sizeof__', '__str__', '__subclasshook__', 'append', 'clear', 'copy', 'count', 'extend', 'index', 'insert', 'pop', 'remove', 'reverse', 'sort']\n"
          ],
          "name": "stdout"
        }
      ]
    },
    {
      "cell_type": "code",
      "metadata": {
        "colab": {
          "base_uri": "https://localhost:8080/"
        },
        "id": "cdkO2wzNBEOw",
        "outputId": "0d756b9b-813b-40af-ffda-f133417ec79a"
      },
      "source": [
        "# append add element to the end of the list\n",
        "stuff = list()\n",
        "stuff.append('book')\n",
        "stuff.append(99)\n",
        "stuff.append('cookie')\n",
        "print(stuff)"
      ],
      "execution_count": 13,
      "outputs": [
        {
          "output_type": "stream",
          "text": [
            "['book', 99, 'cookie']\n"
          ],
          "name": "stdout"
        }
      ]
    },
    {
      "cell_type": "markdown",
      "metadata": {
        "id": "GSYe2ThsBcqc"
      },
      "source": [
        "- `in` and `not in` operators"
      ]
    },
    {
      "cell_type": "code",
      "metadata": {
        "colab": {
          "base_uri": "https://localhost:8080/"
        },
        "id": "kT5xJmgPBh6w",
        "outputId": "f7d62a64-6416-4dcd-ec86-27ca9aeca16b"
      },
      "source": [
        "some = [1, 2, 3, 5, 8, 13]\n",
        "print(3 in some)\n",
        "print(15 in some)\n",
        "print(20 not in some)"
      ],
      "execution_count": 14,
      "outputs": [
        {
          "output_type": "stream",
          "text": [
            "True\n",
            "False\n",
            "True\n"
          ],
          "name": "stdout"
        }
      ]
    },
    {
      "cell_type": "markdown",
      "metadata": {
        "id": "6LQsU2tLCB7E"
      },
      "source": [
        "- built-in functions for lists"
      ]
    },
    {
      "cell_type": "code",
      "metadata": {
        "colab": {
          "base_uri": "https://localhost:8080/"
        },
        "id": "uPNUONn7CGCq",
        "outputId": "ecb82a8f-088a-48d0-a649-71c54113a172"
      },
      "source": [
        "nums = (1, 3, 4, 7, 11, 18)\n",
        "print(len(nums))\n",
        "print(max(nums))\n",
        "print(min(nums))\n",
        "print(sum(nums))\n",
        "print(sum(nums)/len(nums))"
      ],
      "execution_count": 15,
      "outputs": [
        {
          "output_type": "stream",
          "text": [
            "6\n",
            "18\n",
            "1\n",
            "44\n",
            "7.333333333333333\n"
          ],
          "name": "stdout"
        }
      ]
    },
    {
      "cell_type": "code",
      "metadata": {
        "colab": {
          "base_uri": "https://localhost:8080/"
        },
        "id": "aUalpJdhCmTE",
        "outputId": "34b30e87-1152-4090-d4ee-f8435b6ee901"
      },
      "source": [
        "numlist = list()\n",
        "while True:\n",
        "  inp = input('Enter a number: ')\n",
        "  if inp == 'done': break\n",
        "  value = float(inp)\n",
        "  numlist.append(value)\n",
        "2\n",
        "average = sum(numlist) / len(numlist)\n",
        "print('Entered:', numlist)\n",
        "print('Average:', average)"
      ],
      "execution_count": 19,
      "outputs": [
        {
          "output_type": "stream",
          "text": [
            "Enter a number: 1\n",
            "Enter a number: 2\n",
            "Enter a number: 3\n",
            "Enter a number: 4\n",
            "Enter a number: 5\n",
            "Enter a number: done\n",
            "Entered: [1.0, 2.0, 3.0, 4.0, 5.0]\n",
            "Average: 3.0\n"
          ],
          "name": "stdout"
        }
      ]
    },
    {
      "cell_type": "markdown",
      "metadata": {
        "id": "8BdVShpcDvln"
      },
      "source": [
        "String and list\n",
        "- `split` break a string into parts and produce list of strings (words).\n",
        "- when delimiter not specified, multiple spaces are treated as one delimiter.\n",
        "- can specify other delimiter for splitting"
      ]
    },
    {
      "cell_type": "code",
      "metadata": {
        "colab": {
          "base_uri": "https://localhost:8080/"
        },
        "id": "5LdwluILEAYT",
        "outputId": "15e6e417-4313-43df-f936-a9a5851bdf22"
      },
      "source": [
        "abc = 'With three words'\n",
        "stuff = abc.split()\n",
        "print(stuff)\n",
        "print(stuff[1])\n",
        "for w in stuff:\n",
        "  print(w)\n"
      ],
      "execution_count": 20,
      "outputs": [
        {
          "output_type": "stream",
          "text": [
            "['With', 'three', 'words']\n",
            "three\n",
            "With\n",
            "three\n",
            "words\n"
          ],
          "name": "stdout"
        }
      ]
    },
    {
      "cell_type": "code",
      "metadata": {
        "colab": {
          "base_uri": "https://localhost:8080/"
        },
        "id": "tYOkgcSXE1NF",
        "outputId": "4bb66588-db23-45e2-a607-a00ce8d313e2"
      },
      "source": [
        "line = 'A lot                   of space'\n",
        "print(line.split())"
      ],
      "execution_count": 21,
      "outputs": [
        {
          "output_type": "stream",
          "text": [
            "['A', 'lot', 'of', 'space']\n"
          ],
          "name": "stdout"
        }
      ]
    },
    {
      "cell_type": "code",
      "metadata": {
        "colab": {
          "base_uri": "https://localhost:8080/"
        },
        "id": "b-fMHXoHFB-v",
        "outputId": "45b71546-514e-4dbc-a6f6-fa9d632778ab"
      },
      "source": [
        "line = 'first;second;third'\n",
        "print(line.split(';'))"
      ],
      "execution_count": 22,
      "outputs": [
        {
          "output_type": "stream",
          "text": [
            "['first', 'second', 'third']\n"
          ],
          "name": "stdout"
        }
      ]
    },
    {
      "cell_type": "code",
      "metadata": {
        "colab": {
          "base_uri": "https://localhost:8080/"
        },
        "id": "xqnih_stFaLJ",
        "outputId": "796ea1ae-7d9e-42ec-89b3-26cc7326099b"
      },
      "source": [
        "line = 'first;;second;;;third'\n",
        "print(line.split(';'))"
      ],
      "execution_count": 23,
      "outputs": [
        {
          "output_type": "stream",
          "text": [
            "['first', '', 'second', '', '', 'third']\n"
          ],
          "name": "stdout"
        }
      ]
    }
  ]
}