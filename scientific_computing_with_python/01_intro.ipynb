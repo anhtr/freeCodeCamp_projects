{
  "nbformat": 4,
  "nbformat_minor": 0,
  "metadata": {
    "colab": {
      "name": "01_intro.ipynb",
      "provenance": [],
      "collapsed_sections": [],
      "mount_file_id": "1baYqvabosm4cRIzI_0aurqC-jCXg-uLi",
      "authorship_tag": "ABX9TyMUD8DZnYAV7tBvGLg78wsm",
      "include_colab_link": true
    },
    "kernelspec": {
      "name": "python3",
      "display_name": "Python 3"
    },
    "language_info": {
      "name": "python"
    }
  },
  "cells": [
    {
      "cell_type": "markdown",
      "metadata": {
        "id": "view-in-github",
        "colab_type": "text"
      },
      "source": [
        "<a href=\"https://colab.research.google.com/github/anhtr/freeCodeCamp_projects/blob/master/scientific_computing_with_python/01_intro.ipynb\" target=\"_parent\"><img src=\"https://colab.research.google.com/assets/colab-badge.svg\" alt=\"Open In Colab\"/></a>"
      ]
    },
    {
      "cell_type": "markdown",
      "metadata": {
        "id": "wlgT12Suv9-h"
      },
      "source": [
        "**Simple assigning and printing**"
      ]
    },
    {
      "cell_type": "code",
      "metadata": {
        "id": "6kwUA4ZDuLOA",
        "colab": {
          "base_uri": "https://localhost:8080/"
        },
        "outputId": "a2d2dac3-a1db-4420-f020-04f1a643ba39"
      },
      "source": [
        "x = 6\n",
        "print(x)"
      ],
      "execution_count": 33,
      "outputs": [
        {
          "output_type": "stream",
          "text": [
            "6\n"
          ],
          "name": "stdout"
        }
      ]
    },
    {
      "cell_type": "code",
      "metadata": {
        "colab": {
          "base_uri": "https://localhost:8080/"
        },
        "id": "CsjmZfniw5xx",
        "outputId": "f0e1a5a8-3e97-4b90-9819-30db4d766aa2"
      },
      "source": [
        "x = 43\n",
        "x = x + 1\n",
        "print(x)"
      ],
      "execution_count": 34,
      "outputs": [
        {
          "output_type": "stream",
          "text": [
            "44\n"
          ],
          "name": "stdout"
        }
      ]
    },
    {
      "cell_type": "markdown",
      "metadata": {
        "id": "2HnHmzYux5tk"
      },
      "source": [
        "**Operator precidence rules**\n",
        "1. Parentheses ()\n",
        "2. Exponentiation **\n",
        "3. Multiplication *, division /, remainder %\n",
        "4. Addition +, substraction -\n",
        "5. Left to right"
      ]
    },
    {
      "cell_type": "code",
      "metadata": {
        "colab": {
          "base_uri": "https://localhost:8080/"
        },
        "id": "OwdeyotbxyP0",
        "outputId": "00c788a4-381e-4587-bc4c-109eb33872a8"
      },
      "source": [
        "1 + 2 * 3**3 + 4 / 6 % 5"
      ],
      "execution_count": 35,
      "outputs": [
        {
          "output_type": "execute_result",
          "data": {
            "text/plain": [
              "55.666666666666664"
            ]
          },
          "metadata": {
            "tags": []
          },
          "execution_count": 35
        }
      ]
    },
    {
      "cell_type": "markdown",
      "metadata": {
        "id": "8eLzQBVJzcuI"
      },
      "source": [
        "**Types**: int vs float"
      ]
    },
    {
      "cell_type": "code",
      "metadata": {
        "id": "8PXfHjTazf_p",
        "colab": {
          "base_uri": "https://localhost:8080/"
        },
        "outputId": "4399456c-a7d9-49b3-ec18-b8123f353056"
      },
      "source": [
        "type(1) # int\n",
        "type(98.6) # float\n",
        "type(3/2) # float\n",
        "type(4/2) # float\n",
        "type(float(10) + int(1)) # float"
      ],
      "execution_count": 36,
      "outputs": [
        {
          "output_type": "execute_result",
          "data": {
            "text/plain": [
              "float"
            ]
          },
          "metadata": {
            "tags": []
          },
          "execution_count": 36
        }
      ]
    },
    {
      "cell_type": "markdown",
      "metadata": {
        "id": "6YTvjGXi0of6"
      },
      "source": [
        "Types: numeric-string conversion"
      ]
    },
    {
      "cell_type": "code",
      "metadata": {
        "id": "JUmHgySW0nhF",
        "colab": {
          "base_uri": "https://localhost:8080/",
          "height": 205
        },
        "outputId": "a47c0ca2-6c79-4023-a733-258d6fd0d1fa"
      },
      "source": [
        "float(\"1\") # 1.0\n",
        "int(\"1\") # 1\n",
        "float(\"1a\") # ValueError: could not convert string to float: '1a'"
      ],
      "execution_count": 37,
      "outputs": [
        {
          "output_type": "error",
          "ename": "ValueError",
          "evalue": "ignored",
          "traceback": [
            "\u001b[0;31m---------------------------------------------------------------------------\u001b[0m",
            "\u001b[0;31mValueError\u001b[0m                                Traceback (most recent call last)",
            "\u001b[0;32m<ipython-input-37-f82e24b48c16>\u001b[0m in \u001b[0;36m<module>\u001b[0;34m()\u001b[0m\n\u001b[1;32m      1\u001b[0m \u001b[0mfloat\u001b[0m\u001b[0;34m(\u001b[0m\u001b[0;34m\"1\"\u001b[0m\u001b[0;34m)\u001b[0m \u001b[0;31m# 1.0\u001b[0m\u001b[0;34m\u001b[0m\u001b[0;34m\u001b[0m\u001b[0m\n\u001b[1;32m      2\u001b[0m \u001b[0mint\u001b[0m\u001b[0;34m(\u001b[0m\u001b[0;34m\"1\"\u001b[0m\u001b[0;34m)\u001b[0m \u001b[0;31m# 1\u001b[0m\u001b[0;34m\u001b[0m\u001b[0;34m\u001b[0m\u001b[0m\n\u001b[0;32m----> 3\u001b[0;31m \u001b[0mfloat\u001b[0m\u001b[0;34m(\u001b[0m\u001b[0;34m\"1a\"\u001b[0m\u001b[0;34m)\u001b[0m \u001b[0;31m# ValueError: could not convert string to float: '1a'\u001b[0m\u001b[0;34m\u001b[0m\u001b[0;34m\u001b[0m\u001b[0m\n\u001b[0m",
            "\u001b[0;31mValueError\u001b[0m: could not convert string to float: '1a'"
          ]
        }
      ]
    },
    {
      "cell_type": "markdown",
      "metadata": {
        "id": "n3d5XBbQ1Pt5"
      },
      "source": [
        "**User input**"
      ]
    },
    {
      "cell_type": "code",
      "metadata": {
        "id": "YRzlBskM0ePP",
        "colab": {
          "base_uri": "https://localhost:8080/"
        },
        "outputId": "3ae0803a-981f-43ca-b722-0af4a3aabbc8"
      },
      "source": [
        "n = input(\"Hello, what's your name? \")\n",
        "print(\"Welcome,\", n)"
      ],
      "execution_count": 38,
      "outputs": [
        {
          "output_type": "stream",
          "text": [
            "Hello, what's your name? A\n",
            "Welcome, A\n"
          ],
          "name": "stdout"
        }
      ]
    },
    {
      "cell_type": "markdown",
      "metadata": {
        "id": "Vo4ndEhjE9Sy"
      },
      "source": [
        "**Conditional Execution:**\n",
        "- has a : after if and for\n",
        "- Indent = scope\n",
        "- blank lines and comments are ignored with regard to indentation\n",
        "- Turn off tabs"
      ]
    },
    {
      "cell_type": "markdown",
      "metadata": {
        "id": "0DAKI8wOK8sM"
      },
      "source": [
        "Operators: > < == similar to R\n",
        "`is` and `is not` is stronger than == and != because they also check for type (0 is 0.0 will be False)"
      ]
    },
    {
      "cell_type": "code",
      "metadata": {
        "colab": {
          "base_uri": "https://localhost:8080/"
        },
        "id": "K2B9VpUrFfqj",
        "outputId": "0a62f327-869e-48f1-f6ad-9077faeb584d"
      },
      "source": [
        "x = 0\n",
        "if x == 0:\n",
        "  print('x is 0')\n",
        "elif x < 0:\n",
        "  print('x is less than 0')\n",
        "else:\n",
        "  print('x is more than 0')\n",
        "print('All done!')"
      ],
      "execution_count": 39,
      "outputs": [
        {
          "output_type": "stream",
          "text": [
            "x is 0\n",
            "All done!\n"
          ],
          "name": "stdout"
        }
      ]
    },
    {
      "cell_type": "markdown",
      "metadata": {
        "id": "TYZ4j8OfHFVb"
      },
      "source": [
        "Try/except\n",
        "- If code in try work,  except is skipped\n",
        "- If code in try fails, jumps to except"
      ]
    },
    {
      "cell_type": "code",
      "metadata": {
        "id": "hyBWV4MzGhjL"
      },
      "source": [
        "rawstr = input('Enter a numner:')\n",
        "try:\n",
        "  ival = int(rawstr)\n",
        "except:\n",
        "  ival = -1\n",
        "\n",
        "if ival > 0:\n",
        "  print('Nice work')\n",
        "else:\n",
        "  print('Not a number')"
      ],
      "execution_count": null,
      "outputs": []
    },
    {
      "cell_type": "markdown",
      "metadata": {
        "id": "ZP1a-2HhTQJq"
      },
      "source": [
        "**Functions**\n",
        "- Use `def` to define new function\n",
        "- Indent body of function"
      ]
    },
    {
      "cell_type": "code",
      "metadata": {
        "colab": {
          "base_uri": "https://localhost:8080/"
        },
        "id": "aid5yVE4WHEj",
        "outputId": "3e994634-c3e9-4089-b368-3e43989572ae"
      },
      "source": [
        "def add_one(x):\n",
        "  x = x + 1\n",
        "  return x\n",
        "\n",
        "y = add_one(2)\n",
        "print(y)"
      ],
      "execution_count": 4,
      "outputs": [
        {
          "output_type": "stream",
          "text": [
            "3\n"
          ],
          "name": "stdout"
        }
      ]
    },
    {
      "cell_type": "markdown",
      "metadata": {
        "id": "0jcXhy0KChFs"
      },
      "source": [
        "**Loops and iterations**\n",
        "- Beware of loops that never escape (infinite)"
      ]
    },
    {
      "cell_type": "code",
      "metadata": {
        "colab": {
          "base_uri": "https://localhost:8080/"
        },
        "id": "KIC0wUimCgMU",
        "outputId": "1e3efd0f-e6eb-4699-b494-fd5f4fffd0ff"
      },
      "source": [
        "n = 3\n",
        "while n> 0:\n",
        "  print(n)\n",
        "  n = n - 1\n",
        "print('Blast off!')"
      ],
      "execution_count": 5,
      "outputs": [
        {
          "output_type": "stream",
          "text": [
            "3\n",
            "2\n",
            "1\n",
            "Blast off!\n"
          ],
          "name": "stdout"
        }
      ]
    },
    {
      "cell_type": "markdown",
      "metadata": {
        "id": "fWFhpoG3Ejtv"
      },
      "source": [
        "- `break` to break out of the loop and jumps to the next statement following loop"
      ]
    },
    {
      "cell_type": "code",
      "metadata": {
        "colab": {
          "base_uri": "https://localhost:8080/"
        },
        "id": "CTXEV4xoD7YC",
        "outputId": "f846e3af-fe35-4517-cabb-af1cd1574749"
      },
      "source": [
        "while True:\n",
        "  line = input('> ')\n",
        "  if line == 'done':\n",
        "    break\n",
        "  print(line)\n",
        "print('Done')"
      ],
      "execution_count": 6,
      "outputs": [
        {
          "output_type": "stream",
          "text": [
            "> asd\n",
            "asd\n",
            "> erew\n",
            "erew\n",
            "> done\n",
            "Done\n"
          ],
          "name": "stdout"
        }
      ]
    },
    {
      "cell_type": "markdown",
      "metadata": {
        "id": "CxpOPxsXEmKy"
      },
      "source": [
        "- `continue` ends the current iteration and junps back to the top of the loop and start the next iteration"
      ]
    },
    {
      "cell_type": "code",
      "metadata": {
        "colab": {
          "base_uri": "https://localhost:8080/"
        },
        "id": "nKgV3VxlEy_e",
        "outputId": "4bb91541-611d-4b2a-e145-f742da2fb86f"
      },
      "source": [
        "while True:\n",
        "  line = input('> ')\n",
        "  if line[0] == '#':\n",
        "    continue\n",
        "  if line == 'done':\n",
        "    break\n",
        "  print(line)\n",
        "print('Done!')"
      ],
      "execution_count": 8,
      "outputs": [
        {
          "output_type": "stream",
          "text": [
            "> 3\n",
            "3\n",
            "> 4\n",
            "4\n",
            "> #\n",
            "> done\n",
            "Done!\n"
          ],
          "name": "stdout"
        }
      ]
    },
    {
      "cell_type": "markdown",
      "metadata": {
        "id": "250xFrtPF3Nk"
      },
      "source": [
        "- Definite loops loop over a defined number of times"
      ]
    },
    {
      "cell_type": "code",
      "metadata": {
        "colab": {
          "base_uri": "https://localhost:8080/"
        },
        "id": "aUnce0HJGCgt",
        "outputId": "779531f5-9483-4aba-b68e-251f4af9f614"
      },
      "source": [
        "for i in [3, 2, 1]:\n",
        "  print(i)\n",
        "print('Blastoff!')"
      ],
      "execution_count": 9,
      "outputs": [
        {
          "output_type": "stream",
          "text": [
            "3\n",
            "2\n",
            "1\n",
            "Blastoff!\n"
          ],
          "name": "stdout"
        }
      ]
    },
    {
      "cell_type": "code",
      "metadata": {
        "colab": {
          "base_uri": "https://localhost:8080/"
        },
        "id": "CJ74FmucGV5P",
        "outputId": "53cb1e01-52ea-4464-a3e0-5326cce0c9b5"
      },
      "source": [
        "friends = ['A', 'B', 'C']\n",
        "for friend in friends:\n",
        "  print('Happy New Year:', friend)\n",
        "print('I\\'m done with all of you')"
      ],
      "execution_count": 10,
      "outputs": [
        {
          "output_type": "stream",
          "text": [
            "Happy New Year: A\n",
            "Happy New Year: B\n",
            "Happy New Year: C\n",
            "I'm done with all of you\n"
          ],
          "name": "stdout"
        }
      ]
    },
    {
      "cell_type": "code",
      "metadata": {
        "colab": {
          "base_uri": "https://localhost:8080/"
        },
        "id": "LtktfJiyImlG",
        "outputId": "68f10529-3277-47d4-a406-4a198e642c2a"
      },
      "source": [
        "smallest = None\n",
        "print(\"Before:\", smallest)\n",
        "for itervar in [3, 41, 12, 9, 74, 15]:\n",
        "    if smallest is None or itervar < smallest:\n",
        "        smallest = itervar\n",
        "    print(\"Loop:\", itervar, smallest)\n",
        "print(\"Smallest:\", smallest)"
      ],
      "execution_count": 11,
      "outputs": [
        {
          "output_type": "stream",
          "text": [
            "Before: None\n",
            "Loop: 3 3\n",
            "Loop: 41 3\n",
            "Loop: 12 3\n",
            "Loop: 9 3\n",
            "Loop: 74 3\n",
            "Loop: 15 3\n",
            "Smallest: 3\n"
          ],
          "name": "stdout"
        }
      ]
    },
    {
      "cell_type": "markdown",
      "metadata": {
        "id": "Mw2_JrcPXIez"
      },
      "source": [
        "**Strings**\n",
        "- Can be converted to number using int()\n",
        "- Can get single character using index in square bracket.\n",
        "- Index beyond the end of a string will give error.\n",
        "- `len` gives length of string. Can be use to loop through strings with `while`."
      ]
    },
    {
      "cell_type": "code",
      "metadata": {
        "colab": {
          "base_uri": "https://localhost:8080/",
          "height": 35
        },
        "id": "zUnXlMEvXmEw",
        "outputId": "8dca985c-a942-4b80-a137-66f9d61f48d1"
      },
      "source": [
        "\"banana\"[0]"
      ],
      "execution_count": 12,
      "outputs": [
        {
          "output_type": "execute_result",
          "data": {
            "application/vnd.google.colaboratory.intrinsic+json": {
              "type": "string"
            },
            "text/plain": [
              "'b'"
            ]
          },
          "metadata": {
            "tags": []
          },
          "execution_count": 12
        }
      ]
    },
    {
      "cell_type": "code",
      "metadata": {
        "colab": {
          "base_uri": "https://localhost:8080/"
        },
        "id": "cdo4vA66YMYt",
        "outputId": "175ff77d-addd-479e-9360-a22260fabe35"
      },
      "source": [
        "len('banana')"
      ],
      "execution_count": 13,
      "outputs": [
        {
          "output_type": "execute_result",
          "data": {
            "text/plain": [
              "6"
            ]
          },
          "metadata": {
            "tags": []
          },
          "execution_count": 13
        }
      ]
    },
    {
      "cell_type": "code",
      "metadata": {
        "colab": {
          "base_uri": "https://localhost:8080/"
        },
        "id": "HKzPBtiyY987",
        "outputId": "3774db0f-33d4-4f07-c0da-9146ea7ac667"
      },
      "source": [
        "word = 'banana'\n",
        "count = 0\n",
        "for letter in word:\n",
        "  if letter == 'a':\n",
        "    count = count + 1\n",
        "print(count)"
      ],
      "execution_count": 14,
      "outputs": [
        {
          "output_type": "stream",
          "text": [
            "3\n"
          ],
          "name": "stdout"
        }
      ]
    },
    {
      "cell_type": "markdown",
      "metadata": {
        "id": "dxvZYJmbdC8W"
      },
      "source": [
        "- Slice with colon operator. The second number is \"upto but not including\".\n",
        "- If the second number is beyond the end of the string, it stops at the end."
      ]
    },
    {
      "cell_type": "code",
      "metadata": {
        "colab": {
          "base_uri": "https://localhost:8080/",
          "height": 35
        },
        "id": "LKpzbn0wdbxw",
        "outputId": "16a6b250-8af1-4c1c-990e-b1f0eac9136e"
      },
      "source": [
        "'Monty Python'[0:5]"
      ],
      "execution_count": 15,
      "outputs": [
        {
          "output_type": "execute_result",
          "data": {
            "application/vnd.google.colaboratory.intrinsic+json": {
              "type": "string"
            },
            "text/plain": [
              "'Monty'"
            ]
          },
          "metadata": {
            "tags": []
          },
          "execution_count": 15
        }
      ]
    },
    {
      "cell_type": "code",
      "metadata": {
        "colab": {
          "base_uri": "https://localhost:8080/",
          "height": 35
        },
        "id": "n9X2joz4di2l",
        "outputId": "d114923a-3239-46e3-aa4d-f9518230d9d7"
      },
      "source": [
        "'Monty Python'[6:20]"
      ],
      "execution_count": 16,
      "outputs": [
        {
          "output_type": "execute_result",
          "data": {
            "application/vnd.google.colaboratory.intrinsic+json": {
              "type": "string"
            },
            "text/plain": [
              "'Python'"
            ]
          },
          "metadata": {
            "tags": []
          },
          "execution_count": 16
        }
      ]
    },
    {
      "cell_type": "code",
      "metadata": {
        "colab": {
          "base_uri": "https://localhost:8080/",
          "height": 35
        },
        "id": "GY7A28nwdt15",
        "outputId": "ab2a29a7-947c-4c9b-f0a9-ab3079c1df29"
      },
      "source": [
        "'Monty Python'[6:7]"
      ],
      "execution_count": 17,
      "outputs": [
        {
          "output_type": "execute_result",
          "data": {
            "application/vnd.google.colaboratory.intrinsic+json": {
              "type": "string"
            },
            "text/plain": [
              "'P'"
            ]
          },
          "metadata": {
            "tags": []
          },
          "execution_count": 17
        }
      ]
    },
    {
      "cell_type": "markdown",
      "metadata": {
        "id": "QqoIbrwZeFng"
      },
      "source": [
        "- `+` means \"concatenate\""
      ]
    },
    {
      "cell_type": "code",
      "metadata": {
        "colab": {
          "base_uri": "https://localhost:8080/"
        },
        "id": "CQenp_YJeGXG",
        "outputId": "9cd79b2b-2596-43bf-bb06-1e69aa9c621f"
      },
      "source": [
        "a = 'Hello'\n",
        "print(a + 'There')\n",
        "print(a + ' ' + 'There')"
      ],
      "execution_count": 18,
      "outputs": [
        {
          "output_type": "stream",
          "text": [
            "HelloThere\n",
            "Hello There\n"
          ],
          "name": "stdout"
        }
      ]
    },
    {
      "cell_type": "markdown",
      "metadata": {
        "id": "3kaEROsKecuK"
      },
      "source": [
        "- `in` as logical operator.\n",
        "- string comparison with `>`, `<`, `==` is case sensitive and weird."
      ]
    },
    {
      "cell_type": "code",
      "metadata": {
        "colab": {
          "base_uri": "https://localhost:8080/"
        },
        "id": "ESAuEcjZerat",
        "outputId": "a2687c19-753b-4260-8761-ffd89fb88a25"
      },
      "source": [
        "'n' in 'banana'"
      ],
      "execution_count": 19,
      "outputs": [
        {
          "output_type": "execute_result",
          "data": {
            "text/plain": [
              "True"
            ]
          },
          "metadata": {
            "tags": []
          },
          "execution_count": 19
        }
      ]
    },
    {
      "cell_type": "markdown",
      "metadata": {
        "id": "8sSZwOSae_EG"
      },
      "source": [
        "- functions built-in for string (string library)\n",
        "- appending the function to string variable.\n",
        "- do not modify original string. resturn a new string that has been altered."
      ]
    },
    {
      "cell_type": "code",
      "metadata": {
        "colab": {
          "base_uri": "https://localhost:8080/"
        },
        "id": "CTtKQxa-ff4s",
        "outputId": "7e12914e-96e8-4ada-e350-ec105f5483d5"
      },
      "source": [
        "greet = 'Hello'\n",
        "zap = greet.lower()\n",
        "print(greet)\n",
        "print(zap)\n"
      ],
      "execution_count": 20,
      "outputs": [
        {
          "output_type": "stream",
          "text": [
            "Hello\n",
            "hello\n"
          ],
          "name": "stdout"
        }
      ]
    },
    {
      "cell_type": "markdown",
      "metadata": {
        "id": "bP1anEDcgX0g"
      },
      "source": [
        "- Use `type` to check class of an object and `dir` to see method associated with that."
      ]
    },
    {
      "cell_type": "code",
      "metadata": {
        "colab": {
          "base_uri": "https://localhost:8080/"
        },
        "id": "o47FiX9ign1I",
        "outputId": "69699ec1-a55d-421a-cd00-ea594f4428ee"
      },
      "source": [
        "stuff = 'Hello World'\n",
        "print(type(stuff))\n",
        "print(dir(stuff))"
      ],
      "execution_count": 21,
      "outputs": [
        {
          "output_type": "stream",
          "text": [
            "<class 'str'>\n",
            "['__add__', '__class__', '__contains__', '__delattr__', '__dir__', '__doc__', '__eq__', '__format__', '__ge__', '__getattribute__', '__getitem__', '__getnewargs__', '__gt__', '__hash__', '__init__', '__init_subclass__', '__iter__', '__le__', '__len__', '__lt__', '__mod__', '__mul__', '__ne__', '__new__', '__reduce__', '__reduce_ex__', '__repr__', '__rmod__', '__rmul__', '__setattr__', '__sizeof__', '__str__', '__subclasshook__', 'capitalize', 'casefold', 'center', 'count', 'encode', 'endswith', 'expandtabs', 'find', 'format', 'format_map', 'index', 'isalnum', 'isalpha', 'isascii', 'isdecimal', 'isdigit', 'isidentifier', 'islower', 'isnumeric', 'isprintable', 'isspace', 'istitle', 'isupper', 'join', 'ljust', 'lower', 'lstrip', 'maketrans', 'partition', 'replace', 'rfind', 'rindex', 'rjust', 'rpartition', 'rsplit', 'rstrip', 'split', 'splitlines', 'startswith', 'strip', 'swapcase', 'title', 'translate', 'upper', 'zfill']\n"
          ],
          "name": "stdout"
        }
      ]
    },
    {
      "cell_type": "markdown",
      "metadata": {
        "id": "p_Ani-mThGBk"
      },
      "source": [
        "- Search a string with `find`, which rturn first occurence of the substring.\n",
        "- if substring not found, `find` return -1.\n",
        "- Can be used for parsing and extracting."
      ]
    },
    {
      "cell_type": "code",
      "metadata": {
        "colab": {
          "base_uri": "https://localhost:8080/"
        },
        "id": "wDK_-XzNheFE",
        "outputId": "48beb6f0-b168-4e05-8faf-26245db89217"
      },
      "source": [
        "'banana'.find('na')"
      ],
      "execution_count": 22,
      "outputs": [
        {
          "output_type": "execute_result",
          "data": {
            "text/plain": [
              "2"
            ]
          },
          "metadata": {
            "tags": []
          },
          "execution_count": 22
        }
      ]
    },
    {
      "cell_type": "code",
      "metadata": {
        "colab": {
          "base_uri": "https://localhost:8080/"
        },
        "id": "24SJFxzbjqmE",
        "outputId": "33d6cf83-b097-4570-d790-ec9070814c4c"
      },
      "source": [
        "data = 'From asdfdsf@dfsd.com Sat Jan 09:09:09 2009'\n",
        "atpos = data.find('@')\n",
        "sppos = data.find(' ', atpos)\n",
        "host = data[atpos + 1 : sppos]\n",
        "print(host)"
      ],
      "execution_count": 23,
      "outputs": [
        {
          "output_type": "stream",
          "text": [
            "dfsd.com\n"
          ],
          "name": "stdout"
        }
      ]
    },
    {
      "cell_type": "markdown",
      "metadata": {
        "id": "yk3sP46Rhw1L"
      },
      "source": [
        "- `replace` will search and replace all occurence of the search string with replacement string."
      ]
    },
    {
      "cell_type": "code",
      "metadata": {
        "colab": {
          "base_uri": "https://localhost:8080/",
          "height": 35
        },
        "id": "c4qmC-jwh9Ba",
        "outputId": "192ee44f-b155-4d06-bd82-ffbb48b028c8"
      },
      "source": [
        "greet = 'Hello Bob'\n",
        "greet.replace('o', 'a')"
      ],
      "execution_count": 24,
      "outputs": [
        {
          "output_type": "execute_result",
          "data": {
            "application/vnd.google.colaboratory.intrinsic+json": {
              "type": "string"
            },
            "text/plain": [
              "'Hella Bab'"
            ]
          },
          "metadata": {
            "tags": []
          },
          "execution_count": 24
        }
      ]
    },
    {
      "cell_type": "markdown",
      "metadata": {
        "id": "Ms8L-rbLiWg9"
      },
      "source": [
        "- strip whitespace with `lstrip` (left), `rstrip` (right) and `strip` (both sides)"
      ]
    },
    {
      "cell_type": "code",
      "metadata": {
        "colab": {
          "base_uri": "https://localhost:8080/"
        },
        "id": "QzGHn6hgigw7",
        "outputId": "a1c5725c-d050-42fb-f74a-00945ac6ac7c"
      },
      "source": [
        "greet = '  Hello   '\n",
        "print(greet.lstrip())\n",
        "print(greet.rstrip())\n",
        "print(greet.strip())"
      ],
      "execution_count": 25,
      "outputs": [
        {
          "output_type": "stream",
          "text": [
            "Hello   \n",
            "  Hello\n",
            "Hello\n"
          ],
          "name": "stdout"
        }
      ]
    },
    {
      "cell_type": "markdown",
      "metadata": {
        "id": "uV8bR5umjC0t"
      },
      "source": [
        "- prefixes check with `startswith`"
      ]
    },
    {
      "cell_type": "code",
      "metadata": {
        "colab": {
          "base_uri": "https://localhost:8080/"
        },
        "id": "FmYESsXcjJw5",
        "outputId": "b945a413-b4fe-4d7f-b19c-1c5cc426aed3"
      },
      "source": [
        "'Hello Bob'.startswith('Hell')"
      ],
      "execution_count": 26,
      "outputs": [
        {
          "output_type": "execute_result",
          "data": {
            "text/plain": [
              "True"
            ]
          },
          "metadata": {
            "tags": []
          },
          "execution_count": 26
        }
      ]
    },
    {
      "cell_type": "markdown",
      "metadata": {
        "id": "r1d2WU03lc1Y"
      },
      "source": [
        "**Reading files**\n",
        "- First, tell python which file we are going to work with and what we will be doing with the file. Use `open()`. Open returns a file handle."
      ]
    },
    {
      "cell_type": "code",
      "metadata": {
        "id": "LvB3pDvilhSl"
      },
      "source": [
        "handle = open(filename, mode)\n",
        "# mode is optional, 'r' for read or 'w' for write."
      ],
      "execution_count": null,
      "outputs": []
    },
    {
      "cell_type": "markdown",
      "metadata": {
        "id": "W1O_fSxHqIPG"
      },
      "source": [
        "- Newline character `\\n`. Work in `print` but not when the variable is called. Count as one character."
      ]
    },
    {
      "cell_type": "code",
      "metadata": {
        "colab": {
          "base_uri": "https://localhost:8080/",
          "height": 35
        },
        "id": "GpeVjXSrqHj6",
        "outputId": "47d5c47b-45d0-42a1-9b27-c3a710184b8a"
      },
      "source": [
        "stuff = 'Hello\\nWorld!'\n",
        "stuff"
      ],
      "execution_count": 28,
      "outputs": [
        {
          "output_type": "execute_result",
          "data": {
            "application/vnd.google.colaboratory.intrinsic+json": {
              "type": "string"
            },
            "text/plain": [
              "'Hello\\nWorld!'"
            ]
          },
          "metadata": {
            "tags": []
          },
          "execution_count": 28
        }
      ]
    },
    {
      "cell_type": "code",
      "metadata": {
        "colab": {
          "base_uri": "https://localhost:8080/"
        },
        "id": "F_XMtpINqHXo",
        "outputId": "8df226ce-12c1-4af7-b9f3-60fa692eb023"
      },
      "source": [
        "print(stuff)"
      ],
      "execution_count": 29,
      "outputs": [
        {
          "output_type": "stream",
          "text": [
            "Hello\n",
            "World!\n"
          ],
          "name": "stdout"
        }
      ]
    },
    {
      "cell_type": "markdown",
      "metadata": {
        "id": "NfCPa3Z60bUu"
      },
      "source": [
        "- File handle can be treated as sequence (ordered set) where each line is a string. Can use `for` statement to iterate through."
      ]
    },
    {
      "cell_type": "code",
      "metadata": {
        "id": "x2OJoKNr0sg9"
      },
      "source": [
        "xfile = open('mbox.txt')\n",
        "for cheese in xfile:\n",
        "  print(cheese)"
      ],
      "execution_count": null,
      "outputs": []
    },
    {
      "cell_type": "code",
      "metadata": {
        "id": "rIr4BLRX1Ciu"
      },
      "source": [
        "# counting lines in a file\n",
        "fhand = open('mbox.txt')\n",
        "count = 0\n",
        "for line in fhand:\n",
        "  count = count + 1\n",
        "print('Line Count: ', count)"
      ],
      "execution_count": null,
      "outputs": []
    },
    {
      "cell_type": "code",
      "metadata": {
        "id": "Ue7nF4Vl1-mO"
      },
      "source": [
        "# seaching through file\n",
        "fhand = open('mbox.txt')\n",
        "for line in fhand:\n",
        "  if line.startswith('From:'):\n",
        "    print(line.rstrip())\n",
        "\n",
        "# the print statement will add an addional \\n to each line"
      ],
      "execution_count": null,
      "outputs": []
    },
    {
      "cell_type": "code",
      "metadata": {
        "id": "1n1Tni_L27U-"
      },
      "source": [
        "# use in to select line\n",
        "fhand = open('mbox.txt')\n",
        "for line in fhand:\n",
        "  if not 'abc@.ac.ab' in line:\n",
        "    continue # skip line that doesn't have the needed text\n",
        "  print(line.rstrip())\n"
      ],
      "execution_count": null,
      "outputs": []
    },
    {
      "cell_type": "markdown",
      "metadata": {
        "id": "Ms7MswFS1cpZ"
      },
      "source": [
        "- Can read whole file into a single string"
      ]
    },
    {
      "cell_type": "code",
      "metadata": {
        "id": "Cr9YUTEh1iQo"
      },
      "source": [
        "fhand = open('mbox.txt')\n",
        "inp = fhand.read()"
      ],
      "execution_count": null,
      "outputs": []
    },
    {
      "cell_type": "markdown",
      "metadata": {
        "id": "qTCoM_4C3rp3"
      },
      "source": [
        "- Check for bad files\n"
      ]
    },
    {
      "cell_type": "code",
      "metadata": {
        "colab": {
          "base_uri": "https://localhost:8080/"
        },
        "id": "Xa9m7HZn3wJV",
        "outputId": "f655c9b4-421c-4ea7-c430-2d27ddde03fd"
      },
      "source": [
        "fname = input('Enter the file name: ')\n",
        "try:\n",
        "  fhand = open(fname)\n",
        "except:\n",
        "  print('File cannot be opened:', fname)\n",
        "  quit()"
      ],
      "execution_count": 70,
      "outputs": [
        {
          "output_type": "stream",
          "text": [
            "Enter the file name: x.txt\n",
            "File cannot be opened: x.txt\n"
          ],
          "name": "stdout"
        }
      ]
    },
    {
      "cell_type": "markdown",
      "metadata": {
        "id": "6-vlSofA6fDW"
      },
      "source": [
        "**Lists**\n",
        "- a kind of collection\n",
        "- allow us to put many values inside a single 'variable', which is nice as a convenient package.\n",
        "- list constant are surrounded by square brackets and the elements are separated by commas.\n",
        "- a list element can be any Python object, even another list.\n",
        "- list can be empty.\n",
        "- Lists are great for definite loops."
      ]
    },
    {
      "cell_type": "code",
      "metadata": {
        "id": "n9ehNVTb7FE-"
      },
      "source": [
        "friends = ['Monica', 'Rachel', 'Phoebe']"
      ],
      "execution_count": 69,
      "outputs": []
    },
    {
      "cell_type": "markdown",
      "metadata": {
        "id": "3qiuNft78DHY"
      },
      "source": [
        "- get element using square bracket"
      ]
    },
    {
      "cell_type": "code",
      "metadata": {
        "colab": {
          "base_uri": "https://localhost:8080/"
        },
        "id": "OD2GpQVr8Ks_",
        "outputId": "0e72cdf1-f807-432b-c68b-069a586fb493"
      },
      "source": [
        "x = [1, 2, \"a\"]\n",
        "print(x[1])"
      ],
      "execution_count": 68,
      "outputs": [
        {
          "output_type": "stream",
          "text": [
            "2\n"
          ],
          "name": "stdout"
        }
      ]
    },
    {
      "cell_type": "markdown",
      "metadata": {
        "id": "Cz7Vrzg88anZ"
      },
      "source": [
        "- lists are 'mutable' and we can change an element of a list using the index operator.\n",
        "- (remember that strings are immutable)"
      ]
    },
    {
      "cell_type": "code",
      "metadata": {
        "colab": {
          "base_uri": "https://localhost:8080/"
        },
        "id": "GHMFz0TO8ova",
        "outputId": "03272a45-d060-4399-ad11-330ba71bc05d"
      },
      "source": [
        "y = [1, 2, 3, 4, 5]\n",
        "print(y)\n",
        "y[2] = 'three'\n",
        "print(y)"
      ],
      "execution_count": 67,
      "outputs": [
        {
          "output_type": "stream",
          "text": [
            "[1, 2, 3, 4, 5]\n",
            "[1, 2, 'three', 4, 5]\n"
          ],
          "name": "stdout"
        }
      ]
    },
    {
      "cell_type": "markdown",
      "metadata": {
        "id": "nq5r1paP9Evl"
      },
      "source": [
        "- use `len` to count the number of elements in a list or a string or any set or sequence."
      ]
    },
    {
      "cell_type": "code",
      "metadata": {
        "colab": {
          "base_uri": "https://localhost:8080/"
        },
        "id": "-aU6rpBs9Oy3",
        "outputId": "523b2615-6f1e-4323-9ee0-f466075a50db"
      },
      "source": [
        "z = [1, 2, 3, 4, 'a', 'b']\n",
        "len(z)"
      ],
      "execution_count": 66,
      "outputs": [
        {
          "output_type": "execute_result",
          "data": {
            "text/plain": [
              "6"
            ]
          },
          "metadata": {
            "tags": []
          },
          "execution_count": 66
        }
      ]
    },
    {
      "cell_type": "markdown",
      "metadata": {
        "id": "kKFkbIJ_9iep"
      },
      "source": [
        "- `range` returns a list of number that range from zero to one less than the parameter."
      ]
    },
    {
      "cell_type": "code",
      "metadata": {
        "colab": {
          "base_uri": "https://localhost:8080/"
        },
        "id": "rGu5SqwA9xt2",
        "outputId": "aba7eb1c-11f1-4207-ebe7-f5a37ea41fe2"
      },
      "source": [
        "print(range(4))\n",
        "friends = ['Ross', 'Joey', 'Chandler']\n",
        "print(range(len(friends)))"
      ],
      "execution_count": 65,
      "outputs": [
        {
          "output_type": "stream",
          "text": [
            "range(0, 4)\n",
            "range(0, 3)\n"
          ],
          "name": "stdout"
        }
      ]
    },
    {
      "cell_type": "markdown",
      "metadata": {
        "id": "d4n9kbfWACFn"
      },
      "source": [
        "- Use `+` to concatenate list\n",
        "- Slice using index"
      ]
    },
    {
      "cell_type": "code",
      "metadata": {
        "colab": {
          "base_uri": "https://localhost:8080/"
        },
        "id": "apVKDjgdAMXn",
        "outputId": "ac704312-aa61-4996-c3af-c9aa88a0eb83"
      },
      "source": [
        "x = [1, 2, 3, 4]\n",
        "y = ['a', 'b', 'c', 'd']\n",
        "z = x + y\n",
        "print(z)\n",
        "print(z[2:6])\n",
        "print(z[3:])\n"
      ],
      "execution_count": 64,
      "outputs": [
        {
          "output_type": "stream",
          "text": [
            "[1, 2, 3, 4, 'a', 'b', 'c', 'd']\n",
            "[3, 4, 'a', 'b']\n",
            "[4, 'a', 'b', 'c', 'd']\n"
          ],
          "name": "stdout"
        }
      ]
    },
    {
      "cell_type": "markdown",
      "metadata": {
        "id": "CIsfVmX7AuqI"
      },
      "source": [
        "- list methods"
      ]
    },
    {
      "cell_type": "code",
      "metadata": {
        "colab": {
          "base_uri": "https://localhost:8080/"
        },
        "id": "jskCnl0nAwyx",
        "outputId": "992a0b65-1052-4310-8adc-d731044de0d8"
      },
      "source": [
        "x = list()\n",
        "print(type(x))\n",
        "print(dir(x))"
      ],
      "execution_count": 63,
      "outputs": [
        {
          "output_type": "stream",
          "text": [
            "<class 'list'>\n",
            "['__add__', '__class__', '__contains__', '__delattr__', '__delitem__', '__dir__', '__doc__', '__eq__', '__format__', '__ge__', '__getattribute__', '__getitem__', '__gt__', '__hash__', '__iadd__', '__imul__', '__init__', '__init_subclass__', '__iter__', '__le__', '__len__', '__lt__', '__mul__', '__ne__', '__new__', '__reduce__', '__reduce_ex__', '__repr__', '__reversed__', '__rmul__', '__setattr__', '__setitem__', '__sizeof__', '__str__', '__subclasshook__', 'append', 'clear', 'copy', 'count', 'extend', 'index', 'insert', 'pop', 'remove', 'reverse', 'sort']\n"
          ],
          "name": "stdout"
        }
      ]
    },
    {
      "cell_type": "code",
      "metadata": {
        "colab": {
          "base_uri": "https://localhost:8080/"
        },
        "id": "cdkO2wzNBEOw",
        "outputId": "56d9e80d-9ec6-4b09-8bd3-8313b682ba08"
      },
      "source": [
        "# append add element to the end of the list\n",
        "stuff = list()\n",
        "stuff.append('book')\n",
        "stuff.append(99)\n",
        "stuff.append('cookie')\n",
        "print(stuff)"
      ],
      "execution_count": 62,
      "outputs": [
        {
          "output_type": "stream",
          "text": [
            "['book', 99, 'cookie']\n"
          ],
          "name": "stdout"
        }
      ]
    },
    {
      "cell_type": "markdown",
      "metadata": {
        "id": "GSYe2ThsBcqc"
      },
      "source": [
        "- `in` and `not in` operators"
      ]
    },
    {
      "cell_type": "code",
      "metadata": {
        "colab": {
          "base_uri": "https://localhost:8080/"
        },
        "id": "kT5xJmgPBh6w",
        "outputId": "fc9ceafb-2f64-470f-b3d5-e0cc1f39cbea"
      },
      "source": [
        "some = [1, 2, 3, 5, 8, 13]\n",
        "print(3 in some)\n",
        "print(15 in some)\n",
        "print(20 not in some)"
      ],
      "execution_count": 61,
      "outputs": [
        {
          "output_type": "stream",
          "text": [
            "True\n",
            "False\n",
            "True\n"
          ],
          "name": "stdout"
        }
      ]
    },
    {
      "cell_type": "markdown",
      "metadata": {
        "id": "6LQsU2tLCB7E"
      },
      "source": [
        "- built-in functions for lists"
      ]
    },
    {
      "cell_type": "code",
      "metadata": {
        "colab": {
          "base_uri": "https://localhost:8080/"
        },
        "id": "uPNUONn7CGCq",
        "outputId": "f875c58a-2b09-4c0a-df67-9a051a804ac5"
      },
      "source": [
        "nums = (1, 3, 4, 7, 11, 18)\n",
        "print(len(nums))\n",
        "print(max(nums))\n",
        "print(min(nums))\n",
        "print(sum(nums))\n",
        "print(sum(nums)/len(nums))"
      ],
      "execution_count": 60,
      "outputs": [
        {
          "output_type": "stream",
          "text": [
            "6\n",
            "18\n",
            "1\n",
            "44\n",
            "7.333333333333333\n"
          ],
          "name": "stdout"
        }
      ]
    },
    {
      "cell_type": "code",
      "metadata": {
        "colab": {
          "base_uri": "https://localhost:8080/"
        },
        "id": "aUalpJdhCmTE",
        "outputId": "d7088c66-4d9a-45a4-e9fa-fa3259331c96"
      },
      "source": [
        "numlist = list()\n",
        "while True:\n",
        "  inp = input('Enter a number: ')\n",
        "  if inp == 'done': break\n",
        "  value = float(inp)\n",
        "  numlist.append(value)\n",
        "2\n",
        "average = sum(numlist) / len(numlist)\n",
        "print('Entered:', numlist)\n",
        "print('Average:', average)"
      ],
      "execution_count": 59,
      "outputs": [
        {
          "output_type": "stream",
          "text": [
            "Enter a number: 1\n",
            "Enter a number: 2\n",
            "Enter a number: 3\n",
            "Enter a number: done\n",
            "Entered: [1.0, 2.0, 3.0]\n",
            "Average: 2.0\n"
          ],
          "name": "stdout"
        }
      ]
    },
    {
      "cell_type": "markdown",
      "metadata": {
        "id": "8BdVShpcDvln"
      },
      "source": [
        "String and list\n",
        "- `split` break a string into parts and produce list of strings (words).\n",
        "- when delimiter not specified, multiple spaces are treated as one delimiter.\n",
        "- can specify other delimiter for splitting"
      ]
    },
    {
      "cell_type": "code",
      "metadata": {
        "colab": {
          "base_uri": "https://localhost:8080/"
        },
        "id": "5LdwluILEAYT",
        "outputId": "cc1c17bb-59a4-4733-9772-54712df89e75"
      },
      "source": [
        "abc = 'With three words'\n",
        "stuff = abc.split()\n",
        "print(stuff)\n",
        "print(stuff[1])\n",
        "for w in stuff:\n",
        "  print(w)\n"
      ],
      "execution_count": 58,
      "outputs": [
        {
          "output_type": "stream",
          "text": [
            "['With', 'three', 'words']\n",
            "three\n",
            "With\n",
            "three\n",
            "words\n"
          ],
          "name": "stdout"
        }
      ]
    },
    {
      "cell_type": "code",
      "metadata": {
        "colab": {
          "base_uri": "https://localhost:8080/"
        },
        "id": "tYOkgcSXE1NF",
        "outputId": "aad41c0d-99b3-42b2-ecd9-09c21a4ea208"
      },
      "source": [
        "line = 'A lot                   of space'\n",
        "print(line.split())"
      ],
      "execution_count": 57,
      "outputs": [
        {
          "output_type": "stream",
          "text": [
            "['A', 'lot', 'of', 'space']\n"
          ],
          "name": "stdout"
        }
      ]
    },
    {
      "cell_type": "code",
      "metadata": {
        "colab": {
          "base_uri": "https://localhost:8080/"
        },
        "id": "b-fMHXoHFB-v",
        "outputId": "322367a8-6f09-4825-928b-17a85752803a"
      },
      "source": [
        "line = 'first;second;third'\n",
        "print(line.split(';'))"
      ],
      "execution_count": 56,
      "outputs": [
        {
          "output_type": "stream",
          "text": [
            "['first', 'second', 'third']\n"
          ],
          "name": "stdout"
        }
      ]
    },
    {
      "cell_type": "code",
      "metadata": {
        "colab": {
          "base_uri": "https://localhost:8080/"
        },
        "id": "xqnih_stFaLJ",
        "outputId": "b5f883ad-8b85-40d1-a39e-e8524353e22b"
      },
      "source": [
        "line = 'first;;second;;;third'\n",
        "print(line.split(';'))"
      ],
      "execution_count": 55,
      "outputs": [
        {
          "output_type": "stream",
          "text": [
            "['first', '', 'second', '', '', 'third']\n"
          ],
          "name": "stdout"
        }
      ]
    },
    {
      "cell_type": "markdown",
      "metadata": {
        "id": "3rQCdDDi56D5"
      },
      "source": [
        "**Dictionaries**\n",
        "- Collecttion: a way to put more than one value in and carry around as a convenient package.\n",
        "- List is a linear collection of values that stay in order. Dictionary is a bag of values, each with its own label.\n",
        "- Dictionaries are Python's most powerful data collection. (Named differently in other languages.)\n",
        "- Allow to do fast database-like operations in Python.\n",
        "- No order, so we index the things in dictionaries with a 'lookup tag'.\n",
        "\n"
      ]
    },
    {
      "cell_type": "code",
      "metadata": {
        "colab": {
          "base_uri": "https://localhost:8080/"
        },
        "id": "bE6ewwc67Q1W",
        "outputId": "648ad2ba-106b-4e6b-d9bb-f4a5c3e2567d"
      },
      "source": [
        "purse = dict()\n",
        "purse['money'] = 12\n",
        "purse['candy'] = 3\n",
        "purse['tissue'] = 75\n",
        "print(purse)\n",
        "purse['candy'] = purse['candy'] + 2\n",
        "print(purse)"
      ],
      "execution_count": 54,
      "outputs": [
        {
          "output_type": "stream",
          "text": [
            "{'money': 12, 'candy': 3, 'tissue': 75}\n",
            "{'money': 12, 'candy': 5, 'tissue': 75}\n"
          ],
          "name": "stdout"
        }
      ]
    },
    {
      "cell_type": "code",
      "metadata": {
        "colab": {
          "base_uri": "https://localhost:8080/"
        },
        "id": "cL2EKw4A8STc",
        "outputId": "cb5ee123-3f32-4783-d6c5-985fe1bf0097"
      },
      "source": [
        "dictionary = {} #also works\n",
        "print(dictionary)"
      ],
      "execution_count": 53,
      "outputs": [
        {
          "output_type": "stream",
          "text": [
            "{}\n"
          ],
          "name": "stdout"
        }
      ]
    },
    {
      "cell_type": "markdown",
      "metadata": {
        "id": "E-Cjmm0O85o7"
      },
      "source": [
        "Common applications for dictionaries:\n",
        "- Counting\n",
        "  + Throw an error if reference to a key not in dictionary.\n",
        "  + Use `in` operator to see if a key is in the dictionary.\n",
        "  + The `get` method does this for us."
      ]
    },
    {
      "cell_type": "code",
      "metadata": {
        "colab": {
          "base_uri": "https://localhost:8080/"
        },
        "id": "J3imYki79BIO",
        "outputId": "2eaebacd-5951-4eda-a651-efc772e1d774"
      },
      "source": [
        "ccc = {}\n",
        "ccc['csev'] = 1\n",
        "ccc['cwen'] = 1\n",
        "print(ccc)\n",
        "ccc['cwen'] = ccc['cwen'] + 1\n",
        "print(ccc)\n",
        "\n",
        "print('csef' in ccc)"
      ],
      "execution_count": 52,
      "outputs": [
        {
          "output_type": "stream",
          "text": [
            "{'csev': 1, 'cwen': 1}\n",
            "{'csev': 1, 'cwen': 2}\n",
            "False\n"
          ],
          "name": "stdout"
        }
      ]
    },
    {
      "cell_type": "code",
      "metadata": {
        "colab": {
          "base_uri": "https://localhost:8080/"
        },
        "id": "3h9ypV1C-U-v",
        "outputId": "252ff74d-d691-4806-bc2c-2dda076bc9d3"
      },
      "source": [
        "counts = dict()\n",
        "names = ['csev', 'cwen', 'csev', 'zquian', 'cwen']\n",
        "for name in names:\n",
        "  if name not in counts:\n",
        "    counts[name] = 1\n",
        "  else:\n",
        "    counts[name] = counts[name] + 1\n",
        "print(counts)"
      ],
      "execution_count": 51,
      "outputs": [
        {
          "output_type": "stream",
          "text": [
            "{'csev': 2, 'cwen': 2, 'zquian': 1}\n"
          ],
          "name": "stdout"
        }
      ]
    },
    {
      "cell_type": "code",
      "metadata": {
        "colab": {
          "base_uri": "https://localhost:8080/"
        },
        "id": "nZXhRUqCB4Qr",
        "outputId": "94a3341e-b4b2-448b-808b-5ade38574a80"
      },
      "source": [
        "counts = dict()\n",
        "names = ['csev', 'cwen', 'csev', 'zquian', 'cwen']\n",
        "for name in names:\n",
        "  counts[name] = counts.get(name, 0) + 1\n",
        "print(counts)"
      ],
      "execution_count": 50,
      "outputs": [
        {
          "output_type": "stream",
          "text": [
            "{'csev': 2, 'cwen': 2, 'zquian': 1}\n"
          ],
          "name": "stdout"
        }
      ]
    },
    {
      "cell_type": "markdown",
      "metadata": {
        "id": "jmpfbkFWFFTy"
      },
      "source": [
        "Dictionary and loops\n",
        "- We can write `for` loops for dictionaries even though they are not ordered.\n"
      ]
    },
    {
      "cell_type": "code",
      "metadata": {
        "colab": {
          "base_uri": "https://localhost:8080/"
        },
        "id": "D5SbmfJTFmdS",
        "outputId": "627bc947-ee6d-415c-a93a-e49b6f365342"
      },
      "source": [
        "counts = { 'chuck' : 1 , 'annie' : 42, 'jan': 100}\n",
        "for key in counts:\n",
        "    if counts[key] > 10:\n",
        "        print(key, counts[key])"
      ],
      "execution_count": 49,
      "outputs": [
        {
          "output_type": "stream",
          "text": [
            "annie 42\n",
            "jan 100\n"
          ],
          "name": "stdout"
        }
      ]
    },
    {
      "cell_type": "markdown",
      "metadata": {
        "id": "puJFZV8hF6te"
      },
      "source": [
        "- We can loop through key-value pairs using two iteration variables\n",
        "- Methods `keys`, `values`, `items`. Note that `key` and `value` do not necessarily return the same orders of key and value. Should use `item` when pairing is desired; it will return tuples."
      ]
    },
    {
      "cell_type": "code",
      "metadata": {
        "colab": {
          "base_uri": "https://localhost:8080/"
        },
        "id": "rwpKoMoqGDeK",
        "outputId": "4d846b57-d5cb-427f-ed9f-851b3967136a"
      },
      "source": [
        "jjj = {'chuck': 1, 'fred': 42, 'jan': 100}\n",
        "for aaa, bbb in jjj.items():\n",
        "  print(aaa, bbb)"
      ],
      "execution_count": 48,
      "outputs": [
        {
          "output_type": "stream",
          "text": [
            "chuck 1\n",
            "fred 42\n",
            "jan 100\n"
          ],
          "name": "stdout"
        }
      ]
    },
    {
      "cell_type": "markdown",
      "metadata": {
        "id": "Cqvo1CCeHQeA"
      },
      "source": [
        "An use case example.\n",
        "\n",
        "![image.png](data:image/png;base64,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)"
      ]
    },
    {
      "cell_type": "markdown",
      "metadata": {
        "id": "RDuqV916JTxM"
      },
      "source": [
        "***Tuples***\n",
        "- Tuples are another kind of sequence that functions similar to list (use index starting at 0)\n",
        "- Unlike list, you cannot alter tuple's contents - similar to a string. Can't `sort`, `append`, `reverse`.\n",
        "- They are like that because they are more efficient. -> Prefer tuples over lists when making \"temporary variables\"."
      ]
    },
    {
      "cell_type": "code",
      "metadata": {
        "colab": {
          "base_uri": "https://localhost:8080/"
        },
        "id": "vcKrzA5sJnbu",
        "outputId": "1e14c986-8bea-4e2f-8b1b-456f8b1e64d7"
      },
      "source": [
        "x = ('Glenn', 'Sally', 'Joseph')\n",
        "print(x[2])\n",
        "y = (1, 9, 2)\n",
        "print(max(y))\n",
        "for iter in y:\n",
        "  print(iter)"
      ],
      "execution_count": 47,
      "outputs": [
        {
          "output_type": "stream",
          "text": [
            "Joseph\n",
            "9\n",
            "1\n",
            "9\n",
            "2\n"
          ],
          "name": "stdout"
        }
      ]
    },
    {
      "cell_type": "code",
      "metadata": {
        "colab": {
          "base_uri": "https://localhost:8080/"
        },
        "id": "qOMTuwndKhAx",
        "outputId": "d7903f77-18f6-4f39-d64b-4fe72b37a20d"
      },
      "source": [
        "t = tuple()\n",
        "print(dir(t))"
      ],
      "execution_count": 46,
      "outputs": [
        {
          "output_type": "stream",
          "text": [
            "['__add__', '__class__', '__contains__', '__delattr__', '__dir__', '__doc__', '__eq__', '__format__', '__ge__', '__getattribute__', '__getitem__', '__getnewargs__', '__gt__', '__hash__', '__init__', '__init_subclass__', '__iter__', '__le__', '__len__', '__lt__', '__mul__', '__ne__', '__new__', '__reduce__', '__reduce_ex__', '__repr__', '__rmul__', '__setattr__', '__sizeof__', '__str__', '__subclasshook__', 'count', 'index']\n"
          ],
          "name": "stdout"
        }
      ]
    },
    {
      "cell_type": "markdown",
      "metadata": {
        "id": "u2N1tft_LGXr"
      },
      "source": [
        "- Can put a tuble on the left hand side of an assignment statement. Can even omit the parentheses."
      ]
    },
    {
      "cell_type": "code",
      "metadata": {
        "colab": {
          "base_uri": "https://localhost:8080/"
        },
        "id": "mRk0vBNfLRDJ",
        "outputId": "34111739-ed84-4d81-e404-904a4362c60e"
      },
      "source": [
        "(x, y) = (4, 'Fred') # basically x = 9, y = 'Fred\n",
        "print(y)\n",
        "a, b = 100, 99\n",
        "print(a)"
      ],
      "execution_count": 45,
      "outputs": [
        {
          "output_type": "stream",
          "text": [
            "Fred\n",
            "100\n"
          ],
          "name": "stdout"
        }
      ]
    },
    {
      "cell_type": "markdown",
      "metadata": {
        "id": "nG0RdZ5FL1aI"
      },
      "source": [
        "- The `items` method in dictionaries returns a list of (key, value) tuples."
      ]
    },
    {
      "cell_type": "code",
      "metadata": {
        "colab": {
          "base_uri": "https://localhost:8080/"
        },
        "id": "HNCaCutBL_t8",
        "outputId": "7af94eee-4886-44ac-ada4-70abdea5856b"
      },
      "source": [
        "d = dict()\n",
        "d['quincy'] = 1\n",
        "d['beau'] = 5\n",
        "d['kris'] = 9\n",
        "for (k,i) in d.items():\n",
        "    print(k, i)"
      ],
      "execution_count": 44,
      "outputs": [
        {
          "output_type": "stream",
          "text": [
            "quincy 1\n",
            "beau 5\n",
            "kris 9\n"
          ],
          "name": "stdout"
        }
      ]
    },
    {
      "cell_type": "markdown",
      "metadata": {
        "id": "dZg35z7KMJjC"
      },
      "source": [
        "- Tuples are comparable. Python compares each pair of elements until it find something that differs."
      ]
    },
    {
      "cell_type": "code",
      "metadata": {
        "colab": {
          "base_uri": "https://localhost:8080/"
        },
        "id": "ZYM6AZYCMX-a",
        "outputId": "d4fc6d52-3df4-4cba-d33d-373de3aeb14f"
      },
      "source": [
        "print((0, 1, 2) < (5, 1, 2))\n",
        "print((0, 1, 20000) < (0, 3, 4, 5))\n",
        "print((100, 0, 0) < (0, 2000, 3000))"
      ],
      "execution_count": 43,
      "outputs": [
        {
          "output_type": "stream",
          "text": [
            "True\n",
            "True\n",
            "False\n"
          ],
          "name": "stdout"
        }
      ]
    },
    {
      "cell_type": "markdown",
      "metadata": {
        "id": "DsXOw4tuNB7-"
      },
      "source": [
        "Sorting lists of tuples:\n",
        "- Allow us to get a sorted version of a dictionary\n"
      ]
    },
    {
      "cell_type": "code",
      "metadata": {
        "id": "vuevav9nNS42"
      },
      "source": [
        "# sort by key\n",
        "d = {'a': 10, 'c': 1, 'b': 22}\n",
        "print(d.items())\n",
        "print(sorted(d.items()))"
      ],
      "execution_count": null,
      "outputs": []
    },
    {
      "cell_type": "code",
      "metadata": {
        "colab": {
          "base_uri": "https://localhost:8080/"
        },
        "id": "8lw88GYCN9Pl",
        "outputId": "d0cbdccb-bb8b-4e81-d67a-a851423e3cb3"
      },
      "source": [
        "# sort by value\n",
        "d = {'a': 10, 'c': 1, 'b': 22}\n",
        "tmp = list()\n",
        "for k, v in d.items():\n",
        "  tmp.append((v,k))\n",
        "print(tmp)\n",
        "tmp = sorted(tmp, reverse=True)\n",
        "print(tmp)"
      ],
      "execution_count": 42,
      "outputs": [
        {
          "output_type": "stream",
          "text": [
            "[(10, 'a'), (1, 'c'), (22, 'b')]\n",
            "[(22, 'b'), (10, 'a'), (1, 'c')]\n"
          ],
          "name": "stdout"
        }
      ]
    },
    {
      "cell_type": "code",
      "metadata": {
        "colab": {
          "base_uri": "https://localhost:8080/"
        },
        "id": "7eoEvYwaPqMU",
        "outputId": "0ec7bb88-ae61-40d0-a46d-9ce4aa49fd79"
      },
      "source": [
        "# even shorter version with list comprehension\n",
        "d = {'a': 10, 'c': 1, 'b': 22}\n",
        "print(sorted([(v, k) for k, v in d.items()]))"
      ],
      "execution_count": 41,
      "outputs": [
        {
          "output_type": "stream",
          "text": [
            "[(1, 'c'), (10, 'a'), (22, 'b')]\n"
          ],
          "name": "stdout"
        }
      ]
    },
    {
      "cell_type": "markdown",
      "metadata": {
        "id": "snDyNcujPB01"
      },
      "source": [
        "Use case example\n",
        "\n",
        "![image.png](data:image/png;base64,iVBORw0KGgoAAAANSUhEUgAAAhEAAAFECAYAAACZNWzLAAAgAElEQVR4nOy9d3xVVbrH/axdTk0vpBfSSCcQWighkBBCC70KgnQsYENFhaGIiJUqgoA4KF2qoAIREUR6EVQUsd4pd5x5587ce+e95fN+vu8f+7SEgOIU9c754/c5yT57r73W2vus57eeKiJCEEEEEUQQQQQRxA/Aj96BIIIIIoggggji54kfvQNBBBFEEEEEEcTPEz96B4IIIogggggiiJ8nfvQOBBFEEEEEEUQQP0/86B0IIogggggiiCB+nvjROxBEEEEEEUQQQfw88aN3IIgggggiiO8N5cGP3Y8gghDkJ9CBIIIIIoh/YtwMIVCIaNwckfgxSMdPleT8kH41vCZI4hrgR+9AEEEEEcQ/KRQ3Twg0/ETiZtr/Rwm+hn38qQjcH9KXhnP3j57Ln8V8/dgdDSKIIIL4Z8TNEoIfck1jAv2H4GbGpSGiI2J4PvWbHOPfc65vVuvT2Pz9tWP5a+f3Ru38UDQck/eY/n3692M91CCCCCKIf2Y0EFBKvhv1rrmZczXU94BcFw0ESaP380JDiemBDSUGSnTUjYTRddv666FENRinQol8T6iAuQkQuEpQgfhBz/wG8/uD27k5+OdErzc31veGBwF9a/y5/9g/pCCCCCKIf0YE7va0xgWpUo0QA+/uXm5AIrxtG772lWhoN8CNSUSAoLshcRFEdJSYaGJDEwNNdDSfcGpEk3LDtv76Ob523ApN5DvRkEg0JBGiBcD3vG7U9+8S/D9EG/XXk4iG8/IDntOP/UMKIogggvhnhJcQeAW9NBBAnu+UFkAMvOcb+ISZCEoFqp6V53sbInZETMSz0/y7kwgl+EmEcY1Qrk9s/t4kwhKE/nHrnj75iU194qCuSyLqzYPSrf7pghiez58tibiWUKmGz0QajC1IIoIIIoggfgpohBQEfO9TLQcs2F7VeUNoKlDweVXwhsekYAlOXfR/EInQPPfUfmIkIpBIeEiE8s+dfl0S0Yhg9WoidA+0gGM/GxJhvV9BEhFEEEEE8bNDoCnDwNIWXEskdM0PQxNMTTDVtbDpgqEChbV1DyUKQ1nkwRKS18c1O+4fTCKUZ4d7rVC+VgDewBfkbzTPykeevOp6v7BWStA06+/rmTPE+3dAn6zjOqLZEcNENPUzIxHKNw7tZuYzSCKCCCKIIH4KaEgiriUShk1whQghIUKoWwh3CxGNINwthLkFt0swDYtsOO1CiEtw2S01vSGCIYIuN/IDUN+hjfh+JEIpQWmWgNI9ArU+ufGO34ObIBHXaAe+A6oeUarfD00XTKdgdws2u1yzKzc85E2UYBjWfIa6BYfNOy6FKAPRDI+p6cZ9/ymQiMacS31jDui3rluoN8fXJ42NDfwmwk4anbSbD1m50Uvx/T1fgwgiiCB+LggkEn4yoSk7IoqCkgjG396CGY+0YOYj2cx6JJVZjyYz69EkD1KY9Wg6jz6ayYxHs7lneh5tyqKIiRE6doxlyuQSKrvEWtoKER+R8AoNvQEsQavRqLbguzz0A3wCdFMIjRTikwSbwzp2LYmQ79deAK6rer8OvPb+huNUYpGcxHSTfrfEMmJ8BrGJgaYi5ROqoeFCyzZOxk5M4pGHs5nxYDqjRoVSUKBwOgWlFKICydeN+vSPIxFK+f1jAiNT6jtR+smVEksjoxlCZLQQFS3Y7RaJUuq7ntN11FFSj7H4cU1sa6AKp971Db2K/S9C4w/82u/qe8c2eOlucN3fBT9AvdZYv64XSvSD47P/Zmq/IIII4h+PQIFgEQmlbIgoevTLZsvuSZw5fycXLgzj0ge9uHSxKx9e6shHl8r48FInPrjYg/MfDODMxWG8c3wkI2/LpWmGcNfUQg4dHssD0/Nx6IJN/ETCTxqu1UIERiH41/wGfb6RwNeEtMxQbrktj4l3NScmQVB6gzDI7zKHNCpTPJoNaUh8pPE+eo7r4idPpnhMPkqIbiIMGR3D1rfKeWlbRzLy/GYNr7yJiBB69U1ixdouHDrah6NHazh2tDsnT9by3JJSyto7CQ+3NBZ+v5LvMg94ZWN9qIaajMA5bXSu6z+jhrJZaYEmCz9h0APQkIxputCyTRTjJhdQ1T2R0DBrTr4fidAawOPpaznm+ONINZ8zjIZSmoeFSSMOJt7JqT/wG7HHhmTAzzq9L/e1TkampmMqzccu/24/9B9gp2tM5dbwR1D/B/wD4of/5vbDIIII4h+Pa3/7ShNatknk7gcqefzJ7jz1dEeeebaUVze05sqVKn7722r2vJ7Lc4tbsPDZdixc1JHZT3SiU5dEMrKE2XNbcOXzO5g3rxlO0xKgulhq+PoCuLF8CFa/NFXfD0BEriNI/E6SNodQU5vCa6/3Y/3mPqRlWbt+bwSD0hXKUI07IypB9PpyQ2keKKvvmlh+IV5SoEtg+KXUWwu9QtMQ5Ru/3RRSkoURIyPZvrc13/y+ln2H25JdEEgiBEMXOneOYe36Hpy4MIq168t46MEiZs8q4cDb3bl8dTyPL8yluMiO0yYYnvsEajsafdaNESXPGEX8x7xjrn++8vheKMuXQ9UngoH3UN55DHjGPg2U8vvPBPrRuEOF6Q+XsOvN/twxrZDwSE9b30kivMQhMFxF0xClozTd+ltXKF1D6bqHaGhouoamafVJhO96z2ADYmi9aiWj4YCvM8lKvN6yXoan/JPqademG5hK97GqvxuR+B6qtkBcz26nSQAjlsBdQaA6LNBGquML72oYk6wa+b+RvmiaRfY0TfP97eun57j37x9/Mf2/h8B59851EEFci/raR00TnC5FWIQQFSPExglxCUKv2igOv9uJL76oYcoUISlFiIkTYhOEmHjB6RbS0oV58wv59LORzHssHqfdEhxOl2B3CDbDI5A1S0vgX0M0zwZSME3B6RRs5neotMUTTurZNIZGCGMmpnHuUi079nYkNctznpdEGAplKpRdMF2C3SUYpkeIKkHpWn3hang0GZrl7+GwC+Eh4tOuWPKk8c2WRSI0C0pwu4UWLaK5++4s3nirHf/6bXf+8MeOvHUol6yc+iQiNlqY/YsyLlyawPpNFZR1ULhdQmSkolc/ByfOj+Tkmd4MHx5DVET9dV0P1Ax4CIGm+0mBpltkyxFi+b0o3Rqn91zT4ZkXm9/E4JW7omuIZslCmyG4HYLbLtgNf/9FCWLUj+TRNMFmExxOwW6z5lLT6vt9xCYIK9a258yHfbjnoSzCojx9v5FWpB6J0MQj+DVE063O2gRxCuLyfDoFcQhi98AmfkbpIw7K/zJ6GJMS/yTbxBKc1/sx1Ru4+HfpSqxwnHqExTO51jU34cdxs2jIHhuq2hqo3OqFBAWc62WP16jjlARobwJtpB4SETheH1Fr0Jfr9N0wDDRNwzAMdF2vRxY0TcM0Td/fP/5C+n8PhmHUewaNv/NBAhfE9eAnF7ohlFfEcOBAFVc/68uI4Zaw9wkoz1qQli7Mfzyfzz4fzMKnw0hrqihpGUaP2gQqq+NpWRpKfIKO3SVoXiGmW8I8OkYoKAynS5d4evZIonPHWPKyHUSG+TUT9c2vGkoZKE1hdypyi0L5xfx8Ln9WwdvvtqCmdwTpmXZsdmUJSLsQl2RQ1CqMipo4qnvH065DJBlZdlwuT/umNRZniJCRHU5OXhiJyUJuvp3q7on06ZNIxw4xZDbVCHU2EHIB8JIIzaNdyc8P4YknqjlxfAKnT/bh2LEiPrtayFsHCshuQCJal5rs2tWfc+dHMWlyMi6X3/nQ7haeXlLCN78ezeOPp5GRYa3lFolQAeGyVnthUTq5RZGkZdpJSBQKitxU1STQozaesvIIklIt0hAdLRQWR9Clexxde8RQ0spFfILC7hS/rNOt5x0dI5SUhFBTHUevmkQ6d4olP99NeLj4ZKQ39Dc0TMhu5qa8Sxw1vZLp2i2B0jaRpGeYOFyW02hohNC+IppNu1pz8WoHnlqaSZuOYcQn2S0S6Z3X65IILwv1JihRHgIRLagUDT1dR0vWkCaCilHoyQZ6moE0EYtUaFYYjTe9af0Maco3wXYP9EB1lfgZmgpQzzT0gbDSiyrEFFS4woy2YSaYqDBlTfDN+BHcLALJQ6DZxku6lDdpR4BGRAWe20Az0yDDmU9l5/suwOFK84zPFP+nN7nJDciDrutERkbidDrrEQSlFIZhYLfbfQTCe/zHXzB/WvhbzImXqNlstkaJmtvtJjQ0tN6zCCIIL5TSUZqJKB3DFCqrEnn38CC+uDqCWzwkwu70EAndWmNSUxVz5uZx5WotL77k4t6Hoti6py3vnx3MifPD2L6rjMm3x5OZZaIb1rV2myIt1WTsuFi2bK3g+PsDuXB2BEcO9WXps4X0rgkjNtLAVN5NoJVQSkTHNBxomk5iqsHU6SWcODuE3/+hB99804m3DpYx/aEkYpvoOF1CfomLqQ+msnFXJ949NYD3Tg9g7/5Knnkun4qKcELcCtO01vusLI3Zs9uzfFVH7p0RyqLnMzl+ajjHTgzl8NFePPl0CmXtnYSGavXNLp6/vbkfvD4TNTU5vPLKRLZsGMnUKencNy2K06fac+BAZ3Ky65OIQQNjOHZ0BG/s60FlV8MyhYhFEkSE28bH8NVXE1i/PoeWLTTfRtkiESYipq8fLdq4WfJiJbMXZDHt/lBeXFPCiTNDOHtpIG8f7crDs8LILdAYeWsY6zd05ujpvhy70JNNO0sYPzGC+AS/ecNmCqkpDsaMi+blV1rz3rH+nD49jMOHa1n5Yin9B0YRGWUlLtOV4HQqKruH89SSVrz1zgCOn72FoycHsevNSuYsyKVVWRiaLhS0EJavrebClRq+/kMHzn9axsubShk0LOl7kAjvLthHIAzEbpEFo8LAPT6UqKkxhI0Jx+hmYHawETM6nvhpyWg9NSReLCKhK5TyJvMIyJNezzzhUT81FMqGWKTFDDjuvVYT/+7bEFSEwtbJQcakHFJHp2PPsyMuj2r+Oo5Af7UwCNSA6J6x+rKy2dHFgSl2bGJiE93z4nrGrRS6mOhi989LA5ON9+UzREMXHd2TGEZ5NBFKUxY87Xo9qXXfPHucaTzj1HWdxMREbr/9dlq3bo3b7faNxTRNEhMTad26NXl5eSiPU49X3f63EJw/JiHx3jtwXIH9MU2TkJAQ7Hb7XzUOwzBwuVw4nc7rnqeUIjQ0lLy8PJo3b050dPQ151RVVTF48GAyMzMbJRlBcvfPDaU0NM2OUia6LpR3TqSubiCffTKckSM8amnPRsUyN2skJgmzZufwu98P45PPO3Duo57s2d+VVS+XUHekN9/+/nY+uDSI2+9MIyraUmenJZs8/GAmX34xlU8/Gc2u1zry6rqWvP1WDVc/ncShugHcNjqB8FDLji6ioYkdEQNNM1FKIz7FYNLUYo68P4hvf9eDq1c6sHVzKXdPSyQqQqOkxOTFlzry+b+M44NPRrJlZ2dWr2vJm2/14Le/mc7x90fQtcKJy2m98y1LdDZt6sM3v53Mpc9qOHOxB+tfLWPJ0kKOnejPv/37g2zc3I6yshCcjvoaCe/aqouGoUyUKHJyQuncKYLcTDtNwoThgxI4c6Y377zTh9xsS7UvYpGPO6bk8MH529i8oZJWJdYm2CEKu1jaxD59HXzy6Wj27m1Fp44un+ZcFw0lNixZarXXuSqM4xfG8NEXfTlzoTtHjvRi6/Yydu9vz9f/Opzf/qE/6zdGcPJMLfvf7s3G7W1453g3fvuH8Rw/3pOhQ204bFb/YiIUCxe04ouv7uSTK6PYvaucl19qzVtv9uDq51M4f2ECkycnYJrWvdu1s7PzjcGc++RWXnu9E4uWZbPm5RacPDeK3347l5c3DCQ8ViM9R1jwbDmnLlXz5e86cvxCW1asKaH/oOTvSSJEYWkPTEtIhgnOWifF65rT4UgHOh/uRNW+rpQub0ncPXG0e7E9/c8NxDUnDJWpkBCxTB2moLQAYe6xzfg+NUHZ/Co00a1rxC1IhFjt2DzQLb8MMZSfYBiCkWDQdHoSo47eQsWrXQirCEM8XqR/C78IwzCuXbhVg0/RsUsITgkjRMIJkwhCJQK3hOESNw6xY4qOTQxCJZRQiSBEInBLKE5xYoqJ8tjqQsWBW2yEioMwcREqIYRKCA6xY4iBTUzc4iRUnESIk3CxESo2QsSOS5wYYuKLpPH0Ozw8nFmzZvHnP/+ZiRMnEh0d7SMIbrebYcOGcfz4cdasWVOPYHwXiQgU0A2Pe23/36eNmxWMNzK1fJevgVfzYhgGpmlSVlbGypUrGTZs2DXP3dv3wPHout5ou6WlpcyePZt77rkHl8vV6DyJCCUlJaxbt46DBw/Sq1eva9qZM2cOly9fZvr06cTGxjbaRhD/zFAozUQpw0MiEqirG8Bnnw5l5C0BJMK7GdOElFRh9pxMfv/HEVy+0oV77jVJSFCYNkVRocZLL7Xm629Gs2p1awoKhegoYdTwOK5+ejufXL6Nvn2cxEUqQk1FVprGIzNyOHNhELvfrKRDuV9Ye7XOmmZimhq6LkRGKybfnsylD7qyd2cL8jIUNk0RESIsXtSJ3/x6Em++1YLBQ0xiYhQum6J5jpPFTxbz3/81gz27OpKT6sRUQnGBsG5dZ/7wpzs4ca4zEyZpRLgVNpuiKF9j65ae/OY3t/P4/EwyMxrzQVOejZtVRErTBFMXbJoQHSKMHJLIqdN9OXioJ80CSYQSpt9fyEcfjuWVlysoKfBr0g1P25VVwsnT/ThYV0avHhHYTe/9NaxU4w6ff0mXbqEcPz+YP/6/Y9i6vYju3W2EhCmyC+0890IG//n/jeTf/nsozy5PobCF9V3rVoqXX27Dlc+GseDxPCJCrTwgE8Yofv+7+7h4cSjjx8aRlqAIsynyMzUefTCbK59M5dKliZSVWXke7ptexEdfjuWJZc3ILVQYhiI8TNGrewpvvjGNc+efpKLSgd2hSEpVLF9ZxMlzHZgxM5nkVIXTpb4HifA59Xk8bHVBMoWmc9PIfj2TqGWR2O+z45jswNbfht5OJ/TWUNq+1w7jWQMpF6RIkHRBwjwvs1gvs9gFSRKkueecJEGixCINdkFCxdJkpAuS7TknR5DIgHPsYvlkRFvnqDaCWWuS82pTmm8pxt3djURYJKKhV6xSCpvNdtMLcr2XsYG/g03TcYqNaIkiTdLJk3zyJJ90ySBeEmki8cRLHAkSR6ZkkCu55EsRxdKSHMknUZKJlBhCJJwQCSVOYsmSdEqkkFZSQoHkkSopREsU4RJGjESTIglkSgoFkkGp5FIoWaRKPLESQ4iEYoiJpvxCr1mzZnz00Ue8++67tGjRop6q3DRN+vTpw6FDh1iyZMk1zpVeYWuz2XzCNzIykri4OEzTrEeyHA4H0dHRREdH43A46s2haZq4XC4iIyNxuVzYbDbCw8OJjo72PZNAfwxvO4EagoaEIyoqiri4OEJCQq4r3Bt9np42QkJCGDp0KGfPnuXRRx/1mXQC76HrOk6nE5fL5SMVTqcTh8NRz6ekb9++7NmzhzVr1pCWloZpmteYjUSEvLw8Vq5cyRtvvEFVVdU1fausrOTkyZPs2bOHLl26XHN9EP/sUJ6dvu4nEW/3v5ZEeJwQvSRi7mO5/PZ3I9n2WiGZTa1oA7smhDiEKVMiOX6qhlc2ltKunZCbq/PCiqb8/vd3MWeum4gIhd2znhq6UNraYM0vizn/cTfufTAGmz2wfxaRUB5nv9BwYeyEFD640IPd29uRlWq107xQOPT2MC5/3I/77k0iPUVwGpZQDnUqqjqEcOL9bvzrb8YxtG844aFCaYmw/bUavvn1WJ5Z0oymGYJNWQLdNIRx42K4enUUe18voUsnBzbllQGBuRG8jup+La4pQpRbGDEkiROn+3PgUA9ychqQiOkFfPjhGNav69woiehaqTh1ZiAHDrajR004puGdj0ASYf2Gq2vCOfPBYC59UsXUabHENbHmKipGMXpSBL/+Y38ufd6BztVO3KHWd02ihUdm5PLBxb6sWd2KtCQhPtrg1Zez+fO/TWLhgiSyMnXsuuAUIdQQ2jR3sXpla779djIzZ9mw2YQ580r56lcTWb+tGZU1QkS4pUmKjtLp3CmUvn0jyMhQGIYQESUsWlrKiTPV3P9AU6KiPD586nuQCBGPE6ShcBS4KHg0l7Z7Sml+uoDEfXEkrY4j4dEYbN10JF2w97LT+lBrmh7IIGVtJrmrmtN0biYhPUKQOEFsgq2JjeReyZTNbUfLlc0pWVNI07lpOHs7kWRBEoTw6lCaPdyUrAUpJDweTdHaPAqWNcNxq90iFRGCxAtmWzvxE1Jo/nQbcl8oImp5GFl7kyncno2rxolENk4iRPyLcYcOHZg+fTrz58+/BnPmzGHChAmEhIR4zCKetgIcHpUINqVwi6KJhFCtdea++GnMazqHxzLmcX+T++lvG0AbaUOlvSv3NL2HWbGzmBUyiwXJT/FE02eZmTiH0a6xlEkHmkoGOZJDjdad+yPuZXHyIpanLGNOzGyG24ZTIs3JkWyqQ6q4J3UqsxIe4rHIR1mS9ARPpsxmYtgYWuktiZN4XOJGV5Zwj46OZsqUKfzHf/wH06dPJyYmpp4wVkrRtWtXdu7cyfz58+vNlc1mo7a2lqeffprly5czY8YMpk+fzquvvsqOHTu45557CA8PxzAMKisrWbhwITt37mTHjh08+eSTVFVV4XK56NOnD2vXrmXlypVs2LCBNWvWsHz5ctavX8+GDRu48847iYyMxDRNSktLWbBgAVu3bmXnzp0899xz9OnTh5iYGEQsDUFycjLTpk1jy5YtvPHGG2zYsIEJEyaQnp5+zaJ7PeEbFxfHyJEjOXDgAH/+8585d+4ca9euZcOGDcyYMYOsrCyKi4t54IEHWLduHfPmzaNr165UV1ezdu1a1q1bx9ChQ4mPj6empoZXXnmFr7/+mitXrrBx40Zeeuklli5dSmlpqc//QSlFamoqTzzxBK+++ipt2rS5pl+hoaEsXryY8+fPM23aNJxO509AcAXx04GXRFiaiM6dE3i7rhESoQyUbiKaRkqqYt5jzfnVv4xn2ZIswt0WgfDmSBgyws3h93uy+bV2dOostG7jZM/eIv705zGsXO3krqmKO+8I4647Y5l8u5sZj9p582ARV7/qzcKncwgLC+yf1wHc0jy7Q4Ux41I5/0Fvdu7sQEaqpSHu1VO4/PFkjhzuRt9ekbgcfidzUwkZCQYvvpDBX/4ynfunxRHXRNGiRNi2rRdnzg9l4h0xON3+kEQRoU2ZzrHjtZw8UcGwQTG4HV6fOm8pck91VN+nP0IuMkQYPjSJE2f7sv+dGpo18+Z7sD6nTy/iww9vY/26ckoK/UEBfhKhcebsUN7aX0Z1tzBMX3ZHDcuUYfOZ5Tt3sXH63FCOvNeRAf1CcRjWfULDhX5DQvn0m94cfC+fZgUmdrsld5wOYdLkLE6c6c269WU0TRea5dg4caKcb74exOiR4URHWs/VqVn9S4rXuG9aCr/69W2sW59GWKhG795uDh8bzGe/upW6I1UsWpbFlDtddO8pFBVbDppOh0UW4+KEJctbcfJsD+6bnkVkhMcs9P1IhMf0YAp6sUHeghw6HWpHy5PFJO2JJ31VMk3vT8HdzoFEC45KBx3qOtHqTFuSt2aStC6DFq+VkrWgKc5ONiRcsGfbSZuSQumqEmLXRhP9ciQ5u7NosrAJZgcTyRBibomi7eaWlL/TlqwtKUSvjCR7U1NavFpC2IAwpKlglNlIm5FF2S+7ULimLUmrmpK+O4UOZ0sp3t2sHom4UejoLbfcwmuvbePo0aPX4NChQyxbtozomBhLjS3eqAlvpIlFLBxKESMOOtqb83jWLNZkr2BJ0nMsTlnEquyVLExcyGhtNINtg1mUtog3897izYy3WJewniWxz/NiyhpeaLqKu6PuoYt0pafZi6din2Zz8hY2hmzm5ZD1bIrdzIr4FxjtvpX2UsYgZ3+eS3uK1wo2silpLS9FLGNtwjJWZC9mVMgICqSASInCJtYOPj09nRdffJFvv/2WioqKRm32LVu2ZMGCBdx22231jpumSf/+/Xnttde4cuUKV69e5fz58xw9epS6ujq2bNlCamoqPXv2ZMeOHZw8eZK9e/eya9cujh07xq5du+jZsyfDhg3jiy++4JtvvuHIkSNcunSJq1evcurUKU6ePMnBgwepqqqiqKiIrVu3curUKV577TU2b97Mu+++y549exg1ahQul4uUlBTmz5/P5cuXqaurY/v27Rw/fpwTJ07w4IMPkpKS8r0W4/j4eMaOHct7773Hn/70Jy5dusTrr7/OwYMHWbhwITk5OTRv3pwlS5bw+eefc+LECR555BFmzpzJt99+y5UrV7jjjjtISEigd+/ebN26lV/96ld8/fXX1NXVsXfvXtavX0+7du18mhalFJGRkUycOJHZs2eTmZnZaN/Gjx/P2bNnWbZsGRkZGT8BwRXETwcKTdnQPCSiojyBurp+fPrpYG4Z4Q/VE2VDaU6UMkhJVcyZU8zVK7fxzBMZhNoEh0f46oYwaHgYh9/vx7ZdHelSqSivCKXundb8+19Gc+RYc+oOtaauroa6uv7U1fXkncNduXCxhvMXevDEwgKiowP7F0AixCIRo8amceZCLTt2dqJpinXfwYOETy5PYt/uTlR0DLXCCsXyobOJ0CRS47E5EfzlL48wb24myUkmzUuEjZt7UHe4DwOGOtFMb6ippYUsbC4cqOvG2bNV3HZrPBEh3hBLr1+ClzwEJtCyiEtEiDB8SCInzvTmwKHuNPNoInSxiMr99xdx8dIYfvmyn0SY4pcxXSoVZ84P48397ansapEI6zsNy6nS9JGIyioXZ87ewoH9HehR5cbmeRZh4UK/wWFc+WYA+w7mkZVt4nZYPip2mzBhYg4nz9Tyyw1lZDcTikscfHCpmg8/rN+q56sAACAASURBVKF3TSjRYYJDE58GJjpKuO3WOD77fCi79xXRJFYjNkaYOCWBHa9XcPHjIXz25QguXR7CoXf7sOLFjgweFktUlGX6SEgQlixvyfHT3bnnvizCw/2+jN9BIjyTrKz4U4kRwrqF0nZ9K4p2FRA1I5LQPiGEtQvBTDGQCMFR5aTDG+Wkbc3EPT4M20Anuc/mULImnyYjopAEQc/WCR0VQtLiGNxrTNwbbWS825TU7em4B7uRDMHZ00HOmizK93ck/J5QVHchZKqbrjsriL07FukgxE6Mp/lLrSl8siXhfWOw1zqJfCCCTofbUrI7H3etE4kRK0nJ9TKXKaFNm1bcfvsUZsyYwUMPPVQP9957LwMGDsTlcnkW/wAthGY5N2oiuMSgqRbPlJQxrMhbyqOxjzDcMYyBzgFMb3I/K9Kf5/G4xxmmDWdG6CMcLXyPLTFbuNtxN7cYI5jqvoPl6UtYmryEqdrdPOyYyVvpB3kjej8vqV/yvKxik2Mrb2bu59nkZ+hn70NfvSdPxTzGtuav8GjIPdyqD+R+xx2sKX6e+6KnUabaEiux2MQSXPn5+Rw4cIBPP/2UvLw8n7q+oVmgRYsW1wgsTdNITU1l2rRpnDlzhq+++orVq1czdOhQevfuTd++fcnMzGTt2rUcP36cuXPnUlVVRVVVFTNnzuTYsWO8+OKLtG7dmjNnznDq1Cnuu+8+du/ezenTp1m6dCkrV67kwoULTJs2jXvvvZc//OEPvPvuuzzzzDMsWLCAN954g6tXr7Ju3TpKS0vp1asXFy5cYMeOHfTt25fy8nLGjRvHgQMH2Lt3L7W1tY36aDQMZ3U6nTRv3pzHHnuMzz77jNWrV1NdXU3Pnj1p06YN4eHhREZGUlVVxbJlyzh79iwnT57k+PHjXLx4kdmzZ9OiRQucTicpKSlMmzaNI0eOsG/fPoYOHUp1dTXl5eXExsbWM2uYpkl2djbNmzcnJCSk0fezpqaGI0eOsGnTJlq1avUTEFxB/HSgoSkHmrJhaEJFJ4tEfHJlAMNHWmGZVlSBHU1z+UjE3LlFXL1yC0/MS7BIhPjzBQwZHsmRE4PYvqucrl01ysvDqDvUgW//n7EsWpzIAw+k8+C9uTx0TyEz7svn4QdyePihTKZNS6VHzyjCwgP7543G85OIkWPSOH22lp07yslMsnbwfXsJH12czBuvl9O1IgzTEJQyMJUdhwjxURoLHovkL395iLlzsklKMikuETZsrqHucC8GDXFg2gRdaZi65YNU0lI4eKiK4yfLGTkilnC31+lc80WO1Muc7E0VIBaJGDEkgVOne1FX193nE+E1d4wfl8LJU4PZurWc9m0DckB4ftsDBjn58JNRbN1eTFl7uy8RVj1NhMcM3r17OGfPjGb/vo7UdA3xCf3wcGHQkHA+/9VQ9h7IJzvTxG1aJMZpCrdPasa58315ZUMZmTlCbqGD02dq+OTyIPr1Dic6TLArP7mJjhJuGxPH1a+HsGtfHgnxGoYmJCcLlZVR3HVnFksWlbJ7VzdOnRnK5c9uY/87NfQdZOB0CkmJwvKVpZw414O777dIhFdbdENfQ5/Kx5vUyCZIilC6uBV5L+URMiDEMj9EieXzECU4Kp2031uB43E3qkgh6ULK3Qk0X9OMxAlNkGzBXm4jdVYCORtTiNnkInyXg7RTqaQeSMc9KgRJE1S5Iv65BDps7oC0FyRBkAqh4pUKYh+MRXoKTedkUrC+OaFjIpBEQZIFrVyjcGMezXcX4a51I7FiOWBeR5VtGBpdulQwd+4cli5dwqJFi+rhqaeeYsLEiYSFhVmCxxeKqXmKq1gkwi12ioxcHm8xj2dTFjHUdgslUkqeFFBr9OHpxCdZmfMCI+QW7jDu5FDeIRYbi+kpNbSVUqqlC7PjH+HF1FU8bnuCZc4XOJF1lsOxx9getotNodvY4drDwfRDrEx+gRGOwfSWbsyPmMkvm6+kv3SjVHIZKL1ZVvQcD0XfT4UqJ0HisYsdpRTFxcUcO3aM8+fPk5WV5ctNcDM29u7du/P666+zZ88eOnXqhN1uR9d1DMMgPz+f9957j+3bt9OxY0efwG7Tpg2bN2/m1KlTNGvWjP3797N161Y6duzI8uXL2b17N+PHj+f+++/n3LlzzJkzh/Xr1/O///u/nDp1ip07d7Jz506OHj3K119/zb59+xg8eDB33XUX33zzDePGjfOp+iMiInjsscc4cuQI99577zX+GCJyDYnwXjdq1CjOnTvHvffe2+i8OBwOevXqRV1dHf/93//Nn/70J7Zs2UJhYSE2m813Xu/evdm9ezcrV65sNOqiYXTIjRxKKyoqOHToENu2baNdu3Y/AcEVxE8HGrpyokkgiejL5c/6MWykPyGRiA1Nc6CUQWqq8NhjBXzx+VAenxNFqOknESLCkOHRHDs5lO07K6goV7RtE8LOXWX86++mMWWKkJYipMYJGXFCWryQny3UdHMzeHA0LUttOByB/fP7HIgI7hBh1Oh0Tp/tx67t5WQmWkKuvEw4f/oOjh2tZdDAJrjdVviqoQxcmpCTYrJ+XTP+4z/u4557kmjSRKeoubBxSzWnz/Zn8pRoQtyCrhSmbmldu3c3OX6qD/vr2tC7Zxgumz9yTQWSG38+A7zaiHAPiThzuhd1ddXkZHsqpYpFerp3c/LWAYtg9Kt1+TQNumbl67j/wVQ++2osi5ZlkpvvLantDVCwExid0b17BGdP38Zb+8rp3jW0HokYMiSCz381nNffKiC7qYlLt+bLbQp3Tcrl4vl+bNjYnvRMISnNzhtvVvCvv72LyRNiiYupXw8lMVEx/YFkfvW7W1n9cjxNYhWlzaMo7xBHdoaD5Hghv5lJ14pI7rori30Hyvndv49j8cpkoqJ0EuOFF1a349QHvZg2PYuwCItEBJqQGoUVqmip7EUXJFyQ5kLxihIyf5mNa6zbcoxMFysvRKLg6O2kbH8F9gVuVIFCMoWE+5qQ93IW8XfHIO2FyCkRtH+9NVmb0wh9yoH9RYO4Y4kk1qXimhCC5Apad0Xi8/G029wWKROLrFQLnTZ0IubRGKRWSJ2dTu7LeYROCbMcL4sErY9GztYc8vfl4xrishw27XLdxEuGoTN4yCA2bnyVt9+u4+DBgz7U1dWxf/9+nn76aaKioz1ZOr35HwyUsmxrmgghYqdIz2dW8S9YnLGCsfY76ChVtJYODDVH8EzisyzNXMIQGcLt5hTeyX+bl8LWMFYbS2/pyUjbcJ5IfZxFqYu4z5zOXPd8Due9R13CYV6J3MS6iFdZH7qRX0a+wmz3L+iv96KvqmFh5FxeLlxFf6mhlRQwSPqyNH8xM6MepZvqRoqk4PCYM/Ly8nyaiIKCgpvKP+ANWxw8eDB79+5l7dq15OXlERMT44tAaNasGXV1dezcuZO+ffsSGxtLdHQ0PXv2ZPfu3bz33nsUFxdTV1fHa6+9RpcuXVixYgW7du3ykYgLFy7w2GOPsWbNGv7rv/6LU6dOsWnTJtavX8+mTZvYt28fS5YsoVevXtx+++188cUXPPjgg6SnpxMeHk5WVhbPPvss77zzDlOnTvWRC03TCAkJoWnTpj7fjcDxhYeHM2rUKC5cuMCsWbMICQkhMjKSnJwcMjIyiI6OplmzZtx///0cPXqUDz/8kAsXLvDOO+8wdOhQkpKSfG3W1tayb98+fvnLX5KRkUFYWBhpaWkUFhYSERHhi/YIjPi4Homora3l2LFjvPLKK5SUlPwEBFcQPx1o6MqGrgxMTejSMYG6g3356Ep/hnpIhJUy2R9qmZoqzJuXx+dXh/LYbItE2CWARIyI5tipYWzfUUF5J0WzHBtPPZnPr3/1ECtWNKVZM40wh+BSQqhd6NA2lIXzS1m9upw+tRHoZmD/vPU+rFwJ7hBh5OimnD4/gL37yinMs7JMZqUKe7aP4OOPb2P23Gxy8xR2h5WGOiFKGNzbzfmzfbjy2W306xdBWJhQVCRs2lzF19+M4vkVORQUWNU2dV2IihVmzU7n4ysjWb02n1Ytbb4cFvVJhBaQxM9fITUsRBg+NIHTp3txsK67L9mULhaJyMsWXnihM6fODGbmrCwSkyxTkMMp5BUIm7d15qNPx3DH1FTi473O+MrvyKl0nzmje00YZ86M5Y29FVRXhmHTLT8DL4m4+i8j2f1GMdnpJm6Pf4PLFO6clMfFCwN5dWMH0jKF8EidBU9k8Lt/fYiVLxTTppWDEKfgMIWoSKGiawgbNrflX349jrvvsxPmFh68ty0bXunDuNuSSU218kyYhpCdIyx4Oprf/+d4Xt6cT2yMSUITYfmqMs58WMuDv8ihSbI1314NjS//UcN3VInhYVCCsimcuU4SJiXSeltbCt4oJnVZGkn3JhLdLwqzwMDIM0i4O5GKw91o+koutu4OjM4mGY83pfWelmQsTMcYYhDzUDQVB8uJWRpD9IwYIhdHk/x2Bs2OFpIwJxF7jY2wsW6Ktjaj/PUyIkaHIdlCxB0RVO/rTvbSHBxDHERNiaJgZQHFSwuJmxZL9NQomjzVhDbvt6Hl4VLiZ8RjFptWNIfeYJABkRWZmU3p3r2aQYMGMXjwYB+GDBnCkCFDKC8vxzBMz8PXEWWixIYuNnQPiXCKQaqWzLD4W1hatJqF8cu4K+whJoZNY078AlakreShmIeokq6MNUfzTmEdB9P2szJ8FfNC57MocTErsldwb8J9VKpqhriGszb3ZX6Z8CqPhT7BL5zzeTL0WZ6KfIap7jup0asY6ujPirTFvFr8EneEjqdCOjDePpaVxSt5Mu0p+jsGkibp2MTaJaelpbFq1Sr+9Kc/UV1dfU344Y0QERFBRUUFixYt4uLFixw9epRZs2YxZcoUOnXqhK7rRERE8NRTT3HixAnWrVvHlClTmDhxImvXruXcuXM88cQTdOnShQsXLnDq1CnGjx/Pyy+/zNGjR3nssceYP38+V65cYdWqVTzwwANcuXKFN998k1mzZnH33Xczc+ZMli5dykMPPUSLFi2oqqri6NGjnDp1iocffphbb72Vxx9/nOPHj7NlyxYqKyt9/Xc4HLRt25a5c+dSXV1NWFhYvfG5XC5qa2s5c+YMe/bsYejQoYwbN46nnnqKu+++m/79+zNv3jw+/vhjLl++zFNPPcWSJUv4n//5H44fP86kSZNITExE0zS6dOnCtm3bePfdd5k2bRojR45k1qxZLF68mOLiYux2+/fSRGiaxl133cX58+dZtGgRaWlpPwHBFcRPBUoUumagKx1TF7p0SuTgwUF8+OlwhnjMGcqbt0G3skKmpApz5xVx9bMxzPtFIqE2SzB5ScTg4U147+QoduzqTudyO5HhwsC+TTh6eCyXL49k1qxMaro2oVVxBNVdmrDo6TIuXZzAW28OpmfPCH+dBxHqkwiF2y0MGZ7GsdODOHtxEFPuSKZd2xAiQhT33FXA2bOjqTtcyf0PplPRJYb27cIZOTiOza8U8bvfTmb16lbk5DgwDKG4UNi0oQv//ufxnDlbxiOzounYOYoWrSMZNT6Royf6cfbCcCZPSiYxzm9ysEhEQOmAwFICHo17aKgwdFgyJ04PZH9dHzI9JEKJ1U6ESxh/WzbvHB7A/kM9mDAlnnbtw+hSGcH8J1K58vlYdu7pRpeuUbhd/rmtlx/JE6lYXRPOqTOTeH1vNVVVkZiGpfWwSEQ0n309kV1725GdZsfl0YZY5oxCzp8fySsbK0nPspKKVVUqjr03lvMXRjHvsWJqusfRsX0kgwc3YfHylnz06SjePlxL2zZWOOusRyu4cnU6O16vYOyEBMrKImlZGk7fgbG8vLE5X/56EjNmJRAZphMfKzz1XFsufHoLL20pp3Z4PNn5IRi6v6S7Nz15AzmreyZd0O0aCV3i6bmiF3321NLtrW50f6ua2q29aDuzlLDObkJahtB2blt6b+9D9bYehI6KxD0slFaLWlH7ei9aLWuJa7iLiGERdHipA523VtBhezktX2tHyZ52dHqrkpIlLYgZH0nyfXFUb+tMnx3VFM3IQ+Uq8n9RwIBdg6lc343Y4U2QTkLSxES6rCin6tUudNhYRvvd7en4Ricq36iixXMtCOto5Yrw5aQQ/4Drv/DfB7qVcEtMS4UopicJlJUQyiUu8lUxd6Tdx3PFK1lauJalhatZXLCCBxJm0F2600paMNoYyVvZ+9iX9Dqvpm5kddZLLMpZzLTEaXR0dCJeksgzi5gQP5ln8xbzfNaLLEl5gRdyV7Ok+TJuT72dakdXRkQNZknLZ3i+9WIezL6HrtKJyU0m8WzZcywoXUj/qIGkSjp2jyYiKiqKyZMn85//+Z88+uijNGnS5HubMlJSUnj22We5ePEiX331FV999RVffvklFy5cYO7cuTgcDpRStGvXjlWrVvHBBx/w4YcfcunSJT744ANWrFhBSUkJ48aN4/Lly3z88cfMmzePNWvW8P777/PSSy/xzDPP8MEHH7Br1y66d+/O/PnzOXv2LGfOnOH999/n9OnTnD17lueff56SkhJiYmK4/fbbOX/+PFeuXOHixYt88skn7N+/nzFjxviiOEQsTcPkyZP58ssvmTt3LklJSfXGp+s6RUVFrFq1ik8++YRz585x8eJFLl++zPLly1m4cCEHDhzgyy+/ZO/evYwYMYLx48fzxRdf8OWXX7Jt2zZKS0sxTZP09HRmzpzJhQsXfBqLjz/+mP3799OmTRvfXH0XiYiOjub555/n3LlzTJ069aZIXxD/t6GUQlMahmZ4fAGETh1S2LNnFGc+mET/wVZonnWuhqFbuRCSkxWzZrbiww/uYtbDuT41v7fdfoNSqDs8ic2bB1LeIQxTE9ISHdxzZzFnTo7n4w/Hc+DNAWx6pZIDbwzg8qU7OfrOGO6dmk9SfMM0014SYSW+czqFrlXxbN7ej9/8/lHOfzSepc+3IiHOpFmW8MQTZRw7cRsnz4zl9b192P5aBceP9uOLK5N5Y28tlRUGLqcllEsKha0bKvn9b0fy8YftOHaiHbvfrGbLru6cuXgLH346kfmPF5Ob48KuWdFzpq9MQiPFDL1+f54okv6D0nn73THs2DOMtExP1k/xmwjym5k8Pr+U8xdHc/bCQPbs7cib+7vw6dXbOHl2NKPHRJOQYNWtsHIpBNbMUD4S0aUqlneO3M3W1wbSuUuclSVUE8LCFP37x3Px4/vZ8loPMlOdOANIxPixLXnvvdtZ/VIfq3+mEBaqeOD+Uo6fmMylDyfz9qGBbN9RTd2hvly6PJa33xnM5IkphDotjUq7Vm5e3dSHi59O5L3Tw9m6qxuvbCln38HenL44gY2v9aJ1W4XTJoS5hCl35nP01Hg++eYe9rw9lAl3FmOz+UmE1li2ZM034QrRFVqiSXyXBGJ6RhPVJ4wm/aNIro0jukMERpqGHqsRVuIiuTqOmPJI9Kaa5UTZPoS4XrGEdw5FMgVJFuztHOSPLiJnTAGR/eLRu4fg6hWJo9yNVqBhNFe4u9oIr3TjbuVCYgRVohNZHUt4txjMPLsV5hkjuNuE0HRkFmljs4gdEYejl5PQ3mHYymyoRE9CqoaDuykEpJr2sFZNTAwxMMQfsWGIjktCSZNsOri60C9uCIMShlHprqJACkiTVHIlmxHmMPbl7GO+sYCRMpre0pe20oYUSfIkk3LhklCSVCplto70jxzCiNjRDIwZRpeQKnKNPCvXhJ5OJ2c7KsM6UWovIlUSaeEooVN0OW3D2pFuZBAioZ4Kq5YjX2FhIRcvXuT48eO0bNnye5s0nE4nbdu2ZfDgwdx6662MGjWKESNGMGzYsGvaiY+PZ8CAATz88MM88MAD1NbWkpCQgGma5ObmMnDgQAYPHkzLli3p2LEjPXv2pKysjBYtWtCnTx+6du1KSEgIISEhVFdXM23aNB555BHuvPNO+vXrR35+vi9nhM1mo02bNkybNo05c+YwduxYioqKcLvd9QS03W4nPz+fadOm0a5du3qJtLyw2WxkZmYyceJEZs2axdSpU6mpqSEpKYlmzZrRq1cvhg0bRmVlJWlpaeTk5DBo0CBGjBhBhw4dCA8P95GB5ORkBg4cyMMPP8x9993HgAEDyM3NvSb3RKBQaHisZ8+enD9/3udj8mMLriB+WlBKoSsrg62pCQV5TfjF7F68sHoEbdsbGLpfjW4aBrquERtrMOqWYla/cAsjh+dimFLPm75t+3ieeHIQDz/UjcLcMF9lx6hQjQF9YnlxeR8OvDGFI4fu4tDBybywrIYBfRKJj/RXA/XXzwjc8VtO6TExGrX90nh5w3jeevtelq4YSHq6pV1IShRGjcxl1YsDeOvgeI4cncC+vUOZM6s5pSWW+cThMUu0KBS2vtqdi2f78vzSMJ58Mp4Dh27lnfemsm3HcCZPSScl2cTQrTBRw1MuoJ42wDuXgVmHlVWMrEN5Egue7MeMmTVEx1mmIVH+mk26CNlNTe66M4ddu4by/vHbePfoGNat70ufvmGER1jjNXVL5e8nL4a1EfVsYPOLY1jw5AhmPNKdwsJY3+bW5dIoK4tnxcpb+cUvupIS78CuWc6SDl3oVpnLk08OZto9nYmLt4iK1ym0f99Eliyu4fXXx3Do0ET27buVp5/uSLfKUFxm/YJgzZvbeGR2e7btGcWBo+OpOzaBnW+O4pE5rSkssTRZhieMs2mmYup9rdiw/TY27BjHlGntregNbw6NxkmE52XQdMRu+lM7e9UxWsADuFGxJ2/2SW+NB2+dh4bprPWA77xFvLwaBHfAfc2A7zTP/94iYPYG9zADzguMab1peImEt+6HhYZVQpUY2MRFiITjEheh4iZEXLjEQbREkq83Y1LURHYX7+U521IGqKEUSDExEoVNrHwOSvOGHFlt2cRNhMTilnAc4sYmDkxPGm2H6ISIHbfYcIqJXUxMD2xixxDTWmiUZa8PDw9n5syZ/PGPf2TChAmNOv790AXtb3GO9zzTNK8rcL0Fq75P9svv8jn4uyzsuv43KVr25JNPcvnyZe6++26ioqL+If0P4ucDr0DUlLWQ64Zlp3aHeSIzRDxZGTWP6cMKD3Q7BLfNs0s2BcOpIaaGZhN0m5X90GXzV500RfOF87lMIS5KyMkU0pKFqHBrZ9ywhLh4BaYYHvOBJ2mdWP0MDRei4qxqlXa7JWy9BbxCQoXkdCEjW4hPEFwuv+3d4dH8lhQJ2zb14vypQUweH0FkuJCcKuTkCRGRVuEobx4Dm26iK5N6JcEDhV0gifAIRN2wTASGzfr0nmtqBqYysYlmOVqaQpMYy48gI1twhnpNSJZ/hqkrv7o/MPuzMnxyyeGyoHtqHyndU8zLJoS4hdgoq8R5YO0oTVn3ttmsPA7e414S57BbYZmZmUJiouBy+J+RM6AOiIh137AYIaGpkJQpRCcJhsMah90mOE0DU7MsEnaHEBEjRMcLEdGW6cerfdINb+RiwHvqzfAlSrMiHLzC2POpGQZag+yASrMmr17p0YYkwvedpeIxNAO7Ycc0LKFhmBqGXatPTmxafeJh+idbefvkGYBut3miMQKKW3leUO9kN0YmGivR3SiuiYX1EwwRDVO3o3tUeIbSPDXrDWK1aCqiynmiw0Jebb2F9S0382jhPDqGdCZWonAoLaC0rvKoAS2YmgObONHF7jmmMETHIQamp1690aD/geozLznRdZ2EhHjGjx9Py5Ytf5CK3Fs4KjAz5M0KzoaC/Wbqc3izb3qzaF6v7Yb3uJnS5g2zdX5fInIj8mKz2a5LjBpDdbXlp5ORkRGspBpEPfiqGav6C7cvBN1znu5xqPR+5z1f88KzbmoOhbKJr/Kx5s0dIQpTGTgNu0+IaZoluHTd345/3fGuhV6BGQhP2XsPYdC0wP56Qq892S11D8HRdetTiWDTdWye5H4tWwo7dtRy7twoJoyzSprbTIs8ePMCGbpgGjq6ZplU6kVjKG8/JYBEKEQ3EcOO6KZvXgPnUxMNm2ZiV7pvN29oFmnTbYKyS73Nsqb559KfT8FyzBfd8JXuDryH0pTlw+I57k105Z1jUzcwNN1DkhSGpvlrMon/PdACZLG3/UD5oGn+a7wlyXVPJVBveXVdBcBzzDvHuuc9CGzjmnfVW7pUxGMv0hU2u4GuKTQxMJUTXZn1hLMvEZPUFxBK8zv3KE+BKIfYcSsHDjGxKxObMixhqBSm0jBER/eqwjTdetm9PwJdfE4d3iQgmrdaprLMDZpY2dyU0uqV2W5IJFQjuOGPuJ72JdDUESCkAl5Ar3euSxxkmxn0iujFUNctDHKPoKOzC0laCk6x+zNh+hxUlI+AWQLJowVROrqmo2uaNVeaslRmgcRGa/C3B0oE0zCIjIjA4XBgNBLu+L0WsUZIwF+1KN5AUF+vHkfg395y5t8V9XAzWglv6Or3ITeB9/OmBP9r7i1ipeIOVvEMojFcQyB8Qijw/QqoU+TdLWo6hm6iKYWp637tr7d+kWeN0cXa/FhFAA1MZcOm2bFpTnRxosROYA4If4mEwLWwMaiAkEpPYUextARKN1Ga4cmj4MAXHqpZ12pK8+20i5oLW7YP4cKle5k8Kd+jyVBovog5w/97U5onJF81sm57+q8pqyaTbkM0B6Ls+CM2tHrn6krHVDqmGOjec5SBaCZimoih+TT2XplYr4KzUojS0e1uq/aJbvf42vn9M7wbNSMgwaGhdHRlrf+aGJ58F4Zvo2lpyC2nf9NwoWt2rOrZnqJf3hTf16xBXsJnRRxqmqeeiDKsNjU/EdGUv96I9z284buqBVSP1ERDU1bBFNNTAc17XHmYinew9XJLiKCUbmVVU4Y1EZ6X0xQNm+iWX4FSFnyTXr/yplKq3gPxMiO/kA5EQH50z4ukq/pxs4Hna3ItsfhO1NNGNHghVSPniOUzESZuErQ40iSVFEkhSqKwi90iaw1NQaAFmgAAIABJREFUQ8rStogZ0Kb3B+vTLoivFGxDwlCPSASyaeWv+nlTY/6JoDEC8/cwXXyfNv9aohJEED8MDRPoef9vTHBLwFqsoXuEse7dpHjV+B7hqjxrr9dUq3tIha50z6bRU846INvj9UlDIyTCpyH1FFL0ZP61Quc9All5E0L5x2YJMGsc6ZnCvCdqeGXTePoPzLM0F4bC0HWP9sVA0yxNufISCF01WBMD+yKec3SLDChPKGYjffebs73C3BKsShmW6V9T/vmWAPlSb5OnWanIle7JN+RND/7/s/eecVZVW9rvmCvsXLUr55xzLipRVFFQZJCcc1AQBUQEQUyYcyCZQDGAIphFxZwxIiYMrbYHPef4at/39Hm7f3363g//+2GttfeuokA9se899WH8oPZee4W51prjmWM84xnhyHFoMSROqiLsE8O9P3qeo1VR6UVXfiwJAi18fhEppZ7zvq2kKR6UuK3rCAELFY5giYTAygnFG3vvXxMLMJh27t9R7HJ0wvWIwekR0lJaSM3RQZxhIqIe+l1fgxsZ1ehRTdHrhujKkXTt4wWL/J0NcCLJJJHH/1URiL/QlA2+DNFxKRNTmejOKjdkES+02AhQd8Yy4vr+HDvRjf6l5/8/yDH+Pc/lf9J191u/9XTcvR24QU9CYy/HLb1Wxr0XG/YxThydVcft79eDCHtfveenyAisOt5RRab0/EGhqiGV1o58MnKCVmpbt0L0mtKtVLCKABCa6snjC11vBIhwgITqZSJ9XkvYQTs8OcfJ9xzD4yMRkdfZa+7vY77u+570vgeO6SjxoonXBg7hRXmIQ9NrgW7tw4WIFwlFmKTHvkPXpCJ/1/c59rpeFUoBOCt+xxk7FlrZ9w7xK81Cg+JCiYkmho3c1HEPpyYROTo53sFr0sfnoVBV3zcsBDZsvoAZskgQoXrdjL5uyq+zX+RweqcYlMIUE4+4cYmJrlQoh6UrDUP50MTTI4zU4+VVqo8IhIP01fEP5c88rH/RtfVbv/Xb39h6O+1I3oFB30Ai7JR7gII/Yx448Tn9Eos41gkWOyfTTXH+rzRBGbYdB4Ii5sXeEdpfvfg6MYgIAwkNRzI7HI3vw6H+XUyz/a3LPq++/KkWQbh1fqdjNSYzTg4SfsYH9PbT4siAhm5CxMA4qQHHIYuSnqExpdDERBe3fUEWGbD3Qxt29j05C1qv7yL/DVWMOCkTzQr7Ky1MqnG0G5xIiikaRijP51xkBKJXvVH7n3cTfxWIsMfBFJOgBEmSBOIkiE9cdumojkt5CUgCHonFEJ8dwop8sK2JQmlaL4TraFrYzGyl27oWBprS+sil/vw19YOIfuu3/wn2a0BE74hEH/v7iwFE5Hn9DIBwjncSOzGI0Ol9DUpp9ud9nMefG7E9DkScPNLSF4j4s9Pkf4V74KRbnJR1JLAJUwUc3xBJAeiZ5u5r/38WiAix+7XjkexxuXiHpGODCaXpaMqFUmbY4fd+YOx96Uqhaxq6UmGCpHNCznah32l27kohpqAFNcxUqwGY2AxjTQkuTbMJmhqGMkJEEaUi0KuIDSDC9cx/yU38pRUGSjmgSZGkJzEgagDD4rpp9NWTIkn4xIdHfCSoFBoS2qiMaSTWSMIQd0ROysplacqFqVx2usjAsD9zWt66xEWcFkuGmUmiJOIXHy4xLEZvHxOIruskJCTQ2dlJUVFRiNgXCASorq6murq6h+JjX5yEk9nf52Xqt377/6udCET0BSD6Smv8g8//ZE5b+3UgQtd1dN2J0P46sPLLQcTPp2l6g4i+Iup/r/HtKyLv+NDwOdmpjQgf3AcA+LOO3SsFpuwB0kPIJTS4uiAesXQZQvoOKlzK6RbEoxC3hrh1u0RThXUmeoX0NVNDdxlohrWqVpqG0q3tlSk9NSSMiOMEBX+dj9TJSUitIAEJaUW4XSa6bpM2dQNlGBa5xrTP3dmv0m1Wb+90wa+3vpo7HfcyiEVY9YlOlHipd9eyNm8ttzbcxlnZq6mUSuIlgThJoEyv4Nz681heuoIibyle8aOLA4Z0dOXCpbxESTRREkW0RBOtYvCqAKay0iOxEk2Np4qJiZNplhYyJI14iSFK3LjsXF5kzisYDDJp0iSOHDnCihUrQoAhNzeXzZs3s2vXLjo6Ovq81n7g0G/99re2vhzbPwOI0Hr87SwG+1oI/exx/oogoq9IRF9A4u81vicFEUrCsgjSB63gr3++KuLh1CyH7xEkSqGl66hsDUlTVrvtoP2d37ZEQUvTUFkakqyQWHuboKCiFVqMZv3tEyRKUAkK5ewnYG2j4hSSqJBkQaVpqBT7WIGI3+Ur0pek0byzETVXkCxBpSpL6torYbAREFSiQkvT0DI0JF1Zx7L7api6G12LECTp4wF2uVy43e4e5vF48Hg8uFxWu+1QmaFSfd4IJQqXmMRIFJmSSokUMFg62BDYyJ6iB7k8+ypapY10SSdD0qlRVZwZs5wF3vmUaqVESTSGHWEwxI1PooiVeAqlmEIppFhKyJZckiWVeEkgQeLIlyymxk5ic+kWlsrpNEgD5VJCnqQTJ348YqDbzF1N0ygtLeWee+7hxx9/ZOzYsaEmVrGxsVx11VV88sknXHHFFcTFxf0q7YV+67d++2vYiRzbL0ln9P2e/l1Xy39tEHEygv3fBERERj0iSZUnBhG/xDH/aqmBk+ynr+ObhsLn1wlEG7i8x4OvSCD013selEZIbUwXxCeoHIU5wUvs2lT858Wjn+lGm66hmpTVEjwoqFKFNkUjekMcURvjMGe7UdXK6vRZKJjDXUTPDKJGa0iqoJoVnhluXLNMtAEakiOYTSb+WQHMRW700wx858fgWuVH69KRLLGARKYQmOAnf1sOJS8WYu400NZoeJf70YboSKZ9PqkKrVXDvcBDzLo4YtbFY873oDo065zcgqG70FRPEBEJCoLBIE1NTXR0dPSwrq4uhgwZQn19fQhMaJpmlxppPW6GlcLQiZFYqlQtc9R8VquzOVet53q1mQcSHuHKpOvokA5KpIA21cAUbQyrtdOZo6ZSIaXESAyGuNDEhV+CZEoOA1UHS7SlrDXXs0JbxTxtISPVGKqkmkopZYw2jCtiL+H5/Be4Vd3BWrWOldqZTDbGUKJyiJEApliiTVFR0UyZMoWjR4/y0EMPEQgEerzQw4cP59lnn+XZZ5+lpaWlx1j94yfXfuu3fwY72erYKeeLVIo8OYj4uxMA+wAOvxZEOEJMPa1X9NOpyvirgojehQEO70D14PX1thNVA54oEvCX3I++ogq6LmRkmkydm8ziFbnEp2mW0Jj9PClxtJX6Ln442XmcFDQpsQSOHAAh2ULJuhJGPDKajke7aX9iKEOfG0HXY10Un1uMFAhGvUnWhYUMeXwE7U90MuRgN0OfHE7OlYXow1wEBkdTfV0dY54cR+VN1ahKRfKyFAbdP4ghj3SRdloq0ipkLM1gyEND6Dw4mI6Xh9DwTBsdL3RTfVs9geFRSJrgG+CjZGMJ7QcHUfNJDSWHS2h5oZUJByZSv74Bf4kfSRNSTkmmcXMDzU+0Uv5kFY3PtzDilXHUXdeCWeRCPGLzJXrm3BwQoes6Y8aM4d133+WHH37gxx9/5Mcff+LHH3/ip5/+jR9++IHnnnuO2traECdCj4hGOA+bIQY+8ZOrF3BO1gZ2Vd/HnYV380DBPg7mvsTzea9zZeJ1tMlAKl2lzM6cwrXNm3i4/j5uy7+JTk8biRKPWzy4xUuqpDPCN5yri65id+1u7i3dzf76h9nTsperqq5hdMxoOsyBnJ2+gofqHuS94vc4lPE2jxU+wZ6m3awvXk2jt4Kg+NDsFyQrK4sLL7yI3//+95x99tmYpmkrRFriLRkZGdx88818/PHHnHHGGX2+4P3Wb/32t7YTAwkr/Ryey/p2AA7fzXrv/+JQdqTj/aXb2dtGRm2Pk02OsJ6KiE71mWYLSVnk+EjtnBAIiNSDOFE0pvf59ziP46tbegMCi8gfrlbUIj5zuG9ar4hFb2cfuQ/nd7/oXvQxZr2BiWEINXVx3P/EKRz69HRqW03cPmu8tRCAMGxC5i8HMycDRUrEkr3WlCAuQUvQSJgax8j9w8i5NpuomdH4xwQoXlfGiHtH03RZC6pVI+q0eIY8NYa0a3KJmhJNYGKAvEvyqd89gOyNuWhDdOIXJtK4v5XqHfWoCoXRZJByXjJtD7aQuSoDaRB8p3gpub2IroOdpF6Whne8j8D6KEY9Nork5clIuaBlafi7o8i9tpCKZ6txX+vGP8dP4swE/M0+tBQNSReqVlYx5NFu8ncX4bnMg//SKFLuyCJ9UwF6noFEC0rvu/7VUSAsKChg6dKlrF27jnXr1odsw4aNrF9/HrNnzSEhISFcySDSA9FpSsMUN0lmKjOz5rKz7W42Bi9imnsWc10L2JJyC08UP82VKdfQJgPJVJmUm2WM9g/jhqwruK3gJoZ5O8iUZKLFT7QEaPbWc0HmOrYVXs8K31KmuCcy1zuXS6ov45LGSxmbMJYqVU2Xq4v1SefycNFD3OS5kXnuBYz3jafZXU+aFo9feTCUxXCurq5m1657+OKLLxk2bIQtbR1+8aKjo1m/fj1HjhzhsssuC5Eu+0FEv/Xb39mO0xmwgIWmdFyGK7Sds1LXDbGbJCmsyi0DUQrNdIV6PIRK+k9wTNPUQmHw47ZRgtIFl0tD1090ztKjDYFpp3dNsZQZDUd2WSKim46DdCSwdbuaTtnNrFTk34Lq1bG5p37G8RGFPp3kcb+PWFz2st4AIDICEa5g1NDFxFQGpmYpLEvENseDjshqxJ7m8Bp6jGfEmEaelyPJ4HUJzS3RPPpsF58eW0JTh4nb42xroisXutJD/AlHW6lHtaSKAHm/BDCKIIbYqmZuwUwzqb24mtb7BxA1PYAqUUi64B3gJX5mAsEpMXgGe8m/tpS6h1pwTfaiChWSJriHuSnbUk7x9lKMiS58YwIU31NJ1V0NVpojRzAWGdTfX0vG2gykXtCGKdK2pNC2vwVjhIEUCzJaGLJ7MEmrEy0SZbKgyjSSz0qjan8DcqogxYKWq6ESxeI8pAsJMxIov7OC8mcqyXg0i7T9WcTekYxroQeVq5CAYJgGuupdKiQh5bCioiLOPnsNl1xyKZdecnnILrnkMi668GJOX7ac7OzsnkqKEhYf0UTHJwGKveWsqVjPtvJbmWJMo04GUC0NLHedyb0Zu7k69VoGSicZkk2GZFGkCrkwegN35m9nvHcUBZJFvESTINGMjh3CLaXXcWXS+XRJG41SS7VUMyYwjonRExlgNpEtuRRKMTOCM7mj8DZWq1XUSQOFUkimpBAnfnzixrBVypqamnniiQMcPfo59fWNEZwH60Vyu92cfvrpHD58mK1bt4a6Yer68WPXb/3Wb38jO0kI3hJc0kJOXbcba2mRmgrOwkATi8RuAwhDk7CEfq9jKrEaSkUSGpUSNNNuHiXO8SN+H+HgNBsEiB0pcFSOPaJwOaX3kQq8zv4MQbN7UihDIgShLNVHZRgR0Qb7+hwCv9jnqJRdAdirusO+LpcpmKaEBQwjBP9679u0e3SEtXwEr2FZSNBQWUDBuUZHpVmJCpEcRawOo6ZE8BY0q6GZ2zgeQKiIf3vofDiVkfZnociGsvbj0gWPS2hpDfD0S0188d0s2rsMvF5rG0cBU9OULdh1fCTDCSioPhSR+0olhVJKuo1qxRRcyS7arh5I4+4GfBN8llNPF6RAkGZB2gXvEC9FN5RQva8WfZJubZMtyAihbHsZ5bdWYowx8XUGKL2jmrp7my0uRbkgy4WSfcUkn5uMNAhqpEbyrSkMeKARGSAWD2KY0H5fGwnr4pEmQVIFKRKSTk+lev8AZKl9PpmC5NhWJhgTdaLWBYi9Mo7oLUFi740n65ECMq/OR6+zIhHmCUCEiLXKHjRoEA88sJcXXniRF194OWwvvszzz73Azp07qa6u7gUi7BthN77yiZ9SXyXrazZyS/GtTNan0iYdNEs7K2U1DyQ9yObkrQyX0RRJOcVSTrXUcql+MXvS7ma2exr1Uk2eZJItqUxIGMVtFTdyafwGOqSVJhlAnTTQJG00SysVUkmGZJEpuUyMmcKdJTtZJ+fQJC3USDXlUkCepBEn0ZjKhVIaDQ2NPLT/Eb766hsGDhzUizip8Hq9rFy5ksOHD3PjjTeGSJf9kYh+67e/o50IRGhWxCEpTRjU7WbGwmQWLk9n1qIE2rvcpKTbza2U3TxJF2LihKYWk6nTkzh1aS7zFqYzZLiPnHyrK2goXK+E/BwX3cOSKa1wU1QmjBwbz5LT81i0NIORY6JIy7A6PRYUCZOmZrH49HzmLk5n0GAvySkWkNB0ISHBZOjgJFoGKHJSheFdfubPT2fRqZmMnRBFUangixJSMjS6RwdYfGY+i8/MZdREH+m5CtNlOz+7ks8wheR0RWe3i1nzM1m4LI9ZC9JoH+wmv0AIRlvgyDSE1EQXQ7vSaGxUpCQL7e0G8xYksnhpEpOne2loEeKSJAJECJHRCE0TfH6hrCJI17BUyit9eFxWi25NhGi/0NLmo3tkFMWlJj5fOMoQjNJpaQvS1Z1CfJyGoQtBv5CWKrS0eJkxM5nTlmazYEEaw0b4ycyxOnU6vZ+SE4T2tjhaW2MorxSGDHczc0EyYyYkkJZhcR8S4oSKCmHsuCCLlqSzcFEyo0b6GHeKm4MvFHPs97NobzcIeIWAR0hJFAYM8DFlWiqLl+ayYEkWY8ZHU11v3QNNCS7D2ncIRPSSSz8RkBAlJppyI4aGHm+Qu7SQofuGkXdRPtEzowmMDZA8PYXi5cVkL87BGK6TvDqJYU91UXh1HtHzggRmBsnZlEfb7oGUXFiCqtMINEZRt7mJ4Y+OwTsvQGBJFJm3ZjDghUYyr85EH6cTWBhF1d5quh4fgn+SH8kXvPPdjHx8OOXXleHr9lkgJkdIWZhO86OdxF4RjzHRIGFaHKWnFxM/IRajWydzdQal1xeTsCkW7XzBc72XyqdraNnbiavNjQTE5jD07Qg1TSM/P5/58xew4syVrFyxipUrzmLlirNYtWo1q1atZvbsOaSnpx8HIkTEFsFSuMRFljuHJQWncXfz3ZwXfx7z9cUs1pexOXYbzxQc5M7MXcw3F9GlDWO8fwpLEpZye+IdPFn4BBfFX8j86Ll0eToo1Qrpjh7ElcUXsaXkepZFn8Z0mcFUfSaz4hYwO3M+7VGdpEkWSZLBuNiJ3FW9i2uC1zBDZjLfO4f58TMYExxKjpmJS1yIKEpKStm27Ra+/+57pk+beVyEIT4+nk2bNvHhhx+yYcOG0Pf9xMp+67e/s/UBItx+obTSzerzqnnwwAgOvj6Kg68P47k3RrHnoSEsXZ5LXq7CUNbqNDPD4LRlpezZO4LnX5nIS69N5oVXJrL/sW7O31RCW5ufgNdaLbs1xZQJOezZO4YNF2Vy8eUF7H1oGK+8MYnX3z6Fx57q5Kxzkhk2QueKq+p58umpvPrWFN54dyK77x/IjOkpJMRZq/7qyiB37RjOTdcVsGZlGvseGMRLL4/l9bcn8NRzg7n48kzGTzZZflYmDx8Yw4tvTubtj6bz7KtDWbk2nYJCE5fttH0+obYuwLnnV/PQk908/+pUXnx9Ki8fmsTufR2sXpNFbY0Ltym4TaGhKoY7d4zkuhuKWX12Dvfc18KzL3bz2lsjeOH1Dm65q4IJU+OJDobIgYQrX6x5LhgjzFlQzl33T+CstdXExkqo5Xd5mcbm2xp58Il2Fi1LJi3d2o/bsK57223DuOveUygqMDENobJC58wVxdyzezjPvTSel16dwAuvTOCRJ0dx4WWV1NUr/HZr9voqk+uubmX7Lc1cfnUmjx5o59B709j7yBg6B+t4PEJ3t59rrqvlyWdG8eJrY3juxWE8sLeF7bfk8dbbJXx3bCLtrQY+j5CZIiycV8jOO4fy9HOjee7l0Rx8cSyPHhjJth0D6R4VxOvTMPUTgAgbSCjthCDCjRKv1RY1SuGq8dJwRRNtO9pp2NJA7XW1DNrczrAt3VSsrEAaBU+7i6araxi6axAN2wdQt72J9js7qbu8noSRCUiy4M7zULismEm7J1N3cz2Vt5TTsr+RYU93UXFjGVHzA6StSKV7z1DGPTiO3DNyUYVC6sokxj84lq4tnSSOtvYl8ULssHjqtjRTt2sAZdeX0bqlmRHbu0mbl4LRrVO5rpIRu4bRtLOewm15FN9WSOveJoovKMEoMxC3E9I5QfmTPSAejxe/z4/fHwhZIBBFVFQ0Pq/vZ0P6mmgEtSAtwVYurryQ64qu4ZL0y7g643ruKrybfVX7uaX4Vs6MXcEk91RWZa/h8oqruaP8Lu6v2cv2klu4uOhipqZMocxdTKlZyIykyVxecQnXFV/HRcmXcGHWZVxYfhkrKlYzKHYw8ZJKlMTTHGjnopJNbC7ZzMUZF3NF/mVcVLSB2SlTKXDnYorFbUhOTmHFilV8++1vuPaa6/H7A6EohIjFmbj33nt54403mDBhwj9+Iu23fvtntojctG4I2YVu1l1UzAdfLOLND2ax+bZBXHR5A7ff1clb7y3k+RdnsmRxPvHRQlqywenLM3j38HzeP7KQu+4ZyVVXDWLr1sE8/+Jk3jk8jZs311NbZWCI4NIVq86o4Jtvz+DQ+0N44plB7LyzixtvbGff/hF8/uUMPjjSwf0P5HHgwEhu2d7NzZvbOfjcKXz55Xzuu7uZgc0GXpcwqCWeDw/P5cvPJ/Dy84PYu2cQN93Uxt33dvLeB2M48kknjx0oZf9jzeze283V17Wzd/8Qvvv9XN44NIRpk+OJjbLC/5VlQa68soUPjy7itbcnsGXrEK64opM77+rijbem8/KrY1mzJpvcLMFnCp0t8bx/eBaffjmJl17tZs8Dg9i8pZnbd7Ty2lujOfr1RHbsqqWuzgYRmmABCKfpmOD1CYuWVnHowyXsfewUyiqse6CJMGlSNB98Pokf/3MO23cWUVNnpYuC0cLUyRl8+uUqHntqLJkZJulpwrr1xbz65jTeeHsmd9/bzdXXtLN12xCefWEKH385l+tvKqGi0MRrCp1tJgceP4Wvv5nNoXdaeO2NDp58YhQ77xxBS4tOUZGw7ZYGjnw8i4MvjufGrW1cc30TDzzQwTvvdPHb3w7i6y87GdSs43cLI4dF8cRjEzn01jTuuruNTZc2cPnlrTy4fxyff3Mu99x/CkXFXkwzHG3okUJxIhEnAhFWO1QvolyWEmRACDRHU7asgqaLm2i6pInmjQOoWFRGXHMskiiooOBrMKhaVEbTBS00XdRG6WnlBFuDSKJY+/EL3lIv9QvrGHhBKzXnVFK6spCK1SXkzc0m2BVF4og4ak+romFpHbljspF0IWV0IrVLq6ieX0FMQ9DSnvAKRrZJ4vgUatfX0bKpmeYNTVQuKcfX6EMKhOQhyVScWkHd+joaLqmjblM15SuL0WrFUrk0BKd73d9SjEWJ1SMjTsXS4hvA/Oy5rCxcyerCNazIXMHyzOUszlrMKXHj6HB3MDVrOgvyl3Bq9nJOTV/O6flnsqBgIZ3Jg8lwZxAjQfKNPEbFj+SMghWszj2Hs4vXsajgNDoThpBl5uGVKEzxk2pkMTh2KMsKT2dN6RpWFJ3B7IzptAWaSNIS7JbrgtvtobNzMK+9+jrvvXeY6upaTNNlgygPp556Km+88QZ33nknOTk51nX1RyH6rd/+IRYpUxyIEkaOS+DV9yfwxXdzWHVOLrl5BtEBoazE4LJL23n7rVXcum0s1aVCx8AAr781nN/+tJgLLy6nssJNQqyQlyUsWZLJi69M5MjHczjrrCx8HkHXFSvPyOf3vz+dr7+bxFXXlNHaFCAjVRg1PJbHH2njv/80nc8/G8i552RRVmyQkSbMnZnIG6+O5f23h7JoTjR+l9DRHOSTj0/hT39awGOPNDGi20t6ilBfp7F5cz6//d0I/vXYSLZsL2HAACEpQWiuFx5/tJ7ffz+Ni8/LJTtdSIgVlswv5oMjp3P44zmcuiyJrHQhLiCUFAkXXlDGkQ9ncPDZDiaNDxD0Cp2tQY58Moo//Ncc9uxronu4l9xsoahAWHlWCm8dHsZb7w1n9my31SlaFywAEW6nLSIMHhbHIweH8frh6YwZb6JrgscQLr64lC9+M5I//PdYnnyulBGjfRiGkJFusnFDKd//cA5rNyTg9SjGjonm0DvTOfLpJC64OJ+aGpOEeCE322D2nDTeOnwK//rb+SxZkEhCrEZHm/DsUyP5939fzDPP1nPqqV4GDdRpaw6QGC8sXBzLZ/8yh5ffGM68hYmkZwrJKcKYMTE8cH8z//mfY/n6yxY6mnWCXuH884r58suF7N7TyOAuISZaSIhVjBoez0OPTuOZ55fR1OzHGyJhOhUxEmEnUydWJiJuRJkoQ7MAgEssPYg8QQrF4irEiSXs5La/94ol9pQlFiciTiwhqki1SkOQKHubFLFEpBwypC0kJUF7P46AVbRYTj9aUFGC8inEpax9xwmSZp9XulgAI2CfS5Qg8fb3OfY5Jdv7DDF5f0EZ0Antl2+ricItJn7xkCYpFEg+eZJHtmSTIRmkSgrJkkSSJJEoKaRKFqmSQ6rkkCKZpEg6sZKAVwVwKQ9e8ZIgieRILqVSRqmUkiVZxEgsrlAnNxND+fBLkHTJoEAKyJYs0iSVWInBJS5rMrJvfEZ6Bpsu2sSxY8dYsuQ0AoEoRIS0tFS2bNnMyy+/zMKFC0OVG385H+LPGfN+67d/bnMqwJwSyfQMg7UbCzj20yLu2VdASpqGW7e6LrtEaG5IZsPaDlaf2UxLg8YZy9L4w3+eymPPVlBYalqrTRuUZGUJ551fwqdfLmDfo6PJyLJAxIqVefz292fw7KtNDBnmx21a55GXo3HlZVn8x/+ZwbPPFFH32UltAAAgAElEQVRSqDBtHYKKUmHP3Q18cqSTs1cmEXALg1qj+ejjkfz0v2ewcKGHmBhrpev3C8tPT+bTo+0ceruVseOtz53Kh4vPj+b7byex5foCSguFygqN7dsa+Po3K7nm5mJi4u3UgVhRgdoa4e57B/DxZ+PYtKmY1AShvTWaI58N5di/TWTidDeBqLCiY1OLcO/9NRz5dAKrz07G5bYrWsT2hXZjKxGhqFS4enMVh4/OZfXaVPx+ITFOePjh0bz9YSMff1PN6+/Vsfi0VKKihOqqGO6+q4svvjqDQYMFn0e4dFM9vzm2hDvvLaG2oef9jU/QOO+iBP74X2u5c2cD+bleOgYKzz4zhmPHZnPppbkkJtjER02Ij1fs2DWQY7+fz8WXZ5KTF95XbIwwc0aQr78azLFvh9I1UCfGJ1y6qY4vvljCvoc6mDjFR16hkJAkJCUL3SN0Jk1JITNdx2NanBhNrO6oIQ0OTVltzU8MImzxEmVgmG5E10I/VKYKO2BNrP9rgujKQm62Y1amQmlhk5Czsi+wV25FlFjbGrbZ+3PM2VZzKfvm2r8z7WO6Iv5vS3ErLdxYJMy87e2wIuqOI/TQe9YEh1XK/lLHZ9XnKkzRcYmJRzx4xItL3JhiYooLw25eJsqNUj505XTyNNF0D7odITCUSUD8eMWFW3TcYljdQMW0H35HtU5HiY4uuk0i1SJKwwRN19ANHZfLRWVFJds2b2X+3HkEAgFEhJycLNasOZvVq1dTUFAQGg/Vi0tyUqESG0T2FGvp2Q2vxz0R9ctKifqt3/6JLPL9cUr+Skqj2H5bGz/+21LWXWAR8twiBJTgF4VbLPKfxxDyc33cdH0df/yPM1l3kSIqTqz2A7ZWgMcjjJ+cyctvTealt6ZS2WiBiGUr8vj292dyx/1F1AzQrZJMETIzNDasz+b3v5vLjjsyiY1RIY5Abo5w551NHD06lHVrUwj4hdaBQd7/aBxf/Ot0Wgd68HisKgyvX1iwMJk3D3Xw2JNt1DZa1+mURK5dE+Tbr6dx29YiKsuFtnYvDz4yiMNHFzF9voEynbJGhSFCXIyw4fwijnw2np13t1JcLLS0BTnyxUg++voU6ltduDwW6VJTQlW1sPW2Ot7+YBqrzsnAdItdrupEIsIpjZg44dTlFbz74ancsqOVtAyhulJ456157N6bxb0PBjn8cSdXXFlFXq4wbnQWh96cy5MHJpCaJsQGhfvumcC3xxZz7vkFpGX0vMdenzBkuJfvf9jI889PoqY6lo524ZlnJvPxx/M4fVm6VckhFmE0v0jx4huz+OzrGcycl0IwLrwv02WRJ595upZj306mc6BBwC1MPiWNl19cxHe/W8ar7zSw+Y4Ylq4KMqg7QEauC4/Xqu7w6oJLWWKJShlhbQ7blOobSEio+ZbSMHTTfnh1dLsbZM8uYZYz0MXAUDq6XRfrEk/IMTooxtCMXt00w61JRQTTMPGYXtuRGnYXTqult3U8R6vcLqFUCl3TrQYtEehIlI6uTLuHhIFpl9k4JBmrdlezhZa0MIhQYSnT4+t1HQW4v2DVrCJKoiI+O07Fzfnc0Kx+IQ5QE2XVRRu63UvEqUPuS0TF6eZpf+eEoBwA6DER0+ip7iaWroXf7Q0BAE23a811a5w1pWPobguVioT+dSa4PoVKIq4vtIqyxz/SVKR4TmQ78/8Bk3e/9dv/BAurJBq2yqBQWRXLrvu6+P7HBSxdYZUiekQIiE7A1mJwfltcGMXttw/kpz8uZ+GZCn9AbJa9D0NZhL+u7mQOPD+Gd4/Opr3bAhFnnVPGb35YzdZdBVTUKavCQ4SsTBfnbyzlu+8WctNNafh9yiqXFCE3V9h5Zwuffjacdeem4Y+yQMR7H43nyGfTqK7z4HIJoqxqgEVL0nnz0HAefnwwFTXWvOO258uNG9L4zbez2bqlmPIyYfBQHw8faOPNwzMZPdECIqYILnGjiYbfIyxfkcn7n4zjwUc6qakVWgbG8OGXY3n36HhqB7isaIM9LuUVwrbbmzl8dAGr12dhem1CobiITGdoynLMw0bkcfCF+bz42kxqG4WJE4Vvvl7GBRcks3Gj4p13h7LrnkaGDxPOWlnIZ5+eyiWbylHKqop4eP8sPv54BmecmUlSsnN/rYWq2yM0tXo48sly3n1vHk1NCXR2CgcOTODQoZnMnZOKW7dAhNcUSqsUr7w9l0MfjGbcpHgC0fa+lEI3hapqL/v3VfHN11PpaDOI9ghRLmHOjHyeenoSP/y0nP/47zP4t/84lY++mMiOe8vpHGISDNjlq5EgQulWJ21Nt0W+TgYi7Mk8st1qDyGQHmaLnYQadlndJDVbSSzsIG0nqPTjnaeIBVw0A01zoytXRN5PRxMTpVyIZqI03YpuKM1Kudhy0JrYTlEXK5KhqYj8jY5oHkRzWREVcUJlqofzcpxypAqZ5Qx1LDRqA4lfI7xxQuspM3r8972Bi4r4LBxhUCF524htlN0y/aT71Xpei4QBQN/3WLdfKC9WiM847vfHibg4wCgEIpznpDeIMKzoi7is40SCiL/KWPdbv/1/35zFlC5edHFZDrA8lh13dfGbHxdwxmrLyQWUEBAXPtHxaYJbs97L/HwPm7eV87/+z2ms3KCIThRba8ACJT6XMG5MBi+9MoUjR+fRPtgCEWefXc73P5zFLXflUV0ruHVrfszONDh/QyHffzePm25OwRcBInJyhR072/jk6BjWrcskEHBAxCl8+NlU6hs8uN3Wtl6/sGBxOm8cGsEjj3dRUdPzutefm8yxY7PZurWYsjKhvcNk/+MNvP/JTKZMt8bFJ4JfTHyiCLqFs1Zlc/ij0dz/QCu1NUJrayyffDmeDz6dTEODG6/bSvcYYpVGbr29kfc/m8FZG1IwfA6I8BAJIpy5uqIiga23jODI0fnMO024/Brhq6+nM3dWPKOGCY8+2snjB+o5Z61w2/ZCPj0ym0mneFBKSIoT9u6ZzuefzGLVGVkkJznltAa6WFGA9k43X/7rEg69PZkBA+Lo6hKefnoir78+g+nTk3Fp9rkbQl6x4tAHS/noi0lMmp5IVFBwormaLpRXuNlzfyH/8tV4OgYaxPgtYOA2NfJzDKZMjOXKK6p4/IlxfPblAv7wH4v45PNJTJ7iJT7OFgJTOlZXbseMnwMREQ/tiZqc9GkRkqzKSYFIDyKGhWTMnsIekVKlmmEROpUrvC8xsDgaLut7XYvYnwUkLBBhWp9FtCUPtynXEN2N6K4QR8MCC+GIhDoJiLDSCT3DWn8t5xYJIsJgoqfkau8xDmvk632Y1emzd7rh+P1EiLSocF24fsLfaFi5QQ9K3NaxIkGC9AIRkfc49H3PKES4OkajJ4mpH0T0W7/1NofkpokHXVxooigoiOLaG1r57qdTuezaKLxuK4XhU9a/+VnC4gX5rFlTxahRivXnp/DTf57ONVsTCMZqKE0wNGuVHeUX5s0p4P3D83j51SnU1lkgYs3Z5fz2h7O49a48qmsEl2bNE9mZBuefl8f338/mppsT+wARA/nk6FjWrcuKABHj+fCzaTQ0ePDYehRhEDGch/sCEesT+c2xmWy7pYiycqGuQbHrvga++mY5K8+Ow+O2oi9BzbrmlDjhskvL+PjTcdxySz1FuUJbcwwfHh3D+x+Oo7Hehd/+jUuEykph2x31vP/5NM46L9kCEZoDItwoMVFKs0SklJCaYrL67Aq+/G4BN96u8cQLSbz5bhsDWwKUFwm33NLAG2838ugTcbzwQh4HnxpMbbnCa1hOedvmsRz7ZhlXXlpEfq5VJurSrIh5MEqYMsPDT388k2efG05VVTSdncLTz4zn1TemMXV6EoYuIZGuuGTF4wfn8s13Czh9RTpJyRKSADddQsvAAC+/1shXX4+ivc0gNiCUFwmtDSa5GTpBv0ZKsovKMj+TJgXZ90gyf/q/F7FlezmZ2W50Xaz+UsodBhCa/jPpjD7qkJU6frX8cw06ejhCBySE6m4j9t+DZ9BXRzoXDtEzxBB1AIItCBJyqqESlAhJ2JAjiwA29ssYdsSanZbp2VDF6cGu7AY3PbrjhZq9SDgN8WdPDM7fkdGGE0U8+iKDqh6/VXaaqIdT7+XQQ/cgJJ2qMETHCMnE9tw2vAqyU1ARTt55Pnpry/d1/r0atfQChHbITBT9IKLf+u14c+Yjp99BQqLOolNz+eI3p/H0y+3U1Om4XbYSoi6MH5/Egacn8NjjExg3TmPqtDi+/n4xhw6Ppn2wB68vLHlcUy1su6Wab75dyh07OkhMtEDE6jXlfPfD2Wy/q5DKGmVxCUTICoGIGdx0cxwBn/WdEjudsbOVT4+OYu26DPx+oXVgDO99NIEPP5tOQ6MFIkQJHr8wb3Ear73dzUNPdFJR2/Oaz90Qy7fHprHVBhE5ucKFmyr5/Ksz2fNwG8UV1vmbYvEouoe4ePzJTj78ZDzrzsknPiC0t8bw0dFRvP/RiONARFWlsO2OBg5/NoOzNqRi+Gy+hHjtBZO1eHTmNY9HMWJUKoc+HMs7n9Xw2ff13Hl/HIX5Ookxwnkb83j3o1a+/r6RDz4p5YYb04iNtrgpIsLpS6v46stlPPdcO+PGReHzWePpMoWKMpPb78znv/+f1WzbWkZ2tptBHcJTB8fx6puTmTYzAdNllbmKEkyP4rKrBvPd785k1z3FNLXqmPa4JqUIy86M5djvhvIv3wympVknIU648IJW9u+fzNLTikhNseZv0xQys4SLr/Ty739ayG07a8jM9trcGzeiPHYQQEVwIk5IrJQ/a/I+HlA4jjcy1O6sliNLKyMiGD3C9U6Nrh0BiAQQLrGqM3z2v0YfgEFs0GBKmHjpRClE6B3W76sBSVj+U4V4FCoSHNnpk18NIk44roretcm//D5EgggrPClio1JTwtUuTkWN1x4/529doYmOHooG9Ly3jvqaKRHRihCX4nhCZU89914d4pR9H9wR5+CyziFMco2MlPRXcPRbv0UuGEIOzSs0t8Vw376RHPtxDVtua2P0eA+NzcKkKYnct3c4Rz5dyE1b2igrU5SU+Nh1z0D+r3/fyO4HupkzJ0hHu2LcmADXXlfJ4Q+n8/qhacyalYBpWCBi1ZoafvPD+Wy9q4byGlco2pCZabLhvBKOfbeIm25KJ+BTmMqp3BB27ujkk08nc87afPw+oaUtjnePzObDTxdS3+C10hnKEsuasziLV94ax77Hh1PeKxKxdkMy3xybz83bSykpt8paR43N4LGnpvHl98u54dZaukcatLQJ02Ymsuu+wRz9chEP7u9kSJcPn0voGhTPJ19M54NPJtFQ58ZnE1BdIlRWKLbd1sb7ny5h1bn5GB5HutqNsiMRPZs0CpU10ex5pIWf/mseP/xpEusv8ZCcbJEdp86I4fk32vn3/3sG733UyvwlVimoyx63yooA+/adwr98vZDdezqZNTuRtjZhzGg/V19dz1f/OodPj85k8vhYoqM02tuFA89M4pU3ZzF1Vgqm21aT1KzGY51d8bzw4gw+/ngqN26pYuzEKAYNMTntjDSeONjJH/9rKp//y3DaWqzS37NWl3H4wxUcfH4OZ6zIoXWg0NymM3t+PE++0MH3/3sZq9amkJis23LYFtHfAg8SLrT4eRChQpwIRy89NU2orTcYOMhLU4uH/AIDj8cJ/fRcrVodwlz2qtgJZVtO29BMmxykoWuGlXOx5bb1ECEwElRooVWr8gjedJPYpigCI6IwBrms8k27nFTTHO6GsrQpCvzENSShskzLidpknlDeSLP0w5UK67/3brLilEsZYmmxO1rvPdrZ/sKJICHRpKU9m9KqaALRFlDQbJKorplomgelInNxEZ3kIqpdTtQSWCK6s4kuSIygihWebi/uYW7MVgNVrJBqwTvYh3eQH8lXljNXmhW6Ez2UanAAhNljHHqCRk1Z/BktAp1aXUA1dKVhim6njuxqGV1QcYK7wiTQ7sVVY1jlubZ2h9NQyOrOp6M04yQcj37rt38G6/3eh/PeiUkm4ydn8diBRRw6vJyHDozlnr3DefK5Kbz6zjy27xhCV3c8AZ8Q7dcYMSyBB/dO4/DhZTz33Dj27+vmqadO4dA7czhwcDwrzsojK8s6rq5rLD2zkaPfXsV1t3ZRXBEVmu8yMnycs24An325lquuqcbv0UJzQ1aGxvZtY3n3vaWsXFGF3yO0tiTx1jureOudVVRU+DFdgmiC4RWmzSvm4MvzuW/fdMqq7EZi9nFWnlPEp1+t4fotzRSXmei6kJbuZea8Eh5+Zipvf7qEB58cxb37hvP8azN564PTeOChMcyek0FykuBxC53tybz7wZm88fYSKis8uM1wxLmk2MUNN43gzffOZfmqWqvniBKLiycGmhihyK5zP9IyDNZeUMBv/3Aen3+/jPHT/URFW981DDDYed8Qjv24hkefHsmAtp7VJn6vMHVqJnseGMsbhxZw8Lkp7N03nMcfH8Oht+by0itTOWdNPpmpBqYutLb4ePjRhRx8YTkTp+Wiuyw+hNPzIyZOWLw4jwNPTebt9+fz+MHxPPDISB57eixPPz+c9z8cxwcfzqOt2cTrFmqqfdy8eQxvvLWCF1+bx+79I9i1ZygHXpjIm0fmcOs9bVQ3uPD4bT8nekQUQk4KIHpxIlQP9n1RqYczVxWw7bYadu1u5Ladbaw4q4KcXHev5h0Wec5Q4YoNp5LDyYObmolL19GUhq50dKWhK4WpaZiajq4Ux0U2bBCh+4Ws1iRazqun9o4Gcq8txBymW3oSRq+uYymKtIlZ1J/TircjxtKgcEuPsL5mKDTTilgot7UPpyJC2TkwQ7NyWbphN7Qx7NLTXxmBUEqorg9ww7ZpLDurhuw8n1X9oCmMEIhwWSSWEJEzXHbaE0T0xYeIIFxqGhIruNrdZK3NJm9bPgXbCyi4LI+oWQH8pwYouq6U/CtLcI3xWnodbkF0Gwg4IMIGV7ptRm8pVENQLg3l0lGmhjIUYig0U0M3LSBhiP0cOJEbr2BWmGSenkbNDeVkLk+3tEOceyNWMyElCk0z0DQznOb4h0/m/dZv/wg7nljtzA+6LsTFm4wYWciFl3Zx613DufvBkdy6axhrNzYwsCORqCh7QaQsINHeksL5G9q44/Yudu8Zyr27u7n6+namzMgmM1tCHTk1TTFoSBaX3ziZaQvKScnwoukamqYRF+9m1Ng8Lr96BFOmZ+NxqVBzq7gYxfx5tWy6ZDDDh2XgM4WKkmguv2QYl1w0hMx0F4Yp1oLCLTQMTGb1+lZOPWMA6VkWiNB1a+EwdGQal103nBnzCknNsDh1ui4kp7mYMD2TTdcM5pa7u7l73yh27hnNxkvaGD4qlbRUHZdhdbMsK4nmok1dbLywncwM0+YVWOebmmwyfXoVGy8cxZDuLJTugAg9wlQP0rg/ILQMiua6rSO4+KqBFJa7LFAkQnKKYta8Mq6+cSSLTi8nMdX6XLeBn66EhHihe1ga521s5vYd3dy3p5td9wzhmusGMn1GDgX5CpfdkKuwwMfKVZ2s2zCExubEsP+xU/ZKE1JShMlT8rny2k523jeMO3cP5crrWlh4ajYrVhZwxWXtlOTruA3B7RIaG9JYdVYL228fya77R7Bj9xBu2TWEcy6sp3GQD5dPoZk9j/NLAIQNIo4PJ7v9whln5/D8q908+9IQHnxkEHseHMaFFzdRWuoLPeimS4iKFqJjLAERl2GhL6ezmWla4TeXW/D4BH+UEIgWPB4rf2dogmGDiT5BhBI0r5AxIJmW8wbQtncQHQe68M51WcJVtkynaGJFJvI1kuekU31BPf6hNojwSLjc0SeWkFWiWKJUGWIJVEXZ2xnWPsVrf54qSJL9G0e0yjm3n5sElAU+apq83HjbOM5YW0NugT+Uj3Sa4zhj4wsI0UHrYTVscGQ92JGTSh/m3GyfoFcbxF+QRO3T9RTuLqTk7hIqbi4nZkkMweUx1N/dRO3+JnxnRFsN0RwRMUckzEkdRYk1viliCXbZqqGhlFKM/X2C/X2q/f8oseTF7clCvPb+swRXh4ucS7Joe6aZ6s2VloiZzxlTG0QoiyRqlav2g4h++2e2E4GI8ELDMISUVKGiWmdAm5uKGp2kVGtO0UVhigXonShrUoJVmdDUrFHfqMjOs0iOIhKeb3VFVIyQXeAjPlXH9AiaoaHpVgOsuARFVq5OQpLYJDzLTENISTbIzTVIjLM0B+KjFIW5LvJzrEZQegT53R8UkjMUiSnKagCmBMPQUUoIxgpZeTrxSRouj7M6VpimIi5RSE4XymuF5kEeKuo0ktKshmCGXZniMYQovyIrWyc7WyPgczgUCrfS8LkUCXEG6ekuYmOtRZO18HXI9tpxIELTLd+VU6DIzLF4HZpdQm+YQmKyi5x8FwnJgmaXqjokcmcfbrcV3a+sUgxo0qirF3LzLK0Ij8civCoRfF4hPd1DVrabYIxEpOytedHJFHi9Qma2UF2nqB+gyC8SYmKFxEQhP08n4LEqM5zriI8TSss1GltMGtsMKmoVSemC7rHvfeRiOUJo6heACIdAaIXtg3E6bcOS2PdUF+9+3MbN29M4fUWQ+Quj6RhkEBu0nF98vKKpJYHxkzOYOD2dgZ3xpGe68LgtgBATY1Jbn0DH0FTqmwOU1ZoMGRnH2InpNLYkkJTixu0KO9TjSg1V+IGToCA1QuzKONr3t+OZZyCpgvLZD5gpuDPdRHdEE5wdxDfPh9aiLAdm5+HMJBdRjUECQ6PwjfETNTWamClxBAZHIbliOUpbRdNV4sLf7Sc4NZrgxGg8nR6rW2lQQhriPzcJGC6NvJJYukanMmdpAsPGeUlN10LAIODVycuNomVgEu1dMQwZEcukqamMHJVCYaGHgM/KqRl9kFx7mCYov8JT6CZpSQr5T5WR9mIW5iU6vnUe3PNcaI0KaRIyN+ZQ9GAZ0dfH4FnkIWp2NL5Ov9UR1WeNlZFkEGgIEHtKDDEzg0RPicLb7ra2CQqSIgTqoojujsY3wk/UxCjipscTHBG0epTE29v5Bb1AI9DlJ3Z6DFFzovBu9JKyP5nCbYUWiLDr1g3DpLiwmPLyCmLjEux0Rj+I6Ld/ZousfosgjtvAwgq566GIb+TCQrMBhCkmpjIxNJsHZovPKTsNGd6vhPhnhtmLBya2s9A0u9TePj/lpFzD+jIiluN0IiBWy2wVSmvq6mQR3V4ChbbpmtXaW9ml4WEg5ZBOrfM1NIWphRexjsKnrqzqO1NZ/A23puGyI+ZO5NUIgQjVyyI4X8qK0jj/V3bL87AvcMbIjuarsETC8VIJEdVyEabpWoi43vM7p5rNSXurcCv2Hts7ooAOj8aqAHGuw8kaqBAv0B47Q1kp/sjKyl8HIpwHRjBdioZmP/c9PI7Pvp/D178bzpvvVvDUwSZuuqmRwZ0xmLqQlqIzZ14C+x89hVcPLeDlN+ay9+GRLDujgPwCqya3tiqOm7YM5/lX5vPAQwPYdkcWTz7bzWuHFnHrHWMZMzaDhLgwgNAiB9fRDdBVmFyZIcTPi6dr72C8811IoqBF2w+lW0gdmEbtefU072ih4uZy/FO9VhTBRr/B1nhqLmyibkcjZfeVUXV/LQPuG0T19QPwjvNZPIskwVVskrE6neIdRVTtq6R2fxW5W7Jxz3dbQMJZtf/MJBCIdnH2ue088OgMDrwygStuKKGuwWsRZETISPWzZHEljz09haeeH8ajTw3m5dcn88LL09m0qZSGWg8+18m0HGzTBDNZI2NCKi272mj8pJ3sw4XE7Y2m5K5c0s5IwlVuIqVCxppsGp5uouzFcjL3Z1F5fw2VN9bgGetBJSrEKwTro6k4t4yWexupf7ia6n1l5N+QhTHasMazWqhYV8WAnc2U3VNO1X01tO/tpPnWVlKWpCBFgsQKWq5G4qJYajZX0HZfC7V7asl/vIDcl/LJuiUbKRMrcqGEmOh4rrryKu7adRddQ4ai6wbhl+0fPZn3W7/9I8wBDBFVSyKEQYQLQ3lQYmKGVG6dyjXdJk2baMrA7XLbAoBelHKhabaAnHLUCMOEcWXzpCLTq5puYpim5eScc4t0lja4UEqhq/AqXheFR3RcTopbRaRFj7terc8ydd3mzakQAd2HJl5EBEMZ6GKi24KFhn1cTSlMzRLncmk6ughuXcNQyk5p6BjiQhezBx8uTAQPE1md89CUwrSbLzpEU2WoUJRElI5uejBdHus7JRiGdT26rod4ew7wcVL9Pe/3ieY7R7PHqRyJHPsIbp/SMHQXmgo/A1qI7yaY4sItfgxx29WJJppdvm8YhgWSetvPAIgexEolVhg9v0Bj46U1HPlyDh9/NYIHHyni5psrWbWymrrqGOJiNabPSODIx6fx+ltTuPqaSq66qobnXpzCoXfncPbZVSTGCfk5HtavL+eTT5fxpz+dxo//axpPPTWY++4bw803TWLMyFICnrBeuh5CSeGKjpAOhFuQLCF+bgJD7+vGPcttOTSPNXBiaCRUpVC0uIymrS107xtK/ppsaxsnolElVF9Vx8hXRjDgYB3JW5JJvyaH9geH0nh7C1IvSJmQf1E2Tc/Wk/ZYMvqtOsG7oil9roTSR8rRZmihNMrPpTR8XoNJk4u45obBfPD5Yh59ZihDuxPwmIJHEzISdebOyeTI0YX86b/P5bEDw7jk8iwefWIo776/iLNXV5OcGCZ7njAaoQQjXiNxcDwVV1VT93obJa/Wknh1EuUXlJBxSiquTBeSI+SsymPws0Noen4A8VsSiL8yhdFPTaD4qjLMMhOJFYKtURRszCFleyJqmxDcF03Vq5WkXpuKlFpjlLemiKHPddP2UivZ23PIuCybpp2ttN/djowUVKoidn6AofsGMeDuGvI2ZVN0dTEDnmmh4UgLadszrXRKtDWWcTFJ7NixgwNPPcGoMaPCrf6iiTAAACAASURBVMd/xv7xE32/9dvfyiJARB+fO46otwZLWCFW77Hq7Jke6UPS/zig0ttO7PB6r7TDJHVLgdghX4bKvJ1tQ4R34UQOVClndR1O7ThE8Eg1XGfF/cssUr+mZ8ThRNbXvHO8rpI6bmx63zvVy3puf4Ix6PPeney5iazqCUeCws9FJIgJBxFOdD9/3kK6ATYr3xB8MYo9D3Xz+MEaRo2LIjpK4XNbxI/S4hhuv30UH306hzFjPcQFFW5TMWKkzhNPDeXBB4fQ3mLgMYS8bBfbtxbwxz9M4bqrA9RVaiQENeKiNKI9ClcoX6MiAESk3oSNkE1BMoW4hXF07ulEpomVr/dLWPfArVDpiuTZSTTcVUPmuSkW58G0LUXIOCuLmn2VpG1KRg1UmJ0uUi/PoHlvCzJCkNHCwEebqXyzlKhHAsgOQd2hkfhkKjVvNZF8eYa1T5tlfLKB1cQql0rP0ti5ZwB7Hq5mSHcwpIPu14WGWj8PPdHAh5+fQsMAF16fYuw4jedemMCVVzRQmGfl93Rxyib74kQI4hNUkiJqZJD/l733/pOqzNP+P/eJlUNXVYfqnHPuphs60U3sBhQQTIAEsyiKYgaRMaGgDiJgTqiomADjGFbHUWd1difvszu74+zu8+yzu9/X7vMN/8D7+8M5Fbpp1Jl1Fp2pH65XV1edOuc+96mq+zqfcF01L7eSfLIK1alQpQoVVc5iXemQiLanO4jfEEPNVNhjHpof6KTn2T7sUdtJ67QI5gaFd5+O50WdwLs+qj6vpurFOmRAkHJBP8Om4+UOknuKUHMVqlNRdHkhfS/1IRcKWr9G/wNdtD1RT+AsH6pFoToUgS1hKt+ro/qpOqRd0h0amrIoTCYpKS/GH8jU3HxZG26OROTwp4/pFqTU4vDVJDuzUH0TY/j99pN9h599l/9Nzc3Uc9WUmnSc3xe/zzHT//83tKJ/E/P2+573H3BemQOl7nhNr/DEoTGOvdnDwoVhTLdq1GMIvZ0JXn3lTD78YBE1VYbTWyxCQ4Pw8MNDvHZknKUTcTyaUFpkct895Xz+WT8z+yz8PsFWglcJHpVpH9REJuXlHFKTJcBkC1IphM8P03ukCzlPnMU8ZfHtEWehLBHiq/JoeaqO2PV+x+0zIk6BX0Ko2lRN9zPtJLfkI22C1qMRvzbGzBdmIAsEOUMYeW+Ejp92UP55GeUfV1LzQQP177VRf6ydwu+VI9XikJIvIRHZc+n1Cw883s7Bw9WMjPoIeISgKfiU0Nni56VXO/jwo1EK406P7rw5wmtHJ7j9lg5qKlN5RYfVn5BEmM75B+eGqX+hhdKHy52agyJx6kLCgtQLJVeVUvtwHYFLAkijYPaYVNxeRd/LfdgLbaRdKL+8lK5DLdS9Vk70iJ/oOyGq/rKGgkMlyKggFYK12qb9hRYKt+Y7EZwGIXFBnM4XOpCNgj6gM/7CGBX3FGGNGg45qRb0dQaJVwuofKrKeV/cvTbKQNf1rLBfZh5zJCKHHL67yEUN/yzghDQ0UVi6EAoKja3Cy68t4p33Rrjwgjhd7UJlmRD2C411YQ7cP58v/v5yNl4QoKlWUVshnLs+wfvvreTZgwuY1W2SCAmjgx6eeryTn/zVXE5b4aGnQ6hKChGP4NUcRa+03HS2MqUmmVCcX5xFaK4Q3hak5wfteLZbyGxxahQi4tzRVgoyS0hszqPt+QYK7oog88QJmxcIUi00XdvM4LP9lF6TRHoFa5ZF5dZyxl4eRk53jjF0eJC299uIPhzFc5MH73U+vDf58ewIYJ4XcAoMv6IuQolgG0J9nUlPr/DMi70c/UEH686L0NwkFCeEiFcYnhnirbdn81d/vYK2egOfISxdpPODN5dx3709tLe4xZXyJSTC7cyQMiF8RpSOl7ppPNSEzBVkpjhkIl+QNqF6WzXdT3eTv7kAaRM8Mz10fr+D4WPDeE7zIMuE/odn0PZ0A8FtHowrdAJ7/dT8RTXlL9YgpzrzGVwfYNaLMyi5LYkMOvvO35ig53AH+pWC3qMxfKCfmU/1ElobdLaZI0S2R2h8v5HaZ2qd6+empEQpKqqqaWhuIhqPpouVciQihxxyyOFbD6d1RImGx9YZHaniqUNr+eJ/Xcc//ctF/OVnq3jt9XO45Zb5dHXGiIYNTpko4Z031vPpRxt49unTeObgCn74w/N4440z2LCujrKksGheEUdeXsvf/t2l/Mu/X8KPPj2bt97awPZto7Q2xrE1p4I3tUDqynGNzFSEOiQirypC73ldLHxoHrNfH2LBZ3MZfGOI0Ufn0LmpC3+9H6vepmVdC3P3jDHvlTHGfzSHsXcGGH5yFgM7+rC6LEITEebtX8AZb6+gZ18b/jO9JM7IZ/zJxZz93lnUba9Fa9UoPD/BwKF++l/up+XxNhoebKHjiW56n+yjZFM5UizO3XNahjuDlOiSx2PS013Fs89t5u33L+E3//Mi/uF/r+VHn6/m0AtncsH57fR0+Lj26m7++X9ey3/+583ccHUXtWU2u3eO8LsvdvD+uxdy5ooqwr6vJhGeEi/VK2uZ89ACFn28lHk/WsjoM6OM7Rul4swyrGqL/CUJZj80m9N+sJLOvT3oK0zCqyKseHkFaz9ZR8WNVZjLLWbs6mHuCyP0HWyn82ATM95sZ+zzIUY/HKP8lgr0JTp9d/Zw+pvLGTs4QuGqfCILI/Td1cvSdxfTub8F1aPIOyPK8CMjDD0+Qvf3e+jc18ms12ax4KcLmPfOXOqvqHMImS6EIlHuuvsenjt8mPHF45iWU1iZIxE55JDDSYXK4UvhzJNC3Lt+y9To783ntp1zuf/BIfY92M2BB3vYc/8wF21sp64hgK4JBTGTFafWsHvnCE88sYinDi7mnntnc9aZ1ZSXegn5hKGZeezaNcr+B4fY/1Av+x/uZ++BUc6/oInqqoDTiiMpFTHlupo5xieiNKfCVGkES/00nFZD79ZO6u+opnJXJdU762nZ0Un52RXY1TZGtUHV8kq6r++gZWc9tbsrqbm7ksbba6m7tAqjWcc75KNhYxMdN7VScmkh9rhFYG6Ipivb6NreTdGaArRChV6jKF5VRMP2Rpp3tdNwVyu1tzZStaWK6Ny8TNvoNOmMVLWqbRu0tye5Y9dK9j40zv2P9bHn4Q7ue6iPO+7uZ/mKMpoaLc4+u5S994/y0IPzWbe6jNJCg/M3NLJ3zwQ7tg8yZySfkO8raiI0wSy0KFiYpPHaNmruqKfqzmoadjbSflMr8YkYRplBeCRE7aY62rd3UnppBdp8Hc+4l/br2+m7vZ/Y2jh6p05iIk7zlnq67mqi8e5KKu4spvKOcqpurSR2URxtWKPhojq6b2yn8ao6ovPD+Gb6KDu3lMbttY6QVJ0g5ULRimIatrXSelcH9Tvrqbyjgupd1dTdUkvpqhIn3aIJvkCQ62/cxoEHHmJszhimmSERx+U+JUcicsghh/8GnOwF+ruCST2lmpAX0aiv99LUrNHcIrS0Co3NOiXlBr6AuC5wQsgn1NWYDA4lGB7Jp7HRJhxyNCQ8prOfhkabllaDljaN5laNphaT4lLNMSBRU+8uM9LHohSacuSxNZ+GlTTxNFhoLYK0CdKqoTfZSIlbNBgUrGJnG6NNQ3UKqlPQ2xRalTjaBfmCVW1hNRhoNYKUOF0Eeo2F3eBBpdIUtiAFgt3iITQzQnBmBLvLg6pxdSeyohAnyvdpuiIUNqlrCNPYatPUrmhoFRpbNeoaNfILFYGAkEwq6htMWpo9lCQFnyWUFus0NnipqbaJ52VUzI6v5s2qifAKWpGOXmciLYK0C6pNYTYbqKRCAk7hpVlrYjXZ6LUGUiyoEoXZYOJp9qIqlVM7kRC8DTbh3gC+HhvVKk47Zos4qZECwVNn422wsWoNtKRC8gVVKWhN7jYpka9CwezwEBgM4em3nWLPdkFv0zArjXRhrNINGhqb6O7uIT8/35EmV9MXj+VIRA455PBHx8lemL9LSE1Ydq9sRobadZDTDEdWWSmUrqUlirMnPSV8oetOh4fTt5raJuOcmZZ0lsnHdPahXDEnlSYVqWNlWlUybUfZLTppKFeBTMuMU9cdqW1HdlvDUBq65ujQTyUzuua2AOkKpbtaFYY7Ll3QLeW+J9M6c9yHLu0qquGIJrkGY2lfdh2lmShlOHA7U0yV6eud+qE+IYlItcJqTiuUrrnnpmWU2LIrmFOvqaz6E6VcvQ7NIUCaUpMWaUeCWzB0HWVoKCPjgSK6Qkx3jlxxMN3QnP1bgngUyqNQlkJNNUZT4s5TtrCUcx7Z1306InHc+OQbIBaTvxiTnzvZP2o55JDDH4Q/qDX8ZC/M3yWkJyxrkh2hDodA6MrC0G00fapR1tTe0iykiEBKKc115lRiThK/mNz+40gfp2WhJRPGd4RTHNtq3d2PUiaGmK6ddcbS21Cp/mRne00UtphYYmKJgS0GHjGwRU9rVKTcKi0RbFFY4hANpZTjLWHqrq+GwjZ0t/c505uc7n/Wsv5qGqLriOY6oikvonkRZaE0C93woeleNM2Dpmw0ZaMrG23KHKXI3ImR6aHWxMASE1sMV/JWuXPjRpqUhqm09Hylrp1juKUwRWG578kWuFLiKM95lInuitiYmgddWaTdU/WM4IxlGJn3a8qVzVWZvuoUeZBsopVq69Wz/jfcLp3JX+zsH4MT/kBMWfwnk7DJr2d62FPjmeoq+vV+pE72j2UOOeRwPHIk4o8IEWS6H8jM3d6J+oMzvconvHAqe1tnoZsaiZhsvW24RMFZ0NOtjSrVA+wqsImJKMNRTFO667eQkmaVNDT3fSJOp4chhiMDm4YjfeoUdTrHs12Y7nFT6mpKZbToTdFdl0rHqVLPOm66RTUtH6q54zSzYEyCSkUm3MLSVPRFmyQBmy08Mw2BSC98zhyn5nKyeFfm9eOiKC5S9t9Txa2mEr6MUMnX6Cf+0gU4i0ik5NfTc2PhyLy6trwqa16nIQCTfiCm+aBnJHKP31f6s54iNOnIiJqWuBy/7xyRyCGH7zyOWxxz+Ho4waT9MX8Qp4am9ZTOuxgZAqEyRl7OgurcaWuSkmtV0yM7TJ+ODDjvNcRME5GUfbYmmmOGpbKsr1VGolVpToTEuQM33OiHQ0QMMdDTFtaSIRGTTExcIpFCWm52GhJ0vJwok9XMpiMRLklQmQhRShM9Y+mqZaCmLP6pBdX9/ytltiVFLr/m9f7aX0iXSCjDJVs2ShxZ33Qra/bcTlrEMwR10jlNUpRTWfOiJr0/QyKcyJNoWa9nyfSmI07TsvEccsjhO43c9/kPxEmeuJQwkyUalmhOCkNlaiocLXjH510plY4wpGVOUwtuapHUDUR37/pFT6cVNGW63R8morlQJpIiEpLaZ8ZJUmkmSktFPlyIiYiFITaG2Ghio8RCKSPjvz6JSOgnxhSTqSmmJqkLlPV3OgKRbUozjURtdnQk9UVJEx53sczeZ7qGY6o8bvbjL7+eX/e6T7qzT5+jjoiJJpZL1Nx0RsqMzZApRCLznrSufLap0JQFP2Xko7uprgyBkIw66tTajakRkOw51KaM56R/oXPIIYcc/jvxlfmOPz40yeTknRSGWx8x6Qc/44BpaCotUuWQDsdBLUUilG6hKQsRwyUVTgGjNolEWCh3GyWGG5Uw0lEKpUznvaaWscD2ilNEqCkMsTDFgy4eh0gotz11EolQ3xCJyK59mCYKkbpTN8XpLvHI9AuhSMbu25a0fLdKuwKabhrBIVdT7Yczxz3+GqYIgaa+HpE4LjWQfs2JSGiiY4nCTG0zHYlwLXI1sbDEj09CBCVCQELYYjs2yCoTVVBKYYqBT/wEJIBPbGxx6jxUtsS6IV9OGqbi9yARx1/fHHLIIYfvMr4FJCLVEZIqBMyG4wHv+Gykiy2V00qaJhRuR4GIuE5yTs2CSt1ZuyH8tPmI0tE10+kuEM2tTXDufh1HOKdoUFm6065YKk7rYlKcllJLMA0bS9mYbtGmqVwXtOzF7rhURlbhXurx1Lk44QIzlUyk0hXKIQMRd5x1LgrEaaG0ZfKia4sjN10qTuurKSgxscSL4+hmuZGfqZGITPop9TgVRdIlZen+ByyO033OlNNBYmhZ9sGpeZ1UcyIopeMRP/lSRL000C3dtEsbSSkmJGEssZ1ODyUYohEUL0kpoEaqKJAYIQlgiIlmWChdR5TjHOgRG6/Y6QJVbRpCkXLQMwyNYMBPLC8vLTimaRrBYJBwOIxt22gp++WT/oXPIYcccvgm8S0gESLu4i8apmhYorBVpjZBNwTDcmsUdEGZmYUl9TjVYiq6OBatqW4ASbVnKpSmnG015WxjK3fBd9oUlebm1jXD8YX3KyI9IVo21dO5o4nQMq+zAPsFzdTSBZApqOw7Zn26KITbJqs5xxCl/x4Ly3TOem7+3i/Eu/KYsamL4Xtm0r6jGWvMzHhTWCp9h20kTUpPqaR/8zDx2UWIV1C6hSU+p2hVNCfaYqnJd/5ZBYYiWf+na0eyrsHXvu6OHa0hFl7xY4vHqTdRFqYyMJTTLeNRBray8CgPHuXBVhaGSnWwKAIqSGewiwvqL+DWhh3cVL2VEXM2RVKMV/xukalgi0aJUcDi/HE2tl5En6ebmIriUX50zYOmWZjKJq7iNGtNNOkNRCRIWPwExcJKda1kF2UqobKslKs3b+a6a6/F4/G4gmM269atY8uWLfT19WEYxu8xLznkkEMO3xV8i0iEpjQMl0QY7uIkhqA8gvKKc8ftEyTo/g2Ic7dtScYy3O++ntomdSeuu4ui190mJI7nRihru1Ro2lDOc4WCd4GHhj3VDL/eQ+wqP5Jwj+txEXD3EXD3bTn70HRtmkhEqqhPc0jKV9QYpO5qj49AZEEplFfI74ozY0snI0/3M+/ICIF1XlSxysyPm+rQynWKziyl66aZBCbiztg13UnhaJpz/l73nCLiRGJS52tKhiR53TnOPvdUGuDrXG/RUGLgER8hiZAvheRLIXmSICJ5hCRCQAKEJEBUosQkRr7kE5c4eZJHWEJ4xIMhBgEVpC3YzsX1F3GgeR/PzXiW0+zTqZQa/BJwI1AKr1hUahWcFTmLG5tuZNicRUJieMSPJh4sFSQgUXq8fVwSv4S1obXUST2lkqRAvERE4RUnOpIiEZFwmLPOOJ2f/tVPOLBvH7ZtIyIYhsGNN97Ihx9+yNatWykqKvoWfNlzyCGHHL5pfEtIhGgZEmGIe4cbEsxqHU+njdlsOjLJUUEqBL1TYc8w0RqUc8cdEKRYsHpMwnNC+EcCjtJiTJwF0C+oAg2rxcboNZEuQes1sEeCeLsDTqrCcraTIsHu8eBZ5MVYq5N3d5jGtysI3mRmUhpFgtluEJzrJ7DAhzlgIA2CxAVlKgxTP45EKE13Zb0Vlu0hkUhQUVExCZWVlVRXV1NSUkIoFHLvYE9AIFLpBl3wFHiIzY5Sdm0xo68NErzEhypzSUQq1x8TVJeG96wA4YsSyKjpzE8qYhNS2NUezA4L1a8wRy18cwMYPZbjGZIibQFBygWtW+EZtfGOeNFbdOc6pEjbCT4/TkpEOdEG8ZAvhTRLKyPGGPPMcYa0Udqlm2qpp1yqaFZt9KmZ9Ek/gzLEiD6bmWqAZmmhQArxS4CAClJgFjEYGuTqvKs43HOY1fZa6qWJgATRRMMQg5iK0a33sMo4h4tClzAk/SSlAFv8KPHgkxjlWgNnR9bxUMWj3BvfwzI5gzlqjG5VQZl4CYnC0jQndaUJjc2NHNi/j3/63e8468wz0fWMrsWSJUv48MMPOXbsGKOjo9+CL3sOOeSQwzeNbwuJUK7ionvXKErw1XgoX1tC0631JK8uRM0TpElQCxRF1yeov6OOvAtiGF0Gnk4PhWcVULe9ltZ7mmm8q4mSzSUYg47EsySF+JwEdVvqqLy9gvj2OAU7ktTd00bbTV0kTytCK9DQGhQlq0uo395I7Z46SveWUvF0CTXvFeO9WSFlgpQK4aUhim8oovr+SmoOVFF9dy3JS0uxu7wo21FtnNriqXQDpTtkIllSwqrVq9m9e/ck3H333dx7771s3bqVsbExfD4fXxqJSLUuGgpJCpGVYWYfHiFwsd8hET5xSIIlBJoDlGwop3pnIyW3VRE4M4QUikMwlGBWW1SvraH+5gZKdpZSdncFdfc2U7WtjsiyPKeOIl+QeiFyVoiCm+IU352kdHcFyetKCC4JORbtPkm7nE4VhnKKaDW8yktUxRj2zOaSxCZ25N/B7Yl72FG4k035VzHhP5UBc4TzYhdwS/6tbI/sYFvsZm4qvIVtyR1cEL+YYc9syqScqETxiY8iKeJ0fSVPdz3NOvtcGqWFsIpgiIFH2TT461ldvIabinawNbGN5eZiqqUcr4RQ4iOsJRmMLOTmqp0cq3+LI2VvsCvvPrYWbmNd4Wm0GSWExcTWHGVQ22OzZOmpfPzJJ7z99tskEolJ6amCggL27t3L559/zubNm/F4PN+CL3wOOeSQwzeKkz4AB26roSbunbcmBFtCdOxoY+y9Iepfqka/TsPaaKFdq1F3uJq5H8+jYlcl1nKb0stL6X+kj5mP9dG+p43OBzoYeH6AsjvK0Id1pFYoX1HOjId6mfXRTDo/7qDp9Wa6n+5hcO8grdc0o7frxNfFGX58hFlPDtC2v53mp1ro/rCDrs+a8O5QzkLaI7Q90Erb623UHKml9qV6et8coP3xfvyLI5lFVJdJGg1K19Fc1NbVcfOOHXzyySdpfPrpp3zyySf8+Mc/5ujRo6xdu5ZgMOjO0XQ6ESk5cGefkhCip+Qx/9lxAheGjyMR8c44LZvbGXx2lKE35lC6vdJZ9N0UjKfJS++OHibeGWfWuwM0Hmym9aEu+p8fpm1/t2MtXi2EzgnR8FQNDcdqKXuujPIXamh6vZ2ahxsxxk3HY8QlJhnVUaeewBDBEoVfvFRpNWwpuYan257nYMWLPJI8xNM1L/Fw/ZNsjG9isfcUbqu4jfdb3uWHdR/xVMUh7qncx4HGR3mw5RGuSV7HmDVGiRQTlAD5kmCZfgpP9D7OOs8GmqSVPJWHpUx8ykN7pIVLGi5mf/MBnm1/hk2+i2hS9QQkD038hPVixgpPYWfTHt5sep83q97ngfLH2Vm3m0vqLqDdqicqfkzRUCIk8vPZcvU1/P0XX3D7nXciMrkwVtM0Nm7cyGeffcaBAwemTWnkii1zyCGH7zhO+gAcTCURhpOmiKwJUf5cMfGX87Aetcn/KB/9KQPPczYt77QSODeAcb5Jx+MddB5ox3uGB5kpmBMmpbeXMf/DRdjn+5B6QWoFz8U2tW/U0vphK9GdUeQUQQYFfUhDRoXBB0do3dtGcE0QGRaM0wyK9ydp/1Ejnh0KKXe2H3hpgNpj9UQfyMN3e4DA9+N4b40h83WnliBVp5ElhKUZOkp3OjIi0QgDgwOsW7eOdevWsX79etavX88555zDhg0bWLlyJQ0NDW5NxJfPnZaKROQ7JGLeoQm8F4dQFcpJPaQ6GqKCtAnRi/JoebqNkptLnfNJtYTGhMLzCuh/pY/aR2qQ0wV93CD/liRDR8eQ5YLMEtofaqf9h23ED8Wxd3rw7PKRfKmUrh/OJL610IlW2M41TUmEG277riMvruEXH016M3fV7+ZQzQvcF3qIW+27uUu/j9uN3aw1zmNAhtlgrufN5Gt8WPoXXKdtY6mczlmyhjuKd3KgYT8XJc6nQWqJSYRSSbJMX8JTvY9zrucC2qSLqORhioFHTAokRq90c7HnYp6sf4KrjMtplxaiksAQDx4JUyH1nBM4lyeST3N/+EFOlzXMk8V0SBcFUkBIQhiuAFZVdQ27dt/DP3zxBRdfegkix5OCM888k48//pgXXniBurq6465djkTkkEMO33Gc9AE4SFf/G054XlcoWzDHDPIfyKf4k1ICPwtT8X9qiPxNHgWfFlLwVAHmhEni2gK6DnVTeXmlk26ICVIiWItsRt6fwHNzFGnSkDzBON2g7GAl5fdWIv3iLHh+ce7YFykWv7KUgkuKHNfKQkFqhLwL82h4sx7fbZZz594mFN9cStfhHjrf6qXpB50UvViNvS2MNqQ7x0+TCJlUzZ9CcUmSc9adw/f37GHPnj3cd999aezdu5dbb72V+fPn4/V+RQg8VeRnC1IshE+LMvLiXPRNXqRWZaICurtNQogti9L1eCtlNxcjVe75e5x5KzgnTuejbZRvKUNqBa1GkXdxHiOvjiGrBVkp9B7tp+fn/VR9Xk/pB9VUv9NIy190MePDAVr3daRJhFKC6fqV2GJgiY4lOh4xCUmQKqnkXLWBR6se4/mqFzlc8ioHQ89xm3kXK/VVdEk/y60VvFzyPE/6H2FcTdAuHfTJDC4Knsf+uu9zY9kWuqSFfMmjSso5U1/Ocx1Pc4l9Gb0yQKEU4xMvtuiExEullHGaZzmP1j3KjeYN9EoPBVKER7x4xUtMokwEF3Jf6R5uzvse3TKTKmkkX5IEJIwtATTxIWJQ19jEnvsP8Jvf/B3r1q5B5HhSsGzZMn74wx9y9OhRWlpajrt+ORKRQw45fMdx0gfgIE0iHE8L09UKkBah+I4y+n45SOVvawn8IkzpFxXM/KcB/Lf7UTMUsQvjdD/aRc3V1ag25Sz0NQrPKi8TH56G57oIUquhChSB9SHKnqqi8OYk0q5QCbf90SPIfItTXlxB0bXFqBlu1KFNyNuUR+0bddi3W0i1ICOCdoGJWqsh5wtqm0n583V0Hp1J4tLiTJ2BKZNIhG7p6JaGZioamxu5+97d/PaL3/LFF1/wxRdf8NvfOo9/97vf8cknn3DJJZcQjoSzPDSmgUsgVFhQNYrQqjAzjg6grlFIm3LqQYLiCkwpVIkifnaEjicbSN6eQDUrVFw5XRhFQvLcfHof66RycwVSLWjViti5eQy9MupEIhYJ/S8PaIW4GQAAIABJREFU0vphN8GnI8guQW4V1O0a+m0Wxnmm08FiC0ppeMRLWIXIU2EiEiAgXgLiJyZ5NEg956oNnKs2cKls5Dq5nn2+BzhUdpitRd+jX0Y4xV7GC5WHeKn4Odbpa5ir5jChFnJ98dXsa7mXy5IX0i4NFEs+9VLNen0VR5pf4hrrGsZkHjVSQ0LyCImPPAnSoGo523M2B2ueZpvaxoiMUCEVRCWCTzyExMf8vDncU7ebGxJbmSGD1EgjNaqOSlVNXJJ4JIISk7LKKm67cxdf/O63XLn5ckSOJwWrV6/mk08+4dlnn6W6unrSaznhqRxyyOFPACd3AMfbPDsiU7Y4+XQpEiovqmb8vcXMeL8Xa7dFzQd1LPsfpxG8KICqFrQ+ja4dbYw/O4fae6vQr7KI3ZJk7pFFzH1hIfa4B2kWStaU0/FYNz0fzqD6SD2Je4spv6GOwFDU6bioE3q+N8icFxaTvLsKtcUiclc+7e/2Mvw3I9S9XIM6RxHZFGbesQVUP1iHfYMHuUFR/UQNwy8NUb2xMi3ilK2vMFX90LAMQpEQhYWFJJNJkskkxcXFaRQVFRGNRrEs68tJhC7YpRaFpxRQs72Oqqfq6Pt8kMrXakncU0TionysFof8FCwppPHGRtqeaKLv/W6a32qkdF8J5VeWY3QayJDQvbudU95bRNODDcgSwT/sp+2OVua+N4F9cwg1Q1G6pYLB10YpPliJ3Kwj1wve232U3FNKwcbC9PlryiZpVrC0ahlr6s5mRqSTiPgJiIeYRBgyBtnfeYADJQ+ww9zODXIte/P2crDxWa6v2Ea/DDLhWcILdYf5rPvHvFz3HA+X7+fJlid5csZBri2/jhFjiE6jlWWhxVxZcBkP5u/jo6YPeCb4BHcHdrLWcyZdWhPNUsMi31yuKrycfYX7eafxPV7Mf5k77J2s9aylRWslLFG8EqA/PMAdjXfyaONjXCVXs1ldwe1VO7iu5Wr6gjMJSQwlJtG8OJdedjm/+c3fs2fP94//bCvFli1b+OlPf8p9991HIpE42V/2HHLIIYdvGid3ANkOkSkZ61TuXBNBfELx3FKGd82m49Y29AU6iR35jD87jn+2z7nrLRRCQ36ar6ln+KkRhl6cw+AL8+jdP0TglKBTYNik0XVVP3MOLmTkjTEG3pzN8MvzGHtwnPLlNenWRW+Xj9abe5n59Bz6X55D10uDtLzUQ9fRXnoP9RI8z4++TGfowRFmPzOXkUNzGH1uDrMe6adqczlWl5XRVJjGu2GSj4N7J5pSOJwOk+5Up+uaMYRwfYjOCzuZeHwRw0fG6H69j+7X+hg9Mpee23oJdgbRmkyaz+9g/IFFzDk8ytDrs5j15kzmvT6Poe+P4JnlwbvIpn9nD4ufm6Dj3nYCZwSILowyuGuYBS8uoW5nC0aHgdllUnl5Nb0PzWTwmRGGnx1h9NkxBvcNUrK6xCFkhiDioVAv5+zmVWzsupCRRD8xCRAUm5iEadNbuaFhK/c17eXBpn083LKP+5v2cEPJDUx4F9MgzSyyl/Bc5fO8nHeYvZ5d7C+4l53Fd3JBZCMDphNFaPe1cG7tOezu28njTY/yQu0hDtcc5MmmB7iy/GL6/O102E2sq1jF7hm7eKTlcZ5veZnnG17iYOezXF9zPb2+XkISRRcPpXoVZ8fXsKd9Lw80PMjjrY9xT+NOLqu4kHZPO2HJwxIvpmEzZ8483n/vAz777HNKS8smRRcqKip4+umn+fGPf8zatWtzglM55JDDnyJO7gAmW4I7BMIQyYhNmYKd9BDpihJsD6AKFWarSWxWDD2pO4u/V9BCCl+tl7yxGPFT84ktSBDsiDgkwydIRBHuyCM2O0He3Bh5C2LE5ieID+Tjq/A7C7/hbOtvDhKdnyC2vIDI4hiBuSGC80KER8MY9QZSIUT6IsTmxElM5JO/KJ/oUBRPrZ2WxRZDvpRAfG2k5upErbeaYIQMwnVh8ocLiC2IEZoIE14QIT43QaQngpFvoPI0grUh8vvyiY3EiM6NEJ0XITE/Qd7MGFqBhl6iEe4KER+ME+wOYlQYmKUm0b48YkMJAr0hJ/0TEOxKD5FZUeLjCRKnJEgsSJDXk4enzJMR7hKTgIrSEKynI9xMuVVEUGw8ouMVk5jKo83XxmBggMWheSwPjzMeHKPH7qRSVVAhlSyxF/NKxYscNB5lg5zJadYiRqwRGrQW8qWIoISI6zEa/fUMR2exIDjGKb4FLPKPMTc4QI+vjWK9kIQWo95Xz2B0mLnBceYFJlgYWMK8yEJ6At0k9UI84sVUHoJalBqjnjnB+SwJLmM8vIjZ/tk0eRrJ1xJ4xOParCsqKqq47dbb+dd//Tc2X7F5kk7Eeeedx+eff85jjz1Gc3Pzyf6i55BDDjn8MXByB5CxA8+QCN19Ll00mKpZsB2Za8OjUKmOgmzzI0McUpFSWbQUhm05apWWQnwqI5YUlIx4ku2+V7l6DJa7j5hyEM7a1qucsaQUG8OSUb3MroE4EQH4JoiETHkuZaqVUvFMKXa6BMuRvVaIpSEe5TyXOp/UNoZMNvCyJeNo6c9AWa7Jlu5uFxEnfZGqu3CLSVNW5roYeMXGLzZeMTFdx1RNKQylY4tNQHwkJESRhIlLiLD4iUqIBrOOCwrO5c22IxyrOMzVsUsZ0wcpk1L8EsQU27Vn17HFIiA+YhKkQELExE9IvPjFiy0eTLGxxeuadOURkAgRSRCUCD7xYomJoRkYuoGhTLziIypx8qWYmBQQljyHZIiJlmVC5vF4GZ09ypEjR7l/7/1pxUrbttm6dSuvvPIKGzZsyGrVzSGHHHL4k8LJHcBUEpFCtkDRVFhKOdtkLaqTnSPdFIASDN1w/tfVZNdFfcrj9KKdZSOddnXMOEGKoWX2NdUmeloth2nO+6siDVNeP87xctJ71fHPHbcfx95cKYOU/bljTPYlx82q38ieL6XEtc92j5WSwdamGUP2NVQZTCVCjgCVYEkqlaURFB/Nvno21lzAI537eaRxPztqtzLPM0qB5GOIMWl+M0JWjvNn2lJeNMR1ZtVTpmyuXLim3E6g1D60TCpCiYYuBqbYrlur4b73+OsZjUaZO3cey5cvn+SdMWfOHJYuXUptbe3XatXNIYcccvgO4qQPYFoioY57Xjl3sJJZbFLRiskkw1VwFM0VYsp6bepCllokv6x2QRNH5yFVx5DywFBqCrKcNadxwDyOXKhp/p+KLPdMkWnGllayzBxDScZOPGVQpURz/SNMlHhR4kOJ7W6bNSdZ8zTp+pxg8U+P6UTRlxONe+r+JZPSUu619olFqV3AaP4AK4uWcVbsdJYXLqPNaiMsETTRj9uHytpH5jgGKWdSLUUYlBxPeqb9XE7+LH3ZZ1jTNAKBAIZhpOtZvF4vXq83VwuRQw45/CnjpA/gOBJxfKGl07GRIhLpkPgU5cbUYqmLgS4GWnq7yfvMlmL+qgXuuLGmUh5fCodIOONJQU9DTQM5IbJIwqRxKvd1I71dasHTTggTTXxoEkQTr/vc5HnJfiwneO73w/QkaTLJmQxNlCtIZRIRH3HJo1hKSEghIYlgiu3avE9zzSaRROXOj42kHEonkZ4UWftmP88pIpFr38whhxz+DHDSB4DI8V0a2SRiciRCQ3cX5ekWbyUGupguDHTR04QjhUkk4g/CCSIH6eiBMxaH0Ohu3t7ESI/LdBf0DNQJIDIl8iEpBUwNSaUn1GQicWISoaOJ7RII2/1/+nmfTCJS8/ZVi2J2eiFF7o4nSSqLUE0PLatLR2GIjq4sdOVFiY1kpzKmIRIqlZJSKmuOTNfDRE0hGJPTIt8EUgQiGyf7+5VDDjnk8EfCSR8AIl+HRGSiFLoSR4jquHoEHU0MdLEw0jAxXDKRiQRkUg1KaY6z5lfYch+HryyETBGeyUTiy0jEVEKRjjIoLbP4pWoQbHELGRWia+l0yolJhJoG0895BlPJ19chEZnI0NTIzNclEenag+z51HU0w4MoGxGLTGQhq9ZFE2cedJUpCk3pdeipeUqRD+Xux3LH9c0s9NltuzkCkUMOOfwZ4KQPAJEvJxHptk9N0HXBNBUen8IwldMloKX2kZ3/N9xF2UJzc+KSRqrIbbrUxNf40Z+upmI6eWvJ1GloWemGFL46LZKVCkgVOLpdEyqiUFHldqEIomXy99MRCCWCoQumIei6Y1Wuac656u5YdeUStBNci68Vvfk6xZrTRQ7S+5hc55EhLhqZ1IQfER8OAcgqLNU0lGEinsz8qKDbjWI6hZOa0tMpruM/D/+1z+/055NDDjnk8CeNkz4ARL6aRJhKSMSEiQmTizcmufzKSlaeFaOy2sCyp1O+dO6kU1EAJTqa0tJRCJVamH/PmggR+XICcSJM7eRQU16bCsNF6n2GpFsq/aMeStcliZwSQa8xEJ+gdHXCNEZ2BCEvrjM6t4x15w/Q0Z2YNP+2qWGZCl2bOo9fk0hM19FhTMF056pPOdepJMO9jkpMlGa70QjDTfPI8QTOL/hHQ5RtKCd2Wgyz3pkjRwArC1OLQf+Ln1+RHIHIIYcc/uxw0geAyOSFX0vXPzitnIYSqitMrtlSwaefruQXvzybn/1iAx9/cilrVldRGNfT3RrZBYK6ct5rKJX+f1LnwdTOguxF7MsiEl9FIKZbQKd7LuWvYU1B6vnsbVM6EDGh6poqlhxdTO993YSHw0hQUMbXIxFlFR6uum42x36wlTNWtaWfN5SGoZQzRye8Nl9BJFLzMvXc7Cx8nXNNYeqcGq7eRRpZ79Wyjh0RkhcXM/7KQgYfm0V8IuboWRhTxpetNfINfH5FciQihxxy+LPDSR8AIse3Z2by+E4aY2QozrGjA3z0o1lcfU0Rmy4v5tJLy+nr8RHxO2TDMoRIWChKCvkFgtfrPGfqgqk5fwMBwecXdEuwfEIwT/D4BcMSNMNRyVRpEjFlQcgWvsoWavK6j7NFnlKICJIUpEIcd8uQOCmIlDBUSByL7piLMhcJyYhYBQSJi+O42SH4Vvloe66V+kfqCC4MIHmCsr6aROi6UJjUmDMeZc35VbT3BDFMhxgYorA0wWM7cxSOCHkxIRYXQiHBMid3tUxLJJQ4C3S2EFdEMoJcEfdcU8+Fs7Ypd1HgPudz5zk112F3TorEMVgrdf/Pnu+wu49mwV5u0/BEHW2HmomdEXX2m5rLIkHqBGlwHwckozA66TOZqu34amKQIxE55JDDnylO+gCykGpb1NOLX16eh/kLGnjooSV88cUyfvaLHvY/lGTfA62sXRumtFjDawglRcKiRQXceFMf994/m1vu6mHV+iQVVYJtCUGfsGBeDdddN5Nrrm9kzfoA68+PctudM/ne7QtZfGotPq+GoaWKCKfURyhB8+lEu/PoPLeLlo3N+Bd5UdWCVAmRiQDVl5ZQdVEpkTkhx8mzWyhbX0bzjY003lxP6aVF+BZ6HSfQqGBXW5SeXkLjVfWELvairVYUXl1A402NVGyowN/tdyzNuyySawppvKmeyrvK8d/jo+atasoeL8U37v1KEqGJwlBCR3uSSy7rYef3Z3DznfUsWhbA73d0NzQRaqv9nLO2jatv7GLL1hpuuq2ZXXuG2XxNG529DtFSk9IMk+GkEhRGk0nTuY3UX1ZNYKUH1SxIjRCc76PqkmJqNpYRWxx2yFKHEF+TT/1NDTR9r4nyK0oIjPscwhQWjKRJ/kQxTVe0E70kD/1cnfjVceq311FzYTnhfj9SJBgNJrEVBTRt66DxnjbCuyNUHiun5sUqwqtCSJmgKgXfXJvyq4qp31VL9c5aKrfUEhlPoBeabm2JYGgG9dUNXLD+ItacvY5IKC9HDnLIIYccpsdJH0AWMiRCKYdEFBb5OGd9J2/94Cz+9d9W8stfd3P4lSoOvzLC+g1FJOIGRQXChg11PH3oVI6+eSpPvziT548M8sZ7y7h+WxtlZSbRkLD6rBpefHGCn/z0FD79bDbvfTDI2++Oc+T1NXzvlgnywiam0tz8+5SKfaXQIjrR8TiLnljC7JdnE74xiKwQ5FQhtjVE15EGel5owX+uD6PfoPbmKmY92UfrI800PVpPx8Fmmu6tJW9FFKkQzDaTks1Jhl8eoPWdOspfLab+cC3dB7vp2tVJ4fIC7Fk2ZVeWMvOJflofaaL0sSSlPyih62edlB8sxTNuI7EvJxG6KGxdGB4sZeddI7z1/lLe+3gp12+vJRQSvMqpPWlpstmzdx4/+fk6Pv7pQl58q53Dr8/kzb9Yys7vd1FUKmhZoX8ljiqkppw0lNIUEhKMAZM5D89h7LVB8u4Io8525ihyjZ/Ow3UMvNxJZJMfbUijeGsJXc/OoPGxZuoerqPj6RZa728k/8w4UiYYtRaFF5cz9Nxc2t5sp+q1KhpebaTrUCfd97RQfGYCc6ZJ4UVJeh4eoOnBbsoeraXi9Qp6/rqT+mN1BFcHkUYhOh6m7a56ml+opfhQksJDSfpfH6ZqezOeJn+6bsIyLOYOzeW1l97g4GOHKEwUo6mc4mQOOeSQwzQ46QPIQjaJcLoHgiGD9q4E23fM4Nd/s4TXXmvirLMjrDi9nM7OEMGgzpx5UZ55fimvHDubyzY3ML4kyJp1hTz7/AI+/9kFLDnVRyJPaG0KcNttzfzq18v4h9+u4ODBLi64oJJVq5o5bWkHQa+OoTQ0txBzkhKkppCAwur20LN3Bp1vdODb4yPyUBjvHi+eAyZVbxfT/HwN2gpF5DwfC18bpmFXDZFVIYIrA5RsK6L3YCeN36tD79NQ1QrvIi+tD7cy59cjVB8rJ/+6BPlrCyhZWUxkbpjY6hidj3fTuL+ZyKow1ukmiXvi9H7US9WTlXgnPEj8xCRCFy2dqigv8bNwPMkdu2bw4acr2XVvD36vYIsTjSjIE7bf3Mcv//Y83nhvARdsirJmQ5gnn5vJj35yDr0Dgmk51yq77kR3SYSmNMQnaI0aHXd2MvBuP+H9IUIHggT3+fEdsKg4VkTbK3Xo6wRzg8nA2wM0HGgitDaMd6mX5FWF9D/ZQ+fdrXiGbVSNhndRkNrvNzHyk9nUvVVH8tZi8s8tILkyn8icINHTo3Q81k3zA50EVkbRTjVJbI8z/MFMWo+0EFwdQtqF8vUlLHhhlMZXa5D9guwRKp6poeDKEqwG2ylQNRSmbtBc38yWy6/lkvMuI+SPum3AJ/v7kUMOOeTwrcNJH0AWMiqMum6g65rj1aAL44tK+PjjhRzYX4uZVWVvmsJFlzXz1gdncuOOPmIJ5/lQQLF8eYR//tdrufHmBMkCR8Do7LNjvP3ObJ451M/wkI7XEiwl+PSU+dfxJEIphdI0xBBUviLv0ji1R2uJvBSm6ucVJH9SRPAtP4ljYQrvimINGVTfms/C12dgLTeRYkHyBBkSGnY10P1AF/5T/EiBoNcbJLeWMPDRIN7NXidPnydISNDqFWVXltP73Ey09ZZTW5EvyDyh9WALlQ9X4p3wfi0SkbJW93iFicVFvHRkHrvv7ca2nPP2iONfccH5jbz7wQpuvr2HRKGQTAqbt8T5y5+vZu5iwbKd+U13z0wlEZagoorQmigdRzrIP5xPxV+WUf7zYqLvhYkdjZC/L4oaVwRu9DH6wWw8Z9lOzUhYkGahYVsdg0/2k782hpQLql4jeHmYmX8xgP+GANLtzkNUUFWKkgtLGHhpGPt8b6a2pEfofqiNlueaCa0JI61CfGmMju+3UvlMOd7HfUQeixLbH8dYZTrpE5+gGY45mK4b+L0B/J4g6o8gSJVDDjnk8CeCkz6ALGR0GwzDdAR7dMHjE05ZnuSjT+bw0KM1hKKC1y8YpqAbwoWbWjjyznKuuamL/GKF7RXy4hqLT4nzu3+5klvvLKM4aeCzhfUb4hx5o4dbdjZQUioE/ULAchbQFIlQaSXDTDtouiU0KBinWnS+0Un9z+oo+1UJVX9bQeOvayh7vRB7k4an16Ll1jJGXmrDc5qJqhWkQjBGDRrvbKL7wR7Cp0WQEkHvNMjfXkTtkUasFZZT8Ofal5uVOlVXVNL/zEzMVWam+HBMaHummconK/Eu9SIFgrK/nETYSvCaQiQinLKsgFdfH2HP/hZiCSHkFTyaU4R68SVNvP3eUq7d2k44JhQXKzZvSfDJT1cw/1TB9jjXSjtOT8IlEa6duozo9L7SS9tft1L+81LKf11K/d/WUv5hCZ7tJvosjcQNIWa9MYh3pR9pVEipoHVr1G+rYdbjvRSuTSAVgtaiEb4hTMubbXjWeJFGcQoiI4JerVG2sYyB54ex19lOwWWJIH1C0/4a6p+rIXhuEOkSzLkmwU1+Arf7iD0Qo/JINe3vdlFwayFmt+l0uejOuRi6gd/vJxDw5+ohcsghhxxOjJM+gGmQqYgPhE1aesJcfVMdn/1yhKPvtDKxIsbs8QKKK72YlsbI/CjPHVvJq+8uZf2l+fTNjnDK6YU88dwA/+N3V7DibD/5BUJHR5hb76zno58M8dThTk5fHWdsbj5Vlf50db2mFI7DZZaUdIpEKHGK79qE/kP9zP75bApezid5tJCZf9VLy4uNyDJBr9QoWB1i4thsSvckCK0KEjgtQHJbkhnP9NF4WzNqQENv0QmfHabiwUoa328lfFOE4OogvhEfRomBFAlFZxQy88k+ynaXEljhx7fUi3+7j74Pu2l+o5nIhVH0av0rSUTIp9PSEGZ8ooBt32vgo8/n8cKxLpaens/wQIKCqE5J0uDmHTP40Wenc9eebhpaTJqaPey+t5lf/fYczrkoSCDkmHZNRyKUaJkOlmqh59FuRn46RP6RBNFXw7T/pIXmtxtR5wqqVvCcaTHnjQmS91cRXB0msNRPYkuU3qfa6bq3HXPMRGvSCJ4ZpPzhMlo/aiNvZx6htSH8owGMKgMpFgpWFDB4cIjavbUEzvDhm/Diu9rHjPe7aftBE9Frw+grFAXXxGm9vwH/FX48F3rwXu+h4WgdfYd6iC6OOBEdXdCVRlFBEQvnL2DB/Hl4vfZxpmQ55JBDDjkI8i0YwAngEIm2zjLu2rOKX/12O//yn5fyz/9xHn/3L1fx63+8kw0X9xCLewnFhTUXNPPmDy/kb/75ej795Xn89Dcb+dUX1/C9O7uIJkyamoWHH13F3//jVv79/9vC//rPTfzjv97Az371PTZtGksvjEpleVJkRSNEJKMlUSQM7h5i9MVR4pvixLZEGXp+Jn33dSM9guQJZr1B+45mlr9+KuOvjDP+yiJOObaUvvtnElsSRyqEvIkoE0+Ms/LDlcz7aD6j745x6qunMHLbEAUD+UhU8Ld7ab6+nlNfWcSCV+cy/MpM5rw7yKKP5zLxwUI69nQSGYkiVrbjZKZNNkUimusS3HXHKn7+izv4p/99E//+/1zP//X/Xsu//cet/PCDGxmaGeG0ZQneeecy/uP/7OajT9ew8bJSVqyo4EcfX8V//N938Nwrp1JZZWMYk43MlMq054py9RsiQvuNbSw4OpfkDUX4rrJpPdhA54NtyGxBQoLeoFN7QzOLj65k4SvjLHxpLotfmcfM+7vJX56HlAmhkSBjD4+x7MNlTPxkEfM/GWf5m6czZ/c8kiPFSEzwtNnUXVXLaa8uZcGzsxl8ZgbDbw4y8ZcLWfLJOK2P1BPZ7KXupnKWHVvCvLfn0HW0k943u5j/zhjlNxRjdZpOG6ouWJbFkkWL+cXPfsYnH31IWUlRzso7hxxyyGF6nPQBTINMJCKe72VsQS2XXt7PlmuaueraajZdU8ulW7rp7Ivi9esoTQhGNWbNjnPlDT3cvW8+2+/o49QVeUTyNDRNKC0RVqxo4NJN7WzaXMNlV1Rz+eY2Lry4h/6Z+YTDDolwlBAnm1pNpxcRG8incHEST4MHs1UjMREmPhZx6hYCgoQFrVAjMR6n9bJWOq7qonR1Od4eHyqmUCEh0OCj6cw66s+tomRDPlUXlVK3oYbC+QXYJbYjzhQQ7Bqb5LIkrVe203hNMwXn5xFZ5aNwdZzo/DBmqYHoKRIx2Q0zRSISEZ15o1Vs2jiTLVd3sumKOjZf1czWrUNceH4PJUU2TXU6q85o5MrLZ3DOqlK62g2a6sKcu76byzZ1sey0UooKdQw9RRymXjNXrtutjYh2RShfUkSg1Yc0CrGFYYoWxp10Q0AQv6CSGgVLktRfUkfrVY1UnFNMoMeLijhy1VaFRfGyUiovrCGyPo/iS0qoOr+Wwokknhpvej9mqUF8YYT2y5po29JE9Jw8ImsilJybJG9ZEKNH8PbaFJ6WoOTiUqqvraXhugYiK0LodbqjN+FqRWiaRn1dPVddfgWXX3QxeYHgdzyl8Xv6wpwk/NeN8b4tUHxX5jyHHL4BnPQBTEHmy6fpjj+Gx2sSCtmEwybhsEEobBAKW1i2lrZ9VppgezTCUZtYoZe8fBufX0sXYRqG4PebhEIWoZDhwiIYtLE9OqbpRCEMw4fSLCelcSIrbnE0I/SAjrIUyhJ0n4YW0BxxJF2cv15BC2pYRRZWqYVRYKDCyiEHmqBZCjNiYoYNjLCOkW9gRk1nvx6VVrpUhkIP6FjFFmaFhV6qoRUq9IiG5tdQlpNqyVamdCTDHbloQxSGJng9hjuPFqGQSShsEol4CAZtPIbCMoWA35nrQMDAYzlS2KGARThk4fMb6G6Lp5YW5cq+bhpK6Rimxz0/DcOno3mUU7QY0tD9umscJmklTj2sY+abWIUmRlxHBVRaPVTZCj1gYERMtIiGnuc81sM6yufMpXL3pwU0rLiJlbTQ4hpanoYe09HCTteI8in0qI5RaGAWmJj5JlpIy5h0uQRC13RM0yQcChEOhv5/9t40vKoqzd9+1h7OPCQnJ/PJRCYyQeY5IZBAZJ4EFVGrQCZxVkpxVlRQZFZEBQcQmREVBS0LpMqqLtuqrq7BsurfVrfV/V5XX2/121d/qf/n+/2wz0mIQEOEAAAgAElEQVROJkgECa37w30l5+x99l577bXX+u1nPet5MP7XWiHiBrM+WWZHa3BTnG+AHRB3ZCgGCVN/ZQmQvonoeqx0PSJ/tMtnY3NJGfUCWAySw0LF5VFQqjeXhuq3rc/voyGSVfRtWYvrZHrm7+Pm8+NN8tYgGLVCKL0nM2afJE/980P0CcssvaGV4/NBOKQ3xHJ8mGUlA0Nbx4fI7p9nI3Ycl1hCxIjbJ74eJZa0TMMUw0qlHQ0hPhhWyu3eRGcDv48lrOpF9Qkh3jeRmVL6wHsaf039ryt27T2ZSXuvQ8Xv17/OtWg76L8tPuz2YGHHY+cxZUA9KxmYefNSdPqXe5BT/QfsnnT1/RLNDSNB2qXhwsnuYnUUy9bbE8BMJFp2GfzZ6/c8j3pfFr3eWPh+PZoQUIkR9VW6ksppY3PRjHoBLC6Q8bEnLkH070BzujD0W1f8G8FAeveLM8f3QQ3sXGOd2VB5NPoLjv77Dnbd/X832DVpUaKfBzj8RT9bIkBFBYSOLtp5RITqIZazRBMNQ/SoCDGiK1Zilpn+AqL/ADHIm+5Qg1P/OooTRb1JwBS6UuhKs4gG0IpvCzGhaYiycqVEU7xbqB7RExOgPQw1YH6DAXWoN+lhvV2PiAu36z5v+/ECQvW/T8Ph0pb5fMeOPeN6//rquQbpm5/mWxYR/e/pSO6lJgoj+hxZGYWNnufQFhI23yFGvQAWwxAR52ewwSy+sxxO6u14EaH6dlyDiYgLcUnqZuiyD2oaVdIjLiysN+tYHpLBs51Kj3DodczU0UTHFB0jtuS1xzoTK9dQdX6xA0/v72PXoSlL4Bh96PvWGssBYgwS9ntE6c2/4b0c7NgjHXguRHx+mcHTvvdmqu17Db33qb8D7vm4NPdzJNc3sP76tLd4IREvOGPt/RKcf+hnZPB7O3R70KIC3nqWdNEwReEQy8pniwib7wijXgCLYQzIFxIRaqRiYUgRcR4BcQWJCOm55n71qMdZLPqY6i+AFhNQ1hJXJUa0A4x+H9t+XgFxsYNOfxN83/KfTwxYIbg1lDJQSo8KoaEFxKAi4iLu5YVExMW2hf4CwhIR+gB6Vsn0Kf/5RIQ+JJdbRAz2nA9oG7FrG+q+XcJzX6jtnO++xu6PVZe9IteMWtGuLD8OG5tvzKgXwGIEA/JgD/elFxHDKNOoi4i4AV1plgjQBGWqqBDQrWvp7zcxBKpnmkRHxIEoJ6KiTqaGZqXi1oZTh5fAEhEzvceEkCaYuobeE7PDuk99RJRSiGYgugvRnFEhNAJLxEXeu3hT/HDfVkfKwKmLgRaJXktEbFovvi0NNg1yPkvE6DliDpgWik5FDTb11Wc68BKc80IWiQvfU+u5VdEQ/iKCaJbAjUXEHfACcKnrT6k+S5OHs8Iotk9PbJxRuO82/+sY9QJY2CJiCC5wTVHLgdINlKFbobldgrVE1YE1DTG8gb3HWVV0RHMhziDiCyEeP+JyIg7j2xcRMdN7LOBXVBiJEtwOKxy6OD2IJ4C4fIjusPY3NMTtQnxBJBBGXAFLTCirsx6xiLhIS4Q63zG/hWdmcJ8ILe6zDO6v0/9Y/X0WLmk77k+vSBlQ/rjyWX4EVoZdXVcoXXodZ/s76UZ/YxgGTqcTwzAuTR3LSCxLsevTUTEnbV1DvF7El4g4e9vmNxVpgw3ySilcLhc+nw+Xy4VSCl3XR3RcTdNwOBxWtOArSEQopXru6UivyeZbZ9QLYHEliYgB88nfkEtSN+e5ptjbuq4hpkK5FXqSbuXeMAQrYJYDEZPhDO5WsC1BlIYRDOMtqyKho5OEljZcWTmIo3/H922LCNP6G3OeUwpx+/GUjiehpQPvuFq0cCpiGhihAMHqcYQmTiTQ1oGWW4C4A4hmRn1Cvn0RMWCAiTnC6qp3iql/W1bqmxNnpRlY3r6Ds2hirUrxC3qCbsXXcMTtP9RxtL7n/KbtVyk9Os1kEUu0JxKbdjLQY9NnSuu5NiWCR5wkKD8Jyo9XXBjKQOmq7+oazSprrE4jWRGqqqvIycm5qDruuYcjfp6VZXXQHIhhohIDJNbVEprYhVlcgfhDSM9S8osXEYZhkJGRQWtrK7Nnz6a1tZXk5OQR3TOlFG63m7q6OiKRCA6H4yL7rt7B3zCMb9R+DMMgEAiQnZ3N+PHjaWxsJBwOX3S5bC4po14AiytNRPQvU//Pg63IGKojHgZKH2pbnGl/MDRlCQa/4Cp3EZ4XRqqsz2IKlkXCRCQ6tTHU+SVOROga4do6Wp59hmvP/ITZh49SfM1NiHLSI0gGLVfU8TLWWfTxLRnMvD7EPpoWFUDR8/V05ArJyKVm7WNc8+6HNG3ejr+hCXE5SaqsYPbmZ7jxZ2eZ89FpvAsWIslpiOFEKe2yTGcM2p77ryTovzR5qLY/kmcj/hz9Vi3EnGvFEMQr6IU64atTUVWa1UZiZeq/FLb/EuNB62Tot+jeaRJLIFiYPShx9KCJE1NcOMWFKQ5rSibqHGyIRlgSqXVX0+ZqpUgrwi8JGMqN0vV+z51lune5XCxfsYK3DrzFkiVLvqX+qN802gA/jaglQgzE6cAxrpQFb+zhh+fOkXn3GrTcfJTpQnRzyDo8H/1FREZGBg899BCff/45//mf/8nnn3/OmjVr8Pv9wz6mYRiMGTOGs2fP8uyzz5Kfn39R1ghN03C5XOTk5JCTk/ONRElqaioLFixg9+7d/PznP+eTTz6hu7v7irKS2Ix+ASxG8AZ4/mVXFysk1NBlir2RGGLFavCK1REHxMpAGYh+F4tD4I7bJ7bdJ1aCKlfcdm/cd57oZ3f0OP3PE4j+74k7j0OQNCFlYQr1L9UjC8WKChmKHicWe8ER/V38sXzRcxjRAFKmhjgNktpaaHr5RSaf+YjUxx7D1dqFuEKI4UYcDsTptKY4nA7EYUY/uywcJmKaiMOJOF2I24N43NZ0g9NpbdMNC4fD+o3bg3i8iCe6r8uDmF7rfGZ0H9ODpGThXHYLbad/Qu3e/Xg7JyNeL67CfPKX/oDKN/Zw3W9/Q+Itq1GRbMThRGnDFBEXS/wy3lh8kPg2EH//Y3EqYvExYvc9dl9jA3osrkX8vY61HVe/7zzR4/v63Vsz+vskwT3VzZQj3Zg3mFayMq/0xh1xxR0n1qb9cW2xT1wSNegzE3MmdIoLnwRIlCSSJIVwHCFJJiCJ+CSEX8IkSArJkk6qZBCWFPwSxCluHGLiFRf5ksvqvFU8kL2Wme4ZjJECkiUDj/gwZKBpu6qmhqPHjvGLX/wD869eELdN9fGxEV1HDNPCNK0BXTMQTUccOuLSEZeBuEzEaSCmjpiG1R5Nh9V+jVg7d/a2eyN6LN1hWe/8PlRRLkmP3sfc3/+a1GfWo4rGRqfivnmG2PiBdMmSJfz2t7/lgw8+4Nlnn+XUqVP85je/4eqrrx728TRNIxwO8/777/Pv//7vzJ8/H6/Xe1HPRDAYZMuWLWzevJmsrKwRD/5NTU3s37+f//7v/+Z//ud/+Mtf/sLMmTPRNA3TNG0xcWUw6gX4Fhhs/nW4DDWfraxpg5hZOF2QSQr/0iCB1UHMm0xkpli5M8JidcBpgrQLvqUePKvc6LN1pCz6fY6gNRm4Zicgk3Rr0B8reGc48c13YtZqSJagKnTUDBOZLag5Cs+qIL5lAfQW3QqxHRAkRXC2Och5Oouqs+Nw7DSQpYLnh160Rs3aL2jtJ1WCY4FJ8BY/3qVutFnKSq3tFWvQMnXEaRBqa6Z6+xaqX9iGVlGGcvksP4TSUvwzp2PO6EZqKpCkIBL0o1eNwz13Fs4ZU5GxRdb8b3oEaZ9IYMlSElavwjlrJlJYiPiDiMuLSgjjbGnBP38++pTpSGMrznlzSbj5B/indSOZmZZ4SElF2tpIWLYK/ZbbUKtvpez425Ts249nyjTE40UF/BgZaXgWL2bRZ/+I/+blSCQbcbqGFBG66isikpKSGDduHC0tLTQ3N/ehrq6OvLw8XC7X4G1OCSoWJCsmDMKC1qjwXu8gsNKJ+UOFzBekVax05R5BIoLqUPiX+km4PQHXQhdSKUiyoFIUZp2TwJwAWpeGFApSIbinOvDMc6A1Wb+XYoU2w7SOPU9wr/JjLHUhEzQrDb3Huv9GjUHG/Sm0f96K+byB3CLINRrSrKzjBK3zylhBm6sRuCuAe5UXNUchjdE275boVFlMRMSb4xW6mLjES5KkUirjmabN5mZjBSvUMhbLtVwv13CDLKJeGsiTQkqlikkylev1H7DMWMlcWUiNtDBGSkmVTDIlwnSZzvM5z3Mw+y2e8zzLLXIL89VCGrRmgpKAHi8kdI077r6Hf/iHX/Hsxu2kpOegef24q6oJzJyFc/pUVH4ECXmQvFwcEzpxzZ6P3tGJ5IxBPEFUJBvPwjmk3LEM7/Ib0dobkUgqEvAhoRBGYTHe7qk45l6NdExC2tpx3ngj/uuvw6yqRJJSEE8CkpmN0T0Z363LkDuXo925jIlf/pqEzRuQsSU9zr8X67ialpbG/v37OXXqFPPmzSMYDDJv3jzOnj3Lnj17RiQEDMNg1qxZfP3117z44ouUlJT0bBvugK1pWo/fQlJSEmfOnOHDDz+kqKhoRIO+pmkEAgEKCgqYPHkyGzZs4I9//COzZs264nw2vueMegGuOIZ0ijOibzFpQtqSbGp3N9N6uIP2ExOZcHISjYdayLs3HykQ9Byd9OUZtL3WRuuxFprebqLhYCPZj+ViTHbgafFS/EgFncdnU7yxEq1YI2leiLZdjUw+2E7WygykVkhcmETlnkYaTnRQebSRyhONtLw/geoXaghcFUAyBKNEJ++WHDpPTqDhn6sYcy6L8cfHMfnwFKrvq8VX7kPCQqDVz9jHiqg7XE3F26VUvVtJx4kOqtfV4ChyRq0WOuI0CbW1ULNtM9U7tiIlYxHDgTjcFC1ZwsITx7nqgxOkPXQv0lSD1FaSeu/dXHXqfaa99w4pS36Ays0m77ZbmXL4ENM+Os3Un3zEVSffpfypp9Ga2xBfAubYMjo3b2H2eydpOPI21YeO0nXqA67/6U+Yve9V8hbORxuTR9JNNzHzyFFmnP4xbR99TNXZs0z68ksqDh/DPWU64vJaVo5AAHPufG74xWf4ly5HsrIR19AiIt4Soes61157Le+99x5ffPEFf/jDH/rwxRdf8Prrr1NVVYVpmgPbjRI0Q+u1QqQIkYUZ1G2uZsKBRiYeb6LrvQlMOt5JxVOVVsr3bCH9B5nUv9hAy+EWmo4103a4jbKny5AJglliUnxXMTOOT6fo2SJcrS4yrk2n+fkGug61U7Q2H2kQPHO9NL3RTvt7k6g+0kDNiSaaTrZT8UI1oXlhJE1w5TgpWJbH1BOdtHzZRP5n+ZSdrGDSkU6q76smsToRSRK81R7y782n8kglRe8XU/puORM+6KRsfRW+poAlNEzpnb6SvnP6DnGSICHqHE3cFrmHnWWvsLdoPwfy93O04ADHcg7wZs7r3GTeRJdcxarAHWyL7OLN3AMczDnEazl7WZv0BM3SSZpkUSnVPBh5mONlb3Ou5BNO537A/vw32VSxmetzbiAkYXTpdZ7MzMnizQMH+YdffM5NNy5BNxwEM7OY+MBD3PDxWTrffhv3ovlIRRFq7hwqX3mdeZ98SvWu3ajpc/BUN9Hw+NNc95PTdJ86TteH79BxaB9pK5YiBXlIWhrps+cy6429TDt7jpJDR6g6foKpn5xj0UcfUv/4YwRr6/FW1zHuwYeYd/IEUz8+RduZUzScO03Xf/yJ4NYNSEkJol8aEVFWVsbHH3/M7t27qampQUSoq6tj7969fPjhh+Tl5Q2/71OK9PR0PvroI86dO8f06dP7TEMMd+CO7ZeUlMSPf/xjTp8+TXFx8YgT2WmahmEY5OXl8cADD/DFF1/YIuLKY9QLcMXRR0TEz7magvIpglNCTHizm/wXyki9PYPUJWmUrRtP54Hp1D7djFQKzm4nHQenULZrPOmr00lekkzhhhKq9jaQtTYPo8sg+eZ06t6eQPOBSeilOs4aJ1n3ZjDl2ESKHshHagRPt4+SPZV0fzqH9G25hG4Nk/JMKhPenkzk9hz0IgMtSxGc5qN0UyENZyoJvuAldEuIzCURkiaFMTNNJEUovCGPSftbGH+whIQNQZI2JJHzeg6F64sxi03rjdXUEYdJUlsrtVs3U711M1JSihhORHcSnDSZmceO0fCTD0nYsYnghnUkrHuchPXrqTt7jrYPTuGe0on/hmuZ9sFxavbvIXvNbWTeuoyKHVvpeOddyp9cjxQWo2VGSL9+MROPHmXmH35H87lPKNy8iaJ77iZ/xTICM6cRmD2DzmNHaD14kOxVt5K6cjV5u/cw5Z9/S83ho7i7pyNurzW14vdjzp7PjT//zLJEZGcjbhdKP7+I0DQNTdOor6/nnnvuYePGjTzzzDN9eO6551i5ciVZWVlDdITKWsqnBAkJ4c5Emrc0ULGzlLS7k0lbmszYh4uZdnAGbTs7kArBMcdDy2sTGP9SFRm3Z5J8UzKFjxXR+EYjY9cVozVpJMxNYNLJiVTvrcHb4cPT7GHM/bk0H26g/JlSpElwdrioeHk88z9bQN7WQsKrU0l7IouG/W0UrB2LVCj0TJ1gR4Dipwpo/scWEl5LIPH+RCLLM0meFMYRcSBhIWNWBp2HJlPyXgWBTQGC6xIo2FtE7vp8PM1eS0QYUcdXLW4ZcdT/wiNO8iWfpRk3s7FkK+uy13N74C7WhtbyRuHr/Lj8I7YHtnO9dgN3ee/ltfR97E8+yA7fdrb4NvJa0qscyD7O3b4HKJEKSqSURd7FvFT0MocLj7A5vIXbgrexILyAqmAVHvH0WSrZ0t7GmU8+4fQHp5nS2YWIYCaGyLv+Bq755efkHj6C8chDhJ/biPuRx8h98xDtn35G2bad6LOuJuO+x1hw+gxjn3qKjBsXk37n7XQcfIv2g/tJv/F6JC8Hd+V4Cn+0hs7P/oHpX/8bNe9/QO7Dj1J0152kXrMAR1szBbevZurRw9Rv3kzm0qVk3H4HjSfeZtq//pHEreuR0piIuPiVBvX19Zw7d45t27ZRVlaGiFBZWckrr7zCT3/6U4qKikZ0PMMw2LVrF3/+859ZuXIlwWDQ6heH6VyblpbGggUL2Lp1K7t27eKvf/0rX3/9Nfv27WPTpk0sWrSIrKysYZUl9mxGIhHuv/9+W0RcmYx6Aa44hhQRTkFP1ym+u5z2E1NIWB1G1WpIgeDt8JOxIo/Um7Ixak0y7s2h4/1uAjclolVqSJHgnumldHslpS9W4rzahbPbzZjXS2g+MgG9VEfSBWOeTtO+egoeGYPUClq7TvrmLDo+mIJxncNymlwkNB/uJPJoPka1JRBUiSJjRQrNx2tRqwUZK6g8ZZnNvYIkCclzEqh+uYS69yvI2Z9Jyu4wiS+F8K7yoYq0qMe+jjgchNtaqdu6hZqtWywRoTks82tOPlXPbabg5Lv43jlG1me/IPfTT/G/dYi8D8+QvH0nWmkJ43dsou39I4RXXI9WWYQU5eCdPZNxL++m/fBx9EmTkWAiMraEqj17aPnlp2Q/+zTOjoloeYXo2Xk4q6sZc98a5nx6jsTly1C5+UhWHq5rr6P5vXcZf+AArqnTrKmTOBFx088/I3DzciRneCJCj3ZIpaWlLF68mLvuuos77rijD/fccw/z588nJSVliM5LQ8S05tzDQsWKElpfbSLjrjRUnSD5gqveTWRZFhm3ZiLjhexH82k81ELKyjT0Kt3ap9NN8fpi2g+24JivoY3TqHhzHOPfrMI7yYfkCc5rHBTszqd4YxFSJ+jjdJKfTmLaT7rxLfSjKhTaNIOqF+oZu6EC1WogYUFlKXzX+Wg7OwnjPhNpFrR8hUoWy/chWUiYGqLi1WqKPxxH8oEMknenEn4pjG+VD71CRwKCMjTLYVA5UMqBLmY0KJngEyf1qoZHih7l6YJnWOy6iUnSxVR9Gg8nPsKpcR/ykP4Y18piNqdv56Pcn3Am+SxvB46wP/Aqx8OHOVv4M17Keo021U6u5NIojTxRuI4duTtZ5l5Jg2qiUMsnSUvALU4M0Xqe2ZmzZvPLzz7j8IG3qK+usu6N04mruoq6o8dIfec9fEePU/z7L0h45yQp758m58RJgnfcS2DedVQdOkH1nn0YNY1IVh5SXEbq6ttoO3ac4g0bkOpKJBzCM3Uy5T/+gLrf/IrwqlXo4yrRc/NQGWm4uzqo3rmVjtd24+/sQiJ5qIIywrfeyVV/+A2JWzcgZSWI6bJ8MC6yv6qurubcuXPs2LGD8vJyRISqqipeffVVzp49S0FBwfD7vmjbfvTRR/nqq69Ys2YNycnJA7afj9zcXO666y7OnTvHL3/5S/77v/+bv/3tb3z++eecOXOGtWvXDkvYxKwQuq7bIuLKZtQLcMUxQETE/joFI8ug6vF6Kg8141nsR0rEmncuFKRJQ9p0HHVOxqwrovXDdsx5JlIs1pxzq5D/bBHle6rwXOPFOcHFmJcLaDjciD5eR3IEWSBU7a8g97Esax56gpD0TDJNx9uQTkHGCDJbqHqrieQnM1DNujWPnSOkX59K68FG5Obo+VLE2hYWJEPQO4XQWj85OzPJ2JNK8lthco/nEXkqC6POiJqqoyKivY26bVup2b4VKS21VksoB+JLIG3lLZR9+CF5X/yOvH/9ioJ/+T8U/vPvKDv3c7Tb7kLPzWPy669SfXAv3plTkJx0JDWEtDaTu2UrHe+ewpg+D/EmIll5lL2yh/x338Fz7bVIJBfxJiHOIJ7icsofX8e0s2eQqVch4RQrDkRXJ1XHDlN86C30GVORgBdxOSwRMWs+N/3slwSWrYiKCOd5RYQmlojQdZ3u7m5eeOEFTp48yXvvvdfDyZMnOXXqFOvXr6ekpGSQ2AOWJ74VoEshCULDXXU07akn+Qdha+oi3bpHUi/IJEFVKcq3jqfmUA2B6wLWPhFre+ThDCaeaMW9WKEVapS9Vk7Z/nF4ur1IgSDXCamvpZKzJdsSAtVC4Bknkz5sxtnmQLKttla6sZz89UWodg1JtNqBZ6aHro+6MW81kdLoOTOi5csT9MkmvocSSX4+ndDuFEKHksg+lk3Gk+m4OpyWYHVo6OLAFDdu8RGQBLziwSk6PnHSoOp4Yuw6nsh5krkyn1ZpYbJM4n7HjzhV/iH3amu5WhaxLW8nH+Wd5UzSJ7zve4+3fQc56j/AsfBxtiZtp01aiEgG5VLG/UVreS57Czc5f0i1VFMguUQklWRJxCfuHiExe/ZcPvvsHzly8C0aaqqsZ1nXMLIzydr0HPW/+S1jfv8l+X/9f8j48k+M/fJLsg4cRM1bQNLchbS+d5oxW55HcouQcDoSzkCffy31bx2ldNtOpLEFSQji6mgj/4N3CB0/jKqtRVLTEX8AcTgITJ5E/asv0/j8dqSsHAmEkNQcZMEi2v7pHwlu34iMK0ec7h4R4XA4CIVCPW/9IyEvL49Tp05x6NAhWltbEREmTJjAu+++y/Hjx0lPTx9+3xcdmNetW8fXX3/NnXfeSUJCwojKEwwGqa+v58Ybb2TNmjX8/ve/51e/+hVr1qxh8eLFNDc3EwqFLngcXdd7loZmZGRwzz338Nvf/pbp06ePeFrE5ltl1AtwxTHQEqGsdekOQUvRyVtdRN3BDjIfzcUzz4c5wcQ3xUf6dRmkX5eO0WqQvCqZro87yFqXjneuC1eXg/AtYapeq6F0UznmBBNXnYviLYV0vjMR30IP7rlOkh4L0fhBHUWb83FcZeKc5ST/xQImfdCF91o3UiqoGxS1R5vIeX4Mzm4nkipImpA+P51Jb00g/GgIrVPhm+wlMjuDcFcIZ6NJ+KZEIo+n43vQg/xIcG50Mv70eNpOTMDV5UISpEdEJE1oo/b5bVS/sC361mRa8+CGE3PKVTR/cIq2r/+N7J//jJxznzDx3/6N9rPnkJlz0FIzqXngIaa+8w7FDz9IYPpVeCe2k3rLSmoPHKB17wFUcxcqs5DEq2bTdORtyj/4iOQ71xCeOpdAZTNacg6OnGLyVtzKrI8/JvvBB/B1deFqaSHh3rto+vQTqj58H/+Sm5CsdMRtIsEA5ozZ3PizX+JftgLJzkJcQ4sIXcVCZVtBedrb23nkkUfYtWvXAF566SXuuusuCgsLB/GJUNEIhA6rzXiFkkVFtL/SStFjBfjmeHFMcOCd5CZ1QTLZN0WQRiFrbRYdb7dR8MSYaBsxCd8comJXGY2v1mF0CdoYjbId46g/0kxoeSLOuQaJ64IUnswn75Vs1GyF2a2TuyeFGT+dSOJ8P1qxwjHDpPrFGsZvG4f7KrflqJmsCEzzMeP92SQ/loI5w4F3mo/U+ekkTAmht5n4FgfJWj8G71o/8iNBNgslp0qoPVZN4rUJSIagmRoucZFiplCeWE5VsJoUScEtDjzipERKuLPgbjYUbeQO/x3coC3idsdKXk5+gR+X/Zg7tHuZIjO5L+MRDuW/zeHEY7ysvcTzspUd2hZ2uLfzoHct9VJFuoQpkgJuK7iNzQVbWeO/jwX61czyTGNGaAotgTrSJIxLDJQIra3tnD37CR9/eJqpU7qsZ1lTaCmJBG69hYVf/YWGr/6VpI8+pugPf6Djr/9G0Ys7kYZGAm0TqH/1daaceI+MG3+Ao70DX9dUCp94hs6jJym6/3Gksh5XeQU5y5dS9ZPTZL5zjMB115J01VQcJaVIMAFXbS21z25k2oEDpC35IUZzK87uGUQ2bGTSH39P3v7XcU7qRAKJiGbgdruprq7m1ltvZerUqSPurxISEtiyZQu/+MUvePDBB2lvb+fBBx/k888/5/HHH8ftdo/ord3hcPD666/zL//yL9x4441DOxMP1nfGTXnouk5ubi5nz57l5MmTI/aJ0DQNv99PcXExc+fO5YUXXuCrr75i7dq1dHZ2EsJk8BEAACAASURBVIlEBvdPsrncjHoBrjj6O1YqTaHFokH6FK5WH3Vb2mja20HJ1nLyn8xn3LPjmPhiJw2PNaI1KxxNJg07xzHhUD3l2wsp3JhHwxuNNL3aSuYPspAswRxjknNrFnOOzWLcC2UU7syn5mg1Uz7upu6lGkI3JRJemkz7gUnM+WAe+fflIPWC71Yfk9/upmVvO0kLw9ZbpE8INyfRvq2V5tcbyHoqg4pNpUze3kHJrQX4Zropv6+Yrn3tlO4uJnlTMpnbIzQca6R2Zz3Oeqc1nWHoiNNBqKOd6he3U7VrO1JehLgd0dDXDqSsgvaXdtN19hyZzz5L5pNPMOXMT+jcuxcZV4nyJ+JvamP6K68w6+1j1O3aTuX2jXTsf4PON9+kYPUdqNyx+Nom07b1BRae/RnTf/4rmt4+zaRXDzL+9vvwltciCSkEmlrp2rObWSffoXrrFko3b6b67WNM+fXnTP/5zylfvx6zvgZxG0gogDlzJtf98jP8y5ZZqzuc57dEKOnt+NxuN0lJSaSlpQ0gNTWVQCCAw+EYtENWomGI0/qsCYFxPuofraX1tSbKtpaQ/1gupeuKaN3ewMTNbUidYE40aNpSR8feFio2FzP2mXwadtfS8loTObfmIDmCSlNkrsqi882rKN9ZRt7zEareLqPjkxbG76vAs9yDf5GX9iP1LDo3l+If5eKsNkm+KZnufd1c9Vo3keszrJU+IYW/wUvXK900vNZM/jP5lD1bRvuWCRTePhZzppvIrbl0H5pO6Z4KUjenkroznaojNYzfMY5gdwBJEjRdwyteSgOlLK5azOLyxeSqPBzixBQnyZJGd9J0Hh77GDvGbGdHcAtvJu3m46JTfFz6Mbdpd9MgbUx3z2FdzlO8nP0SO5K2sjFhA5uSN7I9Zyv3pN9JpSolWQJEJI35mfN5snQDm7K382TK06wreJyHKu7nush8ciQdrzjQRJGZmc0bb7zJrz//FSuXL8c0HdYUU6IPR3cXP/zFL2g59SG+u+6lfN+bdJ85w9g19yI52Tjy8shbsZJrTrzNVYcPULRpI9UvvcTsEydp376LlO5ZGMXl5C66nlmv72HGJz9hys9/St3+N2l/8UVS585Bz8xAMjIoXHwDc958k8mHD1KwbStjX3iRKR99zLw/fsGUH39E1tKbMTOyENHIysrioYce4s9//jP33HPPiPsrp9PJtGnTOHnyJJ9++invvPMOP/vZz3jvvfdoa2sbEP76vH2fUowZM4ZPP/2UM2fOMHny5GFH/exJ9hf1YxCxHCuPHj3Kvn37yMvLG7EFYcyYMdx1112cPn2aL774gv/6r//i888/5/333+9ZiTLa44XN6BfgCiS63LNPwKfowKELEhQSJ4apva+eCdva6XplIl0vdtL4SDPZs7ORTEElC/4JBjX3ldK+o5nWF1qpfbqB1GszkQLNcmJMEFxVLurvbeCql7tpeb6FcRuqqVnfSNnd40iaHSb56lQaH2ulfd1EypaVosYp0hen0fZUK02PNhPuTramLDTBkeIgMieD9mdamLRrAhO2NtNwfxUJk32ocULGzHRq1lbTuKWBxl2NNO5sompdNe5uDypRRYMMRUXExHaqdm2n6rWd6G01SJIX8UTXxyenUXHTzVTecz+hrimEJrRTdfcdVC9biiSHrbDU3iApkyYy4YmHmP7a88w88AoTtz5D9nXXIjl56IFE0tsnMmfjJqY9v4vOV95kyquHmbt7P81330fi+GrE5UJPSiBpSieTnnqCWS/vYtobr9O0axd1z++k66VXaVj7KIH6BlTAhZGbhu/mG5j361/iW3Ezkp6GOBwXXJ2hxLJExOZZB0+tff42o0TDFKN3X68Qaktk3D3ltG1uYsKOZtq3NlP/WC251+VYy3z9gq/Jzbjby5i0uYPJL3bRsL6e9BvSrakGn7WPlCrG31lL++YJNG5roPK5Cmo2VTL+kXGkLEwhYU6QlicbmfzcJCpWlOEudZE1N4v2h9tpf6CNrBkRa8rCLegpOpGF2Ux4biKTdk5gwpYWGtfWkzY9DakQkrrDND7SRMu2FlpeaaF1dwdV62pInJGAnm0FqFIODbd4KQ6WcF3N9Swafz152hhMcSPKgS5u0iSLacGZPJr7CLtzd/FWyuscTz7M6bGnWa3dQZlUkif5dAYmsCp3CY+UrmVd2ToeL3+cH5WtYV7abLJVGkHxkCg+yl2lXJ/xAx4e+zRPj9/MY5XrWFm4glZvA8kS6BERpunk1lvv4PPP/4ldu14mJzfXeoZdBkZeNtMef4yxK1bhKq8k/9obaLznPrI7u6zlmz4PZiSTnIXzmbJzC1P3vcKMN/bQ8MgjhCZOQpJT8ebmMe7a61iw6Tm6d2yje/fLzNizh5k7djBm3mycmamI08QZiZB/zUKm7dzOrAP7mLZvLw2bttD8wi4mb3uBsoWL8KVlICLU1dezf/9+Pvvss57VFSPF5/Nx7bXXsm/fPs6cOcNrr73G/PnzcblcI/IfMAyD5cuX8x//8R8899xzI/KnEOnN1xFb4unxeFiyZAlLliwhNTV1xCKiqKiI+++/n1OnTnHy5EmOHz/O6dOneeedd1i4cOGIp1psvhVGvQBXIENH4hMl1mDrFMvnoEKsee5Ksea8/dIbvMcQa7AoE2ScIHlizU3Hgj8ZYi2rTBdkfPRYRWLNe2eK5RSZHP0/Lfo5QXrmryUvWgZXtFxm9PhjBakWy18jS3oDXSVFj1UiSF30nBGxBI1bolM3BmI6SW5rpe3F7Uw+fZy0h+/GbKq2QjcbprVSIykVSU5HAkHE70OSEpAEn5Vfw3RawXYMDUkLIRX5SM1YpCDb6qx1wwpC5fMjaelIRhaSVYhkj0UyxyDhVMQXPZahrGA/aWGkMB8ZNw4pLEKyxyCRfCQ1G0lMwpGXSeb1cxi/ZwuL/vlT/D9chKSnIqZ5XhGhiULXdHRNx9ANDN3o+RyPpjQrHHO/mCIxtKiIsNKQR++FW6ypprK4NpIfvQ+xIFHu6L0tiW4vFMuHxSu9+SEcguQq6zil0X3yxfJ9CEfJFEsoxHxgUqOfU6NtIhZUyi1WELKSaJsskd7AZP7o35xoG6oTpDzazhKkT8ApQ0z8kkCaZBLRsvGKDyXRYE3KwCU+8rR8uvQulug3sUa/mx3erRytOMa1+vXkSgF+8RMUD+kSYqwUUKkqKZYSIhIhLCGcYuIUA6cY+MVPrhQxXpqolmYqpJJ8KSBdUnCLgSPOubK6uo6DBw/z05/+jAULr4k+s8qa8kpMRBKTEMNlxXJITLHaoRkNJmXoiN9jtdW6cUhFidWOXC4rTozTiQSDSDiMZKQj2REkEkEyM6z27zKsY+g64vUg2RlIWbG1TDozYjlrpmVZy5JFQ9N1ps+YwYkTJ1i3bt1F9VuGYRAKhYhEIoTD4RE7HyqlCAQCnD59mj/96U/MmTPnGwWbij+nUgrTNHG73cMuT3zY8VjUy2Aw2OMzkpycTDAYHNIqaHPZGfUC/O+gJ5Sz9IYJ7h890Cl94/nH7xOLSBnbHrNyxJIJxY4TH4kwfhAZ7HPsO016y9a/XM5+v3UOcS5Domv/nYjmIqWqlq6n17H8kw+48cR+yhcttDpQw7SW9umG1fEacRk+DWV11rGQ2Fo0QJcZxYiGx+4TFVSLRv5zWB277ugNn63FhdDWVFyEQYeFbi07FbeL1PFjuXHbk6z85Cg3fLif8PxutJAf0dUFc2dYCbqGzmQ5fGKpuKVnSXCf+o61AecQbcQlfdtR7L7G9nHGHSf+3sa2xX/u32aMuHPGt4/B2pszblvsPH3arUITHV0MjGhIaytpW2wfhUe8NAdauTt7DVtzt/F6zuscqzrKU8XrqdHqCEkSppiYouEUHZc4cMeFvu6J/RCNWqtExyEePBLAJwn4JIhHfLjEiSkGWlzAK00ZLFxwDS+/9DJLlyzpG+dF16z2GxU7fUK1x7c1U48K4mgb12LtVutd3qobiBGNWmlEk8XFR9nVNOu3pmH5FJmO6FLpaE4YUfj9fubPn8+GDRuorKwc1T5O13Xy8vJ49913uf/++4lEIqPf79r8b2DUC3Dl0j+/wSDbVRQthvTm8hiQKEudJ9z2YHkxoiGFBwyC/c7Xm6pYDdwey4cRfx39I3GquNUF4kKUGy2YjKOiHPfEZlyNVRiRTMubXDdRuo7SNZShUIYVqVHpgqYLmh41Z2qa5bCoFLoozpeOW+spe+9+8ZEkBx/8FZpuoOmGNai5nbgKI7g7q3C1laPlJlt+EnHXrgacJ4YWXaKofWNUT/TGC4ROH25ujKHa40gZyXEGbFdDtNs4S0xMCMfn2hDBLS5qEmtZVrCCR0seZ33xBu7Nupd2vZ0ECeKQaEImrTe/h4o5MOtqYC4PzSpPTKz10rdMKipSExMSyI5kEU4KoWvR5yCu/fSvk0Ezcw5Vf9+YgRYswzBISkoiMzPzkiS8ulhi+TNCodDFZ0C1+b4w6gW4MunfuZ4nj8dQg9ylSQamnTeVdV8RcTH5IVTPG5KmO9FMjyUaPC4rBoNhRHMLRN/K4nMQaFYacRU3IGhK9SnTJc1R0XOPNJRhoqJCQkwd8bssTJ3+yb5iFodvA9V/cP1OcL42HOc3FGsDqjeNt6YUiXqQMc48ylxljHOWM8bMJUG8uES3MrL2T0jWk9OiH/H7nadMKjrlZE1N6XF+Lr0iYvTrtC/9fQhGuyymafbEZrCnCmyGyagX4MpjBG92V4KIuBDD7jyjZl2loqmb+yRWin0/UED0ERJDiIh4sXOpEKWhNANdN9GVZdLWVO+8a28mSfWtCoi+IuIKaL+XjAu14agVK3r/rbrodUg2RMMlDjziwi1OHGIQs5T1FRB9jzN0dtwLP1MqarmLb7vxbXD067QvseXFoy0i4n0QRrtObP7XMeoFuPL4HoqI4VgNVKxuhujk+4sITVnTBfpFln/o6Q8NXenoSkeLER3cvm3RYIuI2DSc9FgM4i0R0mf6QPVdNt3/GeuxaqjzPHvq/NOB8SJCBrfOXbGWiGGGk7axuUIZ9QJceXxPRYQughG//0XMwV9oiuVSiAhDNAzR0HsG8XhTe6/Doy0ivinDFBF9phv6tgc1jDbScy51PiExvOfpfM/KlSgibGy+A4x6Aa48vociQqL76nJpRMT56uZSiQg9KiK0AXWm4urOFhHfnOFMH2i901zxb9NDWRLiHYYHtM8LWCIuwbNiCwkbm0vOqBfgymQEImKwwfLSiYiBvgXflogY9M1QixK/xPWKEBGWkOgdwGNvxvED1eWxRij5PosIPZqAy4zWwWDPksJa0mggYkb/aoNPoZ23bQ3TJ+IC7Wb069XG5jvFqBfgyuUCAkLkAo5/Fy0k1AXPMWwnxBETWxPf9+1x0Hq5gMD6dlFDioiLj/swEr5rAqJfO7gYEdGToKyviIi1kWGJiGGVp68/xKV7FmxsbIbmm5iszzOo2gyo4IvgCim7ulLKM/w67ju4Xw5Guw5Grw0PzxLTf/DvK5AvTXlGu55sbL6PXIyIsIWEzRVGvHXiuznFYGNjY3MlYYsIm+8YtoiwsbGxuVzYIsLmO4ctImxsbGwuD7aIsPnOYYsIGxsbm8vDqIoIu4O3+TawRYSNjY3N5UEJg0aJkwt8viQC4vJ28kMt8xrZEjDbE/zKxxYRNjY2NpeHnlCzanBxMNjnnvTRsSVeIz4pfZd8ffsd/VDrxUe+ltwWEVc+toiwsbGxuUzEBegZMglMLF5AdB+lYQWP0aOd9UhOGL+uW+NyDcrDCUITC/usyfnEhC0irnxsEWFjY2NzmdARFaVfpzsg8qLSEU1DNB0r8pxJLPLckPSZ/ohZLvpz+S98MBERS0AVExLnFxM2Vy6X18plY2Nj8z0mGo5WxULR9g7sveFo40REj+AwsH57oU56YJja+CQ5l32Ajpue6T+tMVTeiUtWxgv5nNhcImwRYWNjY3OZ0OgVBPGm/f4WgljHrKNEH5YFwTqWhuqxWhjEpkAGxMsfhYuPRTccNCeExIIWqYvLixB/TE36pk22RcS3hC0ibGxsbC4TKioKtD5v3dqgSYVUVACoYb2hx0SEJVD6ioie34/WIKqGEBFxA7xlMdHRxRiiPi58jkEFRH8RcaF6jPNVUUP6rdj0YosIGxsbm8tCb64BSxgYel8fBy069TC4aBhOBx3bJ9ahx3fucYP3t3yhuq73HYCVoPqdt7+wsQST3kdIjEj0KEHpGqJrfYXDeX7TXzDEPtviYSTYIsLGxsbmsqD1M9er2JuyLohh/VW6DJzH7/GAH8IqMcj8v9IUSmlxvxueReNiUUqhaQqlBEN0XOLEJU4c4sAUo085LF8IhS46uugYYuIQJ4aYvSJCkwuLgdixomLlm1xjTETYAmKkxImI2NLlUS+TjY2NzXeQnmVwscHRKUiiIBmCRARJFsQviEP6+Qto0Td0hS7WioY+Pg7xA60SRBd0XWEohS4aenRa5HKsgIgNwg5xkCLJ5EseBTKGdEnHL35MMXvqQBOFKTp+8ZIkSYQkCV90HxVfT+cZmGIrPRwiOKN/DZGBfiCDHEMphcPhwDCMnu8Mw8DtdttiYtgMIiJsIWFjY2Nz6YlZBXoGx0RhzJwxVNw2jpI7SghODyK5grikz+BpvSFraJpC0y0LRn8rhvIo9HQTc4yBCgjKKWi6oCmFJlqPALnYVRrDHVwj3kxmZMxgde5qVmQsZ4p/ChHJwi2enpgCuhj4xUdV4jimZU+lKdRMiqTiFEeswlDK2s8UE4c4cIoDh5gYYkQFksIpOgniJFsLk6OlEJYAPnHhFBM96pg6WBk7OztZtGgRJSUlaJqG0+mkoqKClStXUldXZwuJYRMfj2S0y2JjY2PzHcUy3VtWAdEESRbGra5k4s5OphzuJnJ/BKkUxC3RqY2o4DCtz+KKbnML4on+dVr/mxGTzGsipC9LQx+rI0lxxxEVnTboZ8X4BgzH5K9Eo8BXyNIxy9hR9Twvjn+JWzNuZ6yU4RU/Sgw0MXCIi2RJ4qrkyawqWsGc1NnkSS4+8UTFjsIQBx7xE5REkiREWBJJFD9+8eASB04xCYibPEllQWg61/hnU6WXkSlpJEkCXnFhioYRtcTEypibm8vevXvZt28fHR0dKKVwu91MmTKF06dPs2PHDpKSktC0C8TmsIliCwgbGxubbxXLfK9hKA3d0BG/kNSWTPYtubQfmEDWU1moRoV4BTEUylCWr0SCoCIK53gXrmo3epmO5AkSFmvfJMHd4qbmhRoq3izDnG8i9QqtwEAlaJaQUBqGpg0qIiw/Bg2Xy0UwGCQUCg0gMTERl8s10Gmyj2Nd9Hiik65lMtE3mTXZa9lZ+jIPZj3KeKnBJ0EM5URXJj7xU6TymeGcyk3+xUx3T6VYCkmQAGbUT8ItXtIkQqlU0Kg10KzVUaXKGCNZhCSIR1ykSpg2aWBTwXq2ZWxiseM6WqSJclVKRKXiFxNXVEjFRNDNN9/MF198wbZt2ygpKUHEmsqorq7m0KFDfPXVV3R3d+NyuXrqyLZM2NjY2NiMGpoSDFGYSsNhmpaFwStIg1D7Uj2Rp7KRxuh3hoUKKtx1bkJLw2Q8kkPkqTzS788gcVECjjIH4hf0IoPk1ak0nmxl/LlxJG5OILw2mcjSXIK1iWh+DV3TcBgG+iAxJzRNw+fzUVdXx4033siqVatYsWJFH5YsWUJNTQ1+v7/fgNo39oWIZYkISIhMyWGGbzZP527g0exHqZU6/BLAoZwo0UnV05iVMJNViSu4LbCahc4FVEgFAQniVC6c4iRRkmh1dnCzZwUPBx7i8cDD3BO8nau9cyjRiglIkGJtLLcFbuVw8UHezX2H7QnbWZOwhuuTrqfeW02S+DAlujJGKYLBIEeOHOHXv/418+fP7/GBUEoRDodZuXIlf/vb33qsEUqpQcSTjY2NjY3N5UTF5Y1QUSuDW5AaoWFnM1lP5iE9lghBXIKj0KT0ybE0f9BG0TuVFL1bSfOZDmpfryV5dhhJETzNPsq21jDhH6ZS+atqxp4qpvVQK9N2Tmfs/GKcKY4+qzwGMz2np6fz4IMP8rvf/Y5///d/5+uvv+7Dl19+yZo1a4hEIvEXhCUeHEicw6SIoIuTBEmiM9jFI4UP8WDufdRLFQnijzp5GozxFLK69DZ21rzIvvFv8mja4zRLGz5JxFQevOKjVCvl0ezHOJB/iLdzTnA8+zgnSt9me/42pjqmkyoRas0Wtpfs5FT5x3yc9wnHc95h9/jXebT2caZGppKsQmiiLAuQrlNXV8df/vIXjh8/Tk1NTZ96ME2Tmpoafv/73/O73/2OwsJCdF2/iJtuY2NjY2NzKYg6SyrNcnoUt1jWiGqh9sVGIhtykBZlrdCICgxPo4er3p1C6elxuJ/zoD+q49zmwfeMH9dUp+X7UCA45roYs6+C/A/HYtxtIvMEvUOhCgQJiLXiI7rss3/BlFJ4PB4aGhpYsmQJq1evZtWqVQOorKzE4/HE/TZeRBh9lppaIiLMpIQuHi58kAey11Ar4wlJEEN0DHESkCRqpZGbnct5PvN5nkp5ig6ZSIIk4xAPQZVIq6uN3ZW7ORY5zvPuF9igbWCHczvrXU8zW+aSKblkSxHXy1Jei+xnX/At7tfXslAW0aG6KNLGEhQ/ZtRSYhgG11xzDf/5n//Jpk2byM/P75nOiVkacnNzOXXqFH//+99pbm7G6XReAY3HxsbGxub7TXxERT2KU5BaofSlSlKfy0AmiiUMfBZaoUbSA0nU/6SByp9WUXqujNTDqTjWOJCG6L4hwVnlomjTeMqO1GB2OJBsscSDRyyHzLj4E/0DP4kICQkJzJgxg8cff5xnn32WDRs2DKCrq4tgMNjvt9EomUpDd+jRc2i4xEe6ZDMjMIenxqzniawnaJUW0iQNl3jQxIVTAiRLBl3SzcaMDTybvo5OaSUsIXwSICBJ5Esx92es5a38/Zwac4oPs05xIPAmD6j76ZAOMiWHFMlinDSyqWgHmxOeZZ4+jQopI00iBCWEXwI4xbSWlJomy5cv529/+xsPPfQQkUgETdP6iIisrCwOHTrE3//+dyZMmNDjFxG/j42NjY2NzWVGeuI49PhDJAvSKOS9XERoSxi5SpB0sQRAWFDjFZ47vTjvc+J40IH5rEnWkSzKDpeTtizdii8REtxlHmqerqdqbwOOiQ7L8TJbkBxBUq1zKWOQyJHRQTE2nfHrX/+aP//5//CnP/1pAPfddx9ZWVkDBtIeHwtN0HUDh3IRlETypICFnkVsSt/GU6nrmSgTKZQiEiWMW/wEJZksGcMsmcO2lM1sTdnALJkSdZpMxC8hSmU8Sx1Luce8g6eMx9ipb+OthL3syXiFHwR+QKqkE5JUylQVT1U8zXNpT7HQnEGNjCdfCsmWMWRIpCf+hGEYLFy4sI8lQtf1PlMWOTk5vH/yff7v3/8v9fUNOBzWklNd09G04SRCs7k82MtKbWxsvkfE/CFEs+I6+Gv8jFmeR+SJCFVnayj88VjSt2WSvCIFd4sXPccgZUEqEw9PIuPFTIxHDeQJIftgNrXv1pFzay6SJohTcOW4qL6vgiknJhN8MIBxi0namnTK7y8lY2aaJVZ6BETvun4r/oSBy+WmoKCQjo6JdHdPZcrkbqZMmdKHgoKCnrfyGD0ZSKPiSCmdVJXChEA7y8PLeC5tE0dzj3Ek6whPBNZxU+CHjJcqUiSVJn8zS0M3szF5I+9mv807GUfZmPgUN4dupEGrI6JymBGaw/Pjt7Mt6Vk26o+zSdaxN3kPewvfYEn4ZpIkhaAkUqQK+dHYe3hl7A6e8K7lLu0W7k26m9tz72Rq0kxSJROHONF1nebmZr766iuOHTtGdXV1H0dRh+mgob6eP/z2d3zx+z+QmzMmusxzYATQUW9Q32vscNs2NjbfM2Ipr0UJhsegYFY+M16YzqRDE2n5cQt1H9fTcqKN+q2NpM1LR+UqglODdL/WTeO+ZmrfbKBybw2V+6rJfSoXT5cHSRDEKehBjZSpiUx+qYPmNxqp3dtA8xutVD9dSfK0JEtE6MLAdOE6SukoZaDrJk6nC7fbjcsVw9WDrusDTPqaWLEntJiIEJ0cM5uFuVfz1Lh17Cl7hUNjD3Ks7Civlr3GIyWP0SytZEo6M9Kn8kTZ4+weu5tjhUc4UXyMveWvsq7iUWaGppOlcuhOmMr6cU/y4titvJK/lVcLdvBy0fM8lPkQE51dhCSMRzykSRIzE6bwdPEjvFi8lZeKtrN97GZ+lPsjuvzdhCUNQxwopUhNTeXdd9/ln/7pn1i4cCFer7fnepJCSdz8w6X8f//vf/HCjucJJYai22IJ0XqFxPDzmZwvGFP/7fbb9fAYXEQMjMhq16+Njc13hPikU5pDI6k4ROHUQvLm5ZJ+dTppC9PIWpBN5lURfKV+JCQYuQaZXZlkzoiQc2MeWYtzSJ2ThrvebU17uMRymnQIRqZG5uR08q7PI/cH+WQtzCFpQhLOPIflG6EJfRNyxbJ+xpZoxm8bvMPtk7RK4nNgSE82zkQ9gfJgKZ2pk5gZnsHc0Bzmh+czO3U2HckTyZFcEiVIsa+QSckTmZU0i/kJ81kYupq5qbPpTJ1IqWcsiZJInplHS2Ij08NTuCY8mxtSr2ZeeCZN7kayJAuPeDDFwCMOsrU0JgSbuSHrGm7MvJa54Rk0+5rI1nPxiC+6MsVyrrxl9Wq+/PJLtm/fTmlZGUopDMOgtrqWIwcP89d//ZqrJnfjckbjRMSJiJiQuPBgpOLq12DgW3N/QTdIwjSbC9Rvb13Ft8XewGKD1a9tvbCxsflfifRNV22K5VjpFss/wiu9kShj4sAZ/d8lSEhZuTZ80e9jkSz16PEM6/daSEeFdSSgrN+Z0e2DWCF6BzidkXa0VqetBuTlMETHIQ7cBMOzLQAAIABJREFU4sYrXnziwyc+POLFJa6eZFymmLjFjU/8BP5/9t4zTK4qzfN8z7kmfETayMyI9N77TJlUyvuUN8gigbyEPDLIABLeUyC8KBBCBglhBcIVBZRpynR3dXVvz/Q87Waqe2eqn519dmbn2Znp3Q+//XBvmDSSoKqmqaLjw/9RKMy955578r7/85r/K2HCEiYkQfziwyseLDHxiI1PbILiJ0ci5KscclSEgPjxiJ1UADVcIa+A+CjyRCkw88mWMH7xYbny1+ljr2uo59xr5zl3/jyTJ09BGwZ+n5+BWQP88PMfceq7p8jLzsXQqVbqjvJnuifiWjc7MdcmTvmr5c5xuuG7moHLEImvjuEEIiXv/lXm+JsefwYZZJDBV0V6t80EkUjvgXE1JL4z9PdDu3de++RcnUCMRCKub8QSRlWnNfgScYjFV92pp+/uh8I5lgwiKEMxeNd5bSS9KEqwbItZcwa4ad3NNLe0oA0Dj8dHZ3s3+/ceYNKEKRjaGJb/8PXyIa7mibieccsYua+DkdbD9QlEZo4zyCCDPzSMZPy1DCcTQ99LJxFafQUSMRIBGCmEMZRADA9jXL2kcSQCoAbt1n9bEjHUPe2IdDm4Hrm4Zn8QpRClMEwTy2OjjYSHQGOaHoKBCFpMtLLSruM3NTYjhYYyBu53hZHv+Ved38wcZ5BBBn9IuJYnIQl1FXzF34ow3Jsw1IU+lECM8CBVqZ4aI1wI1ycAvz2JSHg3rgWR4bHwoQRjpHOrBBkbNhYjCUMslEqEIYYSrd9qIZAxcL87/OYEIjPHGWSQwR8SrupBcMsHVXqo4RoPu2t5ItTQ31yLRLgEYoTjaUNhWeaIwlS/TyRipHDGdUnEoHlLXIvCUiZe7cESA1tMfMqPFg8iHhxVTpvhnpuvdvOHe3QyBu63QTKkNORvQItCKwM14t/Q7/ccZzrGZpBBBtfGVYy/EsHj0ViWShrtoTHehFG8zgkYOa9hKNJ31iOPKYE/FBLxtTwRI5A4LQpbFH4RAiJ4RbBFMMRAiY2IlxSZGKnSYmQoJWjtQOn0+fzDMW6/j3ByUwbfR1M0HrHwigePeNDJ+/SHM8+ZbrEZZJDB1TECiVDiaCyMZKyTzbrkq+YAJEjE0Br6ayXzyXBSo5zeHkqnjWVY++9vCYlI7mAFjwghESIi+MUhEZYIlhgosUiRiGt7IhxDIIMJ2bA5vb5xu3Zux//a6o3f1JD9SxnA9HJp5d4jj5j4xUNYAgQlgCU2Kc/e1TwTv78G+3pzmSEbGWTwrw0jhQ2UYBpCZZUwcbKXeQvymDEzSmOjH59vcNna1TCip2KYV2EkYpFyn3osoTjqpbM+n+76KOX5PkKmY0QT5xmaBW9Kwsg6r0UELRpD1KBxOXB2+4n3E2NyyiUTeQhmWk7CYBJxreoMa8g4DPffxOurkoxEYqtriAJaqAqbTKqNMK+jkIk1EeK2JiCCIdolEokciesboGBI0dqex6yBJqpqgs791uKGra6R5+L+/uokYqR76X6WXukzUkXP0Eqgod+5WoLv0PGNlBQ89D1bnHJln/vavMb5hh5H0rwN6Ws6+X6qzNYQTVB8VNil9Ia76Qp0UCiF2OIlkURsiAevBAhIiFBaKbEtJkZinSlx152BISamC8Ndj0rELSV2wl1W8jsGphhp30slGJtuKbMpFoaYaZ8Pv7+WZTFlyhTa29sJhUKICLm5ufT29tLX1zdILTbjscggg3+VkLTkSUe3QIkwZrSXJ7/Ty0cfzOTzz5fwyffW8+BDc6mvD7sPruGG1BRnp2yKwhQ1nEQkz5X4f+LBq9MeXqmHWdgSBnrKeHjrNB7aOIl5rVFylLMj94uzSzclZYAtcVz+ic+97jk9ho2pVJJ4WCLYorHESP7fI0PFgAy0WBjiQYt9XRLhGGA3j8E9d1AcL4IneU7nfY/72qMGjzlJwNK8QFlegyktMR69ZSbnbpvBd7f3MaPMpsB0jqOSmg/XiV27815S5mPHnn7Ov76XhUvqEUmQiLSkzjSjKUqSxlupwbvtwYTQnTO3eiQhoiVKHEPtcWHLYDJgiKMb4hFHj8TvvjbTPjclpU9iuf8fqdQ4cb7E71zBM7FcBAVfs4+iZYXIGHE60/rTvmOmfTf9HHbq+FoUprsOUp47hXI9Q1pMlAhesciXbCbnTeCWxm2sLruRGqnDJ0HEDUf5JUxMSpiZP4uB4CzaVRNxySdXQgTFTpJOr3jwig+vOK3ogxLCL348YmGJxi8WEfGTI6GkfklAfPjEg098eMWLKRamsrDExiMeQhImIGF8EsIWD6boFDFXCqU1pmkyZepUPvvsM/bt20dJSQkiQl1dHXfddRcXL16kv78/uQYSyrHpKrLDetpkiEYGGXzbIO7DUKOUiYjg8wtHjtTy4y8mcPFsBw/e38h993eyZWs9paVOC2olgmUI2dlCTo7g9QqWFmyV5nLXgt8vWLagDCEQFkLZgsfrGkpJaRykCIezi9UihLTQXxbh4ZXdXNg9nm09OVSKEBMhTxwD7RPHmPrEcfkXaaHcEoq1kCXOWILaICiKiBJylJClhIAoAkqRpZxjhSWdSDg5GkpstHjR4kmSiHSPxkhyxloUPhGy3XHGJJXPEHHHnSMOwfAr57M8LcSVEDed8QXdOdRKCNialniYTVOreW5dDR/dPp6VdR5KbeeYOpmQep0HsxIMUygqsZi3pIS9t/Uwdnxu0hOhtRPuMCzB8gqWT/CFhFCO4AlKMvSRuG9XIxFKOYmxynCNrFeQqCCV4jRfyxFHwCydVEQEiYvTmC0qjnH3iGPA/eJ0hc11vxcSR1Y9y32dEEELiCN6liVOc7cC93U6QSkSIgsiND3XiGx1x5RoLJcQQPO4x81zx1TififkfK6UIyKWJHpJwTQTJbZLJBR+8VImcSb7J7I670YWRpZQK434JIhSJkpMQpJFm7RzpPIIx/JvZ7GeR7s0UiFxciVIQCwC4iEsYfKlgCIpoUwqKZUSCiWfHAmTLUEKJYcKiVEjZVRKGeVSSqWUUSbFFEgB2ZJDSCIEVZgsyaZESqmWGsqlmiIpIVty8IvXJdYJj5gmEArz7HPP8zd/8zds3LiR/Px8RJzGeIcPH+Yv//Iveeihh5Jt6RPEQWudJBJD12GGQGSQwbcOkvREGIYmWmiwck0t3/tsDn/5F/289mox9xyPsmN7LuP7NX6fQwoqaxSLbihj74EODhzuZNWaUlrafIQCgscQigt9zJlTzYbNTcxbEmLSLMW6bcXsPtDOgsVVlJYGXFetwlR6CIlwdrKWKMpsYUdfMa9tbuXYWA9LCwy29UZZ01PMpJpcir0mUUOoDgpTKwJsHh1n/4QybumNM786Qp0txJTQHfWwtKuUtWOqmVaZRa1faMj2Mb+9hLWjypndGCXPUJjJcWhEWUnDoK5CIoZOqEcLlRGbxV0lbB5TxM3deYyJmXRFDRY15bChN8bK7iL6KyNUBDSjyoOsHlfNzv5KDk4qZ31XLv0FFjHL9WAoIWQKtTnCjrE2HxwZx4o6D2UuiVDJ2Po1Hs6uwa+ozmbh8lr2HG5k923lTJoexPIIpumQiJJi556tXV/L6vVFbNhezJ7bGlm5toz6Bodcmjot7DICiUiOIyBImZA1LYeS9eWU760itqOE7JV5+CYGkZg4vVNqhZw5eZRuKaVidxn5a3LxjLeRMsEoNIj0halYU0He/Fx0hcbb4SU6v5DiFaWE+sNIheBp9hJdUEjBjTHCK7KI3RKnZFuc4Gwfuko55KNQCE4OUHd/DV2fdZJ/Lp/s3RGK1hdROL0IT6nHUV3NE7w9HvJX5xLfU0R8TxEFN+eROzWCkaddIpF2/UlPSKLCyBEDC0qAvmAfa3NuZnv2Tlb5bqRNOghIEK0MTLEotytYk72a0w0vc6H0PPeH72NbeBtLc5fS7e+iQHLJkxyapIW5vgWszdrA5pyt3BxZw4BnGt3SSq/RzsLgHNYFV7EtsJ5d4W1s8q7nluBWtmZvZXFgCV26h3KppEZq6TcmsD68kV3Ze9iSvZ0V2TcyxtNHTGL4xYOpHIJk2x46u0bz13/zN7z99tt0d3cnyYJt28ycOZOPPvqIL7/8ktbWVkRkkPch8To/P58JEyYwd+5cYrHYN/2wyyCDDH7nSHsQWpaitcPDi69O5a///Wr+/u+n8kc/qOfym208dF8j48b68HiEugYPx+7r4N2PB3jvewN8+Plcrnw6g3seaqV3dISAV2htivDIY+P54ssVfPiDbl7/oJoPv+jj+z9aynMvDDBlUhmWFgylsLWRZpQd4y3KRokmqoX1vTEubK7nhZma56b6+exgN69u7Wb7tHKaIx7asoTV3Vk8urSS126u49Laai6treXV1Y1sbQ7TZSpWNwU4uXUCbxwc4MjUSiZmC7Mrs3l8w1jevG069y5toMw2Ut4IpRzDoAxEGW6ypboqiVCuFyJoCL3xAI+sG8UHR/t4Y2cTm7u8rG4wePqGKj7YN4pXtrWzaUIRo6IGGybl891dE7iwoZl3N9Tw3uZq7p6aTV++QVjcPAol5HqFm7ps3j82jWUNXkpsx1uhhhrvkeDe4zH9Zdz/2FSufLaUK99fyN6DdYQigm07RrG92c/TT87gpz9byQ9+MpHLH7fy0af9fPDxLI7eUUVpqZOncnUSoVPhixKhYH0Rzc900P5yD+2neui8MIrO10dTdW890inoJk3+1gLan+ui63Q37a+20ny6nvKHigktCWD0GEQ359F/ZhwdT7djdpn45/qof6CJvrMTKb21HBkjhOZHaH6uk3HvTabufDNlr1TQdL6e5udrCS8NOh6OaiH/plx6z3fR9SedVP+0iviFGK0vttB8axuh1jCSI4R7glQdKKPhTA1lF0qoOF9K+8VGuh9qxtvgQXxOqXEy/JOez6FSuSABCTKvYDHHa+7nmfoXOFZ0nIkygbCEkhLsbd5W7ig5zLsNb/JR5Ue8Fn2dZ4pf5Fj1vSzKvYEKqaJeNbAldAtPRp/lu/mvcCr/FV4pepFHcu5hk7mG1dYyHozey4WKM7wePcsb+a/xTtGbvFF4iQslFzlR9DQ3+dczSsYwYM3hWOFxTsfO8mreOU7nneGl6pfZnredNrONkAQxlUa0kJWVzY5bbuV//s9/5ujRoxQWFg4KRdTU1PDYY4/xH/7Df2Djxo2IpMpB07/X1tbGo48+yqVLlxg3btzvwQMvgwwy+N0ijUQYpqKiymbbrga+/NkS/vyXU3nphWqOHqhm7fJKGmv9RPMttt5Swb/5mx1ceHsKu/ZVsGNvJacv9PP5Hy3k6B0dlMQ1JXEvW7bU8PkPF/Jf/nkNf/pX43j2ZAt3Hevi0P5+Jo4rx2u6iZBKOYqPblhFtI1oH0oMoqawflQRl3c28emGMD/elsNne1q4d3Yl85uyqPEZzK+3eWFDAx/ubuHsgjDPj9dcWBDhZwd7eGdLK4tyLRaWWzy9bgwf3zGHB2ZWMyMkLKmMcGp7Lx/eMY0d/TGipsar0nIj0oS1lJvvkN6zIt1wJyo6vFqozfawbWo1nx6fwPcOtbOxwcuKYuHlFZV8fqiLp1ZXMa8+SEeW5qbeIM+uqeG7C0KcnW/w410lvL0xzooGH9FEeEgJUa9wU6/N5WMzuMElEZ5B47i+J6K6NpdVaxp5/uXp/PQX63j0ibFEsgTbcjwM8QLhofv7+du/3cIf/XQ2x+4t4NCRQt77YDpf/HgFY/sFn9dR5xyRRCjtEIig4Jvope/V8bS/2k3R4WJyN+VTdbyWvtcm0fP0WNREhXeOn7Gvj6ft5Q6KDxWTsy2bigdK6LnYTu3DVRgDBr6VPprPtzDhvfFYYy3UOKHocIz+tydRfW8tMl7wDvioe7GJBb9YQs2pBoxdJjnHI0x7byLld5RhdBlIhRCYGaD6wUpav2gh7/U8wofCFO8opnh+Kd5SH5ItlC8qYfzpMTRdqcf4rsJ62qTmzVI6nmnC2+FBAoJhaIzEelBqcNKnO98e8TM6Mp5tsT0823iSJyqfZJbMJFsieMRGi0m5UcGGrJt5peolzsXP80jkCfblHuGmwk1MCk6jTjUwz7OAc9UXuRz9gFPWaV6U53k96yzvxF7j8awH2WZs5qHsB/i05SPORF7mlP8kP6z5nAt553kp8hKvxF/laP4dzJY5bApu5kLnRd6Mv81z+nm+a7zIufgZDuXtZ7TVTbaEscRElFBYUMQLz77Cf/u//zvLly8nEok469z9WygoKGDPnj384z/+Iw8//HDys+Tfg/u6vr6eQ4cOceLECTo7O4d9L4MMMvhDxyCXrPNmMCycPTfAlff6mDc7h2yfEDAdV31jQxavvDqTX/z5KqZMs/D5nEqOvn7hwpszeP2NuYzvD2BooaLUw1MnWvlP/+dqjtzpp75GyPIKsWwPBVk2PmNwtULKE2Ej2otWBlFDWNddwOeHOvnV/Y38+cFi7usTRmmhUIQiEXZMyueTw538cG8Nr83x8spkLxfmBvnx7hp+cc8ktjV5qPMIqzryOXPLWL4zr4alecK6+jCvbGni0RU11Gon0dE0U3H/9FLW4ZUKQ6sZHM+FFifMUO4zeHB5BZf3d3BThY8VhcJLKyt4aW0Ji2pM4kqoCxisbAjy+MJszq3M4dJKHz/cmc8H22Ns7AhQarplnUrI8wo3d9tcvn0yyxs9lNuCL53wfEX4/cL8+aVcfn8ejzzWgd/vXKPXzXdYv76O73++lLsf6CVaJMTjigMHY/zJn29gYIGTz5IkfIOO7ZIIW1A5iootxYx/eyLZ27ORNkGigtloEV1eRPmGaowJJnkHCpn2yVS8671IgyCFgvQKdfdV03umg+CaAMZog9xn8un/YBxWv+XkKcwV2l5sp/LuKidBsleI3pHPwEczkIXiHGucMP5kH/UP1uOb4neOXSpkr8ym48121GGFVIiTOxESJ/ySJURnF9D+dAcN79YTeNWH7wUvwWf9WDtNVKtCshyybYl2qx80Wmknp0SnxKa02GRLAWNlAncUHeeJ0ieYL/OIum3itVj4JcIoGc3dFffwYPRhlps30iZdVEg1JVJGk9HMrXn7+aL5R3zg/5hXPa/wkud5LgRP82HJO5yOv8wO2c4e727eqr/EfrWbfbKLt6pf51joDg7IPp6JPsO9sftZKEvY4NvIyw2nOB8/x4vek5z0PseTnkfZaNxItzQRlQgesRAR4vFiLl18j1//+v9gypQp+Hy+Qfc7Eolw880386tf/YqTJ08iMpgcJMIZpmmSlZVFQUHBoJyJb/7Bl0EGGfxuMKSETmkhkiOcPjuD997vY2B2DkGf48b2eoTu7lzefGsBn342jZYWE7/fcYfXNxk8/9J03np3IbNm5mMaQnmZh2eeaeAnf9pH9xgPwbBzHEsnyh1HCg8khKdMTNEUaWFjd5RPD7bzV3c38CcHy3lsipeJQYMSQ6jQwm0zY3x+Rxd/dmcrP99Zwc93VPDDbaV8f3sFH+xuYluHSY1X6MoWHl7eyvlNjTww0cuJOUW8u280q9psckTwakGbCtP1AGTZBlGfSdhyMtcHE4m0csaEB8VV5tSiyTGFgVrF24fGc2JhNifm2ryzu547ZxfTHhRKPYqBhghndnbzyW3dXFxbzMWVEb68tZjv7ylha3uQSu0kaIaVUOYTtndY/OBYPxuaPNR5hYhKlbFeC0ocz4FpCsGgMG9ejPc+mMpjT9YSDAu2x/FEGFrYsKGeDz9ZyIEjnYSyhFhMsXtPlD/+izXMXSp4fU4ipjFEsyOdROhsTeveekad7yW8KozUi5MDERdUnUK3a6wum/I7Khj1Vhfe+R6kyv1Ou1BxqJTOl1vIWZeFOcak6Jkixl3pw5psITWCLBEavttA6b2lyDhBeoS823OY9u54ZIogdYKMF0Y900PVozV45/iQYkGKhdylOYy60IPnNjuZNKliykmeLBLM0Sa+W/xkPZ1F7GIhVVfKaPm0gaIno5gTDCRbsLWBz+3kGhAfYRXAr7x4TDM5F14Jky9x+mUKx3Pv5ZmC51gpq6iUSqJSgE9CBCSbVunk9oZj3FV4D4v0Ulqlg1ppoFYa6DJ6ub3gTr7f8AWf5X3B92Of8knJB7xX+Dbvxt7ixfyT7JHd7Pfu443aC9wim9ktO7hU/zpHIoe4VfbwTP4z3F/4IItkCavUam437+Dp0AkuFJ7jw9L3ea/ibe6I3MYEPYpCycWrvIjSxGJxLp57i3/69X9m5szZBAKBQSQhOzubjRs38qtf/YoXX3wREaedfXo+hIhDJmzbxuPxYBgGhmFkPBEZZPCtQhqJUFoIZivGTDZ4++N+Pvi8nVv2ZNE3waS+0SCSpSgp9XH/A+38wz9s4a67fIztN+gcbbDvSCE/+vkyXnx5Gq2tQmGhYmCenwtvN/EnfzWaVRt9TJhi0thkEIkkVDAVShmOvLYM11oIitAaUhyeWsK7u5t5cYmXl5f4+ZNj43luYYwbSi16bcWmTh8XdzXzztYqHh6tOVih2Fupua1Dc3SCZlqBUGQKuSKs6MznzJZ2Pt/fyfe21/PM0iqafG5YxVYow9lp55nCnPYoW2eWMbEuhF8kLelSXMJgJPUkUkJWTpWLLUKOUty9pJ7vHejgj493cXZrNYsag+SLUJ3rY9dAHR8fm8qDkzRr8zR7KjVv35jPD/fXcnRiHu0BRblW9Pg0S4oMnpho85d3tnJ8lIclcU17WJNlDvXkDIdSgt8nVFQY9PWb7DtUxOc/GcvLr5UyebZB9xiTnHwhK1uxb38bP/rZDdz/eBflNYr6RpO77i3jl3+9ktWbDIIRZ52YllOtkbaQEHHi6cpUVCyMMe38JPLvy0Mv0+hJGj1NE1gTIGdLLmqaIrA2wPwfD5D/VBbmMgM9V2PsNGg8W0fPy234BgzsFovKR0qZ9f2ZeNd40cs15n0WTR83U/ZUGWqOQg0o8r+Ty+RP+tFLNdIkqJmK7pe7qXqhBu8yX7LyI3deDn0Xeok+no2eptEDmsBaP+ZSE5kqlO4qpeqxKvQejb5JY+wwiJyJ0PdxH/7lfqRAsLQiKDYxlUeH1Uifp5tKKcEjTnmrITaFqpQe3c8qvYGns1/iYt7b3K6PsUgtolN1EpIsfBKmVlrYX3eER0u+w07PLhaqJSzUy7hBr2axWsYWfQvvNF/hlO8Md6l7OaSOcKc6xr3qPo6oI2yTbRz33sl7tW9zWB3kVtnH67VvcjxynKNyhFeipzgRe4qNspnbrdt5MvcJblW7uFXt4ri6kzcqX+dk9fMsCi8kXwpxJNU10fwo33n4Sf7f//n/sXHjJnJycjBNM0kU4vE4R48e5Z/+6Z+47777hqy3FJHIzs6mq6uLCRMmUFBQkPz8m3/wZZBBBr8bpJEIr89kwbJavvzlfn79347y6/+6l3//6738u78/xqkzqxk7Lh+fTzFmdJjL7y7hH/7xAD/7xXp++mcb+Ld/t5e33lvE/IXFFESFG5aV8vNf7OE//V/7+c//Yzt/9+ut/O0/3sXTLyyjvTuGMgXRGlGmW/LmGEFDpYx1liWsGFfLhdsXc+nIdLaPCbKo2M8HR6bzi6c28uaRJdzck8u0EsXBgXLePTyZT49M5NLWVt7a28uVY9M4c2Aii9q8FHgdUtKdrXlwbil/enc/39/dzrpag0K3pDKxszZFaMzX3LWml+d3T2Jeey5BSWlSiIibRJcQpTJTJEI5iaFaFD4lzGkI8e7haXz5yHyOzi2lOVcREKHQZ7Coq5A3js7ko6OTOL+llyv7JvHjY5P5k4fn8tqtk1jZGWdKSQ73r+jnk+PL+cW90/m3D0zmp/fM5JN7l3B0xShairPwSEp4y72pg6CUUFubzX3338Av/uJu/uGfjvBf/scB/um/7uDv/uN+fvTzw/RPymLBoiiffraX//L/nOCLn6xl/ZY4CxeX8eXP9/Jf//ujvHllBZU1XkwzMQfDFlNSV0KXabpvb2POm9MZeHsa01+byKzXp7Lw7flMemISnvFezHqTlocbWPz5fGa+M4Opl6Yx48pMRr/aS8HGfFStoMqFyI0Bll+5gamXpjHurQlM+HwS834xj8mXJxM/HCe6P5/ZH85g7U9XM+6psRhdBkU7C1n96WoWXllI8e5iJ8QRESJjwox9poc5H89g7Jleprw2gYVvzqf5eBOBxX6abmti8eXFzPlkDv3vj6fz/VFM/Hwa3S+PxjvFh0QEUymC4qG7oJWdYzexf8wOOu0WLLHQYmGJl/HFU7hjzL28PPY8l3u+x/d7vuS9no94rvM51sRupFCKCEkWMSlnWfFqnug6wenO0zzf9CJPdb/I46OfZXPRDiaoKRyP3curra9xquosJ+Mvc6rqDOfbLvJU1TMcCh/iqeoTfDzhA54seIL9+jbOd7/OidKnuSd4DyerXuTF+pe4PXQHD8Qf4O2Jb3Gx8zwvlZ/kdOUrXOi4yJ0lx5jomUyBlOCTLERMwqEwN9+4jn/+53/mgQceIh6PD7rXTU1NPPfcc/zd3/0d8+bNQ0QGeR8Sr/v6+njjjTf4sz/7MxYvXpz8/Jt/8GWQQQa/G6RlmFseRWt3mC07u9h/tJv9h1vZf6idg0fGsXxVI+XlJpYhhAKa9tYIe3aP4fEnZ/HEMzPYuaeJ0aOziYRNfB6huSnMjl1dHL6zm9vuaGD/4XoO39nPkuUNxMuCbiJaGolwS8vSe3P4TaGlLIelk5pYPrmOjmKLMr/Jkr5i1s1qZtWMFroq/ET9QkWWxbz2fPbPreHo4kYOLG5i08wq5nRmUxXRRLSj09BiCccn5/O9A408taiEMT5Hu8FOmxRbhJntcR7dPJmD89tpjBj4ZMhu3/WkjCxhbCRFp/JtzbyeclZOqKEtHiJiODkTASWUhUwGWnM4sKiDw4t72DurkY19RWyZUMKKnkJ6CnzzdLAaAAAgAElEQVQ0R7zMbY2zZWoLB+c2sntqGTum17Btdisz2uMUhT1JBc/BMuMpKCVEoxYzZ1Wze89Yjtzey5E72jhwqJ6DhzvZcksPxaUeGhotbrq5m9vvnM3GLW30jPLT0hph4+ZeDt8+nRU3tpCbZ6J1+hwMhhKFqQ3EEnx1XipXxuncV8/oO1rpPNRIxfpiIpOCqEKFylZ4GmxKV8Tp2dfFmMNjqN5STXhqGLPMcEouw4JZZlCxtJjmHY3U7KqiaEch0a35FKzJJzQlSKDfT+VNZTRsrKVoXgGqWOEZbVO/ppaaG6sJjQ854Qq/oEs1oSlBKrdW0Hmok4bt9cSXx/GP9qOrNb5RfgpXFFO7p5m2u0ZRf6yLwq3V+MYEUEUKsZzeJT7xUhOpZHb1NGaXTaFCFWOLFyU2PgkSt0qZFpvF6tJ1bCjazpbC3Wwo3MbS/GWM8o0iIlnY4iEoIcrNCmYXDLCpagubK7exKn4TM7Lm0Gy1Uym19JkTWBxaxqbYVnZW7OWWsp2szlvLTHuA8cYkFvgXsq5gHQushUxRM1hdcBM3RFYw0xpgQXAxi8PLmKpnMs2eybKcFWwt38be2r3sqNjJqvwbGevpp0xVkiV5eCSEFg+mYVNdUccf//xP+fnP/pipU6cl8yL8fj8rV67kJz/5CZcuXaKwsHDwGkirzqisrGTr1q3cc889yVJQwzB+Dx58GWSQwe8GaSRCmYI/qIkW+imK+SmKeSmK+YjFg+TmefF4nIQ6QzkZ/QUFASqrcqiqzqag0IPP6xABSwkBn0FBoZ9YsZ9Y3ENRzEMsHiQn14vt1W4ip3IJxHASkejf4fOY5IR95Ia9BDwKr6XIDlrkRbzkZvkIeDWGdsogc3wGFTleqvMDlOUFKMjykOXTRAwhFhQ6Y5pVLQYvrinlrT317OwLUaEc8ad0EhE2hdVT2zmychyzW+Lk6FQlxOAOnddu8ZxQ9oz4PeSEPPgsY5Bqpl8J+V5NRW6Qyvwwpdl+CoMmhSGLaMAk21JEDEWu36Io7COe7acwbFMY8VKQ5SfHb+MfpG0x8piUKCxLEcnyUFgYIBb3E4t7KSryUBTzES3wY9sKn0/Iy/MTj0eIRv0Eghp/wCA/GiAWj5Cb58O2Uw3ZrkoiXNEysQVPgUWwwke4NkCw2o9dbKJyZJBIlJVvEioPEq4M4yn2oLKV85khKMuBnW3iL/bhLfNilpoYcY1ZaGDkaXSOxhO18UY9WNmmk9wZFLx5HjxRD0ZEp1QpQ4LKU9ilNqGqEL4SH2aeiQorJCCoiMIoMPGW+gnUhPFXhzDjHkesyhLENLEsPx7tI2yGKfIWEPcUkCVhTPEgYmGJB58EyLMKiNtlFFtVlFjVFJuVFJpxclQuXvFiiMajHFXJPDOfUm8Z5d5KSuxyinScPCkgT6LkSD5xXUqZXUGVr4ZybxVxs4RCKaJAiihSMeJmCSVSRqEUUWyWEjdKKVBxCnUxRbqYqBSRL0UU6WLKPZVU+Wuo8FVRbJYRVYVEJBu/hLDFhxYbJSYBf5DbbjvCf/zf/yOHDx+muLgYEaGhoYEnn3ySX/7yl2zZsgUzmQuSQkJsyuPxUFhYSFlZGX6/P6NYmUEG3zqkJwum9whIlxKWNIEdSWkTDOsjII54lK0NbPfBkvidYcpg45OQDFZOy3GtZBiJEEnLk1CCYaghyXyp42lDYeiUtHVCy8AQZ+ff3xxj3/LRnNw9nit3TePNw+PZNbWEKttRtvSknTekhUltlUzvKKMi2+PKVisM0diisFxNiOs3rEpdh1ap8tBE1UdCCttOjNM0MJQa9Hl6nxCtnITG5D1Ju9bBc5LuhTCGzW/6d5NjSru/Q+dWacEw9aA1cDUM0tJI11EYSU5aO0qmg7QW3M+1oTANNfh8asix0o9pKZTphFOUqV0lTqdqQrtVLIYWdEI+e2jfjKTEtkIsNVwCO6EbYtgYlh/L8GOLH6/48YrP8UIoy1V+1a4wmYklHizxYYkfS3zYyuP2vnDInaE0pjYwldPPwiMefMqHT/z4xIdf/NiuVLXtdgJ1XttYYmGJhS02XuXDI55kt1BLPJhiY4g1CKbYacfx4hUvXvHhcaWxtTjrRZRGm5rq2loefuQRVq5aldSKqKioYNOmTRw6dIjKykr37/z68tbpYY4MMsjgW4O0P+p0InFVEpFy4ZuGB1N73P4N2tVKMLC0hW1ajuF0jzEom39IMmfCwCVKB69GInSihC495u8+3JV2IMpADBPRTr275XoRuipzWTO1gf2LWziypIHdsyuZ25JLseXkSthpXgavCAURP/khT1oZqsIUA48L47oEQmOkiWgNJRGpBmYKUztlgh7TxFAarRKG2CErKm3+9UgkauicjEQiksdK17Zw3jMN071XI3VZdUtXDcPNA7n2gko1QUvMp0IrlVwLKmHQ3eszh1yjdj1ShnISGI3knGm3GZrpSGtrww2HuWvA0A4SktuiMLSBqRzlU0sUZmL+0pp8acM1bAlojUpINiuFaIXWxiDxMaUttLIxxIMhXgy3t4ozJjWEJLv3QBtobaCVq+qYXNuJuUkpPRracKExEkRIq+T/E+8ltDq0dkJISsT5XNKvSRhO2l3yorTbqCvR5VYN+tt0yJxBXX09JSUl+Hw+DMMgFApRVlZGRUVFMjSRnudwNW9DxguRQQbfSgxRO0w8QK76g5RxcUiEHyVeRCyU2/HSUM6DbthDI71bYoJEJAyLazgMNbgD6PC24ul5CKZLYNKgLMTwOFBOqMMSIdcWyiOauhxFfY5QnSXEfAkCoTHESJ4nsfsfOg5DNJYL/RVIROLBniQSIyCxG0081A1RmEoly1+1e2+SRmGogb8KeRge0khAkd7RUYmBYTgNvJy+FyN1VR2hM+dVkPCOJMbuzJmB5RorQzSmJIyXq7MgiZ27kTRqCW+GkTb3zm7adt3tFgmZ6eFttBP9V3SSqFiSIiTp49WJksNkF1ONVs4aTsyToYzk60FzogxEme6/GtFupVFi3aev9SEdSrVLShNzMEi0yoUyR8agjqfpUGnnGKkLadrmIEHc09dhSlzNLdfVQxN0VbJMc9A9H6L9cDWPQ4ZEZJDBtxIJEpESyhkp1j0ytEsgfIjYbqVCWjOtIbugYV6OtHMN2qGnkYnhCpGJHgVOXwtJtsK2ku+L2IjykOhuqWR4B81Ui25FshOmO56U8RryEJXUDlp9BRKRCPdcre13gqgMbRWe3s48MQ6dJAEGiaqQBK4fVkknD5pUa/PE71NGYjApkUGqnV91XSQMtSkaWzR20oNjYg9qZW2QartuprndDWee08InWon7G6cCYjiJGD72kdq0X3Ps6Tv2Yfcr4TFJEAjHS+F4HhIeH5P01vHJnf1QIqEkKX2dCEtoV256JHKgrkYahmLo70cgLwlSMZhEpAilEhPlzq9yvT7KDdGoNI/JUIzkibjW90b67PfgYZhBBhl8fVzFaFz3hwnDaqPEw9ciEUMhV9+pD9opDfFCDIaRBgsRT5JIJColnDblqXwJp7W1To0/zYCoIYY60YArga9KIq51TQmyYo6ABIlItTpPGH8zjQiYX5FEpJOZ1G9Tvx9+XweTh69PIrSkiJtPEgTOUXo0JN1wJNaRY3gNl2AkSUTiXokkSU8KCfLwdRf9SGRp8HqUIffIIXwqBTc0kgrFJTwfRhpBSoRIZLA0tnK8EE4+g5PXYCjthPuGtjj/TXA1EpGG5Lgl4TVKhIsstDihGu3Kc6eIxNXJwVDJ6+t9L0MiMsjg24KhhuGanoihLnPDDWGk78B0MsY96HjXglybRAzeRQ51sw8eYyrs4XgnlFgY4nggEp6IdC+E89B32n0njJZjMJ221inDZruwkteaLjD1m5CIoYRiKIlIjDF9t5juRUiN4euQiMHGznA9NakExnR3/RB8jXCGLY5kd8hFUBwyYUlawmWaqz2RJ2FKImSkhkmiDw7JDPYwXH29jLSG00notZuXDcpdSI7RuT6PDPZsGWq4cUx6K3QamdDKDeukhW/S80b0b4dhZGKId2JoHpLhhp2MpDfIdsNG1tciEb8tvvmHYQYZZPD18RuRiNSuP/VgT+0O1VASMfTY1yAQ13U/j7BjHHnszlgdIjB0d69cOA9OLV602E6ppBanRNCnUG6ZoWOEnYer6brb9SACYbrXrgaP5WrXkIahRjBhhFM5ESlPTGquB+P6HpHhx7dFCClFjmUQMtSg0MngZNtEvoAMej+9ymSwRoUzZr8I+aamxDYpsw3ipiZbO0RuUNXGIBIx3CMzXBJ9cIjIFCGgFbmWQb5lENYKrwwVBhu8XlLhsa/QRj0NifP5lJBtavJNTZZKkaNE+CVp0NNIRTqZUC5hSITGkkm0SiUTS9Vvg+t4KhJjS3kjEmst4aGyRiAQGRKRQQYZjIiv+4OvktT39R4IiYdzut5B0pilJ3omDI9rhLRbdigiqaQyI+3/KvV/bWqnhbOhUmWFCXe6shExnbi0CJInREaF8Df7kCxBLEFp5ZIHhUeZWIblPvgMN6RjOhn0pkoaRsNOnFtQVtp1pI8veb3p134tIuXMsVbX94Ske2qG5mDkmkJfPMCjmyexuj9O1OsIapnJHbdrhFVingTLMLAtp5IjPVzhESf/IbGzVyIEtLBtdgen9s7mrcPTuG9pOZPLTbINR9NjWNWAjOxNuBqZVO515PkUA50FPLVzKs/ums70uhBhrQareLrhmASBSngPTBE3eXDwcbU4oYqkMqeLRNltZZ7N+pm17JxbQWc81a49QXSG52IMCZ3I8OtNv+5/yQdA+hhTpDRdPC1j3DPIIINr4nd1oOEPyq+KVEb/kLCF6xUQnzhdFoPidFwMymCXrel+zyuOKFD69/zub21JkYzE97zu+5ZCPCopcGSPVnQdb6Fic6nTPCrb/b5LDpQoR5PAco+X2GVa4ngv/OJoEQTd4weGjMcjzm+TZbRD5y5VQfHV5/7qoQyR4SSiImKyb2aM9++az7I2D4W2wieOgfWLEJDUDjs9MdVWCtv9LEsctc8cccIVXqXxWY4+SEALK8aU8vjqNq4cHMvJNWXMrTaISDoxUINIRDKsMoK3aqQ1Y4qQYwuTqv08traRy7fPYFWzRb4WwuKEURLXlCAOfnGamgUlFeIyxdHqMFXqO15J6XeI+1ufi9KAYudALS/uGcvmKSXkG6kk2JHCWIOJRGr81w7b/cth5OTlDIHIIIMMvhK+8QE4RsRFUhtBuUa9XJxOjbMFmSuoZQrrBhvpEse4h8TxFhQK0iYYc008K/3o+SbSKUhUnHbPrYLu96DG2kijclpKlwqqW2PO8qGmWc65qoXQFi+dl5oofSaOrBf0AgNrgo2UCyou+Ed7CEwLoJs0EhfMBhvfBD+eSRbSJqgGhTXVQAYEmSWoxYK9XGPMU0i3OOcOSZpnZUhpqGmjDRPbtiksLKSpqSkNzTQ2NtLW1k59XT052TkYhsnX8UaETWFCVZhTO0ZzausoukKaAiU0ZgmTq0zm1BtMLBEaQ0J1SOirEAZqhSklQm1IKNRCV77JvJoA69oi3NzkY3qhotIUsrTCbwpeJZSGbCYX+TmxvJFnV5Qxr9oiW1LEJHHv0z0RX82IprwKfiVUBTUbevN549axbG1W9BnCnCJhYZWHsQUGFR4hKkJMC60hYV6lYnWLxfxap7NrsSVkK6EyLIwpsZlS6WNUgUWJCHFL0VNmMbXaw9giRZktFGhhXlOE57Z08+TGHsYWO/1QHNXTkXNhhpLC3ycSMXRuf9PNQAYZZPCvEt/4AAbVtye0BJQoJCDkzcil8cE6Wk8303CmnrpztbSda6P2njqsMZZDEsqF4ECQiuPlNL7aSPX5GipeqqLioUpkhiAdQuEtMVqf6KXu4WbCq7OQbsGcZBI9UEDHmV7qn2rGmGDgW2hT92IFPT9up/WzZupeq6f5uTYajrTgmx7AHG3Sc6yLcS/2E1oVRnqF2MpSuh7qoeHhWvxrPfjm+Gh9vImms7WUn4pTf7qKltMNdJxupfLuCgKzAk7ba58gtkLphNaAA61NlNLEi4vZvGUrly+/x+XLl5N45513+OCDD3njjTdZu3YtBQVFXDUfQqVi/trdbceCirV9Ud65bRL7+7OIa0WhCGvGlvLUpl5O7+rmgSUxbmw1WdYW5LGbGzlzSxvP3dzM7FqT/hKTowtaeHnTaC6ub+bNdbU8v7SSlY1hYuJ4IRKei8aAcP/CBk4sq2JulcdpuS6u10mN4Im47npJGTlDaWylKLSF5c1ZvL1vDAdbhTs7TS7e3MKFbeM4NLOevoIgtaYwuyzM8Tm1nL65jtc3VnL65jK+s6KG2ZUeKm1hoCGP+1b18vzWSRycWsW4kDA+6uGBm3p4ZedEjg7U0J3rJUeEjhyDY/PreHVXH2t7soi61zWURKT0Rv5QSEQGGWSQwdfCNz6AVM29SlQguOqTfkVkeoTO5zuY9ulkWl5tJHZXjPJHy5l0aSLRzVGMRgM9Q1P2aAmNb9YTfzVO9NkohS8X0fBeAyUnSjBmGWTtzGHspX4azjThu8ePecjEd7ufvMfy6f1iDFUvVKNHaeyJJvEHCun8pJ2GNxuIPRyn5EAF8bWV2D0ejFaD2v01zPl4Pjn7cpAxQtZADh0PddJzuoucXRHsSTYVD5Yz8ed9tH6/kbIniik5EqfhRAM9Z3upvKMaY5SJhAXxKZRhumqHLpFwjWRBYRGrVt/I6Vdf5dy5c5w/f56zZ89y9uxZLl68yMsvv8yyG5aRnx/letUZohzZZ68WGqMeji6q4sptk1hRLmQpJywx0JDHd9b18tGxqZxcU8PaGs1NzWEu7unhB3dN46GFpfQVGvTmGeybVsKzKyp5aWERr6+I8f62Gh5aWEGDx82RcEMDNQHh7kUtPLG8jjlVjgH2SUKfI1UZohOVBSOFMJLvDS7z1crAVpoCW1janMXlA6N4eW6AD2+K8sXBXp5Z1cy67hjdWV6mFvl5YF4NV/b0cGF1jGdnRvnuwnw+OdjOIzdUMDnqZVZJiMfXjOPKHQt5cG4DE3zC5HwPp3eM4Yv7FnJkRhntWTa5IlRZwvb+cl7b28+RWRWUuNeVTiKGlodmSEQGGWTwLcQ3PgBS6n8JISWF0gqxFbpTU31fDX2XxpK1M4yMFcz5BhMv9FNyZzHWOAv/Lh+N79dS92kl4dN+sl8IEj2TS+NnDYz9sh97vY0sFJqeqyd2thD7NYvw98JkX8nG/5Kfuk/q8e7zosoUEhPMVQatZ1spfbAMmSlIq0ZqLCRXkALBmmsx/YMZZB/OccIqjUJse4ymlxrJ3ZmNNAv2Bpu+n4whdqoIc6GJdAm+uT5aHm2l62Q3kRuynOP5FUobg64/YSwjkSzGjR/Prt272b9/PwcPHmT//v3s37+fQ4cOsWvXLvr6+giHI1y3zFMrDEMRMITe0hCPrG3hvX39zM0TQsrJHyjxCDe05/LKtl5OrqxlTVxYVxnmjR3tnN3SxexCoUQLrUFhR1+IpxfncmpxFpdWZvO9XeW8sr6e0dkpEmGKUB0Q7l7cwomVtcyt9pIrzrmsZN6HG8bSLpFIhLbS18cgEpFK/NNiYImmwCMsaYnw8dHR/PJwHX95uI7nFxaxsMKiMSBUmcJN7VEu7+zmjw62c3FZiOemBnhhwMcPDjXz8dGxrGvJodcvbBxVyumt43hiQSOzfMLcPA9v7Ozi7NYu5pZ7iVtOLkixCDd1F/PannE8tKSRKnFyKTIkIoMMMvhXhm96AIlSu4TqZFp5qClIs1B2rJy2V9qRhYJUCMZ4g95TXcTuKcCabJJ7JIvWTxqo/7ySvHdDFFzOJvZOlKr3Kmn7sBtrq4WMFSqPFVN1uZTol7nk/2+5FP4yn+jn+dReqUUWiWvUBWOWpv1kBxVHK5y8ikIXuYLkCzJNmPz+ZLKPZCE9gjQI+TtyqThVQmiXH2kS7JU2Y78chedRDzJRnATNXqHqaCXd3+0iujbqhGJ8kkYeBie0FbqeiFdeeYXz58/z2muvcf78ec6fP8/Fixc5deoUy5Z9FU+ERrTTDyJoCGPKQzy8poV39o5hTp4QVo7h94mTA3FkXi1nNjRyb7+fe8fl8N7eHnb351MuQqkprOzM5fmbqrm0sZzXV0d5d10en99awoWNVUzMdoypRzn/NgeER5bU8cKKUhZVmRSKJL0RCdEvrQS/IWT7hIjt5FMMSrJNVogMvibt6kkU2MINzWE+u2MM/+7udv7qziYenR5hSq6mWAtlStg2KsanB0fxk4PNfLAhl8s3ZXFhZZD3t5fz9p5ONnZk0egVRuV7OTannvPrejnYaHNnh5cfHBnD/vE51Po0AXHCFkVaWNtdxNldo3hoSRO1cnUSMVgszbmmDInIIIMMviX4pgeQIBEJCeu0B6ktWL0WtY/U03NhFL6VPqRRMOYZ9J0ZQ90TVXhneQjdEqDt9WbqLtdiPW8hjwv6QU3w0SDRR2LoBQZSKxRviTL64y4a/6yOrB8GKfpJPj3/poO6c7VIrySrKbyTLXqf6aH+vjqsORbWWIvQxBBZEyOoekGmCJPfnkj8wRieRTa+BV5KH4lR+1YZ4YM+pF3wrLQZ//M+it4qIHxrmPDyENlbsmk50UzbYy0EZwWcxFCvoIaRCKcuv6goxto1N3H+/HneeOMN3nrrLS5dusSbb77JO++8w7lz51i5chXRaJRrV2gYiLIQZeDVQlvMx51Lann/tvGsqBQiKlVi6xVhoDmbkzc38sHuRt7dXM7pDc30RZ2Kjbaw8J11vbx/oINn52RxrEt4cobNhzuKuLy9lvlxixwtRH2a1vwAc0uDvLS6jgs3l7K9O8CofC9VIYuguNUMhuOFqI1azOrIZXRFgKjX0a3Qw9bJYKKlRfBpoTpssml0IZ8cHcO5Fdm8fXOcK7trOTS+gCmlIZoDFmvbcnlrZzufH2jjpfk2j00S7u8XHpvj54EFMeZW+Ci1hCIlLG8u4sLGbt69qYwra3N5f2sNUws12YZbxSGO12bruBhnd4/i6EA1ZTJyOGO44qok13iGRGSQQQbfAnzTAxhMIhIPXyWChITo/AImnJ7MnA8WUHO0DjVO4VvnY+lbixk4M4OcxVnILKHu7hp6zndTfLKE0INhcu7NpfY7dXQ9MRprho3EhcjMEOPPjqfjSheex7zEn4sx649mUHm8yqnMCAhiCJ52izH3jKb/5DjK7y2j9FgJox4bxei7R2FMEqRNmPzdyfSd76PmRBV1z1cx/soYpn02gboHq5Fxgn2Dzegf9dD1sw6a326i40wbfWfG0v/8OCrWlyMV4pR72iOTCK1NtDawLIusSBZ5eXlEo1HycnMpLCwkNzeX7OxsfF6fq29xHRKRlMsWiiMm26cW8/GdU9g92ibPSLVCN0SojQiH51TzxX1z+OjIBHaNzyMqTlVFY45w943dnNvdxVOLYzw6J8i5TXF+cHw0n97Zxx1zY1T5hdHVNgeXtvL0xh7ePzSOj4+M4uwtLdxzQy2LugvckIYTwghoYdWEIl7YN40tM+soj5jYkiqvTK2TwWqghgjZXsXkxmwe3zSG948PsLVNcUNMePfgON67czqPbhzD/OYo00oMjs0t4a1bx/DMDUUcnxTirmkhHltexgMrW5hRFabIDVX0Rb18Z241f3HPVP74cBt3jtOUmY6nwTaczrANWYrDAxWc3T2GjX2F5MrIiZV/CCWeGWSQQQa/Bb7pAbgkQjkNlRKqkkoJki1ULKhgyoPTmHligO4DPRhjDWLLYyx+bCGLHphH0UAeulrh67Wp31PL1FemM/PCHAZencf0E7MZdds47A4bCQtGnU3z9i4qdzcg00zy5uYz6nAfsTkljlfAEsd1niUUzyxlyr3TWHx6MfNOzWPqE9Oo3lCDNAoSFfIXFDH58WnMPbeQ8S9OYtQToxn/nfG07mtFRgvWIouO73VgPmUSvs9P5T1llG4vIzAliBSJE6rxidNgKakImMqH+PoqflcT/kp4IpwyUEsJeaYwszqLN/f2cXJNHZ0BTUSltA5CIkypzefOFV0cWtxKZ6HzmYgQMoWx9RGO3tjLS/unc2rvRJ7d3MtTm0bx3M6p3L5qNA3ZQl+dj7s2T+XErQM8t3caz++eyAt7p/DotomsmFhLlk4JVZV6hHtWdfHUhh5m1eaSJfKVSIQSIeIzGd9exvFNs7l/83SmVNtUaGH/3Eae3DaVR3YsYElfDTVBRU/Ux65Z1ZzcPY2zh2fx6pGZPLNnCkdWjGZscRaFWsgVoVYJm+vy+P6BPi5srqc/5JSAerST6+FVwsRKDyfWNvPs+i7GxxxdipFKPAdpYmRIRAYZZPDtwzc+AJzqASdZLiFPrbQgHkHlKHRMO8jTSEBQEYXO1+iIRv3/7L3nm1xVdva99j6hcu6q6pxzULc6K+cs1EogBAIhAUJDGEBkGLKQCEI5ohzJIgwDM6TJHj/jsS8/tl/7tX359WP7D/m9H86p1JKAsfEjM5wP99VdVaf22WfvU2fde6211x1y60kEBJVW6BaN7tbodo2u1eiUzq/4JSSoMoUqV0jKbSehURFVVPhJnNLAMYWu0ehWt60GjUopp1BUwP28WaMnaHSbdo6t0Ki0QioEe6XN4OfDWPdYyERBNbjnjbjXZSmUaeTLIF9JxEgrdVmDc6mb/GtyIpR2dr+4uQo9SZutKxr5xStrubY3SMIulL4OiJBSiipLU+lTBJVguWNjaGclXh7StCU07RFNo62ptzWNAU25oZ1CT0oo92tqQ5qagKbS0lTbmkqfJuKWpg5qZ64nVhjs3DyLO2dW0hFTrjz75QzqpYWQtAgBpUgamrSliZsOCcpqRa2lyZqamFZOAS0lpExFY1DTmdB0JDX1IeeYlHJyNdIiTPQLjwyn+ej+Qe6boqgQtyiVqwq6rewAACAASURBVDmRCQibF3Ry8t553De3lXpD8p4Vj0R48ODhe4ar3gG3jLXKlyDOFx3K1Y/IVaMsrvSYExOyBe0TlCnO6r64GmXxseNhue3mBJFMs7RP2j3GL4XKlqbbJ7vo+wFxcilyxySF4EiQwR3DzP/9Qjrf7iZxTwqjz93SaWrEMBHDcKB1CZEQkRJSkdNTGK+zkNPVUF9LIFRhjN0kRp8IWUsxrznKzjsXsmZyLXGf6eo/OLoiuWqOTg6AK1Rm+LBMG6UchU1LO+Qip5Bqu//73bwBQzlbSnOVHw1xvmMaBYOpRRjprOH2lZOZWFdGVBeqSF5aPrq4PHNurCSvRunTgq0L57JFCBgan1Z5LQ1TnD77teA3nL7mqnQONpaxaX4bu2/u4WePDPOrZ6fw+MIE9e4xuf5WRC1uWzrCw9dNZrQmSEwKtS88EuHBg4fvGa56BxxcQUvCNAwsw9W1UAqlLEwVQMTEUBaGMjC0xlQ5OAZOq0KRH50z0Pn2VYm0tXLDBzkZc0s77WiRfFsqbwiVa4xdYSLDQhkWok2HEEQUkclRJm+dysDxIQZOjND2UDfB/jAStxAzgCNTnqsNkSMRugRa6bwXoria4+U1Jb6+7HW+qJMqiEil/QYDNTEaYz4CWhWdo1RqXOVyKtxrzp9PWfkwSbGyZq7fhtZorVyJa4W4uiJKlc59Ku6nujxCyG+6wmiGM685MarcHOVxqZKnjP/fMNxxNPJzlZ/38cqX4pCMyT01PHzjKIfunsS5H07g+A96uH9xHY2BIk+MCHGfor0iQkc2QspSrnZIgdB5JMKDBw/fI1z1DjgGJ7+6LjUWWpkYypElVmIhYmOoACovVezIWeckyHOkwTFk6rLGV+fPU2ygij6/jJJivjS3e7xjYHOVJt1wgXbCHWa5RWpiiuikGIkpSaIT4phpE/EZKG2jxMbJU9DjyEOpzLfOFWOS8TsVxuObeSOK28qtyoOGQyhKS1GrS1G0I0Lnzqnc+h5aF8JBucJRIgXiliMRhioVIRPneMNwoFSOILhqsKrYAOdyIbRLcgqS3MXCbbmkXKf2hiMI5kifu3UaxstzuyJsSoRMLEh3bYrRphRTG6JMqovQWR4iZhbGX4vjWfEbOa+HcuepWNnWIxEePHj43uCqdwAtCks0lmhMlxAUKwoqsXCUMp1aEs7/rnKma3BLZbFL6/9fjkDkSEf+wX054afxMsp5z4VGi5MI6qzIJR8WyYdKfFIIheTDMMolPUUS6kUEophE5OTGdYnhvhK+PieiQMyKv6NKDF6+va8QwcrJcxfGTJWOz/hiUZe0NU6XITd2RbtICvLcl8/3UGJgiCqIgkkpMdIiLrmz8oSjROZc66IKoaX5FaYUhLkcD4Nzr+T6WypW5fZX5WqcFLwyHonw4MHD9wRXvQM42/V0HoXqfrnVbq6iZfH/jpu9eOWuLiEQuYd2sRvcQLleBOWuGnNVE7+SRJRoPGjXm2C5HggpXd3mpMa1a7BM5eRTaHENWoEoaZc8jCcQxmWIxJXH8JuQiMI5C+ShEMK5xHhdhkCISCnhKCYGl9HBuHwfc0QhF17InaNQibLUg3L57apadIknYrxWhUPuctLkxaqo7j2lXRSRiMuHinLnHH89RdeicgSiUHHVIxEePHj4nuCqd4BSd/U478B4qe98wqSTR6DFxMh7JArfv7Tt3APfdPIXlJnXqSh+iF+RSKhiA1NEInKGMEcYSlz77rmKSERpOEXnCY3OE4YcmTIoeGS+Tha8EG64MqEwUHloTFH4RREQA59YmGKjxeRyBrX4PCWvi3NM8rkX48f/MnMgFgVvw+XaGbcLI0dS8ob/8mGDQh6MUEpKislJKeERVWrYL/FMXZFEXGmsL81juWSMxCMRHjx4+JPBVe+Ag3zsPfdaHALhVxhlFnZTAF+3D6PNcMpF24IYyl3BO0TCFMMNhxQb3KKHvdaIrZwdFT43Ri9FD3w1vk9yBSKRc2Xr0mPHxdkllzOhS13+uSRNXWQYS3I6RKHzdSMKBOBKyZIl3gARCls6i1bceePrnMsvFhkjSlOghmZfC1lVRUDCbq5HYVupz7bJpjOUl1diaCs/ntrNYcklP+bGWl1m/EvDTKXhldxxpQmUBlrlkmnd+8Anzq6boCCWozeSK55luN6d4pBNPhSmLDccZrnXlvPIqBKj7eyGEQJ+H5l0GWXpMrR2Q03F83xZjPd8XZ6AFX/n8jtP/gf8Dj148ODhj8NV74CD8R6AnAcioYmOZmm4s5umZ1vI3JdBT9JOdUm32qNWFoayMJWJ5Wb2F8ILTnvK3bJplJvYrX7MasvxahhFn+dzHsb1qWhLqYiUGHvDXdUbShWMjjIdw6UslHY9DO5uC60Vplb4lGBphTKdehGGMrBcQSlLNIbSjqFUFlp8LvwY4sfIGcSinR1aGRg6FwIxMLSF1iZiGgVoZ5eCKQZJFWcoOMgtLRv4Qf09TDFnUSYVmGKTrwipNY31jdxx22Zu27gJnx3I53CYSmMrjd/QWIbKJ6BqlZNyd8c1R4aKwx2qQBpyY24aCq0FrQ1MbWMZNqZhOmMeEMwaA3+nH1WtkZjC8Dm7chx5c42trQLx0s59IcrA0LYDZWMqG0MZmNp0dvRoheHOuzY1Sisa6mtZt3YNt6y/ibJUEl0kpf6N7+Gvuq+v9u/MgwcPHr5dXPUOlKLYaBuCxA3ql3aw+Ohqln25krkfzcd/QxiJiUMCtGBYJtqnC7UbguLUbgi58Ek+JBKfU0bjQx1kr61GsuK043O/lyMUudyBkt0Fkg9HmGISlCBRCZOSCEkJEZMQIQljSxBLwvgkSkDihCROXGLEJUpMwoQlQFgsomISER9BCRKSCElJkJEkZRIjJREiEsQnfnwqREgliEiKuKRJSYakpAlLHFOCGNqPX4eISYyUJElLgoREyUiGuCQwJYhSPpSyMcRHQILEJUajamBlaCX7Jh3ijVnvcZ3/JmqkEUv85LwFsWicm29czz/9wz9z8thpfL6gq64qhdBS0B3jXG0Os4iQ2VI4NiCl9TZytTZyc5OrB+Ibh4Cg05rUqiTtT/Tgm+xHKsWpuZELbZnjvhMs+t8uQu6zqIuYOMW/ApKvAdLfN4HTJ47yh9//OatWrEDrr/NCjLt3vw5X+/flwYMHD98urnoHEBm3+s+5/nNu7Iwgk4TEliST3p6Bsc41JAFxjFquyFRWkG5xxLSG3f/bxSlpHREkLWQ2Z2h7o53ybZXITEH6BGkWR6XTJ2jTRCl3J0jOnZ5bPYvjOg9KkFZpp1cmMkUmMVVG6ZcBmqWDrNRQJQ3USSudMsgEGWRUhpklk5kuk+iSNmokQ4OU0yGNTJAuJkovU2SEeTKTKTJMv/TQKLWkJElUYmSkgk7ppl/6GZZh+mWIemkiJgkiEqFCMkyQTubKNObJNGbICEtkPiMyRKXUEJI4tgSJSZIGaWRA+pkjs1glK3nOeIEPe3/KzfZt1EsLtvjJueb7evs5ffIs/+df/w/XrVrjzE/AHa8OcUqA9wkyUZAWKZAy253LcvfYPheNgiTFMeDlgtS4n9cIEhfHwKfc17WFv0avQdVzlQz+eITA5iAyzZ3XOredrNt2vTglxTPuZ7Xu/xXu6yZBugQZde+PQXGk3DPikE5TiEVC3HPXZv7pH/+eC+fPU5ZMffP72CMRHjx4+P7hqnegNAnNJRAqV28gVzmyVkjckmLam3Ow1gcdSe6goAynNoPRLJTfkqZnXzddpybQcaKXllc6yW4sQ1drpFyoXV3NwOl++v+8n7bP22g53Uzv3gl03NfqGBdbMAwDPZ5ESK6WhWCLSVzirKlZx+NNT7Ov8QCH647wo8RTLDbG6JReZvpnc3fL/Wyt3cG25CvsKH+FA617eKn5BW6OrWOajLLQP5v7snexLfsC2yMv8GrqJQ417eWVhm1sCt/GdDWNFmmhSVqYoqdze3gTrzbsYF/9XraVb+dm6xYGpJ8WaWZBeC4PVN/HtqrneDnxAofr9nOweR8/jN3FqB6hXuqplGo6pIvl0RU82fQ4B1r28lrmEGcSp/m08wtute+gSVqxJUAud2HZ0uX8/nd/4P13PiCbrnDmq1po39hO67PtVL9UR/uBTkaPjtLzfBfhZUHHcIcFiQiBhSHan+1k4PAAg0cHaHy2Ad+YH5kg+KbbdG1pZWT3CFUP1mANWEi9EB9L0PZ0O71be6naWIWeqUlsiTP6wSjDv59M3QfNtBxro29HPxXrKjAmKdKrEgw8O4EJj7Q7xHFQ6Hi4i8HtwyRuSiKLhNSmNK3bO6l7qY2ql5uYcHSIwcMjtD/dgX+OH6ly7ydTMXnyJN555y3+9m//lrmzZ3/ze9kjER48ePj+4ap3AJFLs+JNV+xIiTgeiSohdVMZs8/Px3dT0FmBBsTZ+RAVmq5tYPqpaXS910XwaIj0qSxTPprK6O5B7C4LqRRq1tQy8cwAA38+RMenXbQdbWN4xyD9d/bgaxYMW7CVUzFRKbPUE6EVtmEQEB9N0sQPqu9je3Y3+8KvcSp8nvMVb/B0+lnmy3yW+haxtfU5Ph34nI/bPuVQ7VG2Vmxnd9te9nbu5cH0g2yyNrE7s5dPO7/kk5afcaLhGK9Wb2d38w4O9h7g/syDzJeljKlreS60jbO15zkWO84R3xHeKnuDt5vf4L7wvcyUmVwXXMOu5j28PfQeZ5vf4FDmGPvLD3FywgnuTfyAmcYkpslUbs9u5sWul3ipcTvbks9xrPIQn3R+xOftn3O7tdklEY4nIpPO8vgjT/JP//AvPPf0C1iG7YxFjdC1pZu5Hy1g9IspNJ1upnlvMyOnJjGwf8jx7pQJ9nyT7mM9tLzTRvJoiooT5XS/30nTyUb0rZrAwgBDB4dY+JsxonuyqDsNZINgPGbS8VYn0z+aSc0DNahZitCWIMPvjdD/uxGyb9fRerSbwZdGqLy2CtUnpFYnmX5iGovfWOR4GEaE9mc6WXrxGpqfa8Baa5B+OMPQxcnM/MUi+i5OoXpfK/XbW1n65nKm7J1OfGHCuadsobaulueff47/+Pf/YMt99/9x97JHIjx48PD9wlXvQCncB62hXN0GLShLkBohtSHFzAuz0TcajgvbFbOSMqFtYwuz35tF20/bkSOCudsitSdF6q4kulUjZYK/I0Dm4QoaL7ZQtaea0FiY+JQYsY4IRtzxepgi+EwbU/scb0SusqTWmMogKmHapY2b/Ley3d7NcX2ON/Q7/CT9Ccezx7lBrmeqHuXu6GZ+3fNrLsTfYFPgbpbZq7k5vJEX615mb+0BHgw8xqPBp/m0+tdczHzEXaEfsMK3lOtCK3m2+ll2Vu9lS/hxHg88x/uZn/Be/EMOGkfYJ/t53T7Pr1p+zmuVh1nju57lxiq2Vb3ChZ6LPBvbwY327WzwbeZY2wleKnuWVeZiNgVvY0f9LrbWbefm4M2sMMe4M7CZE+XH+VX3L9lkb6JZWvG5nojGhmZ27tjNP/z9P3Lrhk1O9cmAQsqE6A1xht8fpelsC8HbggSWBah7soGBC6PIjYJqVdQ9WUPfl/2k3i3D2Gtg7baoeKucri86qd1bizHbILmljKFfz8DeGyRxIUvy7XJ8hwLUXayn480uAqsDSKtgzjSpeqWGjo8nELovSmhxhNikOP4mP5IRrBGbuhcbmPPOPGSKII1CaFmYqSen0fhKA/aYhb3GR+PxFoZ/NoXY0yl8C4L4pwepuLuSOW8uoPL+GnS7gdhCMpXk7nvu5t///d95+cUXMf4YNVWPRHjw4OH7haveAQdFD1knedGVplYuiagT4pvijFwcQW4Vx/0cFyepr0yILYxSu62K2tcrqHgnRcO71dSfrsW8J4B0KCcWXybEbknQcKqJ8icqnJh+pThxfDcBU5kK07CxVBCfRLAlgiEBDGVjiU2FlDNHz+HF8pe4kHyD94If8uPAx/w8+3NeT1/gZrmJfunnZvNmvuz4kr3mPsZkJVNkGgtlEU9lnuG1hhM8En2KO+0H+LD8C05F3mChWsCoDDJNRnkwcj+Hq4/wcmonO8P7+bLmt3xW9kveS3zIxfh7fBL7mC/rvuRM7WluDd3GmKzkqexWjrWe41Z9N5NlNgvUNRxoOsi+8l3cZF/PE4nHOFh3mPtSDzJdZjMq01iklrLVt40vW77kLusuWqUtTyJamtvYt2c//8/f/T03XH+TMzdhx+tjjdl0ne8mszWbzysp25xhwpsDyGZBD2iGTgwx8PsRan5ZT/UHVTS8XUPnT1oY+rKfriMdyAzBWGrS/pM+Uu+XU/OXjVT/bR3Jnyeo+qyCij3lTu5CRjDaDCofqWbi+8ME1gSdPIoyd/5jgnQLqR+VMfuiSyIqBZks9B4cpPqVeqxFNrJIyO4qp+vNHuQmQVqde0pmC9Pemkn9i01YgzbiE2LxGJs2b+Lf/u3f2LVzJ8a3mVx5tX9nHjx48PDt4qp3oJBM6T5kc+WHDSUonzgEYKIQfSBG38f9yH3iJMXVOJ+peiGzOkX24RThJ/yUbY1Td7CKvvd7aTvUiznFchL2YkLmhiwTjk+g/ql6J6muVdA9mmhf1JHx9imUMolIgqyqJaPqiEgan4QISphm3cLdlXdzruUsx5JH2O3fzXH/cT4p+5jXy86zQW5hQIZYZ67n047POZc4z53GZlbLSm61N7Cjbgd7GvezyX83t/ru4e3qj3mr6sdsNG5jmSxhrb6Wlyte4GDdPp6I/oit0Rf5ScMXfJD9hCPR1zgYOcjx8Aleix5la+wFrrfXslxW8kz2eQ63HecmvZFBmcQ8tYBdzbs4WHOADb71PBp7hINNB3mw4lFmygImy2yWqJVsD+7g85YveMDaQru043PDGfV1Dbzy0qv84z/8Mz+4425n66RPkKgQXhVi4vl+yp+tQKYK0iuU3ZGh9/VB5B4DPVEz8NowQ7+dQtXFWrKHMlS9Uk7Nzgpq9laReagMGRSMAYOWc130/H6Qmj/UUfb7JPV/V03rbxooezzhJEtGBavWomNLB7Pem0P4prCT99Ci8HX58bX6kQFF5vEsi368GFkqTtLnKsXE0yPU7mrBXuRHFgoVuysZ+WiE9NNpZIkg04XaH9Qy+525VD9Rg9FtIpaQSpdx75b7+I//+A+2bt1aItH+je7ly2mPeATCgwcPf5q46h0o2ZGRr+SnBGUIgeog1YtqaX+wk45j3Uz+5QzqXmum6Yl2qlZWY9fbGL2agccmMu3IFGq21pB9IkvNK3VMen8qU07MwZ7ic1asASGzuIxJB4eY/NoQNT+spPaOajof66D3hxMxWgxnh4YyaQg1Mad6AbMrF9LobycoEYISocVo48HOhznRfpxd6VfZltjKobKDfFj/Pheb3uKR+MPMlNmsM9fzWftnfFHzGUeSB9he9jyv1G7nldaXuTN7N7NlITf4buVC7Qd81PQFB5JHeL7sOV6u3M6+9l08WHE/11hLuSGwjt3VBzhRf4btie28EHme3cld7E7v5uHYw4xZY6wNrOWV5h2cHDrFluwDzJSZrDRWsG/CXo73HOXO8GY2+G7mmaan2N71IveUb2FT4m4eK3uas41v8EXvl2yv2E6/PUBABRARUskyHrj/If7x7/+ZV1/ehd8OIEow6k06tnSw6CeL6H2tl/CKMIHpAdoe72DO+wuo29qE6lVU3FHFwJuTaT3dScVLVWR+lKXq+WrqXqwnc2cG6RaMBoOmF9pZ8rsVlJ+pwD5g0vfLboY/7iN5U9TxNNiCmTJpvrmJsXfGaH+hg9o762i8s4nue3qoGatBRhSZOzMsfX8Jjc83UnVXFbW765nxyVwGTg2TWJtElglVe6qY9dvZ9L7fR/nOSuqerWfOa3MZfWWU2KKYs0vDEBqaGnnx5Rf5//71X7n1tlv/yHv5cgRinF6IBw8ePPzp4Kp3wHnIGk5xqPxODXdXRrw7weC9oyw+uZypb85h6OIMRt6Zw8zzS+h/dIhQRwij06Tn7j7mHF3A8JlRJpybyMSzI4wenUHdxmaMejNfoyDY7aP7/hZmH5vM5JODTD4xwtwT8xh8dBij2YmJ22LTm+plw+CtrO+7lQnRfoISxicBKnQ1S7NjbG1/gYPNB3mt+QhHm49wou0oxzsO81TNEyyShdxkruPz1p9xsexNjlcc4kDjbp5rfZKbym9kwB6kVTpZ7b+Rs3XvcC75NgcqjnCg8SAvtm9nc9UmpgQmUyu1tKl2VoZW8VzLc+xv2sPhmv2caHqNQ2372VJ5Hwv887kufi3PdjzNrqFXebz1UebLXK43ruOlvu3s6t/B7dGNTJfJLEsu5tHOh9gx4VV2Nu3hYP1rnGw9w/G2E2zv2s5oeBJhFUZEYZkWY9eM8dtf/Rmf/+xzmhuaERHsCT4mPT2FBecWMXJklPSNaeLzE0x8fJCFJxcz+uJkZ6dLu9B4byvDR6cx8fQI3cf7GDg5zOihyTTf1eJ4gFKazLWVLD4yRmJDElkhdL/YwYStHYQm+x3PhxJUUBEeDDF9+zRmHJ3BlBPTmH5sBjNemk7jdQ1IpxCZFWZ42yCzzs5m8NQwg+eGGbkwyujhYcrXZ5CVQnZnOcOfTaL1ZDsdh7oZ3DvEyI9GKJtZhlFmIJZTdGrGrBm898F7/Oa3v6FvYt8fcS9/nYaJRyQ8ePDwJ4er3YFSXQTtVn9UbkEildWEBiOklmQIrUjgWxXDtypBeCxNeGoMI2MgScHqCBCYFSWyKkn6lipSN1YRmBsv1ADIFTeKCXanJrE4RPlNZSRvTOBbEHDyI2KCmIJP+am0quhPDNIfG6bSqMEvQSyxCUmESqlmbngON6Zu4KbEOlbYYyzWC7jGXMg8cyajMsIGaz1fNv+UncY2bpV1rJJrGJUh6qWerFTQIK2s8t/Aueo32aX2s07Ws0pWM0km0SzNpCRFUMJEJEaVVDNqjHBdbDUbkjdzQ2QNywJLGdZDNEkjXUYn0/1TmBOaxfTAFNqllUHpZ0F0Lgtj8xk2B6iVKmqlkiF7gLH4MtbGbmSVcR1LZYwFahGzI3OoMWrwiz+vWtnV2cXBfQf5l3/+Fzau3+hUyCwTQiNRwguiBOeFMLtNjEaT8KQoZQvSRKfEnXyFoCB1QmB2lLIbykmtyxJblSQwJ4xq00hE0EGNrjOpmFGN3eJD6oXQaIDAkB9JF4miWYLEBXOiSWZFmuy6LNFVUcxRE6l25y0jGL0m2bXlJG9Ooxcb6EWK0CI/9qCFXqwp31NB24VOZJ0gi8QJxTSKs8vHDTfEEjHufeA+/ubv/oaXX3kJf8D/R4QzvloEzSMSHjx4+BPE1e6Au3pztR4cFUunlLQujiPnQh656oZGTjFTOds8tfue5b6XgyjE1PmS1fkqicWVLS1xEitNcYiMstFiY0oQW0JYyo+hLJQofMqHT2z8YhKXMClJEJMoIQkQFh9pSTKkh3g0+gi/6fmCw8GdrLevo093kpEyIhIjIVm6dD93xe7jk5ZPOBs8zUb7FgbUAFkpxy9BVwzL0QUxlY1PAsQlSUKSBCXkVLMUP0EJ4hcfpmhXHtvCLz7CEsInNrZYBCSALZZbptvELwFCEiEkUQISwhIfhquZoV3xLyWKcCjMyrFV/P53v+fEsRP4/EUG1ZJCVVG76LVSiOGWiraktFqlX1CWcktqGwR9fkfDQjukUQUkXzlUm4JhKJRSaEvnq1fmq2QGxNHQMNzS4YbTTq5KqQqofP90xiC+OkHHyU4mXOwlcG8Aa5rlhEssKcnH6e3r5fBrh/n8i8+ZOWsmSils2/yG97JHIjx48PC9w9XuQKkLOCfvXZAEd1akSitX+yGn2mnhSDDnZJhz6pA2Ij6UBDAkhCkBDLHyYk/a1W3In1tpRLsy43mpaANH5bOg9JnrrxLBZ5h5yemcVoW4ehcplWJubD77pu7jg6F3eXfwdV4YeJIp0SHiEsESi6ikmJqay8vDO3m//yKfDH3Izv5XmOqbQkSiTl9d0qQMhWFdTkXyj8TX7Q7I74wpls0WspksK8dWcu3Ka7G0nVcCLYiPqfy8Oe+ZiPhREqRY/VIpwVAaW/kJGWFCOkhAbHxiEjL82KognparGeLoXDiiX1o7bSlD0JbCsA1My8IyffgMPwHtx6997vk0pi7Mebo7zbQnpnPtT65l5ZfLWfL+QroebHWSbXOaKO71V1ZXsnDJQhYuWUgg5L9knC5V5yyGRyI8ePDwvcNV7wA5pUeVl2ouVnw0kbzstiOZbblqncpNWnOUGQ0XFqb4sSWAX/yuzLXO6zkYojBdGFJU4KpYryP/uqDKqVxp7hy5yRk7ySt6OucPSIhas4E5qQUsCy5nVXw1U8Kj1BhZohLEJyZBCdNotzM7Np9VvpWsi61ldngW1boaW2xnTP4LWwP/K6qQpZLjjvH22T78Pr97zSrvsdDjDGJBAtsNS8mlMtfFJCVPFtxjDRlvoMfnGIyT0FaCoRSmaGzRWGJQUCo18tdipC3Cw1GSS+PEl4eILw7im2g4dUYMKXgxRNBaY9s2ts/Ov/fN4ZEIDx48fO9w1TuAuPLPzmo2p/aYIxMWIj4cImGgRWGLwpJCzDxniLRrPEyx8iEHnxiYUhCFyhEBh0g4xugSElEMLUVEJUciigiPGIgbelBiYIhNUEUpM8qJqSRlOk1Sx4lIgICyXaVOm6hKUq6ryKgs1bqKlE65+QhfYWT+G2sNlBr3Ymnr8e9/XTuFLbqmlBKDElJTdC1aLkcgLte/wrGOlHqOSDg1RUxRefl0ww3vKCVO2COs0QmNTih0SqFSUhD/0vLHbeMcd++WyM17JMKDBw/fL1ztDuQevk5oQhXJSOeJhHLDDUrlC1GZuWNyUt95b4Yjh22JwnI9Dnr8sUoVVrO5PuSTO9U4AuH0s7ACV3kS4cB0ofN90Mp0Qyi5HA83PKOcGL9SGkMsuRCI/wAAIABJREFUfBLELyECEsIWq9Q7cjkoJ/k0lz/yzcf3UlJQeg2515cnEpcQiK/xkBS7/L/OI5LTJDGLvnO5tlVRuzkSodw51cqZZ6tIot0WhS2CqR2JcVHOnKpiVc9iz9N/6f71SIQHDx6+t7jaHcit5m1EbNfwSj4XYrxbP6emmScGeRRi847HoGh1W1wAqFjgS8Rd+WunDzm9jJyKqCo1gAVXesEA50hCPrxRVPOiBGr8ZwqlDQztw9R+LG187WpclIFo08G4XI0rj617bS5yJMsUh+gYbogoRya+0Zypcdd1mWO+aSilxLMwfk7HtVdMIvLzqh1iVghRKVcoTfCJYBXNs6E0hjacXSa5AlDfmmfnm5AIj0B48ODhTw5XvQMUch9MxPVEXNmtfalYVzGJkPyKerz7fFz1QFWI0V/ysP+aVXbxSj0X5sgb4G9MIiRPJJQy0UpzWbd/yTXkvDLFiaCXO/bKq+NC/ojpwqDYI3G5cMYl57lSvkZR2fKv8z4U/1+cN/FVXo6SfIiiYwsy7YXPxodTch4kI58A+m0Z9MuN1ZVwtX9nHjx48PCt46p3gD/2YXul2HrBaF6GRIgwvvxw4Zhvfv4C8Sh2948zSl+lmTCO+Khx1Qy/2gAXEaGv7OdXG7PxYYvL4WuN4NcSrW8292ocvqrtYm/E+PbHt3N5jL+2/4571yMQHjx4+F7hqnfgW8Y3f2D/Z3YwXP47/3kj8Z9P6Pv28Z/d0fHfN66XP+Zyx35bfffgwYMHD38UrnoHPHjw4MGDBw/fTVz1Dnjw4MGDBw8evpu46h3w4MGDBw8ePHw3cdU74MGDBw8ePHj4buKqd8CDBw8ePHjw8N3EVe+ABw8ePHjw4OG7iaveAQ8ePHjw4MHDdxNXvQMePHjw4MGDh+8mrnoHPHjw4MGDBw/fTVz1Dnjw4MGDBw8evpu46h3w4MGDBw8ePHw3cdU74MGDBw8ePHj4buKqd4BvR+nQU0z04MGDBw8e/i/jj/tCQU752+pATr57nJz2f7qN8e18E2Ix/pj/fjLyP0t10iNfxXNy9eflq+dD5SXk/+/34ZuM0f+MMfTgwcP/JYx7QwtiCmK5MAUxBFE5AqFLkDfaqtBGnmgoKUAu9wAab/yvTCRybRYg6HxbuXaMce2MJygKUcUei9JjCgRJI+ryfSk9r5ReY8n1Xubc49pRMv740vEqjJEDJQotGkMMDDExxESLiRLD7XdhHnLHmGJgiEIpd24tQWwXpvueyvW1MNZXJlauAcu1V9LX/27k+nnpWObn5JJ+Xdkgj5cWv+T+vOK8jmvrkmO+5v2S77r3pMrdc+N/C+Og3O9olZ83LSamWNjiwxYbSyxssbHFxhQTw723L+n7V87dlUiEKvqd5O5JVXIvK+W8V3qf5p4XHln14OFPDO4/uQedz0XYRUgQvyBGgURo98FgiIUWGxHTfRA6xxhioEW7D7rCyXIPe0NyD/1igz3u4VlCPoqNp+H+L1gimPl2DKcfJUQiRyyMwnmKHtalREij3QeiKI3oy/ffcM9puK9FO2OTh84dr9z+5Pp0BWOWN3iq8NrIvVfcfwNDNLaY+MSHJX60WNgSxJYgqmQONKb40WLiF5OgmJhaOcQhLEhckJggAXGIhIg7Hjkjqkof+ErcMTMcwqJUgYCUXLNcukK+ggH9KgNeSjKL+2AgynT/qqL7ozAnYkgJ8c31u2Ts80Sr+F4cd/4cGRkPNb5Pl7kH1LjP9Lj3VPE5DERbiGEh2nSgDBe5+9QZd+feVYihENNADOe+0GITkBAxSRCXBBGJEpYIYYkQkgA+MTFz97pSpX37OhJ4Sb9zCwmnT1o0lmjM/JioIhJh4pMgQQnjFx+WmO595XkrPHj4k0HJqksLkhASQ3HKF5VTtrgM34gPqRTEHk8iDLQYKGU5D0JDOUTDfYAorRwyEhHHaAUFsQSlxnkQlC48NC9HIlSOfCgMFzlPhClFJELlSETOaOcw7j33XMolJEbOMIrGyK2qlEa0gVIGWmm0e62GKCwRbBemSGGFX2IsHAKhJEBAxQlKDFuCaPG5fdHFE+BeY85QqHHeAecatJjYYhKWAN2JbmY1zqG/fISsrwafRBwyp5xxt8SmTGUZrRylyaomJj4MpbDLbaKTosSXxAjOC6InGEhCHMM3jkSUGJs8yXHfN8Uhl8VkJGe8iw3TV6zEc4Tycsj3ocRDZCBiI+JHiQ8tVsm8WaIcEnEJCTMR99gcSXTuYQNbDPzuXys//wWiayiFVu4cj/MwlXjFVDGKrkPloNz7KEdci1fuJqL8RbARZVFKHi1MsdFiOZ8pE6VtDO3HJ0GSkqFa6miWFlrzaKVZmqmTGrKSJCIBrPw4aAzRaJX7DWhMlwjkiFUBLrEumTfl/h4sbLEIioU/5w3Tzjj4xKY50crE1BDVqpaYRAiIDy1Gvh2PRHjw8CeAEhJhCFIuDN01yIJ985l1fDbld5cjXeJ4I7TkH8Aq51L1acTvEgbLaUMZgvgEXa4JTA0RXxJH12jH8JSsYFXp6jLvRXAeWsUrQqXdB3LRqk+575e0cwmRcIyIY0hsRGyU2JhiExCbgFhYeVJUbGQsbPETlCABCWKL33UNOwQiKAZB121sKB+G8rkPeie8YEqAqKSZ3bSQOdXzqfc1EZYUpkRQYqNKHswK0/UuGGKjlZF3E2tRmKLxiUFYfJRJjE29Gzl43QEenfEE/akRAhLLkwitNAkjztLqhbx0zfMsTE8nrcMYIpT3lTP4wADTDk9hcF8/6VvSDkH0iUNAxDWYhjheC784BMHnvidF7zcKmcVlJKbHnTaiUvBsXGblPZ5IfB2JKBhrx+NliR9LQtgSJiARAhLBJ0Es8eVd9qYoLNHYynTf92NKAFP8WGJju0bPJz4C4iciAaISICpBwuLHJwaWCD7RBMVHSPwExcYvFrYYmK7xdc5lYYkPWwL4JIBfgvglQMBtxxaF7c5bQGxCEiTo3keGmPnx0MrClBC2RPFJFEtCGOJzPEtioMTEJ34CEsIvYWwJY0oIS0L4VYS0VDDJnMLtqdu5P3oPD4Z/yMPhe3k0+iAPxO7n9ugG5vtm0iDVRCWcv/aQBAhJkLAE3ev0ERSboFgExCQg2oWFT6w8wcgRLFsMAuIjIgFiEiAkPofoaYdIJcw4K3tW8uDUh1iYXUi5ZAhLyLl28UiEBw9/MriERKSFtlWtDDzTz7wPF1CzvRYZlEJIw13tii2Od6FckApBUuJ4HQLusWHB6rKofrCO5lebMUdNpEocYxMUxzCZygkbKLPITZ0jEq5BM91j/VIwaiEXuXYsKbSTIxA5D4eYKLEwxJ9/WPslTlTipCRGSsJEJIDfjR+bbrggLCFSkiAradKSJiZxghLEFI1fDBISokziJCVNTDLEJE1UkgQlgiVBQhKnRjXx1LzneHr4aWZEZ1Ap9UQk7RoCC0MMLLHwS4CIJIhJiogk8u5fW0z8YhASi7j4SUuUeqlkc+NGPlhzkWNLjjOnYgEhiaOVlV8BNvpr2DnvBd658QzXZOeS1XFM0SRbkrStb2V0/xCz35tO05P1SJ07jjkjb7qv44JkxCEIaWc+xeeOe1SQaULn9jbqH6xFhgSpFser4d4n3waJcMiYn6CEiUuSMsmSlUoqpZoKqaJMskQlQVAiBCVEVMKkJUZWUqQlS1KyRCVFROLEJEZC4qQkQZkkyUiKCimjStJUSTnlkiYhYaLiIykRKiRDtVRQKVmyUkZKokQlQEgsguIjKjFSkiUjVZRLFRVSRblUkJY0UQkRkQBxCZGWOJWSoVoqqZBKkpImJBEsZWIpk5BESEiajFRSLpWkJUNU4gQlhC0BAhIiLnHSkiYtFZRJJUkpJyEZyiRLq7Rzk38d5ztO82b6DBeTZ/lZ5UU+TL/N2+UXOFFzmHuTm5koXZRLhqQkqZByaqSKWqmiRiqokDQZSZKWBGlJUCZRkhIiKUHKJEZKosQkQER8hMQiLBZxCZKRBFWSployZCVFQEKYykaJJm5GuaHneo4sP8QTI4/RZXSQkDiW2Pn590iEBw9/AiiOgSulHQNSJsg0offwRCperERGxCENuZhvUFAtitjsONkbM2TXZUgvTxGZHMKsM5CoYNaapK/N0H92mAk/nUjkgRjJtUmy89ME2wLjDI52Y8NFsWAtSEAI1gVJDZVRNi1NcnoZiZkp4rNSJGeWkRiNYzWZDnkxVD6G7Hxf5T0UWmxsCZJQWTqi/cyqXMRY/QpWN4yxuHoOA6lekhInIAEiEqE92MLcyhmsaljG6vrlzM/MocvXSZkkCSgf1f4KZlVO45qqJcyLLWBudBFLK5aztG4ZI+lJZHUVlUYdS6tWcmHNW7w+73UeaNrC6prrmFkzl5Z4B1EdJyRRqo06RtOTuaZuGSvqV7KkaikDgX6qpJK4xEhJgiarjumZUVY2Lubmhuu5J/UD3pn9DqfnnGFxxVJiksBUFqYySOooczJT+dmG99k1tJ1hfz8JSWCK6cxts5Ban6T/RC+NT9UhDc445wlEXDC7TSILI6TWpihbV0ZqRRnh0YhDGEOCv91P8s4k/Rf7aD3fQmRLhOR1CdKzy/DV2c698l8gEbl8GS0mMZ2gK9TD3ORcFvsWs0gtYoVvBSujq5gVmku72UWV1NIibUwyRhkLL2RNfAVjoTGm6um0SCv1Uke/byLzY/NYHFvA3OAMhqWP2cYUlkUXsiK2jPmBuXQb7TRJLUNmP8vCy7g+upY14TUsthfSK53USQVZSdASaGRabDpLw2MstcZYaixldWgVY8kxJgcmU6mqyUg5XdLJPP9srouuYm30elZGVjDdN5NWaSMlSZKSoE3amemfzYrIGKsjy1nkn8eQ7qdB6qlQFbRbbUwNTWZ2YBbz/AuY51/EHN8CZvvmMd2eyWxjDneH7+Ji/1vsCb3EKf9+flX3Madjh3ktvo/Tja/xaNX9jMog/WY/c5LzucY/xlK1hFXmGGsiK1gSmc+INciQNcjsyGxmxKbTqVupV1WMhgaZGZ/MpNAAHUYjNZKhXioYMHtYHJrPdbEVrA4uY6E1h3Zpp0wy2OLHL36mpaayc/YOjo8dY0lqMWkpwy/+fDjHIxEePPwJIJcAZYoPQ/yOG9UQZIIwsHeQqm3VyLAUsvl9gq42SG0qo+d4L31v9dD9egeD5/to39ZMdHYYKROCQ0E6t3Yx88t59P7VEJkPqug528WkHYOUL804K9yg06YqziXIEQBDkDJN1ZJaBp8ZYXjPJCbuH6Ln0ADdh/qZeGCI3q29xJaF0ZXK9Ua4F5XzqhhOm4bYBCTChOgAPxx4hMMLTnN+weu8segsJ5ce4bGpD9EkDcQlQXuonbt67uC1hfs4P3aCs2Mn2D93N3c030q33UFcRRhNDbN99jYuLDnPidETHBs6xtnZZzi17CSPTX2M/uAgXb4+Xpy1k19s/C2/WvFr3p3+DqcWnuCFRVu5pn2MarOeZl8na2pu5tWZezgz7xRvzD3Lm/PP8mz7k8wLzaVOGumwu1lTs5ad81/lzPJjvL3kAhenvMfvVv4FF+a+yTXZMVKSwu+6oRv9VWzpuYvf3vZzbovcQpNqISgxtJjOGGWF1LIU/fsm0vBoPVIj+VCV+AV/t5/yH1bSdLqF5ndbaX+rg4kX+une2ov0CBIWEgsTdB3pYvjPh+n6XRcNP26g63QH/c/1kpgec8MjV4B7430didCisMSi2qrh+sq17OrbydHKIxyOHuR49jivNR/lybpnWBoZY0hGWGOuZWv8OY5XHOB83XFOVB7l2dgzLDOXMFVGuSV+M3vad3O85zW2Vz3DTWo1j9j3cKx9Pye7jvN8+jlWWGMstRfxUOpBjlQf5UzV65wtf51DqcPcFljPJNVPs9QzPzWPJ5uf4mTTKU6lT3IkdpBTNcfY07GLu2vupsXooUm6uDG8nlcrXuVM7SnOV5/lRM0xXqjYynI1RrO00iO93BzYwMvZlzlWfYgTlQfZn3mVhyNbWKQX0K/7uC68iqfrn+DF6hfYUb6Dndk97Ezv5pXsq/yo7CluC9zO5sgd7OnZyRq1nMfkPi42nOWh8N38wNrAMzWPsqn2FkZkiLHgKl7o3sGJ6rMcDB3iROI1TtYd5pXG7WyMbWBdcD1PN21ja89LjPnHmKh7+EH57WzteZonmh5hWXARwzKRhfZcHkjez6HqQ5ytPsXp9BEOJF/ltsAG+nU/SUkRlDDNqoV7u+/jjbVvsKX3fqqkioAErrw99at2sXjw4OF/JpyYu4klAXwSxtQBZ1XfoxjcPUz1tlpk2A1fWIKEhMDEALMuzGLSl1MIHw2gdghNr9cz4Wgn6RUppEyw222qf1jL6AfTaP91L+FDMWqfq6btribik6KOt+MS13cRiVCCZAzKl1fTu3UiEw720XGkh5ZjXbQc66TjSA8Tdkwgfm0UXasK8fhcoqNZeG2KTVhirOpey9kb3uLdxT9mb/M+9rbs5Ny8U+xdtIdemUil1LCx71Yu3HCG4wsP8kT3wzw58Dgnlh/j3MrTrK+7iawqp883kcf7Hufjaz/mr275S75c/jmHJx3k2dFn+OGkHzKUHKLD7OSHXffzs5u/4NOxz9jbs4cnJj7G7QMbmVoxiRazmWtr1vDmte/xs7HP2FOzg93Z7fxkytv8dvWXPN/1DFON6VyTXcGhBcd54/p3eKzvYR5q3cI7cy7yl7f8DefmvcnizDWkJEVAbCLioy/ayc5ZL/LpdZ8wZo9RLbX4JOTEq01ByoSyJWUM7Rmi8dEGpFYco+96fqqXVTP13DTaf9aNccTGvytA0xutTD0zA5kkSFLwjfipeKaSiV/00fFpO5kDaSqeKKd2fQ2h3tA39kR8FbRobOWjwqhgLDHGvq69fNb9U37R+gUnak/wbOVz3FezhdXJ61hlXMue2D4+afwJZ/zH2Cc7eD10ho8a3+eF5DOsMVZyS/Bm9rXu44ORi+zNvswGuZ5H5F4+6n+XN3vO82T4cW5Vt7C1/Dnean6b8/E3OShHOW6e4eOqn3Kh/hRrrVV0SAej/qk8lH2U91s/4Dddv+bH9e+zK/Mqd6fvZmPjbbSYnQzJJF5se4XXm97gePA4h9RBTsaOc7LxOLeZt9ErfayzbuJU4ynerXyHo/6D7Nc7eaPsLBcb3ubJ8BPMVbNYH7iRHfXbOFizh6MVr3E8e5KTFad5reoYW7PbWB/awCJrETdl1zFFRrhf7uRcy3E2RTewQGazNLqAafFJtEk7s+1FPFGzlZ9P+DN+1fhb3qg5z7ayZ3i45gFuiN/IanMtT9Vu47WRU2yIbmBE9XNL5Eb2DezkQPde1kduYoWM8Uz2Kd5tv8g7mfc4Ksc4o4/zcfl7vN1wnnX29TRIHTGJUimV3NC0ljOrzvDqrB10SDt+8V3ZA+GRCA8evnsoeCJsLBVALMsx7hOEiXuHqdxejwwbhdoCYcHf52fKycmMfjZC5EgI8wUD8zkTvUkj/eKEF6KC3eOj4aV26k43Yc43nbh5RJy4+iVJeEV75XOeiLBgtJr45vjwrbKxr7Wxr3dxnY1viQ9jgoFKqfzOj3wyZhGJsMQmIklWtK3hxKozvLPoXfa27OH58qd5KLOFtbF1tEgHg2qUIzccY/eC3SwuW0it1FIttayoWcXpFWfZOW8PHTKBMqlgikzn2MLjfLDyIo82PMSwGqFCaklLloDYJCRCm2rj4NLD7J92gIXxhVRIBVEJE5cgfZFWnht+gj/c/Be82/suLwSe4gX/45ys3c9frf4Nb88+x52pzTzW+iTvrPyIO+p+SJVUk5YUq4OreXPsHY4vOMuS7CrKpBy/BIhKiEnJAc6sOsFHqz9ipj2LjGQIiN/JijcESTkkYnDvIPWP1yL1UvBEaCE7L8vo8cl0fdxL8GgEc7uF9SMLvV4jrc68SkhQ84XuI+00bq1zyEXanddc2Ct3g6lCcaQ/plCZ1hrLtAlKiEbVxKbgJt7tfJud0R0s0gtpkVYapYk+6WdTdDM/bvqInyQ+Yr+xm1eMbezTO/lx9XtcaD7LpthtTJNp3Jhcx56OXbyUeZ6VsoS71Wbe7n2dR8NbWKTmcIe5kXPVZ/i49hOOG6fYZexjj7GXc8GzfNH5MT/yPUyvDJCVOhYbKzhQeYjXm9/gfv8DDMgwaamkTLJkJEW/TODphqc43XiGI5EjvGK8zHPGMzygt7BCljNdJvNi1VY+bfqYN0MX2GXs4gVjO4cCR/io8iPONpxhpSxnpprKWnMVG82buMPcxA/Mu9hs3slG8zbGzJX0G8PUSgPVUk2tVHGrrOdo+yE2xG6hUzrzXoGQxKmSFlZa6/iw56ecr3idm811TJBOqt2cjhbp4vrUel7t3s3G0DpGZAKD0sMDVfeyo/5lNgQ3cIe6g2NVx/mk+TPO+d5it97PbmMX7wRf5/d9v2Jr8An6pZOEmw+yvH4pJ5cf4+C8AwzKABEJXbLbo2TuPRLhwcN3C7ntWlq08wO2xTH0/UL3oV6yOyqQaeIYj4g4W/pqBX2DpvJYOU0X6+j5rJ3+L3vI7koj88VJyIsI/vYAvS8O0nO6F2uW5SRghsUxWvmESCG3n1/lkipz9Q4yJu3rulh6dAnXvLOYRe/PZf6Hs5jz49kseH8By99YTvPtzfhqfO7OkXEkwm3fFh8xSdGpJnB7xe0cHjjAh3Pf5YsVP+Xj1R/xbP9WumQiCwPXcPqW8zzQ8SAj9gj10kC11DItPpMdU3dxYvU5JsokMlLLTJnH6aVnebn3ZWYFZlEuNcSkHL9EMEQRFj/Nqpl9K/aza9Zu5iXmUS3VpCRJWmJMTvSxe9qL/PW6v+R/X/PX/P2qv+b/XfPX/PXyP+PPV/yS05OO8lDlA2zreZmzi95lkV5JWrJUSjmDMpHDcw5zeMZxFqdXknJJREwiDCUHOD52jHPzX2eONY+MlOFXFlq53qQKIb4yQceRbrLPlBeIgd+d3zZBrzeJHUzR8JNW+n89zORfTqX61WpkVByyEBX88wwm7e+j/UfNTuJtRpzwVC7s5RIJUyyCEiIsUUISdnaz5IsffcWNqRSmsolLijbVwV3Bu3m98Rx32ZuZKH3USA1pydChOrk3fR9f9n/J7xp/x/9q+h1/aP5f/Lb6F3xe/wkna45za/g2+mWIUXsKW6of4ELfGZ5Uj3EguJ9TLSdY5b+GfulgU+QW3mg+z+86/4w/1P+Bv6j9Pb+s/zmfNn7MR/Xv8oz/SUbVDKqkjSVqNbtTB9hVsY9Fcg3N0kFEyghKhLD4qJcKVslyXgq9xOvlF3i//l0uNr7FgfK9rJHVzFUzONK5n1+0fsqfV/2aX9f/ii9af8lnjb/g45rPOJQ9ynV6DT+Ib+bQxAOcnHCcc53nuNDxOuc7XudM3zl2DOxmTe06qqSOiMRIS5pNchunWk6wMbqBTukiKSl8EsQnEaqlmVXWjbzX8mOeNp5lVEaolWrKJEVcktRJE9eV3cjOnl3cbt7MiPQwKhN5qvxxDtcdYlPwDrYEHuBc3f/P3nuFWXVd+b5jzrXWznvXrqpdOWcqJ6qAIlNAkREZRI4CkQQCkUSUULAkJCsglAAJoWglW5atYFtWsKy2Tju0u+3uvvbp7vOdc+7Lfbjfd99/92GttUNVgZAcsHzWw//bVSvOtOb4zzHGHON5ftL8Uz4t/5zPij/n47JPeK/oHT6s/wH3Ro7SpzvIkRDFksOSyhu4sOBpnpz5BKOkh5iEMZLbmO2+HhLg63pPih48eLh2JIM+KbG1A2WCdAqyQqh+pZqcZ3OQjWJ74FcIqkQIzbYY8e06rFstzPUG1jaT/Cey6Xiriaq9FfYujJAQqg0x5p6xjH1jPP6VfnvFOlEITPfj7/AhOYIKKLRhpMUGUClzRJZJwZhKOjf20XPrGNr2t9B0YAQNB5touq2Dtp0jyZmQj5FtorXYe/pFUj4Rll1JSyxKpJQtXVs42Xk7exJbucm/msOJfVzsu8CbK7/HgG8ubaqHexbez1MLnmZHyc0MSD8DMpW9FXu4vPhF7p5+P9XSSJU0siiwkhdnvs7j3c+wJrqJMTKFWmkjJvkEJUJQwlSoWh5ZfI4Lcy+yKrGSiTKBKcYUZoRnsCB/AYdaD/Hhig95fdTrnAyf4EDoNg4Eb+P2/CNszdnKfN8NbK/Zw/l5L3Nr3e2MlXGMlz52x7bz44Xv89bMt1lduJEqqSFLYkQlQnOshXsn38/3l77LXN98EpKLaWhU2OnbsUJob5SS16rJfroAuUGQdrF9VKqE0rXFFJwswHdrAHOziXXYT+JyAf0/7ce/3kLlKyQqhCb6mPjIaFq+NQKZI8goQU1WWAMW0iLJHR9BCdMbHMOSvOVMyeqnWIoIiM8mrVcdnBpLghRKGRPVFE6H7uK7JW9ywjrKQpnPGBlFjVRRKzWsyF7OheYLXCp8jtPmHdxt3sk9xklOGrezy9jBNDWDammkQjUwJ7qAZxrP8/aI7/H9hh9yJHA7HaqFEsllhn8y3669n+/UvsSj5oPcY5zibvMkJ8xDHDEPskytoEvG0i7jWCc7uJj1EpfyX2W77OEGWUSXdFMixeRJgmnhfg7FD3I0cIRdxs3cau7kkdj9vFZ9mTtzbmes9HKwbB+v1l/mfPQcp8zjHDAPcNg8wWHjLrbqffSr2cwKzWd9xU1sLt/GzaXb2Vm8g+0F29lafDPLS2+kO8vWgBRKGb0yhmNylLeKvsPJ0GFmyzTqpJpsyaZQSuiVseww9/Djyg95RD/CKrmRSTKBWqklT/Ipk0puyFvEwx0Pczx8O0tlPjtlM5cLL/Bm+evsC+1ji9rEw2VneLnueR4y7uekcYzjxjGOGAc5Zu5jtVpAk5STkBAVUsjaupVcXvoc902+l0ZpICR+9BVih3jw4OEbCDcugijBDBrUzihh4KEBJr/ST/+949/TAAAgAElEQVTPJzPx83GM/95Euh4YQ8ENpRiVmsJluSx5eyETvjOetqdbab3YzOjvj6T7hXYKVuchBYKEBF+hj7pNDSx6ZzF9l/voeqKDiRfHM+nB8ZQvKrW9/bUboCotCqQSxGcgfo0Z9RHMCxMqDhMsDxCoDOCvDhCoChKsCGEkTMRK3e8G+XHNGdpQmGJQKqUcHDjAdza/wCuLL3J+8mNcnnqBt5a+weNzn6TPmEielDCzfi6PLnuMy0sv8fTAOS7MeopXlr/I2QVnWVSxhDKzmuWda3hqybP8eMsnfLD2I15Z8iaPzH+SDSNvpirU4MQnCJCjCtk5Zi8vr32F5+Zf4MlpZ7kw/xkenPsQ65s3My+xiEennuX91R/w0rRXeGb8RZ6d/jwvLHuZ4xNPMi1vgKkFs7hz4AyXVr/K2RmPc27yo3xv/nf4xebP+GTjp9w/8UHG500gKhFCEqIiWMvurv18sPFDthZso8oox69MQqU+WlY30v9EPxN/OIVxn09h3KdTmPDKJKZ/q59QXxCpE0bu7WLOK3MY/9okGp9to+6FJjrfHsm4V8eiZyskRxCfoEcoRh3pYvbz0xj95EhGPtrJ5POTmPJIP4HJQSRsE9M8yWND5SbuaL2LZQUrKJFS/OL/EhJhRyANSISWYCcHm2/ncueLvN/5Hq83f4dzbY9xa+0exkXHUiol9Pp72Ve2n2e7nuVi1QUuFj3D8xXneb7lAnfWnmJ6dIACKSMqCVqsDo4UH+Ltsd/lUtNlFplLKJV8ssRHvSpjQ8FKzjU9zOXqC1woeJzzhWc5X32Oh5u+zarQOkarySwt3MCZxnN8v+1HvNvyEy43vMzDLY+yung1FaqcfClgTv48Hu58hBdaLnOh7EmeKXmMF6qf5mLtWbZaaxkhtUz39XNf/d1cajrPMzVP8ETV4zzV8CyPt1xiX8VJRsp4ynU95b4Gyn311Fi11Fm1NJj11Fp1FFklRI0sYhKnxdfBwc4jvNjyAh+2v8drzZc5XnqAiaEx5EkujaEmbq7dyfmuZ/mw9ae82/ADnml7iqPNh5iSNYkiKSYh+YyO9nF4xBEutJ7n6YoneLnyEu+3vMMPO37AHfE7WCwL2Zy3jocb7+di3ZOcL3+Cp0rP8VT145xreZDNuSupN0uJS4AGqWZ3804uLX2O7S1bKZVCguLzSIQHD39PSIaMVgrt0xR0xxl3cBwjT/cw4nQ9I+6up/3OLhp3dpI7vhCVUERGBunc00br0VY67+6m/d4uRpxqJH9lPr5GK2kbV0FFuCVM4/YmRp7upvN0G13H26haW0G4NZRcrSonEqUpaXECDNc3QtnxJNwASH6xNSau6twSlHbvV6k8EW5AKiX4xCIhCWbXz+aWCTs4MXCYuwdOceeUk+zp2cP0ghkUqzJ8EiIvUMhA/WxumbCXO2ae4vTMO9gzZjcDpdMo95WTYySY2jSdff37uGPKKe6YcCd3TD7NwSlHmN+4gEJfcTIscFAidGZ1s7N3O3dNPcldk09wZOxtrGlZxcjcXqrMOqYWzOCWUbdyYtJpTky8k+P9d7Bv8n7mjZhHXaSWEl8ZY0onsXX8Tk7NPMldU09y57jbOdV3lJPjT7CheTNNWa1YTmClbKOQ/vxZvLHhu5yZ+ACdoVZC4ieY76N+bi2jDvXSdlcbjfc10nRvE20n2hm5vRt/ox9JCGX95XTu6abr9CjaH+ih9UwnNbfXkbM023bCdOOA5Ai547Jp29FM352jGXVnLx2HOilfU41RbyKm4JcATUYje+r3cLD2MJPD04lLHlp8yfDHaQNxSFRInwSpDtSzum4duyr3cLjsCEerjrK/fj/LS5bTEmwlRxIU61J6AqNYnbeaw5UHOVV+jBNlR7itdA8rcpbQYbWSJVn4xCJf5TA1NJY9tdtYlbuSJj2CmAQIiCJHwjT76pmfM5c9pbs4XnmEkxVHOFh+KxtLNjHeN5lqaWJiYgY3Ve7iWNUp7qi4k6OVt3Nr/V5mFcwiT+WTJdm0B7pYVbCOAyWHuKP0BKfLjnGkaA+rI4volCbyJZcyKWZaZAo7yrdyuPY2bq85zIGaw2yr2M2s3AWUShURycaSGKZEncBWfgISJCBhfMqPpezAWFVmBTfWL+dAzX6Olx3hSMVtrM1fQWuggYgEKA+UMr/0BvbU3crRgmPcWXyS2+sOsqlmLV2RdnIll4jEKDLKmJQ9lVvr93Oi5gTHS45ypOAwtxUfYHnwRjqlk1ZfE/NyZ3FL5U6O1xzhWNlh9hffwk1lm5gQ6qNI5RGXCJMSE7i//wHOzT/H9NxpJCSHgPi8rZ0ePPw9wdZCGIjWKEOwsgxym3KJd8QJtQYJtQeJtWYRrYvjKwggIUHnKsK1YSKtEXLGJMgZnUu4I4pZ4cRscINIaQMVVgQqAuR0Z5M9Mk5WWxRfheXEdrAL4ZKIjFwGaWGXlWOqMLVgaCcippl2XikMJ4a/IYNCUYvgE5OYRCkNllIbr6GtoIXRJb30FPRQH2sgofIISgglGtP0EQ/kUp1TT3dxLz3FI6nNqiZHx+2Ih8pHYayQEYk62nKb6MhuY2Sim468dioiZYRVyK6Tsv0B4hJnRKyWvoIexuR305HdTEWwjJiRRVCi5OpCqmMNdOT3MLJgNF0FPdTn1lMYyidqhPArPxEzi4p4JSOLuxhd1E1PTjtdWa20ZLdQFakly8xBKx9K+bEkQnmglhNTT/H8+ueYXT5AnpmNL2ASKY6QPSJOtDVCpD1MpD1MtCVKVl0Mna2RgOBP+InUxYh35ZDTlyBnbC6htpDtz+JGrjTF1kZkKyJ1YfJ68kj05hFtjmGUWba2QokTK2Asu5t3srpoDSN0K36JMiSXhT0QB61O7aihESOL6kgttYF62v1ddIS6aIt0Uu2vI0fnEZAwAQkTlxzKdAXd4S7GRvroC42i099Kra4kX3IIiw9LFCExKdFZNIbKqTBLyZIoftFYIgTEICpBCo0CmgMtjIqOYmx0DN2hLmp99RSqcuKST5GvgsZgC13BLkYGO+kOtdMRaaXEX0pQIgQkRI4kqDYa6PD1MC44lsnhPkb726lRpWRJCJ9YBCVArmQzIljPyGg3o6Kj6Ip00xBoosgsJiIRAjrkRFp1wqU7CbuU0nYobSVYoomqIJXhElpDzbT72+gItlHrryJbR7FEEdEhygLlNISa6LA6GOXroTvcTkt4BAVmgpCEsCSAX8LkGUU0R1oZHR3DqGAvXVYX7b4OanQdOZJDRMIUGPk0hkbQE+umL9xDt7+NBn8DBaqQmEQpNPJZ2baSRxed5da+/dSaNYQlhCUWmUnF/gYmQQ8ePHx92HkiTCfQ0yCfBNc50Q1RbSiUqVIZPv1iawQCgviVDcvNLmg4cf6dic/NHjkoM6iIG1hIDRNwKIWMhFtu5kNx75c0TUSaScR5vimKgPiSSYDsCTzohLP2Y4mF4ayMtWmgtEYpO7mVXwJOuGOVXEG5uQcsMQiIn5AT7tgnFmZatE07P4P9XjuKoR1i2Cc+J4eBhSF+DPFjSYiAE8rZEBNDaUyl0CqVKdEvFiHxEZEAEWdVaorPToSmTJS2wySHjSymlEzh6PwjTKuYTIGVh+VEtBySpdVK9bVyt9a6Wp+gJMNea2NQDgk3/Lg7DgKS2sETtNvJLyY9eR3MKZvBqGgPCclDKzOj71IDUQZpIgzsUOVWso5BhzD4JYpPopgSSubQsPNLWIQkREyiZEmUqIQJOdFI/WJiOWQhKELQaU/L6TM3D4sdOtskICHHSTJOULKckNtRAhIlIGFCEiIkQSc8tj+ZF0I7eU7svBIRQhInS+LkSpS4BAmIhU4bR248jJBEiEiMkESc0NgGphiYOi2Bm9vuw+QhcRPD+cWHXwL4JYgpVtp3ZYfqtsO9B4lImJAECEnQcXZ1s8EaWOLDL35iEiEmUWISISJhAuJ3cs24pN1yArSFiUgIvwSdEN0+Cq0Ec5rnsGncVvqKJxCVGKbzjmvJ2uvBg4dvCpSRkT0wPUGPmytASyoJlU5GlNRJbYN9v2VDuatMO/mREsueWJVp54RQBkrpQVv+Ukm1hiKVQ0KnXe8KouGCFqWrS93zppODYkh9nPpmZG40VLJ+qbI6z3SJj5tUSRkYKpVdNH3XgXbeZQsE0xFYpr3dUqVWlaLsHBFa+RwhZCSTOQ32YNfOBG46aZa1k4RKKe2QAIUpFvlGLt1l7VRES4joMJZYaKcuyWieOpUwSSXbRCdDmyut0FowVIrAicjwmSkdUqGcnCZ2fgVFWaiQqkAZCZ2NX6wrCsJMLYSbAdWHTSTcftDO+PEj4iarMtLaMbVCd9vcSMJw+iNFFlLn9SBNmHLGqmW/SwVQKoCWAJZDAk0xMJRGu0QvndgqcdrWfoapTCwxMF0Sp1NjyP3fTvbmkMGMZGhCRlK6jEyiOvntpJJ+uWNXDdOmTgIwN9Om0oOEeoqwGs73YibnAZX5bTnbspMaEWcc2lk9FTEjQE1uFXV5I8gysx2Skpld101h70Wv9ODhm4z0kNOOULXEwO/AznBoOrkeLGflZ5FKbOVDxJnUxe8cS09jbDqr7SCGBNDiCkqdREbaaQfp6aDdlN2Zk5B9j85AGolwTR1yBYIxWH0+eIXtakvSBaZIZkAsrTKF6aDGHbKNMT3Ykkqt7NXgOBlJoXjVjktrM1eIpersJpMykkLBJVBpRCwpNFKkMT3JVCqplZ10zHLfnVbnFLlJy34ptqC2RIiaQSLaVt8ndwEN115DBJ6RNpbS+kEr7DwrdjbLZB9knE9D2nhxM2imR8VMR3pacEkKYwMxHJKsLCemip2sLWO8pI+D4dLDpwdBM1Jtl3FtsvySLKeR3tfJtrO/K5uku9+S60skKS1i8t1p35BSg8qVRsCG+1Yy+jmVtXQwEZW0RYHb/wHTT8AMDOp3u29VksCrod+mBw8evkFI1yqozBTb7qRqCxnTIRB2Jkw3M6aIj2T6YndyT9pvxZk0LGyC4ZIMM7lquRKJSAWgSheug1cyZnLlrpMC8sok4qqTVMaqWg0VTmkToIijcUkK/OGfObgsw5Ga9FwRMoQkXU3dm0Yi1FBoESyXoMigdkgvj8oU/m76ZyONeKSnyB78vpSmxyYNrsYifVWvkhlVder+K7V/Rv3SCVXKTKYc4ZnMsZIkeW4bDlaZp+VUcbQF15SG3E0IlyQSJkqlpYwfZGJIjq/BxCK9js5x1wSRfEY66XCEvqsdSW8feydTymzikohkWnrXVOWSCMMxQ6o0TZOr/RgGWqX63yYc7v0psmlrysyUGdTR2LnnjTTtnRrcx2kaEZe4ZZA3Dx48fMOQsfpNTW7pH7W9KjKcScslD27GTHdF6GofHIGRMcG75MK9z57kUxqGK9jIk/cPTyRUUqAYyecMnrgGm0eu2hjpq6XBWobkBGim6pEmlIbDcCRCZDih7Qrbr0IirlJ29z3uytdNo+6W6SuSCJecDfs+yfRZcUlEinQMFuxXqM+VtC7pWhpnbLm2e0k3DyjB1Xwpl8QOSyJctX1KGzSYaKrBZU7T1qWb15LkN4246fSxm655EleDZWuxXBObcolSBvGw3+8K2cHagNS3aDpmEIfYuGRksBZNq0FC3ompMphEOMczTDSGQox0kuCa0dK++ySJsNvF5/NjmkaKZKYTrKQGLFN75ZEIDx6+sXAFdKajYqYgTqlDM4Vb+kSbUpEPUb9KSgCk7k3HFQo3RIBfC4Y+55pJxJXefbUV8tds+OH8P75KnYY9N1x5B5kdhmuDKyfDSpmJvqz9hvdNuZJ25es41GWaYDLV+0OvGR5D3z3YHDO0LzLLrZLtkW4WSj0rox+GjClX9Z9+/RW0SWmCdmg7DG3LK0Z9HFSWryyoM8iiGlTvzG/gauPrWr6Br/stefDg4bpC+DJhnjl5DD7/JUQgec319cb+P32i+jISca34am39VU00f0lcmZRdvZ6ZY/dPFnpXIhhXbcfh6jI8ifg/fZx78ODhr46/1ouuhWx4+PvDtWpW/pbxt1jub3J7evDg4e8I170AHjx48ODBg4dvJq57ATx48ODBgwcP30xc9wJ48ODBgwcPHr6ZuO4F8ODBgwcPHjx8M3HdC+DBgwcPHjx4+GbiuhfAgwcPHjx48PDNxHUvgAcPHjx48ODhm4nrXgAPHjx48ODBwzcT170AHjx48ODBg4dvJq57ATx48ODBgwcP30xc9wJ48ODBgwcPHr6ZuF4v9mL+e7ie8PJOePDgwcOfAUMPXlsGxz9lEnazEP4lJ/G/voD4pmRR/PJ+/euU4VqOfZ3nXNvYSM8oqlDKxl/unR48ePDwd4mhE6cWhR4mvXBq8rxaZsYvIxfuBG5wbUTi62QrHOaeK6Zg/vNlmPy6qbP/2vjyPv1zvUehRDtw08kP3z5fp81U8h1fpQ+HpidXykApjVbqS9//tfv1K6QA9+DBg4dvEOxJV4k4k6jCEMMhEtqBQsvgCTudCKRWdKnjV5rMNSImIpbzezUiodKuNYaZwDMFgius0sstIogWxLR/lRK0ErRWaO3ebyFiodLvuSqGkijltFE6jCHl/RPJhZJhhNFwhO5KcPvZ+ZVUWyiV3o9/+sCyx5GFJT5MsTDFxBSdbBedbAfl9J1KG2dOHbUgOr2PVcbzU/1soMVAiU0G7HuGa/f08Wkmx5ZSFlqZmMou39W0EirjWe419t96uL5yx5/h/F6fj9yDBw8e/jKwBa8j9LQ9URtiOpO0gZEkEY52Qg2eiA0ytQoGrtB3XpD2wnSh7Uu7Tg0RkCr5LD8iAZRYSeGsMp7lCA8xHBKgMRy42hTRgvILYghKC4YWLFNhmfZ9oux3aDEx3HvUFTDcStZpG0NUUkBqEUxJIxLJel3LqnuQALtSWZRClB5SnqFIIxFK0DpFJgwtmKaBUsaQa78utLIFe0BCRCRGSMKEJURQ/FiisCSdSOi0fhtMIhSiDZSYaOXDUGaSyOrk+DQxxMIQH0pZiGmiTJ1qI23/2mNc2f0tpjP+/CgJoCSAofxYStvl0gpt6DQSoNKeIUmiIUo7sEmYkd4OWiGGA1MQnyCW8rQRHjx4+PuCvYoTZxWVmqCVCD6/EIkqYlmaSFTh89tCSJxrhxII95hLLoZ7qcImD37nN22FmbHKTickPkTMYdTvrvbByFCZu1oUlSYMtU+wLEXYr8gOanICiqglBJSyBajy28LqqiRieKGdrqrXIphKEbQMEiGLHL/GUoI2nLZzkKqL027JcxpRho3B7aLTkF4eF1ckEW6faAxDCIYMYjE/wYBGu6tjNRzp+Oq+K0o0luEnICEKpIgKVUmVVFElFRRJHhHx43eIhE6rf7qGIr2uWjSmBAhKmIiK4Bd/sm9t4mETCS0+xAgg0Sg6FsPIiaPiUSRo2VoA5RIWE1G+JHEUh0Ro5UMrjTINJOBDIkFUVhQVCSMB+xlJ7ZLSiM+PimVh5CUwEjlIVsQmDOl9HA5g5MQwElmonAgS9dllud4fvQcPHjz8uaDFSqqDDbGSJ0xT0dFtsWxNFpt25LJkVYz2kRbB8GD/B8n4P2UHT6n3U0LeFZwmNolIEYN0M0CGcE3/P23l5x4fsqrPEK4pIqO1UJFvMbsjyk0T42zqCzG1SlNs2hqD9Od+1ZX/YHt/xG8ypq6Am6dWs7wzSkVQE9T2Cl2UgWid9jwDUab9vyGIadrCUPuc8jvlclX76WRiMIm4IpEwUMqPKJPsHMWESYWsXddDZ2duqr5DtDoGSiyU+JxffU1mGCUaQyxyJEG/OY0N/g1ss25iuV5Cp7QRlygBsfCJYLrCVrsC2tF0abu+htaEDB9RCZOQXBqtERSrQkISSGotUpoLjYQiqKZm8jasp+iWXYSWLUZXlyN+w2kvbbe19iEqgEgwOQ5F7Pfq/ARmWxP+qRMJrVlBcO4AkhNFTGVrbkSjDB+6uITonBmUHNpL4ZE9WLMmoRIRJGgk+yjY0ULB6qUU7dhIZPEspLYc8V2JXHvw4MHDNxBafGgxk0TCPTGpP8ZLb83nn//jJv7tf+7gt3+4lYsvrGBUXwKfL+0BrhBQmb4AhthCIgOOKUEre1XuwtDDkAjHP8MnQkiEoAiW2ALf7/zvwi+Cz4H7d7opwRV+o1vKuG97Px/cv5h3Tk3nyNxq6gP2PZkr/Cvhy0mEiJAXj7BjySQ+engjF7ePZkJxiFwtBJw20SrTL8FMK7dy1fiOk5+ZVm+3fSznevd4Bsm6qjlDUVkd4ujxAT792X1s2zYpYzAoEQyVBp36O73MVxtQLoEslGJ2Nu7m2fHP8b2+t3io7AFmWzPJlzxC4scvGp8IlmiCYpElQeISJiphAhLCEh8+MYlJiCKVxzT/FLZV3sRk30SqpIwciRIRH0HRmG7d49n4Fyxk42c/Z9vv/oWBy5dITBqHhP0pEqEtxPQjZhAxQjZhM0zEMpFIiOrJk5j70AOs+egnLP/ZR3Sf+RZSWYIEHKKnTCQQZsTqlSz8wZss+9Vn3PDFR8z/4LuEl81DsoOOCcOgc9UK1r/1HXb85gvGX3oGmTQO8fuu/0fvwYMHD38u2ARCJ+3jIkIgItz/WB8f/2o6dz5cy9L1cVaszWbG7ChFxUbSpOEPCbkFQnae4A/aZMIV2oYSApYQDtrPDfiEaFSIxgTLLyjDgc5U87t+B0opTBHiIpQ4SIiQI0K+CMUOipxrIiLkiVBtCDVm6nhQBL9TruyQSU9JiL0DFVzcOZJj8+qpVrZwvzp5kK9EIkKWZnRFlCe3dPHKri5m5AWpccpboIS4SpGGkFPOYhEqlZBQdl3CTtnDTr1yRcgWIcupf67THm4djWF8NYZzSIxna3pHh5g3L0FbaxDLUa9rLVimYBqCYQqGJYSiQk6eYPmcPjW+nEi4xCgkQWp99SwOLeHBmjN8q/ge5lizyJeEQyIswhIgSyKUSiHNUs9I6aRFWqmUWvKkmJjESUiCFt3C3vheztecZ7NvM+NlHE1ST4Xkk5AwQTFtk1Q8F9/Cpaz7+S8oOXGSUH8/RnER4rPscak0oh3CEAoiPh8SCCCWYWsIAgGqJkxg9JHb6Xn6GfrfeYe2hx5EytNIhN9HzvjxTHjsYUZdvkh0+xYKN6xj4uXnGP/UWXRrAxLyIT4Tf1Ul8XnzGXnuHCOffRaZNs1+3/X+6D148ODhz4WU06RgmkJljcX+o7189k8r+Kf/ms5r79Xz6NP1HLq9lokTwwQDgt8vdHRpDh0byxMXFnD26TnsO9ROz+gsgkFbENVWxdi9q5f7vtXP7luqWLkqxJ2ne3n8iYXcvHMU7V1xIlmS4fgmIo5JQaGUUJEXY+noWg7PbubAjFrWjCqmL6FZ0xXl8NwGDs1rZM3ofNqyLcZWZLFtaj33Lh/Jg6t6OD6/kZUjE5RqIawEn6kwtZBrCAtas3loTRPHZtdTp2whnNEoX0YkrkAiXC2KTwmVEZMHV1Tx2vYG1lf42dEV5fCsSnbNqGNKUy45ASFiCl0Jgw1jCjkxv4VvLe3m4EADMysjVPmFyohmVksee2d3sm1KI/3VWZSIsLw1wd7pI9g3u5OBhgRFfrFX41cgEUoUhhba28rYvXsSjz42g7vvGcnsWVECll1npYS6Wh+bNndx5PgYDhxr5vT93Tx+fgYHj45k5Chta42GJRGDdoAowRKDuGTTLp3cXnmUu0tPM9s3k3xJEJQAPvETl2w6pJVV8eUcKjzA6eLTHC8+yZbcm+nzT6RASqjTI1gVW8XT9U/zbt17PJ31DKdyT7KjdBszYpOolnzCYqCVgWTlYC1eweqPf050w2akrBwJBlGGkSQRKhQi3jyC/ps2Uj97ADMaQgyddOIMxHOJNDSRt/RGui4+R9fZx5HKSsTnkIhomOrVK5nw3Hnqjx9GWpowG5spue0Ai3/8AXr2ABIP206UPgtpaqHhjrvoOP8sMjATCQa/1oeqtWbu3Lns2LGD8ePHE4lErv/k4cGDBw/pZgTTUjS1hnn84kz++b828fv/dQPv/6ybl18bx92n+5g4NpdoWOgaGeL887P58Gcbefn1hbz8+gLe/ckKzp2fwrQZhYSCQtOILB769kR++eut/NM/L+azz6fx8ccL+fGPN/L0+RXMvaGBSEySBCJlfkgJo9qiLHbOauH1A9N5+3A/x2aWMztfcWxqmPdODvCdg1PYP6OI3oTJws5i7l/TyXObW3huTTkvbarh5V09LGjwUWQqQlphKHslP6cpwQOr2zg2q4F6Za/21RAb+1UwZGtp5hZPS4TSoMF9i8r57rZKzkzw8daWKr57cBRnNncxf2QhpQGhuyDAXQtqeWVrO8+uruXJJSW8flML51c1sXJEnFExxeYxJbxyYCYv7Bvgxs4oFUq4ZWwWr+/v5+X9A6wfXUJlSPB9CYnQShjbV8O37p3Nj368lo8+Xs3hw81EgimTSFOTwaNnB/jlP2/h57++gbfeG8N335vKjz65kYfPTaCk3NZWpPxWBrdFymdDi8IvYaqlgX3VB7iz7E5m+WaSkAR+CWJKkEJdxraSrZyrf5RzOY9zLvIEz5U8y7n6c6wpWEuFVNFitHFzzjZeaLvM+yM+4IW8F3mw/EEONR5gXsEAVTqfkCibREVj+BYtY91Pf0ZszXqkuBgJ+BFDO2YijRnPomraJPacf4KZB/biT+Qg2nbONZWJYVhIOEbOhCmMfeIZRj1+DikrswmBUkhWlPbd25l46RnKt29BSouR4hLiq9aw9OOPMVavRLJjiE8jpkbV19N44iRdz5xHBmZ8bU1EIBDg1KlTvPvuu2zatImsrKzrP3l48ODBQ7ovg2locnJ9TJ9fyfd+Mpcf/8NEbj9dyaLFpfRPKKWmLEhFWZADh9v45e9u4q4z3cyaV87ArApO3tPKux/N5d4zPdTXK/LzfSxaUsbbP5zK//v/rebDj/mCLCEAACAASURBVDo4fKiedWsaWbSoiebmPEx3FSy24LU99m3HTK01uWE/Uxty+Pbabt45PIlj/QkGosLxPh+f3zObM8vrmFEXoiagmFwZ5fBAEU8vS3BpcYA31sb57FgPxweyafBrssQ2IWSLMLcpjwdXt3NiZgONIsQk0/dgOGfPoSQiJTzTSYThPKcsaHDfojI+PdDMpzsK+fSWIr69oITlHfm05YdoyDLZOq6Ij46M40fbqjk7Lcx9Yw2+syKXnx8eySMLq5hVbHJDTYRzG9v57rFZrG03qVfC3lEm7x6ZyCNrWhioiVBgXgOJEKG0KMb0qRXccWcvP/loPmce6iIrKgSUXe+cbOHo8Q5++bvlvPHeJNbfXMCqjYVcuDyKT75Yzejxgj+Q7ruSvt3XdQKVZDwEn4Sokgb2Vx3kdOndzLHmUiBFBCWKX2JUGQ3cVX+aN1te52LoImflLOdCZzmTuI9V0RuplhpqVT2zgrO4v/x+3qh/kzuip1kbW8eM3Bl0hJspVHGC4myvjETwL1zChp9+mkki3C2fWqMjYbLbGundsJramdMws6LONlKNqTSGNhB/iLy+CUx64mlGnn0MqapEQiFEG0huDp17dzPp4tOU3bQRKS1BSkrIWrqMJR9/jN64AclxSISl0PW1tJ44Rs/5p5CB6V+bRFiWxZw5c9i9ezd9fX34/f7rP3l48ODBQ4YmwgnS44sKz7w0hVe+38n0uTHCYSFkCTG/0NWWwwsvzufDn8+nq8/EH7Rt6L1jhUuvTuKVN6fRPy2Mzy+UV1o8/FgVf/zvM9ixPUB1lZAVEWJhwZ/mnOlqImxthEIrjWEa+AxFvl9Y2lPC01t7ePiGUtYUaM4ORPnRwXEsqQtQ7hPqosLyzjgPLCrlpdUFvLEixHsbIvzj0WYenJ9Fa0CRL7YWIk+EBU05PLaqkTtnVNPkHA+4ZVBDHRh9YpODzO2nKSKRroVwSURpUHPfwgJ+daqd/zhdz4fbwuxoUjRbtk9DV2GQe5fX8bt7JvLZjmJeW5rLK0vy+P76BP/teDeXN49gcX2IrrCweVQ+L902jePTE0yNCA/Ny+G13W2s745TFbT9Kq5kzlCOgHUdXSNhYe78PF7/7ijuO1NPOGybX1zytHFzBe/9dBonv9VCYblQVikcuD3Bf/uXVfTPtklEesCqoTFD7N0kWjRhidEs7RwvO8VD+Q+zxFhOuVSTJQlCEqdS17E79xbOFz/D8/HneT72PJeynuOBwP0sV8uokVqKpIQm3caevP08X/8iW/xbGSN91EgtxVJEQrIJSwBDNBKL4FuylA0ff0ps9VqkoND2ezBSJEL8PiQ7ihQmbI2B37LJgdixHpS2HSezx4yj54knaX7ycaShFglHkEAQyc2heftWJl68QNWOHUh5BVJRSXzdOpZ++lOMGxcj2Y45wxCMumraTtxO7/knkBlTbVLzFT9Sw7AdniORCIlEglAoZH83XyFUtwcPHjz8RZARZVHb8QyyCoTLb8zhjffGMmthNtm5QlZIiPqErrZcXnhhET/52Tx6xpvEc4SsuDB+SohLrwzw4mszmNwfJRAUGhr9nHuyiS++mMCkCX7yE0IsKARN27aeXpDU6t8hEYbGMBSmEhpLYhxe1Mybu7p5fHouH2yt5anl1bRGLHJFmNYY5syGRl7a3sYTcws41x/ge6ui/Pp4M48uiNAdUJSIUGYK9T5hXXuc86truG9WCaMCQoklxJRLpBynUBHKswK0FkepiAfwixvXQBgcqXKw1sJSQmXE4MyyIj490sAntxTzwc0J7pqWzUBZgFq/MKrAz+nF5fz69Bg+ubmA15YV8tqNZbxyYxGvbanivoVFzK4KUCnCmOIsHljXyxu7ujjZG+a9vS08uLiUMfl+IpLauZFy8FRp2hHbQdWnhUhQyM8TFi7J4613ejnzaBUFRUI8yzZTWKZw8/ZG3vvJfA6f6CA7TygrMzh8tIxf/utqZi1KIxHixgzRpKI/2kRCiUFAgpRKKZNkEmcKH+Tp7PNskptol25KpIKY5FCj6tmUdRMn/ae4P+t+zuWe5dWCV3mh8EV2RndSJ/XEJUGZUcem0h1caL3ETYGtjJVxNEsrTWYL1WYtccnGUAaSFcVatpg1n35MdE2KRCitU9tALQsVC2Pl5yLxqB0TwjBsU4VhIaEoUlBMbMYsmi9coP7ys0hvN1JYhMTiSCxG5Y0r6L/0PC133o2MHIXV3UP58aMs+ck76CmjkIgPMZ0to/U1tJ68nZ7z55CB/q9FIkzTRClFLBYjNzeXUCiUJBAeifDgwcN1RUaYZkNRUh5l6eoGfvSz9fzs10s4faaDtRtqmT6lhJI8H6VFYY4cGs0vf7udBx5tZOmNZSxbWc4Dj/Tw/kdLufOe0dQ3CHX1QW7e2cQHP7mBf/nXBRw6XMuGNbX0TyimMBG4ooe/cnZmaEMnJ8hYQDO3u4BX943lk6Pj+NG+PjY2WhRYtj/Dwr4intwziic3tHBoZJwT3XFeWF7AF3d08dLNdcwp9tPgV0ypyGZteyH3zqnhze2tXFpbz86ePOY1JygL24TF0jYJKPArlo6uYP+CFgZaEklhnVp9q2HNHlqEsM9kbF0+l/aN4809Izg13s8LGyr4/m09nLmxkWWtuUwo8rOxN8b39nbz6toiTvXEOdYV5Y6+OPfNTrB7fIyxhSZ5IpSFTdaNKuD9Q6P48NYG3tvfzprmEOV+W+sxuA0Hh942RciLW4wfU8i6dXU88O2RfPaPs/n+jyayZUc1S5ZWUlxoUlFuct990/n1b/dw9qnpdHSHaGvP4vEnJvPv/2MnO28rICuuk1oI5QbqSgtjrpwIksVWMQPxfm6Ob+G5you8WvwdTmfdzcqs1YwKjqFQiuixRnFP2/3cnXsv+8P7ORi8jbPZZ3mp7mUOVRyiQeoJS5Rco5glJat4outJjuceZV14LStjK1lVuIb+7GkUSpG98yIWwVp8A8s/+ZDo+vVISaltPjC0M9g1KhgkUldF241LKJw0Dp0dQ0wntoM/QLi2nuJ582k4foK+H/yAkR+8T/H+/eTdsBCjuAwJR4mPncDkRx5n8guvUrD/IOW37GHCS5eZ9PQj6NoSO8CV37J3gYyop/HUcbrPP4UMfP3dGaZpMm3aNDZu3Ehvby8Bb5eHBw8e/haQFDhKCARM5i1o4ic/O8bv//M4//KfO/jVv2/mi9/s5dy5xYzuzSXgEzpawpw7t5AvfrWPn/58Ez/7xy18/uttPPrkZPrGZZObKyxbWsbHn+zi3/94K7/7wzp++/t1/Oaf9nL2sYV0dRZ/acHSV1hKhLrCMLcva+ftO5Zy/4ouWn2asNhCsrsmwrE1HTx/20Re3t3LW3u7+cHhkbx7cixv3zGd7ZOz6cvX7JvXy4u3zuO9IzP58NhkfnxiIm8dnczDOyfQW2Hi17ZQDorQXRLg3g1jeHz7eGY1ZhGTlM+GvdoenkQYosiNRVg9bzxvPbCRx28eyfT8INvH5PDS3gn88NRCHto4lvnN+YyM+zk4q5bXbhvgpZ2juLylnZe39/LSnikcvqGZ0aVhckTIUcLohMWljVX8ywP9PLykhN64RZa4Wzsz22o4EtFYH+fkybn8/BcH+df/2MO//tcm/u1/bOL3/7GT93+8hdGjo8ycFeaNNzfxx/+4j++/u471GyuYPaeUt9/Zwr//5xEuvjiLiio/hun2z+CoohZaTExl0JPTxZHufTw18lFea3uFt1u+x6vtr/Bw60OsK11LjaphTGAspzvu4ULXs1ysv8iFimd4rv5ZztQ9wPKcJVRIKSEJElFZjA6O4XTjCZ5uPMsz9ed4su0c93Tfw5KypZSpMiwxkUgYa/Fcln/2IdGtW5G6eiQSsUmCFsTQGNlZVA5M5sDLzzH/1O0EivNTJCMQoG7GDBY99SSrPvopsz/9jBmf/zcW/uwX9D96jnBnDxKKIXlFVN+4lhnPXmbuu+8z9Z3vM+3lF8leOA+JBpFgwCYLwRDS2saIu+6h69nnkJmzbJPI1/hQw+EwZ86c4YsvvmDfvn3k5eV5mggPHjxcf6TvSDBNRWNzjFXrW9mwrZoNN+ex9ZYibtpRzYwZ+RTmO06QhlBeqrhxZRWn7hrLnd8aw43rcqlrtENlBwNC04gAq1ZVsPXmMjZuibPl5jy2bKtgxsxcCgutr1RIQ4Rsn9BZGmTJmArGlvqIKEeoKyFqCD2VAdZNLmHv7Bq2Tylgda+f5d0WN/Zl0VemqPILk2tzWDuqiK1jcrlpVIRNY0KsH5/FgpFZVMVs3wBDbBIxt7uCBzZNYPf0EdQFbL+DlMkg0w8iKbCVwtCagM+kuaqAZZPrmdeVQ0PIoD0uLGyJsX5UPnNGxGiKa/JFqPJp5jTncMuMBg7Na2ZXfw0ruwvpKw5S5rMJRMIQenMMnlySy+cn+ljf5KPSZ5fT1D609g1bnnQikRMXJkwoYOPmerbuKGHjthibt2ex/ZZSVq8tpbTUpL5eWLiwgq1b21mytIS2NoP6ugDLlpVz864G5i7IIRa3Q2dbluHkWnFJhK2JMMQgKH5qg5XMzJ3KqqylbA5tZFtgK5sDG1gWWMR4Xx9lUkqVqmGybyrLwyvZkdjFrtxdbAivZ5rZT61UEpMwQeUnIAEKJY9+PZZtuevYX7CbbfHNzPLNpF7qiEkYSzQSCeNfOo/1n39C4rbbsHpHo3Jz7TgQDomQcJDIiFombF5P3dxZmKFgKlKpaREb0UDZ4sWU3HQTkU03Edy0jYJtu0ksWoZRVon4g4g/gBSVkDVtgOrdeyjevRs9bSoSi9nkQWnEF8DMy8c/YSIdDz/K6Bdexpg992uTCNM0mT9/Pnv27GH8+PEEv+ZWUQ8ePHj4s2JIlkmVynCpdebf6de62R8Nw4Z2g0Zd8TmSeo76KoW0V7yGCH4lhJQi7ARrcrdimiIElRBRiqhWRJUQUXZ8iJCyzwWda0JKEVSOM6HzG1C286T7zhxDWDetl1sXjmVsTR4hJ1pjKgfD8GaMDCdVJfiVIuD4V4REiCobYedYQJyAUkrscmtFRCmCzn05SmgOC3OrhANjg3x8oIu3t4+gP25S6NTJzl5pJmN9DAe3367cJyoZPTR1frhjgs+yfScM7WZ0TXeqTIUjt0QRkCARiZElWcQlRpZEiEqAoFhYYmCJRVAixCSHhBSQL4UkJI+4ZBEQf3KnhxJNQCziEiJfohRKnHzJIi4RguLDEm1H1oyFyV84j1s//xnrP/6ECY8+TnZ3lx1Iyo1YaViIFUD5QygriOj0HC52WHJlmCjTsq81fYjhs0Nla9NJqiXOr4EyfSjLb0fCdB1LtYX4ArSvXMmKF1/kpl/8gomXX0D3T0X+hF0VWtu7ljztgwcPHv5mkEr57Ya91kMuSmX0tGGKieWmd1YmptaY2g7mZGpl77dXFoZYdmKkQULmqyF9F4ThlNNN2e1kV1SpsNu2psBOCW2re53w2nLlXBvJ/x1yk20JY0eUMromn/ygLaCS6ZzV1clDKpmZZLzbPu5sXxXDCTVu+xCotCRobrwCU2nKs0NsnNLK5dsW8cOj8/jFvQv44PgslnfkUBDQ+EWcbKVu6varkwgZXPertvnw59ww2MNu73Tb0BX+hkIZysnq6SZ2S5mBlFIobftV2OHXrWT/KuVkv3RSaCtlZ0m1s4BqO6140rnQaeegn3BvN+OPHGLit77FiJ3bCTfUIpabkdPJnaHc3BkBVDIRnJvfRQ87VpLxS9LDo2d8H+42YSdTqOmjeMJEevbtY8xdd1OxbTvS1o6YX00L58GDBw9/00iRiEwYysRwJn9DFKYyMJWBpQ0sbWJpC0v77L8NA9NQmKYd9dI0NKZhYmg/hg6gtYXWTpKjwcGJRAZtnRxcyMytlIMDOyV3CbjRJNOTdKUJtCGTvxp0LO2cpYRowCLsMzHdrYzutcn2UhlJoDLhrNKd9w8W3O69SrS9vdBNyCWCKI3StqkgO2DSW5HLmjF1bBxdyqYxRawaXUxrgUXMTE87noo6eqXy6LRyZ16bfvxqx1KERCVjZdhaCOX4iGT0mRpe4CaRPOZqMkwyCOww/eaaZoYNCCaCaAMdCRMpKSRaUUqgIB8d8jvaDHHqlEoDbqcCd1PSu/VI+wZEJaEHl82JXKqUxlRp+WLETSRmYkXjhIpKCZdV4SsoQcJRJ2z638CH78GDBw9/DmRuCUyt5E1l2cF3kuGcHeGtXGgHylkRyiA4++5VSivw9UhE6ly6CcFIQ+bWy2G0KRmEQaWQLqTcc2k7LzLuTxKClE/EcCQiY9UqkkEkRDLNIDY5UZkppN3kW9rAMjTZPoOyiJ+ysElp2KAgbBK27F0kepjnDQfX4dO4QpmvjVgM1mCktEPpWVrtc65pQDKF/KA2VUol7x+iqVJDYZMvzbDp2t1x5Zqd0vpVJQmIdrRtriOonaF0MIlIIU1rMkRD52Y91Rnkxm1rlWwDV/NhkZ5V1oMHDx7+TpB5wJ0wbdOF+lIBdXXVeEoof9nx5ISdTkSGKZs7SbvBqdxw2RmmjAxhMPi5Cq0NlLv6d80UhjirRFeoOEJtGCHorroNZYfS1kPaQg2tc5JYZSbrSgo7Q2z1vekeM1DKxBCNT5STpVSlMpPqwaaSdI2MDCI+mcTrWswxV9JCpNdHMswzRobqP1MAp8UAEZUsp6FTmpFhCeQgEuKOSy1qmHE3lLgNrb+rUUjXfrimNpt8DiXVKeJ4pTHsPt89l6rPYJOP58vgwYOHvztkHsic8K8sZK6NRKSnoR58LlP9nWkrTyFTiChHzWxjMJGwhUTK32B4XwFbi5J0TnNXrhkkIs3Z7koraUlLaz5s3YYTimkBgtz3Wg58DkxxtBH2ilk52yZdfxSdnqNChiERQ7QrX5dEfEl/pwn2VHtfYddKUoPgkg27/Q1Tp7K4un2QZl5S6fVw2tXVkAwde0NJW3rdU/UYLNjTfToyA4gNJUXDkeGr9f9gXPeP3YMHDx7+3Bh68Gpah2vXQgjXNnm6avFM9XkGiUheY6LEhxY/thNeuo1fOULMTEMqnoP7XMsQLEswLSe1tSu8DHHMHINt9MMLAteZc6ggSxdSts08eV4J2hKUq3EIC5IrSI4gEbFJhCEo5QpmCyU+lPgd+BxSoYeYMpJtMNjUJKmcHsORiK/S1yqtnVOwg0sZDtlxiYIpGksUPtFYYmKKhRY/4jraKoW2FJLl1D1bkLggIUlqY5Rht5UZErTPTkmeno78WsbgUBKRTiSGT5cuwzx3eBLxp4x7Dx48ePi7wNCD104S/hxIJxGpnReZZVBIhkNcwPnbXUGmrSyVC8e5UqskEVFKCEeExuZ8xoytpaomF8OSjF0AKQfN4VeTLrnx+4WcHB+RqIFpSpqzYWYuCe3kZQgEhZqGXEa0J8gp8GGENdERYfIHCohNiaOKFOIXO1Ry2k4YQ0y0slDKQmnTdrpUKunMZxMuhzwktTTuvfb/9rnhtRDXKohT2imdWTYXKh32eZ9ofGJgKRND+VAqgKig3XdKoQKKWFeUoilF5M3MJzw2glFpIEFJahKsgKK41k/vpGqKyg1CETs0+bWS2eFJxGDtgifwPXjw4OFrYujBvx6BENJVyKmtpo6a2NVGpKnlRWSIiSHDyS7dx8F1rDNSPgSJPGH7rilceG4Xq1aPsd8xyASgdOr6ZBkkzcSjhUS+sHBxNX3jYuTk2scybfiO451zb2NjgNP3zOSuB6bS25dNKM/HiGWVTL8wk96z4zDaDXtV7htU/mRMAkECDgYTH9efwm0nw946mW4yUXqoQB3qLHllpJuaMvw4jLT3Z5hknHbNOKftUNBaI1owcgxGLK9n9tnZTH9pJvX3NBOaHLHbwXlHKKKZMJDPWx8cYuGNxRSXG/isaydBw9X569TfgwcPHjwMi6EH/7okIvVO2zkttSrUhr0S9UcEX1jwBxWhsEEwpLH8tuDWSjANwedT+P02TL9gBcW+NmjgD9rXGIaQkxAWLavk8NFuBmYW2CGcJSUgLUvhDyj8fiEY1ITCBn6/xtBpJgEttHYKb7+3lBN31TKi2dY0+Px2RlPlxJMQ0Wjnves3NPHRJzt5/KlptHaYWHFN/ow4I5/qYeaP5mBON5E6QYoElVCobEGiYps8gvavKtKoEo0kHDNAUGxCEbSvVVGxzQFZ9vU6rFDZyjaZBG2h/icJUS2ogKBjyn5XloOYoHIElS+ofKdsUfe4Qic0qlAjeco+HnCeFVVkjY9Ru7eevjcm0XSpk+jcuG3ecdLE+wNC95gsPvv1Hbz70Rp6x8UJhVLZVj0S4cGDBw/XFUMPXk8SkW7vzy806B1rMXWuyYTpwpQZfrbsKGbNxlzau2zBrZWQFRVamgMMzIwxeSBIQ7vQ1Wex4eZilq4qorjUwG8KJYXC2HHCvEXCzHlCS7sQCgo+wyYH0YgwsjfAwOwAkwcMlq6Ms+XmUmbMyqagwC5fxBBK84Ut24TPfz2V177fyPa9AeYvMZg4zaS0UmzfBzNVt5JS4eJzN/DBj5ewZn0VkbjYQrJCCO0PMeb9MRgrDGS+IAuE4Dw/vi4TKRKbABQLqtfAtymb4K481I0+pFMhCUESgmoVrKkaX79G2gUpFKROiE+PEp7tx+i2r1XG1zNniNh1EksI1Ag5E/1E5liYMxTSIRitgn9A4VusseZZyAhB8gXpFiILI2RvyyOyI4F5QxBpFNv/wS+2liIkSLlQdE8VxU9WE1wQQQqc845WJ5ZjceBYB3/837eya38eBYV2n/n0lxMBj0R48ODBw18UQw/+tc0ZmQ57qS18E6dUcv7yAn7zhw386g9L+cU/L+ZXv1/DL3+7mZ//w3a2bS0iL8+gtlI4dngCP/+H3fzq92t57+PJfPLFfP79v27hv//nPZw+NZWyggjzZozg+UvL+aff7ebzf1zL0RMdJPLsuhpKaG0JcemFTfzq93v4zR/W84+/v5Ff/esGPv6HdZw8PZrCQsHv06xYUMknny7gf/8/S/nj/5zN7/64mN/+23beemcLK9d2Y5jimBLsuACz5mo+/2IVl57vZfQoC9MSzKCgqzTRfTE6f9iB3qspfrGQCT8aw8zvTKFxRw3BJj9SI2RtyKLnxVGM/mAsze900P3uGGrO1ROcF0J6hIpdZQy81s/0V6dRdUsVMkLQyzTzXp3HrO/OpOJgKb5myzZryPBC9Ev7WwkSEBqWV7DwuZnc8MEcul/uJHt3nPwtuYy50M20H01lypv95KxIoFoV4+8Zy/RXpjPy7bG0vj+KxtfbyLstH2kVJOg4tQYEyRfKj9VRe66V2NwcW5PhmKBMbWt4xo738dv/awsXX2ihpTWAz7CDgnkkwoMHDx6uK4Ye/OuTCDdCoLs90/Y9KKvws2t/OT//zTT+8L/mcv7FajZuzWXX7kI++GAJH3+8inlz8yktEKaMj/LY2Q7+7T8W85//92Je+34Xu/YWcfx4C6tWVJDI9lFdHmDRwlwee7KLH38yl3vP9JBwkoqZIoSDmv0HuvnNv23m/c/GcPCOfHYfzOfFN3r43ntzmDRF+P/bO9PvqMpsD+/3nFNzVVJVqaRSSWWeJ4KZIIMZJaBEDKMoVxzbjjjQSDuhDSjQDjiB2ootjYKItrKYoiCKTdtotxO9tL132Ze+frj/yHM/nKpKJSGI3X2JrPV+eFZW3sqq2lWnVt599rv37+c2hbpyF+vWhfj2u3mMHq9g/eYwI3fmcPW12TTM8KWOTsSyj2ZuuS3MX/92DVu31lFZnpgucApGuUnmfWFaTrXgfMdN6elSSkYLyL4/jKfHhVGuCF6VSe3r1VSMluN/1o/nYS++1/w0nphJ/tYYzsstXEud1O2so+fdPnx3BZB6wVhi0H+kn9bft5C5IhNVpM6aRCT1Dc43iXDXu6j5VSU9H/RQtLcI63oTx9UWhS/HmfVRG8FHglhNFlImBG7yk7k5A992P55dPvJG8yjYFUeuELsCocTul8gVyjbUUf3STDKHwnb1xTX2PTRNoaTU4OSnwxw90UVHZyYuxwT1yin41yeMNBqNRnMOJi9e6H+uY5WIpFiUXYlwOoWhhT4OHG1i9HgXlw85ieQI+fmKkVtyOPOPtdz/QCGFBUJOlnDXXUWc+ryffftb6R3wE81VFBQ4iOY4cVgKl0MIZwnX3Rhj/5FuntzeRiRqv1e3af+8enkupz5fwaYna6hvUlTXKdZtrOTEqStZulzhECHDJQwOCqf+PMzzLxXTeamQExUiWYLPm+jTSDYVGsK9D5bx1dfX8NBD1RTGE2OKbkEVK7z3+Jn1dQclZ6qIfJGL514PRqdC4oJRI8TWZtH6SSMVnxWTezBC/J08YqNRuk530XqglfCKMNIqxEbiNO9pJ7o5hgwIxt0GPe93kb0uG7PJHNdnkL6BGj/mWlmCeAV3h5v6F2eS/0Yx1l1OnCNO4rvj1O+sQ3UqJFuQGiFwbwbRPTGyD0XJPp5DyV+KKTiYj1wjdqLgkFQlouzhGip21JExFBzr4bAEZdnGX+GI4tB7l/HRqTkMDIbxuHU1QaPRaH4CTF688EnEWNNiugGSiDAw6GX/oTbe/7CPoSEhlCFEgoqRm2Oc+Z97uW9dEflxwe0UbrypmCPH2njgV7n4fGPPb6QaHe2NaWhhFnv3t/D49iaCieMMZ0LQaPGSLE5+ei13rq0mO1fIjQl3rSnl6EdzWXaNSsU5e5Zw8uMbePzJKqpq7CZPt0MIeARPwukyadj1ywcq+eqblazfWEtxsWA6BMMrqDKF9wEfrX9tJ/eLQvI/L8GzKYDqN5ACQdULeQ/m0PFlE8V/ihHY6yPzjQwyXg9Q/HYBRS8U4VvoR0oET2eAks011O+dgflLk7zXo9Tvq8Y932X3SHjseJQITssimJlJLJpLwOdDxFaPPK9qhAgSFnJGrIUO4AAACixJREFU4lTsrSfyfJTwtjAV+8rIuiOMxAWVpYgvi1O/awY5e6P4dwTwveYn96MoscM5yA1i90wExNaIKBAKNpdS9EoZvkV+uxckQ+xqhKUwTCE7avDusXn8+curGLw8G7dHptDq0Gg0Gs0FZPLi9CYRY3fISoSBy/wcOtLJme+Xs2dPI2tWl/GLO6p578gKPjxxI/OvjFJSKnR1hnjqmTZOfT7AS69UMjwcYXAwRkHcFpZyuoSGmbnMXRBn/WOVHP+0m7fe7WTpddn09OUQiwlZEeHB9U188/efs/W5BhouMWlodPHY1hl88tUi1tybTSjTjuuSRuHosVvZ/UYvy1dm0N3vZumyEm5Y2UR7az5Oh6SUFq+7OcoXX9/E0881UlNvJzJGpsLf7qbi2RLaP27D9biX6L58Kg7UEd9SQmBxEKvLImckQvuxZuqOl2NtF2SLIE8Ioe0BQhuCOOc47cbLYpPwdTnM3N9M+eFymk42Ev5VELPWsCc8En0aSoTCeAE3Xn8D6x98iLqaWttiWp1NSnoKnIKz003NUw00HW6mYbSO8u0lmB0KCQpGzKDjgXb6DvUT/E0I2SK4dzgpOBmj7I9F+B/0IbWCKjMI9WUTvDpC+au1VByuIbIhQmCxD2+L2xafMuzrV1tr8JfPlnH0eC8d3Zk4XOPHbzUajUYzLUxevNBJRLqi4sTz6jlzAhw4OIsz3y/iDx+3c/T9do6MDvL++ytZtWoGsTwPlzR52bSpgz99ej1//34lX329kNHReezZfSVzBgK4XIpgULhjdR973l7Mh58Nc/ofS/nyuyUc/nA+z++4nOZWoX6G8Ppby/nv/13L/nd7GV4aZN4V2by2d5C/nRnhhd92UlJkb1yF+cKTW6/kvQ+uZd+BHnbt62D/4SXsem05C68qw2mJ7c8hQluXk6N/WMHut7vousyL4RJcOQ7KFuVxxd5eBg52YA6ZOFe5mH3oUnqPzaXh6SZCw1n4BrxUbiij481Wyn4Xp2h7nOLfFNL4uzqK1xfi7fHYxwchwdXlonhHCf3fDjDjSD3mkInkCMqZ9ApRWJbFQF8/R999jxPHP6C2ugbDOH9nSSUqNVlSdEsx/W/2cen+2eSOROzqglcwIgZ1N9bQ92ovNbuqKdpVQOnbBTScrKL1k0sof7EUY46B1eGgdUsXbb/tZtaxblpOttN4oJGZLzZQclMBZr6tdeHzGSwaDnPmzG08/UwZ5VUOW/VzKodQjUaj0VwoJi9ORxKR9MBIyVQn7prnzg3w+3caOfxeM7evdnHP/YWsubuW4atyyMk2sUyhtjbI6tU9PP/CEna8PJ+dO+fz8o5hnto6TO+l2XjcBqGgsPL6bh5/ZgnbXp7PMzv62fbyIC+8soSHt1xJbb1QUSXcc/9lPLV9Aes2zKZ/ToTOrmzWrO3g6ecWsHrtbGK5dmweh9DbXcjGR/rYuXsBO/dcxdPbh7h1pJmqSg8OQ2GZLkQUoRzhiW1zGf1oOT9bU004T+GJuCgfiNNzXxvNa+sxawykRSi7s5K2zR3MvLuFnN4oUiB4W7xU/7ySps0zaHqigdZfz2TW+haKVhTirnePSUY3CRmPZdL1VTdZG8OoWoX4BcNy2YqRYhAOhRj52a2c/uJLtmzajNvp/FGCU4Yk3E+DQkZTBjU3VVExUoq7zWEfmbgE8QiOCouqm6tofrSJ5qdmUvVIGaXri6jdXE35mnLMTgur2cGstZ10bOqlcUszNVvqueTRJmatb6N8cTFWrsK0hMIiN9uencd//efdXHNtNqGQnNtmXKPRaDQXismL05tE2CZOliFk+J1cuyKP0aMd7H1rNh3dfqIxIzWSmaxgWMrWDfC5hUy/EAoIQb+Q4RP8brtXwWkKTofg9ghev+AN2Hh89prDIViW3fRoWrY4lWXaDZKWaT9mmfZrWYnPx2UJWVlCQaEQyxcyMu1mUEMESymcps++c1fC8NIqDh5bxbZXLqexzW1PSnjFPvtPijNNEHASv9iNh06FZNjNllIiSL7YjZIh+6ezyElgZoDMxRnEdsZoPtGCWqCQIrFHKZUz4cOhKC8r5+ENGzly8BCtzS3n3VyZ/LtxLqJJoSu/2NMWaWqV4rDXjVKFKkvEHpUxr5Bg4n2GJKV3IZHEYxn28ymH4PEourqzOH36CfbsWUZlZYY9+XIOYzSNRqPRXDAmL05vT4SFShgitTXn8+ILC/juu9v55tuV7NrdyfBC/zgfCNsh0rbkdii7QdJpJoy2rLFEwFQJjLQEIY2kI+eY8+TUWGr8hjrxvYwZYjlS67n5Bqt+0cPadf00tkRQpn3WbyTNuKbCUNieIEZquiKFw1aJLJxbQPdDXQy81s/gH+cw8MFluP7DnfLjMJVt2iUiVFdVcfvIbdxx2yq8bk9KYlzk3JMOE0dD7c9dxslgKyOhIjrVtTZkvDy2QybYn0sqMTAMhWUZ+HwmPX0x9r11H0NDhYRCVkJi/OzGWRqNRqO5oExenL4kwkCJAyW2adWsllIefWQh+9+8jnfeuppXdy1j0aJiTBE8lr2Z27bSZgp7c1Fjd6rpxlryw+JD50OyCnK2z2iq5zcT5l+BTLvJUyl7IsKhTEyRcUmDUmlGYmIkxl7tJGDcNIISzLBB5RVVzNs4xJxn59KxfTbtj80iNpSHkWeM04YwReH3eImEwvg8HkylcFqO8xJfSn0n0iy203Ua0isVyfVJz3M2b5OUFff4ZMBhGHgty04MnUIwLGM+JymzM22epdFoNNPM5MXpSCLGW3nbTp4OyyAYcBINuYgEnYRDTrweY9xGpdIdPNOdPJN37+PucFXquCTZe2Ez8fezJQJJRc3xIk1Ji/IxG2w1SQlSJWzFlbLv1G0zLIUpJg4xsUSlNlZlKIxxVuZmSozLPvZReC0nllKYpl3yN30mjpgDR6kDq9jCilsYmUZqIkNEsAwDKzmFkXD9tBJjncnJjHNd9/TEJZlEpFu3G6JSrqHJKoV9rGNXiBxKME0DZVmIw0Q5FIZlYik3lrhtobGEe6oyDCxl4FEKtzFmxjY+Jp1AaDQazU+AaQ8AkbHNPFmiTqkVKsFhjJFugW3IWAJwNttuEZlwdv7Dd69TJxETN82JyYWREsya7EkxueyuRGEoI5E4nSvOMZfTZKJjJjf95J29JXZDozeBR8YlEFMlCMnfDfXjN+P0z2hiMpa+PqnKkW7PrpLiYmbiGsqkSof5E/huajQajWZKpj0ARNI3ueSmOX7zS++DMCY89u+unJyPVPL58MOv82+6k063Qf8nphbUP5lETPU+f9z1mDqp0yJSGo1G85Nn2gM4L/4/kgWNRqPRaDT/EtMegEaj0Wg0mouTaQ9Ao9FoNBrNxcm0B6DRaDQajebiZNoD0Gg0Go1Gc3Ey7QFoNBqNRqO5OJn2ADQajUaj0VycTHsAGo1Go9FoLk6mPQCNRqPRaDQXJ9MegEaj0Wg0mouQ/wPIRdw6wsrvqAAAAABJRU5ErkJggg==)"
      ]
    }
  ]
}