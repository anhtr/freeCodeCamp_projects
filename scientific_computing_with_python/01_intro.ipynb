{
  "nbformat": 4,
  "nbformat_minor": 0,
  "metadata": {
    "colab": {
      "name": "01_intro.ipynb",
      "provenance": [],
      "collapsed_sections": [],
      "mount_file_id": "1baYqvabosm4cRIzI_0aurqC-jCXg-uLi",
      "authorship_tag": "ABX9TyMJ3rB1OOOWR7spcZZVgW3s",
      "include_colab_link": true
    },
    "kernelspec": {
      "name": "python3",
      "display_name": "Python 3"
    },
    "language_info": {
      "name": "python"
    }
  },
  "cells": [
    {
      "cell_type": "markdown",
      "metadata": {
        "id": "view-in-github",
        "colab_type": "text"
      },
      "source": [
        "<a href=\"https://colab.research.google.com/github/anhtr/freeCodeCamp_projects/blob/master/scientific_computing_with_python/01_intro.ipynb\" target=\"_parent\"><img src=\"https://colab.research.google.com/assets/colab-badge.svg\" alt=\"Open In Colab\"/></a>"
      ]
    },
    {
      "cell_type": "markdown",
      "metadata": {
        "id": "wlgT12Suv9-h"
      },
      "source": [
        "Simple assigning and printing"
      ]
    },
    {
      "cell_type": "code",
      "metadata": {
        "id": "6kwUA4ZDuLOA",
        "colab": {
          "base_uri": "https://localhost:8080/"
        },
        "outputId": "b4afe33f-1bd4-4468-e824-549b6ab9829f"
      },
      "source": [
        "x = 6\n",
        "print(x)"
      ],
      "execution_count": null,
      "outputs": [
        {
          "output_type": "stream",
          "text": [
            "6\n"
          ],
          "name": "stdout"
        }
      ]
    },
    {
      "cell_type": "code",
      "metadata": {
        "colab": {
          "base_uri": "https://localhost:8080/"
        },
        "id": "CsjmZfniw5xx",
        "outputId": "75869a92-d5a7-4b92-d52b-734c7f49e75f"
      },
      "source": [
        "x = 43\n",
        "x = x + 1\n",
        "print(x)"
      ],
      "execution_count": null,
      "outputs": [
        {
          "output_type": "stream",
          "text": [
            "44\n"
          ],
          "name": "stdout"
        }
      ]
    },
    {
      "cell_type": "markdown",
      "metadata": {
        "id": "2HnHmzYux5tk"
      },
      "source": [
        "Operator precidence rules\n",
        "1. Parentheses ()\n",
        "2. Exponentiation **\n",
        "3. Multiplication *, division /, remainder %\n",
        "4. Addition +, substraction -\n",
        "5. Left to right"
      ]
    },
    {
      "cell_type": "code",
      "metadata": {
        "colab": {
          "base_uri": "https://localhost:8080/"
        },
        "id": "OwdeyotbxyP0",
        "outputId": "dfc51ff1-8ffa-4da7-b936-b98aa0a393e5"
      },
      "source": [
        "1 + 2 * 3**3 + 4 / 6 % 5"
      ],
      "execution_count": null,
      "outputs": [
        {
          "output_type": "execute_result",
          "data": {
            "text/plain": [
              "55.666666666666664"
            ]
          },
          "metadata": {
            "tags": []
          },
          "execution_count": 5
        }
      ]
    },
    {
      "cell_type": "markdown",
      "metadata": {
        "id": "8eLzQBVJzcuI"
      },
      "source": [
        "Types: int vs float"
      ]
    },
    {
      "cell_type": "code",
      "metadata": {
        "id": "8PXfHjTazf_p"
      },
      "source": [
        "type(1) # int\n",
        "type(98.6) # float\n",
        "type(3/2) # float\n",
        "type(4/2) # float\n",
        "type(float(10) + int(1)) # float"
      ],
      "execution_count": null,
      "outputs": []
    },
    {
      "cell_type": "markdown",
      "metadata": {
        "id": "6YTvjGXi0of6"
      },
      "source": [
        "Types: numeric-string conversion"
      ]
    },
    {
      "cell_type": "code",
      "metadata": {
        "id": "JUmHgySW0nhF"
      },
      "source": [
        "float(\"1\") # 1.0\n",
        "int(\"1\") # 1\n",
        "float(\"1a\") # ValueError: could not convert string to float: '1a'"
      ],
      "execution_count": null,
      "outputs": []
    },
    {
      "cell_type": "markdown",
      "metadata": {
        "id": "n3d5XBbQ1Pt5"
      },
      "source": [
        "User input"
      ]
    },
    {
      "cell_type": "code",
      "metadata": {
        "id": "YRzlBskM0ePP"
      },
      "source": [
        "n = input(\"Hello, what's your name? \")\n",
        "print(\"Welcome,\", n)"
      ],
      "execution_count": null,
      "outputs": []
    },
    {
      "cell_type": "markdown",
      "metadata": {
        "id": "Vo4ndEhjE9Sy"
      },
      "source": [
        "Conditional Execution:\n",
        "- has a : after if and for\n",
        "- Indent = scope\n",
        "- blank lines and comments are ignored with regard to indentation\n",
        "- Turn off tabs"
      ]
    },
    {
      "cell_type": "markdown",
      "metadata": {
        "id": "0DAKI8wOK8sM"
      },
      "source": [
        "Operators: > < == similar to R\n",
        "`is` and `is not` is stronger than == and != because they also check for type (0 is 0.0 will be False)"
      ]
    },
    {
      "cell_type": "code",
      "metadata": {
        "colab": {
          "base_uri": "https://localhost:8080/"
        },
        "id": "K2B9VpUrFfqj",
        "outputId": "a3257cb6-8d41-441f-d2bb-f07bf0ff9492"
      },
      "source": [
        "x = 0\n",
        "if x == 0:\n",
        "  print('x is 0')\n",
        "elif x < 0:\n",
        "  print('x is less than 0')\n",
        "else:\n",
        "  print('x is more than 0')\n",
        "print('All done!')"
      ],
      "execution_count": null,
      "outputs": [
        {
          "output_type": "stream",
          "text": [
            "x is 0\n",
            "All done!\n"
          ],
          "name": "stdout"
        }
      ]
    },
    {
      "cell_type": "markdown",
      "metadata": {
        "id": "TYZ4j8OfHFVb"
      },
      "source": [
        "Try/except\n",
        "- If code in try work,  except is skipped\n",
        "- If code in try fails, jumps to except"
      ]
    },
    {
      "cell_type": "code",
      "metadata": {
        "colab": {
          "base_uri": "https://localhost:8080/"
        },
        "id": "hyBWV4MzGhjL",
        "outputId": "dbf117c3-dfce-4bb2-fc1d-79e59ddaf45c"
      },
      "source": [
        "rawstr = input('Enter a numner:')\n",
        "try:\n",
        "  ival = int(rawstr)\n",
        "except:\n",
        "  ival = -1\n",
        "\n",
        "if ival > 0:\n",
        "  print('Nice work')\n",
        "else:\n",
        "  print('Not a number')"
      ],
      "execution_count": null,
      "outputs": [
        {
          "output_type": "stream",
          "text": [
            "Enter a numner:n\n",
            "Not a number\n"
          ],
          "name": "stdout"
        }
      ]
    },
    {
      "cell_type": "markdown",
      "metadata": {
        "id": "ZP1a-2HhTQJq"
      },
      "source": [
        "Functions\n",
        "- Use `def` to define new function\n",
        "- Indent body of function"
      ]
    },
    {
      "cell_type": "code",
      "metadata": {
        "colab": {
          "base_uri": "https://localhost:8080/"
        },
        "id": "aid5yVE4WHEj",
        "outputId": "dad99808-8be6-4a54-e5d2-e337e6d0bc02"
      },
      "source": [
        "def add_one(x):\n",
        "  x = x + 1\n",
        "  return x\n",
        "\n",
        "y = add_one(2)\n",
        "print(y)"
      ],
      "execution_count": null,
      "outputs": [
        {
          "output_type": "stream",
          "text": [
            "3\n"
          ],
          "name": "stdout"
        }
      ]
    },
    {
      "cell_type": "markdown",
      "metadata": {
        "id": "0jcXhy0KChFs"
      },
      "source": [
        "Loops and iterations\n",
        "- Beware of loops that never escape (infinite)"
      ]
    },
    {
      "cell_type": "code",
      "metadata": {
        "colab": {
          "base_uri": "https://localhost:8080/"
        },
        "id": "KIC0wUimCgMU",
        "outputId": "77240613-1a1c-44f8-9546-50c9426a1126"
      },
      "source": [
        "n = 3\n",
        "while n> 0:\n",
        "  print(n)\n",
        "  n = n - 1\n",
        "print('Blast off!')"
      ],
      "execution_count": 1,
      "outputs": [
        {
          "output_type": "stream",
          "text": [
            "3\n",
            "2\n",
            "1\n",
            "Blast off!\n"
          ],
          "name": "stdout"
        }
      ]
    },
    {
      "cell_type": "markdown",
      "metadata": {
        "id": "fWFhpoG3Ejtv"
      },
      "source": [
        "- `break` to break out of the loop and jumps to the next statement following loop"
      ]
    },
    {
      "cell_type": "code",
      "metadata": {
        "colab": {
          "base_uri": "https://localhost:8080/"
        },
        "id": "CTXEV4xoD7YC",
        "outputId": "a01e82e0-fd9f-4616-a06b-050f41bc727b"
      },
      "source": [
        "while True:\n",
        "  line = input('> ')\n",
        "  if line == 'done':\n",
        "    break\n",
        "  print(line)\n",
        "print('Done')"
      ],
      "execution_count": 2,
      "outputs": [
        {
          "output_type": "stream",
          "text": [
            "> 1\n",
            "1\n",
            "> completed\n",
            "completed\n",
            "> done\n",
            "Done\n"
          ],
          "name": "stdout"
        }
      ]
    },
    {
      "cell_type": "markdown",
      "metadata": {
        "id": "CxpOPxsXEmKy"
      },
      "source": [
        "- `continue` ends the current iteration and junps back to the top of the loop and start the next iteration"
      ]
    },
    {
      "cell_type": "code",
      "metadata": {
        "colab": {
          "base_uri": "https://localhost:8080/"
        },
        "id": "nKgV3VxlEy_e",
        "outputId": "19e92226-90d7-41ab-9f0e-4a7cc37edec4"
      },
      "source": [
        "while True:\n",
        "  line = input('> ')\n",
        "  if line[0] == '#':\n",
        "    continue\n",
        "  if line == 'done':\n",
        "    break\n",
        "  print(line)\n",
        "print('Done!')"
      ],
      "execution_count": 3,
      "outputs": [
        {
          "output_type": "stream",
          "text": [
            "> 1\n",
            "1\n",
            "> # 1\n",
            "> done\n",
            "Done!\n"
          ],
          "name": "stdout"
        }
      ]
    },
    {
      "cell_type": "markdown",
      "metadata": {
        "id": "250xFrtPF3Nk"
      },
      "source": [
        "- Definite loops loop over a defined number of times"
      ]
    },
    {
      "cell_type": "code",
      "metadata": {
        "colab": {
          "base_uri": "https://localhost:8080/"
        },
        "id": "aUnce0HJGCgt",
        "outputId": "a0b79286-4a0e-4cbf-e27e-9e9714167ce7"
      },
      "source": [
        "for i in [3, 2, 1]:\n",
        "  print(i)\n",
        "print('Blastoff!')"
      ],
      "execution_count": 4,
      "outputs": [
        {
          "output_type": "stream",
          "text": [
            "3\n",
            "2\n",
            "1\n",
            "Blastoff!\n"
          ],
          "name": "stdout"
        }
      ]
    },
    {
      "cell_type": "code",
      "metadata": {
        "colab": {
          "base_uri": "https://localhost:8080/"
        },
        "id": "CJ74FmucGV5P",
        "outputId": "e914cae9-216c-4059-8a39-8b4ad50ef3e7"
      },
      "source": [
        "friends = ['A', 'B', 'C']\n",
        "for friend in friends:\n",
        "  print('Happy New Year:', friend)\n",
        "print('I\\'m done with all of you')"
      ],
      "execution_count": 6,
      "outputs": [
        {
          "output_type": "stream",
          "text": [
            "Happy New Year: A\n",
            "Happy New Year: B\n",
            "Happy New Year: C\n",
            "I'm done with all of you\n"
          ],
          "name": "stdout"
        }
      ]
    },
    {
      "cell_type": "code",
      "metadata": {
        "colab": {
          "base_uri": "https://localhost:8080/"
        },
        "id": "LtktfJiyImlG",
        "outputId": "07060dc9-d849-4d83-cf3a-2d2859efa976"
      },
      "source": [
        "smallest = None\n",
        "print(\"Before:\", smallest)\n",
        "for itervar in [3, 41, 12, 9, 74, 15]:\n",
        "    if smallest is None or itervar < smallest:\n",
        "        smallest = itervar\n",
        "    print(\"Loop:\", itervar, smallest)\n",
        "print(\"Smallest:\", smallest)"
      ],
      "execution_count": 7,
      "outputs": [
        {
          "output_type": "stream",
          "text": [
            "Before: None\n",
            "Loop: 3 3\n",
            "Loop: 41 3\n",
            "Loop: 12 3\n",
            "Loop: 9 3\n",
            "Loop: 74 3\n",
            "Loop: 15 3\n",
            "Smallest: 3\n"
          ],
          "name": "stdout"
        }
      ]
    },
    {
      "cell_type": "code",
      "metadata": {
        "colab": {
          "base_uri": "https://localhost:8080/"
        },
        "id": "a98J0-S_LLQo",
        "outputId": "3548e494-ceae-4aa3-ea2e-f21735a1df1f"
      },
      "source": [
        "5!=4"
      ],
      "execution_count": 8,
      "outputs": [
        {
          "output_type": "execute_result",
          "data": {
            "text/plain": [
              "True"
            ]
          },
          "metadata": {
            "tags": []
          },
          "execution_count": 8
        }
      ]
    }
  ]
}