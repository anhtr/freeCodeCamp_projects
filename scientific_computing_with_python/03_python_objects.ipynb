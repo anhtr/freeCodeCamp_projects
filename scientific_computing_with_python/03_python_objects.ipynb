{
  "nbformat": 4,
  "nbformat_minor": 0,
  "metadata": {
    "colab": {
      "name": "03_python_objects.ipynb",
      "provenance": [],
      "authorship_tag": "ABX9TyPyEkA3RerJoCzJjqHvPMfq",
      "include_colab_link": true
    },
    "kernelspec": {
      "name": "python3",
      "display_name": "Python 3"
    },
    "language_info": {
      "name": "python"
    }
  },
  "cells": [
    {
      "cell_type": "markdown",
      "metadata": {
        "id": "view-in-github",
        "colab_type": "text"
      },
      "source": [
        "<a href=\"https://colab.research.google.com/github/anhtr/freeCodeCamp_projects/blob/master/scientific_computing_with_python/03_python_objects.ipynb\" target=\"_parent\"><img src=\"https://colab.research.google.com/assets/colab-badge.svg\" alt=\"Open In Colab\"/></a>"
      ]
    },
    {
      "cell_type": "markdown",
      "metadata": {
        "id": "6nni5Go01gdB"
      },
      "source": [
        "**Object-oriented** \n",
        "\n",
        "Object-oriented program:\n",
        "- a program is made up of many cooperating objects.\n",
        "- instead of being the whole program, each object is a little island within the program and cooperatively working with other objects.\n",
        "- a program is made up of one or more objects working together. Objects make use of each other's capabalities.\n",
        "\n",
        "Object:\n",
        "- an object is a bit of self-contained code and data.\n",
        "- a key aspect of the object approach is to break the problem into smaller understandable parts (devide and conquer).\n",
        "- objects have boundary that allow us to igure unneeded detail.\n",
        "- In python, we have used in past lectures: String Objects, Integer Objects, Dictionary Objects, List Objects...\n",
        "- Roughly how it works: input -> objects get created and used -> output. Think of data as moving between the objects (bits of code/data).\n",
        "- Definitions:\n",
        " + Class: a template (e.g. `dog` class)\n",
        " + Method or Message: a defined capability of a class (e.g. `bark()`)\n",
        " + Field or Attribute: A bit of data in a class (e.g. `length`)\n",
        " + Object or Instance: A partcular instance of a class (e.g. `Lassie` is a particular `dog`)\n"
      ]
    },
    {
      "cell_type": "markdown",
      "metadata": {
        "id": "kCSLcUA8dNeg"
      },
      "source": [
        "A sample class in Python"
      ]
    },
    {
      "cell_type": "code",
      "metadata": {
        "id": "S2iwpgfPTk0P",
        "colab": {
          "base_uri": "https://localhost:8080/"
        },
        "outputId": "a65210a0-6d95-4c69-ee51-11eecc7e4709"
      },
      "source": [
        "class PartyAnimal: # class is a reserved word\n",
        "  x = 0 # Each PartyAnimal object has a bit of data\n",
        "\n",
        "  def party(self): # a bit of code, self is an alias for the instance\n",
        "    self.x = self.x + 1\n",
        "    print(\"So far\", self.x)\n",
        "\n",
        "an = PartyAnimal() # construct a PartyAnimal object and store in an\n",
        "\n",
        "an.party() # tell an object to run the party() code within it\n",
        "an.party() # same as PartyAnimal.party(an)\n",
        "an.party()\n",
        "PartyAnimal.party(an)"
      ],
      "execution_count": 2,
      "outputs": [
        {
          "output_type": "stream",
          "text": [
            "So far 1\n",
            "So far 2\n",
            "So far 3\n",
            "So far 4\n"
          ],
          "name": "stdout"
        }
      ]
    },
    {
      "cell_type": "markdown",
      "metadata": {
        "id": "RF67zwAde4I5"
      },
      "source": [
        "dir() and type()\n",
        "- Find capabilities with dir()\n",
        "  + Ignore the ones with underscore as they are used by Python itself.\n",
        "  + The rest are real operatios that the object can perform."
      ]
    },
    {
      "cell_type": "code",
      "metadata": {
        "colab": {
          "base_uri": "https://localhost:8080/"
        },
        "id": "JfCy6aYKiTOT",
        "outputId": "da03824d-00f6-4dd2-93b5-4ab1b2cc28c1"
      },
      "source": [
        "class PartyAnimal:\n",
        "    x = 0\n",
        "    def party(self):\n",
        "        self.x = self.x + 2\n",
        "        print(self.x)\n",
        "\n",
        "an = PartyAnimal()\n",
        "\n",
        "print(\"Type\", type(an))\n",
        "print(\"Dir\", dir(an))"
      ],
      "execution_count": 19,
      "outputs": [
        {
          "output_type": "stream",
          "text": [
            "Type <class '__main__.PartyAnimal'>\n",
            "Dir ['__class__', '__delattr__', '__dict__', '__dir__', '__doc__', '__eq__', '__format__', '__ge__', '__getattribute__', '__gt__', '__hash__', '__init__', '__init_subclass__', '__le__', '__lt__', '__module__', '__ne__', '__new__', '__reduce__', '__reduce_ex__', '__repr__', '__setattr__', '__sizeof__', '__str__', '__subclasshook__', '__weakref__', 'party', 'x']\n"
          ],
          "name": "stdout"
        }
      ]
    },
    {
      "cell_type": "markdown",
      "metadata": {
        "id": "lUTGPgYKzidO"
      },
      "source": [
        "Object lifecycle\n",
        "- Objects are created, used and discarded\n",
        "- Special blocks of code (methods) get called:\n",
        "  + At the moment of creation (constructor). Used a lot.\n",
        "  + At the moment of destruction (destructor). Seldom used.\n",
        "- Constructor: \n",
        "  + set up some instance variables to have the proper initial values when the object is created.\n",
        "  + in OOP, a constructor in a class is a special block of statements called when an object is created.\n",
        "  + an have additional parameter\n"
      ]
    },
    {
      "cell_type": "code",
      "metadata": {
        "colab": {
          "base_uri": "https://localhost:8080/"
        },
        "id": "iHINtUwy0PJb",
        "outputId": "9c070641-16f7-4d4e-b596-ddfacf999b44"
      },
      "source": [
        "class PartyAnimal:\n",
        "  x = 0\n",
        "\n",
        "  def __init__(self):\n",
        "    print('I am constructed')\n",
        "\n",
        "  def party(self):\n",
        "    self.x = self.x + 1\n",
        "    print('So far', self.x)\n",
        "  \n",
        "  def __del__(self):\n",
        "    print('I am destructed', self.x)\n",
        "\n",
        "an = PartyAnimal()\n",
        "an.party()\n",
        "an.party()\n",
        "an = 42 # this is when the object is destructed\n",
        "print('an contains', an)"
      ],
      "execution_count": 20,
      "outputs": [
        {
          "output_type": "stream",
          "text": [
            "I am constructed\n",
            "So far 1\n",
            "So far 2\n",
            "I am destructed 2\n",
            "an contains 42\n"
          ],
          "name": "stdout"
        }
      ]
    },
    {
      "cell_type": "code",
      "metadata": {
        "colab": {
          "base_uri": "https://localhost:8080/"
        },
        "id": "EuI2Gipq1zoq",
        "outputId": "9869199c-263c-4167-f4e9-f0b3da85d6f8"
      },
      "source": [
        "class PartyAnimal:\n",
        "    x = 0\n",
        "    name = ''\n",
        "    def __init__(self, nam):\n",
        "        self.name = nam\n",
        "        print(self.name,'constructed')\n",
        "    def party(self):\n",
        "        self.x = self.x + 1\n",
        "        print(self.name,'party count',self.x)\n",
        "\n",
        "q = PartyAnimal('Quincy')\n",
        "m = PartyAnimal('Miya')\n",
        "\n",
        "q.party()\n",
        "m.party()\n",
        "q.party()"
      ],
      "execution_count": 21,
      "outputs": [
        {
          "output_type": "stream",
          "text": [
            "Quincy constructed\n",
            "Miya constructed\n",
            "Quincy party count 1\n",
            "Miya party count 1\n",
            "Quincy party count 2\n"
          ],
          "name": "stdout"
        }
      ]
    },
    {
      "cell_type": "markdown",
      "metadata": {
        "id": "V2sTlLRLBTID"
      },
      "source": [
        "Inheritance:\n",
        "- Reuse an existing class and inherit all the capabilities of an existing class (parent) then add own bits to make a new class (child).\n",
        "- Subclassing.\n",
        "- Another form of store and reuse.\n"
      ]
    },
    {
      "cell_type": "code",
      "metadata": {
        "colab": {
          "base_uri": "https://localhost:8080/"
        },
        "id": "87P5b6AmCDs-",
        "outputId": "6156c3b2-cae0-43ff-cb02-0e14861000dc"
      },
      "source": [
        "class PartyAnimal:\n",
        "    x = 0\n",
        "    name = ''\n",
        "    def __init__(self, nam):\n",
        "        self.name = nam\n",
        "        print(self.name,'constructed')\n",
        "    def party(self):\n",
        "        self.x = self.x + 1\n",
        "        print(self.name,'party count',self.x)\n",
        "\n",
        "class FootballFan(PartyAnimal):\n",
        "  points = 0\n",
        "  def touchdown(self):\n",
        "    self.points = self.points + 7\n",
        "    self.party()\n",
        "    print(self.name, 'points', self.points)\n",
        "\n",
        "s = PartyAnimal('Sally')\n",
        "s.party()\n",
        "\n",
        "j = FootballFan('Jim')\n",
        "j.party()\n",
        "j.touchdown()"
      ],
      "execution_count": 23,
      "outputs": [
        {
          "output_type": "stream",
          "text": [
            "Sally constructed\n",
            "Sally party count 1\n",
            "Jim constructed\n",
            "Jim party count 1\n",
            "Jim party count 2\n",
            "Jim points 7\n"
          ],
          "name": "stdout"
        }
      ]
    }
  ]
}